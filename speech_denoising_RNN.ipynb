{
 "cells": [
  {
   "cell_type": "code",
   "execution_count": 1,
   "id": "aab9d727",
   "metadata": {},
   "outputs": [],
   "source": [
    "import warnings\n",
    "import os\n",
    "warnings.filterwarnings('ignore')\n",
    "os.environ['TF_CPP_MIN_LOG_LEVEL'] = '3' "
   ]
  },
  {
   "cell_type": "code",
   "execution_count": 2,
   "id": "d3289970",
   "metadata": {},
   "outputs": [],
   "source": [
    "import tensorflow as tf\n",
    "from tensorflow.keras import datasets, layers, models, regularizers, optimizers\n",
    "from tensorflow.keras.callbacks import Callback\n",
    "import matplotlib.pyplot as plt\n",
    "import numpy as np\n",
    "from tensorflow import keras\n",
    "import pickle\n",
    "import librosa\n",
    "import random\n",
    "import glob\n",
    "import soundfile as sf\n",
    "import pandas as pd\n",
    "from tqdm import tqdm\n",
    "from tensorflow.keras.models import Sequential\n",
    "from tensorflow.keras.layers import Input, LSTM, Dense"
   ]
  },
  {
   "cell_type": "code",
   "execution_count": 3,
   "id": "43b15722",
   "metadata": {},
   "outputs": [],
   "source": [
    "# gpus = tf.config.experimental.list_physical_devices('GPU')\n",
    "# if gpus:\n",
    "#     try:\n",
    "#         for gpu in gpus:\n",
    "#             tf.config.experimental.set_memory_growth(gpu, True)\n",
    "#     except RuntimeError as e:\n",
    "#         print(e)"
   ]
  },
  {
   "cell_type": "markdown",
   "id": "be3384ae",
   "metadata": {},
   "source": [
    "## Speech Denoising Using RNN"
   ]
  },
  {
   "cell_type": "markdown",
   "id": "7fb54b4a",
   "metadata": {},
   "source": [
    "### Loading and Processing Data"
   ]
  },
  {
   "cell_type": "code",
   "execution_count": 3,
   "id": "c75489e5",
   "metadata": {},
   "outputs": [],
   "source": [
    "path = 'timit-homework'\n",
    "train_path = path +'/tr/'\n",
    "test_path = path + '/te/'\n",
    "val_path = path+'/v/'\n",
    "train_files = os.listdir(train_path)\n",
    "test_files = os.listdir(test_path)\n",
    "val_files = os.listdir(val_path)\n",
    "trx = sorted([file for file in train_files if file.startswith('trx')])\n",
    "trs = sorted([file for file in train_files if file.startswith('trs')])\n",
    "trn = sorted([file for file in train_files if file.startswith('trn')])\n",
    "vx = sorted([file for file in val_files if file.startswith('vx')])\n",
    "vs = sorted([file for file in val_files if file.startswith('vs')])\n",
    "vn = sorted([file for file in val_files if file.startswith('vn')])\n",
    "tex = sorted([file for file in test_files if file.startswith('tex')])"
   ]
  },
  {
   "cell_type": "code",
   "execution_count": 4,
   "id": "aa0e06de",
   "metadata": {},
   "outputs": [],
   "source": [
    "def load_files(path, files):  \n",
    "    spectogram = []\n",
    "    spectogram_mag = []\n",
    "    for file in tqdm(files):\n",
    "        s, sr = librosa.load(path+file, sr=None)\n",
    "        S=librosa.stft(s, n_fft=1024, hop_length=512)\n",
    "        spectogram.append(S)\n",
    "        s_abs = np.abs(S)\n",
    "        spectogram_mag.append(s_abs)\n",
    "        del s,S,s_abs\n",
    "    return spectogram, spectogram_mag"
   ]
  },
  {
   "cell_type": "code",
   "execution_count": 5,
   "id": "5d977537",
   "metadata": {},
   "outputs": [
    {
     "name": "stderr",
     "output_type": "stream",
     "text": [
      "100%|█████████████████████████████████████████| 1200/1200 [00:35<00:00, 34.01it/s]\n",
      "100%|█████████████████████████████████████████| 1200/1200 [00:18<00:00, 63.84it/s]\n",
      "100%|█████████████████████████████████████████| 1200/1200 [00:18<00:00, 63.84it/s]\n"
     ]
    }
   ],
   "source": [
    "X_val_spect, X_val = load_files(val_path, vx)\n",
    "S_val_spect, S_val = load_files(val_path, vs)\n",
    "N_val_spect, N_val = load_files(val_path, vn)"
   ]
  },
  {
   "cell_type": "code",
   "execution_count": 7,
   "id": "12eeb2b4",
   "metadata": {},
   "outputs": [
    {
     "name": "stderr",
     "output_type": "stream",
     "text": [
      "100%|████████████████████████████████████████| 1200/1200 [00:04<00:00, 274.30it/s]\n",
      "100%|████████████████████████████████████████| 1200/1200 [00:03<00:00, 316.71it/s]\n",
      "100%|████████████████████████████████████████| 1200/1200 [00:03<00:00, 303.42it/s]\n"
     ]
    }
   ],
   "source": [
    "X_tr_spect, X_tr = load_files(train_path, trx)\n",
    "S_tr_spect, S_tr = load_files(train_path, trs)\n",
    "N_tr_spect, N_tr = load_files(train_path, trn)"
   ]
  },
  {
   "cell_type": "code",
   "execution_count": 8,
   "id": "4f9fe645",
   "metadata": {},
   "outputs": [],
   "source": [
    "def pad(matrix):\n",
    "    for i in range(len(matrix)):\n",
    "        pad = 10 - (matrix[i].shape[1] % 10)\n",
    "        small_value = np.random.normal(0,0.00001, size = [matrix[i].shape[0],int(pad)])\n",
    "        matrix[i] = np.concatenate((matrix[i],small_value), axis = 1)"
   ]
  },
  {
   "cell_type": "code",
   "execution_count": 9,
   "id": "2ae6cdd6",
   "metadata": {},
   "outputs": [],
   "source": [
    "pad(X_tr)\n",
    "pad(S_tr)\n",
    "pad(N_tr)\n",
    "pad(X_val)\n",
    "pad(S_val)\n",
    "pad(N_val)"
   ]
  },
  {
   "cell_type": "code",
   "execution_count": 17,
   "id": "6fbccd3b",
   "metadata": {},
   "outputs": [],
   "source": [
    "# def IBM(clean_mag, noise_mag):\n",
    "#     \"\"\"Create IBM following equation (10)\"\"\"\n",
    "#     return (signal > noise)*1\n",
    "def IBM(clean_mag, noise_mag):\n",
    "    \"\"\"\n",
    "    M_f,t^(l) = 1 if |S_tr^(l)|_f,t > |N_tr^(l)|_f,t\n",
    "                0 if |S_tr^(l)|_f,t ≤ |N_tr^(l)|_f,t\n",
    "    \"\"\"\n",
    "    clean_mag = np.abs(clean_mag)\n",
    "    noise_mag = np.abs(noise_mag)\n",
    "    \n",
    "    min_len = min(clean_mag.shape[1], noise_mag.shape[1])\n",
    "    \n",
    "    clean_truncated = clean_mag[:, :min_len]\n",
    "    noise_truncated = noise_mag[:, :min_len]\n",
    "    mask = (clean_truncated > noise_truncated).astype(np.float32)\n",
    "    \n",
    "    return mask"
   ]
  },
  {
   "cell_type": "code",
   "execution_count": 18,
   "id": "15cafb45",
   "metadata": {},
   "outputs": [],
   "source": [
    "Mask=[]\n",
    "for signal, noise in zip(S_tr,N_tr):\n",
    "    Mask.append(IBM(signal, noise))\n",
    "\n",
    "Mask_val=[]\n",
    "for signal, noise in zip(S_val,N_val):\n",
    "    Mask_val.append(IBM(signal, noise))"
   ]
  },
  {
   "cell_type": "code",
   "execution_count": 19,
   "id": "32faa2c5",
   "metadata": {},
   "outputs": [],
   "source": [
    "def batches(X):\n",
    "    batch = []\n",
    "    for arr in X:\n",
    "        arr2 = []\n",
    "        for col in range(arr.shape[1]//10):\n",
    "            temp_arr = arr[:,10*col:10*col+10]\n",
    "            arr2.append(temp_arr)\n",
    "        arr2 = np.array(arr2)\n",
    "        batch.append(arr2)\n",
    "    return np.concatenate(batch)\n",
    "\n",
    "X_tr_batch = batches(X_tr)\n",
    "X_val_batch = batches(X_val)\n",
    "\n",
    "Mask_batch = batches(Mask)\n",
    "Mask_batch_val = batches(Mask_val)"
   ]
  },
  {
   "cell_type": "markdown",
   "id": "585dc77e",
   "metadata": {},
   "source": [
    "### RNN Network"
   ]
  },
  {
   "cell_type": "code",
   "execution_count": 20,
   "id": "970eb404",
   "metadata": {},
   "outputs": [],
   "source": [
    "from tensorflow.keras.layers import InputLayer, GRU, Dense, Masking, Dropout, Bidirectional\n",
    "\n",
    "rnn_model = models.Sequential([\n",
    "            InputLayer(shape = (None, 513)),\n",
    "            Masking(mask_value=0.0),\n",
    "            GRU(513, return_sequences = True),\n",
    "            Dropout(0.1),\n",
    "            GRU(513, return_sequences = True),\n",
    "            Dropout(0.1),\n",
    "#             GRU(513, return_sequences = True),\n",
    "#             Dropout(0.1),\n",
    "            Dense(513, activation='sigmoid'),\n",
    "])"
   ]
  },
  {
   "cell_type": "code",
   "execution_count": 21,
   "id": "8834d0c7",
   "metadata": {},
   "outputs": [
    {
     "data": {
      "text/html": [
       "<pre style=\"white-space:pre;overflow-x:auto;line-height:normal;font-family:Menlo,'DejaVu Sans Mono',consolas,'Courier New',monospace\"><span style=\"font-weight: bold\">Model: \"sequential_1\"</span>\n",
       "</pre>\n"
      ],
      "text/plain": [
       "\u001b[1mModel: \"sequential_1\"\u001b[0m\n"
      ]
     },
     "metadata": {},
     "output_type": "display_data"
    },
    {
     "data": {
      "text/html": [
       "<pre style=\"white-space:pre;overflow-x:auto;line-height:normal;font-family:Menlo,'DejaVu Sans Mono',consolas,'Courier New',monospace\">┏━━━━━━━━━━━━━━━━━━━━━━━━━━━━━━━━━┳━━━━━━━━━━━━━━━━━━━━━━━━┳━━━━━━━━━━━━━━━┓\n",
       "┃<span style=\"font-weight: bold\"> Layer (type)                    </span>┃<span style=\"font-weight: bold\"> Output Shape           </span>┃<span style=\"font-weight: bold\">       Param # </span>┃\n",
       "┡━━━━━━━━━━━━━━━━━━━━━━━━━━━━━━━━━╇━━━━━━━━━━━━━━━━━━━━━━━━╇━━━━━━━━━━━━━━━┩\n",
       "│ masking_1 (<span style=\"color: #0087ff; text-decoration-color: #0087ff\">Masking</span>)             │ (<span style=\"color: #00d7ff; text-decoration-color: #00d7ff\">None</span>, <span style=\"color: #00d7ff; text-decoration-color: #00d7ff\">None</span>, <span style=\"color: #00af00; text-decoration-color: #00af00\">513</span>)      │             <span style=\"color: #00af00; text-decoration-color: #00af00\">0</span> │\n",
       "├─────────────────────────────────┼────────────────────────┼───────────────┤\n",
       "│ gru_2 (<span style=\"color: #0087ff; text-decoration-color: #0087ff\">GRU</span>)                     │ (<span style=\"color: #00d7ff; text-decoration-color: #00d7ff\">None</span>, <span style=\"color: #00d7ff; text-decoration-color: #00d7ff\">None</span>, <span style=\"color: #00af00; text-decoration-color: #00af00\">513</span>)      │     <span style=\"color: #00af00; text-decoration-color: #00af00\">1,582,092</span> │\n",
       "├─────────────────────────────────┼────────────────────────┼───────────────┤\n",
       "│ dropout_2 (<span style=\"color: #0087ff; text-decoration-color: #0087ff\">Dropout</span>)             │ (<span style=\"color: #00d7ff; text-decoration-color: #00d7ff\">None</span>, <span style=\"color: #00d7ff; text-decoration-color: #00d7ff\">None</span>, <span style=\"color: #00af00; text-decoration-color: #00af00\">513</span>)      │             <span style=\"color: #00af00; text-decoration-color: #00af00\">0</span> │\n",
       "├─────────────────────────────────┼────────────────────────┼───────────────┤\n",
       "│ gru_3 (<span style=\"color: #0087ff; text-decoration-color: #0087ff\">GRU</span>)                     │ (<span style=\"color: #00d7ff; text-decoration-color: #00d7ff\">None</span>, <span style=\"color: #00d7ff; text-decoration-color: #00d7ff\">None</span>, <span style=\"color: #00af00; text-decoration-color: #00af00\">513</span>)      │     <span style=\"color: #00af00; text-decoration-color: #00af00\">1,582,092</span> │\n",
       "├─────────────────────────────────┼────────────────────────┼───────────────┤\n",
       "│ dropout_3 (<span style=\"color: #0087ff; text-decoration-color: #0087ff\">Dropout</span>)             │ (<span style=\"color: #00d7ff; text-decoration-color: #00d7ff\">None</span>, <span style=\"color: #00d7ff; text-decoration-color: #00d7ff\">None</span>, <span style=\"color: #00af00; text-decoration-color: #00af00\">513</span>)      │             <span style=\"color: #00af00; text-decoration-color: #00af00\">0</span> │\n",
       "├─────────────────────────────────┼────────────────────────┼───────────────┤\n",
       "│ dense_1 (<span style=\"color: #0087ff; text-decoration-color: #0087ff\">Dense</span>)                 │ (<span style=\"color: #00d7ff; text-decoration-color: #00d7ff\">None</span>, <span style=\"color: #00d7ff; text-decoration-color: #00d7ff\">None</span>, <span style=\"color: #00af00; text-decoration-color: #00af00\">513</span>)      │       <span style=\"color: #00af00; text-decoration-color: #00af00\">263,682</span> │\n",
       "└─────────────────────────────────┴────────────────────────┴───────────────┘\n",
       "</pre>\n"
      ],
      "text/plain": [
       "┏━━━━━━━━━━━━━━━━━━━━━━━━━━━━━━━━━┳━━━━━━━━━━━━━━━━━━━━━━━━┳━━━━━━━━━━━━━━━┓\n",
       "┃\u001b[1m \u001b[0m\u001b[1mLayer (type)                   \u001b[0m\u001b[1m \u001b[0m┃\u001b[1m \u001b[0m\u001b[1mOutput Shape          \u001b[0m\u001b[1m \u001b[0m┃\u001b[1m \u001b[0m\u001b[1m      Param #\u001b[0m\u001b[1m \u001b[0m┃\n",
       "┡━━━━━━━━━━━━━━━━━━━━━━━━━━━━━━━━━╇━━━━━━━━━━━━━━━━━━━━━━━━╇━━━━━━━━━━━━━━━┩\n",
       "│ masking_1 (\u001b[38;5;33mMasking\u001b[0m)             │ (\u001b[38;5;45mNone\u001b[0m, \u001b[38;5;45mNone\u001b[0m, \u001b[38;5;34m513\u001b[0m)      │             \u001b[38;5;34m0\u001b[0m │\n",
       "├─────────────────────────────────┼────────────────────────┼───────────────┤\n",
       "│ gru_2 (\u001b[38;5;33mGRU\u001b[0m)                     │ (\u001b[38;5;45mNone\u001b[0m, \u001b[38;5;45mNone\u001b[0m, \u001b[38;5;34m513\u001b[0m)      │     \u001b[38;5;34m1,582,092\u001b[0m │\n",
       "├─────────────────────────────────┼────────────────────────┼───────────────┤\n",
       "│ dropout_2 (\u001b[38;5;33mDropout\u001b[0m)             │ (\u001b[38;5;45mNone\u001b[0m, \u001b[38;5;45mNone\u001b[0m, \u001b[38;5;34m513\u001b[0m)      │             \u001b[38;5;34m0\u001b[0m │\n",
       "├─────────────────────────────────┼────────────────────────┼───────────────┤\n",
       "│ gru_3 (\u001b[38;5;33mGRU\u001b[0m)                     │ (\u001b[38;5;45mNone\u001b[0m, \u001b[38;5;45mNone\u001b[0m, \u001b[38;5;34m513\u001b[0m)      │     \u001b[38;5;34m1,582,092\u001b[0m │\n",
       "├─────────────────────────────────┼────────────────────────┼───────────────┤\n",
       "│ dropout_3 (\u001b[38;5;33mDropout\u001b[0m)             │ (\u001b[38;5;45mNone\u001b[0m, \u001b[38;5;45mNone\u001b[0m, \u001b[38;5;34m513\u001b[0m)      │             \u001b[38;5;34m0\u001b[0m │\n",
       "├─────────────────────────────────┼────────────────────────┼───────────────┤\n",
       "│ dense_1 (\u001b[38;5;33mDense\u001b[0m)                 │ (\u001b[38;5;45mNone\u001b[0m, \u001b[38;5;45mNone\u001b[0m, \u001b[38;5;34m513\u001b[0m)      │       \u001b[38;5;34m263,682\u001b[0m │\n",
       "└─────────────────────────────────┴────────────────────────┴───────────────┘\n"
      ]
     },
     "metadata": {},
     "output_type": "display_data"
    },
    {
     "data": {
      "text/html": [
       "<pre style=\"white-space:pre;overflow-x:auto;line-height:normal;font-family:Menlo,'DejaVu Sans Mono',consolas,'Courier New',monospace\"><span style=\"font-weight: bold\"> Total params: </span><span style=\"color: #00af00; text-decoration-color: #00af00\">3,427,866</span> (13.08 MB)\n",
       "</pre>\n"
      ],
      "text/plain": [
       "\u001b[1m Total params: \u001b[0m\u001b[38;5;34m3,427,866\u001b[0m (13.08 MB)\n"
      ]
     },
     "metadata": {},
     "output_type": "display_data"
    },
    {
     "data": {
      "text/html": [
       "<pre style=\"white-space:pre;overflow-x:auto;line-height:normal;font-family:Menlo,'DejaVu Sans Mono',consolas,'Courier New',monospace\"><span style=\"font-weight: bold\"> Trainable params: </span><span style=\"color: #00af00; text-decoration-color: #00af00\">3,427,866</span> (13.08 MB)\n",
       "</pre>\n"
      ],
      "text/plain": [
       "\u001b[1m Trainable params: \u001b[0m\u001b[38;5;34m3,427,866\u001b[0m (13.08 MB)\n"
      ]
     },
     "metadata": {},
     "output_type": "display_data"
    },
    {
     "data": {
      "text/html": [
       "<pre style=\"white-space:pre;overflow-x:auto;line-height:normal;font-family:Menlo,'DejaVu Sans Mono',consolas,'Courier New',monospace\"><span style=\"font-weight: bold\"> Non-trainable params: </span><span style=\"color: #00af00; text-decoration-color: #00af00\">0</span> (0.00 B)\n",
       "</pre>\n"
      ],
      "text/plain": [
       "\u001b[1m Non-trainable params: \u001b[0m\u001b[38;5;34m0\u001b[0m (0.00 B)\n"
      ]
     },
     "metadata": {},
     "output_type": "display_data"
    },
    {
     "name": "stdout",
     "output_type": "stream",
     "text": [
      "None\n"
     ]
    }
   ],
   "source": [
    "rnn_model.compile(loss='binary_crossentropy',optimizer='adam')\n",
    "print(rnn_model.summary())"
   ]
  },
  {
   "cell_type": "markdown",
   "id": "fa97e6b1",
   "metadata": {},
   "source": [
    "### Validation Loss and SNR"
   ]
  },
  {
   "cell_type": "code",
   "execution_count": 22,
   "id": "0b54403a",
   "metadata": {},
   "outputs": [
    {
     "name": "stdout",
     "output_type": "stream",
     "text": [
      "Epoch 1/50\n",
      "\u001b[1m25/25\u001b[0m \u001b[32m━━━━━━━━━━━━━━━━━━━━\u001b[0m\u001b[37m\u001b[0m \u001b[1m11s\u001b[0m 409ms/step - loss: 0.6669 - val_loss: 0.6099\n",
      "Epoch 2/50\n",
      "\u001b[1m25/25\u001b[0m \u001b[32m━━━━━━━━━━━━━━━━━━━━\u001b[0m\u001b[37m\u001b[0m \u001b[1m9s\u001b[0m 375ms/step - loss: 0.5975 - val_loss: 0.5638\n",
      "Epoch 3/50\n",
      "\u001b[1m25/25\u001b[0m \u001b[32m━━━━━━━━━━━━━━━━━━━━\u001b[0m\u001b[37m\u001b[0m \u001b[1m9s\u001b[0m 374ms/step - loss: 0.5693 - val_loss: 0.5380\n",
      "Epoch 4/50\n",
      "\u001b[1m25/25\u001b[0m \u001b[32m━━━━━━━━━━━━━━━━━━━━\u001b[0m\u001b[37m\u001b[0m \u001b[1m9s\u001b[0m 370ms/step - loss: 0.5484 - val_loss: 0.5181\n",
      "Epoch 5/50\n",
      "\u001b[1m25/25\u001b[0m \u001b[32m━━━━━━━━━━━━━━━━━━━━\u001b[0m\u001b[37m\u001b[0m \u001b[1m9s\u001b[0m 374ms/step - loss: 0.5268 - val_loss: 0.5040\n",
      "Epoch 6/50\n",
      "\u001b[1m25/25\u001b[0m \u001b[32m━━━━━━━━━━━━━━━━━━━━\u001b[0m\u001b[37m\u001b[0m \u001b[1m9s\u001b[0m 374ms/step - loss: 0.5160 - val_loss: 0.4952\n",
      "Epoch 7/50\n",
      "\u001b[1m25/25\u001b[0m \u001b[32m━━━━━━━━━━━━━━━━━━━━\u001b[0m\u001b[37m\u001b[0m \u001b[1m9s\u001b[0m 371ms/step - loss: 0.5009 - val_loss: 0.4835\n",
      "Epoch 8/50\n",
      "\u001b[1m25/25\u001b[0m \u001b[32m━━━━━━━━━━━━━━━━━━━━\u001b[0m\u001b[37m\u001b[0m \u001b[1m9s\u001b[0m 374ms/step - loss: 0.4904 - val_loss: 0.4766\n",
      "Epoch 9/50\n",
      "\u001b[1m25/25\u001b[0m \u001b[32m━━━━━━━━━━━━━━━━━━━━\u001b[0m\u001b[37m\u001b[0m \u001b[1m9s\u001b[0m 375ms/step - loss: 0.4873 - val_loss: 0.4726\n",
      "Epoch 10/50\n",
      "\u001b[1m25/25\u001b[0m \u001b[32m━━━━━━━━━━━━━━━━━━━━\u001b[0m\u001b[37m\u001b[0m \u001b[1m9s\u001b[0m 374ms/step - loss: 0.4811 - val_loss: 0.4638\n",
      "Epoch 11/50\n",
      "\u001b[1m25/25\u001b[0m \u001b[32m━━━━━━━━━━━━━━━━━━━━\u001b[0m\u001b[37m\u001b[0m \u001b[1m9s\u001b[0m 373ms/step - loss: 0.4725 - val_loss: 0.4609\n",
      "Epoch 12/50\n",
      "\u001b[1m25/25\u001b[0m \u001b[32m━━━━━━━━━━━━━━━━━━━━\u001b[0m\u001b[37m\u001b[0m \u001b[1m9s\u001b[0m 373ms/step - loss: 0.4685 - val_loss: 0.4577\n",
      "Epoch 13/50\n",
      "\u001b[1m25/25\u001b[0m \u001b[32m━━━━━━━━━━━━━━━━━━━━\u001b[0m\u001b[37m\u001b[0m \u001b[1m9s\u001b[0m 376ms/step - loss: 0.4632 - val_loss: 0.4545\n",
      "Epoch 14/50\n",
      "\u001b[1m25/25\u001b[0m \u001b[32m━━━━━━━━━━━━━━━━━━━━\u001b[0m\u001b[37m\u001b[0m \u001b[1m9s\u001b[0m 376ms/step - loss: 0.4568 - val_loss: 0.4525\n",
      "Epoch 15/50\n",
      "\u001b[1m25/25\u001b[0m \u001b[32m━━━━━━━━━━━━━━━━━━━━\u001b[0m\u001b[37m\u001b[0m \u001b[1m9s\u001b[0m 372ms/step - loss: 0.4506 - val_loss: 0.4449\n",
      "Epoch 16/50\n",
      "\u001b[1m25/25\u001b[0m \u001b[32m━━━━━━━━━━━━━━━━━━━━\u001b[0m\u001b[37m\u001b[0m \u001b[1m9s\u001b[0m 375ms/step - loss: 0.4489 - val_loss: 0.4453\n",
      "Epoch 17/50\n",
      "\u001b[1m25/25\u001b[0m \u001b[32m━━━━━━━━━━━━━━━━━━━━\u001b[0m\u001b[37m\u001b[0m \u001b[1m9s\u001b[0m 377ms/step - loss: 0.4459 - val_loss: 0.4440\n",
      "Epoch 18/50\n",
      "\u001b[1m25/25\u001b[0m \u001b[32m━━━━━━━━━━━━━━━━━━━━\u001b[0m\u001b[37m\u001b[0m \u001b[1m9s\u001b[0m 378ms/step - loss: 0.4392 - val_loss: 0.4384\n",
      "Epoch 19/50\n",
      "\u001b[1m25/25\u001b[0m \u001b[32m━━━━━━━━━━━━━━━━━━━━\u001b[0m\u001b[37m\u001b[0m \u001b[1m9s\u001b[0m 379ms/step - loss: 0.4361 - val_loss: 0.4358\n",
      "Epoch 20/50\n",
      "\u001b[1m25/25\u001b[0m \u001b[32m━━━━━━━━━━━━━━━━━━━━\u001b[0m\u001b[37m\u001b[0m \u001b[1m9s\u001b[0m 375ms/step - loss: 0.4366 - val_loss: 0.4385\n",
      "Epoch 21/50\n",
      "\u001b[1m25/25\u001b[0m \u001b[32m━━━━━━━━━━━━━━━━━━━━\u001b[0m\u001b[37m\u001b[0m \u001b[1m9s\u001b[0m 374ms/step - loss: 0.4327 - val_loss: 0.4365\n",
      "Epoch 22/50\n",
      "\u001b[1m25/25\u001b[0m \u001b[32m━━━━━━━━━━━━━━━━━━━━\u001b[0m\u001b[37m\u001b[0m \u001b[1m9s\u001b[0m 376ms/step - loss: 0.4310 - val_loss: 0.4316\n",
      "Epoch 23/50\n",
      "\u001b[1m25/25\u001b[0m \u001b[32m━━━━━━━━━━━━━━━━━━━━\u001b[0m\u001b[37m\u001b[0m \u001b[1m9s\u001b[0m 374ms/step - loss: 0.4280 - val_loss: 0.4339\n",
      "Epoch 24/50\n",
      "\u001b[1m25/25\u001b[0m \u001b[32m━━━━━━━━━━━━━━━━━━━━\u001b[0m\u001b[37m\u001b[0m \u001b[1m9s\u001b[0m 375ms/step - loss: 0.4223 - val_loss: 0.4367\n",
      "Epoch 25/50\n",
      "\u001b[1m25/25\u001b[0m \u001b[32m━━━━━━━━━━━━━━━━━━━━\u001b[0m\u001b[37m\u001b[0m \u001b[1m9s\u001b[0m 373ms/step - loss: 0.4222 - val_loss: 0.4286\n",
      "Epoch 26/50\n",
      "\u001b[1m25/25\u001b[0m \u001b[32m━━━━━━━━━━━━━━━━━━━━\u001b[0m\u001b[37m\u001b[0m \u001b[1m9s\u001b[0m 377ms/step - loss: 0.4145 - val_loss: 0.4256\n",
      "Epoch 27/50\n",
      "\u001b[1m25/25\u001b[0m \u001b[32m━━━━━━━━━━━━━━━━━━━━\u001b[0m\u001b[37m\u001b[0m \u001b[1m9s\u001b[0m 375ms/step - loss: 0.4143 - val_loss: 0.4283\n",
      "Epoch 28/50\n",
      "\u001b[1m25/25\u001b[0m \u001b[32m━━━━━━━━━━━━━━━━━━━━\u001b[0m\u001b[37m\u001b[0m \u001b[1m9s\u001b[0m 375ms/step - loss: 0.4116 - val_loss: 0.4302\n",
      "Epoch 29/50\n",
      "\u001b[1m25/25\u001b[0m \u001b[32m━━━━━━━━━━━━━━━━━━━━\u001b[0m\u001b[37m\u001b[0m \u001b[1m9s\u001b[0m 376ms/step - loss: 0.4086 - val_loss: 0.4269\n",
      "Epoch 30/50\n",
      "\u001b[1m25/25\u001b[0m \u001b[32m━━━━━━━━━━━━━━━━━━━━\u001b[0m\u001b[37m\u001b[0m \u001b[1m9s\u001b[0m 376ms/step - loss: 0.4085 - val_loss: 0.4275\n",
      "Epoch 31/50\n",
      "\u001b[1m25/25\u001b[0m \u001b[32m━━━━━━━━━━━━━━━━━━━━\u001b[0m\u001b[37m\u001b[0m \u001b[1m9s\u001b[0m 374ms/step - loss: 0.4082 - val_loss: 0.4254\n",
      "Epoch 32/50\n",
      "\u001b[1m25/25\u001b[0m \u001b[32m━━━━━━━━━━━━━━━━━━━━\u001b[0m\u001b[37m\u001b[0m \u001b[1m9s\u001b[0m 375ms/step - loss: 0.4060 - val_loss: 0.4273\n",
      "Epoch 33/50\n",
      "\u001b[1m25/25\u001b[0m \u001b[32m━━━━━━━━━━━━━━━━━━━━\u001b[0m\u001b[37m\u001b[0m \u001b[1m9s\u001b[0m 376ms/step - loss: 0.4027 - val_loss: 0.4258\n",
      "Epoch 34/50\n",
      "\u001b[1m25/25\u001b[0m \u001b[32m━━━━━━━━━━━━━━━━━━━━\u001b[0m\u001b[37m\u001b[0m \u001b[1m9s\u001b[0m 375ms/step - loss: 0.4023 - val_loss: 0.4275\n",
      "Epoch 35/50\n",
      "\u001b[1m25/25\u001b[0m \u001b[32m━━━━━━━━━━━━━━━━━━━━\u001b[0m\u001b[37m\u001b[0m \u001b[1m9s\u001b[0m 373ms/step - loss: 0.3987 - val_loss: 0.4257\n",
      "Epoch 36/50\n",
      "\u001b[1m25/25\u001b[0m \u001b[32m━━━━━━━━━━━━━━━━━━━━\u001b[0m\u001b[37m\u001b[0m \u001b[1m9s\u001b[0m 376ms/step - loss: 0.3951 - val_loss: 0.4235\n",
      "Epoch 37/50\n",
      "\u001b[1m25/25\u001b[0m \u001b[32m━━━━━━━━━━━━━━━━━━━━\u001b[0m\u001b[37m\u001b[0m \u001b[1m9s\u001b[0m 379ms/step - loss: 0.3959 - val_loss: 0.4230\n",
      "Epoch 38/50\n",
      "\u001b[1m25/25\u001b[0m \u001b[32m━━━━━━━━━━━━━━━━━━━━\u001b[0m\u001b[37m\u001b[0m \u001b[1m9s\u001b[0m 377ms/step - loss: 0.3919 - val_loss: 0.4261\n",
      "Epoch 39/50\n",
      "\u001b[1m25/25\u001b[0m \u001b[32m━━━━━━━━━━━━━━━━━━━━\u001b[0m\u001b[37m\u001b[0m \u001b[1m9s\u001b[0m 374ms/step - loss: 0.3920 - val_loss: 0.4166\n",
      "Epoch 40/50\n",
      "\u001b[1m25/25\u001b[0m \u001b[32m━━━━━━━━━━━━━━━━━━━━\u001b[0m\u001b[37m\u001b[0m \u001b[1m9s\u001b[0m 378ms/step - loss: 0.3892 - val_loss: 0.4184\n",
      "Epoch 41/50\n",
      "\u001b[1m25/25\u001b[0m \u001b[32m━━━━━━━━━━━━━━━━━━━━\u001b[0m\u001b[37m\u001b[0m \u001b[1m9s\u001b[0m 379ms/step - loss: 0.3890 - val_loss: 0.4207\n",
      "Epoch 42/50\n",
      "\u001b[1m25/25\u001b[0m \u001b[32m━━━━━━━━━━━━━━━━━━━━\u001b[0m\u001b[37m\u001b[0m \u001b[1m9s\u001b[0m 373ms/step - loss: 0.3883 - val_loss: 0.4227\n",
      "Epoch 43/50\n",
      "\u001b[1m25/25\u001b[0m \u001b[32m━━━━━━━━━━━━━━━━━━━━\u001b[0m\u001b[37m\u001b[0m \u001b[1m9s\u001b[0m 377ms/step - loss: 0.3845 - val_loss: 0.4217\n",
      "Epoch 44/50\n",
      "\u001b[1m25/25\u001b[0m \u001b[32m━━━━━━━━━━━━━━━━━━━━\u001b[0m\u001b[37m\u001b[0m \u001b[1m9s\u001b[0m 375ms/step - loss: 0.3850 - val_loss: 0.4206\n",
      "Epoch 45/50\n",
      "\u001b[1m25/25\u001b[0m \u001b[32m━━━━━━━━━━━━━━━━━━━━\u001b[0m\u001b[37m\u001b[0m \u001b[1m9s\u001b[0m 373ms/step - loss: 0.3800 - val_loss: 0.4220\n",
      "Epoch 46/50\n",
      "\u001b[1m25/25\u001b[0m \u001b[32m━━━━━━━━━━━━━━━━━━━━\u001b[0m\u001b[37m\u001b[0m \u001b[1m9s\u001b[0m 377ms/step - loss: 0.3816 - val_loss: 0.4183\n",
      "Epoch 47/50\n",
      "\u001b[1m25/25\u001b[0m \u001b[32m━━━━━━━━━━━━━━━━━━━━\u001b[0m\u001b[37m\u001b[0m \u001b[1m9s\u001b[0m 375ms/step - loss: 0.3802 - val_loss: 0.4210\n",
      "Epoch 48/50\n",
      "\u001b[1m25/25\u001b[0m \u001b[32m━━━━━━━━━━━━━━━━━━━━\u001b[0m\u001b[37m\u001b[0m \u001b[1m9s\u001b[0m 377ms/step - loss: 0.3800 - val_loss: 0.4272\n",
      "Epoch 49/50\n",
      "\u001b[1m25/25\u001b[0m \u001b[32m━━━━━━━━━━━━━━━━━━━━\u001b[0m\u001b[37m\u001b[0m \u001b[1m9s\u001b[0m 378ms/step - loss: 0.3799 - val_loss: 0.4200\n",
      "Epoch 50/50\n",
      "\u001b[1m25/25\u001b[0m \u001b[32m━━━━━━━━━━━━━━━━━━━━\u001b[0m\u001b[37m\u001b[0m \u001b[1m9s\u001b[0m 378ms/step - loss: 0.3766 - val_loss: 0.4204\n"
     ]
    }
   ],
   "source": [
    "# history = model.fit(np.transpose(X_tr_batch,(0,2,1)), np.transpose(Mask_batch,(0,2,1)),\n",
    "#                     validation_data=(np.transpose(X_val_batch,(0,2,1)), np.transpose(Mask_batch_val,(0,2,1))), \n",
    "#                     epochs = 50, batch_size = 32)\n",
    "\n",
    "with tf.device('/CPU:0'):\n",
    "    rnn_history = rnn_model.fit(np.transpose(X_tr_batch,(0,2,1)), \n",
    "                                np.transpose(Mask_batch,(0,2,1)),\n",
    "                                validation_data=(np.transpose(X_val_batch,(0,2,1)), \n",
    "                                np.transpose(Mask_batch_val,(0,2,1))), \n",
    "                                epochs = 50, \n",
    "                                batch_size = 512)"
   ]
  },
  {
   "cell_type": "code",
   "execution_count": 25,
   "id": "c998cbad",
   "metadata": {},
   "outputs": [
    {
     "data": {
      "image/png": "[encoded data removed]",
      "text/plain": [
       "<Figure size 720x432 with 1 Axes>"
      ]
     },
     "metadata": {
      "needs_background": "light"
     },
     "output_type": "display_data"
    }
   ],
   "source": [
    "plt.figure(figsize=(10, 6))\n",
    "# plt.plot(history.history['loss'], label='Training Loss')\n",
    "plt.plot(rnn_history.history['val_loss'], label='Validation Loss')\n",
    "plt.xlabel('Epochs')\n",
    "plt.ylabel('Loss')\n",
    "plt.title('Validation Loss')\n",
    "plt.legend()\n",
    "plt.show()"
   ]
  },
  {
   "cell_type": "code",
   "execution_count": 27,
   "id": "9901ed08",
   "metadata": {},
   "outputs": [
    {
     "name": "stderr",
     "output_type": "stream",
     "text": [
      "\r\n",
      "  0%|                                                    | 0/1200 [00:00<?, ?it/s]"
     ]
    },
    {
     "name": "stdout",
     "output_type": "stream",
     "text": [
      "\u001b[1m1/1\u001b[0m \u001b[32m━━━━━━━━━━━━━━━━━━━━\u001b[0m\u001b[37m\u001b[0m \u001b[1m1s\u001b[0m 1s/step\n"
     ]
    },
    {
     "name": "stderr",
     "output_type": "stream",
     "text": [
      "\r\n",
      "  0%|                                            | 1/1200 [00:01<23:06,  1.16s/it]"
     ]
    },
    {
     "name": "stdout",
     "output_type": "stream",
     "text": [
      "\u001b[1m1/1\u001b[0m \u001b[32m━━━━━━━━━━━━━━━━━━━━\u001b[0m\u001b[37m\u001b[0m \u001b[1m0s\u001b[0m 50ms/step\n",
      "\u001b[1m1/1\u001b[0m \u001b[32m━━━━━━━━━━━━━━━━━━━━\u001b[0m\u001b[37m\u001b[0m \u001b[1m0s\u001b[0m 49ms/step\n"
     ]
    },
    {
     "name": "stderr",
     "output_type": "stream",
     "text": [
      "\r\n",
      "  0%|                                            | 3/1200 [00:01<07:15,  2.75it/s]"
     ]
    },
    {
     "name": "stdout",
     "output_type": "stream",
     "text": [
      "\u001b[1m1/1\u001b[0m \u001b[32m━━━━━━━━━━━━━━━━━━━━\u001b[0m\u001b[37m\u001b[0m \u001b[1m0s\u001b[0m 49ms/step\n",
      "\u001b[1m1/1\u001b[0m \u001b[32m━━━━━━━━━━━━━━━━━━━━\u001b[0m\u001b[37m\u001b[0m \u001b[1m0s\u001b[0m 48ms/step\n"
     ]
    },
    {
     "name": "stderr",
     "output_type": "stream",
     "text": [
      "\r\n",
      "  0%|▏                                           | 5/1200 [00:01<04:19,  4.61it/s]"
     ]
    },
    {
     "name": "stdout",
     "output_type": "stream",
     "text": [
      "\u001b[1m1/1\u001b[0m \u001b[32m━━━━━━━━━━━━━━━━━━━━\u001b[0m\u001b[37m\u001b[0m \u001b[1m0s\u001b[0m 49ms/step\n",
      "\u001b[1m1/1\u001b[0m \u001b[32m━━━━━━━━━━━━━━━━━━━━\u001b[0m\u001b[37m\u001b[0m \u001b[1m0s\u001b[0m 49ms/step\n"
     ]
    },
    {
     "name": "stderr",
     "output_type": "stream",
     "text": [
      "\r\n",
      "  1%|▎                                           | 7/1200 [00:01<03:10,  6.27it/s]"
     ]
    },
    {
     "name": "stdout",
     "output_type": "stream",
     "text": [
      "\u001b[1m1/1\u001b[0m \u001b[32m━━━━━━━━━━━━━━━━━━━━\u001b[0m\u001b[37m\u001b[0m \u001b[1m0s\u001b[0m 50ms/step\n",
      "\u001b[1m1/1\u001b[0m \u001b[32m━━━━━━━━━━━━━━━━━━━━\u001b[0m\u001b[37m\u001b[0m \u001b[1m0s\u001b[0m 48ms/step\n"
     ]
    },
    {
     "name": "stderr",
     "output_type": "stream",
     "text": [
      "\r\n",
      "  1%|▎                                           | 9/1200 [00:01<02:34,  7.73it/s]"
     ]
    },
    {
     "name": "stdout",
     "output_type": "stream",
     "text": [
      "\u001b[1m1/1\u001b[0m \u001b[32m━━━━━━━━━━━━━━━━━━━━\u001b[0m\u001b[37m\u001b[0m \u001b[1m0s\u001b[0m 48ms/step\n",
      "\u001b[1m1/1\u001b[0m \u001b[32m━━━━━━━━━━━━━━━━━━━━\u001b[0m\u001b[37m\u001b[0m \u001b[1m0s\u001b[0m 150ms/step\n"
     ]
    },
    {
     "name": "stderr",
     "output_type": "stream",
     "text": [
      "\r\n",
      "  1%|▍                                          | 11/1200 [00:02<02:37,  7.57it/s]"
     ]
    },
    {
     "name": "stdout",
     "output_type": "stream",
     "text": [
      "\u001b[1m1/1\u001b[0m \u001b[32m━━━━━━━━━━━━━━━━━━━━\u001b[0m\u001b[37m\u001b[0m \u001b[1m0s\u001b[0m 51ms/step\n",
      "\u001b[1m1/1\u001b[0m \u001b[32m━━━━━━━━━━━━━━━━━━━━\u001b[0m\u001b[37m\u001b[0m \u001b[1m0s\u001b[0m 50ms/step\n"
     ]
    },
    {
     "name": "stderr",
     "output_type": "stream",
     "text": [
      "\r\n",
      "  1%|▍                                          | 13/1200 [00:02<02:34,  7.66it/s]"
     ]
    },
    {
     "name": "stdout",
     "output_type": "stream",
     "text": [
      "\u001b[1m1/1\u001b[0m \u001b[32m━━━━━━━━━━━━━━━━━━━━\u001b[0m\u001b[37m\u001b[0m \u001b[1m0s\u001b[0m 52ms/step\n",
      "\u001b[1m1/1\u001b[0m \u001b[32m━━━━━━━━━━━━━━━━━━━━\u001b[0m\u001b[37m\u001b[0m \u001b[1m0s\u001b[0m 50ms/step\n"
     ]
    },
    {
     "name": "stderr",
     "output_type": "stream",
     "text": [
      "\r\n",
      "  1%|▌                                          | 15/1200 [00:02<02:18,  8.53it/s]"
     ]
    },
    {
     "name": "stdout",
     "output_type": "stream",
     "text": [
      "\u001b[1m1/1\u001b[0m \u001b[32m━━━━━━━━━━━━━━━━━━━━\u001b[0m\u001b[37m\u001b[0m \u001b[1m0s\u001b[0m 52ms/step\n",
      "\u001b[1m1/1\u001b[0m \u001b[32m━━━━━━━━━━━━━━━━━━━━\u001b[0m\u001b[37m\u001b[0m \u001b[1m0s\u001b[0m 52ms/step\n"
     ]
    },
    {
     "name": "stderr",
     "output_type": "stream",
     "text": [
      "\r\n",
      "  1%|▌                                          | 17/1200 [00:02<02:08,  9.22it/s]"
     ]
    },
    {
     "name": "stdout",
     "output_type": "stream",
     "text": [
      "\u001b[1m1/1\u001b[0m \u001b[32m━━━━━━━━━━━━━━━━━━━━\u001b[0m\u001b[37m\u001b[0m \u001b[1m0s\u001b[0m 52ms/step\n",
      "\u001b[1m1/1\u001b[0m \u001b[32m━━━━━━━━━━━━━━━━━━━━\u001b[0m\u001b[37m\u001b[0m \u001b[1m0s\u001b[0m 50ms/step\n"
     ]
    },
    {
     "name": "stderr",
     "output_type": "stream",
     "text": [
      "\r\n",
      "  2%|▋                                          | 19/1200 [00:02<02:01,  9.71it/s]"
     ]
    },
    {
     "name": "stdout",
     "output_type": "stream",
     "text": [
      "\u001b[1m1/1\u001b[0m \u001b[32m━━━━━━━━━━━━━━━━━━━━\u001b[0m\u001b[37m\u001b[0m \u001b[1m0s\u001b[0m 50ms/step\n",
      "\u001b[1m1/1\u001b[0m \u001b[32m━━━━━━━━━━━━━━━━━━━━\u001b[0m\u001b[37m\u001b[0m \u001b[1m0s\u001b[0m 50ms/step\n"
     ]
    },
    {
     "name": "stderr",
     "output_type": "stream",
     "text": [
      "\r\n",
      "  2%|▊                                          | 21/1200 [00:03<01:57, 10.02it/s]"
     ]
    },
    {
     "name": "stdout",
     "output_type": "stream",
     "text": [
      "\u001b[1m1/1\u001b[0m \u001b[32m━━━━━━━━━━━━━━━━━━━━\u001b[0m\u001b[37m\u001b[0m \u001b[1m0s\u001b[0m 48ms/step\n",
      "\u001b[1m1/1\u001b[0m \u001b[32m━━━━━━━━━━━━━━━━━━━━\u001b[0m\u001b[37m\u001b[0m \u001b[1m0s\u001b[0m 50ms/step\n"
     ]
    },
    {
     "name": "stderr",
     "output_type": "stream",
     "text": [
      "\r\n",
      "  2%|▊                                          | 23/1200 [00:03<01:50, 10.70it/s]"
     ]
    },
    {
     "name": "stdout",
     "output_type": "stream",
     "text": [
      "\u001b[1m1/1\u001b[0m \u001b[32m━━━━━━━━━━━━━━━━━━━━\u001b[0m\u001b[37m\u001b[0m \u001b[1m0s\u001b[0m 49ms/step\n",
      "\u001b[1m1/1\u001b[0m \u001b[32m━━━━━━━━━━━━━━━━━━━━\u001b[0m\u001b[37m\u001b[0m \u001b[1m0s\u001b[0m 49ms/step\n"
     ]
    },
    {
     "name": "stderr",
     "output_type": "stream",
     "text": [
      "\r\n",
      "  2%|▉                                          | 25/1200 [00:03<01:44, 11.21it/s]"
     ]
    },
    {
     "name": "stdout",
     "output_type": "stream",
     "text": [
      "\u001b[1m1/1\u001b[0m \u001b[32m━━━━━━━━━━━━━━━━━━━━\u001b[0m\u001b[37m\u001b[0m \u001b[1m0s\u001b[0m 49ms/step\n",
      "\u001b[1m1/1\u001b[0m \u001b[32m━━━━━━━━━━━━━━━━━━━━\u001b[0m\u001b[37m\u001b[0m \u001b[1m0s\u001b[0m 49ms/step\n"
     ]
    },
    {
     "name": "stderr",
     "output_type": "stream",
     "text": [
      "\r\n",
      "  2%|▉                                          | 27/1200 [00:03<01:41, 11.58it/s]"
     ]
    },
    {
     "name": "stdout",
     "output_type": "stream",
     "text": [
      "\u001b[1m1/1\u001b[0m \u001b[32m━━━━━━━━━━━━━━━━━━━━\u001b[0m\u001b[37m\u001b[0m \u001b[1m0s\u001b[0m 48ms/step\n",
      "\u001b[1m1/1\u001b[0m \u001b[32m━━━━━━━━━━━━━━━━━━━━\u001b[0m\u001b[37m\u001b[0m \u001b[1m0s\u001b[0m 49ms/step\n"
     ]
    },
    {
     "name": "stderr",
     "output_type": "stream",
     "text": [
      "\r\n",
      "  2%|█                                          | 29/1200 [00:03<01:37, 11.97it/s]"
     ]
    },
    {
     "name": "stdout",
     "output_type": "stream",
     "text": [
      "\u001b[1m1/1\u001b[0m \u001b[32m━━━━━━━━━━━━━━━━━━━━\u001b[0m\u001b[37m\u001b[0m \u001b[1m0s\u001b[0m 49ms/step\n",
      "\u001b[1m1/1\u001b[0m \u001b[32m━━━━━━━━━━━━━━━━━━━━\u001b[0m\u001b[37m\u001b[0m \u001b[1m0s\u001b[0m 48ms/step\n"
     ]
    },
    {
     "name": "stderr",
     "output_type": "stream",
     "text": [
      "\r\n",
      "  3%|█                                          | 31/1200 [00:03<01:36, 12.15it/s]"
     ]
    },
    {
     "name": "stdout",
     "output_type": "stream",
     "text": [
      "\u001b[1m1/1\u001b[0m \u001b[32m━━━━━━━━━━━━━━━━━━━━\u001b[0m\u001b[37m\u001b[0m \u001b[1m0s\u001b[0m 48ms/step\n",
      "\u001b[1m1/1\u001b[0m \u001b[32m━━━━━━━━━━━━━━━━━━━━\u001b[0m\u001b[37m\u001b[0m \u001b[1m0s\u001b[0m 49ms/step\n"
     ]
    },
    {
     "name": "stderr",
     "output_type": "stream",
     "text": [
      "\r\n",
      "  3%|█▏                                         | 33/1200 [00:04<01:37, 11.96it/s]"
     ]
    },
    {
     "name": "stdout",
     "output_type": "stream",
     "text": [
      "\u001b[1m1/1\u001b[0m \u001b[32m━━━━━━━━━━━━━━━━━━━━\u001b[0m\u001b[37m\u001b[0m \u001b[1m0s\u001b[0m 48ms/step\n",
      "\u001b[1m1/1\u001b[0m \u001b[32m━━━━━━━━━━━━━━━━━━━━\u001b[0m\u001b[37m\u001b[0m \u001b[1m0s\u001b[0m 49ms/step\n"
     ]
    },
    {
     "name": "stderr",
     "output_type": "stream",
     "text": [
      "\r\n",
      "  3%|█▎                                         | 35/1200 [00:04<01:37, 11.90it/s]"
     ]
    },
    {
     "name": "stdout",
     "output_type": "stream",
     "text": [
      "\u001b[1m1/1\u001b[0m \u001b[32m━━━━━━━━━━━━━━━━━━━━\u001b[0m\u001b[37m\u001b[0m \u001b[1m0s\u001b[0m 48ms/step\n",
      "\u001b[1m1/1\u001b[0m \u001b[32m━━━━━━━━━━━━━━━━━━━━\u001b[0m\u001b[37m\u001b[0m \u001b[1m0s\u001b[0m 49ms/step\n"
     ]
    },
    {
     "name": "stderr",
     "output_type": "stream",
     "text": [
      "\r\n",
      "  3%|█▎                                         | 37/1200 [00:04<01:35, 12.13it/s]"
     ]
    },
    {
     "name": "stdout",
     "output_type": "stream",
     "text": [
      "\u001b[1m1/1\u001b[0m \u001b[32m━━━━━━━━━━━━━━━━━━━━\u001b[0m\u001b[37m\u001b[0m \u001b[1m0s\u001b[0m 49ms/step\n",
      "\u001b[1m1/1\u001b[0m \u001b[32m━━━━━━━━━━━━━━━━━━━━\u001b[0m\u001b[37m\u001b[0m \u001b[1m0s\u001b[0m 48ms/step\n"
     ]
    },
    {
     "name": "stderr",
     "output_type": "stream",
     "text": [
      "\r\n",
      "  3%|█▍                                         | 39/1200 [00:04<01:37, 11.95it/s]"
     ]
    },
    {
     "name": "stdout",
     "output_type": "stream",
     "text": [
      "\u001b[1m1/1\u001b[0m \u001b[32m━━━━━━━━━━━━━━━━━━━━\u001b[0m\u001b[37m\u001b[0m \u001b[1m0s\u001b[0m 49ms/step\n",
      "\u001b[1m1/1\u001b[0m \u001b[32m━━━━━━━━━━━━━━━━━━━━\u001b[0m\u001b[37m\u001b[0m \u001b[1m0s\u001b[0m 51ms/step\n"
     ]
    },
    {
     "name": "stderr",
     "output_type": "stream",
     "text": [
      "\r\n",
      "  3%|█▍                                         | 41/1200 [00:04<01:41, 11.41it/s]"
     ]
    },
    {
     "name": "stdout",
     "output_type": "stream",
     "text": [
      "\u001b[1m1/1\u001b[0m \u001b[32m━━━━━━━━━━━━━━━━━━━━\u001b[0m\u001b[37m\u001b[0m \u001b[1m0s\u001b[0m 50ms/step\n",
      "\u001b[1m1/1\u001b[0m \u001b[32m━━━━━━━━━━━━━━━━━━━━\u001b[0m\u001b[37m\u001b[0m \u001b[1m0s\u001b[0m 49ms/step\n"
     ]
    },
    {
     "name": "stderr",
     "output_type": "stream",
     "text": [
      "\r\n",
      "  4%|█▌                                         | 43/1200 [00:04<01:42, 11.27it/s]"
     ]
    },
    {
     "name": "stdout",
     "output_type": "stream",
     "text": [
      "\u001b[1m1/1\u001b[0m \u001b[32m━━━━━━━━━━━━━━━━━━━━\u001b[0m\u001b[37m\u001b[0m \u001b[1m0s\u001b[0m 50ms/step\n",
      "\u001b[1m1/1\u001b[0m \u001b[32m━━━━━━━━━━━━━━━━━━━━\u001b[0m\u001b[37m\u001b[0m \u001b[1m0s\u001b[0m 51ms/step\n"
     ]
    },
    {
     "name": "stderr",
     "output_type": "stream",
     "text": [
      "\r\n",
      "  4%|█▌                                         | 45/1200 [00:05<01:42, 11.29it/s]"
     ]
    },
    {
     "name": "stdout",
     "output_type": "stream",
     "text": [
      "\u001b[1m1/1\u001b[0m \u001b[32m━━━━━━━━━━━━━━━━━━━━\u001b[0m\u001b[37m\u001b[0m \u001b[1m0s\u001b[0m 50ms/step\n",
      "\u001b[1m1/1\u001b[0m \u001b[32m━━━━━━━━━━━━━━━━━━━━\u001b[0m\u001b[37m\u001b[0m \u001b[1m0s\u001b[0m 50ms/step\n"
     ]
    },
    {
     "name": "stderr",
     "output_type": "stream",
     "text": [
      "\r\n",
      "  4%|█▋                                         | 47/1200 [00:05<01:39, 11.62it/s]"
     ]
    },
    {
     "name": "stdout",
     "output_type": "stream",
     "text": [
      "\u001b[1m1/1\u001b[0m \u001b[32m━━━━━━━━━━━━━━━━━━━━\u001b[0m\u001b[37m\u001b[0m \u001b[1m0s\u001b[0m 50ms/step\n",
      "\u001b[1m1/1\u001b[0m \u001b[32m━━━━━━━━━━━━━━━━━━━━\u001b[0m\u001b[37m\u001b[0m \u001b[1m0s\u001b[0m 50ms/step\n"
     ]
    },
    {
     "name": "stderr",
     "output_type": "stream",
     "text": [
      "\r\n",
      "  4%|█▊                                         | 49/1200 [00:05<01:36, 11.87it/s]"
     ]
    },
    {
     "name": "stdout",
     "output_type": "stream",
     "text": [
      "\u001b[1m1/1\u001b[0m \u001b[32m━━━━━━━━━━━━━━━━━━━━\u001b[0m\u001b[37m\u001b[0m \u001b[1m0s\u001b[0m 50ms/step\n",
      "\u001b[1m1/1\u001b[0m \u001b[32m━━━━━━━━━━━━━━━━━━━━\u001b[0m\u001b[37m\u001b[0m \u001b[1m0s\u001b[0m 51ms/step\n"
     ]
    },
    {
     "name": "stderr",
     "output_type": "stream",
     "text": [
      "\r\n",
      "  4%|█▊                                         | 51/1200 [00:05<01:38, 11.69it/s]"
     ]
    },
    {
     "name": "stdout",
     "output_type": "stream",
     "text": [
      "\u001b[1m1/1\u001b[0m \u001b[32m━━━━━━━━━━━━━━━━━━━━\u001b[0m\u001b[37m\u001b[0m \u001b[1m0s\u001b[0m 52ms/step\n",
      "\u001b[1m1/1\u001b[0m \u001b[32m━━━━━━━━━━━━━━━━━━━━\u001b[0m\u001b[37m\u001b[0m \u001b[1m0s\u001b[0m 51ms/step\n"
     ]
    },
    {
     "name": "stderr",
     "output_type": "stream",
     "text": [
      "\r\n",
      "  4%|█▉                                         | 53/1200 [00:05<01:37, 11.78it/s]"
     ]
    },
    {
     "name": "stdout",
     "output_type": "stream",
     "text": [
      "\u001b[1m1/1\u001b[0m \u001b[32m━━━━━━━━━━━━━━━━━━━━\u001b[0m\u001b[37m\u001b[0m \u001b[1m0s\u001b[0m 49ms/step\n",
      "\u001b[1m1/1\u001b[0m \u001b[32m━━━━━━━━━━━━━━━━━━━━\u001b[0m\u001b[37m\u001b[0m \u001b[1m0s\u001b[0m 51ms/step\n"
     ]
    },
    {
     "name": "stderr",
     "output_type": "stream",
     "text": [
      "\r\n",
      "  5%|█▉                                         | 55/1200 [00:05<01:38, 11.63it/s]"
     ]
    },
    {
     "name": "stdout",
     "output_type": "stream",
     "text": [
      "\u001b[1m1/1\u001b[0m \u001b[32m━━━━━━━━━━━━━━━━━━━━\u001b[0m\u001b[37m\u001b[0m \u001b[1m0s\u001b[0m 52ms/step\n",
      "\u001b[1m1/1\u001b[0m \u001b[32m━━━━━━━━━━━━━━━━━━━━\u001b[0m\u001b[37m\u001b[0m \u001b[1m0s\u001b[0m 51ms/step\n"
     ]
    },
    {
     "name": "stderr",
     "output_type": "stream",
     "text": [
      "\r\n",
      "  5%|██                                         | 57/1200 [00:06<01:39, 11.48it/s]"
     ]
    },
    {
     "name": "stdout",
     "output_type": "stream",
     "text": [
      "\u001b[1m1/1\u001b[0m \u001b[32m━━━━━━━━━━━━━━━━━━━━\u001b[0m\u001b[37m\u001b[0m \u001b[1m0s\u001b[0m 50ms/step\n",
      "\u001b[1m1/1\u001b[0m \u001b[32m━━━━━━━━━━━━━━━━━━━━\u001b[0m\u001b[37m\u001b[0m \u001b[1m0s\u001b[0m 50ms/step\n"
     ]
    },
    {
     "name": "stderr",
     "output_type": "stream",
     "text": [
      "\r\n",
      "  5%|██                                         | 59/1200 [00:06<01:37, 11.72it/s]"
     ]
    },
    {
     "name": "stdout",
     "output_type": "stream",
     "text": [
      "\u001b[1m1/1\u001b[0m \u001b[32m━━━━━━━━━━━━━━━━━━━━\u001b[0m\u001b[37m\u001b[0m \u001b[1m0s\u001b[0m 50ms/step\n",
      "\u001b[1m1/1\u001b[0m \u001b[32m━━━━━━━━━━━━━━━━━━━━\u001b[0m\u001b[37m\u001b[0m \u001b[1m0s\u001b[0m 51ms/step\n"
     ]
    },
    {
     "name": "stderr",
     "output_type": "stream",
     "text": [
      "\r\n",
      "  5%|██▏                                        | 61/1200 [00:06<01:38, 11.60it/s]"
     ]
    },
    {
     "name": "stdout",
     "output_type": "stream",
     "text": [
      "\u001b[1m1/1\u001b[0m \u001b[32m━━━━━━━━━━━━━━━━━━━━\u001b[0m\u001b[37m\u001b[0m \u001b[1m0s\u001b[0m 50ms/step\n",
      "\u001b[1m1/1\u001b[0m \u001b[32m━━━━━━━━━━━━━━━━━━━━\u001b[0m\u001b[37m\u001b[0m \u001b[1m0s\u001b[0m 50ms/step\n"
     ]
    },
    {
     "name": "stderr",
     "output_type": "stream",
     "text": [
      "\r\n",
      "  5%|██▎                                        | 63/1200 [00:06<01:38, 11.56it/s]"
     ]
    },
    {
     "name": "stdout",
     "output_type": "stream",
     "text": [
      "\u001b[1m1/1\u001b[0m \u001b[32m━━━━━━━━━━━━━━━━━━━━\u001b[0m\u001b[37m\u001b[0m \u001b[1m0s\u001b[0m 50ms/step\n",
      "\u001b[1m1/1\u001b[0m \u001b[32m━━━━━━━━━━━━━━━━━━━━\u001b[0m\u001b[37m\u001b[0m \u001b[1m0s\u001b[0m 49ms/step\n"
     ]
    },
    {
     "name": "stderr",
     "output_type": "stream",
     "text": [
      "\r\n",
      "  5%|██▎                                        | 65/1200 [00:06<01:35, 11.84it/s]"
     ]
    },
    {
     "name": "stdout",
     "output_type": "stream",
     "text": [
      "\u001b[1m1/1\u001b[0m \u001b[32m━━━━━━━━━━━━━━━━━━━━\u001b[0m\u001b[37m\u001b[0m \u001b[1m0s\u001b[0m 50ms/step\n",
      "\u001b[1m1/1\u001b[0m \u001b[32m━━━━━━━━━━━━━━━━━━━━\u001b[0m\u001b[37m\u001b[0m \u001b[1m0s\u001b[0m 51ms/step\n"
     ]
    },
    {
     "name": "stderr",
     "output_type": "stream",
     "text": [
      "\r\n",
      "  6%|██▍                                        | 67/1200 [00:06<01:37, 11.66it/s]"
     ]
    },
    {
     "name": "stdout",
     "output_type": "stream",
     "text": [
      "\u001b[1m1/1\u001b[0m \u001b[32m━━━━━━━━━━━━━━━━━━━━\u001b[0m\u001b[37m\u001b[0m \u001b[1m0s\u001b[0m 49ms/step\n",
      "\u001b[1m1/1\u001b[0m \u001b[32m━━━━━━━━━━━━━━━━━━━━\u001b[0m\u001b[37m\u001b[0m \u001b[1m0s\u001b[0m 50ms/step\n"
     ]
    },
    {
     "name": "stderr",
     "output_type": "stream",
     "text": [
      "\r\n",
      "  6%|██▍                                        | 69/1200 [00:07<01:35, 11.87it/s]"
     ]
    },
    {
     "name": "stdout",
     "output_type": "stream",
     "text": [
      "\u001b[1m1/1\u001b[0m \u001b[32m━━━━━━━━━━━━━━━━━━━━\u001b[0m\u001b[37m\u001b[0m \u001b[1m0s\u001b[0m 50ms/step\n",
      "\u001b[1m1/1\u001b[0m \u001b[32m━━━━━━━━━━━━━━━━━━━━\u001b[0m\u001b[37m\u001b[0m \u001b[1m0s\u001b[0m 51ms/step\n"
     ]
    },
    {
     "name": "stderr",
     "output_type": "stream",
     "text": [
      "\r\n",
      "  6%|██▌                                        | 71/1200 [00:07<01:35, 11.87it/s]"
     ]
    },
    {
     "name": "stdout",
     "output_type": "stream",
     "text": [
      "\u001b[1m1/1\u001b[0m \u001b[32m━━━━━━━━━━━━━━━━━━━━\u001b[0m\u001b[37m\u001b[0m \u001b[1m0s\u001b[0m 52ms/step\n",
      "\u001b[1m1/1\u001b[0m \u001b[32m━━━━━━━━━━━━━━━━━━━━\u001b[0m\u001b[37m\u001b[0m \u001b[1m0s\u001b[0m 52ms/step\n"
     ]
    },
    {
     "name": "stderr",
     "output_type": "stream",
     "text": [
      "\r\n",
      "  6%|██▌                                        | 73/1200 [00:07<01:36, 11.62it/s]"
     ]
    },
    {
     "name": "stdout",
     "output_type": "stream",
     "text": [
      "\u001b[1m1/1\u001b[0m \u001b[32m━━━━━━━━━━━━━━━━━━━━\u001b[0m\u001b[37m\u001b[0m \u001b[1m0s\u001b[0m 53ms/step\n",
      "\u001b[1m1/1\u001b[0m \u001b[32m━━━━━━━━━━━━━━━━━━━━\u001b[0m\u001b[37m\u001b[0m \u001b[1m0s\u001b[0m 51ms/step\n"
     ]
    },
    {
     "name": "stderr",
     "output_type": "stream",
     "text": [
      "\r\n",
      "  6%|██▋                                        | 75/1200 [00:07<01:36, 11.67it/s]"
     ]
    },
    {
     "name": "stdout",
     "output_type": "stream",
     "text": [
      "\u001b[1m1/1\u001b[0m \u001b[32m━━━━━━━━━━━━━━━━━━━━\u001b[0m\u001b[37m\u001b[0m \u001b[1m0s\u001b[0m 51ms/step\n",
      "\u001b[1m1/1\u001b[0m \u001b[32m━━━━━━━━━━━━━━━━━━━━\u001b[0m\u001b[37m\u001b[0m \u001b[1m0s\u001b[0m 52ms/step\n"
     ]
    },
    {
     "name": "stderr",
     "output_type": "stream",
     "text": [
      "\r\n",
      "  6%|██▊                                        | 77/1200 [00:07<01:37, 11.53it/s]"
     ]
    },
    {
     "name": "stdout",
     "output_type": "stream",
     "text": [
      "\u001b[1m1/1\u001b[0m \u001b[32m━━━━━━━━━━━━━━━━━━━━\u001b[0m\u001b[37m\u001b[0m \u001b[1m0s\u001b[0m 51ms/step\n",
      "\u001b[1m1/1\u001b[0m \u001b[32m━━━━━━━━━━━━━━━━━━━━\u001b[0m\u001b[37m\u001b[0m \u001b[1m0s\u001b[0m 52ms/step\n"
     ]
    },
    {
     "name": "stderr",
     "output_type": "stream",
     "text": [
      "\r\n",
      "  7%|██▊                                        | 79/1200 [00:07<01:36, 11.62it/s]"
     ]
    },
    {
     "name": "stdout",
     "output_type": "stream",
     "text": [
      "\u001b[1m1/1\u001b[0m \u001b[32m━━━━━━━━━━━━━━━━━━━━\u001b[0m\u001b[37m\u001b[0m \u001b[1m0s\u001b[0m 51ms/step\n",
      "\u001b[1m1/1\u001b[0m \u001b[32m━━━━━━━━━━━━━━━━━━━━\u001b[0m\u001b[37m\u001b[0m \u001b[1m0s\u001b[0m 50ms/step\n"
     ]
    },
    {
     "name": "stderr",
     "output_type": "stream",
     "text": [
      "\r\n",
      "  7%|██▉                                        | 81/1200 [00:08<01:35, 11.78it/s]"
     ]
    },
    {
     "name": "stdout",
     "output_type": "stream",
     "text": [
      "\u001b[1m1/1\u001b[0m \u001b[32m━━━━━━━━━━━━━━━━━━━━\u001b[0m\u001b[37m\u001b[0m \u001b[1m0s\u001b[0m 49ms/step\n",
      "\u001b[1m1/1\u001b[0m \u001b[32m━━━━━━━━━━━━━━━━━━━━\u001b[0m\u001b[37m\u001b[0m \u001b[1m0s\u001b[0m 49ms/step\n"
     ]
    },
    {
     "name": "stderr",
     "output_type": "stream",
     "text": [
      "\r\n",
      "  7%|██▉                                        | 83/1200 [00:08<01:32, 12.05it/s]"
     ]
    },
    {
     "name": "stdout",
     "output_type": "stream",
     "text": [
      "\u001b[1m1/1\u001b[0m \u001b[32m━━━━━━━━━━━━━━━━━━━━\u001b[0m\u001b[37m\u001b[0m \u001b[1m0s\u001b[0m 51ms/step\n",
      "\u001b[1m1/1\u001b[0m \u001b[32m━━━━━━━━━━━━━━━━━━━━\u001b[0m\u001b[37m\u001b[0m \u001b[1m0s\u001b[0m 49ms/step\n"
     ]
    },
    {
     "name": "stderr",
     "output_type": "stream",
     "text": [
      "\r\n",
      "  7%|███                                        | 85/1200 [00:08<01:31, 12.17it/s]"
     ]
    },
    {
     "name": "stdout",
     "output_type": "stream",
     "text": [
      "\u001b[1m1/1\u001b[0m \u001b[32m━━━━━━━━━━━━━━━━━━━━\u001b[0m\u001b[37m\u001b[0m \u001b[1m0s\u001b[0m 50ms/step\n",
      "\u001b[1m1/1\u001b[0m \u001b[32m━━━━━━━━━━━━━━━━━━━━\u001b[0m\u001b[37m\u001b[0m \u001b[1m0s\u001b[0m 50ms/step\n"
     ]
    },
    {
     "name": "stderr",
     "output_type": "stream",
     "text": [
      "\r\n",
      "  7%|███                                        | 87/1200 [00:08<01:30, 12.27it/s]"
     ]
    },
    {
     "name": "stdout",
     "output_type": "stream",
     "text": [
      "\u001b[1m1/1\u001b[0m \u001b[32m━━━━━━━━━━━━━━━━━━━━\u001b[0m\u001b[37m\u001b[0m \u001b[1m0s\u001b[0m 50ms/step\n",
      "\u001b[1m1/1\u001b[0m \u001b[32m━━━━━━━━━━━━━━━━━━━━\u001b[0m\u001b[37m\u001b[0m \u001b[1m0s\u001b[0m 50ms/step\n"
     ]
    },
    {
     "name": "stderr",
     "output_type": "stream",
     "text": [
      "\r\n",
      "  7%|███▏                                       | 89/1200 [00:08<01:30, 12.32it/s]"
     ]
    },
    {
     "name": "stdout",
     "output_type": "stream",
     "text": [
      "\u001b[1m1/1\u001b[0m \u001b[32m━━━━━━━━━━━━━━━━━━━━\u001b[0m\u001b[37m\u001b[0m \u001b[1m0s\u001b[0m 49ms/step\n",
      "\u001b[1m1/1\u001b[0m \u001b[32m━━━━━━━━━━━━━━━━━━━━\u001b[0m\u001b[37m\u001b[0m \u001b[1m0s\u001b[0m 50ms/step\n"
     ]
    },
    {
     "name": "stderr",
     "output_type": "stream",
     "text": [
      "\r\n",
      "  8%|███▎                                       | 91/1200 [00:08<01:32, 11.96it/s]"
     ]
    },
    {
     "name": "stdout",
     "output_type": "stream",
     "text": [
      "\u001b[1m1/1\u001b[0m \u001b[32m━━━━━━━━━━━━━━━━━━━━\u001b[0m\u001b[37m\u001b[0m \u001b[1m0s\u001b[0m 50ms/step\n",
      "\u001b[1m1/1\u001b[0m \u001b[32m━━━━━━━━━━━━━━━━━━━━\u001b[0m\u001b[37m\u001b[0m \u001b[1m0s\u001b[0m 51ms/step\n"
     ]
    },
    {
     "name": "stderr",
     "output_type": "stream",
     "text": [
      "\r\n",
      "  8%|███▎                                       | 93/1200 [00:09<01:32, 12.01it/s]"
     ]
    },
    {
     "name": "stdout",
     "output_type": "stream",
     "text": [
      "\u001b[1m1/1\u001b[0m \u001b[32m━━━━━━━━━━━━━━━━━━━━\u001b[0m\u001b[37m\u001b[0m \u001b[1m0s\u001b[0m 51ms/step\n",
      "\u001b[1m1/1\u001b[0m \u001b[32m━━━━━━━━━━━━━━━━━━━━\u001b[0m\u001b[37m\u001b[0m \u001b[1m0s\u001b[0m 50ms/step\n"
     ]
    },
    {
     "name": "stderr",
     "output_type": "stream",
     "text": [
      "\r\n",
      "  8%|███▍                                       | 95/1200 [00:09<01:33, 11.82it/s]"
     ]
    },
    {
     "name": "stdout",
     "output_type": "stream",
     "text": [
      "\u001b[1m1/1\u001b[0m \u001b[32m━━━━━━━━━━━━━━━━━━━━\u001b[0m\u001b[37m\u001b[0m \u001b[1m0s\u001b[0m 50ms/step\n",
      "\u001b[1m1/1\u001b[0m \u001b[32m━━━━━━━━━━━━━━━━━━━━\u001b[0m\u001b[37m\u001b[0m \u001b[1m0s\u001b[0m 50ms/step\n"
     ]
    },
    {
     "name": "stderr",
     "output_type": "stream",
     "text": [
      "\r\n",
      "  8%|███▍                                       | 97/1200 [00:09<01:32, 11.96it/s]"
     ]
    },
    {
     "name": "stdout",
     "output_type": "stream",
     "text": [
      "\u001b[1m1/1\u001b[0m \u001b[32m━━━━━━━━━━━━━━━━━━━━\u001b[0m\u001b[37m\u001b[0m \u001b[1m0s\u001b[0m 51ms/step\n",
      "\u001b[1m1/1\u001b[0m \u001b[32m━━━━━━━━━━━━━━━━━━━━\u001b[0m\u001b[37m\u001b[0m \u001b[1m0s\u001b[0m 51ms/step\n"
     ]
    },
    {
     "name": "stderr",
     "output_type": "stream",
     "text": [
      "\r\n",
      "  8%|███▌                                       | 99/1200 [00:09<01:32, 11.92it/s]"
     ]
    },
    {
     "name": "stdout",
     "output_type": "stream",
     "text": [
      "\u001b[1m1/1\u001b[0m \u001b[32m━━━━━━━━━━━━━━━━━━━━\u001b[0m\u001b[37m\u001b[0m \u001b[1m0s\u001b[0m 50ms/step\n",
      "\u001b[1m1/1\u001b[0m \u001b[32m━━━━━━━━━━━━━━━━━━━━\u001b[0m\u001b[37m\u001b[0m \u001b[1m0s\u001b[0m 53ms/step\n"
     ]
    },
    {
     "name": "stderr",
     "output_type": "stream",
     "text": [
      "\r\n",
      "  8%|███▌                                      | 101/1200 [00:09<01:31, 11.98it/s]"
     ]
    },
    {
     "name": "stdout",
     "output_type": "stream",
     "text": [
      "\u001b[1m1/1\u001b[0m \u001b[32m━━━━━━━━━━━━━━━━━━━━\u001b[0m\u001b[37m\u001b[0m \u001b[1m0s\u001b[0m 51ms/step\n",
      "\u001b[1m1/1\u001b[0m \u001b[32m━━━━━━━━━━━━━━━━━━━━\u001b[0m\u001b[37m\u001b[0m \u001b[1m0s\u001b[0m 52ms/step\n"
     ]
    },
    {
     "name": "stderr",
     "output_type": "stream",
     "text": [
      "\r\n",
      "  9%|███▌                                      | 103/1200 [00:09<01:31, 11.93it/s]"
     ]
    },
    {
     "name": "stdout",
     "output_type": "stream",
     "text": [
      "\u001b[1m1/1\u001b[0m \u001b[32m━━━━━━━━━━━━━━━━━━━━\u001b[0m\u001b[37m\u001b[0m \u001b[1m0s\u001b[0m 53ms/step\n",
      "\u001b[1m1/1\u001b[0m \u001b[32m━━━━━━━━━━━━━━━━━━━━\u001b[0m\u001b[37m\u001b[0m \u001b[1m0s\u001b[0m 52ms/step\n"
     ]
    },
    {
     "name": "stderr",
     "output_type": "stream",
     "text": [
      "\r\n",
      "  9%|███▋                                      | 105/1200 [00:10<01:31, 11.99it/s]"
     ]
    },
    {
     "name": "stdout",
     "output_type": "stream",
     "text": [
      "\u001b[1m1/1\u001b[0m \u001b[32m━━━━━━━━━━━━━━━━━━━━\u001b[0m\u001b[37m\u001b[0m \u001b[1m0s\u001b[0m 52ms/step\n",
      "\u001b[1m1/1\u001b[0m \u001b[32m━━━━━━━━━━━━━━━━━━━━\u001b[0m\u001b[37m\u001b[0m \u001b[1m0s\u001b[0m 52ms/step\n"
     ]
    },
    {
     "name": "stderr",
     "output_type": "stream",
     "text": [
      "\r\n",
      "  9%|███▋                                      | 107/1200 [00:10<01:30, 12.02it/s]"
     ]
    },
    {
     "name": "stdout",
     "output_type": "stream",
     "text": [
      "\u001b[1m1/1\u001b[0m \u001b[32m━━━━━━━━━━━━━━━━━━━━\u001b[0m\u001b[37m\u001b[0m \u001b[1m0s\u001b[0m 51ms/step\n",
      "\u001b[1m1/1\u001b[0m \u001b[32m━━━━━━━━━━━━━━━━━━━━\u001b[0m\u001b[37m\u001b[0m \u001b[1m0s\u001b[0m 53ms/step\n"
     ]
    },
    {
     "name": "stderr",
     "output_type": "stream",
     "text": [
      "\r\n",
      "  9%|███▊                                      | 109/1200 [00:10<01:33, 11.68it/s]"
     ]
    },
    {
     "name": "stdout",
     "output_type": "stream",
     "text": [
      "\u001b[1m1/1\u001b[0m \u001b[32m━━━━━━━━━━━━━━━━━━━━\u001b[0m\u001b[37m\u001b[0m \u001b[1m0s\u001b[0m 52ms/step\n",
      "\u001b[1m1/1\u001b[0m \u001b[32m━━━━━━━━━━━━━━━━━━━━\u001b[0m\u001b[37m\u001b[0m \u001b[1m0s\u001b[0m 48ms/step\n"
     ]
    },
    {
     "name": "stderr",
     "output_type": "stream",
     "text": [
      "\r\n",
      "  9%|███▉                                      | 111/1200 [00:10<01:33, 11.67it/s]"
     ]
    },
    {
     "name": "stdout",
     "output_type": "stream",
     "text": [
      "\u001b[1m1/1\u001b[0m \u001b[32m━━━━━━━━━━━━━━━━━━━━\u001b[0m\u001b[37m\u001b[0m \u001b[1m0s\u001b[0m 49ms/step\n",
      "\u001b[1m1/1\u001b[0m \u001b[32m━━━━━━━━━━━━━━━━━━━━\u001b[0m\u001b[37m\u001b[0m \u001b[1m0s\u001b[0m 49ms/step\n"
     ]
    },
    {
     "name": "stderr",
     "output_type": "stream",
     "text": [
      "\r\n",
      "  9%|███▉                                      | 113/1200 [00:10<01:30, 11.96it/s]"
     ]
    },
    {
     "name": "stdout",
     "output_type": "stream",
     "text": [
      "\u001b[1m1/1\u001b[0m \u001b[32m━━━━━━━━━━━━━━━━━━━━\u001b[0m\u001b[37m\u001b[0m \u001b[1m0s\u001b[0m 49ms/step\n",
      "\u001b[1m1/1\u001b[0m \u001b[32m━━━━━━━━━━━━━━━━━━━━\u001b[0m\u001b[37m\u001b[0m \u001b[1m0s\u001b[0m 49ms/step\n"
     ]
    },
    {
     "name": "stderr",
     "output_type": "stream",
     "text": [
      "\r\n",
      " 10%|████                                      | 115/1200 [00:10<01:31, 11.81it/s]"
     ]
    },
    {
     "name": "stdout",
     "output_type": "stream",
     "text": [
      "\u001b[1m1/1\u001b[0m \u001b[32m━━━━━━━━━━━━━━━━━━━━\u001b[0m\u001b[37m\u001b[0m \u001b[1m0s\u001b[0m 49ms/step\n",
      "\u001b[1m1/1\u001b[0m \u001b[32m━━━━━━━━━━━━━━━━━━━━\u001b[0m\u001b[37m\u001b[0m \u001b[1m0s\u001b[0m 48ms/step\n"
     ]
    },
    {
     "name": "stderr",
     "output_type": "stream",
     "text": [
      "\r\n",
      " 10%|████                                      | 117/1200 [00:11<01:29, 12.06it/s]"
     ]
    },
    {
     "name": "stdout",
     "output_type": "stream",
     "text": [
      "\u001b[1m1/1\u001b[0m \u001b[32m━━━━━━━━━━━━━━━━━━━━\u001b[0m\u001b[37m\u001b[0m \u001b[1m0s\u001b[0m 48ms/step\n",
      "\u001b[1m1/1\u001b[0m \u001b[32m━━━━━━━━━━━━━━━━━━━━\u001b[0m\u001b[37m\u001b[0m \u001b[1m0s\u001b[0m 49ms/step\n"
     ]
    },
    {
     "name": "stderr",
     "output_type": "stream",
     "text": [
      "\r\n",
      " 10%|████▏                                     | 119/1200 [00:11<01:28, 12.23it/s]"
     ]
    },
    {
     "name": "stdout",
     "output_type": "stream",
     "text": [
      "\u001b[1m1/1\u001b[0m \u001b[32m━━━━━━━━━━━━━━━━━━━━\u001b[0m\u001b[37m\u001b[0m \u001b[1m0s\u001b[0m 48ms/step\n",
      "\u001b[1m1/1\u001b[0m \u001b[32m━━━━━━━━━━━━━━━━━━━━\u001b[0m\u001b[37m\u001b[0m \u001b[1m0s\u001b[0m 48ms/step\n"
     ]
    },
    {
     "name": "stderr",
     "output_type": "stream",
     "text": [
      "\r\n",
      " 10%|████▏                                     | 121/1200 [00:11<01:29, 12.08it/s]"
     ]
    },
    {
     "name": "stdout",
     "output_type": "stream",
     "text": [
      "\u001b[1m1/1\u001b[0m \u001b[32m━━━━━━━━━━━━━━━━━━━━\u001b[0m\u001b[37m\u001b[0m \u001b[1m0s\u001b[0m 50ms/step\n",
      "\u001b[1m1/1\u001b[0m \u001b[32m━━━━━━━━━━━━━━━━━━━━\u001b[0m\u001b[37m\u001b[0m \u001b[1m0s\u001b[0m 49ms/step\n"
     ]
    },
    {
     "name": "stderr",
     "output_type": "stream",
     "text": [
      "\r\n",
      " 10%|████▎                                     | 123/1200 [00:11<01:27, 12.30it/s]"
     ]
    },
    {
     "name": "stdout",
     "output_type": "stream",
     "text": [
      "\u001b[1m1/1\u001b[0m \u001b[32m━━━━━━━━━━━━━━━━━━━━\u001b[0m\u001b[37m\u001b[0m \u001b[1m0s\u001b[0m 49ms/step\n",
      "\u001b[1m1/1\u001b[0m \u001b[32m━━━━━━━━━━━━━━━━━━━━\u001b[0m\u001b[37m\u001b[0m \u001b[1m0s\u001b[0m 49ms/step\n"
     ]
    },
    {
     "name": "stderr",
     "output_type": "stream",
     "text": [
      "\r\n",
      " 10%|████▍                                     | 125/1200 [00:11<01:28, 12.13it/s]"
     ]
    },
    {
     "name": "stdout",
     "output_type": "stream",
     "text": [
      "\u001b[1m1/1\u001b[0m \u001b[32m━━━━━━━━━━━━━━━━━━━━\u001b[0m\u001b[37m\u001b[0m \u001b[1m0s\u001b[0m 49ms/step\n",
      "\u001b[1m1/1\u001b[0m \u001b[32m━━━━━━━━━━━━━━━━━━━━\u001b[0m\u001b[37m\u001b[0m \u001b[1m0s\u001b[0m 49ms/step\n"
     ]
    },
    {
     "name": "stderr",
     "output_type": "stream",
     "text": [
      "\r\n",
      " 11%|████▍                                     | 127/1200 [00:11<01:27, 12.23it/s]"
     ]
    },
    {
     "name": "stdout",
     "output_type": "stream",
     "text": [
      "\u001b[1m1/1\u001b[0m \u001b[32m━━━━━━━━━━━━━━━━━━━━\u001b[0m\u001b[37m\u001b[0m \u001b[1m0s\u001b[0m 50ms/step\n",
      "\u001b[1m1/1\u001b[0m \u001b[32m━━━━━━━━━━━━━━━━━━━━\u001b[0m\u001b[37m\u001b[0m \u001b[1m0s\u001b[0m 50ms/step\n"
     ]
    },
    {
     "name": "stderr",
     "output_type": "stream",
     "text": [
      "\r\n",
      " 11%|████▌                                     | 129/1200 [00:12<01:28, 12.12it/s]"
     ]
    },
    {
     "name": "stdout",
     "output_type": "stream",
     "text": [
      "\u001b[1m1/1\u001b[0m \u001b[32m━━━━━━━━━━━━━━━━━━━━\u001b[0m\u001b[37m\u001b[0m \u001b[1m0s\u001b[0m 49ms/step\n",
      "\u001b[1m1/1\u001b[0m \u001b[32m━━━━━━━━━━━━━━━━━━━━\u001b[0m\u001b[37m\u001b[0m \u001b[1m0s\u001b[0m 49ms/step\n"
     ]
    },
    {
     "name": "stderr",
     "output_type": "stream",
     "text": [
      "\r\n",
      " 11%|████▌                                     | 131/1200 [00:12<01:29, 11.93it/s]"
     ]
    },
    {
     "name": "stdout",
     "output_type": "stream",
     "text": [
      "\u001b[1m1/1\u001b[0m \u001b[32m━━━━━━━━━━━━━━━━━━━━\u001b[0m\u001b[37m\u001b[0m \u001b[1m0s\u001b[0m 50ms/step\n",
      "\u001b[1m1/1\u001b[0m \u001b[32m━━━━━━━━━━━━━━━━━━━━\u001b[0m\u001b[37m\u001b[0m \u001b[1m0s\u001b[0m 49ms/step\n"
     ]
    },
    {
     "name": "stderr",
     "output_type": "stream",
     "text": [
      "\r\n",
      " 11%|████▋                                     | 133/1200 [00:12<01:31, 11.62it/s]"
     ]
    },
    {
     "name": "stdout",
     "output_type": "stream",
     "text": [
      "\u001b[1m1/1\u001b[0m \u001b[32m━━━━━━━━━━━━━━━━━━━━\u001b[0m\u001b[37m\u001b[0m \u001b[1m0s\u001b[0m 49ms/step\n",
      "\u001b[1m1/1\u001b[0m \u001b[32m━━━━━━━━━━━━━━━━━━━━\u001b[0m\u001b[37m\u001b[0m \u001b[1m0s\u001b[0m 49ms/step\n"
     ]
    },
    {
     "name": "stderr",
     "output_type": "stream",
     "text": [
      "\r\n",
      " 11%|████▋                                     | 135/1200 [00:12<01:29, 11.86it/s]"
     ]
    },
    {
     "name": "stdout",
     "output_type": "stream",
     "text": [
      "\u001b[1m1/1\u001b[0m \u001b[32m━━━━━━━━━━━━━━━━━━━━\u001b[0m\u001b[37m\u001b[0m \u001b[1m0s\u001b[0m 49ms/step\n",
      "\u001b[1m1/1\u001b[0m \u001b[32m━━━━━━━━━━━━━━━━━━━━\u001b[0m\u001b[37m\u001b[0m \u001b[1m0s\u001b[0m 50ms/step\n"
     ]
    },
    {
     "name": "stderr",
     "output_type": "stream",
     "text": [
      "\r\n",
      " 11%|████▊                                     | 137/1200 [00:12<01:28, 12.07it/s]"
     ]
    },
    {
     "name": "stdout",
     "output_type": "stream",
     "text": [
      "\u001b[1m1/1\u001b[0m \u001b[32m━━━━━━━━━━━━━━━━━━━━\u001b[0m\u001b[37m\u001b[0m \u001b[1m0s\u001b[0m 49ms/step\n",
      "\u001b[1m1/1\u001b[0m \u001b[32m━━━━━━━━━━━━━━━━━━━━\u001b[0m\u001b[37m\u001b[0m \u001b[1m0s\u001b[0m 49ms/step\n"
     ]
    },
    {
     "name": "stderr",
     "output_type": "stream",
     "text": [
      "\r\n",
      " 12%|████▊                                     | 139/1200 [00:12<01:31, 11.62it/s]"
     ]
    },
    {
     "name": "stdout",
     "output_type": "stream",
     "text": [
      "\u001b[1m1/1\u001b[0m \u001b[32m━━━━━━━━━━━━━━━━━━━━\u001b[0m\u001b[37m\u001b[0m \u001b[1m0s\u001b[0m 50ms/step\n",
      "\u001b[1m1/1\u001b[0m \u001b[32m━━━━━━━━━━━━━━━━━━━━\u001b[0m\u001b[37m\u001b[0m \u001b[1m0s\u001b[0m 50ms/step\n"
     ]
    },
    {
     "name": "stderr",
     "output_type": "stream",
     "text": [
      "\r\n",
      " 12%|████▉                                     | 141/1200 [00:13<01:32, 11.49it/s]"
     ]
    },
    {
     "name": "stdout",
     "output_type": "stream",
     "text": [
      "\u001b[1m1/1\u001b[0m \u001b[32m━━━━━━━━━━━━━━━━━━━━\u001b[0m\u001b[37m\u001b[0m \u001b[1m0s\u001b[0m 51ms/step\n",
      "\u001b[1m1/1\u001b[0m \u001b[32m━━━━━━━━━━━━━━━━━━━━\u001b[0m\u001b[37m\u001b[0m \u001b[1m0s\u001b[0m 52ms/step\n"
     ]
    },
    {
     "name": "stderr",
     "output_type": "stream",
     "text": [
      "\r\n",
      " 12%|█████                                     | 143/1200 [00:13<01:32, 11.46it/s]"
     ]
    },
    {
     "name": "stdout",
     "output_type": "stream",
     "text": [
      "\u001b[1m1/1\u001b[0m \u001b[32m━━━━━━━━━━━━━━━━━━━━\u001b[0m\u001b[37m\u001b[0m \u001b[1m0s\u001b[0m 51ms/step\n",
      "\u001b[1m1/1\u001b[0m \u001b[32m━━━━━━━━━━━━━━━━━━━━\u001b[0m\u001b[37m\u001b[0m \u001b[1m0s\u001b[0m 55ms/step\n"
     ]
    },
    {
     "name": "stderr",
     "output_type": "stream",
     "text": [
      "\r\n",
      " 12%|█████                                     | 145/1200 [00:13<01:31, 11.57it/s]"
     ]
    },
    {
     "name": "stdout",
     "output_type": "stream",
     "text": [
      "\u001b[1m1/1\u001b[0m \u001b[32m━━━━━━━━━━━━━━━━━━━━\u001b[0m\u001b[37m\u001b[0m \u001b[1m0s\u001b[0m 50ms/step\n",
      "\u001b[1m1/1\u001b[0m \u001b[32m━━━━━━━━━━━━━━━━━━━━\u001b[0m\u001b[37m\u001b[0m \u001b[1m0s\u001b[0m 51ms/step\n"
     ]
    },
    {
     "name": "stderr",
     "output_type": "stream",
     "text": [
      "\r\n",
      " 12%|█████▏                                    | 147/1200 [00:13<01:33, 11.24it/s]"
     ]
    },
    {
     "name": "stdout",
     "output_type": "stream",
     "text": [
      "\u001b[1m1/1\u001b[0m \u001b[32m━━━━━━━━━━━━━━━━━━━━\u001b[0m\u001b[37m\u001b[0m \u001b[1m0s\u001b[0m 51ms/step\n",
      "\u001b[1m1/1\u001b[0m \u001b[32m━━━━━━━━━━━━━━━━━━━━\u001b[0m\u001b[37m\u001b[0m \u001b[1m0s\u001b[0m 52ms/step\n"
     ]
    },
    {
     "name": "stderr",
     "output_type": "stream",
     "text": [
      "\r\n",
      " 12%|█████▏                                    | 149/1200 [00:13<01:31, 11.53it/s]"
     ]
    },
    {
     "name": "stdout",
     "output_type": "stream",
     "text": [
      "\u001b[1m1/1\u001b[0m \u001b[32m━━━━━━━━━━━━━━━━━━━━\u001b[0m\u001b[37m\u001b[0m \u001b[1m0s\u001b[0m 51ms/step\n",
      "\u001b[1m1/1\u001b[0m \u001b[32m━━━━━━━━━━━━━━━━━━━━\u001b[0m\u001b[37m\u001b[0m \u001b[1m0s\u001b[0m 49ms/step\n"
     ]
    },
    {
     "name": "stderr",
     "output_type": "stream",
     "text": [
      "\r\n",
      " 13%|█████▎                                    | 151/1200 [00:14<01:31, 11.48it/s]"
     ]
    },
    {
     "name": "stdout",
     "output_type": "stream",
     "text": [
      "\u001b[1m1/1\u001b[0m \u001b[32m━━━━━━━━━━━━━━━━━━━━\u001b[0m\u001b[37m\u001b[0m \u001b[1m0s\u001b[0m 49ms/step\n",
      "\u001b[1m1/1\u001b[0m \u001b[32m━━━━━━━━━━━━━━━━━━━━\u001b[0m\u001b[37m\u001b[0m \u001b[1m0s\u001b[0m 48ms/step\n"
     ]
    },
    {
     "name": "stderr",
     "output_type": "stream",
     "text": [
      "\r\n",
      " 13%|█████▎                                    | 153/1200 [00:14<01:28, 11.80it/s]"
     ]
    },
    {
     "name": "stdout",
     "output_type": "stream",
     "text": [
      "\u001b[1m1/1\u001b[0m \u001b[32m━━━━━━━━━━━━━━━━━━━━\u001b[0m\u001b[37m\u001b[0m \u001b[1m0s\u001b[0m 49ms/step\n",
      "\u001b[1m1/1\u001b[0m \u001b[32m━━━━━━━━━━━━━━━━━━━━\u001b[0m\u001b[37m\u001b[0m \u001b[1m0s\u001b[0m 50ms/step\n"
     ]
    },
    {
     "name": "stderr",
     "output_type": "stream",
     "text": [
      "\r\n",
      " 13%|█████▍                                    | 155/1200 [00:14<01:27, 11.98it/s]"
     ]
    },
    {
     "name": "stdout",
     "output_type": "stream",
     "text": [
      "\u001b[1m1/1\u001b[0m \u001b[32m━━━━━━━━━━━━━━━━━━━━\u001b[0m\u001b[37m\u001b[0m \u001b[1m0s\u001b[0m 49ms/step\n",
      "\u001b[1m1/1\u001b[0m \u001b[32m━━━━━━━━━━━━━━━━━━━━\u001b[0m\u001b[37m\u001b[0m \u001b[1m0s\u001b[0m 49ms/step\n"
     ]
    },
    {
     "name": "stderr",
     "output_type": "stream",
     "text": [
      "\r\n",
      " 13%|█████▍                                    | 157/1200 [00:14<01:28, 11.72it/s]"
     ]
    },
    {
     "name": "stdout",
     "output_type": "stream",
     "text": [
      "\u001b[1m1/1\u001b[0m \u001b[32m━━━━━━━━━━━━━━━━━━━━\u001b[0m\u001b[37m\u001b[0m \u001b[1m0s\u001b[0m 49ms/step\n",
      "\u001b[1m1/1\u001b[0m \u001b[32m━━━━━━━━━━━━━━━━━━━━\u001b[0m\u001b[37m\u001b[0m \u001b[1m0s\u001b[0m 49ms/step\n"
     ]
    },
    {
     "name": "stderr",
     "output_type": "stream",
     "text": [
      "\r\n",
      " 13%|█████▌                                    | 159/1200 [00:14<01:26, 12.00it/s]"
     ]
    },
    {
     "name": "stdout",
     "output_type": "stream",
     "text": [
      "\u001b[1m1/1\u001b[0m \u001b[32m━━━━━━━━━━━━━━━━━━━━\u001b[0m\u001b[37m\u001b[0m \u001b[1m0s\u001b[0m 48ms/step\n",
      "\u001b[1m1/1\u001b[0m \u001b[32m━━━━━━━━━━━━━━━━━━━━\u001b[0m\u001b[37m\u001b[0m \u001b[1m0s\u001b[0m 48ms/step\n"
     ]
    },
    {
     "name": "stderr",
     "output_type": "stream",
     "text": [
      "\r\n",
      " 13%|█████▋                                    | 161/1200 [00:14<01:27, 11.92it/s]"
     ]
    },
    {
     "name": "stdout",
     "output_type": "stream",
     "text": [
      "\u001b[1m1/1\u001b[0m \u001b[32m━━━━━━━━━━━━━━━━━━━━\u001b[0m\u001b[37m\u001b[0m \u001b[1m0s\u001b[0m 49ms/step\n",
      "\u001b[1m1/1\u001b[0m \u001b[32m━━━━━━━━━━━━━━━━━━━━\u001b[0m\u001b[37m\u001b[0m \u001b[1m0s\u001b[0m 50ms/step\n"
     ]
    },
    {
     "name": "stderr",
     "output_type": "stream",
     "text": [
      "\r\n",
      " 14%|█████▋                                    | 163/1200 [00:15<01:31, 11.29it/s]"
     ]
    },
    {
     "name": "stdout",
     "output_type": "stream",
     "text": [
      "\u001b[1m1/1\u001b[0m \u001b[32m━━━━━━━━━━━━━━━━━━━━\u001b[0m\u001b[37m\u001b[0m \u001b[1m0s\u001b[0m 49ms/step\n",
      "\u001b[1m1/1\u001b[0m \u001b[32m━━━━━━━━━━━━━━━━━━━━\u001b[0m\u001b[37m\u001b[0m \u001b[1m0s\u001b[0m 49ms/step\n"
     ]
    },
    {
     "name": "stderr",
     "output_type": "stream",
     "text": [
      "\r\n",
      " 14%|█████▊                                    | 165/1200 [00:15<01:30, 11.41it/s]"
     ]
    },
    {
     "name": "stdout",
     "output_type": "stream",
     "text": [
      "\u001b[1m1/1\u001b[0m \u001b[32m━━━━━━━━━━━━━━━━━━━━\u001b[0m\u001b[37m\u001b[0m \u001b[1m0s\u001b[0m 50ms/step\n",
      "\u001b[1m1/1\u001b[0m \u001b[32m━━━━━━━━━━━━━━━━━━━━\u001b[0m\u001b[37m\u001b[0m \u001b[1m0s\u001b[0m 50ms/step\n"
     ]
    },
    {
     "name": "stderr",
     "output_type": "stream",
     "text": [
      "\r\n",
      " 14%|█████▊                                    | 167/1200 [00:15<01:28, 11.69it/s]"
     ]
    },
    {
     "name": "stdout",
     "output_type": "stream",
     "text": [
      "\u001b[1m1/1\u001b[0m \u001b[32m━━━━━━━━━━━━━━━━━━━━\u001b[0m\u001b[37m\u001b[0m \u001b[1m0s\u001b[0m 50ms/step\n",
      "\u001b[1m1/1\u001b[0m \u001b[32m━━━━━━━━━━━━━━━━━━━━\u001b[0m\u001b[37m\u001b[0m \u001b[1m0s\u001b[0m 49ms/step\n"
     ]
    },
    {
     "name": "stderr",
     "output_type": "stream",
     "text": [
      "\r\n",
      " 14%|█████▉                                    | 169/1200 [00:15<01:28, 11.64it/s]"
     ]
    },
    {
     "name": "stdout",
     "output_type": "stream",
     "text": [
      "\u001b[1m1/1\u001b[0m \u001b[32m━━━━━━━━━━━━━━━━━━━━\u001b[0m\u001b[37m\u001b[0m \u001b[1m0s\u001b[0m 49ms/step\n",
      "\u001b[1m1/1\u001b[0m \u001b[32m━━━━━━━━━━━━━━━━━━━━\u001b[0m\u001b[37m\u001b[0m \u001b[1m0s\u001b[0m 51ms/step\n"
     ]
    },
    {
     "name": "stderr",
     "output_type": "stream",
     "text": [
      "\r\n",
      " 14%|█████▉                                    | 171/1200 [00:15<01:28, 11.62it/s]"
     ]
    },
    {
     "name": "stdout",
     "output_type": "stream",
     "text": [
      "\u001b[1m1/1\u001b[0m \u001b[32m━━━━━━━━━━━━━━━━━━━━\u001b[0m\u001b[37m\u001b[0m \u001b[1m0s\u001b[0m 50ms/step\n",
      "\u001b[1m1/1\u001b[0m \u001b[32m━━━━━━━━━━━━━━━━━━━━\u001b[0m\u001b[37m\u001b[0m \u001b[1m0s\u001b[0m 50ms/step\n"
     ]
    },
    {
     "name": "stderr",
     "output_type": "stream",
     "text": [
      "\r\n",
      " 14%|██████                                    | 173/1200 [00:15<01:26, 11.82it/s]"
     ]
    },
    {
     "name": "stdout",
     "output_type": "stream",
     "text": [
      "\u001b[1m1/1\u001b[0m \u001b[32m━━━━━━━━━━━━━━━━━━━━\u001b[0m\u001b[37m\u001b[0m \u001b[1m0s\u001b[0m 51ms/step\n",
      "\u001b[1m1/1\u001b[0m \u001b[32m━━━━━━━━━━━━━━━━━━━━\u001b[0m\u001b[37m\u001b[0m \u001b[1m0s\u001b[0m 51ms/step\n"
     ]
    },
    {
     "name": "stderr",
     "output_type": "stream",
     "text": [
      "\r\n",
      " 15%|██████▏                                   | 175/1200 [00:16<01:26, 11.84it/s]"
     ]
    },
    {
     "name": "stdout",
     "output_type": "stream",
     "text": [
      "\u001b[1m1/1\u001b[0m \u001b[32m━━━━━━━━━━━━━━━━━━━━\u001b[0m\u001b[37m\u001b[0m \u001b[1m0s\u001b[0m 51ms/step\n",
      "\u001b[1m1/1\u001b[0m \u001b[32m━━━━━━━━━━━━━━━━━━━━\u001b[0m\u001b[37m\u001b[0m \u001b[1m0s\u001b[0m 50ms/step\n"
     ]
    },
    {
     "name": "stderr",
     "output_type": "stream",
     "text": [
      "\r\n",
      " 15%|██████▏                                   | 177/1200 [00:16<01:25, 11.91it/s]"
     ]
    },
    {
     "name": "stdout",
     "output_type": "stream",
     "text": [
      "\u001b[1m1/1\u001b[0m \u001b[32m━━━━━━━━━━━━━━━━━━━━\u001b[0m\u001b[37m\u001b[0m \u001b[1m0s\u001b[0m 50ms/step\n",
      "\u001b[1m1/1\u001b[0m \u001b[32m━━━━━━━━━━━━━━━━━━━━\u001b[0m\u001b[37m\u001b[0m \u001b[1m0s\u001b[0m 52ms/step\n"
     ]
    },
    {
     "name": "stderr",
     "output_type": "stream",
     "text": [
      "\r\n",
      " 15%|██████▎                                   | 179/1200 [00:16<01:25, 11.97it/s]"
     ]
    },
    {
     "name": "stdout",
     "output_type": "stream",
     "text": [
      "\u001b[1m1/1\u001b[0m \u001b[32m━━━━━━━━━━━━━━━━━━━━\u001b[0m\u001b[37m\u001b[0m \u001b[1m0s\u001b[0m 50ms/step\n",
      "\u001b[1m1/1\u001b[0m \u001b[32m━━━━━━━━━━━━━━━━━━━━\u001b[0m\u001b[37m\u001b[0m \u001b[1m0s\u001b[0m 51ms/step\n"
     ]
    },
    {
     "name": "stderr",
     "output_type": "stream",
     "text": [
      "\r\n",
      " 15%|██████▎                                   | 181/1200 [00:16<01:26, 11.76it/s]"
     ]
    },
    {
     "name": "stdout",
     "output_type": "stream",
     "text": [
      "\u001b[1m1/1\u001b[0m \u001b[32m━━━━━━━━━━━━━━━━━━━━\u001b[0m\u001b[37m\u001b[0m \u001b[1m0s\u001b[0m 51ms/step\n",
      "\u001b[1m1/1\u001b[0m \u001b[32m━━━━━━━━━━━━━━━━━━━━\u001b[0m\u001b[37m\u001b[0m \u001b[1m0s\u001b[0m 51ms/step\n"
     ]
    },
    {
     "name": "stderr",
     "output_type": "stream",
     "text": [
      "\r\n",
      " 15%|██████▍                                   | 183/1200 [00:16<01:25, 11.84it/s]"
     ]
    },
    {
     "name": "stdout",
     "output_type": "stream",
     "text": [
      "\u001b[1m1/1\u001b[0m \u001b[32m━━━━━━━━━━━━━━━━━━━━\u001b[0m\u001b[37m\u001b[0m \u001b[1m0s\u001b[0m 51ms/step\n",
      "\u001b[1m1/1\u001b[0m \u001b[32m━━━━━━━━━━━━━━━━━━━━\u001b[0m\u001b[37m\u001b[0m \u001b[1m0s\u001b[0m 51ms/step\n"
     ]
    },
    {
     "name": "stderr",
     "output_type": "stream",
     "text": [
      "\r\n",
      " 15%|██████▍                                   | 185/1200 [00:16<01:25, 11.91it/s]"
     ]
    },
    {
     "name": "stdout",
     "output_type": "stream",
     "text": [
      "\u001b[1m1/1\u001b[0m \u001b[32m━━━━━━━━━━━━━━━━━━━━\u001b[0m\u001b[37m\u001b[0m \u001b[1m0s\u001b[0m 51ms/step\n",
      "\u001b[1m1/1\u001b[0m \u001b[32m━━━━━━━━━━━━━━━━━━━━\u001b[0m\u001b[37m\u001b[0m \u001b[1m0s\u001b[0m 51ms/step\n"
     ]
    },
    {
     "name": "stderr",
     "output_type": "stream",
     "text": [
      "\r\n",
      " 16%|██████▌                                   | 187/1200 [00:17<01:26, 11.72it/s]"
     ]
    },
    {
     "name": "stdout",
     "output_type": "stream",
     "text": [
      "\u001b[1m1/1\u001b[0m \u001b[32m━━━━━━━━━━━━━━━━━━━━\u001b[0m\u001b[37m\u001b[0m \u001b[1m0s\u001b[0m 51ms/step\n",
      "\u001b[1m1/1\u001b[0m \u001b[32m━━━━━━━━━━━━━━━━━━━━\u001b[0m\u001b[37m\u001b[0m \u001b[1m0s\u001b[0m 51ms/step\n"
     ]
    },
    {
     "name": "stderr",
     "output_type": "stream",
     "text": [
      "\r\n",
      " 16%|██████▌                                   | 189/1200 [00:17<01:25, 11.87it/s]"
     ]
    },
    {
     "name": "stdout",
     "output_type": "stream",
     "text": [
      "\u001b[1m1/1\u001b[0m \u001b[32m━━━━━━━━━━━━━━━━━━━━\u001b[0m\u001b[37m\u001b[0m \u001b[1m0s\u001b[0m 51ms/step\n",
      "\u001b[1m1/1\u001b[0m \u001b[32m━━━━━━━━━━━━━━━━━━━━\u001b[0m\u001b[37m\u001b[0m \u001b[1m0s\u001b[0m 51ms/step\n"
     ]
    },
    {
     "name": "stderr",
     "output_type": "stream",
     "text": [
      "\r\n",
      " 16%|██████▋                                   | 191/1200 [00:17<01:26, 11.64it/s]"
     ]
    },
    {
     "name": "stdout",
     "output_type": "stream",
     "text": [
      "\u001b[1m1/1\u001b[0m \u001b[32m━━━━━━━━━━━━━━━━━━━━\u001b[0m\u001b[37m\u001b[0m \u001b[1m0s\u001b[0m 51ms/step\n",
      "\u001b[1m1/1\u001b[0m \u001b[32m━━━━━━━━━━━━━━━━━━━━\u001b[0m\u001b[37m\u001b[0m \u001b[1m0s\u001b[0m 50ms/step\n"
     ]
    },
    {
     "name": "stderr",
     "output_type": "stream",
     "text": [
      "\r\n",
      " 16%|██████▊                                   | 193/1200 [00:17<01:29, 11.27it/s]"
     ]
    },
    {
     "name": "stdout",
     "output_type": "stream",
     "text": [
      "\u001b[1m1/1\u001b[0m \u001b[32m━━━━━━━━━━━━━━━━━━━━\u001b[0m\u001b[37m\u001b[0m \u001b[1m0s\u001b[0m 50ms/step\n",
      "\u001b[1m1/1\u001b[0m \u001b[32m━━━━━━━━━━━━━━━━━━━━\u001b[0m\u001b[37m\u001b[0m \u001b[1m0s\u001b[0m 50ms/step\n"
     ]
    },
    {
     "name": "stderr",
     "output_type": "stream",
     "text": [
      "\r\n",
      " 16%|██████▊                                   | 195/1200 [00:17<01:27, 11.53it/s]"
     ]
    },
    {
     "name": "stdout",
     "output_type": "stream",
     "text": [
      "\u001b[1m1/1\u001b[0m \u001b[32m━━━━━━━━━━━━━━━━━━━━\u001b[0m\u001b[37m\u001b[0m \u001b[1m0s\u001b[0m 49ms/step\n",
      "\u001b[1m1/1\u001b[0m \u001b[32m━━━━━━━━━━━━━━━━━━━━\u001b[0m\u001b[37m\u001b[0m \u001b[1m0s\u001b[0m 49ms/step\n"
     ]
    },
    {
     "name": "stderr",
     "output_type": "stream",
     "text": [
      "\r\n",
      " 16%|██████▉                                   | 197/1200 [00:17<01:26, 11.58it/s]"
     ]
    },
    {
     "name": "stdout",
     "output_type": "stream",
     "text": [
      "\u001b[1m1/1\u001b[0m \u001b[32m━━━━━━━━━━━━━━━━━━━━\u001b[0m\u001b[37m\u001b[0m \u001b[1m0s\u001b[0m 50ms/step\n",
      "\u001b[1m1/1\u001b[0m \u001b[32m━━━━━━━━━━━━━━━━━━━━\u001b[0m\u001b[37m\u001b[0m \u001b[1m0s\u001b[0m 50ms/step\n"
     ]
    },
    {
     "name": "stderr",
     "output_type": "stream",
     "text": [
      "\r\n",
      " 17%|██████▉                                   | 199/1200 [00:18<01:25, 11.71it/s]"
     ]
    },
    {
     "name": "stdout",
     "output_type": "stream",
     "text": [
      "\u001b[1m1/1\u001b[0m \u001b[32m━━━━━━━━━━━━━━━━━━━━\u001b[0m\u001b[37m\u001b[0m \u001b[1m0s\u001b[0m 51ms/step\n",
      "\u001b[1m1/1\u001b[0m \u001b[32m━━━━━━━━━━━━━━━━━━━━\u001b[0m\u001b[37m\u001b[0m \u001b[1m0s\u001b[0m 51ms/step\n"
     ]
    },
    {
     "name": "stderr",
     "output_type": "stream",
     "text": [
      "\r\n",
      " 17%|███████                                   | 201/1200 [00:18<01:24, 11.85it/s]"
     ]
    },
    {
     "name": "stdout",
     "output_type": "stream",
     "text": [
      "\u001b[1m1/1\u001b[0m \u001b[32m━━━━━━━━━━━━━━━━━━━━\u001b[0m\u001b[37m\u001b[0m \u001b[1m0s\u001b[0m 51ms/step\n",
      "\u001b[1m1/1\u001b[0m \u001b[32m━━━━━━━━━━━━━━━━━━━━\u001b[0m\u001b[37m\u001b[0m \u001b[1m0s\u001b[0m 51ms/step\n"
     ]
    },
    {
     "name": "stderr",
     "output_type": "stream",
     "text": [
      "\r\n",
      " 17%|███████                                   | 203/1200 [00:18<01:23, 11.90it/s]"
     ]
    },
    {
     "name": "stdout",
     "output_type": "stream",
     "text": [
      "\u001b[1m1/1\u001b[0m \u001b[32m━━━━━━━━━━━━━━━━━━━━\u001b[0m\u001b[37m\u001b[0m \u001b[1m0s\u001b[0m 51ms/step\n",
      "\u001b[1m1/1\u001b[0m \u001b[32m━━━━━━━━━━━━━━━━━━━━\u001b[0m\u001b[37m\u001b[0m \u001b[1m0s\u001b[0m 50ms/step\n"
     ]
    },
    {
     "name": "stderr",
     "output_type": "stream",
     "text": [
      "\r\n",
      " 17%|███████▏                                  | 205/1200 [00:18<01:25, 11.70it/s]"
     ]
    },
    {
     "name": "stdout",
     "output_type": "stream",
     "text": [
      "\u001b[1m1/1\u001b[0m \u001b[32m━━━━━━━━━━━━━━━━━━━━\u001b[0m\u001b[37m\u001b[0m \u001b[1m0s\u001b[0m 52ms/step\n",
      "\u001b[1m1/1\u001b[0m \u001b[32m━━━━━━━━━━━━━━━━━━━━\u001b[0m\u001b[37m\u001b[0m \u001b[1m0s\u001b[0m 50ms/step\n"
     ]
    },
    {
     "name": "stderr",
     "output_type": "stream",
     "text": [
      "\r\n",
      " 17%|███████▏                                  | 207/1200 [00:18<01:27, 11.28it/s]"
     ]
    },
    {
     "name": "stdout",
     "output_type": "stream",
     "text": [
      "\u001b[1m1/1\u001b[0m \u001b[32m━━━━━━━━━━━━━━━━━━━━\u001b[0m\u001b[37m\u001b[0m \u001b[1m0s\u001b[0m 51ms/step\n",
      "\u001b[1m1/1\u001b[0m \u001b[32m━━━━━━━━━━━━━━━━━━━━\u001b[0m\u001b[37m\u001b[0m \u001b[1m0s\u001b[0m 50ms/step\n"
     ]
    },
    {
     "name": "stderr",
     "output_type": "stream",
     "text": [
      "\r\n",
      " 17%|███████▎                                  | 209/1200 [00:18<01:25, 11.62it/s]"
     ]
    },
    {
     "name": "stdout",
     "output_type": "stream",
     "text": [
      "\u001b[1m1/1\u001b[0m \u001b[32m━━━━━━━━━━━━━━━━━━━━\u001b[0m\u001b[37m\u001b[0m \u001b[1m0s\u001b[0m 50ms/step\n",
      "\u001b[1m1/1\u001b[0m \u001b[32m━━━━━━━━━━━━━━━━━━━━\u001b[0m\u001b[37m\u001b[0m \u001b[1m0s\u001b[0m 53ms/step\n"
     ]
    },
    {
     "name": "stderr",
     "output_type": "stream",
     "text": [
      "\r\n",
      " 18%|███████▍                                  | 211/1200 [00:19<01:24, 11.70it/s]"
     ]
    },
    {
     "name": "stdout",
     "output_type": "stream",
     "text": [
      "\u001b[1m1/1\u001b[0m \u001b[32m━━━━━━━━━━━━━━━━━━━━\u001b[0m\u001b[37m\u001b[0m \u001b[1m0s\u001b[0m 54ms/step\n",
      "\u001b[1m1/1\u001b[0m \u001b[32m━━━━━━━━━━━━━━━━━━━━\u001b[0m\u001b[37m\u001b[0m \u001b[1m0s\u001b[0m 53ms/step\n"
     ]
    },
    {
     "name": "stderr",
     "output_type": "stream",
     "text": [
      "\r\n",
      " 18%|███████▍                                  | 213/1200 [00:19<01:25, 11.48it/s]"
     ]
    },
    {
     "name": "stdout",
     "output_type": "stream",
     "text": [
      "\u001b[1m1/1\u001b[0m \u001b[32m━━━━━━━━━━━━━━━━━━━━\u001b[0m\u001b[37m\u001b[0m \u001b[1m0s\u001b[0m 52ms/step\n",
      "\u001b[1m1/1\u001b[0m \u001b[32m━━━━━━━━━━━━━━━━━━━━\u001b[0m\u001b[37m\u001b[0m \u001b[1m0s\u001b[0m 53ms/step\n"
     ]
    },
    {
     "name": "stderr",
     "output_type": "stream",
     "text": [
      "\r\n",
      " 18%|███████▌                                  | 215/1200 [00:19<01:26, 11.45it/s]"
     ]
    },
    {
     "name": "stdout",
     "output_type": "stream",
     "text": [
      "\u001b[1m1/1\u001b[0m \u001b[32m━━━━━━━━━━━━━━━━━━━━\u001b[0m\u001b[37m\u001b[0m \u001b[1m0s\u001b[0m 53ms/step\n",
      "\u001b[1m1/1\u001b[0m \u001b[32m━━━━━━━━━━━━━━━━━━━━\u001b[0m\u001b[37m\u001b[0m \u001b[1m0s\u001b[0m 52ms/step\n"
     ]
    },
    {
     "name": "stderr",
     "output_type": "stream",
     "text": [
      "\r\n",
      " 18%|███████▌                                  | 217/1200 [00:19<01:25, 11.56it/s]"
     ]
    },
    {
     "name": "stdout",
     "output_type": "stream",
     "text": [
      "\u001b[1m1/1\u001b[0m \u001b[32m━━━━━━━━━━━━━━━━━━━━\u001b[0m\u001b[37m\u001b[0m \u001b[1m0s\u001b[0m 53ms/step\n",
      "\u001b[1m1/1\u001b[0m \u001b[32m━━━━━━━━━━━━━━━━━━━━\u001b[0m\u001b[37m\u001b[0m \u001b[1m0s\u001b[0m 53ms/step\n"
     ]
    },
    {
     "name": "stderr",
     "output_type": "stream",
     "text": [
      "\r\n",
      " 18%|███████▋                                  | 219/1200 [00:19<01:25, 11.42it/s]"
     ]
    },
    {
     "name": "stdout",
     "output_type": "stream",
     "text": [
      "\u001b[1m1/1\u001b[0m \u001b[32m━━━━━━━━━━━━━━━━━━━━\u001b[0m\u001b[37m\u001b[0m \u001b[1m0s\u001b[0m 52ms/step\n",
      "\u001b[1m1/1\u001b[0m \u001b[32m━━━━━━━━━━━━━━━━━━━━\u001b[0m\u001b[37m\u001b[0m \u001b[1m0s\u001b[0m 50ms/step\n"
     ]
    },
    {
     "name": "stderr",
     "output_type": "stream",
     "text": [
      "\r\n",
      " 18%|███████▋                                  | 221/1200 [00:20<01:24, 11.60it/s]"
     ]
    },
    {
     "name": "stdout",
     "output_type": "stream",
     "text": [
      "\u001b[1m1/1\u001b[0m \u001b[32m━━━━━━━━━━━━━━━━━━━━\u001b[0m\u001b[37m\u001b[0m \u001b[1m0s\u001b[0m 50ms/step\n",
      "\u001b[1m1/1\u001b[0m \u001b[32m━━━━━━━━━━━━━━━━━━━━\u001b[0m\u001b[37m\u001b[0m \u001b[1m0s\u001b[0m 50ms/step\n"
     ]
    },
    {
     "name": "stderr",
     "output_type": "stream",
     "text": [
      "\r\n",
      " 19%|███████▊                                  | 223/1200 [00:20<01:23, 11.75it/s]"
     ]
    },
    {
     "name": "stdout",
     "output_type": "stream",
     "text": [
      "\u001b[1m1/1\u001b[0m \u001b[32m━━━━━━━━━━━━━━━━━━━━\u001b[0m\u001b[37m\u001b[0m \u001b[1m0s\u001b[0m 50ms/step\n",
      "\u001b[1m1/1\u001b[0m \u001b[32m━━━━━━━━━━━━━━━━━━━━\u001b[0m\u001b[37m\u001b[0m \u001b[1m0s\u001b[0m 51ms/step\n"
     ]
    },
    {
     "name": "stderr",
     "output_type": "stream",
     "text": [
      "\r\n",
      " 19%|███████▉                                  | 225/1200 [00:20<01:22, 11.88it/s]"
     ]
    },
    {
     "name": "stdout",
     "output_type": "stream",
     "text": [
      "\u001b[1m1/1\u001b[0m \u001b[32m━━━━━━━━━━━━━━━━━━━━\u001b[0m\u001b[37m\u001b[0m \u001b[1m0s\u001b[0m 50ms/step\n",
      "\u001b[1m1/1\u001b[0m \u001b[32m━━━━━━━━━━━━━━━━━━━━\u001b[0m\u001b[37m\u001b[0m \u001b[1m0s\u001b[0m 50ms/step\n"
     ]
    },
    {
     "name": "stderr",
     "output_type": "stream",
     "text": [
      "\r\n",
      " 19%|███████▉                                  | 227/1200 [00:20<01:20, 12.02it/s]"
     ]
    },
    {
     "name": "stdout",
     "output_type": "stream",
     "text": [
      "\u001b[1m1/1\u001b[0m \u001b[32m━━━━━━━━━━━━━━━━━━━━\u001b[0m\u001b[37m\u001b[0m \u001b[1m0s\u001b[0m 51ms/step\n",
      "\u001b[1m1/1\u001b[0m \u001b[32m━━━━━━━━━━━━━━━━━━━━\u001b[0m\u001b[37m\u001b[0m \u001b[1m0s\u001b[0m 50ms/step\n"
     ]
    },
    {
     "name": "stderr",
     "output_type": "stream",
     "text": [
      "\r\n",
      " 19%|████████                                  | 229/1200 [00:20<01:20, 12.12it/s]"
     ]
    },
    {
     "name": "stdout",
     "output_type": "stream",
     "text": [
      "\u001b[1m1/1\u001b[0m \u001b[32m━━━━━━━━━━━━━━━━━━━━\u001b[0m\u001b[37m\u001b[0m \u001b[1m0s\u001b[0m 50ms/step\n",
      "\u001b[1m1/1\u001b[0m \u001b[32m━━━━━━━━━━━━━━━━━━━━\u001b[0m\u001b[37m\u001b[0m \u001b[1m0s\u001b[0m 52ms/step\n"
     ]
    },
    {
     "name": "stderr",
     "output_type": "stream",
     "text": [
      "\r\n",
      " 19%|████████                                  | 231/1200 [00:20<01:19, 12.13it/s]"
     ]
    },
    {
     "name": "stdout",
     "output_type": "stream",
     "text": [
      "\u001b[1m1/1\u001b[0m \u001b[32m━━━━━━━━━━━━━━━━━━━━\u001b[0m\u001b[37m\u001b[0m \u001b[1m0s\u001b[0m 51ms/step\n",
      "\u001b[1m1/1\u001b[0m \u001b[32m━━━━━━━━━━━━━━━━━━━━\u001b[0m\u001b[37m\u001b[0m \u001b[1m0s\u001b[0m 52ms/step\n"
     ]
    },
    {
     "name": "stderr",
     "output_type": "stream",
     "text": [
      "\r\n",
      " 19%|████████▏                                 | 233/1200 [00:21<01:19, 12.12it/s]"
     ]
    },
    {
     "name": "stdout",
     "output_type": "stream",
     "text": [
      "\u001b[1m1/1\u001b[0m \u001b[32m━━━━━━━━━━━━━━━━━━━━\u001b[0m\u001b[37m\u001b[0m \u001b[1m0s\u001b[0m 52ms/step\n",
      "\u001b[1m1/1\u001b[0m \u001b[32m━━━━━━━━━━━━━━━━━━━━\u001b[0m\u001b[37m\u001b[0m \u001b[1m0s\u001b[0m 52ms/step\n"
     ]
    },
    {
     "name": "stderr",
     "output_type": "stream",
     "text": [
      "\r\n",
      " 20%|████████▏                                 | 235/1200 [00:21<01:20, 12.04it/s]"
     ]
    },
    {
     "name": "stdout",
     "output_type": "stream",
     "text": [
      "\u001b[1m1/1\u001b[0m \u001b[32m━━━━━━━━━━━━━━━━━━━━\u001b[0m\u001b[37m\u001b[0m \u001b[1m0s\u001b[0m 52ms/step\n",
      "\u001b[1m1/1\u001b[0m \u001b[32m━━━━━━━━━━━━━━━━━━━━\u001b[0m\u001b[37m\u001b[0m \u001b[1m0s\u001b[0m 52ms/step\n"
     ]
    },
    {
     "name": "stderr",
     "output_type": "stream",
     "text": [
      "\r\n",
      " 20%|████████▎                                 | 237/1200 [00:21<01:20, 12.03it/s]"
     ]
    },
    {
     "name": "stdout",
     "output_type": "stream",
     "text": [
      "\u001b[1m1/1\u001b[0m \u001b[32m━━━━━━━━━━━━━━━━━━━━\u001b[0m\u001b[37m\u001b[0m \u001b[1m0s\u001b[0m 52ms/step\n",
      "\u001b[1m1/1\u001b[0m \u001b[32m━━━━━━━━━━━━━━━━━━━━\u001b[0m\u001b[37m\u001b[0m \u001b[1m0s\u001b[0m 52ms/step\n"
     ]
    },
    {
     "name": "stderr",
     "output_type": "stream",
     "text": [
      "\r\n",
      " 20%|████████▎                                 | 239/1200 [00:21<01:23, 11.48it/s]"
     ]
    },
    {
     "name": "stdout",
     "output_type": "stream",
     "text": [
      "\u001b[1m1/1\u001b[0m \u001b[32m━━━━━━━━━━━━━━━━━━━━\u001b[0m\u001b[37m\u001b[0m \u001b[1m0s\u001b[0m 51ms/step\n",
      "\u001b[1m1/1\u001b[0m \u001b[32m━━━━━━━━━━━━━━━━━━━━\u001b[0m\u001b[37m\u001b[0m \u001b[1m0s\u001b[0m 52ms/step\n"
     ]
    },
    {
     "name": "stderr",
     "output_type": "stream",
     "text": [
      "\r\n",
      " 20%|████████▍                                 | 241/1200 [00:21<01:22, 11.64it/s]"
     ]
    },
    {
     "name": "stdout",
     "output_type": "stream",
     "text": [
      "\u001b[1m1/1\u001b[0m \u001b[32m━━━━━━━━━━━━━━━━━━━━\u001b[0m\u001b[37m\u001b[0m \u001b[1m0s\u001b[0m 52ms/step\n",
      "\u001b[1m1/1\u001b[0m \u001b[32m━━━━━━━━━━━━━━━━━━━━\u001b[0m\u001b[37m\u001b[0m \u001b[1m0s\u001b[0m 52ms/step\n"
     ]
    },
    {
     "name": "stderr",
     "output_type": "stream",
     "text": [
      "\r\n",
      " 20%|████████▌                                 | 243/1200 [00:21<01:23, 11.50it/s]"
     ]
    },
    {
     "name": "stdout",
     "output_type": "stream",
     "text": [
      "\u001b[1m1/1\u001b[0m \u001b[32m━━━━━━━━━━━━━━━━━━━━\u001b[0m\u001b[37m\u001b[0m \u001b[1m0s\u001b[0m 52ms/step\n",
      "\u001b[1m1/1\u001b[0m \u001b[32m━━━━━━━━━━━━━━━━━━━━\u001b[0m\u001b[37m\u001b[0m \u001b[1m0s\u001b[0m 53ms/step\n"
     ]
    },
    {
     "name": "stderr",
     "output_type": "stream",
     "text": [
      "\r\n",
      " 20%|████████▌                                 | 245/1200 [00:22<01:24, 11.26it/s]"
     ]
    },
    {
     "name": "stdout",
     "output_type": "stream",
     "text": [
      "\u001b[1m1/1\u001b[0m \u001b[32m━━━━━━━━━━━━━━━━━━━━\u001b[0m\u001b[37m\u001b[0m \u001b[1m0s\u001b[0m 53ms/step\n",
      "\u001b[1m1/1\u001b[0m \u001b[32m━━━━━━━━━━━━━━━━━━━━\u001b[0m\u001b[37m\u001b[0m \u001b[1m0s\u001b[0m 51ms/step\n"
     ]
    },
    {
     "name": "stderr",
     "output_type": "stream",
     "text": [
      "\r\n",
      " 21%|████████▋                                 | 247/1200 [00:22<01:24, 11.34it/s]"
     ]
    },
    {
     "name": "stdout",
     "output_type": "stream",
     "text": [
      "\u001b[1m1/1\u001b[0m \u001b[32m━━━━━━━━━━━━━━━━━━━━\u001b[0m\u001b[37m\u001b[0m \u001b[1m0s\u001b[0m 52ms/step\n",
      "\u001b[1m1/1\u001b[0m \u001b[32m━━━━━━━━━━━━━━━━━━━━\u001b[0m\u001b[37m\u001b[0m \u001b[1m0s\u001b[0m 53ms/step\n"
     ]
    },
    {
     "name": "stderr",
     "output_type": "stream",
     "text": [
      "\r\n",
      " 21%|████████▋                                 | 249/1200 [00:22<01:24, 11.24it/s]"
     ]
    },
    {
     "name": "stdout",
     "output_type": "stream",
     "text": [
      "\u001b[1m1/1\u001b[0m \u001b[32m━━━━━━━━━━━━━━━━━━━━\u001b[0m\u001b[37m\u001b[0m \u001b[1m0s\u001b[0m 52ms/step\n",
      "\u001b[1m1/1\u001b[0m \u001b[32m━━━━━━━━━━━━━━━━━━━━\u001b[0m\u001b[37m\u001b[0m \u001b[1m0s\u001b[0m 52ms/step\n"
     ]
    },
    {
     "name": "stderr",
     "output_type": "stream",
     "text": [
      "\r\n",
      " 21%|████████▊                                 | 251/1200 [00:22<01:24, 11.21it/s]"
     ]
    },
    {
     "name": "stdout",
     "output_type": "stream",
     "text": [
      "\u001b[1m1/1\u001b[0m \u001b[32m━━━━━━━━━━━━━━━━━━━━\u001b[0m\u001b[37m\u001b[0m \u001b[1m0s\u001b[0m 51ms/step\n",
      "\u001b[1m1/1\u001b[0m \u001b[32m━━━━━━━━━━━━━━━━━━━━\u001b[0m\u001b[37m\u001b[0m \u001b[1m0s\u001b[0m 51ms/step\n"
     ]
    },
    {
     "name": "stderr",
     "output_type": "stream",
     "text": [
      "\r\n",
      " 21%|████████▊                                 | 253/1200 [00:22<01:22, 11.51it/s]"
     ]
    },
    {
     "name": "stdout",
     "output_type": "stream",
     "text": [
      "\u001b[1m1/1\u001b[0m \u001b[32m━━━━━━━━━━━━━━━━━━━━\u001b[0m\u001b[37m\u001b[0m \u001b[1m0s\u001b[0m 51ms/step\n",
      "\u001b[1m1/1\u001b[0m \u001b[32m━━━━━━━━━━━━━━━━━━━━\u001b[0m\u001b[37m\u001b[0m \u001b[1m0s\u001b[0m 50ms/step\n"
     ]
    },
    {
     "name": "stderr",
     "output_type": "stream",
     "text": [
      "\r\n",
      " 21%|████████▉                                 | 255/1200 [00:22<01:20, 11.69it/s]"
     ]
    },
    {
     "name": "stdout",
     "output_type": "stream",
     "text": [
      "\u001b[1m1/1\u001b[0m \u001b[32m━━━━━━━━━━━━━━━━━━━━\u001b[0m\u001b[37m\u001b[0m \u001b[1m0s\u001b[0m 50ms/step\n",
      "\u001b[1m1/1\u001b[0m \u001b[32m━━━━━━━━━━━━━━━━━━━━\u001b[0m\u001b[37m\u001b[0m \u001b[1m0s\u001b[0m 50ms/step\n"
     ]
    },
    {
     "name": "stderr",
     "output_type": "stream",
     "text": [
      "\r\n",
      " 21%|████████▉                                 | 257/1200 [00:23<01:20, 11.65it/s]"
     ]
    },
    {
     "name": "stdout",
     "output_type": "stream",
     "text": [
      "\u001b[1m1/1\u001b[0m \u001b[32m━━━━━━━━━━━━━━━━━━━━\u001b[0m\u001b[37m\u001b[0m \u001b[1m0s\u001b[0m 51ms/step\n",
      "\u001b[1m1/1\u001b[0m \u001b[32m━━━━━━━━━━━━━━━━━━━━\u001b[0m\u001b[37m\u001b[0m \u001b[1m0s\u001b[0m 52ms/step\n"
     ]
    },
    {
     "name": "stderr",
     "output_type": "stream",
     "text": [
      "\r\n",
      " 22%|█████████                                 | 259/1200 [00:23<01:24, 11.19it/s]"
     ]
    },
    {
     "name": "stdout",
     "output_type": "stream",
     "text": [
      "\u001b[1m1/1\u001b[0m \u001b[32m━━━━━━━━━━━━━━━━━━━━\u001b[0m\u001b[37m\u001b[0m \u001b[1m0s\u001b[0m 51ms/step\n",
      "\u001b[1m1/1\u001b[0m \u001b[32m━━━━━━━━━━━━━━━━━━━━\u001b[0m\u001b[37m\u001b[0m \u001b[1m0s\u001b[0m 51ms/step\n"
     ]
    },
    {
     "name": "stderr",
     "output_type": "stream",
     "text": [
      "\r\n",
      " 22%|█████████▏                                | 261/1200 [00:23<01:23, 11.20it/s]"
     ]
    },
    {
     "name": "stdout",
     "output_type": "stream",
     "text": [
      "\u001b[1m1/1\u001b[0m \u001b[32m━━━━━━━━━━━━━━━━━━━━\u001b[0m\u001b[37m\u001b[0m \u001b[1m0s\u001b[0m 53ms/step\n",
      "\u001b[1m1/1\u001b[0m \u001b[32m━━━━━━━━━━━━━━━━━━━━\u001b[0m\u001b[37m\u001b[0m \u001b[1m0s\u001b[0m 51ms/step\n"
     ]
    },
    {
     "name": "stderr",
     "output_type": "stream",
     "text": [
      "\r\n",
      " 22%|█████████▏                                | 263/1200 [00:23<01:23, 11.18it/s]"
     ]
    },
    {
     "name": "stdout",
     "output_type": "stream",
     "text": [
      "\u001b[1m1/1\u001b[0m \u001b[32m━━━━━━━━━━━━━━━━━━━━\u001b[0m\u001b[37m\u001b[0m \u001b[1m0s\u001b[0m 51ms/step\n",
      "\u001b[1m1/1\u001b[0m \u001b[32m━━━━━━━━━━━━━━━━━━━━\u001b[0m\u001b[37m\u001b[0m \u001b[1m0s\u001b[0m 50ms/step\n"
     ]
    },
    {
     "name": "stderr",
     "output_type": "stream",
     "text": [
      "\r\n",
      " 22%|█████████▎                                | 265/1200 [00:23<01:21, 11.50it/s]"
     ]
    },
    {
     "name": "stdout",
     "output_type": "stream",
     "text": [
      "\u001b[1m1/1\u001b[0m \u001b[32m━━━━━━━━━━━━━━━━━━━━\u001b[0m\u001b[37m\u001b[0m \u001b[1m0s\u001b[0m 50ms/step\n",
      "\u001b[1m1/1\u001b[0m \u001b[32m━━━━━━━━━━━━━━━━━━━━\u001b[0m\u001b[37m\u001b[0m \u001b[1m0s\u001b[0m 52ms/step\n"
     ]
    },
    {
     "name": "stderr",
     "output_type": "stream",
     "text": [
      "\r\n",
      " 22%|█████████▎                                | 267/1200 [00:23<01:19, 11.73it/s]"
     ]
    },
    {
     "name": "stdout",
     "output_type": "stream",
     "text": [
      "\u001b[1m1/1\u001b[0m \u001b[32m━━━━━━━━━━━━━━━━━━━━\u001b[0m\u001b[37m\u001b[0m \u001b[1m0s\u001b[0m 50ms/step\n",
      "\u001b[1m1/1\u001b[0m \u001b[32m━━━━━━━━━━━━━━━━━━━━\u001b[0m\u001b[37m\u001b[0m \u001b[1m0s\u001b[0m 51ms/step\n"
     ]
    },
    {
     "name": "stderr",
     "output_type": "stream",
     "text": [
      "\r\n",
      " 22%|█████████▍                                | 269/1200 [00:24<01:20, 11.62it/s]"
     ]
    },
    {
     "name": "stdout",
     "output_type": "stream",
     "text": [
      "\u001b[1m1/1\u001b[0m \u001b[32m━━━━━━━━━━━━━━━━━━━━\u001b[0m\u001b[37m\u001b[0m \u001b[1m0s\u001b[0m 50ms/step\n",
      "\u001b[1m1/1\u001b[0m \u001b[32m━━━━━━━━━━━━━━━━━━━━\u001b[0m\u001b[37m\u001b[0m \u001b[1m0s\u001b[0m 52ms/step\n"
     ]
    },
    {
     "name": "stderr",
     "output_type": "stream",
     "text": [
      "\r\n",
      " 23%|█████████▍                                | 271/1200 [00:24<01:21, 11.43it/s]"
     ]
    },
    {
     "name": "stdout",
     "output_type": "stream",
     "text": [
      "\u001b[1m1/1\u001b[0m \u001b[32m━━━━━━━━━━━━━━━━━━━━\u001b[0m\u001b[37m\u001b[0m \u001b[1m0s\u001b[0m 52ms/step\n",
      "\u001b[1m1/1\u001b[0m \u001b[32m━━━━━━━━━━━━━━━━━━━━\u001b[0m\u001b[37m\u001b[0m \u001b[1m0s\u001b[0m 53ms/step\n"
     ]
    },
    {
     "name": "stderr",
     "output_type": "stream",
     "text": [
      "\r\n",
      " 23%|█████████▌                                | 273/1200 [00:24<01:21, 11.40it/s]"
     ]
    },
    {
     "name": "stdout",
     "output_type": "stream",
     "text": [
      "\u001b[1m1/1\u001b[0m \u001b[32m━━━━━━━━━━━━━━━━━━━━\u001b[0m\u001b[37m\u001b[0m \u001b[1m0s\u001b[0m 53ms/step\n",
      "\u001b[1m1/1\u001b[0m \u001b[32m━━━━━━━━━━━━━━━━━━━━\u001b[0m\u001b[37m\u001b[0m \u001b[1m0s\u001b[0m 53ms/step\n"
     ]
    },
    {
     "name": "stderr",
     "output_type": "stream",
     "text": [
      "\r\n",
      " 23%|█████████▋                                | 275/1200 [00:24<01:22, 11.21it/s]"
     ]
    },
    {
     "name": "stdout",
     "output_type": "stream",
     "text": [
      "\u001b[1m1/1\u001b[0m \u001b[32m━━━━━━━━━━━━━━━━━━━━\u001b[0m\u001b[37m\u001b[0m \u001b[1m0s\u001b[0m 54ms/step\n",
      "\u001b[1m1/1\u001b[0m \u001b[32m━━━━━━━━━━━━━━━━━━━━\u001b[0m\u001b[37m\u001b[0m \u001b[1m0s\u001b[0m 52ms/step\n"
     ]
    },
    {
     "name": "stderr",
     "output_type": "stream",
     "text": [
      "\r\n",
      " 23%|█████████▋                                | 277/1200 [00:24<01:23, 11.08it/s]"
     ]
    },
    {
     "name": "stdout",
     "output_type": "stream",
     "text": [
      "\u001b[1m1/1\u001b[0m \u001b[32m━━━━━━━━━━━━━━━━━━━━\u001b[0m\u001b[37m\u001b[0m \u001b[1m0s\u001b[0m 52ms/step\n",
      "\u001b[1m1/1\u001b[0m \u001b[32m━━━━━━━━━━━━━━━━━━━━\u001b[0m\u001b[37m\u001b[0m \u001b[1m0s\u001b[0m 52ms/step\n"
     ]
    },
    {
     "name": "stderr",
     "output_type": "stream",
     "text": [
      "\r\n",
      " 23%|█████████▊                                | 279/1200 [00:25<01:21, 11.25it/s]"
     ]
    },
    {
     "name": "stdout",
     "output_type": "stream",
     "text": [
      "\u001b[1m1/1\u001b[0m \u001b[32m━━━━━━━━━━━━━━━━━━━━\u001b[0m\u001b[37m\u001b[0m \u001b[1m0s\u001b[0m 53ms/step\n",
      "\u001b[1m1/1\u001b[0m \u001b[32m━━━━━━━━━━━━━━━━━━━━\u001b[0m\u001b[37m\u001b[0m \u001b[1m0s\u001b[0m 52ms/step\n"
     ]
    },
    {
     "name": "stderr",
     "output_type": "stream",
     "text": [
      "\r\n",
      " 23%|█████████▊                                | 281/1200 [00:25<01:20, 11.40it/s]"
     ]
    },
    {
     "name": "stdout",
     "output_type": "stream",
     "text": [
      "\u001b[1m1/1\u001b[0m \u001b[32m━━━━━━━━━━━━━━━━━━━━\u001b[0m\u001b[37m\u001b[0m \u001b[1m0s\u001b[0m 51ms/step\n",
      "\u001b[1m1/1\u001b[0m \u001b[32m━━━━━━━━━━━━━━━━━━━━\u001b[0m\u001b[37m\u001b[0m \u001b[1m0s\u001b[0m 52ms/step\n"
     ]
    },
    {
     "name": "stderr",
     "output_type": "stream",
     "text": [
      "\r\n",
      " 24%|█████████▉                                | 283/1200 [00:25<01:19, 11.52it/s]"
     ]
    },
    {
     "name": "stdout",
     "output_type": "stream",
     "text": [
      "\u001b[1m1/1\u001b[0m \u001b[32m━━━━━━━━━━━━━━━━━━━━\u001b[0m\u001b[37m\u001b[0m \u001b[1m0s\u001b[0m 51ms/step\n",
      "\u001b[1m1/1\u001b[0m \u001b[32m━━━━━━━━━━━━━━━━━━━━\u001b[0m\u001b[37m\u001b[0m \u001b[1m0s\u001b[0m 51ms/step\n"
     ]
    },
    {
     "name": "stderr",
     "output_type": "stream",
     "text": [
      "\r\n",
      " 24%|█████████▉                                | 285/1200 [00:25<01:17, 11.74it/s]"
     ]
    },
    {
     "name": "stdout",
     "output_type": "stream",
     "text": [
      "\u001b[1m1/1\u001b[0m \u001b[32m━━━━━━━━━━━━━━━━━━━━\u001b[0m\u001b[37m\u001b[0m \u001b[1m0s\u001b[0m 52ms/step\n",
      "\u001b[1m1/1\u001b[0m \u001b[32m━━━━━━━━━━━━━━━━━━━━\u001b[0m\u001b[37m\u001b[0m \u001b[1m0s\u001b[0m 51ms/step\n"
     ]
    },
    {
     "name": "stderr",
     "output_type": "stream",
     "text": [
      "\r\n",
      " 24%|██████████                                | 287/1200 [00:25<01:17, 11.83it/s]"
     ]
    },
    {
     "name": "stdout",
     "output_type": "stream",
     "text": [
      "\u001b[1m1/1\u001b[0m \u001b[32m━━━━━━━━━━━━━━━━━━━━\u001b[0m\u001b[37m\u001b[0m \u001b[1m0s\u001b[0m 52ms/step\n",
      "\u001b[1m1/1\u001b[0m \u001b[32m━━━━━━━━━━━━━━━━━━━━\u001b[0m\u001b[37m\u001b[0m \u001b[1m0s\u001b[0m 51ms/step\n"
     ]
    },
    {
     "name": "stderr",
     "output_type": "stream",
     "text": [
      "\r\n",
      " 24%|██████████                                | 289/1200 [00:25<01:18, 11.61it/s]"
     ]
    },
    {
     "name": "stdout",
     "output_type": "stream",
     "text": [
      "\u001b[1m1/1\u001b[0m \u001b[32m━━━━━━━━━━━━━━━━━━━━\u001b[0m\u001b[37m\u001b[0m \u001b[1m0s\u001b[0m 51ms/step\n",
      "\u001b[1m1/1\u001b[0m \u001b[32m━━━━━━━━━━━━━━━━━━━━\u001b[0m\u001b[37m\u001b[0m \u001b[1m0s\u001b[0m 53ms/step\n"
     ]
    },
    {
     "name": "stderr",
     "output_type": "stream",
     "text": [
      "\r\n",
      " 24%|██████████▏                               | 291/1200 [00:26<01:17, 11.72it/s]"
     ]
    },
    {
     "name": "stdout",
     "output_type": "stream",
     "text": [
      "\u001b[1m1/1\u001b[0m \u001b[32m━━━━━━━━━━━━━━━━━━━━\u001b[0m\u001b[37m\u001b[0m \u001b[1m0s\u001b[0m 52ms/step\n",
      "\u001b[1m1/1\u001b[0m \u001b[32m━━━━━━━━━━━━━━━━━━━━\u001b[0m\u001b[37m\u001b[0m \u001b[1m0s\u001b[0m 53ms/step\n"
     ]
    },
    {
     "name": "stderr",
     "output_type": "stream",
     "text": [
      "\r\n",
      " 24%|██████████▎                               | 293/1200 [00:26<01:17, 11.78it/s]"
     ]
    },
    {
     "name": "stdout",
     "output_type": "stream",
     "text": [
      "\u001b[1m1/1\u001b[0m \u001b[32m━━━━━━━━━━━━━━━━━━━━\u001b[0m\u001b[37m\u001b[0m \u001b[1m0s\u001b[0m 52ms/step\n",
      "\u001b[1m1/1\u001b[0m \u001b[32m━━━━━━━━━━━━━━━━━━━━\u001b[0m\u001b[37m\u001b[0m \u001b[1m0s\u001b[0m 53ms/step\n"
     ]
    },
    {
     "name": "stderr",
     "output_type": "stream",
     "text": [
      "\r\n",
      " 25%|██████████▎                               | 295/1200 [00:26<01:16, 11.79it/s]"
     ]
    },
    {
     "name": "stdout",
     "output_type": "stream",
     "text": [
      "\u001b[1m1/1\u001b[0m \u001b[32m━━━━━━━━━━━━━━━━━━━━\u001b[0m\u001b[37m\u001b[0m \u001b[1m0s\u001b[0m 53ms/step\n",
      "\u001b[1m1/1\u001b[0m \u001b[32m━━━━━━━━━━━━━━━━━━━━\u001b[0m\u001b[37m\u001b[0m \u001b[1m0s\u001b[0m 53ms/step\n"
     ]
    },
    {
     "name": "stderr",
     "output_type": "stream",
     "text": [
      "\r\n",
      " 25%|██████████▍                               | 297/1200 [00:26<01:16, 11.76it/s]"
     ]
    },
    {
     "name": "stdout",
     "output_type": "stream",
     "text": [
      "\u001b[1m1/1\u001b[0m \u001b[32m━━━━━━━━━━━━━━━━━━━━\u001b[0m\u001b[37m\u001b[0m \u001b[1m0s\u001b[0m 52ms/step\n",
      "\u001b[1m1/1\u001b[0m \u001b[32m━━━━━━━━━━━━━━━━━━━━\u001b[0m\u001b[37m\u001b[0m \u001b[1m0s\u001b[0m 52ms/step\n"
     ]
    },
    {
     "name": "stderr",
     "output_type": "stream",
     "text": [
      "\r\n",
      " 25%|██████████▍                               | 299/1200 [00:26<01:16, 11.78it/s]"
     ]
    },
    {
     "name": "stdout",
     "output_type": "stream",
     "text": [
      "\u001b[1m1/1\u001b[0m \u001b[32m━━━━━━━━━━━━━━━━━━━━\u001b[0m\u001b[37m\u001b[0m \u001b[1m0s\u001b[0m 52ms/step\n",
      "\u001b[1m1/1\u001b[0m \u001b[32m━━━━━━━━━━━━━━━━━━━━\u001b[0m\u001b[37m\u001b[0m \u001b[1m0s\u001b[0m 50ms/step\n"
     ]
    },
    {
     "name": "stderr",
     "output_type": "stream",
     "text": [
      "\r\n",
      " 25%|██████████▌                               | 301/1200 [00:26<01:15, 11.88it/s]"
     ]
    },
    {
     "name": "stdout",
     "output_type": "stream",
     "text": [
      "\u001b[1m1/1\u001b[0m \u001b[32m━━━━━━━━━━━━━━━━━━━━\u001b[0m\u001b[37m\u001b[0m \u001b[1m0s\u001b[0m 49ms/step\n",
      "\u001b[1m1/1\u001b[0m \u001b[32m━━━━━━━━━━━━━━━━━━━━\u001b[0m\u001b[37m\u001b[0m \u001b[1m0s\u001b[0m 47ms/step\n"
     ]
    },
    {
     "name": "stderr",
     "output_type": "stream",
     "text": [
      "\r\n",
      " 25%|██████████▌                               | 303/1200 [00:27<01:14, 12.01it/s]"
     ]
    },
    {
     "name": "stdout",
     "output_type": "stream",
     "text": [
      "\u001b[1m1/1\u001b[0m \u001b[32m━━━━━━━━━━━━━━━━━━━━\u001b[0m\u001b[37m\u001b[0m \u001b[1m0s\u001b[0m 48ms/step\n",
      "\u001b[1m1/1\u001b[0m \u001b[32m━━━━━━━━━━━━━━━━━━━━\u001b[0m\u001b[37m\u001b[0m \u001b[1m0s\u001b[0m 47ms/step\n"
     ]
    },
    {
     "name": "stderr",
     "output_type": "stream",
     "text": [
      "\r\n",
      " 25%|██████████▋                               | 305/1200 [00:27<01:14, 12.00it/s]"
     ]
    },
    {
     "name": "stdout",
     "output_type": "stream",
     "text": [
      "\u001b[1m1/1\u001b[0m \u001b[32m━━━━━━━━━━━━━━━━━━━━\u001b[0m\u001b[37m\u001b[0m \u001b[1m0s\u001b[0m 48ms/step\n",
      "\u001b[1m1/1\u001b[0m \u001b[32m━━━━━━━━━━━━━━━━━━━━\u001b[0m\u001b[37m\u001b[0m \u001b[1m0s\u001b[0m 48ms/step\n"
     ]
    },
    {
     "name": "stderr",
     "output_type": "stream",
     "text": [
      "\r\n",
      " 26%|██████████▋                               | 307/1200 [00:27<01:13, 12.18it/s]"
     ]
    },
    {
     "name": "stdout",
     "output_type": "stream",
     "text": [
      "\u001b[1m1/1\u001b[0m \u001b[32m━━━━━━━━━━━━━━━━━━━━\u001b[0m\u001b[37m\u001b[0m \u001b[1m0s\u001b[0m 48ms/step\n",
      "\u001b[1m1/1\u001b[0m \u001b[32m━━━━━━━━━━━━━━━━━━━━\u001b[0m\u001b[37m\u001b[0m \u001b[1m0s\u001b[0m 49ms/step\n"
     ]
    },
    {
     "name": "stderr",
     "output_type": "stream",
     "text": [
      "\r\n",
      " 26%|██████████▊                               | 309/1200 [00:27<01:12, 12.33it/s]"
     ]
    },
    {
     "name": "stdout",
     "output_type": "stream",
     "text": [
      "\u001b[1m1/1\u001b[0m \u001b[32m━━━━━━━━━━━━━━━━━━━━\u001b[0m\u001b[37m\u001b[0m \u001b[1m0s\u001b[0m 48ms/step\n",
      "\u001b[1m1/1\u001b[0m \u001b[32m━━━━━━━━━━━━━━━━━━━━\u001b[0m\u001b[37m\u001b[0m \u001b[1m0s\u001b[0m 50ms/step\n"
     ]
    },
    {
     "name": "stderr",
     "output_type": "stream",
     "text": [
      "\r\n",
      " 26%|██████████▉                               | 311/1200 [00:27<01:11, 12.43it/s]"
     ]
    },
    {
     "name": "stdout",
     "output_type": "stream",
     "text": [
      "\u001b[1m1/1\u001b[0m \u001b[32m━━━━━━━━━━━━━━━━━━━━\u001b[0m\u001b[37m\u001b[0m \u001b[1m0s\u001b[0m 50ms/step\n",
      "\u001b[1m1/1\u001b[0m \u001b[32m━━━━━━━━━━━━━━━━━━━━\u001b[0m\u001b[37m\u001b[0m \u001b[1m0s\u001b[0m 49ms/step\n"
     ]
    },
    {
     "name": "stderr",
     "output_type": "stream",
     "text": [
      "\r\n",
      " 26%|██████████▉                               | 313/1200 [00:27<01:11, 12.47it/s]"
     ]
    },
    {
     "name": "stdout",
     "output_type": "stream",
     "text": [
      "\u001b[1m1/1\u001b[0m \u001b[32m━━━━━━━━━━━━━━━━━━━━\u001b[0m\u001b[37m\u001b[0m \u001b[1m0s\u001b[0m 51ms/step\n",
      "\u001b[1m1/1\u001b[0m \u001b[32m━━━━━━━━━━━━━━━━━━━━\u001b[0m\u001b[37m\u001b[0m \u001b[1m0s\u001b[0m 50ms/step\n"
     ]
    },
    {
     "name": "stderr",
     "output_type": "stream",
     "text": [
      "\r\n",
      " 26%|███████████                               | 315/1200 [00:28<01:11, 12.40it/s]"
     ]
    },
    {
     "name": "stdout",
     "output_type": "stream",
     "text": [
      "\u001b[1m1/1\u001b[0m \u001b[32m━━━━━━━━━━━━━━━━━━━━\u001b[0m\u001b[37m\u001b[0m \u001b[1m0s\u001b[0m 50ms/step\n",
      "\u001b[1m1/1\u001b[0m \u001b[32m━━━━━━━━━━━━━━━━━━━━\u001b[0m\u001b[37m\u001b[0m \u001b[1m0s\u001b[0m 50ms/step\n"
     ]
    },
    {
     "name": "stderr",
     "output_type": "stream",
     "text": [
      "\r\n",
      " 26%|███████████                               | 317/1200 [00:28<01:12, 12.11it/s]"
     ]
    },
    {
     "name": "stdout",
     "output_type": "stream",
     "text": [
      "\u001b[1m1/1\u001b[0m \u001b[32m━━━━━━━━━━━━━━━━━━━━\u001b[0m\u001b[37m\u001b[0m \u001b[1m0s\u001b[0m 50ms/step\n",
      "\u001b[1m1/1\u001b[0m \u001b[32m━━━━━━━━━━━━━━━━━━━━\u001b[0m\u001b[37m\u001b[0m \u001b[1m0s\u001b[0m 50ms/step\n"
     ]
    },
    {
     "name": "stderr",
     "output_type": "stream",
     "text": [
      "\r\n",
      " 27%|███████████▏                              | 319/1200 [00:28<01:12, 12.10it/s]"
     ]
    },
    {
     "name": "stdout",
     "output_type": "stream",
     "text": [
      "\u001b[1m1/1\u001b[0m \u001b[32m━━━━━━━━━━━━━━━━━━━━\u001b[0m\u001b[37m\u001b[0m \u001b[1m0s\u001b[0m 51ms/step\n",
      "\u001b[1m1/1\u001b[0m \u001b[32m━━━━━━━━━━━━━━━━━━━━\u001b[0m\u001b[37m\u001b[0m \u001b[1m0s\u001b[0m 51ms/step\n"
     ]
    },
    {
     "name": "stderr",
     "output_type": "stream",
     "text": [
      "\r\n",
      " 27%|███████████▏                              | 321/1200 [00:28<01:12, 12.15it/s]"
     ]
    },
    {
     "name": "stdout",
     "output_type": "stream",
     "text": [
      "\u001b[1m1/1\u001b[0m \u001b[32m━━━━━━━━━━━━━━━━━━━━\u001b[0m\u001b[37m\u001b[0m \u001b[1m0s\u001b[0m 51ms/step\n",
      "\u001b[1m1/1\u001b[0m \u001b[32m━━━━━━━━━━━━━━━━━━━━\u001b[0m\u001b[37m\u001b[0m \u001b[1m0s\u001b[0m 51ms/step\n"
     ]
    },
    {
     "name": "stderr",
     "output_type": "stream",
     "text": [
      "\r\n",
      " 27%|███████████▎                              | 323/1200 [00:28<01:11, 12.18it/s]"
     ]
    },
    {
     "name": "stdout",
     "output_type": "stream",
     "text": [
      "\u001b[1m1/1\u001b[0m \u001b[32m━━━━━━━━━━━━━━━━━━━━\u001b[0m\u001b[37m\u001b[0m \u001b[1m0s\u001b[0m 52ms/step\n",
      "\u001b[1m1/1\u001b[0m \u001b[32m━━━━━━━━━━━━━━━━━━━━\u001b[0m\u001b[37m\u001b[0m \u001b[1m0s\u001b[0m 50ms/step\n"
     ]
    },
    {
     "name": "stderr",
     "output_type": "stream",
     "text": [
      "\r\n",
      " 27%|███████████▍                              | 325/1200 [00:28<01:11, 12.22it/s]"
     ]
    },
    {
     "name": "stdout",
     "output_type": "stream",
     "text": [
      "\u001b[1m1/1\u001b[0m \u001b[32m━━━━━━━━━━━━━━━━━━━━\u001b[0m\u001b[37m\u001b[0m \u001b[1m0s\u001b[0m 50ms/step\n",
      "\u001b[1m1/1\u001b[0m \u001b[32m━━━━━━━━━━━━━━━━━━━━\u001b[0m\u001b[37m\u001b[0m \u001b[1m0s\u001b[0m 50ms/step\n"
     ]
    },
    {
     "name": "stderr",
     "output_type": "stream",
     "text": [
      "\r\n",
      " 27%|███████████▍                              | 327/1200 [00:29<01:11, 12.26it/s]"
     ]
    },
    {
     "name": "stdout",
     "output_type": "stream",
     "text": [
      "\u001b[1m1/1\u001b[0m \u001b[32m━━━━━━━━━━━━━━━━━━━━\u001b[0m\u001b[37m\u001b[0m \u001b[1m0s\u001b[0m 51ms/step\n",
      "\u001b[1m1/1\u001b[0m \u001b[32m━━━━━━━━━━━━━━━━━━━━\u001b[0m\u001b[37m\u001b[0m \u001b[1m0s\u001b[0m 50ms/step\n"
     ]
    },
    {
     "name": "stderr",
     "output_type": "stream",
     "text": [
      "\r\n",
      " 27%|███████████▌                              | 329/1200 [00:29<01:10, 12.28it/s]"
     ]
    },
    {
     "name": "stdout",
     "output_type": "stream",
     "text": [
      "\u001b[1m1/1\u001b[0m \u001b[32m━━━━━━━━━━━━━━━━━━━━\u001b[0m\u001b[37m\u001b[0m \u001b[1m0s\u001b[0m 50ms/step\n",
      "\u001b[1m1/1\u001b[0m \u001b[32m━━━━━━━━━━━━━━━━━━━━\u001b[0m\u001b[37m\u001b[0m \u001b[1m0s\u001b[0m 52ms/step\n"
     ]
    },
    {
     "name": "stderr",
     "output_type": "stream",
     "text": [
      "\r\n",
      " 28%|███████████▌                              | 331/1200 [00:29<01:14, 11.69it/s]"
     ]
    },
    {
     "name": "stdout",
     "output_type": "stream",
     "text": [
      "\u001b[1m1/1\u001b[0m \u001b[32m━━━━━━━━━━━━━━━━━━━━\u001b[0m\u001b[37m\u001b[0m \u001b[1m0s\u001b[0m 51ms/step\n",
      "\u001b[1m1/1\u001b[0m \u001b[32m━━━━━━━━━━━━━━━━━━━━\u001b[0m\u001b[37m\u001b[0m \u001b[1m0s\u001b[0m 52ms/step\n"
     ]
    },
    {
     "name": "stderr",
     "output_type": "stream",
     "text": [
      "\r\n",
      " 28%|███████████▋                              | 333/1200 [00:29<01:13, 11.74it/s]"
     ]
    },
    {
     "name": "stdout",
     "output_type": "stream",
     "text": [
      "\u001b[1m1/1\u001b[0m \u001b[32m━━━━━━━━━━━━━━━━━━━━\u001b[0m\u001b[37m\u001b[0m \u001b[1m0s\u001b[0m 52ms/step\n",
      "\u001b[1m1/1\u001b[0m \u001b[32m━━━━━━━━━━━━━━━━━━━━\u001b[0m\u001b[37m\u001b[0m \u001b[1m0s\u001b[0m 52ms/step\n"
     ]
    },
    {
     "name": "stderr",
     "output_type": "stream",
     "text": [
      "\r\n",
      " 28%|███████████▋                              | 335/1200 [00:29<01:13, 11.82it/s]"
     ]
    },
    {
     "name": "stdout",
     "output_type": "stream",
     "text": [
      "\u001b[1m1/1\u001b[0m \u001b[32m━━━━━━━━━━━━━━━━━━━━\u001b[0m\u001b[37m\u001b[0m \u001b[1m0s\u001b[0m 51ms/step\n",
      "\u001b[1m1/1\u001b[0m \u001b[32m━━━━━━━━━━━━━━━━━━━━\u001b[0m\u001b[37m\u001b[0m \u001b[1m0s\u001b[0m 51ms/step\n"
     ]
    },
    {
     "name": "stderr",
     "output_type": "stream",
     "text": [
      "\r\n",
      " 28%|███████████▊                              | 337/1200 [00:29<01:12, 11.93it/s]"
     ]
    },
    {
     "name": "stdout",
     "output_type": "stream",
     "text": [
      "\u001b[1m1/1\u001b[0m \u001b[32m━━━━━━━━━━━━━━━━━━━━\u001b[0m\u001b[37m\u001b[0m \u001b[1m0s\u001b[0m 52ms/step\n",
      "\u001b[1m1/1\u001b[0m \u001b[32m━━━━━━━━━━━━━━━━━━━━\u001b[0m\u001b[37m\u001b[0m \u001b[1m0s\u001b[0m 53ms/step\n"
     ]
    },
    {
     "name": "stderr",
     "output_type": "stream",
     "text": [
      "\r\n",
      " 28%|███████████▊                              | 339/1200 [00:30<01:13, 11.66it/s]"
     ]
    },
    {
     "name": "stdout",
     "output_type": "stream",
     "text": [
      "\u001b[1m1/1\u001b[0m \u001b[32m━━━━━━━━━━━━━━━━━━━━\u001b[0m\u001b[37m\u001b[0m \u001b[1m0s\u001b[0m 51ms/step\n",
      "\u001b[1m1/1\u001b[0m \u001b[32m━━━━━━━━━━━━━━━━━━━━\u001b[0m\u001b[37m\u001b[0m \u001b[1m0s\u001b[0m 52ms/step\n"
     ]
    },
    {
     "name": "stderr",
     "output_type": "stream",
     "text": [
      "\r\n",
      " 28%|███████████▉                              | 341/1200 [00:30<01:13, 11.62it/s]"
     ]
    },
    {
     "name": "stdout",
     "output_type": "stream",
     "text": [
      "\u001b[1m1/1\u001b[0m \u001b[32m━━━━━━━━━━━━━━━━━━━━\u001b[0m\u001b[37m\u001b[0m \u001b[1m0s\u001b[0m 51ms/step\n",
      "\u001b[1m1/1\u001b[0m \u001b[32m━━━━━━━━━━━━━━━━━━━━\u001b[0m\u001b[37m\u001b[0m \u001b[1m0s\u001b[0m 51ms/step\n"
     ]
    },
    {
     "name": "stderr",
     "output_type": "stream",
     "text": [
      "\r\n",
      " 29%|████████████                              | 343/1200 [00:30<01:15, 11.39it/s]"
     ]
    },
    {
     "name": "stdout",
     "output_type": "stream",
     "text": [
      "\u001b[1m1/1\u001b[0m \u001b[32m━━━━━━━━━━━━━━━━━━━━\u001b[0m\u001b[37m\u001b[0m \u001b[1m0s\u001b[0m 51ms/step\n",
      "\u001b[1m1/1\u001b[0m \u001b[32m━━━━━━━━━━━━━━━━━━━━\u001b[0m\u001b[37m\u001b[0m \u001b[1m0s\u001b[0m 51ms/step\n"
     ]
    },
    {
     "name": "stderr",
     "output_type": "stream",
     "text": [
      "\r\n",
      " 29%|████████████                              | 345/1200 [00:30<01:15, 11.31it/s]"
     ]
    },
    {
     "name": "stdout",
     "output_type": "stream",
     "text": [
      "\u001b[1m1/1\u001b[0m \u001b[32m━━━━━━━━━━━━━━━━━━━━\u001b[0m\u001b[37m\u001b[0m \u001b[1m0s\u001b[0m 50ms/step\n",
      "\u001b[1m1/1\u001b[0m \u001b[32m━━━━━━━━━━━━━━━━━━━━\u001b[0m\u001b[37m\u001b[0m \u001b[1m0s\u001b[0m 51ms/step\n"
     ]
    },
    {
     "name": "stderr",
     "output_type": "stream",
     "text": [
      "\r\n",
      " 29%|████████████▏                             | 347/1200 [00:30<01:13, 11.54it/s]"
     ]
    },
    {
     "name": "stdout",
     "output_type": "stream",
     "text": [
      "\u001b[1m1/1\u001b[0m \u001b[32m━━━━━━━━━━━━━━━━━━━━\u001b[0m\u001b[37m\u001b[0m \u001b[1m0s\u001b[0m 50ms/step\n",
      "\u001b[1m1/1\u001b[0m \u001b[32m━━━━━━━━━━━━━━━━━━━━\u001b[0m\u001b[37m\u001b[0m \u001b[1m0s\u001b[0m 51ms/step\n"
     ]
    },
    {
     "name": "stderr",
     "output_type": "stream",
     "text": [
      "\r\n",
      " 29%|████████████▏                             | 349/1200 [00:30<01:13, 11.51it/s]"
     ]
    },
    {
     "name": "stdout",
     "output_type": "stream",
     "text": [
      "\u001b[1m1/1\u001b[0m \u001b[32m━━━━━━━━━━━━━━━━━━━━\u001b[0m\u001b[37m\u001b[0m \u001b[1m0s\u001b[0m 50ms/step\n",
      "\u001b[1m1/1\u001b[0m \u001b[32m━━━━━━━━━━━━━━━━━━━━\u001b[0m\u001b[37m\u001b[0m \u001b[1m0s\u001b[0m 51ms/step\n"
     ]
    },
    {
     "name": "stderr",
     "output_type": "stream",
     "text": [
      "\r\n",
      " 29%|████████████▎                             | 351/1200 [00:31<01:12, 11.70it/s]"
     ]
    },
    {
     "name": "stdout",
     "output_type": "stream",
     "text": [
      "\u001b[1m1/1\u001b[0m \u001b[32m━━━━━━━━━━━━━━━━━━━━\u001b[0m\u001b[37m\u001b[0m \u001b[1m0s\u001b[0m 51ms/step\n",
      "\u001b[1m1/1\u001b[0m \u001b[32m━━━━━━━━━━━━━━━━━━━━\u001b[0m\u001b[37m\u001b[0m \u001b[1m0s\u001b[0m 50ms/step\n"
     ]
    },
    {
     "name": "stderr",
     "output_type": "stream",
     "text": [
      "\r\n",
      " 29%|████████████▎                             | 353/1200 [00:31<01:11, 11.86it/s]"
     ]
    },
    {
     "name": "stdout",
     "output_type": "stream",
     "text": [
      "\u001b[1m1/1\u001b[0m \u001b[32m━━━━━━━━━━━━━━━━━━━━\u001b[0m\u001b[37m\u001b[0m \u001b[1m0s\u001b[0m 51ms/step\n",
      "\u001b[1m1/1\u001b[0m \u001b[32m━━━━━━━━━━━━━━━━━━━━\u001b[0m\u001b[37m\u001b[0m \u001b[1m0s\u001b[0m 50ms/step\n"
     ]
    },
    {
     "name": "stderr",
     "output_type": "stream",
     "text": [
      "\r\n",
      " 30%|████████████▍                             | 355/1200 [00:31<01:10, 11.94it/s]"
     ]
    },
    {
     "name": "stdout",
     "output_type": "stream",
     "text": [
      "\u001b[1m1/1\u001b[0m \u001b[32m━━━━━━━━━━━━━━━━━━━━\u001b[0m\u001b[37m\u001b[0m \u001b[1m0s\u001b[0m 50ms/step\n",
      "\u001b[1m1/1\u001b[0m \u001b[32m━━━━━━━━━━━━━━━━━━━━\u001b[0m\u001b[37m\u001b[0m \u001b[1m0s\u001b[0m 51ms/step\n"
     ]
    },
    {
     "name": "stderr",
     "output_type": "stream",
     "text": [
      "\r\n",
      " 30%|████████████▍                             | 357/1200 [00:31<01:09, 12.07it/s]"
     ]
    },
    {
     "name": "stdout",
     "output_type": "stream",
     "text": [
      "\u001b[1m1/1\u001b[0m \u001b[32m━━━━━━━━━━━━━━━━━━━━\u001b[0m\u001b[37m\u001b[0m \u001b[1m0s\u001b[0m 51ms/step\n",
      "\u001b[1m1/1\u001b[0m \u001b[32m━━━━━━━━━━━━━━━━━━━━\u001b[0m\u001b[37m\u001b[0m \u001b[1m0s\u001b[0m 51ms/step\n"
     ]
    },
    {
     "name": "stderr",
     "output_type": "stream",
     "text": [
      "\r\n",
      " 30%|████████████▌                             | 359/1200 [00:31<01:10, 11.97it/s]"
     ]
    },
    {
     "name": "stdout",
     "output_type": "stream",
     "text": [
      "\u001b[1m1/1\u001b[0m \u001b[32m━━━━━━━━━━━━━━━━━━━━\u001b[0m\u001b[37m\u001b[0m \u001b[1m0s\u001b[0m 51ms/step\n",
      "\u001b[1m1/1\u001b[0m \u001b[32m━━━━━━━━━━━━━━━━━━━━\u001b[0m\u001b[37m\u001b[0m \u001b[1m0s\u001b[0m 50ms/step\n"
     ]
    },
    {
     "name": "stderr",
     "output_type": "stream",
     "text": [
      "\r\n",
      " 30%|████████████▋                             | 361/1200 [00:31<01:09, 12.07it/s]"
     ]
    },
    {
     "name": "stdout",
     "output_type": "stream",
     "text": [
      "\u001b[1m1/1\u001b[0m \u001b[32m━━━━━━━━━━━━━━━━━━━━\u001b[0m\u001b[37m\u001b[0m \u001b[1m0s\u001b[0m 50ms/step\n",
      "\u001b[1m1/1\u001b[0m \u001b[32m━━━━━━━━━━━━━━━━━━━━\u001b[0m\u001b[37m\u001b[0m \u001b[1m0s\u001b[0m 48ms/step\n"
     ]
    },
    {
     "name": "stderr",
     "output_type": "stream",
     "text": [
      "\r\n",
      " 30%|████████████▋                             | 363/1200 [00:32<01:10, 11.89it/s]"
     ]
    },
    {
     "name": "stdout",
     "output_type": "stream",
     "text": [
      "\u001b[1m1/1\u001b[0m \u001b[32m━━━━━━━━━━━━━━━━━━━━\u001b[0m\u001b[37m\u001b[0m \u001b[1m0s\u001b[0m 49ms/step\n",
      "\u001b[1m1/1\u001b[0m \u001b[32m━━━━━━━━━━━━━━━━━━━━\u001b[0m\u001b[37m\u001b[0m \u001b[1m0s\u001b[0m 50ms/step\n"
     ]
    },
    {
     "name": "stderr",
     "output_type": "stream",
     "text": [
      "\r\n",
      " 30%|████████████▊                             | 365/1200 [00:32<01:09, 12.08it/s]"
     ]
    },
    {
     "name": "stdout",
     "output_type": "stream",
     "text": [
      "\u001b[1m1/1\u001b[0m \u001b[32m━━━━━━━━━━━━━━━━━━━━\u001b[0m\u001b[37m\u001b[0m \u001b[1m0s\u001b[0m 50ms/step\n",
      "\u001b[1m1/1\u001b[0m \u001b[32m━━━━━━━━━━━━━━━━━━━━\u001b[0m\u001b[37m\u001b[0m \u001b[1m0s\u001b[0m 49ms/step\n"
     ]
    },
    {
     "name": "stderr",
     "output_type": "stream",
     "text": [
      "\r\n",
      " 31%|████████████▊                             | 367/1200 [00:32<01:10, 11.85it/s]"
     ]
    },
    {
     "name": "stdout",
     "output_type": "stream",
     "text": [
      "\u001b[1m1/1\u001b[0m \u001b[32m━━━━━━━━━━━━━━━━━━━━\u001b[0m\u001b[37m\u001b[0m \u001b[1m0s\u001b[0m 48ms/step\n",
      "\u001b[1m1/1\u001b[0m \u001b[32m━━━━━━━━━━━━━━━━━━━━\u001b[0m\u001b[37m\u001b[0m \u001b[1m0s\u001b[0m 50ms/step\n"
     ]
    },
    {
     "name": "stderr",
     "output_type": "stream",
     "text": [
      "\r\n",
      " 31%|████████████▉                             | 369/1200 [00:32<01:09, 12.03it/s]"
     ]
    },
    {
     "name": "stdout",
     "output_type": "stream",
     "text": [
      "\u001b[1m1/1\u001b[0m \u001b[32m━━━━━━━━━━━━━━━━━━━━\u001b[0m\u001b[37m\u001b[0m \u001b[1m0s\u001b[0m 51ms/step\n",
      "\u001b[1m1/1\u001b[0m \u001b[32m━━━━━━━━━━━━━━━━━━━━\u001b[0m\u001b[37m\u001b[0m \u001b[1m0s\u001b[0m 51ms/step\n"
     ]
    },
    {
     "name": "stderr",
     "output_type": "stream",
     "text": [
      "\r\n",
      " 31%|████████████▉                             | 371/1200 [00:32<01:11, 11.53it/s]"
     ]
    },
    {
     "name": "stdout",
     "output_type": "stream",
     "text": [
      "\u001b[1m1/1\u001b[0m \u001b[32m━━━━━━━━━━━━━━━━━━━━\u001b[0m\u001b[37m\u001b[0m \u001b[1m0s\u001b[0m 50ms/step\n",
      "\u001b[1m1/1\u001b[0m \u001b[32m━━━━━━━━━━━━━━━━━━━━\u001b[0m\u001b[37m\u001b[0m \u001b[1m0s\u001b[0m 51ms/step\n"
     ]
    },
    {
     "name": "stderr",
     "output_type": "stream",
     "text": [
      "\r\n",
      " 31%|█████████████                             | 373/1200 [00:32<01:10, 11.77it/s]"
     ]
    },
    {
     "name": "stdout",
     "output_type": "stream",
     "text": [
      "\u001b[1m1/1\u001b[0m \u001b[32m━━━━━━━━━━━━━━━━━━━━\u001b[0m\u001b[37m\u001b[0m \u001b[1m0s\u001b[0m 50ms/step\n",
      "\u001b[1m1/1\u001b[0m \u001b[32m━━━━━━━━━━━━━━━━━━━━\u001b[0m\u001b[37m\u001b[0m \u001b[1m0s\u001b[0m 51ms/step\n"
     ]
    },
    {
     "name": "stderr",
     "output_type": "stream",
     "text": [
      "\r\n",
      " 31%|█████████████▏                            | 375/1200 [00:33<01:09, 11.94it/s]"
     ]
    },
    {
     "name": "stdout",
     "output_type": "stream",
     "text": [
      "\u001b[1m1/1\u001b[0m \u001b[32m━━━━━━━━━━━━━━━━━━━━\u001b[0m\u001b[37m\u001b[0m \u001b[1m0s\u001b[0m 50ms/step\n",
      "\u001b[1m1/1\u001b[0m \u001b[32m━━━━━━━━━━━━━━━━━━━━\u001b[0m\u001b[37m\u001b[0m \u001b[1m0s\u001b[0m 50ms/step\n"
     ]
    },
    {
     "name": "stderr",
     "output_type": "stream",
     "text": [
      "\r\n",
      " 31%|█████████████▏                            | 377/1200 [00:33<01:09, 11.80it/s]"
     ]
    },
    {
     "name": "stdout",
     "output_type": "stream",
     "text": [
      "\u001b[1m1/1\u001b[0m \u001b[32m━━━━━━━━━━━━━━━━━━━━\u001b[0m\u001b[37m\u001b[0m \u001b[1m0s\u001b[0m 50ms/step\n",
      "\u001b[1m1/1\u001b[0m \u001b[32m━━━━━━━━━━━━━━━━━━━━\u001b[0m\u001b[37m\u001b[0m \u001b[1m0s\u001b[0m 52ms/step\n"
     ]
    },
    {
     "name": "stderr",
     "output_type": "stream",
     "text": [
      "\r\n",
      " 32%|█████████████▎                            | 379/1200 [00:33<01:09, 11.86it/s]"
     ]
    },
    {
     "name": "stdout",
     "output_type": "stream",
     "text": [
      "\u001b[1m1/1\u001b[0m \u001b[32m━━━━━━━━━━━━━━━━━━━━\u001b[0m\u001b[37m\u001b[0m \u001b[1m0s\u001b[0m 53ms/step\n",
      "\u001b[1m1/1\u001b[0m \u001b[32m━━━━━━━━━━━━━━━━━━━━\u001b[0m\u001b[37m\u001b[0m \u001b[1m0s\u001b[0m 49ms/step\n"
     ]
    },
    {
     "name": "stderr",
     "output_type": "stream",
     "text": [
      "\r\n",
      " 32%|█████████████▎                            | 381/1200 [00:33<01:08, 11.94it/s]"
     ]
    },
    {
     "name": "stdout",
     "output_type": "stream",
     "text": [
      "\u001b[1m1/1\u001b[0m \u001b[32m━━━━━━━━━━━━━━━━━━━━\u001b[0m\u001b[37m\u001b[0m \u001b[1m0s\u001b[0m 49ms/step\n",
      "\u001b[1m1/1\u001b[0m \u001b[32m━━━━━━━━━━━━━━━━━━━━\u001b[0m\u001b[37m\u001b[0m \u001b[1m0s\u001b[0m 49ms/step\n"
     ]
    },
    {
     "name": "stderr",
     "output_type": "stream",
     "text": [
      "\r\n",
      " 32%|█████████████▍                            | 383/1200 [00:33<01:07, 12.11it/s]"
     ]
    },
    {
     "name": "stdout",
     "output_type": "stream",
     "text": [
      "\u001b[1m1/1\u001b[0m \u001b[32m━━━━━━━━━━━━━━━━━━━━\u001b[0m\u001b[37m\u001b[0m \u001b[1m0s\u001b[0m 49ms/step\n",
      "\u001b[1m1/1\u001b[0m \u001b[32m━━━━━━━━━━━━━━━━━━━━\u001b[0m\u001b[37m\u001b[0m \u001b[1m0s\u001b[0m 48ms/step\n"
     ]
    },
    {
     "name": "stderr",
     "output_type": "stream",
     "text": [
      "\r\n",
      " 32%|█████████████▍                            | 385/1200 [00:33<01:09, 11.77it/s]"
     ]
    },
    {
     "name": "stdout",
     "output_type": "stream",
     "text": [
      "\u001b[1m1/1\u001b[0m \u001b[32m━━━━━━━━━━━━━━━━━━━━\u001b[0m\u001b[37m\u001b[0m \u001b[1m0s\u001b[0m 49ms/step\n",
      "\u001b[1m1/1\u001b[0m \u001b[32m━━━━━━━━━━━━━━━━━━━━\u001b[0m\u001b[37m\u001b[0m \u001b[1m0s\u001b[0m 49ms/step\n"
     ]
    },
    {
     "name": "stderr",
     "output_type": "stream",
     "text": [
      "\r\n",
      " 32%|█████████████▌                            | 387/1200 [00:34<01:08, 11.78it/s]"
     ]
    },
    {
     "name": "stdout",
     "output_type": "stream",
     "text": [
      "\u001b[1m1/1\u001b[0m \u001b[32m━━━━━━━━━━━━━━━━━━━━\u001b[0m\u001b[37m\u001b[0m \u001b[1m0s\u001b[0m 49ms/step\n",
      "\u001b[1m1/1\u001b[0m \u001b[32m━━━━━━━━━━━━━━━━━━━━\u001b[0m\u001b[37m\u001b[0m \u001b[1m0s\u001b[0m 50ms/step\n"
     ]
    },
    {
     "name": "stderr",
     "output_type": "stream",
     "text": [
      "\r\n",
      " 32%|█████████████▌                            | 389/1200 [00:34<01:08, 11.84it/s]"
     ]
    },
    {
     "name": "stdout",
     "output_type": "stream",
     "text": [
      "\u001b[1m1/1\u001b[0m \u001b[32m━━━━━━━━━━━━━━━━━━━━\u001b[0m\u001b[37m\u001b[0m \u001b[1m0s\u001b[0m 50ms/step\n",
      "\u001b[1m1/1\u001b[0m \u001b[32m━━━━━━━━━━━━━━━━━━━━\u001b[0m\u001b[37m\u001b[0m \u001b[1m0s\u001b[0m 50ms/step\n"
     ]
    },
    {
     "name": "stderr",
     "output_type": "stream",
     "text": [
      "\r\n",
      " 33%|█████████████▋                            | 391/1200 [00:34<01:07, 11.94it/s]"
     ]
    },
    {
     "name": "stdout",
     "output_type": "stream",
     "text": [
      "\u001b[1m1/1\u001b[0m \u001b[32m━━━━━━━━━━━━━━━━━━━━\u001b[0m\u001b[37m\u001b[0m \u001b[1m0s\u001b[0m 51ms/step\n",
      "\u001b[1m1/1\u001b[0m \u001b[32m━━━━━━━━━━━━━━━━━━━━\u001b[0m\u001b[37m\u001b[0m \u001b[1m0s\u001b[0m 50ms/step\n"
     ]
    },
    {
     "name": "stderr",
     "output_type": "stream",
     "text": [
      "\r\n",
      " 33%|█████████████▊                            | 393/1200 [00:34<01:08, 11.72it/s]"
     ]
    },
    {
     "name": "stdout",
     "output_type": "stream",
     "text": [
      "\u001b[1m1/1\u001b[0m \u001b[32m━━━━━━━━━━━━━━━━━━━━\u001b[0m\u001b[37m\u001b[0m \u001b[1m0s\u001b[0m 50ms/step\n",
      "\u001b[1m1/1\u001b[0m \u001b[32m━━━━━━━━━━━━━━━━━━━━\u001b[0m\u001b[37m\u001b[0m \u001b[1m0s\u001b[0m 50ms/step\n"
     ]
    },
    {
     "name": "stderr",
     "output_type": "stream",
     "text": [
      "\r\n",
      " 33%|█████████████▊                            | 395/1200 [00:34<01:09, 11.65it/s]"
     ]
    },
    {
     "name": "stdout",
     "output_type": "stream",
     "text": [
      "\u001b[1m1/1\u001b[0m \u001b[32m━━━━━━━━━━━━━━━━━━━━\u001b[0m\u001b[37m\u001b[0m \u001b[1m0s\u001b[0m 50ms/step\n",
      "\u001b[1m1/1\u001b[0m \u001b[32m━━━━━━━━━━━━━━━━━━━━\u001b[0m\u001b[37m\u001b[0m \u001b[1m0s\u001b[0m 50ms/step\n"
     ]
    },
    {
     "name": "stderr",
     "output_type": "stream",
     "text": [
      "\r\n",
      " 33%|█████████████▉                            | 397/1200 [00:34<01:07, 11.85it/s]"
     ]
    },
    {
     "name": "stdout",
     "output_type": "stream",
     "text": [
      "\u001b[1m1/1\u001b[0m \u001b[32m━━━━━━━━━━━━━━━━━━━━\u001b[0m\u001b[37m\u001b[0m \u001b[1m0s\u001b[0m 48ms/step\n",
      "\u001b[1m1/1\u001b[0m \u001b[32m━━━━━━━━━━━━━━━━━━━━\u001b[0m\u001b[37m\u001b[0m \u001b[1m0s\u001b[0m 50ms/step\n"
     ]
    },
    {
     "name": "stderr",
     "output_type": "stream",
     "text": [
      "\r\n",
      " 33%|█████████████▉                            | 399/1200 [00:35<01:08, 11.76it/s]"
     ]
    },
    {
     "name": "stdout",
     "output_type": "stream",
     "text": [
      "\u001b[1m1/1\u001b[0m \u001b[32m━━━━━━━━━━━━━━━━━━━━\u001b[0m\u001b[37m\u001b[0m \u001b[1m0s\u001b[0m 49ms/step\n",
      "\u001b[1m1/1\u001b[0m \u001b[32m━━━━━━━━━━━━━━━━━━━━\u001b[0m\u001b[37m\u001b[0m \u001b[1m0s\u001b[0m 50ms/step\n"
     ]
    },
    {
     "name": "stderr",
     "output_type": "stream",
     "text": [
      "\r\n",
      " 33%|██████████████                            | 401/1200 [00:35<01:10, 11.38it/s]"
     ]
    },
    {
     "name": "stdout",
     "output_type": "stream",
     "text": [
      "\u001b[1m1/1\u001b[0m \u001b[32m━━━━━━━━━━━━━━━━━━━━\u001b[0m\u001b[37m\u001b[0m \u001b[1m0s\u001b[0m 50ms/step\n",
      "\u001b[1m1/1\u001b[0m \u001b[32m━━━━━━━━━━━━━━━━━━━━\u001b[0m\u001b[37m\u001b[0m \u001b[1m0s\u001b[0m 50ms/step\n"
     ]
    },
    {
     "name": "stderr",
     "output_type": "stream",
     "text": [
      "\r\n",
      " 34%|██████████████                            | 403/1200 [00:35<01:08, 11.59it/s]"
     ]
    },
    {
     "name": "stdout",
     "output_type": "stream",
     "text": [
      "\u001b[1m1/1\u001b[0m \u001b[32m━━━━━━━━━━━━━━━━━━━━\u001b[0m\u001b[37m\u001b[0m \u001b[1m0s\u001b[0m 52ms/step\n",
      "\u001b[1m1/1\u001b[0m \u001b[32m━━━━━━━━━━━━━━━━━━━━\u001b[0m\u001b[37m\u001b[0m \u001b[1m0s\u001b[0m 52ms/step\n"
     ]
    },
    {
     "name": "stderr",
     "output_type": "stream",
     "text": [
      "\r\n",
      " 34%|██████████████▏                           | 405/1200 [00:35<01:09, 11.40it/s]"
     ]
    },
    {
     "name": "stdout",
     "output_type": "stream",
     "text": [
      "\u001b[1m1/1\u001b[0m \u001b[32m━━━━━━━━━━━━━━━━━━━━\u001b[0m\u001b[37m\u001b[0m \u001b[1m0s\u001b[0m 51ms/step\n",
      "\u001b[1m1/1\u001b[0m \u001b[32m━━━━━━━━━━━━━━━━━━━━\u001b[0m\u001b[37m\u001b[0m \u001b[1m0s\u001b[0m 51ms/step\n"
     ]
    },
    {
     "name": "stderr",
     "output_type": "stream",
     "text": [
      "\r\n",
      " 34%|██████████████▏                           | 407/1200 [00:35<01:11, 11.07it/s]"
     ]
    },
    {
     "name": "stdout",
     "output_type": "stream",
     "text": [
      "\u001b[1m1/1\u001b[0m \u001b[32m━━━━━━━━━━━━━━━━━━━━\u001b[0m\u001b[37m\u001b[0m \u001b[1m0s\u001b[0m 50ms/step\n",
      "\u001b[1m1/1\u001b[0m \u001b[32m━━━━━━━━━━━━━━━━━━━━\u001b[0m\u001b[37m\u001b[0m \u001b[1m0s\u001b[0m 50ms/step\n"
     ]
    },
    {
     "name": "stderr",
     "output_type": "stream",
     "text": [
      "\r\n",
      " 34%|██████████████▎                           | 409/1200 [00:36<01:09, 11.36it/s]"
     ]
    },
    {
     "name": "stdout",
     "output_type": "stream",
     "text": [
      "\u001b[1m1/1\u001b[0m \u001b[32m━━━━━━━━━━━━━━━━━━━━\u001b[0m\u001b[37m\u001b[0m \u001b[1m0s\u001b[0m 50ms/step\n",
      "\u001b[1m1/1\u001b[0m \u001b[32m━━━━━━━━━━━━━━━━━━━━\u001b[0m\u001b[37m\u001b[0m \u001b[1m0s\u001b[0m 50ms/step\n"
     ]
    },
    {
     "name": "stderr",
     "output_type": "stream",
     "text": [
      "\r\n",
      " 34%|██████████████▍                           | 411/1200 [00:36<01:09, 11.42it/s]"
     ]
    },
    {
     "name": "stdout",
     "output_type": "stream",
     "text": [
      "\u001b[1m1/1\u001b[0m \u001b[32m━━━━━━━━━━━━━━━━━━━━\u001b[0m\u001b[37m\u001b[0m \u001b[1m0s\u001b[0m 50ms/step\n",
      "\u001b[1m1/1\u001b[0m \u001b[32m━━━━━━━━━━━━━━━━━━━━\u001b[0m\u001b[37m\u001b[0m \u001b[1m0s\u001b[0m 51ms/step\n"
     ]
    },
    {
     "name": "stderr",
     "output_type": "stream",
     "text": [
      "\r\n",
      " 34%|██████████████▍                           | 413/1200 [00:36<01:07, 11.66it/s]"
     ]
    },
    {
     "name": "stdout",
     "output_type": "stream",
     "text": [
      "\u001b[1m1/1\u001b[0m \u001b[32m━━━━━━━━━━━━━━━━━━━━\u001b[0m\u001b[37m\u001b[0m \u001b[1m0s\u001b[0m 52ms/step\n",
      "\u001b[1m1/1\u001b[0m \u001b[32m━━━━━━━━━━━━━━━━━━━━\u001b[0m\u001b[37m\u001b[0m \u001b[1m0s\u001b[0m 53ms/step\n"
     ]
    },
    {
     "name": "stderr",
     "output_type": "stream",
     "text": [
      "\r\n",
      " 35%|██████████████▌                           | 415/1200 [00:36<01:09, 11.35it/s]"
     ]
    },
    {
     "name": "stdout",
     "output_type": "stream",
     "text": [
      "\u001b[1m1/1\u001b[0m \u001b[32m━━━━━━━━━━━━━━━━━━━━\u001b[0m\u001b[37m\u001b[0m \u001b[1m0s\u001b[0m 51ms/step\n",
      "\u001b[1m1/1\u001b[0m \u001b[32m━━━━━━━━━━━━━━━━━━━━\u001b[0m\u001b[37m\u001b[0m \u001b[1m0s\u001b[0m 52ms/step\n"
     ]
    },
    {
     "name": "stderr",
     "output_type": "stream",
     "text": [
      "\r\n",
      " 35%|██████████████▌                           | 417/1200 [00:36<01:10, 11.17it/s]"
     ]
    },
    {
     "name": "stdout",
     "output_type": "stream",
     "text": [
      "\u001b[1m1/1\u001b[0m \u001b[32m━━━━━━━━━━━━━━━━━━━━\u001b[0m\u001b[37m\u001b[0m \u001b[1m0s\u001b[0m 50ms/step\n",
      "\u001b[1m1/1\u001b[0m \u001b[32m━━━━━━━━━━━━━━━━━━━━\u001b[0m\u001b[37m\u001b[0m \u001b[1m0s\u001b[0m 51ms/step\n"
     ]
    },
    {
     "name": "stderr",
     "output_type": "stream",
     "text": [
      "\r\n",
      " 35%|██████████████▋                           | 419/1200 [00:36<01:09, 11.20it/s]"
     ]
    },
    {
     "name": "stdout",
     "output_type": "stream",
     "text": [
      "\u001b[1m1/1\u001b[0m \u001b[32m━━━━━━━━━━━━━━━━━━━━\u001b[0m\u001b[37m\u001b[0m \u001b[1m0s\u001b[0m 51ms/step\n",
      "\u001b[1m1/1\u001b[0m \u001b[32m━━━━━━━━━━━━━━━━━━━━\u001b[0m\u001b[37m\u001b[0m \u001b[1m0s\u001b[0m 49ms/step\n"
     ]
    },
    {
     "name": "stderr",
     "output_type": "stream",
     "text": [
      "\r\n",
      " 35%|██████████████▋                           | 421/1200 [00:37<01:07, 11.53it/s]"
     ]
    },
    {
     "name": "stdout",
     "output_type": "stream",
     "text": [
      "\u001b[1m1/1\u001b[0m \u001b[32m━━━━━━━━━━━━━━━━━━━━\u001b[0m\u001b[37m\u001b[0m \u001b[1m0s\u001b[0m 50ms/step\n",
      "\u001b[1m1/1\u001b[0m \u001b[32m━━━━━━━━━━━━━━━━━━━━\u001b[0m\u001b[37m\u001b[0m \u001b[1m0s\u001b[0m 49ms/step\n"
     ]
    },
    {
     "name": "stderr",
     "output_type": "stream",
     "text": [
      "\r\n",
      " 35%|██████████████▊                           | 423/1200 [00:37<01:07, 11.48it/s]"
     ]
    },
    {
     "name": "stdout",
     "output_type": "stream",
     "text": [
      "\u001b[1m1/1\u001b[0m \u001b[32m━━━━━━━━━━━━━━━━━━━━\u001b[0m\u001b[37m\u001b[0m \u001b[1m0s\u001b[0m 50ms/step\n",
      "\u001b[1m1/1\u001b[0m \u001b[32m━━━━━━━━━━━━━━━━━━━━\u001b[0m\u001b[37m\u001b[0m \u001b[1m0s\u001b[0m 49ms/step\n"
     ]
    },
    {
     "name": "stderr",
     "output_type": "stream",
     "text": [
      "\r\n",
      " 35%|██████████████▉                           | 425/1200 [00:37<01:05, 11.82it/s]"
     ]
    },
    {
     "name": "stdout",
     "output_type": "stream",
     "text": [
      "\u001b[1m1/1\u001b[0m \u001b[32m━━━━━━━━━━━━━━━━━━━━\u001b[0m\u001b[37m\u001b[0m \u001b[1m0s\u001b[0m 49ms/step\n",
      "\u001b[1m1/1\u001b[0m \u001b[32m━━━━━━━━━━━━━━━━━━━━\u001b[0m\u001b[37m\u001b[0m \u001b[1m0s\u001b[0m 52ms/step\n"
     ]
    },
    {
     "name": "stderr",
     "output_type": "stream",
     "text": [
      "\r\n",
      " 36%|██████████████▉                           | 427/1200 [00:37<01:04, 11.89it/s]"
     ]
    },
    {
     "name": "stdout",
     "output_type": "stream",
     "text": [
      "\u001b[1m1/1\u001b[0m \u001b[32m━━━━━━━━━━━━━━━━━━━━\u001b[0m\u001b[37m\u001b[0m \u001b[1m0s\u001b[0m 50ms/step\n",
      "\u001b[1m1/1\u001b[0m \u001b[32m━━━━━━━━━━━━━━━━━━━━\u001b[0m\u001b[37m\u001b[0m \u001b[1m0s\u001b[0m 50ms/step\n"
     ]
    },
    {
     "name": "stderr",
     "output_type": "stream",
     "text": [
      "\r\n",
      " 36%|███████████████                           | 429/1200 [00:37<01:04, 12.02it/s]"
     ]
    },
    {
     "name": "stdout",
     "output_type": "stream",
     "text": [
      "\u001b[1m1/1\u001b[0m \u001b[32m━━━━━━━━━━━━━━━━━━━━\u001b[0m\u001b[37m\u001b[0m \u001b[1m0s\u001b[0m 50ms/step\n",
      "\u001b[1m1/1\u001b[0m \u001b[32m━━━━━━━━━━━━━━━━━━━━\u001b[0m\u001b[37m\u001b[0m \u001b[1m0s\u001b[0m 50ms/step\n"
     ]
    },
    {
     "name": "stderr",
     "output_type": "stream",
     "text": [
      "\r\n",
      " 36%|███████████████                           | 431/1200 [00:37<01:03, 12.15it/s]"
     ]
    },
    {
     "name": "stdout",
     "output_type": "stream",
     "text": [
      "\u001b[1m1/1\u001b[0m \u001b[32m━━━━━━━━━━━━━━━━━━━━\u001b[0m\u001b[37m\u001b[0m \u001b[1m0s\u001b[0m 50ms/step\n",
      "\u001b[1m1/1\u001b[0m \u001b[32m━━━━━━━━━━━━━━━━━━━━\u001b[0m\u001b[37m\u001b[0m \u001b[1m0s\u001b[0m 50ms/step\n"
     ]
    },
    {
     "name": "stderr",
     "output_type": "stream",
     "text": [
      "\r\n",
      " 36%|███████████████▏                          | 433/1200 [00:38<01:02, 12.22it/s]"
     ]
    },
    {
     "name": "stdout",
     "output_type": "stream",
     "text": [
      "\u001b[1m1/1\u001b[0m \u001b[32m━━━━━━━━━━━━━━━━━━━━\u001b[0m\u001b[37m\u001b[0m \u001b[1m0s\u001b[0m 50ms/step\n",
      "\u001b[1m1/1\u001b[0m \u001b[32m━━━━━━━━━━━━━━━━━━━━\u001b[0m\u001b[37m\u001b[0m \u001b[1m0s\u001b[0m 51ms/step\n"
     ]
    },
    {
     "name": "stderr",
     "output_type": "stream",
     "text": [
      "\r\n",
      " 36%|███████████████▏                          | 435/1200 [00:38<01:04, 11.93it/s]"
     ]
    },
    {
     "name": "stdout",
     "output_type": "stream",
     "text": [
      "\u001b[1m1/1\u001b[0m \u001b[32m━━━━━━━━━━━━━━━━━━━━\u001b[0m\u001b[37m\u001b[0m \u001b[1m0s\u001b[0m 50ms/step\n",
      "\u001b[1m1/1\u001b[0m \u001b[32m━━━━━━━━━━━━━━━━━━━━\u001b[0m\u001b[37m\u001b[0m \u001b[1m0s\u001b[0m 49ms/step\n"
     ]
    },
    {
     "name": "stderr",
     "output_type": "stream",
     "text": [
      "\r\n",
      " 36%|███████████████▎                          | 437/1200 [00:38<01:04, 11.75it/s]"
     ]
    },
    {
     "name": "stdout",
     "output_type": "stream",
     "text": [
      "\u001b[1m1/1\u001b[0m \u001b[32m━━━━━━━━━━━━━━━━━━━━\u001b[0m\u001b[37m\u001b[0m \u001b[1m0s\u001b[0m 50ms/step\n",
      "\u001b[1m1/1\u001b[0m \u001b[32m━━━━━━━━━━━━━━━━━━━━\u001b[0m\u001b[37m\u001b[0m \u001b[1m0s\u001b[0m 51ms/step\n"
     ]
    },
    {
     "name": "stderr",
     "output_type": "stream",
     "text": [
      "\r\n",
      " 37%|███████████████▎                          | 439/1200 [00:38<01:06, 11.36it/s]"
     ]
    },
    {
     "name": "stdout",
     "output_type": "stream",
     "text": [
      "\u001b[1m1/1\u001b[0m \u001b[32m━━━━━━━━━━━━━━━━━━━━\u001b[0m\u001b[37m\u001b[0m \u001b[1m0s\u001b[0m 52ms/step\n",
      "\u001b[1m1/1\u001b[0m \u001b[32m━━━━━━━━━━━━━━━━━━━━\u001b[0m\u001b[37m\u001b[0m \u001b[1m0s\u001b[0m 52ms/step\n"
     ]
    },
    {
     "name": "stderr",
     "output_type": "stream",
     "text": [
      "\r\n",
      " 37%|███████████████▍                          | 441/1200 [00:38<01:05, 11.56it/s]"
     ]
    },
    {
     "name": "stdout",
     "output_type": "stream",
     "text": [
      "\u001b[1m1/1\u001b[0m \u001b[32m━━━━━━━━━━━━━━━━━━━━\u001b[0m\u001b[37m\u001b[0m \u001b[1m0s\u001b[0m 51ms/step\n",
      "\u001b[1m1/1\u001b[0m \u001b[32m━━━━━━━━━━━━━━━━━━━━\u001b[0m\u001b[37m\u001b[0m \u001b[1m0s\u001b[0m 51ms/step\n"
     ]
    },
    {
     "name": "stderr",
     "output_type": "stream",
     "text": [
      "\r\n",
      " 37%|███████████████▌                          | 443/1200 [00:38<01:04, 11.74it/s]"
     ]
    },
    {
     "name": "stdout",
     "output_type": "stream",
     "text": [
      "\u001b[1m1/1\u001b[0m \u001b[32m━━━━━━━━━━━━━━━━━━━━\u001b[0m\u001b[37m\u001b[0m \u001b[1m0s\u001b[0m 50ms/step\n",
      "\u001b[1m1/1\u001b[0m \u001b[32m━━━━━━━━━━━━━━━━━━━━\u001b[0m\u001b[37m\u001b[0m \u001b[1m0s\u001b[0m 51ms/step\n"
     ]
    },
    {
     "name": "stderr",
     "output_type": "stream",
     "text": [
      "\r\n",
      " 37%|███████████████▌                          | 445/1200 [00:39<01:05, 11.61it/s]"
     ]
    },
    {
     "name": "stdout",
     "output_type": "stream",
     "text": [
      "\u001b[1m1/1\u001b[0m \u001b[32m━━━━━━━━━━━━━━━━━━━━\u001b[0m\u001b[37m\u001b[0m \u001b[1m0s\u001b[0m 50ms/step\n",
      "\u001b[1m1/1\u001b[0m \u001b[32m━━━━━━━━━━━━━━━━━━━━\u001b[0m\u001b[37m\u001b[0m \u001b[1m0s\u001b[0m 50ms/step\n"
     ]
    },
    {
     "name": "stderr",
     "output_type": "stream",
     "text": [
      "\r\n",
      " 37%|███████████████▋                          | 447/1200 [00:39<01:06, 11.36it/s]"
     ]
    },
    {
     "name": "stdout",
     "output_type": "stream",
     "text": [
      "\u001b[1m1/1\u001b[0m \u001b[32m━━━━━━━━━━━━━━━━━━━━\u001b[0m\u001b[37m\u001b[0m \u001b[1m0s\u001b[0m 50ms/step\n",
      "\u001b[1m1/1\u001b[0m \u001b[32m━━━━━━━━━━━━━━━━━━━━\u001b[0m\u001b[37m\u001b[0m \u001b[1m0s\u001b[0m 50ms/step\n"
     ]
    },
    {
     "name": "stderr",
     "output_type": "stream",
     "text": [
      "\r\n",
      " 37%|███████████████▋                          | 449/1200 [00:39<01:04, 11.68it/s]"
     ]
    },
    {
     "name": "stdout",
     "output_type": "stream",
     "text": [
      "\u001b[1m1/1\u001b[0m \u001b[32m━━━━━━━━━━━━━━━━━━━━\u001b[0m\u001b[37m\u001b[0m \u001b[1m0s\u001b[0m 51ms/step\n",
      "\u001b[1m1/1\u001b[0m \u001b[32m━━━━━━━━━━━━━━━━━━━━\u001b[0m\u001b[37m\u001b[0m \u001b[1m0s\u001b[0m 50ms/step\n"
     ]
    },
    {
     "name": "stderr",
     "output_type": "stream",
     "text": [
      "\r\n",
      " 38%|███████████████▊                          | 451/1200 [00:39<01:05, 11.44it/s]"
     ]
    },
    {
     "name": "stdout",
     "output_type": "stream",
     "text": [
      "\u001b[1m1/1\u001b[0m \u001b[32m━━━━━━━━━━━━━━━━━━━━\u001b[0m\u001b[37m\u001b[0m \u001b[1m0s\u001b[0m 51ms/step\n",
      "\u001b[1m1/1\u001b[0m \u001b[32m━━━━━━━━━━━━━━━━━━━━\u001b[0m\u001b[37m\u001b[0m \u001b[1m0s\u001b[0m 50ms/step\n"
     ]
    },
    {
     "name": "stderr",
     "output_type": "stream",
     "text": [
      "\r\n",
      " 38%|███████████████▊                          | 453/1200 [00:39<01:06, 11.16it/s]"
     ]
    },
    {
     "name": "stdout",
     "output_type": "stream",
     "text": [
      "\u001b[1m1/1\u001b[0m \u001b[32m━━━━━━━━━━━━━━━━━━━━\u001b[0m\u001b[37m\u001b[0m \u001b[1m0s\u001b[0m 51ms/step\n",
      "\u001b[1m1/1\u001b[0m \u001b[32m━━━━━━━━━━━━━━━━━━━━\u001b[0m\u001b[37m\u001b[0m \u001b[1m0s\u001b[0m 50ms/step\n"
     ]
    },
    {
     "name": "stderr",
     "output_type": "stream",
     "text": [
      "\r\n",
      " 38%|███████████████▉                          | 455/1200 [00:39<01:05, 11.44it/s]"
     ]
    },
    {
     "name": "stdout",
     "output_type": "stream",
     "text": [
      "\u001b[1m1/1\u001b[0m \u001b[32m━━━━━━━━━━━━━━━━━━━━\u001b[0m\u001b[37m\u001b[0m \u001b[1m0s\u001b[0m 51ms/step\n",
      "\u001b[1m1/1\u001b[0m \u001b[32m━━━━━━━━━━━━━━━━━━━━\u001b[0m\u001b[37m\u001b[0m \u001b[1m0s\u001b[0m 50ms/step\n"
     ]
    },
    {
     "name": "stderr",
     "output_type": "stream",
     "text": [
      "\r\n",
      " 38%|███████████████▉                          | 457/1200 [00:40<01:06, 11.20it/s]"
     ]
    },
    {
     "name": "stdout",
     "output_type": "stream",
     "text": [
      "\u001b[1m1/1\u001b[0m \u001b[32m━━━━━━━━━━━━━━━━━━━━\u001b[0m\u001b[37m\u001b[0m \u001b[1m0s\u001b[0m 50ms/step\n",
      "\u001b[1m1/1\u001b[0m \u001b[32m━━━━━━━━━━━━━━━━━━━━\u001b[0m\u001b[37m\u001b[0m \u001b[1m0s\u001b[0m 49ms/step\n"
     ]
    },
    {
     "name": "stderr",
     "output_type": "stream",
     "text": [
      "\r\n",
      " 38%|████████████████                          | 459/1200 [00:40<01:05, 11.30it/s]"
     ]
    },
    {
     "name": "stdout",
     "output_type": "stream",
     "text": [
      "\u001b[1m1/1\u001b[0m \u001b[32m━━━━━━━━━━━━━━━━━━━━\u001b[0m\u001b[37m\u001b[0m \u001b[1m0s\u001b[0m 49ms/step\n",
      "\u001b[1m1/1\u001b[0m \u001b[32m━━━━━━━━━━━━━━━━━━━━\u001b[0m\u001b[37m\u001b[0m \u001b[1m0s\u001b[0m 51ms/step\n"
     ]
    },
    {
     "name": "stderr",
     "output_type": "stream",
     "text": [
      "\r\n",
      " 38%|████████████████▏                         | 461/1200 [00:40<01:05, 11.33it/s]"
     ]
    },
    {
     "name": "stdout",
     "output_type": "stream",
     "text": [
      "\u001b[1m1/1\u001b[0m \u001b[32m━━━━━━━━━━━━━━━━━━━━\u001b[0m\u001b[37m\u001b[0m \u001b[1m0s\u001b[0m 51ms/step\n",
      "\u001b[1m1/1\u001b[0m \u001b[32m━━━━━━━━━━━━━━━━━━━━\u001b[0m\u001b[37m\u001b[0m \u001b[1m0s\u001b[0m 51ms/step\n"
     ]
    },
    {
     "name": "stderr",
     "output_type": "stream",
     "text": [
      "\r\n",
      " 39%|████████████████▏                         | 463/1200 [00:40<01:04, 11.40it/s]"
     ]
    },
    {
     "name": "stdout",
     "output_type": "stream",
     "text": [
      "\u001b[1m1/1\u001b[0m \u001b[32m━━━━━━━━━━━━━━━━━━━━\u001b[0m\u001b[37m\u001b[0m \u001b[1m0s\u001b[0m 51ms/step\n",
      "\u001b[1m1/1\u001b[0m \u001b[32m━━━━━━━━━━━━━━━━━━━━\u001b[0m\u001b[37m\u001b[0m \u001b[1m0s\u001b[0m 51ms/step\n"
     ]
    },
    {
     "name": "stderr",
     "output_type": "stream",
     "text": [
      "\r\n",
      " 39%|████████████████▎                         | 465/1200 [00:40<01:03, 11.66it/s]"
     ]
    },
    {
     "name": "stdout",
     "output_type": "stream",
     "text": [
      "\u001b[1m1/1\u001b[0m \u001b[32m━━━━━━━━━━━━━━━━━━━━\u001b[0m\u001b[37m\u001b[0m \u001b[1m0s\u001b[0m 51ms/step\n",
      "\u001b[1m1/1\u001b[0m \u001b[32m━━━━━━━━━━━━━━━━━━━━\u001b[0m\u001b[37m\u001b[0m \u001b[1m0s\u001b[0m 51ms/step\n"
     ]
    },
    {
     "name": "stderr",
     "output_type": "stream",
     "text": [
      "\r\n",
      " 39%|████████████████▎                         | 467/1200 [00:41<01:02, 11.82it/s]"
     ]
    },
    {
     "name": "stdout",
     "output_type": "stream",
     "text": [
      "\u001b[1m1/1\u001b[0m \u001b[32m━━━━━━━━━━━━━━━━━━━━\u001b[0m\u001b[37m\u001b[0m \u001b[1m0s\u001b[0m 50ms/step\n",
      "\u001b[1m1/1\u001b[0m \u001b[32m━━━━━━━━━━━━━━━━━━━━\u001b[0m\u001b[37m\u001b[0m \u001b[1m0s\u001b[0m 51ms/step\n"
     ]
    },
    {
     "name": "stderr",
     "output_type": "stream",
     "text": [
      "\r\n",
      " 39%|████████████████▍                         | 469/1200 [00:41<01:00, 11.98it/s]"
     ]
    },
    {
     "name": "stdout",
     "output_type": "stream",
     "text": [
      "\u001b[1m1/1\u001b[0m \u001b[32m━━━━━━━━━━━━━━━━━━━━\u001b[0m\u001b[37m\u001b[0m \u001b[1m0s\u001b[0m 50ms/step\n",
      "\u001b[1m1/1\u001b[0m \u001b[32m━━━━━━━━━━━━━━━━━━━━\u001b[0m\u001b[37m\u001b[0m \u001b[1m0s\u001b[0m 50ms/step\n"
     ]
    },
    {
     "name": "stderr",
     "output_type": "stream",
     "text": [
      "\r\n",
      " 39%|████████████████▍                         | 471/1200 [00:41<01:00, 12.06it/s]"
     ]
    },
    {
     "name": "stdout",
     "output_type": "stream",
     "text": [
      "\u001b[1m1/1\u001b[0m \u001b[32m━━━━━━━━━━━━━━━━━━━━\u001b[0m\u001b[37m\u001b[0m \u001b[1m0s\u001b[0m 49ms/step\n",
      "\u001b[1m1/1\u001b[0m \u001b[32m━━━━━━━━━━━━━━━━━━━━\u001b[0m\u001b[37m\u001b[0m \u001b[1m0s\u001b[0m 50ms/step\n"
     ]
    },
    {
     "name": "stderr",
     "output_type": "stream",
     "text": [
      "\r\n",
      " 39%|████████████████▌                         | 473/1200 [00:41<00:59, 12.19it/s]"
     ]
    },
    {
     "name": "stdout",
     "output_type": "stream",
     "text": [
      "\u001b[1m1/1\u001b[0m \u001b[32m━━━━━━━━━━━━━━━━━━━━\u001b[0m\u001b[37m\u001b[0m \u001b[1m0s\u001b[0m 51ms/step\n",
      "\u001b[1m1/1\u001b[0m \u001b[32m━━━━━━━━━━━━━━━━━━━━\u001b[0m\u001b[37m\u001b[0m \u001b[1m0s\u001b[0m 51ms/step\n"
     ]
    },
    {
     "name": "stderr",
     "output_type": "stream",
     "text": [
      "\r\n",
      " 40%|████████████████▋                         | 475/1200 [00:41<01:02, 11.68it/s]"
     ]
    },
    {
     "name": "stdout",
     "output_type": "stream",
     "text": [
      "\u001b[1m1/1\u001b[0m \u001b[32m━━━━━━━━━━━━━━━━━━━━\u001b[0m\u001b[37m\u001b[0m \u001b[1m0s\u001b[0m 51ms/step\n",
      "\u001b[1m1/1\u001b[0m \u001b[32m━━━━━━━━━━━━━━━━━━━━\u001b[0m\u001b[37m\u001b[0m \u001b[1m0s\u001b[0m 51ms/step\n"
     ]
    },
    {
     "name": "stderr",
     "output_type": "stream",
     "text": [
      "\r\n",
      " 40%|████████████████▋                         | 477/1200 [00:41<01:01, 11.74it/s]"
     ]
    },
    {
     "name": "stdout",
     "output_type": "stream",
     "text": [
      "\u001b[1m1/1\u001b[0m \u001b[32m━━━━━━━━━━━━━━━━━━━━\u001b[0m\u001b[37m\u001b[0m \u001b[1m0s\u001b[0m 49ms/step\n",
      "\u001b[1m1/1\u001b[0m \u001b[32m━━━━━━━━━━━━━━━━━━━━\u001b[0m\u001b[37m\u001b[0m \u001b[1m0s\u001b[0m 50ms/step\n"
     ]
    },
    {
     "name": "stderr",
     "output_type": "stream",
     "text": [
      "\r\n",
      " 40%|████████████████▊                         | 479/1200 [00:42<01:01, 11.65it/s]"
     ]
    },
    {
     "name": "stdout",
     "output_type": "stream",
     "text": [
      "\u001b[1m1/1\u001b[0m \u001b[32m━━━━━━━━━━━━━━━━━━━━\u001b[0m\u001b[37m\u001b[0m \u001b[1m0s\u001b[0m 49ms/step\n",
      "\u001b[1m1/1\u001b[0m \u001b[32m━━━━━━━━━━━━━━━━━━━━\u001b[0m\u001b[37m\u001b[0m \u001b[1m0s\u001b[0m 49ms/step\n"
     ]
    },
    {
     "name": "stderr",
     "output_type": "stream",
     "text": [
      "\r\n",
      " 40%|████████████████▊                         | 481/1200 [00:42<01:00, 11.91it/s]"
     ]
    },
    {
     "name": "stdout",
     "output_type": "stream",
     "text": [
      "\u001b[1m1/1\u001b[0m \u001b[32m━━━━━━━━━━━━━━━━━━━━\u001b[0m\u001b[37m\u001b[0m \u001b[1m0s\u001b[0m 49ms/step\n",
      "\u001b[1m1/1\u001b[0m \u001b[32m━━━━━━━━━━━━━━━━━━━━\u001b[0m\u001b[37m\u001b[0m \u001b[1m0s\u001b[0m 51ms/step\n"
     ]
    },
    {
     "name": "stderr",
     "output_type": "stream",
     "text": [
      "\r\n",
      " 40%|████████████████▉                         | 483/1200 [00:42<00:59, 12.04it/s]"
     ]
    },
    {
     "name": "stdout",
     "output_type": "stream",
     "text": [
      "\u001b[1m1/1\u001b[0m \u001b[32m━━━━━━━━━━━━━━━━━━━━\u001b[0m\u001b[37m\u001b[0m \u001b[1m0s\u001b[0m 50ms/step\n",
      "\u001b[1m1/1\u001b[0m \u001b[32m━━━━━━━━━━━━━━━━━━━━\u001b[0m\u001b[37m\u001b[0m \u001b[1m0s\u001b[0m 51ms/step\n"
     ]
    },
    {
     "name": "stderr",
     "output_type": "stream",
     "text": [
      "\r\n",
      " 40%|████████████████▉                         | 485/1200 [00:42<01:00, 11.81it/s]"
     ]
    },
    {
     "name": "stdout",
     "output_type": "stream",
     "text": [
      "\u001b[1m1/1\u001b[0m \u001b[32m━━━━━━━━━━━━━━━━━━━━\u001b[0m\u001b[37m\u001b[0m \u001b[1m0s\u001b[0m 50ms/step\n",
      "\u001b[1m1/1\u001b[0m \u001b[32m━━━━━━━━━━━━━━━━━━━━\u001b[0m\u001b[37m\u001b[0m \u001b[1m0s\u001b[0m 51ms/step\n"
     ]
    },
    {
     "name": "stderr",
     "output_type": "stream",
     "text": [
      "\r\n",
      " 41%|█████████████████                         | 487/1200 [00:42<01:00, 11.86it/s]"
     ]
    },
    {
     "name": "stdout",
     "output_type": "stream",
     "text": [
      "\u001b[1m1/1\u001b[0m \u001b[32m━━━━━━━━━━━━━━━━━━━━\u001b[0m\u001b[37m\u001b[0m \u001b[1m0s\u001b[0m 51ms/step\n",
      "\u001b[1m1/1\u001b[0m \u001b[32m━━━━━━━━━━━━━━━━━━━━\u001b[0m\u001b[37m\u001b[0m \u001b[1m0s\u001b[0m 51ms/step\n"
     ]
    },
    {
     "name": "stderr",
     "output_type": "stream",
     "text": [
      "\r\n",
      " 41%|█████████████████                         | 489/1200 [00:42<01:02, 11.37it/s]"
     ]
    },
    {
     "name": "stdout",
     "output_type": "stream",
     "text": [
      "\u001b[1m1/1\u001b[0m \u001b[32m━━━━━━━━━━━━━━━━━━━━\u001b[0m\u001b[37m\u001b[0m \u001b[1m0s\u001b[0m 50ms/step\n",
      "\u001b[1m1/1\u001b[0m \u001b[32m━━━━━━━━━━━━━━━━━━━━\u001b[0m\u001b[37m\u001b[0m \u001b[1m0s\u001b[0m 51ms/step\n"
     ]
    },
    {
     "name": "stderr",
     "output_type": "stream",
     "text": [
      "\r\n",
      " 41%|█████████████████▏                        | 491/1200 [00:43<01:04, 11.08it/s]"
     ]
    },
    {
     "name": "stdout",
     "output_type": "stream",
     "text": [
      "\u001b[1m1/1\u001b[0m \u001b[32m━━━━━━━━━━━━━━━━━━━━\u001b[0m\u001b[37m\u001b[0m \u001b[1m0s\u001b[0m 51ms/step\n",
      "\u001b[1m1/1\u001b[0m \u001b[32m━━━━━━━━━━━━━━━━━━━━\u001b[0m\u001b[37m\u001b[0m \u001b[1m0s\u001b[0m 51ms/step\n"
     ]
    },
    {
     "name": "stderr",
     "output_type": "stream",
     "text": [
      "\r\n",
      " 41%|█████████████████▎                        | 493/1200 [00:43<01:02, 11.34it/s]"
     ]
    },
    {
     "name": "stdout",
     "output_type": "stream",
     "text": [
      "\u001b[1m1/1\u001b[0m \u001b[32m━━━━━━━━━━━━━━━━━━━━\u001b[0m\u001b[37m\u001b[0m \u001b[1m0s\u001b[0m 51ms/step\n",
      "\u001b[1m1/1\u001b[0m \u001b[32m━━━━━━━━━━━━━━━━━━━━\u001b[0m\u001b[37m\u001b[0m \u001b[1m0s\u001b[0m 50ms/step\n"
     ]
    },
    {
     "name": "stderr",
     "output_type": "stream",
     "text": [
      "\r\n",
      " 41%|█████████████████▎                        | 495/1200 [00:43<01:03, 11.07it/s]"
     ]
    },
    {
     "name": "stdout",
     "output_type": "stream",
     "text": [
      "\u001b[1m1/1\u001b[0m \u001b[32m━━━━━━━━━━━━━━━━━━━━\u001b[0m\u001b[37m\u001b[0m \u001b[1m0s\u001b[0m 51ms/step\n",
      "\u001b[1m1/1\u001b[0m \u001b[32m━━━━━━━━━━━━━━━━━━━━\u001b[0m\u001b[37m\u001b[0m \u001b[1m0s\u001b[0m 50ms/step\n"
     ]
    },
    {
     "name": "stderr",
     "output_type": "stream",
     "text": [
      "\r\n",
      " 41%|█████████████████▍                        | 497/1200 [00:43<01:01, 11.34it/s]"
     ]
    },
    {
     "name": "stdout",
     "output_type": "stream",
     "text": [
      "\u001b[1m1/1\u001b[0m \u001b[32m━━━━━━━━━━━━━━━━━━━━\u001b[0m\u001b[37m\u001b[0m \u001b[1m0s\u001b[0m 51ms/step\n",
      "\u001b[1m1/1\u001b[0m \u001b[32m━━━━━━━━━━━━━━━━━━━━\u001b[0m\u001b[37m\u001b[0m \u001b[1m0s\u001b[0m 51ms/step\n"
     ]
    },
    {
     "name": "stderr",
     "output_type": "stream",
     "text": [
      "\r\n",
      " 42%|█████████████████▍                        | 499/1200 [00:43<01:00, 11.51it/s]"
     ]
    },
    {
     "name": "stdout",
     "output_type": "stream",
     "text": [
      "\u001b[1m1/1\u001b[0m \u001b[32m━━━━━━━━━━━━━━━━━━━━\u001b[0m\u001b[37m\u001b[0m \u001b[1m0s\u001b[0m 51ms/step\n",
      "\u001b[1m1/1\u001b[0m \u001b[32m━━━━━━━━━━━━━━━━━━━━\u001b[0m\u001b[37m\u001b[0m \u001b[1m0s\u001b[0m 52ms/step\n"
     ]
    },
    {
     "name": "stderr",
     "output_type": "stream",
     "text": [
      "\r\n",
      " 42%|█████████████████▌                        | 501/1200 [00:43<01:00, 11.65it/s]"
     ]
    },
    {
     "name": "stdout",
     "output_type": "stream",
     "text": [
      "\u001b[1m1/1\u001b[0m \u001b[32m━━━━━━━━━━━━━━━━━━━━\u001b[0m\u001b[37m\u001b[0m \u001b[1m0s\u001b[0m 53ms/step\n",
      "\u001b[1m1/1\u001b[0m \u001b[32m━━━━━━━━━━━━━━━━━━━━\u001b[0m\u001b[37m\u001b[0m \u001b[1m0s\u001b[0m 52ms/step\n"
     ]
    },
    {
     "name": "stderr",
     "output_type": "stream",
     "text": [
      "\r\n",
      " 42%|█████████████████▌                        | 503/1200 [00:44<00:59, 11.73it/s]"
     ]
    },
    {
     "name": "stdout",
     "output_type": "stream",
     "text": [
      "\u001b[1m1/1\u001b[0m \u001b[32m━━━━━━━━━━━━━━━━━━━━\u001b[0m\u001b[37m\u001b[0m \u001b[1m0s\u001b[0m 52ms/step\n",
      "\u001b[1m1/1\u001b[0m \u001b[32m━━━━━━━━━━━━━━━━━━━━\u001b[0m\u001b[37m\u001b[0m \u001b[1m0s\u001b[0m 51ms/step\n"
     ]
    },
    {
     "name": "stderr",
     "output_type": "stream",
     "text": [
      "\r\n",
      " 42%|█████████████████▋                        | 505/1200 [00:44<00:59, 11.61it/s]"
     ]
    },
    {
     "name": "stdout",
     "output_type": "stream",
     "text": [
      "\u001b[1m1/1\u001b[0m \u001b[32m━━━━━━━━━━━━━━━━━━━━\u001b[0m\u001b[37m\u001b[0m \u001b[1m0s\u001b[0m 52ms/step\n",
      "\u001b[1m1/1\u001b[0m \u001b[32m━━━━━━━━━━━━━━━━━━━━\u001b[0m\u001b[37m\u001b[0m \u001b[1m0s\u001b[0m 52ms/step\n"
     ]
    },
    {
     "name": "stderr",
     "output_type": "stream",
     "text": [
      "\r\n",
      " 42%|█████████████████▋                        | 507/1200 [00:44<00:59, 11.73it/s]"
     ]
    },
    {
     "name": "stdout",
     "output_type": "stream",
     "text": [
      "\u001b[1m1/1\u001b[0m \u001b[32m━━━━━━━━━━━━━━━━━━━━\u001b[0m\u001b[37m\u001b[0m \u001b[1m0s\u001b[0m 53ms/step\n",
      "\u001b[1m1/1\u001b[0m \u001b[32m━━━━━━━━━━━━━━━━━━━━\u001b[0m\u001b[37m\u001b[0m \u001b[1m0s\u001b[0m 51ms/step\n"
     ]
    },
    {
     "name": "stderr",
     "output_type": "stream",
     "text": [
      "\r\n",
      " 42%|█████████████████▊                        | 509/1200 [00:44<01:00, 11.48it/s]"
     ]
    },
    {
     "name": "stdout",
     "output_type": "stream",
     "text": [
      "\u001b[1m1/1\u001b[0m \u001b[32m━━━━━━━━━━━━━━━━━━━━\u001b[0m\u001b[37m\u001b[0m \u001b[1m0s\u001b[0m 53ms/step\n",
      "\u001b[1m1/1\u001b[0m \u001b[32m━━━━━━━━━━━━━━━━━━━━\u001b[0m\u001b[37m\u001b[0m \u001b[1m0s\u001b[0m 52ms/step\n"
     ]
    },
    {
     "name": "stderr",
     "output_type": "stream",
     "text": [
      "\r\n",
      " 43%|█████████████████▉                        | 511/1200 [00:44<00:59, 11.52it/s]"
     ]
    },
    {
     "name": "stdout",
     "output_type": "stream",
     "text": [
      "\u001b[1m1/1\u001b[0m \u001b[32m━━━━━━━━━━━━━━━━━━━━\u001b[0m\u001b[37m\u001b[0m \u001b[1m0s\u001b[0m 51ms/step\n",
      "\u001b[1m1/1\u001b[0m \u001b[32m━━━━━━━━━━━━━━━━━━━━\u001b[0m\u001b[37m\u001b[0m \u001b[1m0s\u001b[0m 52ms/step\n"
     ]
    },
    {
     "name": "stderr",
     "output_type": "stream",
     "text": [
      "\r\n",
      " 43%|█████████████████▉                        | 513/1200 [00:44<01:00, 11.44it/s]"
     ]
    },
    {
     "name": "stdout",
     "output_type": "stream",
     "text": [
      "\u001b[1m1/1\u001b[0m \u001b[32m━━━━━━━━━━━━━━━━━━━━\u001b[0m\u001b[37m\u001b[0m \u001b[1m0s\u001b[0m 51ms/step\n",
      "\u001b[1m1/1\u001b[0m \u001b[32m━━━━━━━━━━━━━━━━━━━━\u001b[0m\u001b[37m\u001b[0m \u001b[1m0s\u001b[0m 51ms/step\n"
     ]
    },
    {
     "name": "stderr",
     "output_type": "stream",
     "text": [
      "\r\n",
      " 43%|██████████████████                        | 515/1200 [00:45<00:58, 11.63it/s]"
     ]
    },
    {
     "name": "stdout",
     "output_type": "stream",
     "text": [
      "\u001b[1m1/1\u001b[0m \u001b[32m━━━━━━━━━━━━━━━━━━━━\u001b[0m\u001b[37m\u001b[0m \u001b[1m0s\u001b[0m 51ms/step\n",
      "\u001b[1m1/1\u001b[0m \u001b[32m━━━━━━━━━━━━━━━━━━━━\u001b[0m\u001b[37m\u001b[0m \u001b[1m0s\u001b[0m 51ms/step\n"
     ]
    },
    {
     "name": "stderr",
     "output_type": "stream",
     "text": [
      "\r\n",
      " 43%|██████████████████                        | 517/1200 [00:45<00:57, 11.84it/s]"
     ]
    },
    {
     "name": "stdout",
     "output_type": "stream",
     "text": [
      "\u001b[1m1/1\u001b[0m \u001b[32m━━━━━━━━━━━━━━━━━━━━\u001b[0m\u001b[37m\u001b[0m \u001b[1m0s\u001b[0m 50ms/step\n",
      "\u001b[1m1/1\u001b[0m \u001b[32m━━━━━━━━━━━━━━━━━━━━\u001b[0m\u001b[37m\u001b[0m \u001b[1m0s\u001b[0m 50ms/step\n"
     ]
    },
    {
     "name": "stderr",
     "output_type": "stream",
     "text": [
      "\r\n",
      " 43%|██████████████████▏                       | 519/1200 [00:45<00:56, 12.02it/s]"
     ]
    },
    {
     "name": "stdout",
     "output_type": "stream",
     "text": [
      "\u001b[1m1/1\u001b[0m \u001b[32m━━━━━━━━━━━━━━━━━━━━\u001b[0m\u001b[37m\u001b[0m \u001b[1m0s\u001b[0m 50ms/step\n",
      "\u001b[1m1/1\u001b[0m \u001b[32m━━━━━━━━━━━━━━━━━━━━\u001b[0m\u001b[37m\u001b[0m \u001b[1m0s\u001b[0m 50ms/step\n"
     ]
    },
    {
     "name": "stderr",
     "output_type": "stream",
     "text": [
      "\r\n",
      " 43%|██████████████████▏                       | 521/1200 [00:45<00:55, 12.14it/s]"
     ]
    },
    {
     "name": "stdout",
     "output_type": "stream",
     "text": [
      "\u001b[1m1/1\u001b[0m \u001b[32m━━━━━━━━━━━━━━━━━━━━\u001b[0m\u001b[37m\u001b[0m \u001b[1m0s\u001b[0m 51ms/step\n",
      "\u001b[1m1/1\u001b[0m \u001b[32m━━━━━━━━━━━━━━━━━━━━\u001b[0m\u001b[37m\u001b[0m \u001b[1m0s\u001b[0m 50ms/step\n"
     ]
    },
    {
     "name": "stderr",
     "output_type": "stream",
     "text": [
      "\r\n",
      " 44%|██████████████████▎                       | 523/1200 [00:45<00:55, 12.14it/s]"
     ]
    },
    {
     "name": "stdout",
     "output_type": "stream",
     "text": [
      "\u001b[1m1/1\u001b[0m \u001b[32m━━━━━━━━━━━━━━━━━━━━\u001b[0m\u001b[37m\u001b[0m \u001b[1m0s\u001b[0m 51ms/step\n",
      "\u001b[1m1/1\u001b[0m \u001b[32m━━━━━━━━━━━━━━━━━━━━\u001b[0m\u001b[37m\u001b[0m \u001b[1m0s\u001b[0m 51ms/step\n"
     ]
    },
    {
     "name": "stderr",
     "output_type": "stream",
     "text": [
      "\r\n",
      " 44%|██████████████████▍                       | 525/1200 [00:45<00:56, 11.85it/s]"
     ]
    },
    {
     "name": "stdout",
     "output_type": "stream",
     "text": [
      "\u001b[1m1/1\u001b[0m \u001b[32m━━━━━━━━━━━━━━━━━━━━\u001b[0m\u001b[37m\u001b[0m \u001b[1m0s\u001b[0m 50ms/step\n",
      "\u001b[1m1/1\u001b[0m \u001b[32m━━━━━━━━━━━━━━━━━━━━\u001b[0m\u001b[37m\u001b[0m \u001b[1m0s\u001b[0m 51ms/step\n"
     ]
    },
    {
     "name": "stderr",
     "output_type": "stream",
     "text": [
      "\r\n",
      " 44%|██████████████████▍                       | 527/1200 [00:46<00:59, 11.36it/s]"
     ]
    },
    {
     "name": "stdout",
     "output_type": "stream",
     "text": [
      "\u001b[1m1/1\u001b[0m \u001b[32m━━━━━━━━━━━━━━━━━━━━\u001b[0m\u001b[37m\u001b[0m \u001b[1m0s\u001b[0m 50ms/step\n",
      "\u001b[1m1/1\u001b[0m \u001b[32m━━━━━━━━━━━━━━━━━━━━\u001b[0m\u001b[37m\u001b[0m \u001b[1m0s\u001b[0m 51ms/step\n"
     ]
    },
    {
     "name": "stderr",
     "output_type": "stream",
     "text": [
      "\r\n",
      " 44%|██████████████████▌                       | 529/1200 [00:46<00:59, 11.33it/s]"
     ]
    },
    {
     "name": "stdout",
     "output_type": "stream",
     "text": [
      "\u001b[1m1/1\u001b[0m \u001b[32m━━━━━━━━━━━━━━━━━━━━\u001b[0m\u001b[37m\u001b[0m \u001b[1m0s\u001b[0m 53ms/step\n",
      "\u001b[1m1/1\u001b[0m \u001b[32m━━━━━━━━━━━━━━━━━━━━\u001b[0m\u001b[37m\u001b[0m \u001b[1m0s\u001b[0m 50ms/step\n"
     ]
    },
    {
     "name": "stderr",
     "output_type": "stream",
     "text": [
      "\r\n",
      " 44%|██████████████████▌                       | 531/1200 [00:46<00:59, 11.25it/s]"
     ]
    },
    {
     "name": "stdout",
     "output_type": "stream",
     "text": [
      "\u001b[1m1/1\u001b[0m \u001b[32m━━━━━━━━━━━━━━━━━━━━\u001b[0m\u001b[37m\u001b[0m \u001b[1m0s\u001b[0m 50ms/step\n",
      "\u001b[1m1/1\u001b[0m \u001b[32m━━━━━━━━━━━━━━━━━━━━\u001b[0m\u001b[37m\u001b[0m \u001b[1m0s\u001b[0m 50ms/step\n"
     ]
    },
    {
     "name": "stderr",
     "output_type": "stream",
     "text": [
      "\r\n",
      " 44%|██████████████████▋                       | 533/1200 [00:46<00:58, 11.44it/s]"
     ]
    },
    {
     "name": "stdout",
     "output_type": "stream",
     "text": [
      "\u001b[1m1/1\u001b[0m \u001b[32m━━━━━━━━━━━━━━━━━━━━\u001b[0m\u001b[37m\u001b[0m \u001b[1m0s\u001b[0m 51ms/step\n",
      "\u001b[1m1/1\u001b[0m \u001b[32m━━━━━━━━━━━━━━━━━━━━\u001b[0m\u001b[37m\u001b[0m \u001b[1m0s\u001b[0m 51ms/step\n"
     ]
    },
    {
     "name": "stderr",
     "output_type": "stream",
     "text": [
      "\r\n",
      " 45%|██████████████████▋                       | 535/1200 [00:46<00:57, 11.57it/s]"
     ]
    },
    {
     "name": "stdout",
     "output_type": "stream",
     "text": [
      "\u001b[1m1/1\u001b[0m \u001b[32m━━━━━━━━━━━━━━━━━━━━\u001b[0m\u001b[37m\u001b[0m \u001b[1m0s\u001b[0m 51ms/step\n",
      "\u001b[1m1/1\u001b[0m \u001b[32m━━━━━━━━━━━━━━━━━━━━\u001b[0m\u001b[37m\u001b[0m \u001b[1m0s\u001b[0m 51ms/step\n"
     ]
    },
    {
     "name": "stderr",
     "output_type": "stream",
     "text": [
      "\r\n",
      " 45%|██████████████████▊                       | 537/1200 [00:47<00:56, 11.65it/s]"
     ]
    },
    {
     "name": "stdout",
     "output_type": "stream",
     "text": [
      "\u001b[1m1/1\u001b[0m \u001b[32m━━━━━━━━━━━━━━━━━━━━\u001b[0m\u001b[37m\u001b[0m \u001b[1m0s\u001b[0m 52ms/step\n",
      "\u001b[1m1/1\u001b[0m \u001b[32m━━━━━━━━━━━━━━━━━━━━\u001b[0m\u001b[37m\u001b[0m \u001b[1m0s\u001b[0m 51ms/step\n"
     ]
    },
    {
     "name": "stderr",
     "output_type": "stream",
     "text": [
      "\r\n",
      " 45%|██████████████████▊                       | 539/1200 [00:47<00:57, 11.50it/s]"
     ]
    },
    {
     "name": "stdout",
     "output_type": "stream",
     "text": [
      "\u001b[1m1/1\u001b[0m \u001b[32m━━━━━━━━━━━━━━━━━━━━\u001b[0m\u001b[37m\u001b[0m \u001b[1m0s\u001b[0m 50ms/step\n",
      "\u001b[1m1/1\u001b[0m \u001b[32m━━━━━━━━━━━━━━━━━━━━\u001b[0m\u001b[37m\u001b[0m \u001b[1m0s\u001b[0m 51ms/step\n"
     ]
    },
    {
     "name": "stderr",
     "output_type": "stream",
     "text": [
      "\r\n",
      " 45%|██████████████████▉                       | 541/1200 [00:47<00:57, 11.42it/s]"
     ]
    },
    {
     "name": "stdout",
     "output_type": "stream",
     "text": [
      "\u001b[1m1/1\u001b[0m \u001b[32m━━━━━━━━━━━━━━━━━━━━\u001b[0m\u001b[37m\u001b[0m \u001b[1m0s\u001b[0m 52ms/step\n",
      "\u001b[1m1/1\u001b[0m \u001b[32m━━━━━━━━━━━━━━━━━━━━\u001b[0m\u001b[37m\u001b[0m \u001b[1m0s\u001b[0m 51ms/step\n"
     ]
    },
    {
     "name": "stderr",
     "output_type": "stream",
     "text": [
      "\r\n",
      " 45%|███████████████████                       | 543/1200 [00:47<00:57, 11.34it/s]"
     ]
    },
    {
     "name": "stdout",
     "output_type": "stream",
     "text": [
      "\u001b[1m1/1\u001b[0m \u001b[32m━━━━━━━━━━━━━━━━━━━━\u001b[0m\u001b[37m\u001b[0m \u001b[1m0s\u001b[0m 51ms/step\n",
      "\u001b[1m1/1\u001b[0m \u001b[32m━━━━━━━━━━━━━━━━━━━━\u001b[0m\u001b[37m\u001b[0m \u001b[1m0s\u001b[0m 52ms/step\n"
     ]
    },
    {
     "name": "stderr",
     "output_type": "stream",
     "text": [
      "\r\n",
      " 45%|███████████████████                       | 545/1200 [00:47<00:56, 11.52it/s]"
     ]
    },
    {
     "name": "stdout",
     "output_type": "stream",
     "text": [
      "\u001b[1m1/1\u001b[0m \u001b[32m━━━━━━━━━━━━━━━━━━━━\u001b[0m\u001b[37m\u001b[0m \u001b[1m0s\u001b[0m 51ms/step\n",
      "\u001b[1m1/1\u001b[0m \u001b[32m━━━━━━━━━━━━━━━━━━━━\u001b[0m\u001b[37m\u001b[0m \u001b[1m0s\u001b[0m 51ms/step\n"
     ]
    },
    {
     "name": "stderr",
     "output_type": "stream",
     "text": [
      "\r\n",
      " 46%|███████████████████▏                      | 547/1200 [00:47<00:57, 11.33it/s]"
     ]
    },
    {
     "name": "stdout",
     "output_type": "stream",
     "text": [
      "\u001b[1m1/1\u001b[0m \u001b[32m━━━━━━━━━━━━━━━━━━━━\u001b[0m\u001b[37m\u001b[0m \u001b[1m0s\u001b[0m 50ms/step\n",
      "\u001b[1m1/1\u001b[0m \u001b[32m━━━━━━━━━━━━━━━━━━━━\u001b[0m\u001b[37m\u001b[0m \u001b[1m0s\u001b[0m 52ms/step\n"
     ]
    },
    {
     "name": "stderr",
     "output_type": "stream",
     "text": [
      "\r\n",
      " 46%|███████████████████▏                      | 549/1200 [00:48<00:56, 11.51it/s]"
     ]
    },
    {
     "name": "stdout",
     "output_type": "stream",
     "text": [
      "\u001b[1m1/1\u001b[0m \u001b[32m━━━━━━━━━━━━━━━━━━━━\u001b[0m\u001b[37m\u001b[0m \u001b[1m0s\u001b[0m 51ms/step\n",
      "\u001b[1m1/1\u001b[0m \u001b[32m━━━━━━━━━━━━━━━━━━━━\u001b[0m\u001b[37m\u001b[0m \u001b[1m0s\u001b[0m 50ms/step\n"
     ]
    },
    {
     "name": "stderr",
     "output_type": "stream",
     "text": [
      "\r\n",
      " 46%|███████████████████▎                      | 551/1200 [00:48<00:55, 11.72it/s]"
     ]
    },
    {
     "name": "stdout",
     "output_type": "stream",
     "text": [
      "\u001b[1m1/1\u001b[0m \u001b[32m━━━━━━━━━━━━━━━━━━━━\u001b[0m\u001b[37m\u001b[0m \u001b[1m0s\u001b[0m 50ms/step\n",
      "\u001b[1m1/1\u001b[0m \u001b[32m━━━━━━━━━━━━━━━━━━━━\u001b[0m\u001b[37m\u001b[0m \u001b[1m0s\u001b[0m 51ms/step\n"
     ]
    },
    {
     "name": "stderr",
     "output_type": "stream",
     "text": [
      "\r\n",
      " 46%|███████████████████▎                      | 553/1200 [00:48<00:57, 11.33it/s]"
     ]
    },
    {
     "name": "stdout",
     "output_type": "stream",
     "text": [
      "\u001b[1m1/1\u001b[0m \u001b[32m━━━━━━━━━━━━━━━━━━━━\u001b[0m\u001b[37m\u001b[0m \u001b[1m0s\u001b[0m 49ms/step\n",
      "\u001b[1m1/1\u001b[0m \u001b[32m━━━━━━━━━━━━━━━━━━━━\u001b[0m\u001b[37m\u001b[0m \u001b[1m0s\u001b[0m 50ms/step\n"
     ]
    },
    {
     "name": "stderr",
     "output_type": "stream",
     "text": [
      "\r\n",
      " 46%|███████████████████▍                      | 555/1200 [00:48<00:56, 11.38it/s]"
     ]
    },
    {
     "name": "stdout",
     "output_type": "stream",
     "text": [
      "\u001b[1m1/1\u001b[0m \u001b[32m━━━━━━━━━━━━━━━━━━━━\u001b[0m\u001b[37m\u001b[0m \u001b[1m0s\u001b[0m 49ms/step\n",
      "\u001b[1m1/1\u001b[0m \u001b[32m━━━━━━━━━━━━━━━━━━━━\u001b[0m\u001b[37m\u001b[0m \u001b[1m0s\u001b[0m 50ms/step\n"
     ]
    },
    {
     "name": "stderr",
     "output_type": "stream",
     "text": [
      "\r\n",
      " 46%|███████████████████▍                      | 557/1200 [00:48<00:54, 11.71it/s]"
     ]
    },
    {
     "name": "stdout",
     "output_type": "stream",
     "text": [
      "\u001b[1m1/1\u001b[0m \u001b[32m━━━━━━━━━━━━━━━━━━━━\u001b[0m\u001b[37m\u001b[0m \u001b[1m0s\u001b[0m 49ms/step\n",
      "\u001b[1m1/1\u001b[0m \u001b[32m━━━━━━━━━━━━━━━━━━━━\u001b[0m\u001b[37m\u001b[0m \u001b[1m0s\u001b[0m 49ms/step\n"
     ]
    },
    {
     "name": "stderr",
     "output_type": "stream",
     "text": [
      "\r\n",
      " 47%|███████████████████▌                      | 559/1200 [00:48<00:53, 11.89it/s]"
     ]
    },
    {
     "name": "stdout",
     "output_type": "stream",
     "text": [
      "\u001b[1m1/1\u001b[0m \u001b[32m━━━━━━━━━━━━━━━━━━━━\u001b[0m\u001b[37m\u001b[0m \u001b[1m0s\u001b[0m 51ms/step\n",
      "\u001b[1m1/1\u001b[0m \u001b[32m━━━━━━━━━━━━━━━━━━━━\u001b[0m\u001b[37m\u001b[0m \u001b[1m0s\u001b[0m 49ms/step\n"
     ]
    },
    {
     "name": "stderr",
     "output_type": "stream",
     "text": [
      "\r\n",
      " 47%|███████████████████▋                      | 561/1200 [00:49<00:53, 12.05it/s]"
     ]
    },
    {
     "name": "stdout",
     "output_type": "stream",
     "text": [
      "\u001b[1m1/1\u001b[0m \u001b[32m━━━━━━━━━━━━━━━━━━━━\u001b[0m\u001b[37m\u001b[0m \u001b[1m0s\u001b[0m 50ms/step\n",
      "\u001b[1m1/1\u001b[0m \u001b[32m━━━━━━━━━━━━━━━━━━━━\u001b[0m\u001b[37m\u001b[0m \u001b[1m0s\u001b[0m 49ms/step\n"
     ]
    },
    {
     "name": "stderr",
     "output_type": "stream",
     "text": [
      "\r\n",
      " 47%|███████████████████▋                      | 563/1200 [00:49<00:52, 12.10it/s]"
     ]
    },
    {
     "name": "stdout",
     "output_type": "stream",
     "text": [
      "\u001b[1m1/1\u001b[0m \u001b[32m━━━━━━━━━━━━━━━━━━━━\u001b[0m\u001b[37m\u001b[0m \u001b[1m0s\u001b[0m 48ms/step\n",
      "\u001b[1m1/1\u001b[0m \u001b[32m━━━━━━━━━━━━━━━━━━━━\u001b[0m\u001b[37m\u001b[0m \u001b[1m0s\u001b[0m 49ms/step\n"
     ]
    },
    {
     "name": "stderr",
     "output_type": "stream",
     "text": [
      "\r\n",
      " 47%|███████████████████▊                      | 565/1200 [00:49<00:51, 12.32it/s]"
     ]
    },
    {
     "name": "stdout",
     "output_type": "stream",
     "text": [
      "\u001b[1m1/1\u001b[0m \u001b[32m━━━━━━━━━━━━━━━━━━━━\u001b[0m\u001b[37m\u001b[0m \u001b[1m0s\u001b[0m 48ms/step\n",
      "\u001b[1m1/1\u001b[0m \u001b[32m━━━━━━━━━━━━━━━━━━━━\u001b[0m\u001b[37m\u001b[0m \u001b[1m0s\u001b[0m 48ms/step\n"
     ]
    },
    {
     "name": "stderr",
     "output_type": "stream",
     "text": [
      "\r\n",
      " 47%|███████████████████▊                      | 567/1200 [00:49<00:50, 12.43it/s]"
     ]
    },
    {
     "name": "stdout",
     "output_type": "stream",
     "text": [
      "\u001b[1m1/1\u001b[0m \u001b[32m━━━━━━━━━━━━━━━━━━━━\u001b[0m\u001b[37m\u001b[0m \u001b[1m0s\u001b[0m 48ms/step\n",
      "\u001b[1m1/1\u001b[0m \u001b[32m━━━━━━━━━━━━━━━━━━━━\u001b[0m\u001b[37m\u001b[0m \u001b[1m0s\u001b[0m 48ms/step\n"
     ]
    },
    {
     "name": "stderr",
     "output_type": "stream",
     "text": [
      "\r\n",
      " 47%|███████████████████▉                      | 569/1200 [00:49<00:49, 12.62it/s]"
     ]
    },
    {
     "name": "stdout",
     "output_type": "stream",
     "text": [
      "\u001b[1m1/1\u001b[0m \u001b[32m━━━━━━━━━━━━━━━━━━━━\u001b[0m\u001b[37m\u001b[0m \u001b[1m0s\u001b[0m 49ms/step\n",
      "\u001b[1m1/1\u001b[0m \u001b[32m━━━━━━━━━━━━━━━━━━━━\u001b[0m\u001b[37m\u001b[0m \u001b[1m0s\u001b[0m 52ms/step\n"
     ]
    },
    {
     "name": "stderr",
     "output_type": "stream",
     "text": [
      "\r\n",
      " 48%|███████████████████▉                      | 571/1200 [00:49<00:50, 12.45it/s]"
     ]
    },
    {
     "name": "stdout",
     "output_type": "stream",
     "text": [
      "\u001b[1m1/1\u001b[0m \u001b[32m━━━━━━━━━━━━━━━━━━━━\u001b[0m\u001b[37m\u001b[0m \u001b[1m0s\u001b[0m 52ms/step\n",
      "\u001b[1m1/1\u001b[0m \u001b[32m━━━━━━━━━━━━━━━━━━━━\u001b[0m\u001b[37m\u001b[0m \u001b[1m0s\u001b[0m 51ms/step\n"
     ]
    },
    {
     "name": "stderr",
     "output_type": "stream",
     "text": [
      "\r\n",
      " 48%|████████████████████                      | 573/1200 [00:50<00:50, 12.30it/s]"
     ]
    },
    {
     "name": "stdout",
     "output_type": "stream",
     "text": [
      "\u001b[1m1/1\u001b[0m \u001b[32m━━━━━━━━━━━━━━━━━━━━\u001b[0m\u001b[37m\u001b[0m \u001b[1m0s\u001b[0m 51ms/step\n",
      "\u001b[1m1/1\u001b[0m \u001b[32m━━━━━━━━━━━━━━━━━━━━\u001b[0m\u001b[37m\u001b[0m \u001b[1m0s\u001b[0m 49ms/step\n"
     ]
    },
    {
     "name": "stderr",
     "output_type": "stream",
     "text": [
      "\r\n",
      " 48%|████████████████████▏                     | 575/1200 [00:50<00:50, 12.26it/s]"
     ]
    },
    {
     "name": "stdout",
     "output_type": "stream",
     "text": [
      "\u001b[1m1/1\u001b[0m \u001b[32m━━━━━━━━━━━━━━━━━━━━\u001b[0m\u001b[37m\u001b[0m \u001b[1m0s\u001b[0m 52ms/step\n",
      "\u001b[1m1/1\u001b[0m \u001b[32m━━━━━━━━━━━━━━━━━━━━\u001b[0m\u001b[37m\u001b[0m \u001b[1m0s\u001b[0m 53ms/step\n"
     ]
    },
    {
     "name": "stderr",
     "output_type": "stream",
     "text": [
      "\r\n",
      " 48%|████████████████████▏                     | 577/1200 [00:50<00:52, 11.84it/s]"
     ]
    },
    {
     "name": "stdout",
     "output_type": "stream",
     "text": [
      "\u001b[1m1/1\u001b[0m \u001b[32m━━━━━━━━━━━━━━━━━━━━\u001b[0m\u001b[37m\u001b[0m \u001b[1m0s\u001b[0m 51ms/step\n",
      "\u001b[1m1/1\u001b[0m \u001b[32m━━━━━━━━━━━━━━━━━━━━\u001b[0m\u001b[37m\u001b[0m \u001b[1m0s\u001b[0m 51ms/step\n"
     ]
    },
    {
     "name": "stderr",
     "output_type": "stream",
     "text": [
      "\r\n",
      " 48%|████████████████████▎                     | 579/1200 [00:50<00:52, 11.85it/s]"
     ]
    },
    {
     "name": "stdout",
     "output_type": "stream",
     "text": [
      "\u001b[1m1/1\u001b[0m \u001b[32m━━━━━━━━━━━━━━━━━━━━\u001b[0m\u001b[37m\u001b[0m \u001b[1m0s\u001b[0m 52ms/step\n",
      "\u001b[1m1/1\u001b[0m \u001b[32m━━━━━━━━━━━━━━━━━━━━\u001b[0m\u001b[37m\u001b[0m \u001b[1m0s\u001b[0m 49ms/step\n"
     ]
    },
    {
     "name": "stderr",
     "output_type": "stream",
     "text": [
      "\r\n",
      " 48%|████████████████████▎                     | 581/1200 [00:50<00:52, 11.69it/s]"
     ]
    },
    {
     "name": "stdout",
     "output_type": "stream",
     "text": [
      "\u001b[1m1/1\u001b[0m \u001b[32m━━━━━━━━━━━━━━━━━━━━\u001b[0m\u001b[37m\u001b[0m \u001b[1m0s\u001b[0m 50ms/step\n",
      "\u001b[1m1/1\u001b[0m \u001b[32m━━━━━━━━━━━━━━━━━━━━\u001b[0m\u001b[37m\u001b[0m \u001b[1m0s\u001b[0m 50ms/step\n"
     ]
    },
    {
     "name": "stderr",
     "output_type": "stream",
     "text": [
      "\r\n",
      " 49%|████████████████████▍                     | 583/1200 [00:50<00:52, 11.75it/s]"
     ]
    },
    {
     "name": "stdout",
     "output_type": "stream",
     "text": [
      "\u001b[1m1/1\u001b[0m \u001b[32m━━━━━━━━━━━━━━━━━━━━\u001b[0m\u001b[37m\u001b[0m \u001b[1m0s\u001b[0m 51ms/step\n",
      "\u001b[1m1/1\u001b[0m \u001b[32m━━━━━━━━━━━━━━━━━━━━\u001b[0m\u001b[37m\u001b[0m \u001b[1m0s\u001b[0m 50ms/step\n"
     ]
    },
    {
     "name": "stderr",
     "output_type": "stream",
     "text": [
      "\r\n",
      " 49%|████████████████████▍                     | 585/1200 [00:51<00:54, 11.38it/s]"
     ]
    },
    {
     "name": "stdout",
     "output_type": "stream",
     "text": [
      "\u001b[1m1/1\u001b[0m \u001b[32m━━━━━━━━━━━━━━━━━━━━\u001b[0m\u001b[37m\u001b[0m \u001b[1m0s\u001b[0m 50ms/step\n",
      "\u001b[1m1/1\u001b[0m \u001b[32m━━━━━━━━━━━━━━━━━━━━\u001b[0m\u001b[37m\u001b[0m \u001b[1m0s\u001b[0m 50ms/step\n"
     ]
    },
    {
     "name": "stderr",
     "output_type": "stream",
     "text": [
      "\r\n",
      " 49%|████████████████████▌                     | 587/1200 [00:51<00:52, 11.65it/s]"
     ]
    },
    {
     "name": "stdout",
     "output_type": "stream",
     "text": [
      "\u001b[1m1/1\u001b[0m \u001b[32m━━━━━━━━━━━━━━━━━━━━\u001b[0m\u001b[37m\u001b[0m \u001b[1m0s\u001b[0m 49ms/step\n",
      "\u001b[1m1/1\u001b[0m \u001b[32m━━━━━━━━━━━━━━━━━━━━\u001b[0m\u001b[37m\u001b[0m \u001b[1m0s\u001b[0m 49ms/step\n"
     ]
    },
    {
     "name": "stderr",
     "output_type": "stream",
     "text": [
      "\r\n",
      " 49%|████████████████████▌                     | 589/1200 [00:51<00:52, 11.62it/s]"
     ]
    },
    {
     "name": "stdout",
     "output_type": "stream",
     "text": [
      "\u001b[1m1/1\u001b[0m \u001b[32m━━━━━━━━━━━━━━━━━━━━\u001b[0m\u001b[37m\u001b[0m \u001b[1m0s\u001b[0m 50ms/step\n",
      "\u001b[1m1/1\u001b[0m \u001b[32m━━━━━━━━━━━━━━━━━━━━\u001b[0m\u001b[37m\u001b[0m \u001b[1m0s\u001b[0m 48ms/step\n"
     ]
    },
    {
     "name": "stderr",
     "output_type": "stream",
     "text": [
      "\r\n",
      " 49%|████████████████████▋                     | 591/1200 [00:51<00:53, 11.29it/s]"
     ]
    },
    {
     "name": "stdout",
     "output_type": "stream",
     "text": [
      "\u001b[1m1/1\u001b[0m \u001b[32m━━━━━━━━━━━━━━━━━━━━\u001b[0m\u001b[37m\u001b[0m \u001b[1m0s\u001b[0m 49ms/step\n",
      "\u001b[1m1/1\u001b[0m \u001b[32m━━━━━━━━━━━━━━━━━━━━\u001b[0m\u001b[37m\u001b[0m \u001b[1m0s\u001b[0m 49ms/step\n"
     ]
    },
    {
     "name": "stderr",
     "output_type": "stream",
     "text": [
      "\r\n",
      " 49%|████████████████████▊                     | 593/1200 [00:51<00:52, 11.67it/s]"
     ]
    },
    {
     "name": "stdout",
     "output_type": "stream",
     "text": [
      "\u001b[1m1/1\u001b[0m \u001b[32m━━━━━━━━━━━━━━━━━━━━\u001b[0m\u001b[37m\u001b[0m \u001b[1m0s\u001b[0m 48ms/step\n",
      "\u001b[1m1/1\u001b[0m \u001b[32m━━━━━━━━━━━━━━━━━━━━\u001b[0m\u001b[37m\u001b[0m \u001b[1m0s\u001b[0m 49ms/step\n"
     ]
    },
    {
     "name": "stderr",
     "output_type": "stream",
     "text": [
      "\r\n",
      " 50%|████████████████████▊                     | 595/1200 [00:51<00:50, 11.88it/s]"
     ]
    },
    {
     "name": "stdout",
     "output_type": "stream",
     "text": [
      "\u001b[1m1/1\u001b[0m \u001b[32m━━━━━━━━━━━━━━━━━━━━\u001b[0m\u001b[37m\u001b[0m \u001b[1m0s\u001b[0m 50ms/step\n",
      "\u001b[1m1/1\u001b[0m \u001b[32m━━━━━━━━━━━━━━━━━━━━\u001b[0m\u001b[37m\u001b[0m \u001b[1m0s\u001b[0m 49ms/step\n"
     ]
    },
    {
     "name": "stderr",
     "output_type": "stream",
     "text": [
      "\r\n",
      " 50%|████████████████████▉                     | 597/1200 [00:52<00:51, 11.69it/s]"
     ]
    },
    {
     "name": "stdout",
     "output_type": "stream",
     "text": [
      "\u001b[1m1/1\u001b[0m \u001b[32m━━━━━━━━━━━━━━━━━━━━\u001b[0m\u001b[37m\u001b[0m \u001b[1m0s\u001b[0m 48ms/step\n",
      "\u001b[1m1/1\u001b[0m \u001b[32m━━━━━━━━━━━━━━━━━━━━\u001b[0m\u001b[37m\u001b[0m \u001b[1m0s\u001b[0m 48ms/step\n"
     ]
    },
    {
     "name": "stderr",
     "output_type": "stream",
     "text": [
      "\r\n",
      " 50%|████████████████████▉                     | 599/1200 [00:52<00:51, 11.72it/s]"
     ]
    },
    {
     "name": "stdout",
     "output_type": "stream",
     "text": [
      "\u001b[1m1/1\u001b[0m \u001b[32m━━━━━━━━━━━━━━━━━━━━\u001b[0m\u001b[37m\u001b[0m \u001b[1m0s\u001b[0m 49ms/step\n",
      "\u001b[1m1/1\u001b[0m \u001b[32m━━━━━━━━━━━━━━━━━━━━\u001b[0m\u001b[37m\u001b[0m \u001b[1m0s\u001b[0m 51ms/step\n"
     ]
    },
    {
     "name": "stderr",
     "output_type": "stream",
     "text": [
      "\r\n",
      " 50%|█████████████████████                     | 601/1200 [00:52<00:51, 11.60it/s]"
     ]
    },
    {
     "name": "stdout",
     "output_type": "stream",
     "text": [
      "\u001b[1m1/1\u001b[0m \u001b[32m━━━━━━━━━━━━━━━━━━━━\u001b[0m\u001b[37m\u001b[0m \u001b[1m0s\u001b[0m 52ms/step\n",
      "\u001b[1m1/1\u001b[0m \u001b[32m━━━━━━━━━━━━━━━━━━━━\u001b[0m\u001b[37m\u001b[0m \u001b[1m0s\u001b[0m 50ms/step\n"
     ]
    },
    {
     "name": "stderr",
     "output_type": "stream",
     "text": [
      "\r\n",
      " 50%|█████████████████████                     | 603/1200 [00:52<00:50, 11.74it/s]"
     ]
    },
    {
     "name": "stdout",
     "output_type": "stream",
     "text": [
      "\u001b[1m1/1\u001b[0m \u001b[32m━━━━━━━━━━━━━━━━━━━━\u001b[0m\u001b[37m\u001b[0m \u001b[1m0s\u001b[0m 51ms/step\n",
      "\u001b[1m1/1\u001b[0m \u001b[32m━━━━━━━━━━━━━━━━━━━━\u001b[0m\u001b[37m\u001b[0m \u001b[1m0s\u001b[0m 50ms/step\n"
     ]
    },
    {
     "name": "stderr",
     "output_type": "stream",
     "text": [
      "\r\n",
      " 50%|█████████████████████▏                    | 605/1200 [00:52<00:49, 11.92it/s]"
     ]
    },
    {
     "name": "stdout",
     "output_type": "stream",
     "text": [
      "\u001b[1m1/1\u001b[0m \u001b[32m━━━━━━━━━━━━━━━━━━━━\u001b[0m\u001b[37m\u001b[0m \u001b[1m0s\u001b[0m 51ms/step\n",
      "\u001b[1m1/1\u001b[0m \u001b[32m━━━━━━━━━━━━━━━━━━━━\u001b[0m\u001b[37m\u001b[0m \u001b[1m0s\u001b[0m 53ms/step\n"
     ]
    },
    {
     "name": "stderr",
     "output_type": "stream",
     "text": [
      "\r\n",
      " 51%|█████████████████████▏                    | 607/1200 [00:53<00:53, 11.12it/s]"
     ]
    },
    {
     "name": "stdout",
     "output_type": "stream",
     "text": [
      "\u001b[1m1/1\u001b[0m \u001b[32m━━━━━━━━━━━━━━━━━━━━\u001b[0m\u001b[37m\u001b[0m \u001b[1m0s\u001b[0m 51ms/step\n",
      "\u001b[1m1/1\u001b[0m \u001b[32m━━━━━━━━━━━━━━━━━━━━\u001b[0m\u001b[37m\u001b[0m \u001b[1m0s\u001b[0m 52ms/step\n"
     ]
    },
    {
     "name": "stderr",
     "output_type": "stream",
     "text": [
      "\r\n",
      " 51%|█████████████████████▎                    | 609/1200 [00:53<00:55, 10.62it/s]"
     ]
    },
    {
     "name": "stdout",
     "output_type": "stream",
     "text": [
      "\u001b[1m1/1\u001b[0m \u001b[32m━━━━━━━━━━━━━━━━━━━━\u001b[0m\u001b[37m\u001b[0m \u001b[1m0s\u001b[0m 51ms/step\n",
      "\u001b[1m1/1\u001b[0m \u001b[32m━━━━━━━━━━━━━━━━━━━━\u001b[0m\u001b[37m\u001b[0m \u001b[1m0s\u001b[0m 50ms/step\n"
     ]
    },
    {
     "name": "stderr",
     "output_type": "stream",
     "text": [
      "\r\n",
      " 51%|█████████████████████▍                    | 611/1200 [00:53<00:54, 10.78it/s]"
     ]
    },
    {
     "name": "stdout",
     "output_type": "stream",
     "text": [
      "\u001b[1m1/1\u001b[0m \u001b[32m━━━━━━━━━━━━━━━━━━━━\u001b[0m\u001b[37m\u001b[0m \u001b[1m0s\u001b[0m 50ms/step\n",
      "\u001b[1m1/1\u001b[0m \u001b[32m━━━━━━━━━━━━━━━━━━━━\u001b[0m\u001b[37m\u001b[0m \u001b[1m0s\u001b[0m 50ms/step\n"
     ]
    },
    {
     "name": "stderr",
     "output_type": "stream",
     "text": [
      "\r\n",
      " 51%|█████████████████████▍                    | 613/1200 [00:53<00:53, 10.94it/s]"
     ]
    },
    {
     "name": "stdout",
     "output_type": "stream",
     "text": [
      "\u001b[1m1/1\u001b[0m \u001b[32m━━━━━━━━━━━━━━━━━━━━\u001b[0m\u001b[37m\u001b[0m \u001b[1m0s\u001b[0m 50ms/step\n",
      "\u001b[1m1/1\u001b[0m \u001b[32m━━━━━━━━━━━━━━━━━━━━\u001b[0m\u001b[37m\u001b[0m \u001b[1m0s\u001b[0m 50ms/step\n"
     ]
    },
    {
     "name": "stderr",
     "output_type": "stream",
     "text": [
      "\r\n",
      " 51%|█████████████████████▌                    | 615/1200 [00:53<00:51, 11.36it/s]"
     ]
    },
    {
     "name": "stdout",
     "output_type": "stream",
     "text": [
      "\u001b[1m1/1\u001b[0m \u001b[32m━━━━━━━━━━━━━━━━━━━━\u001b[0m\u001b[37m\u001b[0m \u001b[1m0s\u001b[0m 49ms/step\n",
      "\u001b[1m1/1\u001b[0m \u001b[32m━━━━━━━━━━━━━━━━━━━━\u001b[0m\u001b[37m\u001b[0m \u001b[1m0s\u001b[0m 48ms/step\n"
     ]
    },
    {
     "name": "stderr",
     "output_type": "stream",
     "text": [
      "\r\n",
      " 51%|█████████████████████▌                    | 617/1200 [00:53<00:49, 11.72it/s]"
     ]
    },
    {
     "name": "stdout",
     "output_type": "stream",
     "text": [
      "\u001b[1m1/1\u001b[0m \u001b[32m━━━━━━━━━━━━━━━━━━━━\u001b[0m\u001b[37m\u001b[0m \u001b[1m0s\u001b[0m 49ms/step\n",
      "\u001b[1m1/1\u001b[0m \u001b[32m━━━━━━━━━━━━━━━━━━━━\u001b[0m\u001b[37m\u001b[0m \u001b[1m0s\u001b[0m 50ms/step\n"
     ]
    },
    {
     "name": "stderr",
     "output_type": "stream",
     "text": [
      "\r\n",
      " 52%|█████████████████████▋                    | 619/1200 [00:54<00:50, 11.56it/s]"
     ]
    },
    {
     "name": "stdout",
     "output_type": "stream",
     "text": [
      "\u001b[1m1/1\u001b[0m \u001b[32m━━━━━━━━━━━━━━━━━━━━\u001b[0m\u001b[37m\u001b[0m \u001b[1m0s\u001b[0m 50ms/step\n",
      "\u001b[1m1/1\u001b[0m \u001b[32m━━━━━━━━━━━━━━━━━━━━\u001b[0m\u001b[37m\u001b[0m \u001b[1m0s\u001b[0m 51ms/step\n"
     ]
    },
    {
     "name": "stderr",
     "output_type": "stream",
     "text": [
      "\r\n",
      " 52%|█████████████████████▋                    | 621/1200 [00:54<00:49, 11.65it/s]"
     ]
    },
    {
     "name": "stdout",
     "output_type": "stream",
     "text": [
      "\u001b[1m1/1\u001b[0m \u001b[32m━━━━━━━━━━━━━━━━━━━━\u001b[0m\u001b[37m\u001b[0m \u001b[1m0s\u001b[0m 51ms/step\n",
      "\u001b[1m1/1\u001b[0m \u001b[32m━━━━━━━━━━━━━━━━━━━━\u001b[0m\u001b[37m\u001b[0m \u001b[1m0s\u001b[0m 50ms/step\n"
     ]
    },
    {
     "name": "stderr",
     "output_type": "stream",
     "text": [
      "\r\n",
      " 52%|█████████████████████▊                    | 623/1200 [00:54<00:48, 11.80it/s]"
     ]
    },
    {
     "name": "stdout",
     "output_type": "stream",
     "text": [
      "\u001b[1m1/1\u001b[0m \u001b[32m━━━━━━━━━━━━━━━━━━━━\u001b[0m\u001b[37m\u001b[0m \u001b[1m0s\u001b[0m 51ms/step\n",
      "\u001b[1m1/1\u001b[0m \u001b[32m━━━━━━━━━━━━━━━━━━━━\u001b[0m\u001b[37m\u001b[0m \u001b[1m0s\u001b[0m 50ms/step\n"
     ]
    },
    {
     "name": "stderr",
     "output_type": "stream",
     "text": [
      "\r\n",
      " 52%|█████████████████████▉                    | 625/1200 [00:54<00:48, 11.94it/s]"
     ]
    },
    {
     "name": "stdout",
     "output_type": "stream",
     "text": [
      "\u001b[1m1/1\u001b[0m \u001b[32m━━━━━━━━━━━━━━━━━━━━\u001b[0m\u001b[37m\u001b[0m \u001b[1m0s\u001b[0m 49ms/step\n",
      "\u001b[1m1/1\u001b[0m \u001b[32m━━━━━━━━━━━━━━━━━━━━\u001b[0m\u001b[37m\u001b[0m \u001b[1m0s\u001b[0m 50ms/step\n"
     ]
    },
    {
     "name": "stderr",
     "output_type": "stream",
     "text": [
      "\r\n",
      " 52%|█████████████████████▉                    | 627/1200 [00:54<00:47, 11.95it/s]"
     ]
    },
    {
     "name": "stdout",
     "output_type": "stream",
     "text": [
      "\u001b[1m1/1\u001b[0m \u001b[32m━━━━━━━━━━━━━━━━━━━━\u001b[0m\u001b[37m\u001b[0m \u001b[1m0s\u001b[0m 50ms/step\n",
      "\u001b[1m1/1\u001b[0m \u001b[32m━━━━━━━━━━━━━━━━━━━━\u001b[0m\u001b[37m\u001b[0m \u001b[1m0s\u001b[0m 49ms/step\n"
     ]
    },
    {
     "name": "stderr",
     "output_type": "stream",
     "text": [
      "\r\n",
      " 52%|██████████████████████                    | 629/1200 [00:54<00:47, 12.10it/s]"
     ]
    },
    {
     "name": "stdout",
     "output_type": "stream",
     "text": [
      "\u001b[1m1/1\u001b[0m \u001b[32m━━━━━━━━━━━━━━━━━━━━\u001b[0m\u001b[37m\u001b[0m \u001b[1m0s\u001b[0m 49ms/step\n",
      "\u001b[1m1/1\u001b[0m \u001b[32m━━━━━━━━━━━━━━━━━━━━\u001b[0m\u001b[37m\u001b[0m \u001b[1m0s\u001b[0m 50ms/step\n"
     ]
    },
    {
     "name": "stderr",
     "output_type": "stream",
     "text": [
      "\r\n",
      " 53%|██████████████████████                    | 631/1200 [00:55<00:46, 12.12it/s]"
     ]
    },
    {
     "name": "stdout",
     "output_type": "stream",
     "text": [
      "\u001b[1m1/1\u001b[0m \u001b[32m━━━━━━━━━━━━━━━━━━━━\u001b[0m\u001b[37m\u001b[0m \u001b[1m0s\u001b[0m 51ms/step\n",
      "\u001b[1m1/1\u001b[0m \u001b[32m━━━━━━━━━━━━━━━━━━━━\u001b[0m\u001b[37m\u001b[0m \u001b[1m0s\u001b[0m 50ms/step\n"
     ]
    },
    {
     "name": "stderr",
     "output_type": "stream",
     "text": [
      "\r\n",
      " 53%|██████████████████████▏                   | 633/1200 [00:55<00:47, 11.84it/s]"
     ]
    },
    {
     "name": "stdout",
     "output_type": "stream",
     "text": [
      "\u001b[1m1/1\u001b[0m \u001b[32m━━━━━━━━━━━━━━━━━━━━\u001b[0m\u001b[37m\u001b[0m \u001b[1m0s\u001b[0m 49ms/step\n",
      "\u001b[1m1/1\u001b[0m \u001b[32m━━━━━━━━━━━━━━━━━━━━\u001b[0m\u001b[37m\u001b[0m \u001b[1m0s\u001b[0m 50ms/step\n"
     ]
    },
    {
     "name": "stderr",
     "output_type": "stream",
     "text": [
      "\r\n",
      " 53%|██████████████████████▏                   | 635/1200 [00:55<00:47, 12.02it/s]"
     ]
    },
    {
     "name": "stdout",
     "output_type": "stream",
     "text": [
      "\u001b[1m1/1\u001b[0m \u001b[32m━━━━━━━━━━━━━━━━━━━━\u001b[0m\u001b[37m\u001b[0m \u001b[1m0s\u001b[0m 49ms/step\n",
      "\u001b[1m1/1\u001b[0m \u001b[32m━━━━━━━━━━━━━━━━━━━━\u001b[0m\u001b[37m\u001b[0m \u001b[1m0s\u001b[0m 49ms/step\n"
     ]
    },
    {
     "name": "stderr",
     "output_type": "stream",
     "text": [
      "\r\n",
      " 53%|██████████████████████▎                   | 637/1200 [00:55<00:45, 12.28it/s]"
     ]
    },
    {
     "name": "stdout",
     "output_type": "stream",
     "text": [
      "\u001b[1m1/1\u001b[0m \u001b[32m━━━━━━━━━━━━━━━━━━━━\u001b[0m\u001b[37m\u001b[0m \u001b[1m0s\u001b[0m 49ms/step\n",
      "\u001b[1m1/1\u001b[0m \u001b[32m━━━━━━━━━━━━━━━━━━━━\u001b[0m\u001b[37m\u001b[0m \u001b[1m0s\u001b[0m 50ms/step\n"
     ]
    },
    {
     "name": "stderr",
     "output_type": "stream",
     "text": [
      "\r\n",
      " 53%|██████████████████████▎                   | 639/1200 [00:55<00:46, 12.03it/s]"
     ]
    },
    {
     "name": "stdout",
     "output_type": "stream",
     "text": [
      "\u001b[1m1/1\u001b[0m \u001b[32m━━━━━━━━━━━━━━━━━━━━\u001b[0m\u001b[37m\u001b[0m \u001b[1m0s\u001b[0m 50ms/step\n",
      "\u001b[1m1/1\u001b[0m \u001b[32m━━━━━━━━━━━━━━━━━━━━\u001b[0m\u001b[37m\u001b[0m \u001b[1m0s\u001b[0m 50ms/step\n"
     ]
    },
    {
     "name": "stderr",
     "output_type": "stream",
     "text": [
      "\r\n",
      " 53%|██████████████████████▍                   | 641/1200 [00:55<00:46, 12.10it/s]"
     ]
    },
    {
     "name": "stdout",
     "output_type": "stream",
     "text": [
      "\u001b[1m1/1\u001b[0m \u001b[32m━━━━━━━━━━━━━━━━━━━━\u001b[0m\u001b[37m\u001b[0m \u001b[1m0s\u001b[0m 51ms/step\n",
      "\u001b[1m1/1\u001b[0m \u001b[32m━━━━━━━━━━━━━━━━━━━━\u001b[0m\u001b[37m\u001b[0m \u001b[1m0s\u001b[0m 51ms/step\n"
     ]
    },
    {
     "name": "stderr",
     "output_type": "stream",
     "text": [
      "\r\n",
      " 54%|██████████████████████▌                   | 643/1200 [00:56<00:47, 11.76it/s]"
     ]
    },
    {
     "name": "stdout",
     "output_type": "stream",
     "text": [
      "\u001b[1m1/1\u001b[0m \u001b[32m━━━━━━━━━━━━━━━━━━━━\u001b[0m\u001b[37m\u001b[0m \u001b[1m0s\u001b[0m 51ms/step\n",
      "\u001b[1m1/1\u001b[0m \u001b[32m━━━━━━━━━━━━━━━━━━━━\u001b[0m\u001b[37m\u001b[0m \u001b[1m0s\u001b[0m 50ms/step\n"
     ]
    },
    {
     "name": "stderr",
     "output_type": "stream",
     "text": [
      "\r\n",
      " 54%|██████████████████████▌                   | 645/1200 [00:56<00:46, 11.96it/s]"
     ]
    },
    {
     "name": "stdout",
     "output_type": "stream",
     "text": [
      "\u001b[1m1/1\u001b[0m \u001b[32m━━━━━━━━━━━━━━━━━━━━\u001b[0m\u001b[37m\u001b[0m \u001b[1m0s\u001b[0m 50ms/step\n",
      "\u001b[1m1/1\u001b[0m \u001b[32m━━━━━━━━━━━━━━━━━━━━\u001b[0m\u001b[37m\u001b[0m \u001b[1m0s\u001b[0m 51ms/step\n"
     ]
    },
    {
     "name": "stderr",
     "output_type": "stream",
     "text": [
      "\r\n",
      " 54%|██████████████████████▋                   | 647/1200 [00:56<00:45, 12.07it/s]"
     ]
    },
    {
     "name": "stdout",
     "output_type": "stream",
     "text": [
      "\u001b[1m1/1\u001b[0m \u001b[32m━━━━━━━━━━━━━━━━━━━━\u001b[0m\u001b[37m\u001b[0m \u001b[1m0s\u001b[0m 51ms/step\n",
      "\u001b[1m1/1\u001b[0m \u001b[32m━━━━━━━━━━━━━━━━━━━━\u001b[0m\u001b[37m\u001b[0m \u001b[1m0s\u001b[0m 51ms/step\n"
     ]
    },
    {
     "name": "stderr",
     "output_type": "stream",
     "text": [
      "\r\n",
      " 54%|██████████████████████▋                   | 649/1200 [00:56<00:45, 11.99it/s]"
     ]
    },
    {
     "name": "stdout",
     "output_type": "stream",
     "text": [
      "\u001b[1m1/1\u001b[0m \u001b[32m━━━━━━━━━━━━━━━━━━━━\u001b[0m\u001b[37m\u001b[0m \u001b[1m0s\u001b[0m 50ms/step\n",
      "\u001b[1m1/1\u001b[0m \u001b[32m━━━━━━━━━━━━━━━━━━━━\u001b[0m\u001b[37m\u001b[0m \u001b[1m0s\u001b[0m 51ms/step\n"
     ]
    },
    {
     "name": "stderr",
     "output_type": "stream",
     "text": [
      "\r\n",
      " 54%|██████████████████████▊                   | 651/1200 [00:56<00:45, 12.07it/s]"
     ]
    },
    {
     "name": "stdout",
     "output_type": "stream",
     "text": [
      "\u001b[1m1/1\u001b[0m \u001b[32m━━━━━━━━━━━━━━━━━━━━\u001b[0m\u001b[37m\u001b[0m \u001b[1m0s\u001b[0m 49ms/step\n",
      "\u001b[1m1/1\u001b[0m \u001b[32m━━━━━━━━━━━━━━━━━━━━\u001b[0m\u001b[37m\u001b[0m \u001b[1m0s\u001b[0m 50ms/step\n"
     ]
    },
    {
     "name": "stderr",
     "output_type": "stream",
     "text": [
      "\r\n",
      " 54%|██████████████████████▊                   | 653/1200 [00:56<00:44, 12.19it/s]"
     ]
    },
    {
     "name": "stdout",
     "output_type": "stream",
     "text": [
      "\u001b[1m1/1\u001b[0m \u001b[32m━━━━━━━━━━━━━━━━━━━━\u001b[0m\u001b[37m\u001b[0m \u001b[1m0s\u001b[0m 51ms/step\n",
      "\u001b[1m1/1\u001b[0m \u001b[32m━━━━━━━━━━━━━━━━━━━━\u001b[0m\u001b[37m\u001b[0m \u001b[1m0s\u001b[0m 51ms/step\n"
     ]
    },
    {
     "name": "stderr",
     "output_type": "stream",
     "text": [
      "\r\n",
      " 55%|██████████████████████▉                   | 655/1200 [00:57<00:45, 12.10it/s]"
     ]
    },
    {
     "name": "stdout",
     "output_type": "stream",
     "text": [
      "\u001b[1m1/1\u001b[0m \u001b[32m━━━━━━━━━━━━━━━━━━━━\u001b[0m\u001b[37m\u001b[0m \u001b[1m0s\u001b[0m 50ms/step\n",
      "\u001b[1m1/1\u001b[0m \u001b[32m━━━━━━━━━━━━━━━━━━━━\u001b[0m\u001b[37m\u001b[0m \u001b[1m0s\u001b[0m 51ms/step\n"
     ]
    },
    {
     "name": "stderr",
     "output_type": "stream",
     "text": [
      "\r\n",
      " 55%|██████████████████████▉                   | 657/1200 [00:57<00:45, 11.84it/s]"
     ]
    },
    {
     "name": "stdout",
     "output_type": "stream",
     "text": [
      "\u001b[1m1/1\u001b[0m \u001b[32m━━━━━━━━━━━━━━━━━━━━\u001b[0m\u001b[37m\u001b[0m \u001b[1m0s\u001b[0m 50ms/step\n",
      "\u001b[1m1/1\u001b[0m \u001b[32m━━━━━━━━━━━━━━━━━━━━\u001b[0m\u001b[37m\u001b[0m \u001b[1m0s\u001b[0m 51ms/step\n"
     ]
    },
    {
     "name": "stderr",
     "output_type": "stream",
     "text": [
      "\r\n",
      " 55%|███████████████████████                   | 659/1200 [00:57<00:45, 11.95it/s]"
     ]
    },
    {
     "name": "stdout",
     "output_type": "stream",
     "text": [
      "\u001b[1m1/1\u001b[0m \u001b[32m━━━━━━━━━━━━━━━━━━━━\u001b[0m\u001b[37m\u001b[0m \u001b[1m0s\u001b[0m 51ms/step\n",
      "\u001b[1m1/1\u001b[0m \u001b[32m━━━━━━━━━━━━━━━━━━━━\u001b[0m\u001b[37m\u001b[0m \u001b[1m0s\u001b[0m 52ms/step\n"
     ]
    },
    {
     "name": "stderr",
     "output_type": "stream",
     "text": [
      "\r\n",
      " 55%|███████████████████████▏                  | 661/1200 [00:57<00:45, 11.97it/s]"
     ]
    },
    {
     "name": "stdout",
     "output_type": "stream",
     "text": [
      "\u001b[1m1/1\u001b[0m \u001b[32m━━━━━━━━━━━━━━━━━━━━\u001b[0m\u001b[37m\u001b[0m \u001b[1m0s\u001b[0m 52ms/step\n",
      "\u001b[1m1/1\u001b[0m \u001b[32m━━━━━━━━━━━━━━━━━━━━\u001b[0m\u001b[37m\u001b[0m \u001b[1m0s\u001b[0m 50ms/step\n"
     ]
    },
    {
     "name": "stderr",
     "output_type": "stream",
     "text": [
      "\r\n",
      " 55%|███████████████████████▏                  | 663/1200 [00:57<00:45, 11.73it/s]"
     ]
    },
    {
     "name": "stdout",
     "output_type": "stream",
     "text": [
      "\u001b[1m1/1\u001b[0m \u001b[32m━━━━━━━━━━━━━━━━━━━━\u001b[0m\u001b[37m\u001b[0m \u001b[1m0s\u001b[0m 49ms/step\n",
      "\u001b[1m1/1\u001b[0m \u001b[32m━━━━━━━━━━━━━━━━━━━━\u001b[0m\u001b[37m\u001b[0m \u001b[1m0s\u001b[0m 50ms/step\n"
     ]
    },
    {
     "name": "stderr",
     "output_type": "stream",
     "text": [
      "\r\n",
      " 55%|███████████████████████▎                  | 665/1200 [00:57<00:45, 11.70it/s]"
     ]
    },
    {
     "name": "stdout",
     "output_type": "stream",
     "text": [
      "\u001b[1m1/1\u001b[0m \u001b[32m━━━━━━━━━━━━━━━━━━━━\u001b[0m\u001b[37m\u001b[0m \u001b[1m0s\u001b[0m 50ms/step\n",
      "\u001b[1m1/1\u001b[0m \u001b[32m━━━━━━━━━━━━━━━━━━━━\u001b[0m\u001b[37m\u001b[0m \u001b[1m0s\u001b[0m 50ms/step\n"
     ]
    },
    {
     "name": "stderr",
     "output_type": "stream",
     "text": [
      "\r\n",
      " 56%|███████████████████████▎                  | 667/1200 [00:58<00:45, 11.79it/s]"
     ]
    },
    {
     "name": "stdout",
     "output_type": "stream",
     "text": [
      "\u001b[1m1/1\u001b[0m \u001b[32m━━━━━━━━━━━━━━━━━━━━\u001b[0m\u001b[37m\u001b[0m \u001b[1m0s\u001b[0m 50ms/step\n",
      "\u001b[1m1/1\u001b[0m \u001b[32m━━━━━━━━━━━━━━━━━━━━\u001b[0m\u001b[37m\u001b[0m \u001b[1m0s\u001b[0m 50ms/step\n"
     ]
    },
    {
     "name": "stderr",
     "output_type": "stream",
     "text": [
      "\r\n",
      " 56%|███████████████████████▍                  | 669/1200 [00:58<00:44, 11.93it/s]"
     ]
    },
    {
     "name": "stdout",
     "output_type": "stream",
     "text": [
      "\u001b[1m1/1\u001b[0m \u001b[32m━━━━━━━━━━━━━━━━━━━━\u001b[0m\u001b[37m\u001b[0m \u001b[1m0s\u001b[0m 50ms/step\n",
      "\u001b[1m1/1\u001b[0m \u001b[32m━━━━━━━━━━━━━━━━━━━━\u001b[0m\u001b[37m\u001b[0m \u001b[1m0s\u001b[0m 54ms/step\n"
     ]
    },
    {
     "name": "stderr",
     "output_type": "stream",
     "text": [
      "\r\n",
      " 56%|███████████████████████▍                  | 671/1200 [00:58<00:45, 11.63it/s]"
     ]
    },
    {
     "name": "stdout",
     "output_type": "stream",
     "text": [
      "\u001b[1m1/1\u001b[0m \u001b[32m━━━━━━━━━━━━━━━━━━━━\u001b[0m\u001b[37m\u001b[0m \u001b[1m0s\u001b[0m 53ms/step\n",
      "\u001b[1m1/1\u001b[0m \u001b[32m━━━━━━━━━━━━━━━━━━━━\u001b[0m\u001b[37m\u001b[0m \u001b[1m0s\u001b[0m 53ms/step\n"
     ]
    },
    {
     "name": "stderr",
     "output_type": "stream",
     "text": [
      "\r\n",
      " 56%|███████████████████████▌                  | 673/1200 [00:58<00:45, 11.64it/s]"
     ]
    },
    {
     "name": "stdout",
     "output_type": "stream",
     "text": [
      "\u001b[1m1/1\u001b[0m \u001b[32m━━━━━━━━━━━━━━━━━━━━\u001b[0m\u001b[37m\u001b[0m \u001b[1m0s\u001b[0m 51ms/step\n",
      "\u001b[1m1/1\u001b[0m \u001b[32m━━━━━━━━━━━━━━━━━━━━\u001b[0m\u001b[37m\u001b[0m \u001b[1m0s\u001b[0m 52ms/step\n"
     ]
    },
    {
     "name": "stderr",
     "output_type": "stream",
     "text": [
      "\r\n",
      " 56%|███████████████████████▋                  | 675/1200 [00:58<00:46, 11.26it/s]"
     ]
    },
    {
     "name": "stdout",
     "output_type": "stream",
     "text": [
      "\u001b[1m1/1\u001b[0m \u001b[32m━━━━━━━━━━━━━━━━━━━━\u001b[0m\u001b[37m\u001b[0m \u001b[1m0s\u001b[0m 54ms/step\n",
      "\u001b[1m1/1\u001b[0m \u001b[32m━━━━━━━━━━━━━━━━━━━━\u001b[0m\u001b[37m\u001b[0m \u001b[1m0s\u001b[0m 51ms/step\n"
     ]
    },
    {
     "name": "stderr",
     "output_type": "stream",
     "text": [
      "\r\n",
      " 56%|███████████████████████▋                  | 677/1200 [00:58<00:47, 11.11it/s]"
     ]
    },
    {
     "name": "stdout",
     "output_type": "stream",
     "text": [
      "\u001b[1m1/1\u001b[0m \u001b[32m━━━━━━━━━━━━━━━━━━━━\u001b[0m\u001b[37m\u001b[0m \u001b[1m0s\u001b[0m 52ms/step\n",
      "\u001b[1m1/1\u001b[0m \u001b[32m━━━━━━━━━━━━━━━━━━━━\u001b[0m\u001b[37m\u001b[0m \u001b[1m0s\u001b[0m 53ms/step\n"
     ]
    },
    {
     "name": "stderr",
     "output_type": "stream",
     "text": [
      "\r\n",
      " 57%|███████████████████████▊                  | 679/1200 [00:59<00:46, 11.12it/s]"
     ]
    },
    {
     "name": "stdout",
     "output_type": "stream",
     "text": [
      "\u001b[1m1/1\u001b[0m \u001b[32m━━━━━━━━━━━━━━━━━━━━\u001b[0m\u001b[37m\u001b[0m \u001b[1m0s\u001b[0m 53ms/step\n",
      "\u001b[1m1/1\u001b[0m \u001b[32m━━━━━━━━━━━━━━━━━━━━\u001b[0m\u001b[37m\u001b[0m \u001b[1m0s\u001b[0m 50ms/step\n"
     ]
    },
    {
     "name": "stderr",
     "output_type": "stream",
     "text": [
      "\r\n",
      " 57%|███████████████████████▊                  | 681/1200 [00:59<00:45, 11.34it/s]"
     ]
    },
    {
     "name": "stdout",
     "output_type": "stream",
     "text": [
      "\u001b[1m1/1\u001b[0m \u001b[32m━━━━━━━━━━━━━━━━━━━━\u001b[0m\u001b[37m\u001b[0m \u001b[1m0s\u001b[0m 50ms/step\n",
      "\u001b[1m1/1\u001b[0m \u001b[32m━━━━━━━━━━━━━━━━━━━━\u001b[0m\u001b[37m\u001b[0m \u001b[1m0s\u001b[0m 50ms/step\n"
     ]
    },
    {
     "name": "stderr",
     "output_type": "stream",
     "text": [
      "\r\n",
      " 57%|███████████████████████▉                  | 683/1200 [00:59<00:45, 11.37it/s]"
     ]
    },
    {
     "name": "stdout",
     "output_type": "stream",
     "text": [
      "\u001b[1m1/1\u001b[0m \u001b[32m━━━━━━━━━━━━━━━━━━━━\u001b[0m\u001b[37m\u001b[0m \u001b[1m0s\u001b[0m 51ms/step\n",
      "\u001b[1m1/1\u001b[0m \u001b[32m━━━━━━━━━━━━━━━━━━━━\u001b[0m\u001b[37m\u001b[0m \u001b[1m0s\u001b[0m 49ms/step\n"
     ]
    },
    {
     "name": "stderr",
     "output_type": "stream",
     "text": [
      "\r\n",
      " 57%|███████████████████████▉                  | 685/1200 [00:59<00:45, 11.38it/s]"
     ]
    },
    {
     "name": "stdout",
     "output_type": "stream",
     "text": [
      "\u001b[1m1/1\u001b[0m \u001b[32m━━━━━━━━━━━━━━━━━━━━\u001b[0m\u001b[37m\u001b[0m \u001b[1m0s\u001b[0m 49ms/step\n",
      "\u001b[1m1/1\u001b[0m \u001b[32m━━━━━━━━━━━━━━━━━━━━\u001b[0m\u001b[37m\u001b[0m \u001b[1m0s\u001b[0m 49ms/step\n"
     ]
    },
    {
     "name": "stderr",
     "output_type": "stream",
     "text": [
      "\r\n",
      " 57%|████████████████████████                  | 687/1200 [00:59<00:44, 11.44it/s]"
     ]
    },
    {
     "name": "stdout",
     "output_type": "stream",
     "text": [
      "\u001b[1m1/1\u001b[0m \u001b[32m━━━━━━━━━━━━━━━━━━━━\u001b[0m\u001b[37m\u001b[0m \u001b[1m0s\u001b[0m 49ms/step\n",
      "\u001b[1m1/1\u001b[0m \u001b[32m━━━━━━━━━━━━━━━━━━━━\u001b[0m\u001b[37m\u001b[0m \u001b[1m0s\u001b[0m 49ms/step\n"
     ]
    },
    {
     "name": "stderr",
     "output_type": "stream",
     "text": [
      "\r\n",
      " 57%|████████████████████████                  | 689/1200 [01:00<00:43, 11.79it/s]"
     ]
    },
    {
     "name": "stdout",
     "output_type": "stream",
     "text": [
      "\u001b[1m1/1\u001b[0m \u001b[32m━━━━━━━━━━━━━━━━━━━━\u001b[0m\u001b[37m\u001b[0m \u001b[1m0s\u001b[0m 51ms/step\n",
      "\u001b[1m1/1\u001b[0m \u001b[32m━━━━━━━━━━━━━━━━━━━━\u001b[0m\u001b[37m\u001b[0m \u001b[1m0s\u001b[0m 53ms/step\n"
     ]
    },
    {
     "name": "stderr",
     "output_type": "stream",
     "text": [
      "\r\n",
      " 58%|████████████████████████▏                 | 691/1200 [01:00<00:45, 11.19it/s]"
     ]
    },
    {
     "name": "stdout",
     "output_type": "stream",
     "text": [
      "\u001b[1m1/1\u001b[0m \u001b[32m━━━━━━━━━━━━━━━━━━━━\u001b[0m\u001b[37m\u001b[0m \u001b[1m0s\u001b[0m 52ms/step\n",
      "\u001b[1m1/1\u001b[0m \u001b[32m━━━━━━━━━━━━━━━━━━━━\u001b[0m\u001b[37m\u001b[0m \u001b[1m0s\u001b[0m 53ms/step\n"
     ]
    },
    {
     "name": "stderr",
     "output_type": "stream",
     "text": [
      "\r\n",
      " 58%|████████████████████████▎                 | 693/1200 [01:00<00:45, 11.11it/s]"
     ]
    },
    {
     "name": "stdout",
     "output_type": "stream",
     "text": [
      "\u001b[1m1/1\u001b[0m \u001b[32m━━━━━━━━━━━━━━━━━━━━\u001b[0m\u001b[37m\u001b[0m \u001b[1m0s\u001b[0m 53ms/step\n",
      "\u001b[1m1/1\u001b[0m \u001b[32m━━━━━━━━━━━━━━━━━━━━\u001b[0m\u001b[37m\u001b[0m \u001b[1m0s\u001b[0m 53ms/step\n"
     ]
    },
    {
     "name": "stderr",
     "output_type": "stream",
     "text": [
      "\r\n",
      " 58%|████████████████████████▎                 | 695/1200 [01:00<00:44, 11.27it/s]"
     ]
    },
    {
     "name": "stdout",
     "output_type": "stream",
     "text": [
      "\u001b[1m1/1\u001b[0m \u001b[32m━━━━━━━━━━━━━━━━━━━━\u001b[0m\u001b[37m\u001b[0m \u001b[1m0s\u001b[0m 52ms/step\n",
      "\u001b[1m1/1\u001b[0m \u001b[32m━━━━━━━━━━━━━━━━━━━━\u001b[0m\u001b[37m\u001b[0m \u001b[1m0s\u001b[0m 52ms/step\n"
     ]
    },
    {
     "name": "stderr",
     "output_type": "stream",
     "text": [
      "\r\n",
      " 58%|████████████████████████▍                 | 697/1200 [01:00<00:44, 11.41it/s]"
     ]
    },
    {
     "name": "stdout",
     "output_type": "stream",
     "text": [
      "\u001b[1m1/1\u001b[0m \u001b[32m━━━━━━━━━━━━━━━━━━━━\u001b[0m\u001b[37m\u001b[0m \u001b[1m0s\u001b[0m 52ms/step\n",
      "\u001b[1m1/1\u001b[0m \u001b[32m━━━━━━━━━━━━━━━━━━━━\u001b[0m\u001b[37m\u001b[0m \u001b[1m0s\u001b[0m 52ms/step\n"
     ]
    },
    {
     "name": "stderr",
     "output_type": "stream",
     "text": [
      "\r\n",
      " 58%|████████████████████████▍                 | 699/1200 [01:00<00:44, 11.30it/s]"
     ]
    },
    {
     "name": "stdout",
     "output_type": "stream",
     "text": [
      "\u001b[1m1/1\u001b[0m \u001b[32m━━━━━━━━━━━━━━━━━━━━\u001b[0m\u001b[37m\u001b[0m \u001b[1m0s\u001b[0m 52ms/step\n",
      "\u001b[1m1/1\u001b[0m \u001b[32m━━━━━━━━━━━━━━━━━━━━\u001b[0m\u001b[37m\u001b[0m \u001b[1m0s\u001b[0m 50ms/step\n"
     ]
    },
    {
     "name": "stderr",
     "output_type": "stream",
     "text": [
      "\r\n",
      " 58%|████████████████████████▌                 | 701/1200 [01:01<00:43, 11.53it/s]"
     ]
    },
    {
     "name": "stdout",
     "output_type": "stream",
     "text": [
      "\u001b[1m1/1\u001b[0m \u001b[32m━━━━━━━━━━━━━━━━━━━━\u001b[0m\u001b[37m\u001b[0m \u001b[1m0s\u001b[0m 51ms/step\n",
      "\u001b[1m1/1\u001b[0m \u001b[32m━━━━━━━━━━━━━━━━━━━━\u001b[0m\u001b[37m\u001b[0m \u001b[1m0s\u001b[0m 52ms/step\n"
     ]
    },
    {
     "name": "stderr",
     "output_type": "stream",
     "text": [
      "\r\n",
      " 59%|████████████████████████▌                 | 703/1200 [01:01<00:42, 11.62it/s]"
     ]
    },
    {
     "name": "stdout",
     "output_type": "stream",
     "text": [
      "\u001b[1m1/1\u001b[0m \u001b[32m━━━━━━━━━━━━━━━━━━━━\u001b[0m\u001b[37m\u001b[0m \u001b[1m0s\u001b[0m 51ms/step\n",
      "\u001b[1m1/1\u001b[0m \u001b[32m━━━━━━━━━━━━━━━━━━━━\u001b[0m\u001b[37m\u001b[0m \u001b[1m0s\u001b[0m 50ms/step\n"
     ]
    },
    {
     "name": "stderr",
     "output_type": "stream",
     "text": [
      "\r\n",
      " 59%|████████████████████████▋                 | 705/1200 [01:01<00:43, 11.47it/s]"
     ]
    },
    {
     "name": "stdout",
     "output_type": "stream",
     "text": [
      "\u001b[1m1/1\u001b[0m \u001b[32m━━━━━━━━━━━━━━━━━━━━\u001b[0m\u001b[37m\u001b[0m \u001b[1m0s\u001b[0m 50ms/step\n",
      "\u001b[1m1/1\u001b[0m \u001b[32m━━━━━━━━━━━━━━━━━━━━\u001b[0m\u001b[37m\u001b[0m \u001b[1m0s\u001b[0m 51ms/step\n"
     ]
    },
    {
     "name": "stderr",
     "output_type": "stream",
     "text": [
      "\r\n",
      " 59%|████████████████████████▋                 | 707/1200 [01:01<00:42, 11.51it/s]"
     ]
    },
    {
     "name": "stdout",
     "output_type": "stream",
     "text": [
      "\u001b[1m1/1\u001b[0m \u001b[32m━━━━━━━━━━━━━━━━━━━━\u001b[0m\u001b[37m\u001b[0m \u001b[1m0s\u001b[0m 50ms/step\n",
      "\u001b[1m1/1\u001b[0m \u001b[32m━━━━━━━━━━━━━━━━━━━━\u001b[0m\u001b[37m\u001b[0m \u001b[1m0s\u001b[0m 50ms/step\n"
     ]
    },
    {
     "name": "stderr",
     "output_type": "stream",
     "text": [
      "\r\n",
      " 59%|████████████████████████▊                 | 709/1200 [01:01<00:41, 11.73it/s]"
     ]
    },
    {
     "name": "stdout",
     "output_type": "stream",
     "text": [
      "\u001b[1m1/1\u001b[0m \u001b[32m━━━━━━━━━━━━━━━━━━━━\u001b[0m\u001b[37m\u001b[0m \u001b[1m0s\u001b[0m 49ms/step\n",
      "\u001b[1m1/1\u001b[0m \u001b[32m━━━━━━━━━━━━━━━━━━━━\u001b[0m\u001b[37m\u001b[0m \u001b[1m0s\u001b[0m 50ms/step\n"
     ]
    },
    {
     "name": "stderr",
     "output_type": "stream",
     "text": [
      "\r\n",
      " 59%|████████████████████████▉                 | 711/1200 [01:01<00:40, 11.95it/s]"
     ]
    },
    {
     "name": "stdout",
     "output_type": "stream",
     "text": [
      "\u001b[1m1/1\u001b[0m \u001b[32m━━━━━━━━━━━━━━━━━━━━\u001b[0m\u001b[37m\u001b[0m \u001b[1m0s\u001b[0m 51ms/step\n",
      "\u001b[1m1/1\u001b[0m \u001b[32m━━━━━━━━━━━━━━━━━━━━\u001b[0m\u001b[37m\u001b[0m \u001b[1m0s\u001b[0m 49ms/step\n"
     ]
    },
    {
     "name": "stderr",
     "output_type": "stream",
     "text": [
      "\r\n",
      " 59%|████████████████████████▉                 | 713/1200 [01:02<00:40, 12.10it/s]"
     ]
    },
    {
     "name": "stdout",
     "output_type": "stream",
     "text": [
      "\u001b[1m1/1\u001b[0m \u001b[32m━━━━━━━━━━━━━━━━━━━━\u001b[0m\u001b[37m\u001b[0m \u001b[1m0s\u001b[0m 51ms/step\n",
      "\u001b[1m1/1\u001b[0m \u001b[32m━━━━━━━━━━━━━━━━━━━━\u001b[0m\u001b[37m\u001b[0m \u001b[1m0s\u001b[0m 51ms/step\n"
     ]
    },
    {
     "name": "stderr",
     "output_type": "stream",
     "text": [
      "\r\n",
      " 60%|█████████████████████████                 | 715/1200 [01:02<00:40, 12.07it/s]"
     ]
    },
    {
     "name": "stdout",
     "output_type": "stream",
     "text": [
      "\u001b[1m1/1\u001b[0m \u001b[32m━━━━━━━━━━━━━━━━━━━━\u001b[0m\u001b[37m\u001b[0m \u001b[1m0s\u001b[0m 51ms/step\n",
      "\u001b[1m1/1\u001b[0m \u001b[32m━━━━━━━━━━━━━━━━━━━━\u001b[0m\u001b[37m\u001b[0m \u001b[1m0s\u001b[0m 50ms/step\n"
     ]
    },
    {
     "name": "stderr",
     "output_type": "stream",
     "text": [
      "\r\n",
      " 60%|█████████████████████████                 | 717/1200 [01:02<00:39, 12.09it/s]"
     ]
    },
    {
     "name": "stdout",
     "output_type": "stream",
     "text": [
      "\u001b[1m1/1\u001b[0m \u001b[32m━━━━━━━━━━━━━━━━━━━━\u001b[0m\u001b[37m\u001b[0m \u001b[1m0s\u001b[0m 50ms/step\n",
      "\u001b[1m1/1\u001b[0m \u001b[32m━━━━━━━━━━━━━━━━━━━━\u001b[0m\u001b[37m\u001b[0m \u001b[1m0s\u001b[0m 51ms/step\n"
     ]
    },
    {
     "name": "stderr",
     "output_type": "stream",
     "text": [
      "\r\n",
      " 60%|█████████████████████████▏                | 719/1200 [01:02<00:40, 11.86it/s]"
     ]
    },
    {
     "name": "stdout",
     "output_type": "stream",
     "text": [
      "\u001b[1m1/1\u001b[0m \u001b[32m━━━━━━━━━━━━━━━━━━━━\u001b[0m\u001b[37m\u001b[0m \u001b[1m0s\u001b[0m 50ms/step\n",
      "\u001b[1m1/1\u001b[0m \u001b[32m━━━━━━━━━━━━━━━━━━━━\u001b[0m\u001b[37m\u001b[0m \u001b[1m0s\u001b[0m 50ms/step\n"
     ]
    },
    {
     "name": "stderr",
     "output_type": "stream",
     "text": [
      "\r\n",
      " 60%|█████████████████████████▏                | 721/1200 [01:02<00:40, 11.97it/s]"
     ]
    },
    {
     "name": "stdout",
     "output_type": "stream",
     "text": [
      "\u001b[1m1/1\u001b[0m \u001b[32m━━━━━━━━━━━━━━━━━━━━\u001b[0m\u001b[37m\u001b[0m \u001b[1m0s\u001b[0m 49ms/step\n",
      "\u001b[1m1/1\u001b[0m \u001b[32m━━━━━━━━━━━━━━━━━━━━\u001b[0m\u001b[37m\u001b[0m \u001b[1m0s\u001b[0m 49ms/step\n"
     ]
    },
    {
     "name": "stderr",
     "output_type": "stream",
     "text": [
      "\r\n",
      " 60%|█████████████████████████▎                | 723/1200 [01:02<00:39, 12.12it/s]"
     ]
    },
    {
     "name": "stdout",
     "output_type": "stream",
     "text": [
      "\u001b[1m1/1\u001b[0m \u001b[32m━━━━━━━━━━━━━━━━━━━━\u001b[0m\u001b[37m\u001b[0m \u001b[1m0s\u001b[0m 49ms/step\n",
      "\u001b[1m1/1\u001b[0m \u001b[32m━━━━━━━━━━━━━━━━━━━━\u001b[0m\u001b[37m\u001b[0m \u001b[1m0s\u001b[0m 49ms/step\n"
     ]
    },
    {
     "name": "stderr",
     "output_type": "stream",
     "text": [
      "\r\n",
      " 60%|█████████████████████████▍                | 725/1200 [01:03<00:38, 12.26it/s]"
     ]
    },
    {
     "name": "stdout",
     "output_type": "stream",
     "text": [
      "\u001b[1m1/1\u001b[0m \u001b[32m━━━━━━━━━━━━━━━━━━━━\u001b[0m\u001b[37m\u001b[0m \u001b[1m0s\u001b[0m 50ms/step\n",
      "\u001b[1m1/1\u001b[0m \u001b[32m━━━━━━━━━━━━━━━━━━━━\u001b[0m\u001b[37m\u001b[0m \u001b[1m0s\u001b[0m 50ms/step\n"
     ]
    },
    {
     "name": "stderr",
     "output_type": "stream",
     "text": [
      "\r\n",
      " 61%|█████████████████████████▍                | 727/1200 [01:03<00:38, 12.19it/s]"
     ]
    },
    {
     "name": "stdout",
     "output_type": "stream",
     "text": [
      "\u001b[1m1/1\u001b[0m \u001b[32m━━━━━━━━━━━━━━━━━━━━\u001b[0m\u001b[37m\u001b[0m \u001b[1m0s\u001b[0m 52ms/step\n",
      "\u001b[1m1/1\u001b[0m \u001b[32m━━━━━━━━━━━━━━━━━━━━\u001b[0m\u001b[37m\u001b[0m \u001b[1m0s\u001b[0m 49ms/step\n"
     ]
    },
    {
     "name": "stderr",
     "output_type": "stream",
     "text": [
      "\r\n",
      " 61%|█████████████████████████▌                | 729/1200 [01:03<00:39, 11.88it/s]"
     ]
    },
    {
     "name": "stdout",
     "output_type": "stream",
     "text": [
      "\u001b[1m1/1\u001b[0m \u001b[32m━━━━━━━━━━━━━━━━━━━━\u001b[0m\u001b[37m\u001b[0m \u001b[1m0s\u001b[0m 54ms/step\n",
      "\u001b[1m1/1\u001b[0m \u001b[32m━━━━━━━━━━━━━━━━━━━━\u001b[0m\u001b[37m\u001b[0m \u001b[1m0s\u001b[0m 49ms/step\n"
     ]
    },
    {
     "name": "stderr",
     "output_type": "stream",
     "text": [
      "\r\n",
      " 61%|█████████████████████████▌                | 731/1200 [01:03<00:39, 11.92it/s]"
     ]
    },
    {
     "name": "stdout",
     "output_type": "stream",
     "text": [
      "\u001b[1m1/1\u001b[0m \u001b[32m━━━━━━━━━━━━━━━━━━━━\u001b[0m\u001b[37m\u001b[0m \u001b[1m0s\u001b[0m 49ms/step\n",
      "\u001b[1m1/1\u001b[0m \u001b[32m━━━━━━━━━━━━━━━━━━━━\u001b[0m\u001b[37m\u001b[0m \u001b[1m0s\u001b[0m 50ms/step\n"
     ]
    },
    {
     "name": "stderr",
     "output_type": "stream",
     "text": [
      "\r\n",
      " 61%|█████████████████████████▋                | 733/1200 [01:03<00:39, 11.85it/s]"
     ]
    },
    {
     "name": "stdout",
     "output_type": "stream",
     "text": [
      "\u001b[1m1/1\u001b[0m \u001b[32m━━━━━━━━━━━━━━━━━━━━\u001b[0m\u001b[37m\u001b[0m \u001b[1m0s\u001b[0m 49ms/step\n",
      "\u001b[1m1/1\u001b[0m \u001b[32m━━━━━━━━━━━━━━━━━━━━\u001b[0m\u001b[37m\u001b[0m \u001b[1m0s\u001b[0m 49ms/step\n"
     ]
    },
    {
     "name": "stderr",
     "output_type": "stream",
     "text": [
      "\r\n",
      " 61%|█████████████████████████▋                | 735/1200 [01:03<00:38, 12.06it/s]"
     ]
    },
    {
     "name": "stdout",
     "output_type": "stream",
     "text": [
      "\u001b[1m1/1\u001b[0m \u001b[32m━━━━━━━━━━━━━━━━━━━━\u001b[0m\u001b[37m\u001b[0m \u001b[1m0s\u001b[0m 49ms/step\n",
      "\u001b[1m1/1\u001b[0m \u001b[32m━━━━━━━━━━━━━━━━━━━━\u001b[0m\u001b[37m\u001b[0m \u001b[1m0s\u001b[0m 49ms/step\n"
     ]
    },
    {
     "name": "stderr",
     "output_type": "stream",
     "text": [
      "\r\n",
      " 61%|█████████████████████████▊                | 737/1200 [01:04<00:39, 11.83it/s]"
     ]
    },
    {
     "name": "stdout",
     "output_type": "stream",
     "text": [
      "\u001b[1m1/1\u001b[0m \u001b[32m━━━━━━━━━━━━━━━━━━━━\u001b[0m\u001b[37m\u001b[0m \u001b[1m0s\u001b[0m 49ms/step\n",
      "\u001b[1m1/1\u001b[0m \u001b[32m━━━━━━━━━━━━━━━━━━━━\u001b[0m\u001b[37m\u001b[0m \u001b[1m0s\u001b[0m 50ms/step\n"
     ]
    },
    {
     "name": "stderr",
     "output_type": "stream",
     "text": [
      "\r\n",
      " 62%|█████████████████████████▊                | 739/1200 [01:04<00:38, 11.92it/s]"
     ]
    },
    {
     "name": "stdout",
     "output_type": "stream",
     "text": [
      "\u001b[1m1/1\u001b[0m \u001b[32m━━━━━━━━━━━━━━━━━━━━\u001b[0m\u001b[37m\u001b[0m \u001b[1m0s\u001b[0m 49ms/step\n",
      "\u001b[1m1/1\u001b[0m \u001b[32m━━━━━━━━━━━━━━━━━━━━\u001b[0m\u001b[37m\u001b[0m \u001b[1m0s\u001b[0m 52ms/step\n"
     ]
    },
    {
     "name": "stderr",
     "output_type": "stream",
     "text": [
      "\r\n",
      " 62%|█████████████████████████▉                | 741/1200 [01:04<00:39, 11.48it/s]"
     ]
    },
    {
     "name": "stdout",
     "output_type": "stream",
     "text": [
      "\u001b[1m1/1\u001b[0m \u001b[32m━━━━━━━━━━━━━━━━━━━━\u001b[0m\u001b[37m\u001b[0m \u001b[1m0s\u001b[0m 52ms/step\n",
      "\u001b[1m1/1\u001b[0m \u001b[32m━━━━━━━━━━━━━━━━━━━━\u001b[0m\u001b[37m\u001b[0m \u001b[1m0s\u001b[0m 52ms/step\n"
     ]
    },
    {
     "name": "stderr",
     "output_type": "stream",
     "text": [
      "\r\n",
      " 62%|██████████████████████████                | 743/1200 [01:04<00:39, 11.57it/s]"
     ]
    },
    {
     "name": "stdout",
     "output_type": "stream",
     "text": [
      "\u001b[1m1/1\u001b[0m \u001b[32m━━━━━━━━━━━━━━━━━━━━\u001b[0m\u001b[37m\u001b[0m \u001b[1m0s\u001b[0m 53ms/step\n",
      "\u001b[1m1/1\u001b[0m \u001b[32m━━━━━━━━━━━━━━━━━━━━\u001b[0m\u001b[37m\u001b[0m \u001b[1m0s\u001b[0m 53ms/step\n"
     ]
    },
    {
     "name": "stderr",
     "output_type": "stream",
     "text": [
      "\r\n",
      " 62%|██████████████████████████                | 745/1200 [01:04<00:39, 11.64it/s]"
     ]
    },
    {
     "name": "stdout",
     "output_type": "stream",
     "text": [
      "\u001b[1m1/1\u001b[0m \u001b[32m━━━━━━━━━━━━━━━━━━━━\u001b[0m\u001b[37m\u001b[0m \u001b[1m0s\u001b[0m 52ms/step\n",
      "\u001b[1m1/1\u001b[0m \u001b[32m━━━━━━━━━━━━━━━━━━━━\u001b[0m\u001b[37m\u001b[0m \u001b[1m0s\u001b[0m 52ms/step\n"
     ]
    },
    {
     "name": "stderr",
     "output_type": "stream",
     "text": [
      "\r\n",
      " 62%|██████████████████████████▏               | 747/1200 [01:04<00:38, 11.74it/s]"
     ]
    },
    {
     "name": "stdout",
     "output_type": "stream",
     "text": [
      "\u001b[1m1/1\u001b[0m \u001b[32m━━━━━━━━━━━━━━━━━━━━\u001b[0m\u001b[37m\u001b[0m \u001b[1m0s\u001b[0m 51ms/step\n",
      "\u001b[1m1/1\u001b[0m \u001b[32m━━━━━━━━━━━━━━━━━━━━\u001b[0m\u001b[37m\u001b[0m \u001b[1m0s\u001b[0m 52ms/step\n"
     ]
    },
    {
     "name": "stderr",
     "output_type": "stream",
     "text": [
      "\r\n",
      " 62%|██████████████████████████▏               | 749/1200 [01:05<00:37, 11.91it/s]"
     ]
    },
    {
     "name": "stdout",
     "output_type": "stream",
     "text": [
      "\u001b[1m1/1\u001b[0m \u001b[32m━━━━━━━━━━━━━━━━━━━━\u001b[0m\u001b[37m\u001b[0m \u001b[1m0s\u001b[0m 52ms/step\n",
      "\u001b[1m1/1\u001b[0m \u001b[32m━━━━━━━━━━━━━━━━━━━━\u001b[0m\u001b[37m\u001b[0m \u001b[1m0s\u001b[0m 50ms/step\n"
     ]
    },
    {
     "name": "stderr",
     "output_type": "stream",
     "text": [
      "\r\n",
      " 63%|██████████████████████████▎               | 751/1200 [01:05<00:38, 11.67it/s]"
     ]
    },
    {
     "name": "stdout",
     "output_type": "stream",
     "text": [
      "\u001b[1m1/1\u001b[0m \u001b[32m━━━━━━━━━━━━━━━━━━━━\u001b[0m\u001b[37m\u001b[0m \u001b[1m0s\u001b[0m 50ms/step\n",
      "\u001b[1m1/1\u001b[0m \u001b[32m━━━━━━━━━━━━━━━━━━━━\u001b[0m\u001b[37m\u001b[0m \u001b[1m0s\u001b[0m 50ms/step\n"
     ]
    },
    {
     "name": "stderr",
     "output_type": "stream",
     "text": [
      "\r\n",
      " 63%|██████████████████████████▎               | 753/1200 [01:05<00:37, 11.81it/s]"
     ]
    },
    {
     "name": "stdout",
     "output_type": "stream",
     "text": [
      "\u001b[1m1/1\u001b[0m \u001b[32m━━━━━━━━━━━━━━━━━━━━\u001b[0m\u001b[37m\u001b[0m \u001b[1m0s\u001b[0m 50ms/step\n",
      "\u001b[1m1/1\u001b[0m \u001b[32m━━━━━━━━━━━━━━━━━━━━\u001b[0m\u001b[37m\u001b[0m \u001b[1m0s\u001b[0m 50ms/step\n"
     ]
    },
    {
     "name": "stderr",
     "output_type": "stream",
     "text": [
      "\r\n",
      " 63%|██████████████████████████▍               | 755/1200 [01:05<00:37, 11.93it/s]"
     ]
    },
    {
     "name": "stdout",
     "output_type": "stream",
     "text": [
      "\u001b[1m1/1\u001b[0m \u001b[32m━━━━━━━━━━━━━━━━━━━━\u001b[0m\u001b[37m\u001b[0m \u001b[1m0s\u001b[0m 50ms/step\n",
      "\u001b[1m1/1\u001b[0m \u001b[32m━━━━━━━━━━━━━━━━━━━━\u001b[0m\u001b[37m\u001b[0m \u001b[1m0s\u001b[0m 50ms/step\n"
     ]
    },
    {
     "name": "stderr",
     "output_type": "stream",
     "text": [
      "\r\n",
      " 63%|██████████████████████████▍               | 757/1200 [01:05<00:36, 12.02it/s]"
     ]
    },
    {
     "name": "stdout",
     "output_type": "stream",
     "text": [
      "\u001b[1m1/1\u001b[0m \u001b[32m━━━━━━━━━━━━━━━━━━━━\u001b[0m\u001b[37m\u001b[0m \u001b[1m0s\u001b[0m 49ms/step\n",
      "\u001b[1m1/1\u001b[0m \u001b[32m━━━━━━━━━━━━━━━━━━━━\u001b[0m\u001b[37m\u001b[0m \u001b[1m0s\u001b[0m 49ms/step\n"
     ]
    },
    {
     "name": "stderr",
     "output_type": "stream",
     "text": [
      "\r\n",
      " 63%|██████████████████████████▌               | 759/1200 [01:05<00:36, 12.13it/s]"
     ]
    },
    {
     "name": "stdout",
     "output_type": "stream",
     "text": [
      "\u001b[1m1/1\u001b[0m \u001b[32m━━━━━━━━━━━━━━━━━━━━\u001b[0m\u001b[37m\u001b[0m \u001b[1m0s\u001b[0m 48ms/step\n",
      "\u001b[1m1/1\u001b[0m \u001b[32m━━━━━━━━━━━━━━━━━━━━\u001b[0m\u001b[37m\u001b[0m \u001b[1m0s\u001b[0m 49ms/step\n"
     ]
    },
    {
     "name": "stderr",
     "output_type": "stream",
     "text": [
      "\r\n",
      " 63%|██████████████████████████▋               | 761/1200 [01:06<00:36, 12.05it/s]"
     ]
    },
    {
     "name": "stdout",
     "output_type": "stream",
     "text": [
      "\u001b[1m1/1\u001b[0m \u001b[32m━━━━━━━━━━━━━━━━━━━━\u001b[0m\u001b[37m\u001b[0m \u001b[1m0s\u001b[0m 50ms/step\n",
      "\u001b[1m1/1\u001b[0m \u001b[32m━━━━━━━━━━━━━━━━━━━━\u001b[0m\u001b[37m\u001b[0m \u001b[1m0s\u001b[0m 52ms/step\n"
     ]
    },
    {
     "name": "stderr",
     "output_type": "stream",
     "text": [
      "\r\n",
      " 64%|██████████████████████████▋               | 763/1200 [01:06<00:56,  7.71it/s]"
     ]
    },
    {
     "name": "stdout",
     "output_type": "stream",
     "text": [
      "\u001b[1m1/1\u001b[0m \u001b[32m━━━━━━━━━━━━━━━━━━━━\u001b[0m\u001b[37m\u001b[0m \u001b[1m0s\u001b[0m 52ms/step\n",
      "\u001b[1m1/1\u001b[0m \u001b[32m━━━━━━━━━━━━━━━━━━━━\u001b[0m\u001b[37m\u001b[0m \u001b[1m0s\u001b[0m 52ms/step\n"
     ]
    },
    {
     "name": "stderr",
     "output_type": "stream",
     "text": [
      "\r\n",
      " 64%|██████████████████████████▊               | 765/1200 [01:06<00:51,  8.45it/s]"
     ]
    },
    {
     "name": "stdout",
     "output_type": "stream",
     "text": [
      "\u001b[1m1/1\u001b[0m \u001b[32m━━━━━━━━━━━━━━━━━━━━\u001b[0m\u001b[37m\u001b[0m \u001b[1m0s\u001b[0m 51ms/step\n",
      "\u001b[1m1/1\u001b[0m \u001b[32m━━━━━━━━━━━━━━━━━━━━\u001b[0m\u001b[37m\u001b[0m \u001b[1m0s\u001b[0m 52ms/step\n"
     ]
    },
    {
     "name": "stderr",
     "output_type": "stream",
     "text": [
      "\r\n",
      " 64%|██████████████████████████▊               | 767/1200 [01:06<00:46,  9.27it/s]"
     ]
    },
    {
     "name": "stdout",
     "output_type": "stream",
     "text": [
      "\u001b[1m1/1\u001b[0m \u001b[32m━━━━━━━━━━━━━━━━━━━━\u001b[0m\u001b[37m\u001b[0m \u001b[1m0s\u001b[0m 52ms/step\n",
      "\u001b[1m1/1\u001b[0m \u001b[32m━━━━━━━━━━━━━━━━━━━━\u001b[0m\u001b[37m\u001b[0m \u001b[1m0s\u001b[0m 51ms/step\n"
     ]
    },
    {
     "name": "stderr",
     "output_type": "stream",
     "text": [
      "\r\n",
      " 64%|██████████████████████████▉               | 769/1200 [01:07<00:43,  9.87it/s]"
     ]
    },
    {
     "name": "stdout",
     "output_type": "stream",
     "text": [
      "\u001b[1m1/1\u001b[0m \u001b[32m━━━━━━━━━━━━━━━━━━━━\u001b[0m\u001b[37m\u001b[0m \u001b[1m0s\u001b[0m 51ms/step\n",
      "\u001b[1m1/1\u001b[0m \u001b[32m━━━━━━━━━━━━━━━━━━━━\u001b[0m\u001b[37m\u001b[0m \u001b[1m0s\u001b[0m 49ms/step\n"
     ]
    },
    {
     "name": "stderr",
     "output_type": "stream",
     "text": [
      "\r\n",
      " 64%|██████████████████████████▉               | 771/1200 [01:07<00:41, 10.23it/s]"
     ]
    },
    {
     "name": "stdout",
     "output_type": "stream",
     "text": [
      "\u001b[1m1/1\u001b[0m \u001b[32m━━━━━━━━━━━━━━━━━━━━\u001b[0m\u001b[37m\u001b[0m \u001b[1m0s\u001b[0m 50ms/step\n",
      "\u001b[1m1/1\u001b[0m \u001b[32m━━━━━━━━━━━━━━━━━━━━\u001b[0m\u001b[37m\u001b[0m \u001b[1m0s\u001b[0m 50ms/step\n"
     ]
    },
    {
     "name": "stderr",
     "output_type": "stream",
     "text": [
      "\r\n",
      " 64%|███████████████████████████               | 773/1200 [01:07<00:40, 10.59it/s]"
     ]
    },
    {
     "name": "stdout",
     "output_type": "stream",
     "text": [
      "\u001b[1m1/1\u001b[0m \u001b[32m━━━━━━━━━━━━━━━━━━━━\u001b[0m\u001b[37m\u001b[0m \u001b[1m0s\u001b[0m 49ms/step\n",
      "\u001b[1m1/1\u001b[0m \u001b[32m━━━━━━━━━━━━━━━━━━━━\u001b[0m\u001b[37m\u001b[0m \u001b[1m0s\u001b[0m 50ms/step\n"
     ]
    },
    {
     "name": "stderr",
     "output_type": "stream",
     "text": [
      "\r\n",
      " 65%|███████████████████████████▏              | 775/1200 [01:07<00:38, 11.04it/s]"
     ]
    },
    {
     "name": "stdout",
     "output_type": "stream",
     "text": [
      "\u001b[1m1/1\u001b[0m \u001b[32m━━━━━━━━━━━━━━━━━━━━\u001b[0m\u001b[37m\u001b[0m \u001b[1m0s\u001b[0m 50ms/step\n",
      "\u001b[1m1/1\u001b[0m \u001b[32m━━━━━━━━━━━━━━━━━━━━\u001b[0m\u001b[37m\u001b[0m \u001b[1m0s\u001b[0m 49ms/step\n"
     ]
    },
    {
     "name": "stderr",
     "output_type": "stream",
     "text": [
      "\r\n",
      " 65%|███████████████████████████▏              | 777/1200 [01:07<00:38, 11.10it/s]"
     ]
    },
    {
     "name": "stdout",
     "output_type": "stream",
     "text": [
      "\u001b[1m1/1\u001b[0m \u001b[32m━━━━━━━━━━━━━━━━━━━━\u001b[0m\u001b[37m\u001b[0m \u001b[1m0s\u001b[0m 50ms/step\n",
      "\u001b[1m1/1\u001b[0m \u001b[32m━━━━━━━━━━━━━━━━━━━━\u001b[0m\u001b[37m\u001b[0m \u001b[1m0s\u001b[0m 50ms/step\n"
     ]
    },
    {
     "name": "stderr",
     "output_type": "stream",
     "text": [
      "\r\n",
      " 65%|███████████████████████████▎              | 779/1200 [01:07<00:37, 11.15it/s]"
     ]
    },
    {
     "name": "stdout",
     "output_type": "stream",
     "text": [
      "\u001b[1m1/1\u001b[0m \u001b[32m━━━━━━━━━━━━━━━━━━━━\u001b[0m\u001b[37m\u001b[0m \u001b[1m0s\u001b[0m 50ms/step\n",
      "\u001b[1m1/1\u001b[0m \u001b[32m━━━━━━━━━━━━━━━━━━━━\u001b[0m\u001b[37m\u001b[0m \u001b[1m0s\u001b[0m 50ms/step\n"
     ]
    },
    {
     "name": "stderr",
     "output_type": "stream",
     "text": [
      "\r\n",
      " 65%|███████████████████████████▎              | 781/1200 [01:08<00:36, 11.48it/s]"
     ]
    },
    {
     "name": "stdout",
     "output_type": "stream",
     "text": [
      "\u001b[1m1/1\u001b[0m \u001b[32m━━━━━━━━━━━━━━━━━━━━\u001b[0m\u001b[37m\u001b[0m \u001b[1m0s\u001b[0m 50ms/step\n",
      "\u001b[1m1/1\u001b[0m \u001b[32m━━━━━━━━━━━━━━━━━━━━\u001b[0m\u001b[37m\u001b[0m \u001b[1m0s\u001b[0m 49ms/step\n"
     ]
    },
    {
     "name": "stderr",
     "output_type": "stream",
     "text": [
      "\r\n",
      " 65%|███████████████████████████▍              | 783/1200 [01:08<00:37, 11.21it/s]"
     ]
    },
    {
     "name": "stdout",
     "output_type": "stream",
     "text": [
      "\u001b[1m1/1\u001b[0m \u001b[32m━━━━━━━━━━━━━━━━━━━━\u001b[0m\u001b[37m\u001b[0m \u001b[1m0s\u001b[0m 50ms/step\n",
      "\u001b[1m1/1\u001b[0m \u001b[32m━━━━━━━━━━━━━━━━━━━━\u001b[0m\u001b[37m\u001b[0m \u001b[1m0s\u001b[0m 51ms/step\n"
     ]
    },
    {
     "name": "stderr",
     "output_type": "stream",
     "text": [
      "\r\n",
      " 65%|███████████████████████████▍              | 785/1200 [01:08<00:36, 11.49it/s]"
     ]
    },
    {
     "name": "stdout",
     "output_type": "stream",
     "text": [
      "\u001b[1m1/1\u001b[0m \u001b[32m━━━━━━━━━━━━━━━━━━━━\u001b[0m\u001b[37m\u001b[0m \u001b[1m0s\u001b[0m 51ms/step\n",
      "\u001b[1m1/1\u001b[0m \u001b[32m━━━━━━━━━━━━━━━━━━━━\u001b[0m\u001b[37m\u001b[0m \u001b[1m0s\u001b[0m 51ms/step\n"
     ]
    },
    {
     "name": "stderr",
     "output_type": "stream",
     "text": [
      "\r\n",
      " 66%|███████████████████████████▌              | 787/1200 [01:08<00:37, 11.13it/s]"
     ]
    },
    {
     "name": "stdout",
     "output_type": "stream",
     "text": [
      "\u001b[1m1/1\u001b[0m \u001b[32m━━━━━━━━━━━━━━━━━━━━\u001b[0m\u001b[37m\u001b[0m \u001b[1m0s\u001b[0m 51ms/step\n",
      "\u001b[1m1/1\u001b[0m \u001b[32m━━━━━━━━━━━━━━━━━━━━\u001b[0m\u001b[37m\u001b[0m \u001b[1m0s\u001b[0m 50ms/step\n"
     ]
    },
    {
     "name": "stderr",
     "output_type": "stream",
     "text": [
      "\r\n",
      " 66%|███████████████████████████▌              | 789/1200 [01:08<00:37, 11.03it/s]"
     ]
    },
    {
     "name": "stdout",
     "output_type": "stream",
     "text": [
      "\u001b[1m1/1\u001b[0m \u001b[32m━━━━━━━━━━━━━━━━━━━━\u001b[0m\u001b[37m\u001b[0m \u001b[1m0s\u001b[0m 51ms/step\n",
      "\u001b[1m1/1\u001b[0m \u001b[32m━━━━━━━━━━━━━━━━━━━━\u001b[0m\u001b[37m\u001b[0m \u001b[1m0s\u001b[0m 51ms/step\n"
     ]
    },
    {
     "name": "stderr",
     "output_type": "stream",
     "text": [
      "\r\n",
      " 66%|███████████████████████████▋              | 791/1200 [01:09<00:35, 11.38it/s]"
     ]
    },
    {
     "name": "stdout",
     "output_type": "stream",
     "text": [
      "\u001b[1m1/1\u001b[0m \u001b[32m━━━━━━━━━━━━━━━━━━━━\u001b[0m\u001b[37m\u001b[0m \u001b[1m0s\u001b[0m 50ms/step\n",
      "\u001b[1m1/1\u001b[0m \u001b[32m━━━━━━━━━━━━━━━━━━━━\u001b[0m\u001b[37m\u001b[0m \u001b[1m0s\u001b[0m 50ms/step\n"
     ]
    },
    {
     "name": "stderr",
     "output_type": "stream",
     "text": [
      "\r\n",
      " 66%|███████████████████████████▊              | 793/1200 [01:09<00:35, 11.37it/s]"
     ]
    },
    {
     "name": "stdout",
     "output_type": "stream",
     "text": [
      "\u001b[1m1/1\u001b[0m \u001b[32m━━━━━━━━━━━━━━━━━━━━\u001b[0m\u001b[37m\u001b[0m \u001b[1m0s\u001b[0m 51ms/step\n",
      "\u001b[1m1/1\u001b[0m \u001b[32m━━━━━━━━━━━━━━━━━━━━\u001b[0m\u001b[37m\u001b[0m \u001b[1m0s\u001b[0m 51ms/step\n"
     ]
    },
    {
     "name": "stderr",
     "output_type": "stream",
     "text": [
      "\r\n",
      " 66%|███████████████████████████▊              | 795/1200 [01:09<00:34, 11.64it/s]"
     ]
    },
    {
     "name": "stdout",
     "output_type": "stream",
     "text": [
      "\u001b[1m1/1\u001b[0m \u001b[32m━━━━━━━━━━━━━━━━━━━━\u001b[0m\u001b[37m\u001b[0m \u001b[1m0s\u001b[0m 51ms/step\n",
      "\u001b[1m1/1\u001b[0m \u001b[32m━━━━━━━━━━━━━━━━━━━━\u001b[0m\u001b[37m\u001b[0m \u001b[1m0s\u001b[0m 51ms/step\n"
     ]
    },
    {
     "name": "stderr",
     "output_type": "stream",
     "text": [
      "\r\n",
      " 66%|███████████████████████████▉              | 797/1200 [01:09<00:34, 11.83it/s]"
     ]
    },
    {
     "name": "stdout",
     "output_type": "stream",
     "text": [
      "\u001b[1m1/1\u001b[0m \u001b[32m━━━━━━━━━━━━━━━━━━━━\u001b[0m\u001b[37m\u001b[0m \u001b[1m0s\u001b[0m 50ms/step\n",
      "\u001b[1m1/1\u001b[0m \u001b[32m━━━━━━━━━━━━━━━━━━━━\u001b[0m\u001b[37m\u001b[0m \u001b[1m0s\u001b[0m 51ms/step\n"
     ]
    },
    {
     "name": "stderr",
     "output_type": "stream",
     "text": [
      "\r\n",
      " 67%|███████████████████████████▉              | 799/1200 [01:09<00:34, 11.63it/s]"
     ]
    },
    {
     "name": "stdout",
     "output_type": "stream",
     "text": [
      "\u001b[1m1/1\u001b[0m \u001b[32m━━━━━━━━━━━━━━━━━━━━\u001b[0m\u001b[37m\u001b[0m \u001b[1m0s\u001b[0m 51ms/step\n",
      "\u001b[1m1/1\u001b[0m \u001b[32m━━━━━━━━━━━━━━━━━━━━\u001b[0m\u001b[37m\u001b[0m \u001b[1m0s\u001b[0m 51ms/step\n"
     ]
    },
    {
     "name": "stderr",
     "output_type": "stream",
     "text": [
      "\r\n",
      " 67%|████████████████████████████              | 801/1200 [01:09<00:34, 11.65it/s]"
     ]
    },
    {
     "name": "stdout",
     "output_type": "stream",
     "text": [
      "\u001b[1m1/1\u001b[0m \u001b[32m━━━━━━━━━━━━━━━━━━━━\u001b[0m\u001b[37m\u001b[0m \u001b[1m0s\u001b[0m 50ms/step\n",
      "\u001b[1m1/1\u001b[0m \u001b[32m━━━━━━━━━━━━━━━━━━━━\u001b[0m\u001b[37m\u001b[0m \u001b[1m0s\u001b[0m 49ms/step\n"
     ]
    },
    {
     "name": "stderr",
     "output_type": "stream",
     "text": [
      "\r\n",
      " 67%|████████████████████████████              | 803/1200 [01:10<00:33, 11.90it/s]"
     ]
    },
    {
     "name": "stdout",
     "output_type": "stream",
     "text": [
      "\u001b[1m1/1\u001b[0m \u001b[32m━━━━━━━━━━━━━━━━━━━━\u001b[0m\u001b[37m\u001b[0m \u001b[1m0s\u001b[0m 50ms/step\n",
      "\u001b[1m1/1\u001b[0m \u001b[32m━━━━━━━━━━━━━━━━━━━━\u001b[0m\u001b[37m\u001b[0m \u001b[1m0s\u001b[0m 51ms/step\n"
     ]
    },
    {
     "name": "stderr",
     "output_type": "stream",
     "text": [
      "\r\n",
      " 67%|████████████████████████████▏             | 805/1200 [01:10<00:33, 11.96it/s]"
     ]
    },
    {
     "name": "stdout",
     "output_type": "stream",
     "text": [
      "\u001b[1m1/1\u001b[0m \u001b[32m━━━━━━━━━━━━━━━━━━━━\u001b[0m\u001b[37m\u001b[0m \u001b[1m0s\u001b[0m 49ms/step\n",
      "\u001b[1m1/1\u001b[0m \u001b[32m━━━━━━━━━━━━━━━━━━━━\u001b[0m\u001b[37m\u001b[0m \u001b[1m0s\u001b[0m 50ms/step\n"
     ]
    },
    {
     "name": "stderr",
     "output_type": "stream",
     "text": [
      "\r\n",
      " 67%|████████████████████████████▏             | 807/1200 [01:10<00:33, 11.76it/s]"
     ]
    },
    {
     "name": "stdout",
     "output_type": "stream",
     "text": [
      "\u001b[1m1/1\u001b[0m \u001b[32m━━━━━━━━━━━━━━━━━━━━\u001b[0m\u001b[37m\u001b[0m \u001b[1m0s\u001b[0m 50ms/step\n",
      "\u001b[1m1/1\u001b[0m \u001b[32m━━━━━━━━━━━━━━━━━━━━\u001b[0m\u001b[37m\u001b[0m \u001b[1m0s\u001b[0m 50ms/step\n"
     ]
    },
    {
     "name": "stderr",
     "output_type": "stream",
     "text": [
      "\r\n",
      " 67%|████████████████████████████▎             | 809/1200 [01:10<00:32, 11.94it/s]"
     ]
    },
    {
     "name": "stdout",
     "output_type": "stream",
     "text": [
      "\u001b[1m1/1\u001b[0m \u001b[32m━━━━━━━━━━━━━━━━━━━━\u001b[0m\u001b[37m\u001b[0m \u001b[1m0s\u001b[0m 50ms/step\n",
      "\u001b[1m1/1\u001b[0m \u001b[32m━━━━━━━━━━━━━━━━━━━━\u001b[0m\u001b[37m\u001b[0m \u001b[1m0s\u001b[0m 49ms/step\n"
     ]
    },
    {
     "name": "stderr",
     "output_type": "stream",
     "text": [
      "\r\n",
      " 68%|████████████████████████████▍             | 811/1200 [01:10<00:32, 12.04it/s]"
     ]
    },
    {
     "name": "stdout",
     "output_type": "stream",
     "text": [
      "\u001b[1m1/1\u001b[0m \u001b[32m━━━━━━━━━━━━━━━━━━━━\u001b[0m\u001b[37m\u001b[0m \u001b[1m0s\u001b[0m 50ms/step\n",
      "\u001b[1m1/1\u001b[0m \u001b[32m━━━━━━━━━━━━━━━━━━━━\u001b[0m\u001b[37m\u001b[0m \u001b[1m0s\u001b[0m 49ms/step\n"
     ]
    },
    {
     "name": "stderr",
     "output_type": "stream",
     "text": [
      "\r\n",
      " 68%|████████████████████████████▍             | 813/1200 [01:10<00:31, 12.15it/s]"
     ]
    },
    {
     "name": "stdout",
     "output_type": "stream",
     "text": [
      "\u001b[1m1/1\u001b[0m \u001b[32m━━━━━━━━━━━━━━━━━━━━\u001b[0m\u001b[37m\u001b[0m \u001b[1m0s\u001b[0m 50ms/step\n",
      "\u001b[1m1/1\u001b[0m \u001b[32m━━━━━━━━━━━━━━━━━━━━\u001b[0m\u001b[37m\u001b[0m \u001b[1m0s\u001b[0m 49ms/step\n"
     ]
    },
    {
     "name": "stderr",
     "output_type": "stream",
     "text": [
      "\r\n",
      " 68%|████████████████████████████▌             | 815/1200 [01:11<00:32, 11.85it/s]"
     ]
    },
    {
     "name": "stdout",
     "output_type": "stream",
     "text": [
      "\u001b[1m1/1\u001b[0m \u001b[32m━━━━━━━━━━━━━━━━━━━━\u001b[0m\u001b[37m\u001b[0m \u001b[1m0s\u001b[0m 49ms/step\n",
      "\u001b[1m1/1\u001b[0m \u001b[32m━━━━━━━━━━━━━━━━━━━━\u001b[0m\u001b[37m\u001b[0m \u001b[1m0s\u001b[0m 49ms/step\n"
     ]
    },
    {
     "name": "stderr",
     "output_type": "stream",
     "text": [
      "\r\n",
      " 68%|████████████████████████████▌             | 817/1200 [01:11<00:31, 12.02it/s]"
     ]
    },
    {
     "name": "stdout",
     "output_type": "stream",
     "text": [
      "\u001b[1m1/1\u001b[0m \u001b[32m━━━━━━━━━━━━━━━━━━━━\u001b[0m\u001b[37m\u001b[0m \u001b[1m0s\u001b[0m 48ms/step\n",
      "\u001b[1m1/1\u001b[0m \u001b[32m━━━━━━━━━━━━━━━━━━━━\u001b[0m\u001b[37m\u001b[0m \u001b[1m0s\u001b[0m 50ms/step\n"
     ]
    },
    {
     "name": "stderr",
     "output_type": "stream",
     "text": [
      "\r\n",
      " 68%|████████████████████████████▋             | 819/1200 [01:11<00:31, 11.96it/s]"
     ]
    },
    {
     "name": "stdout",
     "output_type": "stream",
     "text": [
      "\u001b[1m1/1\u001b[0m \u001b[32m━━━━━━━━━━━━━━━━━━━━\u001b[0m\u001b[37m\u001b[0m \u001b[1m0s\u001b[0m 48ms/step\n",
      "\u001b[1m1/1\u001b[0m \u001b[32m━━━━━━━━━━━━━━━━━━━━\u001b[0m\u001b[37m\u001b[0m \u001b[1m0s\u001b[0m 51ms/step\n"
     ]
    },
    {
     "name": "stderr",
     "output_type": "stream",
     "text": [
      "\r\n",
      " 68%|████████████████████████████▋             | 821/1200 [01:11<00:32, 11.82it/s]"
     ]
    },
    {
     "name": "stdout",
     "output_type": "stream",
     "text": [
      "\u001b[1m1/1\u001b[0m \u001b[32m━━━━━━━━━━━━━━━━━━━━\u001b[0m\u001b[37m\u001b[0m \u001b[1m0s\u001b[0m 50ms/step\n",
      "\u001b[1m1/1\u001b[0m \u001b[32m━━━━━━━━━━━━━━━━━━━━\u001b[0m\u001b[37m\u001b[0m \u001b[1m0s\u001b[0m 51ms/step\n"
     ]
    },
    {
     "name": "stderr",
     "output_type": "stream",
     "text": [
      "\r\n",
      " 69%|████████████████████████████▊             | 823/1200 [01:11<00:31, 11.92it/s]"
     ]
    },
    {
     "name": "stdout",
     "output_type": "stream",
     "text": [
      "\u001b[1m1/1\u001b[0m \u001b[32m━━━━━━━━━━━━━━━━━━━━\u001b[0m\u001b[37m\u001b[0m \u001b[1m0s\u001b[0m 51ms/step\n",
      "\u001b[1m1/1\u001b[0m \u001b[32m━━━━━━━━━━━━━━━━━━━━\u001b[0m\u001b[37m\u001b[0m \u001b[1m0s\u001b[0m 50ms/step\n"
     ]
    },
    {
     "name": "stderr",
     "output_type": "stream",
     "text": [
      "\r\n",
      " 69%|████████████████████████████▉             | 825/1200 [01:11<00:32, 11.72it/s]"
     ]
    },
    {
     "name": "stdout",
     "output_type": "stream",
     "text": [
      "\u001b[1m1/1\u001b[0m \u001b[32m━━━━━━━━━━━━━━━━━━━━\u001b[0m\u001b[37m\u001b[0m \u001b[1m0s\u001b[0m 50ms/step\n",
      "\u001b[1m1/1\u001b[0m \u001b[32m━━━━━━━━━━━━━━━━━━━━\u001b[0m\u001b[37m\u001b[0m \u001b[1m0s\u001b[0m 50ms/step\n"
     ]
    },
    {
     "name": "stderr",
     "output_type": "stream",
     "text": [
      "\r\n",
      " 69%|████████████████████████████▉             | 827/1200 [01:12<00:31, 11.91it/s]"
     ]
    },
    {
     "name": "stdout",
     "output_type": "stream",
     "text": [
      "\u001b[1m1/1\u001b[0m \u001b[32m━━━━━━━━━━━━━━━━━━━━\u001b[0m\u001b[37m\u001b[0m \u001b[1m0s\u001b[0m 51ms/step\n",
      "\u001b[1m1/1\u001b[0m \u001b[32m━━━━━━━━━━━━━━━━━━━━\u001b[0m\u001b[37m\u001b[0m \u001b[1m0s\u001b[0m 52ms/step\n"
     ]
    },
    {
     "name": "stderr",
     "output_type": "stream",
     "text": [
      "\r\n",
      " 69%|█████████████████████████████             | 829/1200 [01:12<00:31, 11.91it/s]"
     ]
    },
    {
     "name": "stdout",
     "output_type": "stream",
     "text": [
      "\u001b[1m1/1\u001b[0m \u001b[32m━━━━━━━━━━━━━━━━━━━━\u001b[0m\u001b[37m\u001b[0m \u001b[1m0s\u001b[0m 51ms/step\n",
      "\u001b[1m1/1\u001b[0m \u001b[32m━━━━━━━━━━━━━━━━━━━━\u001b[0m\u001b[37m\u001b[0m \u001b[1m0s\u001b[0m 51ms/step\n"
     ]
    },
    {
     "name": "stderr",
     "output_type": "stream",
     "text": [
      "\r\n",
      " 69%|█████████████████████████████             | 831/1200 [01:12<00:32, 11.44it/s]"
     ]
    },
    {
     "name": "stdout",
     "output_type": "stream",
     "text": [
      "\u001b[1m1/1\u001b[0m \u001b[32m━━━━━━━━━━━━━━━━━━━━\u001b[0m\u001b[37m\u001b[0m \u001b[1m0s\u001b[0m 50ms/step\n",
      "\u001b[1m1/1\u001b[0m \u001b[32m━━━━━━━━━━━━━━━━━━━━\u001b[0m\u001b[37m\u001b[0m \u001b[1m0s\u001b[0m 51ms/step\n"
     ]
    },
    {
     "name": "stderr",
     "output_type": "stream",
     "text": [
      "\r\n",
      " 69%|█████████████████████████████▏            | 833/1200 [01:12<00:31, 11.64it/s]"
     ]
    },
    {
     "name": "stdout",
     "output_type": "stream",
     "text": [
      "\u001b[1m1/1\u001b[0m \u001b[32m━━━━━━━━━━━━━━━━━━━━\u001b[0m\u001b[37m\u001b[0m \u001b[1m0s\u001b[0m 51ms/step\n",
      "\u001b[1m1/1\u001b[0m \u001b[32m━━━━━━━━━━━━━━━━━━━━\u001b[0m\u001b[37m\u001b[0m \u001b[1m0s\u001b[0m 51ms/step\n"
     ]
    },
    {
     "name": "stderr",
     "output_type": "stream",
     "text": [
      "\r\n",
      " 70%|█████████████████████████████▏            | 835/1200 [01:12<00:31, 11.69it/s]"
     ]
    },
    {
     "name": "stdout",
     "output_type": "stream",
     "text": [
      "\u001b[1m1/1\u001b[0m \u001b[32m━━━━━━━━━━━━━━━━━━━━\u001b[0m\u001b[37m\u001b[0m \u001b[1m0s\u001b[0m 51ms/step\n",
      "\u001b[1m1/1\u001b[0m \u001b[32m━━━━━━━━━━━━━━━━━━━━\u001b[0m\u001b[37m\u001b[0m \u001b[1m0s\u001b[0m 52ms/step\n"
     ]
    },
    {
     "name": "stderr",
     "output_type": "stream",
     "text": [
      "\r\n",
      " 70%|█████████████████████████████▎            | 837/1200 [01:12<00:31, 11.51it/s]"
     ]
    },
    {
     "name": "stdout",
     "output_type": "stream",
     "text": [
      "\u001b[1m1/1\u001b[0m \u001b[32m━━━━━━━━━━━━━━━━━━━━\u001b[0m\u001b[37m\u001b[0m \u001b[1m0s\u001b[0m 51ms/step\n",
      "\u001b[1m1/1\u001b[0m \u001b[32m━━━━━━━━━━━━━━━━━━━━\u001b[0m\u001b[37m\u001b[0m \u001b[1m0s\u001b[0m 51ms/step\n"
     ]
    },
    {
     "name": "stderr",
     "output_type": "stream",
     "text": [
      "\r\n",
      " 70%|█████████████████████████████▎            | 839/1200 [01:13<00:31, 11.48it/s]"
     ]
    },
    {
     "name": "stdout",
     "output_type": "stream",
     "text": [
      "\u001b[1m1/1\u001b[0m \u001b[32m━━━━━━━━━━━━━━━━━━━━\u001b[0m\u001b[37m\u001b[0m \u001b[1m0s\u001b[0m 51ms/step\n",
      "\u001b[1m1/1\u001b[0m \u001b[32m━━━━━━━━━━━━━━━━━━━━\u001b[0m\u001b[37m\u001b[0m \u001b[1m0s\u001b[0m 50ms/step\n"
     ]
    },
    {
     "name": "stderr",
     "output_type": "stream",
     "text": [
      "\r\n",
      " 70%|█████████████████████████████▍            | 841/1200 [01:13<00:31, 11.40it/s]"
     ]
    },
    {
     "name": "stdout",
     "output_type": "stream",
     "text": [
      "\u001b[1m1/1\u001b[0m \u001b[32m━━━━━━━━━━━━━━━━━━━━\u001b[0m\u001b[37m\u001b[0m \u001b[1m0s\u001b[0m 49ms/step\n",
      "\u001b[1m1/1\u001b[0m \u001b[32m━━━━━━━━━━━━━━━━━━━━\u001b[0m\u001b[37m\u001b[0m \u001b[1m0s\u001b[0m 50ms/step\n"
     ]
    },
    {
     "name": "stderr",
     "output_type": "stream",
     "text": [
      "\r\n",
      " 70%|█████████████████████████████▌            | 843/1200 [01:13<00:30, 11.72it/s]"
     ]
    },
    {
     "name": "stdout",
     "output_type": "stream",
     "text": [
      "\u001b[1m1/1\u001b[0m \u001b[32m━━━━━━━━━━━━━━━━━━━━\u001b[0m\u001b[37m\u001b[0m \u001b[1m0s\u001b[0m 51ms/step\n",
      "\u001b[1m1/1\u001b[0m \u001b[32m━━━━━━━━━━━━━━━━━━━━\u001b[0m\u001b[37m\u001b[0m \u001b[1m0s\u001b[0m 50ms/step\n"
     ]
    },
    {
     "name": "stderr",
     "output_type": "stream",
     "text": [
      "\r\n",
      " 70%|█████████████████████████████▌            | 845/1200 [01:13<00:29, 11.85it/s]"
     ]
    },
    {
     "name": "stdout",
     "output_type": "stream",
     "text": [
      "\u001b[1m1/1\u001b[0m \u001b[32m━━━━━━━━━━━━━━━━━━━━\u001b[0m\u001b[37m\u001b[0m \u001b[1m0s\u001b[0m 49ms/step\n",
      "\u001b[1m1/1\u001b[0m \u001b[32m━━━━━━━━━━━━━━━━━━━━\u001b[0m\u001b[37m\u001b[0m \u001b[1m0s\u001b[0m 50ms/step\n"
     ]
    },
    {
     "name": "stderr",
     "output_type": "stream",
     "text": [
      "\r\n",
      " 71%|█████████████████████████████▋            | 847/1200 [01:13<00:30, 11.55it/s]"
     ]
    },
    {
     "name": "stdout",
     "output_type": "stream",
     "text": [
      "\u001b[1m1/1\u001b[0m \u001b[32m━━━━━━━━━━━━━━━━━━━━\u001b[0m\u001b[37m\u001b[0m \u001b[1m0s\u001b[0m 50ms/step\n",
      "\u001b[1m1/1\u001b[0m \u001b[32m━━━━━━━━━━━━━━━━━━━━\u001b[0m\u001b[37m\u001b[0m \u001b[1m0s\u001b[0m 50ms/step\n"
     ]
    },
    {
     "name": "stderr",
     "output_type": "stream",
     "text": [
      "\r\n",
      " 71%|█████████████████████████████▋            | 849/1200 [01:13<00:29, 11.74it/s]"
     ]
    },
    {
     "name": "stdout",
     "output_type": "stream",
     "text": [
      "\u001b[1m1/1\u001b[0m \u001b[32m━━━━━━━━━━━━━━━━━━━━\u001b[0m\u001b[37m\u001b[0m \u001b[1m0s\u001b[0m 50ms/step\n",
      "\u001b[1m1/1\u001b[0m \u001b[32m━━━━━━━━━━━━━━━━━━━━\u001b[0m\u001b[37m\u001b[0m \u001b[1m0s\u001b[0m 50ms/step\n"
     ]
    },
    {
     "name": "stderr",
     "output_type": "stream",
     "text": [
      "\r\n",
      " 71%|█████████████████████████████▊            | 851/1200 [01:14<00:29, 11.90it/s]"
     ]
    },
    {
     "name": "stdout",
     "output_type": "stream",
     "text": [
      "\u001b[1m1/1\u001b[0m \u001b[32m━━━━━━━━━━━━━━━━━━━━\u001b[0m\u001b[37m\u001b[0m \u001b[1m0s\u001b[0m 50ms/step\n",
      "\u001b[1m1/1\u001b[0m \u001b[32m━━━━━━━━━━━━━━━━━━━━\u001b[0m\u001b[37m\u001b[0m \u001b[1m0s\u001b[0m 50ms/step\n"
     ]
    },
    {
     "name": "stderr",
     "output_type": "stream",
     "text": [
      "\r\n",
      " 71%|█████████████████████████████▊            | 853/1200 [01:14<00:28, 12.01it/s]"
     ]
    },
    {
     "name": "stdout",
     "output_type": "stream",
     "text": [
      "\u001b[1m1/1\u001b[0m \u001b[32m━━━━━━━━━━━━━━━━━━━━\u001b[0m\u001b[37m\u001b[0m \u001b[1m0s\u001b[0m 50ms/step\n",
      "\u001b[1m1/1\u001b[0m \u001b[32m━━━━━━━━━━━━━━━━━━━━\u001b[0m\u001b[37m\u001b[0m \u001b[1m0s\u001b[0m 50ms/step\n"
     ]
    },
    {
     "name": "stderr",
     "output_type": "stream",
     "text": [
      "\r\n",
      " 71%|█████████████████████████████▉            | 855/1200 [01:14<00:28, 12.13it/s]"
     ]
    },
    {
     "name": "stdout",
     "output_type": "stream",
     "text": [
      "\u001b[1m1/1\u001b[0m \u001b[32m━━━━━━━━━━━━━━━━━━━━\u001b[0m\u001b[37m\u001b[0m \u001b[1m0s\u001b[0m 49ms/step\n",
      "\u001b[1m1/1\u001b[0m \u001b[32m━━━━━━━━━━━━━━━━━━━━\u001b[0m\u001b[37m\u001b[0m \u001b[1m0s\u001b[0m 50ms/step\n"
     ]
    },
    {
     "name": "stderr",
     "output_type": "stream",
     "text": [
      "\r\n",
      " 71%|█████████████████████████████▉            | 857/1200 [01:14<00:28, 12.23it/s]"
     ]
    },
    {
     "name": "stdout",
     "output_type": "stream",
     "text": [
      "\u001b[1m1/1\u001b[0m \u001b[32m━━━━━━━━━━━━━━━━━━━━\u001b[0m\u001b[37m\u001b[0m \u001b[1m0s\u001b[0m 51ms/step\n",
      "\u001b[1m1/1\u001b[0m \u001b[32m━━━━━━━━━━━━━━━━━━━━\u001b[0m\u001b[37m\u001b[0m \u001b[1m0s\u001b[0m 50ms/step\n"
     ]
    },
    {
     "name": "stderr",
     "output_type": "stream",
     "text": [
      "\r\n",
      " 72%|██████████████████████████████            | 859/1200 [01:14<00:29, 11.58it/s]"
     ]
    },
    {
     "name": "stdout",
     "output_type": "stream",
     "text": [
      "\u001b[1m1/1\u001b[0m \u001b[32m━━━━━━━━━━━━━━━━━━━━\u001b[0m\u001b[37m\u001b[0m \u001b[1m0s\u001b[0m 50ms/step\n",
      "\u001b[1m1/1\u001b[0m \u001b[32m━━━━━━━━━━━━━━━━━━━━\u001b[0m\u001b[37m\u001b[0m \u001b[1m0s\u001b[0m 50ms/step\n"
     ]
    },
    {
     "name": "stderr",
     "output_type": "stream",
     "text": [
      "\r\n",
      " 72%|██████████████████████████████▏           | 861/1200 [01:14<00:28, 11.74it/s]"
     ]
    },
    {
     "name": "stdout",
     "output_type": "stream",
     "text": [
      "\u001b[1m1/1\u001b[0m \u001b[32m━━━━━━━━━━━━━━━━━━━━\u001b[0m\u001b[37m\u001b[0m \u001b[1m0s\u001b[0m 51ms/step\n",
      "\u001b[1m1/1\u001b[0m \u001b[32m━━━━━━━━━━━━━━━━━━━━\u001b[0m\u001b[37m\u001b[0m \u001b[1m0s\u001b[0m 50ms/step\n"
     ]
    },
    {
     "name": "stderr",
     "output_type": "stream",
     "text": [
      "\r\n",
      " 72%|██████████████████████████████▏           | 863/1200 [01:15<00:29, 11.43it/s]"
     ]
    },
    {
     "name": "stdout",
     "output_type": "stream",
     "text": [
      "\u001b[1m1/1\u001b[0m \u001b[32m━━━━━━━━━━━━━━━━━━━━\u001b[0m\u001b[37m\u001b[0m \u001b[1m0s\u001b[0m 50ms/step\n",
      "\u001b[1m1/1\u001b[0m \u001b[32m━━━━━━━━━━━━━━━━━━━━\u001b[0m\u001b[37m\u001b[0m \u001b[1m0s\u001b[0m 51ms/step\n"
     ]
    },
    {
     "name": "stderr",
     "output_type": "stream",
     "text": [
      "\r\n",
      " 72%|██████████████████████████████▎           | 865/1200 [01:15<00:29, 11.36it/s]"
     ]
    },
    {
     "name": "stdout",
     "output_type": "stream",
     "text": [
      "\u001b[1m1/1\u001b[0m \u001b[32m━━━━━━━━━━━━━━━━━━━━\u001b[0m\u001b[37m\u001b[0m \u001b[1m0s\u001b[0m 50ms/step\n",
      "\u001b[1m1/1\u001b[0m \u001b[32m━━━━━━━━━━━━━━━━━━━━\u001b[0m\u001b[37m\u001b[0m \u001b[1m0s\u001b[0m 50ms/step\n"
     ]
    },
    {
     "name": "stderr",
     "output_type": "stream",
     "text": [
      "\r\n",
      " 72%|██████████████████████████████▎           | 867/1200 [01:15<00:29, 11.30it/s]"
     ]
    },
    {
     "name": "stdout",
     "output_type": "stream",
     "text": [
      "\u001b[1m1/1\u001b[0m \u001b[32m━━━━━━━━━━━━━━━━━━━━\u001b[0m\u001b[37m\u001b[0m \u001b[1m0s\u001b[0m 51ms/step\n",
      "\u001b[1m1/1\u001b[0m \u001b[32m━━━━━━━━━━━━━━━━━━━━\u001b[0m\u001b[37m\u001b[0m \u001b[1m0s\u001b[0m 50ms/step\n"
     ]
    },
    {
     "name": "stderr",
     "output_type": "stream",
     "text": [
      "\r\n",
      " 72%|██████████████████████████████▍           | 869/1200 [01:15<00:28, 11.58it/s]"
     ]
    },
    {
     "name": "stdout",
     "output_type": "stream",
     "text": [
      "\u001b[1m1/1\u001b[0m \u001b[32m━━━━━━━━━━━━━━━━━━━━\u001b[0m\u001b[37m\u001b[0m \u001b[1m0s\u001b[0m 49ms/step\n",
      "\u001b[1m1/1\u001b[0m \u001b[32m━━━━━━━━━━━━━━━━━━━━\u001b[0m\u001b[37m\u001b[0m \u001b[1m0s\u001b[0m 51ms/step\n"
     ]
    },
    {
     "name": "stderr",
     "output_type": "stream",
     "text": [
      "\r\n",
      " 73%|██████████████████████████████▍           | 871/1200 [01:15<00:28, 11.46it/s]"
     ]
    },
    {
     "name": "stdout",
     "output_type": "stream",
     "text": [
      "\u001b[1m1/1\u001b[0m \u001b[32m━━━━━━━━━━━━━━━━━━━━\u001b[0m\u001b[37m\u001b[0m \u001b[1m0s\u001b[0m 52ms/step\n",
      "\u001b[1m1/1\u001b[0m \u001b[32m━━━━━━━━━━━━━━━━━━━━\u001b[0m\u001b[37m\u001b[0m \u001b[1m0s\u001b[0m 51ms/step\n"
     ]
    },
    {
     "name": "stderr",
     "output_type": "stream",
     "text": [
      "\r\n",
      " 73%|██████████████████████████████▌           | 873/1200 [01:16<00:28, 11.62it/s]"
     ]
    },
    {
     "name": "stdout",
     "output_type": "stream",
     "text": [
      "\u001b[1m1/1\u001b[0m \u001b[32m━━━━━━━━━━━━━━━━━━━━\u001b[0m\u001b[37m\u001b[0m \u001b[1m0s\u001b[0m 51ms/step\n",
      "\u001b[1m1/1\u001b[0m \u001b[32m━━━━━━━━━━━━━━━━━━━━\u001b[0m\u001b[37m\u001b[0m \u001b[1m0s\u001b[0m 51ms/step\n"
     ]
    },
    {
     "name": "stderr",
     "output_type": "stream",
     "text": [
      "\r\n",
      " 73%|██████████████████████████████▋           | 875/1200 [01:16<00:27, 11.72it/s]"
     ]
    },
    {
     "name": "stdout",
     "output_type": "stream",
     "text": [
      "\u001b[1m1/1\u001b[0m \u001b[32m━━━━━━━━━━━━━━━━━━━━\u001b[0m\u001b[37m\u001b[0m \u001b[1m0s\u001b[0m 51ms/step\n",
      "\u001b[1m1/1\u001b[0m \u001b[32m━━━━━━━━━━━━━━━━━━━━\u001b[0m\u001b[37m\u001b[0m \u001b[1m0s\u001b[0m 52ms/step\n"
     ]
    },
    {
     "name": "stderr",
     "output_type": "stream",
     "text": [
      "\r\n",
      " 73%|██████████████████████████████▋           | 877/1200 [01:16<00:28, 11.43it/s]"
     ]
    },
    {
     "name": "stdout",
     "output_type": "stream",
     "text": [
      "\u001b[1m1/1\u001b[0m \u001b[32m━━━━━━━━━━━━━━━━━━━━\u001b[0m\u001b[37m\u001b[0m \u001b[1m0s\u001b[0m 51ms/step\n",
      "\u001b[1m1/1\u001b[0m \u001b[32m━━━━━━━━━━━━━━━━━━━━\u001b[0m\u001b[37m\u001b[0m \u001b[1m0s\u001b[0m 52ms/step\n"
     ]
    },
    {
     "name": "stderr",
     "output_type": "stream",
     "text": [
      "\r\n",
      " 73%|██████████████████████████████▊           | 879/1200 [01:16<00:27, 11.60it/s]"
     ]
    },
    {
     "name": "stdout",
     "output_type": "stream",
     "text": [
      "\u001b[1m1/1\u001b[0m \u001b[32m━━━━━━━━━━━━━━━━━━━━\u001b[0m\u001b[37m\u001b[0m \u001b[1m0s\u001b[0m 52ms/step\n",
      "\u001b[1m1/1\u001b[0m \u001b[32m━━━━━━━━━━━━━━━━━━━━\u001b[0m\u001b[37m\u001b[0m \u001b[1m0s\u001b[0m 51ms/step\n"
     ]
    },
    {
     "name": "stderr",
     "output_type": "stream",
     "text": [
      "\r\n",
      " 73%|██████████████████████████████▊           | 881/1200 [01:16<00:28, 11.23it/s]"
     ]
    },
    {
     "name": "stdout",
     "output_type": "stream",
     "text": [
      "\u001b[1m1/1\u001b[0m \u001b[32m━━━━━━━━━━━━━━━━━━━━\u001b[0m\u001b[37m\u001b[0m \u001b[1m0s\u001b[0m 50ms/step\n",
      "\u001b[1m1/1\u001b[0m \u001b[32m━━━━━━━━━━━━━━━━━━━━\u001b[0m\u001b[37m\u001b[0m \u001b[1m0s\u001b[0m 51ms/step\n"
     ]
    },
    {
     "name": "stderr",
     "output_type": "stream",
     "text": [
      "\r\n",
      " 74%|██████████████████████████████▉           | 883/1200 [01:16<00:27, 11.46it/s]"
     ]
    },
    {
     "name": "stdout",
     "output_type": "stream",
     "text": [
      "\u001b[1m1/1\u001b[0m \u001b[32m━━━━━━━━━━━━━━━━━━━━\u001b[0m\u001b[37m\u001b[0m \u001b[1m0s\u001b[0m 51ms/step\n",
      "\u001b[1m1/1\u001b[0m \u001b[32m━━━━━━━━━━━━━━━━━━━━\u001b[0m\u001b[37m\u001b[0m \u001b[1m0s\u001b[0m 52ms/step\n"
     ]
    },
    {
     "name": "stderr",
     "output_type": "stream",
     "text": [
      "\r\n",
      " 74%|██████████████████████████████▉           | 885/1200 [01:17<00:27, 11.57it/s]"
     ]
    },
    {
     "name": "stdout",
     "output_type": "stream",
     "text": [
      "\u001b[1m1/1\u001b[0m \u001b[32m━━━━━━━━━━━━━━━━━━━━\u001b[0m\u001b[37m\u001b[0m \u001b[1m0s\u001b[0m 51ms/step\n",
      "\u001b[1m1/1\u001b[0m \u001b[32m━━━━━━━━━━━━━━━━━━━━\u001b[0m\u001b[37m\u001b[0m \u001b[1m0s\u001b[0m 51ms/step\n"
     ]
    },
    {
     "name": "stderr",
     "output_type": "stream",
     "text": [
      "\r\n",
      " 74%|███████████████████████████████           | 887/1200 [01:17<00:26, 11.70it/s]"
     ]
    },
    {
     "name": "stdout",
     "output_type": "stream",
     "text": [
      "\u001b[1m1/1\u001b[0m \u001b[32m━━━━━━━━━━━━━━━━━━━━\u001b[0m\u001b[37m\u001b[0m \u001b[1m0s\u001b[0m 51ms/step\n",
      "\u001b[1m1/1\u001b[0m \u001b[32m━━━━━━━━━━━━━━━━━━━━\u001b[0m\u001b[37m\u001b[0m \u001b[1m0s\u001b[0m 51ms/step\n"
     ]
    },
    {
     "name": "stderr",
     "output_type": "stream",
     "text": [
      "\r\n",
      " 74%|███████████████████████████████           | 889/1200 [01:17<00:26, 11.81it/s]"
     ]
    },
    {
     "name": "stdout",
     "output_type": "stream",
     "text": [
      "\u001b[1m1/1\u001b[0m \u001b[32m━━━━━━━━━━━━━━━━━━━━\u001b[0m\u001b[37m\u001b[0m \u001b[1m0s\u001b[0m 51ms/step\n",
      "\u001b[1m1/1\u001b[0m \u001b[32m━━━━━━━━━━━━━━━━━━━━\u001b[0m\u001b[37m\u001b[0m \u001b[1m0s\u001b[0m 52ms/step\n"
     ]
    },
    {
     "name": "stderr",
     "output_type": "stream",
     "text": [
      "\r\n",
      " 74%|███████████████████████████████▏          | 891/1200 [01:17<00:26, 11.83it/s]"
     ]
    },
    {
     "name": "stdout",
     "output_type": "stream",
     "text": [
      "\u001b[1m1/1\u001b[0m \u001b[32m━━━━━━━━━━━━━━━━━━━━\u001b[0m\u001b[37m\u001b[0m \u001b[1m0s\u001b[0m 49ms/step\n",
      "\u001b[1m1/1\u001b[0m \u001b[32m━━━━━━━━━━━━━━━━━━━━\u001b[0m\u001b[37m\u001b[0m \u001b[1m0s\u001b[0m 50ms/step\n"
     ]
    },
    {
     "name": "stderr",
     "output_type": "stream",
     "text": [
      "\r\n",
      " 74%|███████████████████████████████▎          | 893/1200 [01:17<00:26, 11.72it/s]"
     ]
    },
    {
     "name": "stdout",
     "output_type": "stream",
     "text": [
      "\u001b[1m1/1\u001b[0m \u001b[32m━━━━━━━━━━━━━━━━━━━━\u001b[0m\u001b[37m\u001b[0m \u001b[1m0s\u001b[0m 50ms/step\n",
      "\u001b[1m1/1\u001b[0m \u001b[32m━━━━━━━━━━━━━━━━━━━━\u001b[0m\u001b[37m\u001b[0m \u001b[1m0s\u001b[0m 50ms/step\n"
     ]
    },
    {
     "name": "stderr",
     "output_type": "stream",
     "text": [
      "\r\n",
      " 75%|███████████████████████████████▎          | 895/1200 [01:17<00:25, 11.82it/s]"
     ]
    },
    {
     "name": "stdout",
     "output_type": "stream",
     "text": [
      "\u001b[1m1/1\u001b[0m \u001b[32m━━━━━━━━━━━━━━━━━━━━\u001b[0m\u001b[37m\u001b[0m \u001b[1m0s\u001b[0m 51ms/step\n",
      "\u001b[1m1/1\u001b[0m \u001b[32m━━━━━━━━━━━━━━━━━━━━\u001b[0m\u001b[37m\u001b[0m \u001b[1m0s\u001b[0m 50ms/step\n"
     ]
    },
    {
     "name": "stderr",
     "output_type": "stream",
     "text": [
      "\r\n",
      " 75%|███████████████████████████████▍          | 897/1200 [01:18<00:26, 11.43it/s]"
     ]
    },
    {
     "name": "stdout",
     "output_type": "stream",
     "text": [
      "\u001b[1m1/1\u001b[0m \u001b[32m━━━━━━━━━━━━━━━━━━━━\u001b[0m\u001b[37m\u001b[0m \u001b[1m0s\u001b[0m 50ms/step\n",
      "\u001b[1m1/1\u001b[0m \u001b[32m━━━━━━━━━━━━━━━━━━━━\u001b[0m\u001b[37m\u001b[0m \u001b[1m0s\u001b[0m 51ms/step\n"
     ]
    },
    {
     "name": "stderr",
     "output_type": "stream",
     "text": [
      "\r\n",
      " 75%|███████████████████████████████▍          | 899/1200 [01:18<00:25, 11.62it/s]"
     ]
    },
    {
     "name": "stdout",
     "output_type": "stream",
     "text": [
      "\u001b[1m1/1\u001b[0m \u001b[32m━━━━━━━━━━━━━━━━━━━━\u001b[0m\u001b[37m\u001b[0m \u001b[1m0s\u001b[0m 51ms/step\n",
      "\u001b[1m1/1\u001b[0m \u001b[32m━━━━━━━━━━━━━━━━━━━━\u001b[0m\u001b[37m\u001b[0m \u001b[1m0s\u001b[0m 51ms/step\n"
     ]
    },
    {
     "name": "stderr",
     "output_type": "stream",
     "text": [
      "\r\n",
      " 75%|███████████████████████████████▌          | 901/1200 [01:18<00:25, 11.78it/s]"
     ]
    },
    {
     "name": "stdout",
     "output_type": "stream",
     "text": [
      "\u001b[1m1/1\u001b[0m \u001b[32m━━━━━━━━━━━━━━━━━━━━\u001b[0m\u001b[37m\u001b[0m \u001b[1m0s\u001b[0m 51ms/step\n",
      "\u001b[1m1/1\u001b[0m \u001b[32m━━━━━━━━━━━━━━━━━━━━\u001b[0m\u001b[37m\u001b[0m \u001b[1m0s\u001b[0m 51ms/step\n"
     ]
    },
    {
     "name": "stderr",
     "output_type": "stream",
     "text": [
      "\r\n",
      " 75%|███████████████████████████████▌          | 903/1200 [01:18<00:25, 11.83it/s]"
     ]
    },
    {
     "name": "stdout",
     "output_type": "stream",
     "text": [
      "\u001b[1m1/1\u001b[0m \u001b[32m━━━━━━━━━━━━━━━━━━━━\u001b[0m\u001b[37m\u001b[0m \u001b[1m0s\u001b[0m 52ms/step\n",
      "\u001b[1m1/1\u001b[0m \u001b[32m━━━━━━━━━━━━━━━━━━━━\u001b[0m\u001b[37m\u001b[0m \u001b[1m0s\u001b[0m 50ms/step\n"
     ]
    },
    {
     "name": "stderr",
     "output_type": "stream",
     "text": [
      "\r\n",
      " 75%|███████████████████████████████▋          | 905/1200 [01:18<00:25, 11.61it/s]"
     ]
    },
    {
     "name": "stdout",
     "output_type": "stream",
     "text": [
      "\u001b[1m1/1\u001b[0m \u001b[32m━━━━━━━━━━━━━━━━━━━━\u001b[0m\u001b[37m\u001b[0m \u001b[1m0s\u001b[0m 51ms/step\n",
      "\u001b[1m1/1\u001b[0m \u001b[32m━━━━━━━━━━━━━━━━━━━━\u001b[0m\u001b[37m\u001b[0m \u001b[1m0s\u001b[0m 51ms/step\n"
     ]
    },
    {
     "name": "stderr",
     "output_type": "stream",
     "text": [
      "\r\n",
      " 76%|███████████████████████████████▋          | 907/1200 [01:18<00:25, 11.34it/s]"
     ]
    },
    {
     "name": "stdout",
     "output_type": "stream",
     "text": [
      "\u001b[1m1/1\u001b[0m \u001b[32m━━━━━━━━━━━━━━━━━━━━\u001b[0m\u001b[37m\u001b[0m \u001b[1m0s\u001b[0m 52ms/step\n",
      "\u001b[1m1/1\u001b[0m \u001b[32m━━━━━━━━━━━━━━━━━━━━\u001b[0m\u001b[37m\u001b[0m \u001b[1m0s\u001b[0m 52ms/step\n"
     ]
    },
    {
     "name": "stderr",
     "output_type": "stream",
     "text": [
      "\r\n",
      " 76%|███████████████████████████████▊          | 909/1200 [01:19<00:25, 11.45it/s]"
     ]
    },
    {
     "name": "stdout",
     "output_type": "stream",
     "text": [
      "\u001b[1m1/1\u001b[0m \u001b[32m━━━━━━━━━━━━━━━━━━━━\u001b[0m\u001b[37m\u001b[0m \u001b[1m0s\u001b[0m 52ms/step\n",
      "\u001b[1m1/1\u001b[0m \u001b[32m━━━━━━━━━━━━━━━━━━━━\u001b[0m\u001b[37m\u001b[0m \u001b[1m0s\u001b[0m 50ms/step\n"
     ]
    },
    {
     "name": "stderr",
     "output_type": "stream",
     "text": [
      "\r\n",
      " 76%|███████████████████████████████▉          | 911/1200 [01:19<00:24, 11.59it/s]"
     ]
    },
    {
     "name": "stdout",
     "output_type": "stream",
     "text": [
      "\u001b[1m1/1\u001b[0m \u001b[32m━━━━━━━━━━━━━━━━━━━━\u001b[0m\u001b[37m\u001b[0m \u001b[1m0s\u001b[0m 50ms/step\n",
      "\u001b[1m1/1\u001b[0m \u001b[32m━━━━━━━━━━━━━━━━━━━━\u001b[0m\u001b[37m\u001b[0m \u001b[1m0s\u001b[0m 50ms/step\n"
     ]
    },
    {
     "name": "stderr",
     "output_type": "stream",
     "text": [
      "\r\n",
      " 76%|███████████████████████████████▉          | 913/1200 [01:19<00:24, 11.82it/s]"
     ]
    },
    {
     "name": "stdout",
     "output_type": "stream",
     "text": [
      "\u001b[1m1/1\u001b[0m \u001b[32m━━━━━━━━━━━━━━━━━━━━\u001b[0m\u001b[37m\u001b[0m \u001b[1m0s\u001b[0m 49ms/step\n",
      "\u001b[1m1/1\u001b[0m \u001b[32m━━━━━━━━━━━━━━━━━━━━\u001b[0m\u001b[37m\u001b[0m \u001b[1m0s\u001b[0m 49ms/step\n"
     ]
    },
    {
     "name": "stderr",
     "output_type": "stream",
     "text": [
      "\r\n",
      " 76%|████████████████████████████████          | 915/1200 [01:19<00:24, 11.75it/s]"
     ]
    },
    {
     "name": "stdout",
     "output_type": "stream",
     "text": [
      "\u001b[1m1/1\u001b[0m \u001b[32m━━━━━━━━━━━━━━━━━━━━\u001b[0m\u001b[37m\u001b[0m \u001b[1m0s\u001b[0m 50ms/step\n",
      "\u001b[1m1/1\u001b[0m \u001b[32m━━━━━━━━━━━━━━━━━━━━\u001b[0m\u001b[37m\u001b[0m \u001b[1m0s\u001b[0m 49ms/step\n"
     ]
    },
    {
     "name": "stderr",
     "output_type": "stream",
     "text": [
      "\r\n",
      " 76%|████████████████████████████████          | 917/1200 [01:19<00:24, 11.70it/s]"
     ]
    },
    {
     "name": "stdout",
     "output_type": "stream",
     "text": [
      "\u001b[1m1/1\u001b[0m \u001b[32m━━━━━━━━━━━━━━━━━━━━\u001b[0m\u001b[37m\u001b[0m \u001b[1m0s\u001b[0m 48ms/step\n",
      "\u001b[1m1/1\u001b[0m \u001b[32m━━━━━━━━━━━━━━━━━━━━\u001b[0m\u001b[37m\u001b[0m \u001b[1m0s\u001b[0m 50ms/step\n"
     ]
    },
    {
     "name": "stderr",
     "output_type": "stream",
     "text": [
      "\r\n",
      " 77%|████████████████████████████████▏         | 919/1200 [01:19<00:23, 11.87it/s]"
     ]
    },
    {
     "name": "stdout",
     "output_type": "stream",
     "text": [
      "\u001b[1m1/1\u001b[0m \u001b[32m━━━━━━━━━━━━━━━━━━━━\u001b[0m\u001b[37m\u001b[0m \u001b[1m0s\u001b[0m 50ms/step\n",
      "\u001b[1m1/1\u001b[0m \u001b[32m━━━━━━━━━━━━━━━━━━━━\u001b[0m\u001b[37m\u001b[0m \u001b[1m0s\u001b[0m 53ms/step\n"
     ]
    },
    {
     "name": "stderr",
     "output_type": "stream",
     "text": [
      "\r\n",
      " 77%|████████████████████████████████▏         | 921/1200 [01:20<00:23, 11.90it/s]"
     ]
    },
    {
     "name": "stdout",
     "output_type": "stream",
     "text": [
      "\u001b[1m1/1\u001b[0m \u001b[32m━━━━━━━━━━━━━━━━━━━━\u001b[0m\u001b[37m\u001b[0m \u001b[1m0s\u001b[0m 55ms/step\n",
      "\u001b[1m1/1\u001b[0m \u001b[32m━━━━━━━━━━━━━━━━━━━━\u001b[0m\u001b[37m\u001b[0m \u001b[1m0s\u001b[0m 53ms/step\n"
     ]
    },
    {
     "name": "stderr",
     "output_type": "stream",
     "text": [
      "\r\n",
      " 77%|████████████████████████████████▎         | 923/1200 [01:20<00:23, 11.55it/s]"
     ]
    },
    {
     "name": "stdout",
     "output_type": "stream",
     "text": [
      "\u001b[1m1/1\u001b[0m \u001b[32m━━━━━━━━━━━━━━━━━━━━\u001b[0m\u001b[37m\u001b[0m \u001b[1m0s\u001b[0m 54ms/step\n",
      "\u001b[1m1/1\u001b[0m \u001b[32m━━━━━━━━━━━━━━━━━━━━\u001b[0m\u001b[37m\u001b[0m \u001b[1m0s\u001b[0m 52ms/step\n"
     ]
    },
    {
     "name": "stderr",
     "output_type": "stream",
     "text": [
      "\r\n",
      " 77%|████████████████████████████████▍         | 925/1200 [01:20<00:24, 11.27it/s]"
     ]
    },
    {
     "name": "stdout",
     "output_type": "stream",
     "text": [
      "\u001b[1m1/1\u001b[0m \u001b[32m━━━━━━━━━━━━━━━━━━━━\u001b[0m\u001b[37m\u001b[0m \u001b[1m0s\u001b[0m 52ms/step\n",
      "\u001b[1m1/1\u001b[0m \u001b[32m━━━━━━━━━━━━━━━━━━━━\u001b[0m\u001b[37m\u001b[0m \u001b[1m0s\u001b[0m 53ms/step\n"
     ]
    },
    {
     "name": "stderr",
     "output_type": "stream",
     "text": [
      "\r\n",
      " 77%|████████████████████████████████▍         | 927/1200 [01:20<00:24, 10.97it/s]"
     ]
    },
    {
     "name": "stdout",
     "output_type": "stream",
     "text": [
      "\u001b[1m1/1\u001b[0m \u001b[32m━━━━━━━━━━━━━━━━━━━━\u001b[0m\u001b[37m\u001b[0m \u001b[1m0s\u001b[0m 52ms/step\n",
      "\u001b[1m1/1\u001b[0m \u001b[32m━━━━━━━━━━━━━━━━━━━━\u001b[0m\u001b[37m\u001b[0m \u001b[1m0s\u001b[0m 53ms/step\n"
     ]
    },
    {
     "name": "stderr",
     "output_type": "stream",
     "text": [
      "\r\n",
      " 77%|████████████████████████████████▌         | 929/1200 [01:20<00:24, 10.99it/s]"
     ]
    },
    {
     "name": "stdout",
     "output_type": "stream",
     "text": [
      "\u001b[1m1/1\u001b[0m \u001b[32m━━━━━━━━━━━━━━━━━━━━\u001b[0m\u001b[37m\u001b[0m \u001b[1m0s\u001b[0m 53ms/step\n",
      "\u001b[1m1/1\u001b[0m \u001b[32m━━━━━━━━━━━━━━━━━━━━\u001b[0m\u001b[37m\u001b[0m \u001b[1m0s\u001b[0m 51ms/step\n"
     ]
    },
    {
     "name": "stderr",
     "output_type": "stream",
     "text": [
      "\r\n",
      " 78%|████████████████████████████████▌         | 931/1200 [01:21<00:24, 10.93it/s]"
     ]
    },
    {
     "name": "stdout",
     "output_type": "stream",
     "text": [
      "\u001b[1m1/1\u001b[0m \u001b[32m━━━━━━━━━━━━━━━━━━━━\u001b[0m\u001b[37m\u001b[0m \u001b[1m0s\u001b[0m 51ms/step\n",
      "\u001b[1m1/1\u001b[0m \u001b[32m━━━━━━━━━━━━━━━━━━━━\u001b[0m\u001b[37m\u001b[0m \u001b[1m0s\u001b[0m 51ms/step\n"
     ]
    },
    {
     "name": "stderr",
     "output_type": "stream",
     "text": [
      "\r\n",
      " 78%|████████████████████████████████▋         | 933/1200 [01:21<00:24, 11.04it/s]"
     ]
    },
    {
     "name": "stdout",
     "output_type": "stream",
     "text": [
      "\u001b[1m1/1\u001b[0m \u001b[32m━━━━━━━━━━━━━━━━━━━━\u001b[0m\u001b[37m\u001b[0m \u001b[1m0s\u001b[0m 51ms/step\n",
      "\u001b[1m1/1\u001b[0m \u001b[32m━━━━━━━━━━━━━━━━━━━━\u001b[0m\u001b[37m\u001b[0m \u001b[1m0s\u001b[0m 50ms/step\n"
     ]
    },
    {
     "name": "stderr",
     "output_type": "stream",
     "text": [
      "\r\n",
      " 78%|████████████████████████████████▋         | 935/1200 [01:21<00:24, 10.96it/s]"
     ]
    },
    {
     "name": "stdout",
     "output_type": "stream",
     "text": [
      "\u001b[1m1/1\u001b[0m \u001b[32m━━━━━━━━━━━━━━━━━━━━\u001b[0m\u001b[37m\u001b[0m \u001b[1m0s\u001b[0m 52ms/step\n",
      "\u001b[1m1/1\u001b[0m \u001b[32m━━━━━━━━━━━━━━━━━━━━\u001b[0m\u001b[37m\u001b[0m \u001b[1m0s\u001b[0m 51ms/step\n"
     ]
    },
    {
     "name": "stderr",
     "output_type": "stream",
     "text": [
      "\r\n",
      " 78%|████████████████████████████████▊         | 937/1200 [01:21<00:24, 10.79it/s]"
     ]
    },
    {
     "name": "stdout",
     "output_type": "stream",
     "text": [
      "\u001b[1m1/1\u001b[0m \u001b[32m━━━━━━━━━━━━━━━━━━━━\u001b[0m\u001b[37m\u001b[0m \u001b[1m0s\u001b[0m 51ms/step\n",
      "\u001b[1m1/1\u001b[0m \u001b[32m━━━━━━━━━━━━━━━━━━━━\u001b[0m\u001b[37m\u001b[0m \u001b[1m0s\u001b[0m 50ms/step\n"
     ]
    },
    {
     "name": "stderr",
     "output_type": "stream",
     "text": [
      "\r\n",
      " 78%|████████████████████████████████▊         | 939/1200 [01:21<00:23, 11.16it/s]"
     ]
    },
    {
     "name": "stdout",
     "output_type": "stream",
     "text": [
      "\u001b[1m1/1\u001b[0m \u001b[32m━━━━━━━━━━━━━━━━━━━━\u001b[0m\u001b[37m\u001b[0m \u001b[1m0s\u001b[0m 50ms/step\n",
      "\u001b[1m1/1\u001b[0m \u001b[32m━━━━━━━━━━━━━━━━━━━━\u001b[0m\u001b[37m\u001b[0m \u001b[1m0s\u001b[0m 50ms/step\n"
     ]
    },
    {
     "name": "stderr",
     "output_type": "stream",
     "text": [
      "\r\n",
      " 78%|████████████████████████████████▉         | 941/1200 [01:21<00:22, 11.50it/s]"
     ]
    },
    {
     "name": "stdout",
     "output_type": "stream",
     "text": [
      "\u001b[1m1/1\u001b[0m \u001b[32m━━━━━━━━━━━━━━━━━━━━\u001b[0m\u001b[37m\u001b[0m \u001b[1m0s\u001b[0m 50ms/step\n",
      "\u001b[1m1/1\u001b[0m \u001b[32m━━━━━━━━━━━━━━━━━━━━\u001b[0m\u001b[37m\u001b[0m \u001b[1m0s\u001b[0m 50ms/step\n"
     ]
    },
    {
     "name": "stderr",
     "output_type": "stream",
     "text": [
      "\r\n",
      " 79%|█████████████████████████████████         | 943/1200 [01:22<00:21, 11.70it/s]"
     ]
    },
    {
     "name": "stdout",
     "output_type": "stream",
     "text": [
      "\u001b[1m1/1\u001b[0m \u001b[32m━━━━━━━━━━━━━━━━━━━━\u001b[0m\u001b[37m\u001b[0m \u001b[1m0s\u001b[0m 50ms/step\n",
      "\u001b[1m1/1\u001b[0m \u001b[32m━━━━━━━━━━━━━━━━━━━━\u001b[0m\u001b[37m\u001b[0m \u001b[1m0s\u001b[0m 50ms/step\n"
     ]
    },
    {
     "name": "stderr",
     "output_type": "stream",
     "text": [
      "\r\n",
      " 79%|█████████████████████████████████         | 945/1200 [01:22<00:21, 11.90it/s]"
     ]
    },
    {
     "name": "stdout",
     "output_type": "stream",
     "text": [
      "\u001b[1m1/1\u001b[0m \u001b[32m━━━━━━━━━━━━━━━━━━━━\u001b[0m\u001b[37m\u001b[0m \u001b[1m0s\u001b[0m 50ms/step\n",
      "\u001b[1m1/1\u001b[0m \u001b[32m━━━━━━━━━━━━━━━━━━━━\u001b[0m\u001b[37m\u001b[0m \u001b[1m0s\u001b[0m 50ms/step\n"
     ]
    },
    {
     "name": "stderr",
     "output_type": "stream",
     "text": [
      "\r\n",
      " 79%|█████████████████████████████████▏        | 947/1200 [01:22<00:21, 11.80it/s]"
     ]
    },
    {
     "name": "stdout",
     "output_type": "stream",
     "text": [
      "\u001b[1m1/1\u001b[0m \u001b[32m━━━━━━━━━━━━━━━━━━━━\u001b[0m\u001b[37m\u001b[0m \u001b[1m0s\u001b[0m 50ms/step\n",
      "\u001b[1m1/1\u001b[0m \u001b[32m━━━━━━━━━━━━━━━━━━━━\u001b[0m\u001b[37m\u001b[0m \u001b[1m0s\u001b[0m 50ms/step\n"
     ]
    },
    {
     "name": "stderr",
     "output_type": "stream",
     "text": [
      "\r\n",
      " 79%|█████████████████████████████████▏        | 949/1200 [01:22<00:21, 11.71it/s]"
     ]
    },
    {
     "name": "stdout",
     "output_type": "stream",
     "text": [
      "\u001b[1m1/1\u001b[0m \u001b[32m━━━━━━━━━━━━━━━━━━━━\u001b[0m\u001b[37m\u001b[0m \u001b[1m0s\u001b[0m 50ms/step\n",
      "\u001b[1m1/1\u001b[0m \u001b[32m━━━━━━━━━━━━━━━━━━━━\u001b[0m\u001b[37m\u001b[0m \u001b[1m0s\u001b[0m 50ms/step\n"
     ]
    },
    {
     "name": "stderr",
     "output_type": "stream",
     "text": [
      "\r\n",
      " 79%|█████████████████████████████████▎        | 951/1200 [01:22<00:21, 11.84it/s]"
     ]
    },
    {
     "name": "stdout",
     "output_type": "stream",
     "text": [
      "\u001b[1m1/1\u001b[0m \u001b[32m━━━━━━━━━━━━━━━━━━━━\u001b[0m\u001b[37m\u001b[0m \u001b[1m0s\u001b[0m 50ms/step\n",
      "\u001b[1m1/1\u001b[0m \u001b[32m━━━━━━━━━━━━━━━━━━━━\u001b[0m\u001b[37m\u001b[0m \u001b[1m0s\u001b[0m 50ms/step\n"
     ]
    },
    {
     "name": "stderr",
     "output_type": "stream",
     "text": [
      "\r\n",
      " 79%|█████████████████████████████████▎        | 953/1200 [01:22<00:21, 11.70it/s]"
     ]
    },
    {
     "name": "stdout",
     "output_type": "stream",
     "text": [
      "\u001b[1m1/1\u001b[0m \u001b[32m━━━━━━━━━━━━━━━━━━━━\u001b[0m\u001b[37m\u001b[0m \u001b[1m0s\u001b[0m 51ms/step\n",
      "\u001b[1m1/1\u001b[0m \u001b[32m━━━━━━━━━━━━━━━━━━━━\u001b[0m\u001b[37m\u001b[0m \u001b[1m0s\u001b[0m 50ms/step\n"
     ]
    },
    {
     "name": "stderr",
     "output_type": "stream",
     "text": [
      "\r\n",
      " 80%|█████████████████████████████████▍        | 955/1200 [01:23<00:21, 11.22it/s]"
     ]
    },
    {
     "name": "stdout",
     "output_type": "stream",
     "text": [
      "\u001b[1m1/1\u001b[0m \u001b[32m━━━━━━━━━━━━━━━━━━━━\u001b[0m\u001b[37m\u001b[0m \u001b[1m0s\u001b[0m 51ms/step\n",
      "\u001b[1m1/1\u001b[0m \u001b[32m━━━━━━━━━━━━━━━━━━━━\u001b[0m\u001b[37m\u001b[0m \u001b[1m0s\u001b[0m 52ms/step\n"
     ]
    },
    {
     "name": "stderr",
     "output_type": "stream",
     "text": [
      "\r\n",
      " 80%|█████████████████████████████████▍        | 957/1200 [01:23<00:21, 11.18it/s]"
     ]
    },
    {
     "name": "stdout",
     "output_type": "stream",
     "text": [
      "\u001b[1m1/1\u001b[0m \u001b[32m━━━━━━━━━━━━━━━━━━━━\u001b[0m\u001b[37m\u001b[0m \u001b[1m0s\u001b[0m 51ms/step\n",
      "\u001b[1m1/1\u001b[0m \u001b[32m━━━━━━━━━━━━━━━━━━━━\u001b[0m\u001b[37m\u001b[0m \u001b[1m0s\u001b[0m 51ms/step\n"
     ]
    },
    {
     "name": "stderr",
     "output_type": "stream",
     "text": [
      "\r\n",
      " 80%|█████████████████████████████████▌        | 959/1200 [01:23<00:21, 11.22it/s]"
     ]
    },
    {
     "name": "stdout",
     "output_type": "stream",
     "text": [
      "\u001b[1m1/1\u001b[0m \u001b[32m━━━━━━━━━━━━━━━━━━━━\u001b[0m\u001b[37m\u001b[0m \u001b[1m0s\u001b[0m 51ms/step\n",
      "\u001b[1m1/1\u001b[0m \u001b[32m━━━━━━━━━━━━━━━━━━━━\u001b[0m\u001b[37m\u001b[0m \u001b[1m0s\u001b[0m 53ms/step\n"
     ]
    },
    {
     "name": "stderr",
     "output_type": "stream",
     "text": [
      "\r\n",
      " 80%|█████████████████████████████████▋        | 961/1200 [01:23<00:21, 11.17it/s]"
     ]
    },
    {
     "name": "stdout",
     "output_type": "stream",
     "text": [
      "\u001b[1m1/1\u001b[0m \u001b[32m━━━━━━━━━━━━━━━━━━━━\u001b[0m\u001b[37m\u001b[0m \u001b[1m0s\u001b[0m 54ms/step\n",
      "\u001b[1m1/1\u001b[0m \u001b[32m━━━━━━━━━━━━━━━━━━━━\u001b[0m\u001b[37m\u001b[0m \u001b[1m0s\u001b[0m 52ms/step\n"
     ]
    },
    {
     "name": "stderr",
     "output_type": "stream",
     "text": [
      "\r\n",
      " 80%|█████████████████████████████████▋        | 963/1200 [01:23<00:21, 10.99it/s]"
     ]
    },
    {
     "name": "stdout",
     "output_type": "stream",
     "text": [
      "\u001b[1m1/1\u001b[0m \u001b[32m━━━━━━━━━━━━━━━━━━━━\u001b[0m\u001b[37m\u001b[0m \u001b[1m0s\u001b[0m 52ms/step\n",
      "\u001b[1m1/1\u001b[0m \u001b[32m━━━━━━━━━━━━━━━━━━━━\u001b[0m\u001b[37m\u001b[0m \u001b[1m0s\u001b[0m 53ms/step\n"
     ]
    },
    {
     "name": "stderr",
     "output_type": "stream",
     "text": [
      "\r\n",
      " 80%|█████████████████████████████████▊        | 965/1200 [01:24<00:20, 11.19it/s]"
     ]
    },
    {
     "name": "stdout",
     "output_type": "stream",
     "text": [
      "\u001b[1m1/1\u001b[0m \u001b[32m━━━━━━━━━━━━━━━━━━━━\u001b[0m\u001b[37m\u001b[0m \u001b[1m0s\u001b[0m 52ms/step\n",
      "\u001b[1m1/1\u001b[0m \u001b[32m━━━━━━━━━━━━━━━━━━━━\u001b[0m\u001b[37m\u001b[0m \u001b[1m0s\u001b[0m 54ms/step\n"
     ]
    },
    {
     "name": "stderr",
     "output_type": "stream",
     "text": [
      "\r\n",
      " 81%|█████████████████████████████████▊        | 967/1200 [01:24<00:21, 11.06it/s]"
     ]
    },
    {
     "name": "stdout",
     "output_type": "stream",
     "text": [
      "\u001b[1m1/1\u001b[0m \u001b[32m━━━━━━━━━━━━━━━━━━━━\u001b[0m\u001b[37m\u001b[0m \u001b[1m0s\u001b[0m 54ms/step\n",
      "\u001b[1m1/1\u001b[0m \u001b[32m━━━━━━━━━━━━━━━━━━━━\u001b[0m\u001b[37m\u001b[0m \u001b[1m0s\u001b[0m 54ms/step\n"
     ]
    },
    {
     "name": "stderr",
     "output_type": "stream",
     "text": [
      "\r\n",
      " 81%|█████████████████████████████████▉        | 969/1200 [01:24<00:21, 10.96it/s]"
     ]
    },
    {
     "name": "stdout",
     "output_type": "stream",
     "text": [
      "\u001b[1m1/1\u001b[0m \u001b[32m━━━━━━━━━━━━━━━━━━━━\u001b[0m\u001b[37m\u001b[0m \u001b[1m0s\u001b[0m 54ms/step\n",
      "\u001b[1m1/1\u001b[0m \u001b[32m━━━━━━━━━━━━━━━━━━━━\u001b[0m\u001b[37m\u001b[0m \u001b[1m0s\u001b[0m 52ms/step\n"
     ]
    },
    {
     "name": "stderr",
     "output_type": "stream",
     "text": [
      "\r\n",
      " 81%|█████████████████████████████████▉        | 971/1200 [01:24<00:20, 11.09it/s]"
     ]
    },
    {
     "name": "stdout",
     "output_type": "stream",
     "text": [
      "\u001b[1m1/1\u001b[0m \u001b[32m━━━━━━━━━━━━━━━━━━━━\u001b[0m\u001b[37m\u001b[0m \u001b[1m0s\u001b[0m 51ms/step\n",
      "\u001b[1m1/1\u001b[0m \u001b[32m━━━━━━━━━━━━━━━━━━━━\u001b[0m\u001b[37m\u001b[0m \u001b[1m0s\u001b[0m 51ms/step\n"
     ]
    },
    {
     "name": "stderr",
     "output_type": "stream",
     "text": [
      "\r\n",
      " 81%|██████████████████████████████████        | 973/1200 [01:24<00:20, 11.12it/s]"
     ]
    },
    {
     "name": "stdout",
     "output_type": "stream",
     "text": [
      "\u001b[1m1/1\u001b[0m \u001b[32m━━━━━━━━━━━━━━━━━━━━\u001b[0m\u001b[37m\u001b[0m \u001b[1m0s\u001b[0m 50ms/step\n",
      "\u001b[1m1/1\u001b[0m \u001b[32m━━━━━━━━━━━━━━━━━━━━\u001b[0m\u001b[37m\u001b[0m \u001b[1m0s\u001b[0m 50ms/step\n"
     ]
    },
    {
     "name": "stderr",
     "output_type": "stream",
     "text": [
      "\r\n",
      " 81%|██████████████████████████████████▏       | 975/1200 [01:24<00:19, 11.50it/s]"
     ]
    },
    {
     "name": "stdout",
     "output_type": "stream",
     "text": [
      "\u001b[1m1/1\u001b[0m \u001b[32m━━━━━━━━━━━━━━━━━━━━\u001b[0m\u001b[37m\u001b[0m \u001b[1m0s\u001b[0m 50ms/step\n",
      "\u001b[1m1/1\u001b[0m \u001b[32m━━━━━━━━━━━━━━━━━━━━\u001b[0m\u001b[37m\u001b[0m \u001b[1m0s\u001b[0m 50ms/step\n"
     ]
    },
    {
     "name": "stderr",
     "output_type": "stream",
     "text": [
      "\r\n",
      " 81%|██████████████████████████████████▏       | 977/1200 [01:25<00:18, 11.74it/s]"
     ]
    },
    {
     "name": "stdout",
     "output_type": "stream",
     "text": [
      "\u001b[1m1/1\u001b[0m \u001b[32m━━━━━━━━━━━━━━━━━━━━\u001b[0m\u001b[37m\u001b[0m \u001b[1m0s\u001b[0m 50ms/step\n",
      "\u001b[1m1/1\u001b[0m \u001b[32m━━━━━━━━━━━━━━━━━━━━\u001b[0m\u001b[37m\u001b[0m \u001b[1m0s\u001b[0m 52ms/step\n"
     ]
    },
    {
     "name": "stderr",
     "output_type": "stream",
     "text": [
      "\r\n",
      " 82%|██████████████████████████████████▎       | 979/1200 [01:25<00:18, 11.77it/s]"
     ]
    },
    {
     "name": "stdout",
     "output_type": "stream",
     "text": [
      "\u001b[1m1/1\u001b[0m \u001b[32m━━━━━━━━━━━━━━━━━━━━\u001b[0m\u001b[37m\u001b[0m \u001b[1m0s\u001b[0m 51ms/step\n",
      "\u001b[1m1/1\u001b[0m \u001b[32m━━━━━━━━━━━━━━━━━━━━\u001b[0m\u001b[37m\u001b[0m \u001b[1m0s\u001b[0m 51ms/step\n"
     ]
    },
    {
     "name": "stderr",
     "output_type": "stream",
     "text": [
      "\r\n",
      " 82%|██████████████████████████████████▎       | 981/1200 [01:25<00:19, 11.31it/s]"
     ]
    },
    {
     "name": "stdout",
     "output_type": "stream",
     "text": [
      "\u001b[1m1/1\u001b[0m \u001b[32m━━━━━━━━━━━━━━━━━━━━\u001b[0m\u001b[37m\u001b[0m \u001b[1m0s\u001b[0m 51ms/step\n",
      "\u001b[1m1/1\u001b[0m \u001b[32m━━━━━━━━━━━━━━━━━━━━\u001b[0m\u001b[37m\u001b[0m \u001b[1m0s\u001b[0m 53ms/step\n"
     ]
    },
    {
     "name": "stderr",
     "output_type": "stream",
     "text": [
      "\r\n",
      " 82%|██████████████████████████████████▍       | 983/1200 [01:25<00:18, 11.46it/s]"
     ]
    },
    {
     "name": "stdout",
     "output_type": "stream",
     "text": [
      "\u001b[1m1/1\u001b[0m \u001b[32m━━━━━━━━━━━━━━━━━━━━\u001b[0m\u001b[37m\u001b[0m \u001b[1m0s\u001b[0m 52ms/step\n",
      "\u001b[1m1/1\u001b[0m \u001b[32m━━━━━━━━━━━━━━━━━━━━\u001b[0m\u001b[37m\u001b[0m \u001b[1m0s\u001b[0m 52ms/step\n"
     ]
    },
    {
     "name": "stderr",
     "output_type": "stream",
     "text": [
      "\r\n",
      " 82%|██████████████████████████████████▍       | 985/1200 [01:25<00:19, 11.04it/s]"
     ]
    },
    {
     "name": "stdout",
     "output_type": "stream",
     "text": [
      "\u001b[1m1/1\u001b[0m \u001b[32m━━━━━━━━━━━━━━━━━━━━\u001b[0m\u001b[37m\u001b[0m \u001b[1m0s\u001b[0m 52ms/step\n",
      "\u001b[1m1/1\u001b[0m \u001b[32m━━━━━━━━━━━━━━━━━━━━\u001b[0m\u001b[37m\u001b[0m \u001b[1m0s\u001b[0m 52ms/step\n"
     ]
    },
    {
     "name": "stderr",
     "output_type": "stream",
     "text": [
      "\r\n",
      " 82%|██████████████████████████████████▌       | 987/1200 [01:26<00:19, 11.02it/s]"
     ]
    },
    {
     "name": "stdout",
     "output_type": "stream",
     "text": [
      "\u001b[1m1/1\u001b[0m \u001b[32m━━━━━━━━━━━━━━━━━━━━\u001b[0m\u001b[37m\u001b[0m \u001b[1m0s\u001b[0m 51ms/step\n",
      "\u001b[1m1/1\u001b[0m \u001b[32m━━━━━━━━━━━━━━━━━━━━\u001b[0m\u001b[37m\u001b[0m \u001b[1m0s\u001b[0m 52ms/step\n"
     ]
    },
    {
     "name": "stderr",
     "output_type": "stream",
     "text": [
      "\r\n",
      " 82%|██████████████████████████████████▌       | 989/1200 [01:26<00:18, 11.27it/s]"
     ]
    },
    {
     "name": "stdout",
     "output_type": "stream",
     "text": [
      "\u001b[1m1/1\u001b[0m \u001b[32m━━━━━━━━━━━━━━━━━━━━\u001b[0m\u001b[37m\u001b[0m \u001b[1m0s\u001b[0m 51ms/step\n",
      "\u001b[1m1/1\u001b[0m \u001b[32m━━━━━━━━━━━━━━━━━━━━\u001b[0m\u001b[37m\u001b[0m \u001b[1m0s\u001b[0m 51ms/step\n"
     ]
    },
    {
     "name": "stderr",
     "output_type": "stream",
     "text": [
      "\r\n",
      " 83%|██████████████████████████████████▋       | 991/1200 [01:26<00:18, 11.45it/s]"
     ]
    },
    {
     "name": "stdout",
     "output_type": "stream",
     "text": [
      "\u001b[1m1/1\u001b[0m \u001b[32m━━━━━━━━━━━━━━━━━━━━\u001b[0m\u001b[37m\u001b[0m \u001b[1m0s\u001b[0m 51ms/step\n",
      "\u001b[1m1/1\u001b[0m \u001b[32m━━━━━━━━━━━━━━━━━━━━\u001b[0m\u001b[37m\u001b[0m \u001b[1m0s\u001b[0m 51ms/step\n"
     ]
    },
    {
     "name": "stderr",
     "output_type": "stream",
     "text": [
      "\r\n",
      " 83%|██████████████████████████████████▊       | 993/1200 [01:26<00:18, 11.25it/s]"
     ]
    },
    {
     "name": "stdout",
     "output_type": "stream",
     "text": [
      "\u001b[1m1/1\u001b[0m \u001b[32m━━━━━━━━━━━━━━━━━━━━\u001b[0m\u001b[37m\u001b[0m \u001b[1m0s\u001b[0m 51ms/step\n",
      "\u001b[1m1/1\u001b[0m \u001b[32m━━━━━━━━━━━━━━━━━━━━\u001b[0m\u001b[37m\u001b[0m \u001b[1m0s\u001b[0m 52ms/step\n"
     ]
    },
    {
     "name": "stderr",
     "output_type": "stream",
     "text": [
      "\r\n",
      " 83%|██████████████████████████████████▊       | 995/1200 [01:26<00:18, 11.23it/s]"
     ]
    },
    {
     "name": "stdout",
     "output_type": "stream",
     "text": [
      "\u001b[1m1/1\u001b[0m \u001b[32m━━━━━━━━━━━━━━━━━━━━\u001b[0m\u001b[37m\u001b[0m \u001b[1m0s\u001b[0m 51ms/step\n",
      "\u001b[1m1/1\u001b[0m \u001b[32m━━━━━━━━━━━━━━━━━━━━\u001b[0m\u001b[37m\u001b[0m \u001b[1m0s\u001b[0m 50ms/step\n"
     ]
    },
    {
     "name": "stderr",
     "output_type": "stream",
     "text": [
      "\r\n",
      " 83%|██████████████████████████████████▉       | 997/1200 [01:26<00:17, 11.49it/s]"
     ]
    },
    {
     "name": "stdout",
     "output_type": "stream",
     "text": [
      "\u001b[1m1/1\u001b[0m \u001b[32m━━━━━━━━━━━━━━━━━━━━\u001b[0m\u001b[37m\u001b[0m \u001b[1m0s\u001b[0m 51ms/step\n",
      "\u001b[1m1/1\u001b[0m \u001b[32m━━━━━━━━━━━━━━━━━━━━\u001b[0m\u001b[37m\u001b[0m \u001b[1m0s\u001b[0m 50ms/step\n"
     ]
    },
    {
     "name": "stderr",
     "output_type": "stream",
     "text": [
      "\r\n",
      " 83%|██████████████████████████████████▉       | 999/1200 [01:27<00:17, 11.66it/s]"
     ]
    },
    {
     "name": "stdout",
     "output_type": "stream",
     "text": [
      "\u001b[1m1/1\u001b[0m \u001b[32m━━━━━━━━━━━━━━━━━━━━\u001b[0m\u001b[37m\u001b[0m \u001b[1m0s\u001b[0m 50ms/step\n",
      "\u001b[1m1/1\u001b[0m \u001b[32m━━━━━━━━━━━━━━━━━━━━\u001b[0m\u001b[37m\u001b[0m \u001b[1m0s\u001b[0m 51ms/step\n"
     ]
    },
    {
     "name": "stderr",
     "output_type": "stream",
     "text": [
      "\r\n",
      " 83%|██████████████████████████████████▏      | 1001/1200 [01:27<00:17, 11.61it/s]"
     ]
    },
    {
     "name": "stdout",
     "output_type": "stream",
     "text": [
      "\u001b[1m1/1\u001b[0m \u001b[32m━━━━━━━━━━━━━━━━━━━━\u001b[0m\u001b[37m\u001b[0m \u001b[1m0s\u001b[0m 50ms/step\n",
      "\u001b[1m1/1\u001b[0m \u001b[32m━━━━━━━━━━━━━━━━━━━━\u001b[0m\u001b[37m\u001b[0m \u001b[1m0s\u001b[0m 51ms/step\n"
     ]
    },
    {
     "name": "stderr",
     "output_type": "stream",
     "text": [
      "\r\n",
      " 84%|██████████████████████████████████▎      | 1003/1200 [01:27<00:16, 11.67it/s]"
     ]
    },
    {
     "name": "stdout",
     "output_type": "stream",
     "text": [
      "\u001b[1m1/1\u001b[0m \u001b[32m━━━━━━━━━━━━━━━━━━━━\u001b[0m\u001b[37m\u001b[0m \u001b[1m0s\u001b[0m 51ms/step\n",
      "\u001b[1m1/1\u001b[0m \u001b[32m━━━━━━━━━━━━━━━━━━━━\u001b[0m\u001b[37m\u001b[0m \u001b[1m0s\u001b[0m 52ms/step\n"
     ]
    },
    {
     "name": "stderr",
     "output_type": "stream",
     "text": [
      "\r\n",
      " 84%|██████████████████████████████████▎      | 1005/1200 [01:27<00:17, 11.24it/s]"
     ]
    },
    {
     "name": "stdout",
     "output_type": "stream",
     "text": [
      "\u001b[1m1/1\u001b[0m \u001b[32m━━━━━━━━━━━━━━━━━━━━\u001b[0m\u001b[37m\u001b[0m \u001b[1m0s\u001b[0m 51ms/step\n",
      "\u001b[1m1/1\u001b[0m \u001b[32m━━━━━━━━━━━━━━━━━━━━\u001b[0m\u001b[37m\u001b[0m \u001b[1m0s\u001b[0m 51ms/step\n"
     ]
    },
    {
     "name": "stderr",
     "output_type": "stream",
     "text": [
      "\r\n",
      " 84%|██████████████████████████████████▍      | 1007/1200 [01:27<00:17, 10.99it/s]"
     ]
    },
    {
     "name": "stdout",
     "output_type": "stream",
     "text": [
      "\u001b[1m1/1\u001b[0m \u001b[32m━━━━━━━━━━━━━━━━━━━━\u001b[0m\u001b[37m\u001b[0m \u001b[1m0s\u001b[0m 50ms/step\n",
      "\u001b[1m1/1\u001b[0m \u001b[32m━━━━━━━━━━━━━━━━━━━━\u001b[0m\u001b[37m\u001b[0m \u001b[1m0s\u001b[0m 51ms/step\n"
     ]
    },
    {
     "name": "stderr",
     "output_type": "stream",
     "text": [
      "\r\n",
      " 84%|██████████████████████████████████▍      | 1009/1200 [01:27<00:16, 11.26it/s]"
     ]
    },
    {
     "name": "stdout",
     "output_type": "stream",
     "text": [
      "\u001b[1m1/1\u001b[0m \u001b[32m━━━━━━━━━━━━━━━━━━━━\u001b[0m\u001b[37m\u001b[0m \u001b[1m0s\u001b[0m 50ms/step\n",
      "\u001b[1m1/1\u001b[0m \u001b[32m━━━━━━━━━━━━━━━━━━━━\u001b[0m\u001b[37m\u001b[0m \u001b[1m0s\u001b[0m 50ms/step\n"
     ]
    },
    {
     "name": "stderr",
     "output_type": "stream",
     "text": [
      "\r\n",
      " 84%|██████████████████████████████████▌      | 1011/1200 [01:28<00:17, 11.04it/s]"
     ]
    },
    {
     "name": "stdout",
     "output_type": "stream",
     "text": [
      "\u001b[1m1/1\u001b[0m \u001b[32m━━━━━━━━━━━━━━━━━━━━\u001b[0m\u001b[37m\u001b[0m \u001b[1m0s\u001b[0m 48ms/step\n",
      "\u001b[1m1/1\u001b[0m \u001b[32m━━━━━━━━━━━━━━━━━━━━\u001b[0m\u001b[37m\u001b[0m \u001b[1m0s\u001b[0m 49ms/step\n"
     ]
    },
    {
     "name": "stderr",
     "output_type": "stream",
     "text": [
      "\r\n",
      " 84%|██████████████████████████████████▌      | 1013/1200 [01:28<00:16, 11.24it/s]"
     ]
    },
    {
     "name": "stdout",
     "output_type": "stream",
     "text": [
      "\u001b[1m1/1\u001b[0m \u001b[32m━━━━━━━━━━━━━━━━━━━━\u001b[0m\u001b[37m\u001b[0m \u001b[1m0s\u001b[0m 49ms/step\n",
      "\u001b[1m1/1\u001b[0m \u001b[32m━━━━━━━━━━━━━━━━━━━━\u001b[0m\u001b[37m\u001b[0m \u001b[1m0s\u001b[0m 50ms/step\n"
     ]
    },
    {
     "name": "stderr",
     "output_type": "stream",
     "text": [
      "\r\n",
      " 85%|██████████████████████████████████▋      | 1015/1200 [01:28<00:16, 11.52it/s]"
     ]
    },
    {
     "name": "stdout",
     "output_type": "stream",
     "text": [
      "\u001b[1m1/1\u001b[0m \u001b[32m━━━━━━━━━━━━━━━━━━━━\u001b[0m\u001b[37m\u001b[0m \u001b[1m0s\u001b[0m 50ms/step\n",
      "\u001b[1m1/1\u001b[0m \u001b[32m━━━━━━━━━━━━━━━━━━━━\u001b[0m\u001b[37m\u001b[0m \u001b[1m0s\u001b[0m 50ms/step\n"
     ]
    },
    {
     "name": "stderr",
     "output_type": "stream",
     "text": [
      "\r\n",
      " 85%|██████████████████████████████████▋      | 1017/1200 [01:28<00:15, 11.74it/s]"
     ]
    },
    {
     "name": "stdout",
     "output_type": "stream",
     "text": [
      "\u001b[1m1/1\u001b[0m \u001b[32m━━━━━━━━━━━━━━━━━━━━\u001b[0m\u001b[37m\u001b[0m \u001b[1m0s\u001b[0m 49ms/step\n",
      "\u001b[1m1/1\u001b[0m \u001b[32m━━━━━━━━━━━━━━━━━━━━\u001b[0m\u001b[37m\u001b[0m \u001b[1m0s\u001b[0m 50ms/step\n"
     ]
    },
    {
     "name": "stderr",
     "output_type": "stream",
     "text": [
      "\r\n",
      " 85%|██████████████████████████████████▊      | 1019/1200 [01:28<00:15, 11.36it/s]"
     ]
    },
    {
     "name": "stdout",
     "output_type": "stream",
     "text": [
      "\u001b[1m1/1\u001b[0m \u001b[32m━━━━━━━━━━━━━━━━━━━━\u001b[0m\u001b[37m\u001b[0m \u001b[1m0s\u001b[0m 48ms/step\n",
      "\u001b[1m1/1\u001b[0m \u001b[32m━━━━━━━━━━━━━━━━━━━━\u001b[0m\u001b[37m\u001b[0m \u001b[1m0s\u001b[0m 50ms/step\n"
     ]
    },
    {
     "name": "stderr",
     "output_type": "stream",
     "text": [
      "\r\n",
      " 85%|██████████████████████████████████▉      | 1021/1200 [01:29<00:16, 10.95it/s]"
     ]
    },
    {
     "name": "stdout",
     "output_type": "stream",
     "text": [
      "\u001b[1m1/1\u001b[0m \u001b[32m━━━━━━━━━━━━━━━━━━━━\u001b[0m\u001b[37m\u001b[0m \u001b[1m0s\u001b[0m 49ms/step\n",
      "\u001b[1m1/1\u001b[0m \u001b[32m━━━━━━━━━━━━━━━━━━━━\u001b[0m\u001b[37m\u001b[0m \u001b[1m0s\u001b[0m 50ms/step\n"
     ]
    },
    {
     "name": "stderr",
     "output_type": "stream",
     "text": [
      "\r\n",
      " 85%|██████████████████████████████████▉      | 1023/1200 [01:29<00:15, 11.15it/s]"
     ]
    },
    {
     "name": "stdout",
     "output_type": "stream",
     "text": [
      "\u001b[1m1/1\u001b[0m \u001b[32m━━━━━━━━━━━━━━━━━━━━\u001b[0m\u001b[37m\u001b[0m \u001b[1m0s\u001b[0m 50ms/step\n",
      "\u001b[1m1/1\u001b[0m \u001b[32m━━━━━━━━━━━━━━━━━━━━\u001b[0m\u001b[37m\u001b[0m \u001b[1m0s\u001b[0m 50ms/step\n"
     ]
    },
    {
     "name": "stderr",
     "output_type": "stream",
     "text": [
      "\r\n",
      " 85%|███████████████████████████████████      | 1025/1200 [01:29<00:15, 11.27it/s]"
     ]
    },
    {
     "name": "stdout",
     "output_type": "stream",
     "text": [
      "\u001b[1m1/1\u001b[0m \u001b[32m━━━━━━━━━━━━━━━━━━━━\u001b[0m\u001b[37m\u001b[0m \u001b[1m0s\u001b[0m 50ms/step\n",
      "\u001b[1m1/1\u001b[0m \u001b[32m━━━━━━━━━━━━━━━━━━━━\u001b[0m\u001b[37m\u001b[0m \u001b[1m0s\u001b[0m 51ms/step\n"
     ]
    },
    {
     "name": "stderr",
     "output_type": "stream",
     "text": [
      "\r\n",
      " 86%|███████████████████████████████████      | 1027/1200 [01:29<00:15, 11.53it/s]"
     ]
    },
    {
     "name": "stdout",
     "output_type": "stream",
     "text": [
      "\u001b[1m1/1\u001b[0m \u001b[32m━━━━━━━━━━━━━━━━━━━━\u001b[0m\u001b[37m\u001b[0m \u001b[1m0s\u001b[0m 50ms/step\n",
      "\u001b[1m1/1\u001b[0m \u001b[32m━━━━━━━━━━━━━━━━━━━━\u001b[0m\u001b[37m\u001b[0m \u001b[1m0s\u001b[0m 50ms/step\n"
     ]
    },
    {
     "name": "stderr",
     "output_type": "stream",
     "text": [
      "\r\n",
      " 86%|███████████████████████████████████▏     | 1029/1200 [01:29<00:14, 11.44it/s]"
     ]
    },
    {
     "name": "stdout",
     "output_type": "stream",
     "text": [
      "\u001b[1m1/1\u001b[0m \u001b[32m━━━━━━━━━━━━━━━━━━━━\u001b[0m\u001b[37m\u001b[0m \u001b[1m0s\u001b[0m 50ms/step\n",
      "\u001b[1m1/1\u001b[0m \u001b[32m━━━━━━━━━━━━━━━━━━━━\u001b[0m\u001b[37m\u001b[0m \u001b[1m0s\u001b[0m 50ms/step\n"
     ]
    },
    {
     "name": "stderr",
     "output_type": "stream",
     "text": [
      "\r\n",
      " 86%|███████████████████████████████████▏     | 1031/1200 [01:29<00:14, 11.43it/s]"
     ]
    },
    {
     "name": "stdout",
     "output_type": "stream",
     "text": [
      "\u001b[1m1/1\u001b[0m \u001b[32m━━━━━━━━━━━━━━━━━━━━\u001b[0m\u001b[37m\u001b[0m \u001b[1m0s\u001b[0m 50ms/step\n",
      "\u001b[1m1/1\u001b[0m \u001b[32m━━━━━━━━━━━━━━━━━━━━\u001b[0m\u001b[37m\u001b[0m \u001b[1m0s\u001b[0m 50ms/step\n"
     ]
    },
    {
     "name": "stderr",
     "output_type": "stream",
     "text": [
      "\r\n",
      " 86%|███████████████████████████████████▎     | 1033/1200 [01:30<00:14, 11.63it/s]"
     ]
    },
    {
     "name": "stdout",
     "output_type": "stream",
     "text": [
      "\u001b[1m1/1\u001b[0m \u001b[32m━━━━━━━━━━━━━━━━━━━━\u001b[0m\u001b[37m\u001b[0m \u001b[1m0s\u001b[0m 50ms/step\n",
      "\u001b[1m1/1\u001b[0m \u001b[32m━━━━━━━━━━━━━━━━━━━━\u001b[0m\u001b[37m\u001b[0m \u001b[1m0s\u001b[0m 50ms/step\n"
     ]
    },
    {
     "name": "stderr",
     "output_type": "stream",
     "text": [
      "\r\n",
      " 86%|███████████████████████████████████▎     | 1035/1200 [01:30<00:13, 11.87it/s]"
     ]
    },
    {
     "name": "stdout",
     "output_type": "stream",
     "text": [
      "\u001b[1m1/1\u001b[0m \u001b[32m━━━━━━━━━━━━━━━━━━━━\u001b[0m\u001b[37m\u001b[0m \u001b[1m0s\u001b[0m 50ms/step\n",
      "\u001b[1m1/1\u001b[0m \u001b[32m━━━━━━━━━━━━━━━━━━━━\u001b[0m\u001b[37m\u001b[0m \u001b[1m0s\u001b[0m 50ms/step\n"
     ]
    },
    {
     "name": "stderr",
     "output_type": "stream",
     "text": [
      "\r\n",
      " 86%|███████████████████████████████████▍     | 1037/1200 [01:30<00:13, 12.02it/s]"
     ]
    },
    {
     "name": "stdout",
     "output_type": "stream",
     "text": [
      "\u001b[1m1/1\u001b[0m \u001b[32m━━━━━━━━━━━━━━━━━━━━\u001b[0m\u001b[37m\u001b[0m \u001b[1m0s\u001b[0m 51ms/step\n",
      "\u001b[1m1/1\u001b[0m \u001b[32m━━━━━━━━━━━━━━━━━━━━\u001b[0m\u001b[37m\u001b[0m \u001b[1m0s\u001b[0m 51ms/step\n"
     ]
    },
    {
     "name": "stderr",
     "output_type": "stream",
     "text": [
      "\r\n",
      " 87%|███████████████████████████████████▍     | 1039/1200 [01:30<00:13, 11.72it/s]"
     ]
    },
    {
     "name": "stdout",
     "output_type": "stream",
     "text": [
      "\u001b[1m1/1\u001b[0m \u001b[32m━━━━━━━━━━━━━━━━━━━━\u001b[0m\u001b[37m\u001b[0m \u001b[1m0s\u001b[0m 51ms/step\n",
      "\u001b[1m1/1\u001b[0m \u001b[32m━━━━━━━━━━━━━━━━━━━━\u001b[0m\u001b[37m\u001b[0m \u001b[1m0s\u001b[0m 54ms/step\n"
     ]
    },
    {
     "name": "stderr",
     "output_type": "stream",
     "text": [
      "\r\n",
      " 87%|███████████████████████████████████▌     | 1041/1200 [01:30<00:13, 11.48it/s]"
     ]
    },
    {
     "name": "stdout",
     "output_type": "stream",
     "text": [
      "\u001b[1m1/1\u001b[0m \u001b[32m━━━━━━━━━━━━━━━━━━━━\u001b[0m\u001b[37m\u001b[0m \u001b[1m0s\u001b[0m 53ms/step\n",
      "\u001b[1m1/1\u001b[0m \u001b[32m━━━━━━━━━━━━━━━━━━━━\u001b[0m\u001b[37m\u001b[0m \u001b[1m0s\u001b[0m 52ms/step\n"
     ]
    },
    {
     "name": "stderr",
     "output_type": "stream",
     "text": [
      "\r\n",
      " 87%|███████████████████████████████████▋     | 1043/1200 [01:30<00:13, 11.57it/s]"
     ]
    },
    {
     "name": "stdout",
     "output_type": "stream",
     "text": [
      "\u001b[1m1/1\u001b[0m \u001b[32m━━━━━━━━━━━━━━━━━━━━\u001b[0m\u001b[37m\u001b[0m \u001b[1m0s\u001b[0m 51ms/step\n",
      "\u001b[1m1/1\u001b[0m \u001b[32m━━━━━━━━━━━━━━━━━━━━\u001b[0m\u001b[37m\u001b[0m \u001b[1m0s\u001b[0m 51ms/step\n"
     ]
    },
    {
     "name": "stderr",
     "output_type": "stream",
     "text": [
      "\r\n",
      " 87%|███████████████████████████████████▋     | 1045/1200 [01:31<00:13, 11.47it/s]"
     ]
    },
    {
     "name": "stdout",
     "output_type": "stream",
     "text": [
      "\u001b[1m1/1\u001b[0m \u001b[32m━━━━━━━━━━━━━━━━━━━━\u001b[0m\u001b[37m\u001b[0m \u001b[1m0s\u001b[0m 52ms/step\n",
      "\u001b[1m1/1\u001b[0m \u001b[32m━━━━━━━━━━━━━━━━━━━━\u001b[0m\u001b[37m\u001b[0m \u001b[1m0s\u001b[0m 52ms/step\n"
     ]
    },
    {
     "name": "stderr",
     "output_type": "stream",
     "text": [
      "\r\n",
      " 87%|███████████████████████████████████▊     | 1047/1200 [01:31<00:13, 11.62it/s]"
     ]
    },
    {
     "name": "stdout",
     "output_type": "stream",
     "text": [
      "\u001b[1m1/1\u001b[0m \u001b[32m━━━━━━━━━━━━━━━━━━━━\u001b[0m\u001b[37m\u001b[0m \u001b[1m0s\u001b[0m 51ms/step\n",
      "\u001b[1m1/1\u001b[0m \u001b[32m━━━━━━━━━━━━━━━━━━━━\u001b[0m\u001b[37m\u001b[0m \u001b[1m0s\u001b[0m 51ms/step\n"
     ]
    },
    {
     "name": "stderr",
     "output_type": "stream",
     "text": [
      "\r\n",
      " 87%|███████████████████████████████████▊     | 1049/1200 [01:31<00:12, 11.79it/s]"
     ]
    },
    {
     "name": "stdout",
     "output_type": "stream",
     "text": [
      "\u001b[1m1/1\u001b[0m \u001b[32m━━━━━━━━━━━━━━━━━━━━\u001b[0m\u001b[37m\u001b[0m \u001b[1m0s\u001b[0m 52ms/step\n",
      "\u001b[1m1/1\u001b[0m \u001b[32m━━━━━━━━━━━━━━━━━━━━\u001b[0m\u001b[37m\u001b[0m \u001b[1m0s\u001b[0m 51ms/step\n"
     ]
    },
    {
     "name": "stderr",
     "output_type": "stream",
     "text": [
      "\r\n",
      " 88%|███████████████████████████████████▉     | 1051/1200 [01:31<00:12, 11.65it/s]"
     ]
    },
    {
     "name": "stdout",
     "output_type": "stream",
     "text": [
      "\u001b[1m1/1\u001b[0m \u001b[32m━━━━━━━━━━━━━━━━━━━━\u001b[0m\u001b[37m\u001b[0m \u001b[1m0s\u001b[0m 51ms/step\n",
      "\u001b[1m1/1\u001b[0m \u001b[32m━━━━━━━━━━━━━━━━━━━━\u001b[0m\u001b[37m\u001b[0m \u001b[1m0s\u001b[0m 52ms/step\n"
     ]
    },
    {
     "name": "stderr",
     "output_type": "stream",
     "text": [
      "\r\n",
      " 88%|███████████████████████████████████▉     | 1053/1200 [01:31<00:12, 11.73it/s]"
     ]
    },
    {
     "name": "stdout",
     "output_type": "stream",
     "text": [
      "\u001b[1m1/1\u001b[0m \u001b[32m━━━━━━━━━━━━━━━━━━━━\u001b[0m\u001b[37m\u001b[0m \u001b[1m0s\u001b[0m 51ms/step\n",
      "\u001b[1m1/1\u001b[0m \u001b[32m━━━━━━━━━━━━━━━━━━━━\u001b[0m\u001b[37m\u001b[0m \u001b[1m0s\u001b[0m 51ms/step\n"
     ]
    },
    {
     "name": "stderr",
     "output_type": "stream",
     "text": [
      "\r\n",
      " 88%|████████████████████████████████████     | 1055/1200 [01:31<00:12, 11.88it/s]"
     ]
    },
    {
     "name": "stdout",
     "output_type": "stream",
     "text": [
      "\u001b[1m1/1\u001b[0m \u001b[32m━━━━━━━━━━━━━━━━━━━━\u001b[0m\u001b[37m\u001b[0m \u001b[1m0s\u001b[0m 51ms/step\n",
      "\u001b[1m1/1\u001b[0m \u001b[32m━━━━━━━━━━━━━━━━━━━━\u001b[0m\u001b[37m\u001b[0m \u001b[1m0s\u001b[0m 50ms/step\n"
     ]
    },
    {
     "name": "stderr",
     "output_type": "stream",
     "text": [
      "\r\n",
      " 88%|████████████████████████████████████     | 1057/1200 [01:32<00:11, 12.01it/s]"
     ]
    },
    {
     "name": "stdout",
     "output_type": "stream",
     "text": [
      "\u001b[1m1/1\u001b[0m \u001b[32m━━━━━━━━━━━━━━━━━━━━\u001b[0m\u001b[37m\u001b[0m \u001b[1m0s\u001b[0m 50ms/step\n",
      "\u001b[1m1/1\u001b[0m \u001b[32m━━━━━━━━━━━━━━━━━━━━\u001b[0m\u001b[37m\u001b[0m \u001b[1m0s\u001b[0m 51ms/step\n"
     ]
    },
    {
     "name": "stderr",
     "output_type": "stream",
     "text": [
      "\r\n",
      " 88%|████████████████████████████████████▏    | 1059/1200 [01:32<00:11, 12.02it/s]"
     ]
    },
    {
     "name": "stdout",
     "output_type": "stream",
     "text": [
      "\u001b[1m1/1\u001b[0m \u001b[32m━━━━━━━━━━━━━━━━━━━━\u001b[0m\u001b[37m\u001b[0m \u001b[1m0s\u001b[0m 51ms/step\n",
      "\u001b[1m1/1\u001b[0m \u001b[32m━━━━━━━━━━━━━━━━━━━━\u001b[0m\u001b[37m\u001b[0m \u001b[1m0s\u001b[0m 50ms/step\n"
     ]
    },
    {
     "name": "stderr",
     "output_type": "stream",
     "text": [
      "\r\n",
      " 88%|████████████████████████████████████▎    | 1061/1200 [01:32<00:11, 11.79it/s]"
     ]
    },
    {
     "name": "stdout",
     "output_type": "stream",
     "text": [
      "\u001b[1m1/1\u001b[0m \u001b[32m━━━━━━━━━━━━━━━━━━━━\u001b[0m\u001b[37m\u001b[0m \u001b[1m0s\u001b[0m 50ms/step\n",
      "\u001b[1m1/1\u001b[0m \u001b[32m━━━━━━━━━━━━━━━━━━━━\u001b[0m\u001b[37m\u001b[0m \u001b[1m0s\u001b[0m 52ms/step\n"
     ]
    },
    {
     "name": "stderr",
     "output_type": "stream",
     "text": [
      "\r\n",
      " 89%|████████████████████████████████████▎    | 1063/1200 [01:32<00:11, 11.54it/s]"
     ]
    },
    {
     "name": "stdout",
     "output_type": "stream",
     "text": [
      "\u001b[1m1/1\u001b[0m \u001b[32m━━━━━━━━━━━━━━━━━━━━\u001b[0m\u001b[37m\u001b[0m \u001b[1m0s\u001b[0m 51ms/step\n",
      "\u001b[1m1/1\u001b[0m \u001b[32m━━━━━━━━━━━━━━━━━━━━\u001b[0m\u001b[37m\u001b[0m \u001b[1m0s\u001b[0m 52ms/step\n"
     ]
    },
    {
     "name": "stderr",
     "output_type": "stream",
     "text": [
      "\r\n",
      " 89%|████████████████████████████████████▍    | 1065/1200 [01:32<00:11, 11.67it/s]"
     ]
    },
    {
     "name": "stdout",
     "output_type": "stream",
     "text": [
      "\u001b[1m1/1\u001b[0m \u001b[32m━━━━━━━━━━━━━━━━━━━━\u001b[0m\u001b[37m\u001b[0m \u001b[1m0s\u001b[0m 51ms/step\n",
      "\u001b[1m1/1\u001b[0m \u001b[32m━━━━━━━━━━━━━━━━━━━━\u001b[0m\u001b[37m\u001b[0m \u001b[1m0s\u001b[0m 51ms/step\n"
     ]
    },
    {
     "name": "stderr",
     "output_type": "stream",
     "text": [
      "\r\n",
      " 89%|████████████████████████████████████▍    | 1067/1200 [01:32<00:11, 11.56it/s]"
     ]
    },
    {
     "name": "stdout",
     "output_type": "stream",
     "text": [
      "\u001b[1m1/1\u001b[0m \u001b[32m━━━━━━━━━━━━━━━━━━━━\u001b[0m\u001b[37m\u001b[0m \u001b[1m0s\u001b[0m 50ms/step\n",
      "\u001b[1m1/1\u001b[0m \u001b[32m━━━━━━━━━━━━━━━━━━━━\u001b[0m\u001b[37m\u001b[0m \u001b[1m0s\u001b[0m 51ms/step\n"
     ]
    },
    {
     "name": "stderr",
     "output_type": "stream",
     "text": [
      "\r\n",
      " 89%|████████████████████████████████████▌    | 1069/1200 [01:33<00:11, 11.75it/s]"
     ]
    },
    {
     "name": "stdout",
     "output_type": "stream",
     "text": [
      "\u001b[1m1/1\u001b[0m \u001b[32m━━━━━━━━━━━━━━━━━━━━\u001b[0m\u001b[37m\u001b[0m \u001b[1m0s\u001b[0m 50ms/step\n",
      "\u001b[1m1/1\u001b[0m \u001b[32m━━━━━━━━━━━━━━━━━━━━\u001b[0m\u001b[37m\u001b[0m \u001b[1m0s\u001b[0m 54ms/step\n"
     ]
    },
    {
     "name": "stderr",
     "output_type": "stream",
     "text": [
      "\r\n",
      " 89%|████████████████████████████████████▌    | 1071/1200 [01:33<00:10, 11.78it/s]"
     ]
    },
    {
     "name": "stdout",
     "output_type": "stream",
     "text": [
      "\u001b[1m1/1\u001b[0m \u001b[32m━━━━━━━━━━━━━━━━━━━━\u001b[0m\u001b[37m\u001b[0m \u001b[1m0s\u001b[0m 52ms/step\n",
      "\u001b[1m1/1\u001b[0m \u001b[32m━━━━━━━━━━━━━━━━━━━━\u001b[0m\u001b[37m\u001b[0m \u001b[1m0s\u001b[0m 52ms/step\n"
     ]
    },
    {
     "name": "stderr",
     "output_type": "stream",
     "text": [
      "\r\n",
      " 89%|████████████████████████████████████▋    | 1073/1200 [01:33<00:10, 11.79it/s]"
     ]
    },
    {
     "name": "stdout",
     "output_type": "stream",
     "text": [
      "\u001b[1m1/1\u001b[0m \u001b[32m━━━━━━━━━━━━━━━━━━━━\u001b[0m\u001b[37m\u001b[0m \u001b[1m0s\u001b[0m 54ms/step\n",
      "\u001b[1m1/1\u001b[0m \u001b[32m━━━━━━━━━━━━━━━━━━━━\u001b[0m\u001b[37m\u001b[0m \u001b[1m0s\u001b[0m 53ms/step\n"
     ]
    },
    {
     "name": "stderr",
     "output_type": "stream",
     "text": [
      "\r\n",
      " 90%|████████████████████████████████████▋    | 1075/1200 [01:33<00:10, 11.70it/s]"
     ]
    },
    {
     "name": "stdout",
     "output_type": "stream",
     "text": [
      "\u001b[1m1/1\u001b[0m \u001b[32m━━━━━━━━━━━━━━━━━━━━\u001b[0m\u001b[37m\u001b[0m \u001b[1m0s\u001b[0m 54ms/step\n",
      "\u001b[1m1/1\u001b[0m \u001b[32m━━━━━━━━━━━━━━━━━━━━\u001b[0m\u001b[37m\u001b[0m \u001b[1m0s\u001b[0m 53ms/step\n"
     ]
    },
    {
     "name": "stderr",
     "output_type": "stream",
     "text": [
      "\r\n",
      " 90%|████████████████████████████████████▊    | 1077/1200 [01:33<00:10, 11.42it/s]"
     ]
    },
    {
     "name": "stdout",
     "output_type": "stream",
     "text": [
      "\u001b[1m1/1\u001b[0m \u001b[32m━━━━━━━━━━━━━━━━━━━━\u001b[0m\u001b[37m\u001b[0m \u001b[1m0s\u001b[0m 53ms/step\n",
      "\u001b[1m1/1\u001b[0m \u001b[32m━━━━━━━━━━━━━━━━━━━━\u001b[0m\u001b[37m\u001b[0m \u001b[1m0s\u001b[0m 53ms/step\n"
     ]
    },
    {
     "name": "stderr",
     "output_type": "stream",
     "text": [
      "\r\n",
      " 90%|████████████████████████████████████▊    | 1079/1200 [01:33<00:10, 11.41it/s]"
     ]
    },
    {
     "name": "stdout",
     "output_type": "stream",
     "text": [
      "\u001b[1m1/1\u001b[0m \u001b[32m━━━━━━━━━━━━━━━━━━━━\u001b[0m\u001b[37m\u001b[0m \u001b[1m0s\u001b[0m 53ms/step\n",
      "\u001b[1m1/1\u001b[0m \u001b[32m━━━━━━━━━━━━━━━━━━━━\u001b[0m\u001b[37m\u001b[0m \u001b[1m0s\u001b[0m 52ms/step\n"
     ]
    },
    {
     "name": "stderr",
     "output_type": "stream",
     "text": [
      "\r\n",
      " 90%|████████████████████████████████████▉    | 1081/1200 [01:34<00:10, 11.50it/s]"
     ]
    },
    {
     "name": "stdout",
     "output_type": "stream",
     "text": [
      "\u001b[1m1/1\u001b[0m \u001b[32m━━━━━━━━━━━━━━━━━━━━\u001b[0m\u001b[37m\u001b[0m \u001b[1m0s\u001b[0m 50ms/step\n",
      "\u001b[1m1/1\u001b[0m \u001b[32m━━━━━━━━━━━━━━━━━━━━\u001b[0m\u001b[37m\u001b[0m \u001b[1m0s\u001b[0m 51ms/step\n"
     ]
    },
    {
     "name": "stderr",
     "output_type": "stream",
     "text": [
      "\r\n",
      " 90%|█████████████████████████████████████    | 1083/1200 [01:34<00:10, 11.42it/s]"
     ]
    },
    {
     "name": "stdout",
     "output_type": "stream",
     "text": [
      "\u001b[1m1/1\u001b[0m \u001b[32m━━━━━━━━━━━━━━━━━━━━\u001b[0m\u001b[37m\u001b[0m \u001b[1m0s\u001b[0m 50ms/step\n",
      "\u001b[1m1/1\u001b[0m \u001b[32m━━━━━━━━━━━━━━━━━━━━\u001b[0m\u001b[37m\u001b[0m \u001b[1m0s\u001b[0m 50ms/step\n"
     ]
    },
    {
     "name": "stderr",
     "output_type": "stream",
     "text": [
      "\r\n",
      " 90%|█████████████████████████████████████    | 1085/1200 [01:34<00:09, 11.72it/s]"
     ]
    },
    {
     "name": "stdout",
     "output_type": "stream",
     "text": [
      "\u001b[1m1/1\u001b[0m \u001b[32m━━━━━━━━━━━━━━━━━━━━\u001b[0m\u001b[37m\u001b[0m \u001b[1m0s\u001b[0m 53ms/step\n",
      "\u001b[1m1/1\u001b[0m \u001b[32m━━━━━━━━━━━━━━━━━━━━\u001b[0m\u001b[37m\u001b[0m \u001b[1m0s\u001b[0m 51ms/step\n"
     ]
    },
    {
     "name": "stderr",
     "output_type": "stream",
     "text": [
      "\r\n",
      " 91%|█████████████████████████████████████▏   | 1087/1200 [01:34<00:09, 11.78it/s]"
     ]
    },
    {
     "name": "stdout",
     "output_type": "stream",
     "text": [
      "\u001b[1m1/1\u001b[0m \u001b[32m━━━━━━━━━━━━━━━━━━━━\u001b[0m\u001b[37m\u001b[0m \u001b[1m0s\u001b[0m 52ms/step\n",
      "\u001b[1m1/1\u001b[0m \u001b[32m━━━━━━━━━━━━━━━━━━━━\u001b[0m\u001b[37m\u001b[0m \u001b[1m0s\u001b[0m 51ms/step\n"
     ]
    },
    {
     "name": "stderr",
     "output_type": "stream",
     "text": [
      "\r\n",
      " 91%|█████████████████████████████████████▏   | 1089/1200 [01:34<00:09, 11.55it/s]"
     ]
    },
    {
     "name": "stdout",
     "output_type": "stream",
     "text": [
      "\u001b[1m1/1\u001b[0m \u001b[32m━━━━━━━━━━━━━━━━━━━━\u001b[0m\u001b[37m\u001b[0m \u001b[1m0s\u001b[0m 51ms/step\n",
      "\u001b[1m1/1\u001b[0m \u001b[32m━━━━━━━━━━━━━━━━━━━━\u001b[0m\u001b[37m\u001b[0m \u001b[1m0s\u001b[0m 49ms/step\n"
     ]
    },
    {
     "name": "stderr",
     "output_type": "stream",
     "text": [
      "\r\n",
      " 91%|█████████████████████████████████████▎   | 1091/1200 [01:35<00:09, 11.52it/s]"
     ]
    },
    {
     "name": "stdout",
     "output_type": "stream",
     "text": [
      "\u001b[1m1/1\u001b[0m \u001b[32m━━━━━━━━━━━━━━━━━━━━\u001b[0m\u001b[37m\u001b[0m \u001b[1m0s\u001b[0m 51ms/step\n",
      "\u001b[1m1/1\u001b[0m \u001b[32m━━━━━━━━━━━━━━━━━━━━\u001b[0m\u001b[37m\u001b[0m \u001b[1m0s\u001b[0m 49ms/step\n"
     ]
    },
    {
     "name": "stderr",
     "output_type": "stream",
     "text": [
      "\r\n",
      " 91%|█████████████████████████████████████▎   | 1093/1200 [01:35<00:09, 11.46it/s]"
     ]
    },
    {
     "name": "stdout",
     "output_type": "stream",
     "text": [
      "\u001b[1m1/1\u001b[0m \u001b[32m━━━━━━━━━━━━━━━━━━━━\u001b[0m\u001b[37m\u001b[0m \u001b[1m0s\u001b[0m 50ms/step\n",
      "\u001b[1m1/1\u001b[0m \u001b[32m━━━━━━━━━━━━━━━━━━━━\u001b[0m\u001b[37m\u001b[0m \u001b[1m0s\u001b[0m 49ms/step\n"
     ]
    },
    {
     "name": "stderr",
     "output_type": "stream",
     "text": [
      "\r\n",
      " 91%|█████████████████████████████████████▍   | 1095/1200 [01:35<00:09, 11.63it/s]"
     ]
    },
    {
     "name": "stdout",
     "output_type": "stream",
     "text": [
      "\u001b[1m1/1\u001b[0m \u001b[32m━━━━━━━━━━━━━━━━━━━━\u001b[0m\u001b[37m\u001b[0m \u001b[1m0s\u001b[0m 50ms/step\n",
      "\u001b[1m1/1\u001b[0m \u001b[32m━━━━━━━━━━━━━━━━━━━━\u001b[0m\u001b[37m\u001b[0m \u001b[1m0s\u001b[0m 49ms/step\n"
     ]
    },
    {
     "name": "stderr",
     "output_type": "stream",
     "text": [
      "\r\n",
      " 91%|█████████████████████████████████████▍   | 1097/1200 [01:35<00:09, 11.38it/s]"
     ]
    },
    {
     "name": "stdout",
     "output_type": "stream",
     "text": [
      "\u001b[1m1/1\u001b[0m \u001b[32m━━━━━━━━━━━━━━━━━━━━\u001b[0m\u001b[37m\u001b[0m \u001b[1m0s\u001b[0m 50ms/step\n",
      "\u001b[1m1/1\u001b[0m \u001b[32m━━━━━━━━━━━━━━━━━━━━\u001b[0m\u001b[37m\u001b[0m \u001b[1m0s\u001b[0m 51ms/step\n"
     ]
    },
    {
     "name": "stderr",
     "output_type": "stream",
     "text": [
      "\r\n",
      " 92%|█████████████████████████████████████▌   | 1099/1200 [01:35<00:08, 11.57it/s]"
     ]
    },
    {
     "name": "stdout",
     "output_type": "stream",
     "text": [
      "\u001b[1m1/1\u001b[0m \u001b[32m━━━━━━━━━━━━━━━━━━━━\u001b[0m\u001b[37m\u001b[0m \u001b[1m0s\u001b[0m 51ms/step\n",
      "\u001b[1m1/1\u001b[0m \u001b[32m━━━━━━━━━━━━━━━━━━━━\u001b[0m\u001b[37m\u001b[0m \u001b[1m0s\u001b[0m 51ms/step\n"
     ]
    },
    {
     "name": "stderr",
     "output_type": "stream",
     "text": [
      "\r\n",
      " 92%|█████████████████████████████████████▌   | 1101/1200 [01:35<00:08, 11.73it/s]"
     ]
    },
    {
     "name": "stdout",
     "output_type": "stream",
     "text": [
      "\u001b[1m1/1\u001b[0m \u001b[32m━━━━━━━━━━━━━━━━━━━━\u001b[0m\u001b[37m\u001b[0m \u001b[1m0s\u001b[0m 51ms/step\n",
      "\u001b[1m1/1\u001b[0m \u001b[32m━━━━━━━━━━━━━━━━━━━━\u001b[0m\u001b[37m\u001b[0m \u001b[1m0s\u001b[0m 50ms/step\n"
     ]
    },
    {
     "name": "stderr",
     "output_type": "stream",
     "text": [
      "\r\n",
      " 92%|█████████████████████████████████████▋   | 1103/1200 [01:36<00:08, 11.34it/s]"
     ]
    },
    {
     "name": "stdout",
     "output_type": "stream",
     "text": [
      "\u001b[1m1/1\u001b[0m \u001b[32m━━━━━━━━━━━━━━━━━━━━\u001b[0m\u001b[37m\u001b[0m \u001b[1m0s\u001b[0m 49ms/step\n",
      "\u001b[1m1/1\u001b[0m \u001b[32m━━━━━━━━━━━━━━━━━━━━\u001b[0m\u001b[37m\u001b[0m \u001b[1m0s\u001b[0m 51ms/step\n"
     ]
    },
    {
     "name": "stderr",
     "output_type": "stream",
     "text": [
      "\r\n",
      " 92%|█████████████████████████████████████▊   | 1105/1200 [01:36<00:08, 11.05it/s]"
     ]
    },
    {
     "name": "stdout",
     "output_type": "stream",
     "text": [
      "\u001b[1m1/1\u001b[0m \u001b[32m━━━━━━━━━━━━━━━━━━━━\u001b[0m\u001b[37m\u001b[0m \u001b[1m0s\u001b[0m 49ms/step\n",
      "\u001b[1m1/1\u001b[0m \u001b[32m━━━━━━━━━━━━━━━━━━━━\u001b[0m\u001b[37m\u001b[0m \u001b[1m0s\u001b[0m 49ms/step\n"
     ]
    },
    {
     "name": "stderr",
     "output_type": "stream",
     "text": [
      "\r\n",
      " 92%|█████████████████████████████████████▊   | 1107/1200 [01:36<00:08, 11.37it/s]"
     ]
    },
    {
     "name": "stdout",
     "output_type": "stream",
     "text": [
      "\u001b[1m1/1\u001b[0m \u001b[32m━━━━━━━━━━━━━━━━━━━━\u001b[0m\u001b[37m\u001b[0m \u001b[1m0s\u001b[0m 49ms/step\n",
      "\u001b[1m1/1\u001b[0m \u001b[32m━━━━━━━━━━━━━━━━━━━━\u001b[0m\u001b[37m\u001b[0m \u001b[1m0s\u001b[0m 51ms/step\n"
     ]
    },
    {
     "name": "stderr",
     "output_type": "stream",
     "text": [
      "\r\n",
      " 92%|█████████████████████████████████████▉   | 1109/1200 [01:36<00:07, 11.53it/s]"
     ]
    },
    {
     "name": "stdout",
     "output_type": "stream",
     "text": [
      "\u001b[1m1/1\u001b[0m \u001b[32m━━━━━━━━━━━━━━━━━━━━\u001b[0m\u001b[37m\u001b[0m \u001b[1m0s\u001b[0m 49ms/step\n",
      "\u001b[1m1/1\u001b[0m \u001b[32m━━━━━━━━━━━━━━━━━━━━\u001b[0m\u001b[37m\u001b[0m \u001b[1m0s\u001b[0m 51ms/step\n"
     ]
    },
    {
     "name": "stderr",
     "output_type": "stream",
     "text": [
      "\r\n",
      " 93%|█████████████████████████████████████▉   | 1111/1200 [01:36<00:07, 11.65it/s]"
     ]
    },
    {
     "name": "stdout",
     "output_type": "stream",
     "text": [
      "\u001b[1m1/1\u001b[0m \u001b[32m━━━━━━━━━━━━━━━━━━━━\u001b[0m\u001b[37m\u001b[0m \u001b[1m0s\u001b[0m 50ms/step\n",
      "\u001b[1m1/1\u001b[0m \u001b[32m━━━━━━━━━━━━━━━━━━━━\u001b[0m\u001b[37m\u001b[0m \u001b[1m0s\u001b[0m 50ms/step\n"
     ]
    },
    {
     "name": "stderr",
     "output_type": "stream",
     "text": [
      "\r\n",
      " 93%|██████████████████████████████████████   | 1113/1200 [01:36<00:07, 11.82it/s]"
     ]
    },
    {
     "name": "stdout",
     "output_type": "stream",
     "text": [
      "\u001b[1m1/1\u001b[0m \u001b[32m━━━━━━━━━━━━━━━━━━━━\u001b[0m\u001b[37m\u001b[0m \u001b[1m0s\u001b[0m 50ms/step\n",
      "\u001b[1m1/1\u001b[0m \u001b[32m━━━━━━━━━━━━━━━━━━━━\u001b[0m\u001b[37m\u001b[0m \u001b[1m0s\u001b[0m 51ms/step\n"
     ]
    },
    {
     "name": "stderr",
     "output_type": "stream",
     "text": [
      "\r\n",
      " 93%|██████████████████████████████████████   | 1115/1200 [01:37<00:07, 11.91it/s]"
     ]
    },
    {
     "name": "stdout",
     "output_type": "stream",
     "text": [
      "\u001b[1m1/1\u001b[0m \u001b[32m━━━━━━━━━━━━━━━━━━━━\u001b[0m\u001b[37m\u001b[0m \u001b[1m0s\u001b[0m 49ms/step\n",
      "\u001b[1m1/1\u001b[0m \u001b[32m━━━━━━━━━━━━━━━━━━━━\u001b[0m\u001b[37m\u001b[0m \u001b[1m0s\u001b[0m 50ms/step\n"
     ]
    },
    {
     "name": "stderr",
     "output_type": "stream",
     "text": [
      "\r\n",
      " 93%|██████████████████████████████████████▏  | 1117/1200 [01:37<00:07, 11.73it/s]"
     ]
    },
    {
     "name": "stdout",
     "output_type": "stream",
     "text": [
      "\u001b[1m1/1\u001b[0m \u001b[32m━━━━━━━━━━━━━━━━━━━━\u001b[0m\u001b[37m\u001b[0m \u001b[1m0s\u001b[0m 50ms/step\n",
      "\u001b[1m1/1\u001b[0m \u001b[32m━━━━━━━━━━━━━━━━━━━━\u001b[0m\u001b[37m\u001b[0m \u001b[1m0s\u001b[0m 49ms/step\n"
     ]
    },
    {
     "name": "stderr",
     "output_type": "stream",
     "text": [
      "\r\n",
      " 93%|██████████████████████████████████████▏  | 1119/1200 [01:37<00:06, 11.93it/s]"
     ]
    },
    {
     "name": "stdout",
     "output_type": "stream",
     "text": [
      "\u001b[1m1/1\u001b[0m \u001b[32m━━━━━━━━━━━━━━━━━━━━\u001b[0m\u001b[37m\u001b[0m \u001b[1m0s\u001b[0m 50ms/step\n",
      "\u001b[1m1/1\u001b[0m \u001b[32m━━━━━━━━━━━━━━━━━━━━\u001b[0m\u001b[37m\u001b[0m \u001b[1m0s\u001b[0m 50ms/step\n"
     ]
    },
    {
     "name": "stderr",
     "output_type": "stream",
     "text": [
      "\r\n",
      " 93%|██████████████████████████████████████▎  | 1121/1200 [01:37<00:06, 12.08it/s]"
     ]
    },
    {
     "name": "stdout",
     "output_type": "stream",
     "text": [
      "\u001b[1m1/1\u001b[0m \u001b[32m━━━━━━━━━━━━━━━━━━━━\u001b[0m\u001b[37m\u001b[0m \u001b[1m0s\u001b[0m 51ms/step\n",
      "\u001b[1m1/1\u001b[0m \u001b[32m━━━━━━━━━━━━━━━━━━━━\u001b[0m\u001b[37m\u001b[0m \u001b[1m0s\u001b[0m 50ms/step\n"
     ]
    },
    {
     "name": "stderr",
     "output_type": "stream",
     "text": [
      "\r\n",
      " 94%|██████████████████████████████████████▎  | 1123/1200 [01:37<00:06, 11.77it/s]"
     ]
    },
    {
     "name": "stdout",
     "output_type": "stream",
     "text": [
      "\u001b[1m1/1\u001b[0m \u001b[32m━━━━━━━━━━━━━━━━━━━━\u001b[0m\u001b[37m\u001b[0m \u001b[1m0s\u001b[0m 50ms/step\n",
      "\u001b[1m1/1\u001b[0m \u001b[32m━━━━━━━━━━━━━━━━━━━━\u001b[0m\u001b[37m\u001b[0m \u001b[1m0s\u001b[0m 51ms/step\n"
     ]
    },
    {
     "name": "stderr",
     "output_type": "stream",
     "text": [
      "\r\n",
      " 94%|██████████████████████████████████████▍  | 1125/1200 [01:37<00:06, 11.88it/s]"
     ]
    },
    {
     "name": "stdout",
     "output_type": "stream",
     "text": [
      "\u001b[1m1/1\u001b[0m \u001b[32m━━━━━━━━━━━━━━━━━━━━\u001b[0m\u001b[37m\u001b[0m \u001b[1m0s\u001b[0m 51ms/step\n",
      "\u001b[1m1/1\u001b[0m \u001b[32m━━━━━━━━━━━━━━━━━━━━\u001b[0m\u001b[37m\u001b[0m \u001b[1m0s\u001b[0m 50ms/step\n"
     ]
    },
    {
     "name": "stderr",
     "output_type": "stream",
     "text": [
      "\r\n",
      " 94%|██████████████████████████████████████▌  | 1127/1200 [01:38<00:06, 11.97it/s]"
     ]
    },
    {
     "name": "stdout",
     "output_type": "stream",
     "text": [
      "\u001b[1m1/1\u001b[0m \u001b[32m━━━━━━━━━━━━━━━━━━━━\u001b[0m\u001b[37m\u001b[0m \u001b[1m0s\u001b[0m 50ms/step\n",
      "\u001b[1m1/1\u001b[0m \u001b[32m━━━━━━━━━━━━━━━━━━━━\u001b[0m\u001b[37m\u001b[0m \u001b[1m0s\u001b[0m 50ms/step\n"
     ]
    },
    {
     "name": "stderr",
     "output_type": "stream",
     "text": [
      "\r\n",
      " 94%|██████████████████████████████████████▌  | 1129/1200 [01:38<00:05, 12.08it/s]"
     ]
    },
    {
     "name": "stdout",
     "output_type": "stream",
     "text": [
      "\u001b[1m1/1\u001b[0m \u001b[32m━━━━━━━━━━━━━━━━━━━━\u001b[0m\u001b[37m\u001b[0m \u001b[1m0s\u001b[0m 49ms/step\n",
      "\u001b[1m1/1\u001b[0m \u001b[32m━━━━━━━━━━━━━━━━━━━━\u001b[0m\u001b[37m\u001b[0m \u001b[1m0s\u001b[0m 51ms/step\n"
     ]
    },
    {
     "name": "stderr",
     "output_type": "stream",
     "text": [
      "\r\n",
      " 94%|██████████████████████████████████████▋  | 1131/1200 [01:38<00:05, 12.12it/s]"
     ]
    },
    {
     "name": "stdout",
     "output_type": "stream",
     "text": [
      "\u001b[1m1/1\u001b[0m \u001b[32m━━━━━━━━━━━━━━━━━━━━\u001b[0m\u001b[37m\u001b[0m \u001b[1m0s\u001b[0m 50ms/step\n",
      "\u001b[1m1/1\u001b[0m \u001b[32m━━━━━━━━━━━━━━━━━━━━\u001b[0m\u001b[37m\u001b[0m \u001b[1m0s\u001b[0m 51ms/step\n"
     ]
    },
    {
     "name": "stderr",
     "output_type": "stream",
     "text": [
      "\r\n",
      " 94%|██████████████████████████████████████▋  | 1133/1200 [01:38<00:05, 12.16it/s]"
     ]
    },
    {
     "name": "stdout",
     "output_type": "stream",
     "text": [
      "\u001b[1m1/1\u001b[0m \u001b[32m━━━━━━━━━━━━━━━━━━━━\u001b[0m\u001b[37m\u001b[0m \u001b[1m0s\u001b[0m 51ms/step\n",
      "\u001b[1m1/1\u001b[0m \u001b[32m━━━━━━━━━━━━━━━━━━━━\u001b[0m\u001b[37m\u001b[0m \u001b[1m0s\u001b[0m 52ms/step\n"
     ]
    },
    {
     "name": "stderr",
     "output_type": "stream",
     "text": [
      "\r\n",
      " 95%|██████████████████████████████████████▊  | 1135/1200 [01:38<00:05, 12.10it/s]"
     ]
    },
    {
     "name": "stdout",
     "output_type": "stream",
     "text": [
      "\u001b[1m1/1\u001b[0m \u001b[32m━━━━━━━━━━━━━━━━━━━━\u001b[0m\u001b[37m\u001b[0m \u001b[1m0s\u001b[0m 51ms/step\n",
      "\u001b[1m1/1\u001b[0m \u001b[32m━━━━━━━━━━━━━━━━━━━━\u001b[0m\u001b[37m\u001b[0m \u001b[1m0s\u001b[0m 52ms/step\n"
     ]
    },
    {
     "name": "stderr",
     "output_type": "stream",
     "text": [
      "\r\n",
      " 95%|██████████████████████████████████████▊  | 1137/1200 [01:38<00:05, 11.93it/s]"
     ]
    },
    {
     "name": "stdout",
     "output_type": "stream",
     "text": [
      "\u001b[1m1/1\u001b[0m \u001b[32m━━━━━━━━━━━━━━━━━━━━\u001b[0m\u001b[37m\u001b[0m \u001b[1m0s\u001b[0m 51ms/step\n",
      "\u001b[1m1/1\u001b[0m \u001b[32m━━━━━━━━━━━━━━━━━━━━\u001b[0m\u001b[37m\u001b[0m \u001b[1m0s\u001b[0m 51ms/step\n"
     ]
    },
    {
     "name": "stderr",
     "output_type": "stream",
     "text": [
      "\r\n",
      " 95%|██████████████████████████████████████▉  | 1139/1200 [01:39<00:05, 11.94it/s]"
     ]
    },
    {
     "name": "stdout",
     "output_type": "stream",
     "text": [
      "\u001b[1m1/1\u001b[0m \u001b[32m━━━━━━━━━━━━━━━━━━━━\u001b[0m\u001b[37m\u001b[0m \u001b[1m0s\u001b[0m 50ms/step\n",
      "\u001b[1m1/1\u001b[0m \u001b[32m━━━━━━━━━━━━━━━━━━━━\u001b[0m\u001b[37m\u001b[0m \u001b[1m0s\u001b[0m 52ms/step\n"
     ]
    },
    {
     "name": "stderr",
     "output_type": "stream",
     "text": [
      "\r\n",
      " 95%|██████████████████████████████████████▉  | 1141/1200 [01:39<00:04, 11.92it/s]"
     ]
    },
    {
     "name": "stdout",
     "output_type": "stream",
     "text": [
      "\u001b[1m1/1\u001b[0m \u001b[32m━━━━━━━━━━━━━━━━━━━━\u001b[0m\u001b[37m\u001b[0m \u001b[1m0s\u001b[0m 52ms/step\n",
      "\u001b[1m1/1\u001b[0m \u001b[32m━━━━━━━━━━━━━━━━━━━━\u001b[0m\u001b[37m\u001b[0m \u001b[1m0s\u001b[0m 52ms/step\n"
     ]
    },
    {
     "name": "stderr",
     "output_type": "stream",
     "text": [
      "\r\n",
      " 95%|███████████████████████████████████████  | 1143/1200 [01:39<00:04, 11.68it/s]"
     ]
    },
    {
     "name": "stdout",
     "output_type": "stream",
     "text": [
      "\u001b[1m1/1\u001b[0m \u001b[32m━━━━━━━━━━━━━━━━━━━━\u001b[0m\u001b[37m\u001b[0m \u001b[1m0s\u001b[0m 51ms/step\n",
      "\u001b[1m1/1\u001b[0m \u001b[32m━━━━━━━━━━━━━━━━━━━━\u001b[0m\u001b[37m\u001b[0m \u001b[1m0s\u001b[0m 52ms/step\n"
     ]
    },
    {
     "name": "stderr",
     "output_type": "stream",
     "text": [
      "\r\n",
      " 95%|███████████████████████████████████████  | 1145/1200 [01:39<00:04, 11.52it/s]"
     ]
    },
    {
     "name": "stdout",
     "output_type": "stream",
     "text": [
      "\u001b[1m1/1\u001b[0m \u001b[32m━━━━━━━━━━━━━━━━━━━━\u001b[0m\u001b[37m\u001b[0m \u001b[1m0s\u001b[0m 51ms/step\n",
      "\u001b[1m1/1\u001b[0m \u001b[32m━━━━━━━━━━━━━━━━━━━━\u001b[0m\u001b[37m\u001b[0m \u001b[1m0s\u001b[0m 52ms/step\n"
     ]
    },
    {
     "name": "stderr",
     "output_type": "stream",
     "text": [
      "\r\n",
      " 96%|███████████████████████████████████████▏ | 1147/1200 [01:39<00:04, 11.64it/s]"
     ]
    },
    {
     "name": "stdout",
     "output_type": "stream",
     "text": [
      "\u001b[1m1/1\u001b[0m \u001b[32m━━━━━━━━━━━━━━━━━━━━\u001b[0m\u001b[37m\u001b[0m \u001b[1m0s\u001b[0m 53ms/step\n",
      "\u001b[1m1/1\u001b[0m \u001b[32m━━━━━━━━━━━━━━━━━━━━\u001b[0m\u001b[37m\u001b[0m \u001b[1m0s\u001b[0m 51ms/step\n"
     ]
    },
    {
     "name": "stderr",
     "output_type": "stream",
     "text": [
      "\r\n",
      " 96%|███████████████████████████████████████▎ | 1149/1200 [01:39<00:04, 11.65it/s]"
     ]
    },
    {
     "name": "stdout",
     "output_type": "stream",
     "text": [
      "\u001b[1m1/1\u001b[0m \u001b[32m━━━━━━━━━━━━━━━━━━━━\u001b[0m\u001b[37m\u001b[0m \u001b[1m0s\u001b[0m 52ms/step\n",
      "\u001b[1m1/1\u001b[0m \u001b[32m━━━━━━━━━━━━━━━━━━━━\u001b[0m\u001b[37m\u001b[0m \u001b[1m0s\u001b[0m 49ms/step\n"
     ]
    },
    {
     "name": "stderr",
     "output_type": "stream",
     "text": [
      "\r\n",
      " 96%|███████████████████████████████████████▎ | 1151/1200 [01:40<00:04, 11.81it/s]"
     ]
    },
    {
     "name": "stdout",
     "output_type": "stream",
     "text": [
      "\u001b[1m1/1\u001b[0m \u001b[32m━━━━━━━━━━━━━━━━━━━━\u001b[0m\u001b[37m\u001b[0m \u001b[1m0s\u001b[0m 49ms/step\n",
      "\u001b[1m1/1\u001b[0m \u001b[32m━━━━━━━━━━━━━━━━━━━━\u001b[0m\u001b[37m\u001b[0m \u001b[1m0s\u001b[0m 50ms/step\n"
     ]
    },
    {
     "name": "stderr",
     "output_type": "stream",
     "text": [
      "\r\n",
      " 96%|███████████████████████████████████████▍ | 1153/1200 [01:40<00:03, 11.96it/s]"
     ]
    },
    {
     "name": "stdout",
     "output_type": "stream",
     "text": [
      "\u001b[1m1/1\u001b[0m \u001b[32m━━━━━━━━━━━━━━━━━━━━\u001b[0m\u001b[37m\u001b[0m \u001b[1m0s\u001b[0m 49ms/step\n",
      "\u001b[1m1/1\u001b[0m \u001b[32m━━━━━━━━━━━━━━━━━━━━\u001b[0m\u001b[37m\u001b[0m \u001b[1m0s\u001b[0m 49ms/step\n"
     ]
    },
    {
     "name": "stderr",
     "output_type": "stream",
     "text": [
      "\r\n",
      " 96%|███████████████████████████████████████▍ | 1155/1200 [01:40<00:03, 12.17it/s]"
     ]
    },
    {
     "name": "stdout",
     "output_type": "stream",
     "text": [
      "\u001b[1m1/1\u001b[0m \u001b[32m━━━━━━━━━━━━━━━━━━━━\u001b[0m\u001b[37m\u001b[0m \u001b[1m0s\u001b[0m 50ms/step\n",
      "\u001b[1m1/1\u001b[0m \u001b[32m━━━━━━━━━━━━━━━━━━━━\u001b[0m\u001b[37m\u001b[0m \u001b[1m0s\u001b[0m 49ms/step\n"
     ]
    },
    {
     "name": "stderr",
     "output_type": "stream",
     "text": [
      "\r\n",
      " 96%|███████████████████████████████████████▌ | 1157/1200 [01:40<00:03, 12.25it/s]"
     ]
    },
    {
     "name": "stdout",
     "output_type": "stream",
     "text": [
      "\u001b[1m1/1\u001b[0m \u001b[32m━━━━━━━━━━━━━━━━━━━━\u001b[0m\u001b[37m\u001b[0m \u001b[1m0s\u001b[0m 49ms/step\n",
      "\u001b[1m1/1\u001b[0m \u001b[32m━━━━━━━━━━━━━━━━━━━━\u001b[0m\u001b[37m\u001b[0m \u001b[1m0s\u001b[0m 51ms/step\n"
     ]
    },
    {
     "name": "stderr",
     "output_type": "stream",
     "text": [
      "\r\n",
      " 97%|███████████████████████████████████████▌ | 1159/1200 [01:40<00:03, 12.25it/s]"
     ]
    },
    {
     "name": "stdout",
     "output_type": "stream",
     "text": [
      "\u001b[1m1/1\u001b[0m \u001b[32m━━━━━━━━━━━━━━━━━━━━\u001b[0m\u001b[37m\u001b[0m \u001b[1m0s\u001b[0m 50ms/step\n",
      "\u001b[1m1/1\u001b[0m \u001b[32m━━━━━━━━━━━━━━━━━━━━\u001b[0m\u001b[37m\u001b[0m \u001b[1m0s\u001b[0m 51ms/step\n"
     ]
    },
    {
     "name": "stderr",
     "output_type": "stream",
     "text": [
      "\r\n",
      " 97%|███████████████████████████████████████▋ | 1161/1200 [01:40<00:03, 12.24it/s]"
     ]
    },
    {
     "name": "stdout",
     "output_type": "stream",
     "text": [
      "\u001b[1m1/1\u001b[0m \u001b[32m━━━━━━━━━━━━━━━━━━━━\u001b[0m\u001b[37m\u001b[0m \u001b[1m0s\u001b[0m 50ms/step\n",
      "\u001b[1m1/1\u001b[0m \u001b[32m━━━━━━━━━━━━━━━━━━━━\u001b[0m\u001b[37m\u001b[0m \u001b[1m0s\u001b[0m 50ms/step\n"
     ]
    },
    {
     "name": "stderr",
     "output_type": "stream",
     "text": [
      "\r\n",
      " 97%|███████████████████████████████████████▋ | 1163/1200 [01:41<00:03, 12.19it/s]"
     ]
    },
    {
     "name": "stdout",
     "output_type": "stream",
     "text": [
      "\u001b[1m1/1\u001b[0m \u001b[32m━━━━━━━━━━━━━━━━━━━━\u001b[0m\u001b[37m\u001b[0m \u001b[1m0s\u001b[0m 50ms/step\n",
      "\u001b[1m1/1\u001b[0m \u001b[32m━━━━━━━━━━━━━━━━━━━━\u001b[0m\u001b[37m\u001b[0m \u001b[1m0s\u001b[0m 50ms/step\n"
     ]
    },
    {
     "name": "stderr",
     "output_type": "stream",
     "text": [
      "\r\n",
      " 97%|███████████████████████████████████████▊ | 1165/1200 [01:41<00:02, 12.21it/s]"
     ]
    },
    {
     "name": "stdout",
     "output_type": "stream",
     "text": [
      "\u001b[1m1/1\u001b[0m \u001b[32m━━━━━━━━━━━━━━━━━━━━\u001b[0m\u001b[37m\u001b[0m \u001b[1m0s\u001b[0m 50ms/step\n",
      "\u001b[1m1/1\u001b[0m \u001b[32m━━━━━━━━━━━━━━━━━━━━\u001b[0m\u001b[37m\u001b[0m \u001b[1m0s\u001b[0m 50ms/step\n"
     ]
    },
    {
     "name": "stderr",
     "output_type": "stream",
     "text": [
      "\r\n",
      " 97%|███████████████████████████████████████▊ | 1167/1200 [01:41<00:02, 12.08it/s]"
     ]
    },
    {
     "name": "stdout",
     "output_type": "stream",
     "text": [
      "\u001b[1m1/1\u001b[0m \u001b[32m━━━━━━━━━━━━━━━━━━━━\u001b[0m\u001b[37m\u001b[0m \u001b[1m0s\u001b[0m 50ms/step\n",
      "\u001b[1m1/1\u001b[0m \u001b[32m━━━━━━━━━━━━━━━━━━━━\u001b[0m\u001b[37m\u001b[0m \u001b[1m0s\u001b[0m 50ms/step\n"
     ]
    },
    {
     "name": "stderr",
     "output_type": "stream",
     "text": [
      "\r\n",
      " 97%|███████████████████████████████████████▉ | 1169/1200 [01:41<00:02, 12.17it/s]"
     ]
    },
    {
     "name": "stdout",
     "output_type": "stream",
     "text": [
      "\u001b[1m1/1\u001b[0m \u001b[32m━━━━━━━━━━━━━━━━━━━━\u001b[0m\u001b[37m\u001b[0m \u001b[1m0s\u001b[0m 50ms/step\n",
      "\u001b[1m1/1\u001b[0m \u001b[32m━━━━━━━━━━━━━━━━━━━━\u001b[0m\u001b[37m\u001b[0m \u001b[1m0s\u001b[0m 51ms/step\n"
     ]
    },
    {
     "name": "stderr",
     "output_type": "stream",
     "text": [
      "\r\n",
      " 98%|████████████████████████████████████████ | 1171/1200 [01:41<00:02, 12.11it/s]"
     ]
    },
    {
     "name": "stdout",
     "output_type": "stream",
     "text": [
      "\u001b[1m1/1\u001b[0m \u001b[32m━━━━━━━━━━━━━━━━━━━━\u001b[0m\u001b[37m\u001b[0m \u001b[1m0s\u001b[0m 50ms/step\n",
      "\u001b[1m1/1\u001b[0m \u001b[32m━━━━━━━━━━━━━━━━━━━━\u001b[0m\u001b[37m\u001b[0m \u001b[1m0s\u001b[0m 50ms/step\n"
     ]
    },
    {
     "name": "stderr",
     "output_type": "stream",
     "text": [
      "\r\n",
      " 98%|████████████████████████████████████████ | 1173/1200 [01:41<00:02, 11.90it/s]"
     ]
    },
    {
     "name": "stdout",
     "output_type": "stream",
     "text": [
      "\u001b[1m1/1\u001b[0m \u001b[32m━━━━━━━━━━━━━━━━━━━━\u001b[0m\u001b[37m\u001b[0m \u001b[1m0s\u001b[0m 50ms/step\n",
      "\u001b[1m1/1\u001b[0m \u001b[32m━━━━━━━━━━━━━━━━━━━━\u001b[0m\u001b[37m\u001b[0m \u001b[1m0s\u001b[0m 50ms/step\n"
     ]
    },
    {
     "name": "stderr",
     "output_type": "stream",
     "text": [
      "\r\n",
      " 98%|████████████████████████████████████████▏| 1175/1200 [01:42<00:02, 12.03it/s]"
     ]
    },
    {
     "name": "stdout",
     "output_type": "stream",
     "text": [
      "\u001b[1m1/1\u001b[0m \u001b[32m━━━━━━━━━━━━━━━━━━━━\u001b[0m\u001b[37m\u001b[0m \u001b[1m0s\u001b[0m 50ms/step\n",
      "\u001b[1m1/1\u001b[0m \u001b[32m━━━━━━━━━━━━━━━━━━━━\u001b[0m\u001b[37m\u001b[0m \u001b[1m0s\u001b[0m 49ms/step\n"
     ]
    },
    {
     "name": "stderr",
     "output_type": "stream",
     "text": [
      "\r\n",
      " 98%|████████████████████████████████████████▏| 1177/1200 [01:42<00:01, 11.81it/s]"
     ]
    },
    {
     "name": "stdout",
     "output_type": "stream",
     "text": [
      "\u001b[1m1/1\u001b[0m \u001b[32m━━━━━━━━━━━━━━━━━━━━\u001b[0m\u001b[37m\u001b[0m \u001b[1m0s\u001b[0m 50ms/step\n",
      "\u001b[1m1/1\u001b[0m \u001b[32m━━━━━━━━━━━━━━━━━━━━\u001b[0m\u001b[37m\u001b[0m \u001b[1m0s\u001b[0m 50ms/step\n"
     ]
    },
    {
     "name": "stderr",
     "output_type": "stream",
     "text": [
      "\r\n",
      " 98%|████████████████████████████████████████▎| 1179/1200 [01:42<00:01, 11.46it/s]"
     ]
    },
    {
     "name": "stdout",
     "output_type": "stream",
     "text": [
      "\u001b[1m1/1\u001b[0m \u001b[32m━━━━━━━━━━━━━━━━━━━━\u001b[0m\u001b[37m\u001b[0m \u001b[1m0s\u001b[0m 49ms/step\n",
      "\u001b[1m1/1\u001b[0m \u001b[32m━━━━━━━━━━━━━━━━━━━━\u001b[0m\u001b[37m\u001b[0m \u001b[1m0s\u001b[0m 52ms/step\n"
     ]
    },
    {
     "name": "stderr",
     "output_type": "stream",
     "text": [
      "\r\n",
      " 98%|████████████████████████████████████████▎| 1181/1200 [01:42<00:01, 11.70it/s]"
     ]
    },
    {
     "name": "stdout",
     "output_type": "stream",
     "text": [
      "\u001b[1m1/1\u001b[0m \u001b[32m━━━━━━━━━━━━━━━━━━━━\u001b[0m\u001b[37m\u001b[0m \u001b[1m0s\u001b[0m 51ms/step\n",
      "\u001b[1m1/1\u001b[0m \u001b[32m━━━━━━━━━━━━━━━━━━━━\u001b[0m\u001b[37m\u001b[0m \u001b[1m0s\u001b[0m 52ms/step\n"
     ]
    },
    {
     "name": "stderr",
     "output_type": "stream",
     "text": [
      "\r\n",
      " 99%|████████████████████████████████████████▍| 1183/1200 [01:42<00:01, 11.74it/s]"
     ]
    },
    {
     "name": "stdout",
     "output_type": "stream",
     "text": [
      "\u001b[1m1/1\u001b[0m \u001b[32m━━━━━━━━━━━━━━━━━━━━\u001b[0m\u001b[37m\u001b[0m \u001b[1m0s\u001b[0m 52ms/step\n",
      "\u001b[1m1/1\u001b[0m \u001b[32m━━━━━━━━━━━━━━━━━━━━\u001b[0m\u001b[37m\u001b[0m \u001b[1m0s\u001b[0m 52ms/step\n"
     ]
    },
    {
     "name": "stderr",
     "output_type": "stream",
     "text": [
      "\r\n",
      " 99%|████████████████████████████████████████▍| 1185/1200 [01:42<00:01, 11.53it/s]"
     ]
    },
    {
     "name": "stdout",
     "output_type": "stream",
     "text": [
      "\u001b[1m1/1\u001b[0m \u001b[32m━━━━━━━━━━━━━━━━━━━━\u001b[0m\u001b[37m\u001b[0m \u001b[1m0s\u001b[0m 52ms/step\n",
      "\u001b[1m1/1\u001b[0m \u001b[32m━━━━━━━━━━━━━━━━━━━━\u001b[0m\u001b[37m\u001b[0m \u001b[1m0s\u001b[0m 51ms/step\n"
     ]
    },
    {
     "name": "stderr",
     "output_type": "stream",
     "text": [
      "\r\n",
      " 99%|████████████████████████████████████████▌| 1187/1200 [01:43<00:01, 11.71it/s]"
     ]
    },
    {
     "name": "stdout",
     "output_type": "stream",
     "text": [
      "\u001b[1m1/1\u001b[0m \u001b[32m━━━━━━━━━━━━━━━━━━━━\u001b[0m\u001b[37m\u001b[0m \u001b[1m0s\u001b[0m 51ms/step\n",
      "\u001b[1m1/1\u001b[0m \u001b[32m━━━━━━━━━━━━━━━━━━━━\u001b[0m\u001b[37m\u001b[0m \u001b[1m0s\u001b[0m 51ms/step\n"
     ]
    },
    {
     "name": "stderr",
     "output_type": "stream",
     "text": [
      "\r\n",
      " 99%|████████████████████████████████████████▌| 1189/1200 [01:43<00:00, 11.79it/s]"
     ]
    },
    {
     "name": "stdout",
     "output_type": "stream",
     "text": [
      "\u001b[1m1/1\u001b[0m \u001b[32m━━━━━━━━━━━━━━━━━━━━\u001b[0m\u001b[37m\u001b[0m \u001b[1m0s\u001b[0m 51ms/step\n",
      "\u001b[1m1/1\u001b[0m \u001b[32m━━━━━━━━━━━━━━━━━━━━\u001b[0m\u001b[37m\u001b[0m \u001b[1m0s\u001b[0m 51ms/step\n"
     ]
    },
    {
     "name": "stderr",
     "output_type": "stream",
     "text": [
      "\r\n",
      " 99%|████████████████████████████████████████▋| 1191/1200 [01:43<00:00, 11.09it/s]"
     ]
    },
    {
     "name": "stdout",
     "output_type": "stream",
     "text": [
      "\u001b[1m1/1\u001b[0m \u001b[32m━━━━━━━━━━━━━━━━━━━━\u001b[0m\u001b[37m\u001b[0m \u001b[1m0s\u001b[0m 51ms/step\n",
      "\u001b[1m1/1\u001b[0m \u001b[32m━━━━━━━━━━━━━━━━━━━━\u001b[0m\u001b[37m\u001b[0m \u001b[1m0s\u001b[0m 50ms/step\n"
     ]
    },
    {
     "name": "stderr",
     "output_type": "stream",
     "text": [
      "\r\n",
      " 99%|████████████████████████████████████████▊| 1193/1200 [01:43<00:00, 11.43it/s]"
     ]
    },
    {
     "name": "stdout",
     "output_type": "stream",
     "text": [
      "\u001b[1m1/1\u001b[0m \u001b[32m━━━━━━━━━━━━━━━━━━━━\u001b[0m\u001b[37m\u001b[0m \u001b[1m0s\u001b[0m 50ms/step\n",
      "\u001b[1m1/1\u001b[0m \u001b[32m━━━━━━━━━━━━━━━━━━━━\u001b[0m\u001b[37m\u001b[0m \u001b[1m0s\u001b[0m 50ms/step\n"
     ]
    },
    {
     "name": "stderr",
     "output_type": "stream",
     "text": [
      "\r\n",
      "100%|████████████████████████████████████████▊| 1195/1200 [01:43<00:00, 11.50it/s]"
     ]
    },
    {
     "name": "stdout",
     "output_type": "stream",
     "text": [
      "\u001b[1m1/1\u001b[0m \u001b[32m━━━━━━━━━━━━━━━━━━━━\u001b[0m\u001b[37m\u001b[0m \u001b[1m0s\u001b[0m 51ms/step\n",
      "\u001b[1m1/1\u001b[0m \u001b[32m━━━━━━━━━━━━━━━━━━━━\u001b[0m\u001b[37m\u001b[0m \u001b[1m0s\u001b[0m 51ms/step\n"
     ]
    },
    {
     "name": "stderr",
     "output_type": "stream",
     "text": [
      "\r\n",
      "100%|████████████████████████████████████████▉| 1197/1200 [01:43<00:00, 11.63it/s]"
     ]
    },
    {
     "name": "stdout",
     "output_type": "stream",
     "text": [
      "\u001b[1m1/1\u001b[0m \u001b[32m━━━━━━━━━━━━━━━━━━━━\u001b[0m\u001b[37m\u001b[0m \u001b[1m0s\u001b[0m 51ms/step\n",
      "\u001b[1m1/1\u001b[0m \u001b[32m━━━━━━━━━━━━━━━━━━━━\u001b[0m\u001b[37m\u001b[0m \u001b[1m0s\u001b[0m 51ms/step\n"
     ]
    },
    {
     "name": "stderr",
     "output_type": "stream",
     "text": [
      "\r\n",
      "100%|████████████████████████████████████████▉| 1199/1200 [01:44<00:00, 11.77it/s]"
     ]
    },
    {
     "name": "stdout",
     "output_type": "stream",
     "text": [
      "\u001b[1m1/1\u001b[0m \u001b[32m━━━━━━━━━━━━━━━━━━━━\u001b[0m\u001b[37m\u001b[0m \u001b[1m0s\u001b[0m 50ms/step\n"
     ]
    },
    {
     "name": "stderr",
     "output_type": "stream",
     "text": [
      "100%|█████████████████████████████████████████| 1200/1200 [01:44<00:00, 11.51it/s]\n"
     ]
    }
   ],
   "source": [
    "S_val_pred = []\n",
    "for i in tqdm(range(len(X_val_spect))):\n",
    "    x_val_spect = X_val_spect[i]\n",
    "    x_val_abs = X_val[i]\n",
    "    \n",
    "    # length of this spectrogram\n",
    "    spec_length = x_val_spect.shape[1]\n",
    "    \n",
    "    # predict mask and reshape to match spectrogram shape\n",
    "    m_pred = np.round(rnn_model.predict(x_val_abs.T.reshape([1,-1,513])).squeeze())\n",
    "    m_pred = m_pred[:spec_length]  # truncate to match spectrogram length\n",
    "    \n",
    "    # apply mask\n",
    "    s_pred = (m_pred.T)*x_val_spect\n",
    "    S_val_pred.append(s_pred)"
   ]
  },
  {
   "cell_type": "markdown",
   "id": "dea95b29",
   "metadata": {},
   "source": [
    "#### SNR"
   ]
  },
  {
   "cell_type": "code",
   "execution_count": 28,
   "id": "0ede3d02",
   "metadata": {},
   "outputs": [],
   "source": [
    "def calculate_snr(clean_speech, recon_speech):\n",
    "    min_len = min(len(clean_speech), len(recon_speech))\n",
    "    clean_speech = clean_speech[:min_len]\n",
    "    recon_speech = recon_speech[:min_len]\n",
    "    numerator = np.sum(np.square(clean_speech))\n",
    "    denominator = np.sum(np.square(clean_speech - recon_speech))\n",
    "    return 10 * np.log10(numerator/(denominator + 1e-10))"
   ]
  },
  {
   "cell_type": "code",
   "execution_count": 29,
   "id": "56b484fb",
   "metadata": {},
   "outputs": [],
   "source": [
    "def calculate_validation_snr(S_list, S_val_pred):\n",
    "    snr_arr = np.zeros(len(S_list))\n",
    "    for i in range(len(S_list)):\n",
    "        S = S_list[i]\n",
    "        S_p = S_val_pred[i]\n",
    "        s = librosa.istft(S, hop_length=512)\n",
    "        s_p = librosa.istft(S_p, hop_length=512)\n",
    "        snr_i = calculate_snr(s,s_p)\n",
    "        snr_arr[i] = snr_i\n",
    "    return np.mean(snr_arr)"
   ]
  },
  {
   "cell_type": "code",
   "execution_count": 31,
   "id": "9385233f",
   "metadata": {},
   "outputs": [
    {
     "data": {
      "text/plain": [
       "10.415051939617655"
      ]
     },
     "execution_count": 31,
     "metadata": {},
     "output_type": "execute_result"
    }
   ],
   "source": [
    "calculate_validation_snr(S_val_spect, S_val_pred)"
   ]
  },
  {
   "cell_type": "markdown",
   "id": "aee19676",
   "metadata": {},
   "source": [
    "### Recovered Test Speech Signals"
   ]
  },
  {
   "cell_type": "code",
   "execution_count": 36,
   "id": "7d1b7012",
   "metadata": {},
   "outputs": [],
   "source": [
    "import IPython.display as ipd\n",
    "import soundfile as sf"
   ]
  },
  {
   "cell_type": "code",
   "execution_count": 33,
   "id": "6e6fed54",
   "metadata": {},
   "outputs": [],
   "source": [
    "!mkdir test_recovered"
   ]
  },
  {
   "cell_type": "code",
   "execution_count": 34,
   "id": "ab3e2e37",
   "metadata": {},
   "outputs": [
    {
     "name": "stderr",
     "output_type": "stream",
     "text": [
      "100%|███████████████████████████████████████████| 400/400 [00:05<00:00, 67.67it/s]\n"
     ]
    }
   ],
   "source": [
    "X_test_spect, X_test = load_files(test_path, tex)"
   ]
  },
  {
   "cell_type": "code",
   "execution_count": 40,
   "id": "5f9e1818",
   "metadata": {},
   "outputs": [],
   "source": [
    "tex, sr = librosa.load(path + '/te/tex0000.wav', sr=None)"
   ]
  },
  {
   "cell_type": "code",
   "execution_count": 35,
   "id": "c4f131dd",
   "metadata": {},
   "outputs": [],
   "source": [
    "def set_file(i, prefix):\n",
    "    i_str = str(i)    \n",
    "    return prefix + '0000'[:-len(i_str)] + i_str"
   ]
  },
  {
   "cell_type": "code",
   "execution_count": 43,
   "id": "5d08207d",
   "metadata": {},
   "outputs": [
    {
     "name": "stderr",
     "output_type": "stream",
     "text": [
      "\r\n",
      "  0%|                                                     | 0/400 [00:00<?, ?it/s]"
     ]
    },
    {
     "name": "stdout",
     "output_type": "stream",
     "text": [
      "\u001b[1m1/1\u001b[0m \u001b[32m━━━━━━━━━━━━━━━━━━━━\u001b[0m\u001b[37m\u001b[0m \u001b[1m0s\u001b[0m 52ms/step\n"
     ]
    },
    {
     "name": "stderr",
     "output_type": "stream",
     "text": [
      "\r\n",
      "  0%|                                             | 1/400 [00:00<00:58,  6.87it/s]"
     ]
    },
    {
     "name": "stdout",
     "output_type": "stream",
     "text": [
      "\u001b[1m1/1\u001b[0m \u001b[32m━━━━━━━━━━━━━━━━━━━━\u001b[0m\u001b[37m\u001b[0m \u001b[1m0s\u001b[0m 51ms/step\n"
     ]
    },
    {
     "name": "stderr",
     "output_type": "stream",
     "text": [
      "\r\n",
      "  0%|▏                                            | 2/400 [00:00<00:54,  7.34it/s]"
     ]
    },
    {
     "name": "stdout",
     "output_type": "stream",
     "text": [
      "\u001b[1m1/1\u001b[0m \u001b[32m━━━━━━━━━━━━━━━━━━━━\u001b[0m\u001b[37m\u001b[0m \u001b[1m0s\u001b[0m 51ms/step\n"
     ]
    },
    {
     "name": "stderr",
     "output_type": "stream",
     "text": [
      "\r\n",
      "  1%|▎                                            | 3/400 [00:00<00:52,  7.56it/s]"
     ]
    },
    {
     "name": "stdout",
     "output_type": "stream",
     "text": [
      "\u001b[1m1/1\u001b[0m \u001b[32m━━━━━━━━━━━━━━━━━━━━\u001b[0m\u001b[37m\u001b[0m \u001b[1m0s\u001b[0m 51ms/step\n"
     ]
    },
    {
     "name": "stderr",
     "output_type": "stream",
     "text": [
      "\r\n",
      "  1%|▍                                            | 4/400 [00:00<00:52,  7.54it/s]"
     ]
    },
    {
     "name": "stdout",
     "output_type": "stream",
     "text": [
      "\u001b[1m1/1\u001b[0m \u001b[32m━━━━━━━━━━━━━━━━━━━━\u001b[0m\u001b[37m\u001b[0m \u001b[1m0s\u001b[0m 51ms/step\n"
     ]
    },
    {
     "name": "stderr",
     "output_type": "stream",
     "text": [
      "\r\n",
      "  1%|▌                                            | 5/400 [00:00<00:50,  7.79it/s]"
     ]
    },
    {
     "name": "stdout",
     "output_type": "stream",
     "text": [
      "\u001b[1m1/1\u001b[0m \u001b[32m━━━━━━━━━━━━━━━━━━━━\u001b[0m\u001b[37m\u001b[0m \u001b[1m0s\u001b[0m 52ms/step\n"
     ]
    },
    {
     "name": "stderr",
     "output_type": "stream",
     "text": [
      "\r\n",
      "  2%|▋                                            | 6/400 [00:00<00:50,  7.79it/s]"
     ]
    },
    {
     "name": "stdout",
     "output_type": "stream",
     "text": [
      "\u001b[1m1/1\u001b[0m \u001b[32m━━━━━━━━━━━━━━━━━━━━\u001b[0m\u001b[37m\u001b[0m \u001b[1m0s\u001b[0m 51ms/step\n"
     ]
    },
    {
     "name": "stderr",
     "output_type": "stream",
     "text": [
      "\r\n",
      "  2%|▊                                            | 7/400 [00:00<00:50,  7.78it/s]"
     ]
    },
    {
     "name": "stdout",
     "output_type": "stream",
     "text": [
      "\u001b[1m1/1\u001b[0m \u001b[32m━━━━━━━━━━━━━━━━━━━━\u001b[0m\u001b[37m\u001b[0m \u001b[1m0s\u001b[0m 51ms/step\n"
     ]
    },
    {
     "name": "stderr",
     "output_type": "stream",
     "text": [
      "\r\n",
      "  2%|▉                                            | 8/400 [00:01<00:50,  7.75it/s]"
     ]
    },
    {
     "name": "stdout",
     "output_type": "stream",
     "text": [
      "\u001b[1m1/1\u001b[0m \u001b[32m━━━━━━━━━━━━━━━━━━━━\u001b[0m\u001b[37m\u001b[0m \u001b[1m0s\u001b[0m 52ms/step\n"
     ]
    },
    {
     "name": "stderr",
     "output_type": "stream",
     "text": [
      "\r\n",
      "  2%|█                                            | 9/400 [00:01<00:51,  7.60it/s]"
     ]
    },
    {
     "name": "stdout",
     "output_type": "stream",
     "text": [
      "\u001b[1m1/1\u001b[0m \u001b[32m━━━━━━━━━━━━━━━━━━━━\u001b[0m\u001b[37m\u001b[0m \u001b[1m0s\u001b[0m 50ms/step\n"
     ]
    },
    {
     "name": "stderr",
     "output_type": "stream",
     "text": [
      "\r\n",
      "  2%|█                                           | 10/400 [00:01<00:50,  7.74it/s]"
     ]
    },
    {
     "name": "stdout",
     "output_type": "stream",
     "text": [
      "\u001b[1m1/1\u001b[0m \u001b[32m━━━━━━━━━━━━━━━━━━━━\u001b[0m\u001b[37m\u001b[0m \u001b[1m0s\u001b[0m 53ms/step\n"
     ]
    },
    {
     "name": "stderr",
     "output_type": "stream",
     "text": [
      "\r\n",
      "  3%|█▏                                          | 11/400 [00:01<00:50,  7.71it/s]"
     ]
    },
    {
     "name": "stdout",
     "output_type": "stream",
     "text": [
      "\u001b[1m1/1\u001b[0m \u001b[32m━━━━━━━━━━━━━━━━━━━━\u001b[0m\u001b[37m\u001b[0m \u001b[1m0s\u001b[0m 51ms/step\n"
     ]
    },
    {
     "name": "stderr",
     "output_type": "stream",
     "text": [
      "\r\n",
      "  3%|█▎                                          | 12/400 [00:01<00:49,  7.77it/s]"
     ]
    },
    {
     "name": "stdout",
     "output_type": "stream",
     "text": [
      "\u001b[1m1/1\u001b[0m \u001b[32m━━━━━━━━━━━━━━━━━━━━\u001b[0m\u001b[37m\u001b[0m \u001b[1m0s\u001b[0m 52ms/step\n"
     ]
    },
    {
     "name": "stderr",
     "output_type": "stream",
     "text": [
      "\r\n",
      "  3%|█▍                                          | 13/400 [00:01<00:49,  7.85it/s]"
     ]
    },
    {
     "name": "stdout",
     "output_type": "stream",
     "text": [
      "\u001b[1m1/1\u001b[0m \u001b[32m━━━━━━━━━━━━━━━━━━━━\u001b[0m\u001b[37m\u001b[0m \u001b[1m0s\u001b[0m 51ms/step\n"
     ]
    },
    {
     "name": "stderr",
     "output_type": "stream",
     "text": [
      "\r\n",
      "  4%|█▌                                          | 14/400 [00:01<00:49,  7.79it/s]"
     ]
    },
    {
     "name": "stdout",
     "output_type": "stream",
     "text": [
      "\u001b[1m1/1\u001b[0m \u001b[32m━━━━━━━━━━━━━━━━━━━━\u001b[0m\u001b[37m\u001b[0m \u001b[1m0s\u001b[0m 50ms/step\n"
     ]
    },
    {
     "name": "stderr",
     "output_type": "stream",
     "text": [
      "\r\n",
      "  4%|█▋                                          | 15/400 [00:01<00:49,  7.84it/s]"
     ]
    },
    {
     "name": "stdout",
     "output_type": "stream",
     "text": [
      "\u001b[1m1/1\u001b[0m \u001b[32m━━━━━━━━━━━━━━━━━━━━\u001b[0m\u001b[37m\u001b[0m \u001b[1m0s\u001b[0m 51ms/step\n"
     ]
    },
    {
     "name": "stderr",
     "output_type": "stream",
     "text": [
      "\r\n",
      "  4%|█▊                                          | 16/400 [00:02<00:48,  7.87it/s]"
     ]
    },
    {
     "name": "stdout",
     "output_type": "stream",
     "text": [
      "\u001b[1m1/1\u001b[0m \u001b[32m━━━━━━━━━━━━━━━━━━━━\u001b[0m\u001b[37m\u001b[0m \u001b[1m0s\u001b[0m 50ms/step\n"
     ]
    },
    {
     "name": "stderr",
     "output_type": "stream",
     "text": [
      "\r\n",
      "  4%|█▊                                          | 17/400 [00:02<00:48,  7.90it/s]"
     ]
    },
    {
     "name": "stdout",
     "output_type": "stream",
     "text": [
      "\u001b[1m1/1\u001b[0m \u001b[32m━━━━━━━━━━━━━━━━━━━━\u001b[0m\u001b[37m\u001b[0m \u001b[1m0s\u001b[0m 51ms/step\n"
     ]
    },
    {
     "name": "stderr",
     "output_type": "stream",
     "text": [
      "\r\n",
      "  4%|█▉                                          | 18/400 [00:02<00:48,  7.89it/s]"
     ]
    },
    {
     "name": "stdout",
     "output_type": "stream",
     "text": [
      "\u001b[1m1/1\u001b[0m \u001b[32m━━━━━━━━━━━━━━━━━━━━\u001b[0m\u001b[37m\u001b[0m \u001b[1m0s\u001b[0m 50ms/step\n"
     ]
    },
    {
     "name": "stderr",
     "output_type": "stream",
     "text": [
      "\r\n",
      "  5%|██                                          | 19/400 [00:02<00:48,  7.92it/s]"
     ]
    },
    {
     "name": "stdout",
     "output_type": "stream",
     "text": [
      "\u001b[1m1/1\u001b[0m \u001b[32m━━━━━━━━━━━━━━━━━━━━\u001b[0m\u001b[37m\u001b[0m \u001b[1m0s\u001b[0m 52ms/step\n"
     ]
    },
    {
     "name": "stderr",
     "output_type": "stream",
     "text": [
      "\r\n",
      "  5%|██▏                                         | 20/400 [00:02<00:48,  7.77it/s]"
     ]
    },
    {
     "name": "stdout",
     "output_type": "stream",
     "text": [
      "\u001b[1m1/1\u001b[0m \u001b[32m━━━━━━━━━━━━━━━━━━━━\u001b[0m\u001b[37m\u001b[0m \u001b[1m0s\u001b[0m 55ms/step\n"
     ]
    },
    {
     "name": "stderr",
     "output_type": "stream",
     "text": [
      "\r\n",
      "  5%|██▎                                         | 21/400 [00:02<00:49,  7.63it/s]"
     ]
    },
    {
     "name": "stdout",
     "output_type": "stream",
     "text": [
      "\u001b[1m1/1\u001b[0m \u001b[32m━━━━━━━━━━━━━━━━━━━━\u001b[0m\u001b[37m\u001b[0m \u001b[1m0s\u001b[0m 53ms/step\n"
     ]
    },
    {
     "name": "stderr",
     "output_type": "stream",
     "text": [
      "\r\n",
      "  6%|██▍                                         | 22/400 [00:02<00:50,  7.42it/s]"
     ]
    },
    {
     "name": "stdout",
     "output_type": "stream",
     "text": [
      "\u001b[1m1/1\u001b[0m \u001b[32m━━━━━━━━━━━━━━━━━━━━\u001b[0m\u001b[37m\u001b[0m \u001b[1m0s\u001b[0m 53ms/step\n"
     ]
    },
    {
     "name": "stderr",
     "output_type": "stream",
     "text": [
      "\r\n",
      "  6%|██▌                                         | 23/400 [00:02<00:50,  7.40it/s]"
     ]
    },
    {
     "name": "stdout",
     "output_type": "stream",
     "text": [
      "\u001b[1m1/1\u001b[0m \u001b[32m━━━━━━━━━━━━━━━━━━━━\u001b[0m\u001b[37m\u001b[0m \u001b[1m0s\u001b[0m 53ms/step\n"
     ]
    },
    {
     "name": "stderr",
     "output_type": "stream",
     "text": [
      "\r\n",
      "  6%|██▋                                         | 24/400 [00:03<00:50,  7.42it/s]"
     ]
    },
    {
     "name": "stdout",
     "output_type": "stream",
     "text": [
      "\u001b[1m1/1\u001b[0m \u001b[32m━━━━━━━━━━━━━━━━━━━━\u001b[0m\u001b[37m\u001b[0m \u001b[1m0s\u001b[0m 53ms/step\n"
     ]
    },
    {
     "name": "stderr",
     "output_type": "stream",
     "text": [
      "\r\n",
      "  6%|██▊                                         | 25/400 [00:03<00:49,  7.53it/s]"
     ]
    },
    {
     "name": "stdout",
     "output_type": "stream",
     "text": [
      "\u001b[1m1/1\u001b[0m \u001b[32m━━━━━━━━━━━━━━━━━━━━\u001b[0m\u001b[37m\u001b[0m \u001b[1m0s\u001b[0m 53ms/step\n"
     ]
    },
    {
     "name": "stderr",
     "output_type": "stream",
     "text": [
      "\r\n",
      "  6%|██▊                                         | 26/400 [00:03<00:49,  7.50it/s]"
     ]
    },
    {
     "name": "stdout",
     "output_type": "stream",
     "text": [
      "\u001b[1m1/1\u001b[0m \u001b[32m━━━━━━━━━━━━━━━━━━━━\u001b[0m\u001b[37m\u001b[0m \u001b[1m0s\u001b[0m 54ms/step\n"
     ]
    },
    {
     "name": "stderr",
     "output_type": "stream",
     "text": [
      "\r\n",
      "  7%|██▉                                         | 27/400 [00:03<00:49,  7.52it/s]"
     ]
    },
    {
     "name": "stdout",
     "output_type": "stream",
     "text": [
      "\u001b[1m1/1\u001b[0m \u001b[32m━━━━━━━━━━━━━━━━━━━━\u001b[0m\u001b[37m\u001b[0m \u001b[1m0s\u001b[0m 54ms/step\n"
     ]
    },
    {
     "name": "stderr",
     "output_type": "stream",
     "text": [
      "\r\n",
      "  7%|███                                         | 28/400 [00:03<00:49,  7.51it/s]"
     ]
    },
    {
     "name": "stdout",
     "output_type": "stream",
     "text": [
      "\u001b[1m1/1\u001b[0m \u001b[32m━━━━━━━━━━━━━━━━━━━━\u001b[0m\u001b[37m\u001b[0m \u001b[1m0s\u001b[0m 54ms/step\n"
     ]
    },
    {
     "name": "stderr",
     "output_type": "stream",
     "text": [
      "\r\n",
      "  7%|███▏                                        | 29/400 [00:03<00:50,  7.38it/s]"
     ]
    },
    {
     "name": "stdout",
     "output_type": "stream",
     "text": [
      "\u001b[1m1/1\u001b[0m \u001b[32m━━━━━━━━━━━━━━━━━━━━\u001b[0m\u001b[37m\u001b[0m \u001b[1m0s\u001b[0m 53ms/step\n"
     ]
    },
    {
     "name": "stderr",
     "output_type": "stream",
     "text": [
      "\r\n",
      "  8%|███▎                                        | 30/400 [00:03<00:49,  7.49it/s]"
     ]
    },
    {
     "name": "stdout",
     "output_type": "stream",
     "text": [
      "\u001b[1m1/1\u001b[0m \u001b[32m━━━━━━━━━━━━━━━━━━━━\u001b[0m\u001b[37m\u001b[0m \u001b[1m0s\u001b[0m 54ms/step\n"
     ]
    },
    {
     "name": "stderr",
     "output_type": "stream",
     "text": [
      "\r\n",
      "  8%|███▍                                        | 31/400 [00:04<00:48,  7.54it/s]"
     ]
    },
    {
     "name": "stdout",
     "output_type": "stream",
     "text": [
      "\u001b[1m1/1\u001b[0m \u001b[32m━━━━━━━━━━━━━━━━━━━━\u001b[0m\u001b[37m\u001b[0m \u001b[1m0s\u001b[0m 53ms/step\n"
     ]
    },
    {
     "name": "stderr",
     "output_type": "stream",
     "text": [
      "\r\n",
      "  8%|███▌                                        | 32/400 [00:04<00:49,  7.39it/s]"
     ]
    },
    {
     "name": "stdout",
     "output_type": "stream",
     "text": [
      "\u001b[1m1/1\u001b[0m \u001b[32m━━━━━━━━━━━━━━━━━━━━\u001b[0m\u001b[37m\u001b[0m \u001b[1m0s\u001b[0m 53ms/step\n"
     ]
    },
    {
     "name": "stderr",
     "output_type": "stream",
     "text": [
      "\r\n",
      "  8%|███▋                                        | 33/400 [00:04<00:49,  7.48it/s]"
     ]
    },
    {
     "name": "stdout",
     "output_type": "stream",
     "text": [
      "\u001b[1m1/1\u001b[0m \u001b[32m━━━━━━━━━━━━━━━━━━━━\u001b[0m\u001b[37m\u001b[0m \u001b[1m0s\u001b[0m 53ms/step\n"
     ]
    },
    {
     "name": "stderr",
     "output_type": "stream",
     "text": [
      "\r\n",
      "  8%|███▋                                        | 34/400 [00:04<00:50,  7.32it/s]"
     ]
    },
    {
     "name": "stdout",
     "output_type": "stream",
     "text": [
      "\u001b[1m1/1\u001b[0m \u001b[32m━━━━━━━━━━━━━━━━━━━━\u001b[0m\u001b[37m\u001b[0m \u001b[1m0s\u001b[0m 62ms/step\n"
     ]
    },
    {
     "name": "stderr",
     "output_type": "stream",
     "text": [
      "\r\n",
      "  9%|███▊                                        | 35/400 [00:04<00:52,  6.92it/s]"
     ]
    },
    {
     "name": "stdout",
     "output_type": "stream",
     "text": [
      "\u001b[1m1/1\u001b[0m \u001b[32m━━━━━━━━━━━━━━━━━━━━\u001b[0m\u001b[37m\u001b[0m \u001b[1m0s\u001b[0m 54ms/step\n"
     ]
    },
    {
     "name": "stderr",
     "output_type": "stream",
     "text": [
      "\r\n",
      "  9%|███▉                                        | 36/400 [00:04<00:51,  7.06it/s]"
     ]
    },
    {
     "name": "stdout",
     "output_type": "stream",
     "text": [
      "\u001b[1m1/1\u001b[0m \u001b[32m━━━━━━━━━━━━━━━━━━━━\u001b[0m\u001b[37m\u001b[0m \u001b[1m0s\u001b[0m 53ms/step\n"
     ]
    },
    {
     "name": "stderr",
     "output_type": "stream",
     "text": [
      "\r\n",
      "  9%|████                                        | 37/400 [00:04<00:50,  7.25it/s]"
     ]
    },
    {
     "name": "stdout",
     "output_type": "stream",
     "text": [
      "\u001b[1m1/1\u001b[0m \u001b[32m━━━━━━━━━━━━━━━━━━━━\u001b[0m\u001b[37m\u001b[0m \u001b[1m0s\u001b[0m 52ms/step\n"
     ]
    },
    {
     "name": "stderr",
     "output_type": "stream",
     "text": [
      "\r\n",
      " 10%|████▏                                       | 38/400 [00:05<00:50,  7.21it/s]"
     ]
    },
    {
     "name": "stdout",
     "output_type": "stream",
     "text": [
      "\u001b[1m1/1\u001b[0m \u001b[32m━━━━━━━━━━━━━━━━━━━━\u001b[0m\u001b[37m\u001b[0m \u001b[1m0s\u001b[0m 53ms/step\n"
     ]
    },
    {
     "name": "stderr",
     "output_type": "stream",
     "text": [
      "\r\n",
      " 10%|████▎                                       | 39/400 [00:05<00:50,  7.17it/s]"
     ]
    },
    {
     "name": "stdout",
     "output_type": "stream",
     "text": [
      "\u001b[1m1/1\u001b[0m \u001b[32m━━━━━━━━━━━━━━━━━━━━\u001b[0m\u001b[37m\u001b[0m \u001b[1m0s\u001b[0m 54ms/step\n"
     ]
    },
    {
     "name": "stderr",
     "output_type": "stream",
     "text": [
      "\r\n",
      " 10%|████▍                                       | 40/400 [00:05<00:50,  7.17it/s]"
     ]
    },
    {
     "name": "stdout",
     "output_type": "stream",
     "text": [
      "\u001b[1m1/1\u001b[0m \u001b[32m━━━━━━━━━━━━━━━━━━━━\u001b[0m\u001b[37m\u001b[0m \u001b[1m0s\u001b[0m 52ms/step\n"
     ]
    },
    {
     "name": "stderr",
     "output_type": "stream",
     "text": [
      "\r\n",
      " 10%|████▌                                       | 41/400 [00:05<00:48,  7.41it/s]"
     ]
    },
    {
     "name": "stdout",
     "output_type": "stream",
     "text": [
      "\u001b[1m1/1\u001b[0m \u001b[32m━━━━━━━━━━━━━━━━━━━━\u001b[0m\u001b[37m\u001b[0m \u001b[1m0s\u001b[0m 51ms/step\n"
     ]
    },
    {
     "name": "stderr",
     "output_type": "stream",
     "text": [
      "\r\n",
      " 10%|████▌                                       | 42/400 [00:05<00:47,  7.58it/s]"
     ]
    },
    {
     "name": "stdout",
     "output_type": "stream",
     "text": [
      "\u001b[1m1/1\u001b[0m \u001b[32m━━━━━━━━━━━━━━━━━━━━\u001b[0m\u001b[37m\u001b[0m \u001b[1m0s\u001b[0m 50ms/step\n"
     ]
    },
    {
     "name": "stderr",
     "output_type": "stream",
     "text": [
      "\r\n",
      " 11%|████▋                                       | 43/400 [00:05<00:46,  7.63it/s]"
     ]
    },
    {
     "name": "stdout",
     "output_type": "stream",
     "text": [
      "\u001b[1m1/1\u001b[0m \u001b[32m━━━━━━━━━━━━━━━━━━━━\u001b[0m\u001b[37m\u001b[0m \u001b[1m0s\u001b[0m 51ms/step\n"
     ]
    },
    {
     "name": "stderr",
     "output_type": "stream",
     "text": [
      "\r\n",
      " 11%|████▊                                       | 44/400 [00:05<00:46,  7.58it/s]"
     ]
    },
    {
     "name": "stdout",
     "output_type": "stream",
     "text": [
      "\u001b[1m1/1\u001b[0m \u001b[32m━━━━━━━━━━━━━━━━━━━━\u001b[0m\u001b[37m\u001b[0m \u001b[1m0s\u001b[0m 50ms/step\n"
     ]
    },
    {
     "name": "stderr",
     "output_type": "stream",
     "text": [
      "\r\n",
      " 11%|████▉                                       | 45/400 [00:05<00:46,  7.60it/s]"
     ]
    },
    {
     "name": "stdout",
     "output_type": "stream",
     "text": [
      "\u001b[1m1/1\u001b[0m \u001b[32m━━━━━━━━━━━━━━━━━━━━\u001b[0m\u001b[37m\u001b[0m \u001b[1m0s\u001b[0m 50ms/step\n"
     ]
    },
    {
     "name": "stderr",
     "output_type": "stream",
     "text": [
      "\r\n",
      " 12%|█████                                       | 46/400 [00:06<00:45,  7.73it/s]"
     ]
    },
    {
     "name": "stdout",
     "output_type": "stream",
     "text": [
      "\u001b[1m1/1\u001b[0m \u001b[32m━━━━━━━━━━━━━━━━━━━━\u001b[0m\u001b[37m\u001b[0m \u001b[1m0s\u001b[0m 50ms/step\n"
     ]
    },
    {
     "name": "stderr",
     "output_type": "stream",
     "text": [
      "\r\n",
      " 12%|█████▏                                      | 47/400 [00:06<00:45,  7.81it/s]"
     ]
    },
    {
     "name": "stdout",
     "output_type": "stream",
     "text": [
      "\u001b[1m1/1\u001b[0m \u001b[32m━━━━━━━━━━━━━━━━━━━━\u001b[0m\u001b[37m\u001b[0m \u001b[1m0s\u001b[0m 50ms/step\n"
     ]
    },
    {
     "name": "stderr",
     "output_type": "stream",
     "text": [
      "\r\n",
      " 12%|█████▎                                      | 48/400 [00:06<00:45,  7.80it/s]"
     ]
    },
    {
     "name": "stdout",
     "output_type": "stream",
     "text": [
      "\u001b[1m1/1\u001b[0m \u001b[32m━━━━━━━━━━━━━━━━━━━━\u001b[0m\u001b[37m\u001b[0m \u001b[1m0s\u001b[0m 51ms/step\n"
     ]
    },
    {
     "name": "stderr",
     "output_type": "stream",
     "text": [
      "\r\n",
      " 12%|█████▍                                      | 49/400 [00:06<00:44,  7.92it/s]"
     ]
    },
    {
     "name": "stdout",
     "output_type": "stream",
     "text": [
      "\u001b[1m1/1\u001b[0m \u001b[32m━━━━━━━━━━━━━━━━━━━━\u001b[0m\u001b[37m\u001b[0m \u001b[1m0s\u001b[0m 51ms/step\n"
     ]
    },
    {
     "name": "stderr",
     "output_type": "stream",
     "text": [
      "\r\n",
      " 12%|█████▌                                      | 50/400 [00:06<00:44,  7.84it/s]"
     ]
    },
    {
     "name": "stdout",
     "output_type": "stream",
     "text": [
      "\u001b[1m1/1\u001b[0m \u001b[32m━━━━━━━━━━━━━━━━━━━━\u001b[0m\u001b[37m\u001b[0m \u001b[1m0s\u001b[0m 52ms/step\n"
     ]
    },
    {
     "name": "stderr",
     "output_type": "stream",
     "text": [
      "\r\n",
      " 13%|█████▌                                      | 51/400 [00:06<00:46,  7.52it/s]"
     ]
    },
    {
     "name": "stdout",
     "output_type": "stream",
     "text": [
      "\u001b[1m1/1\u001b[0m \u001b[32m━━━━━━━━━━━━━━━━━━━━\u001b[0m\u001b[37m\u001b[0m \u001b[1m0s\u001b[0m 52ms/step\n"
     ]
    },
    {
     "name": "stderr",
     "output_type": "stream",
     "text": [
      "\r\n",
      " 13%|█████▋                                      | 52/400 [00:06<00:46,  7.47it/s]"
     ]
    },
    {
     "name": "stdout",
     "output_type": "stream",
     "text": [
      "\u001b[1m1/1\u001b[0m \u001b[32m━━━━━━━━━━━━━━━━━━━━\u001b[0m\u001b[37m\u001b[0m \u001b[1m0s\u001b[0m 52ms/step\n"
     ]
    },
    {
     "name": "stderr",
     "output_type": "stream",
     "text": [
      "\r\n",
      " 13%|█████▊                                      | 53/400 [00:07<00:45,  7.57it/s]"
     ]
    },
    {
     "name": "stdout",
     "output_type": "stream",
     "text": [
      "\u001b[1m1/1\u001b[0m \u001b[32m━━━━━━━━━━━━━━━━━━━━\u001b[0m\u001b[37m\u001b[0m \u001b[1m0s\u001b[0m 52ms/step\n"
     ]
    },
    {
     "name": "stderr",
     "output_type": "stream",
     "text": [
      "\r\n",
      " 14%|█████▉                                      | 54/400 [00:07<00:45,  7.52it/s]"
     ]
    },
    {
     "name": "stdout",
     "output_type": "stream",
     "text": [
      "\u001b[1m1/1\u001b[0m \u001b[32m━━━━━━━━━━━━━━━━━━━━\u001b[0m\u001b[37m\u001b[0m \u001b[1m0s\u001b[0m 51ms/step\n"
     ]
    },
    {
     "name": "stderr",
     "output_type": "stream",
     "text": [
      "\r\n",
      " 14%|██████                                      | 55/400 [00:07<00:44,  7.69it/s]"
     ]
    },
    {
     "name": "stdout",
     "output_type": "stream",
     "text": [
      "\u001b[1m1/1\u001b[0m \u001b[32m━━━━━━━━━━━━━━━━━━━━\u001b[0m\u001b[37m\u001b[0m \u001b[1m0s\u001b[0m 50ms/step\n"
     ]
    },
    {
     "name": "stderr",
     "output_type": "stream",
     "text": [
      "\r\n",
      " 14%|██████▏                                     | 56/400 [00:07<00:45,  7.57it/s]"
     ]
    },
    {
     "name": "stdout",
     "output_type": "stream",
     "text": [
      "\u001b[1m1/1\u001b[0m \u001b[32m━━━━━━━━━━━━━━━━━━━━\u001b[0m\u001b[37m\u001b[0m \u001b[1m0s\u001b[0m 50ms/step\n"
     ]
    },
    {
     "name": "stderr",
     "output_type": "stream",
     "text": [
      "\r\n",
      " 14%|██████▎                                     | 57/400 [00:07<00:44,  7.70it/s]"
     ]
    },
    {
     "name": "stdout",
     "output_type": "stream",
     "text": [
      "\u001b[1m1/1\u001b[0m \u001b[32m━━━━━━━━━━━━━━━━━━━━\u001b[0m\u001b[37m\u001b[0m \u001b[1m0s\u001b[0m 49ms/step\n"
     ]
    },
    {
     "name": "stderr",
     "output_type": "stream",
     "text": [
      "\r\n",
      " 14%|██████▍                                     | 58/400 [00:07<00:45,  7.59it/s]"
     ]
    },
    {
     "name": "stdout",
     "output_type": "stream",
     "text": [
      "\u001b[1m1/1\u001b[0m \u001b[32m━━━━━━━━━━━━━━━━━━━━\u001b[0m\u001b[37m\u001b[0m \u001b[1m0s\u001b[0m 51ms/step\n"
     ]
    },
    {
     "name": "stderr",
     "output_type": "stream",
     "text": [
      "\r\n",
      " 15%|██████▍                                     | 59/400 [00:07<00:44,  7.74it/s]"
     ]
    },
    {
     "name": "stdout",
     "output_type": "stream",
     "text": [
      "\u001b[1m1/1\u001b[0m \u001b[32m━━━━━━━━━━━━━━━━━━━━\u001b[0m\u001b[37m\u001b[0m \u001b[1m0s\u001b[0m 50ms/step\n"
     ]
    },
    {
     "name": "stderr",
     "output_type": "stream",
     "text": [
      "\r\n",
      " 15%|██████▌                                     | 60/400 [00:07<00:43,  7.81it/s]"
     ]
    },
    {
     "name": "stdout",
     "output_type": "stream",
     "text": [
      "\u001b[1m1/1\u001b[0m \u001b[32m━━━━━━━━━━━━━━━━━━━━\u001b[0m\u001b[37m\u001b[0m \u001b[1m0s\u001b[0m 53ms/step\n"
     ]
    },
    {
     "name": "stderr",
     "output_type": "stream",
     "text": [
      "\r\n",
      " 15%|██████▋                                     | 61/400 [00:08<00:43,  7.79it/s]"
     ]
    },
    {
     "name": "stdout",
     "output_type": "stream",
     "text": [
      "\u001b[1m1/1\u001b[0m \u001b[32m━━━━━━━━━━━━━━━━━━━━\u001b[0m\u001b[37m\u001b[0m \u001b[1m0s\u001b[0m 51ms/step\n"
     ]
    },
    {
     "name": "stderr",
     "output_type": "stream",
     "text": [
      "\r\n",
      " 16%|██████▊                                     | 62/400 [00:08<00:43,  7.78it/s]"
     ]
    },
    {
     "name": "stdout",
     "output_type": "stream",
     "text": [
      "\u001b[1m1/1\u001b[0m \u001b[32m━━━━━━━━━━━━━━━━━━━━\u001b[0m\u001b[37m\u001b[0m \u001b[1m0s\u001b[0m 51ms/step\n"
     ]
    },
    {
     "name": "stderr",
     "output_type": "stream",
     "text": [
      "\r\n",
      " 16%|██████▉                                     | 63/400 [00:08<00:43,  7.79it/s]"
     ]
    },
    {
     "name": "stdout",
     "output_type": "stream",
     "text": [
      "\u001b[1m1/1\u001b[0m \u001b[32m━━━━━━━━━━━━━━━━━━━━\u001b[0m\u001b[37m\u001b[0m \u001b[1m0s\u001b[0m 51ms/step\n"
     ]
    },
    {
     "name": "stderr",
     "output_type": "stream",
     "text": [
      "\r\n",
      " 16%|███████                                     | 64/400 [00:08<00:43,  7.80it/s]"
     ]
    },
    {
     "name": "stdout",
     "output_type": "stream",
     "text": [
      "\u001b[1m1/1\u001b[0m \u001b[32m━━━━━━━━━━━━━━━━━━━━\u001b[0m\u001b[37m\u001b[0m \u001b[1m0s\u001b[0m 51ms/step\n"
     ]
    },
    {
     "name": "stderr",
     "output_type": "stream",
     "text": [
      "\r\n",
      " 16%|███████▏                                    | 65/400 [00:08<00:43,  7.68it/s]"
     ]
    },
    {
     "name": "stdout",
     "output_type": "stream",
     "text": [
      "\u001b[1m1/1\u001b[0m \u001b[32m━━━━━━━━━━━━━━━━━━━━\u001b[0m\u001b[37m\u001b[0m \u001b[1m0s\u001b[0m 51ms/step\n"
     ]
    },
    {
     "name": "stderr",
     "output_type": "stream",
     "text": [
      "\r\n",
      " 16%|███████▎                                    | 66/400 [00:08<00:43,  7.67it/s]"
     ]
    },
    {
     "name": "stdout",
     "output_type": "stream",
     "text": [
      "\u001b[1m1/1\u001b[0m \u001b[32m━━━━━━━━━━━━━━━━━━━━\u001b[0m\u001b[37m\u001b[0m \u001b[1m0s\u001b[0m 52ms/step\n"
     ]
    },
    {
     "name": "stderr",
     "output_type": "stream",
     "text": [
      "\r\n",
      " 17%|███████▎                                    | 67/400 [00:08<00:43,  7.72it/s]"
     ]
    },
    {
     "name": "stdout",
     "output_type": "stream",
     "text": [
      "\u001b[1m1/1\u001b[0m \u001b[32m━━━━━━━━━━━━━━━━━━━━\u001b[0m\u001b[37m\u001b[0m \u001b[1m0s\u001b[0m 51ms/step\n"
     ]
    },
    {
     "name": "stderr",
     "output_type": "stream",
     "text": [
      "\r\n",
      " 17%|███████▍                                    | 68/400 [00:08<00:43,  7.61it/s]"
     ]
    },
    {
     "name": "stdout",
     "output_type": "stream",
     "text": [
      "\u001b[1m1/1\u001b[0m \u001b[32m━━━━━━━━━━━━━━━━━━━━\u001b[0m\u001b[37m\u001b[0m \u001b[1m0s\u001b[0m 51ms/step\n"
     ]
    },
    {
     "name": "stderr",
     "output_type": "stream",
     "text": [
      "\r\n",
      " 17%|███████▌                                    | 69/400 [00:09<00:42,  7.73it/s]"
     ]
    },
    {
     "name": "stdout",
     "output_type": "stream",
     "text": [
      "\u001b[1m1/1\u001b[0m \u001b[32m━━━━━━━━━━━━━━━━━━━━\u001b[0m\u001b[37m\u001b[0m \u001b[1m0s\u001b[0m 52ms/step\n"
     ]
    },
    {
     "name": "stderr",
     "output_type": "stream",
     "text": [
      "\r\n",
      " 18%|███████▋                                    | 70/400 [00:09<00:42,  7.72it/s]"
     ]
    },
    {
     "name": "stdout",
     "output_type": "stream",
     "text": [
      "\u001b[1m1/1\u001b[0m \u001b[32m━━━━━━━━━━━━━━━━━━━━\u001b[0m\u001b[37m\u001b[0m \u001b[1m0s\u001b[0m 53ms/step\n"
     ]
    },
    {
     "name": "stderr",
     "output_type": "stream",
     "text": [
      "\r\n",
      " 18%|███████▊                                    | 71/400 [00:09<00:43,  7.62it/s]"
     ]
    },
    {
     "name": "stdout",
     "output_type": "stream",
     "text": [
      "\u001b[1m1/1\u001b[0m \u001b[32m━━━━━━━━━━━━━━━━━━━━\u001b[0m\u001b[37m\u001b[0m \u001b[1m0s\u001b[0m 51ms/step\n"
     ]
    },
    {
     "name": "stderr",
     "output_type": "stream",
     "text": [
      "\r\n",
      " 18%|███████▉                                    | 72/400 [00:09<00:42,  7.71it/s]"
     ]
    },
    {
     "name": "stdout",
     "output_type": "stream",
     "text": [
      "\u001b[1m1/1\u001b[0m \u001b[32m━━━━━━━━━━━━━━━━━━━━\u001b[0m\u001b[37m\u001b[0m \u001b[1m0s\u001b[0m 52ms/step\n"
     ]
    },
    {
     "name": "stderr",
     "output_type": "stream",
     "text": [
      "\r\n",
      " 18%|████████                                    | 73/400 [00:09<00:42,  7.69it/s]"
     ]
    },
    {
     "name": "stdout",
     "output_type": "stream",
     "text": [
      "\u001b[1m1/1\u001b[0m \u001b[32m━━━━━━━━━━━━━━━━━━━━\u001b[0m\u001b[37m\u001b[0m \u001b[1m0s\u001b[0m 51ms/step\n"
     ]
    },
    {
     "name": "stderr",
     "output_type": "stream",
     "text": [
      "\r\n",
      " 18%|████████▏                                   | 74/400 [00:09<00:41,  7.77it/s]"
     ]
    },
    {
     "name": "stdout",
     "output_type": "stream",
     "text": [
      "\u001b[1m1/1\u001b[0m \u001b[32m━━━━━━━━━━━━━━━━━━━━\u001b[0m\u001b[37m\u001b[0m \u001b[1m0s\u001b[0m 51ms/step\n"
     ]
    },
    {
     "name": "stderr",
     "output_type": "stream",
     "text": [
      "\r\n",
      " 19%|████████▎                                   | 75/400 [00:09<00:41,  7.74it/s]"
     ]
    },
    {
     "name": "stdout",
     "output_type": "stream",
     "text": [
      "\u001b[1m1/1\u001b[0m \u001b[32m━━━━━━━━━━━━━━━━━━━━\u001b[0m\u001b[37m\u001b[0m \u001b[1m0s\u001b[0m 51ms/step\n"
     ]
    },
    {
     "name": "stderr",
     "output_type": "stream",
     "text": [
      "\r\n",
      " 19%|████████▎                                   | 76/400 [00:09<00:42,  7.69it/s]"
     ]
    },
    {
     "name": "stdout",
     "output_type": "stream",
     "text": [
      "\u001b[1m1/1\u001b[0m \u001b[32m━━━━━━━━━━━━━━━━━━━━\u001b[0m\u001b[37m\u001b[0m \u001b[1m0s\u001b[0m 51ms/step\n"
     ]
    },
    {
     "name": "stderr",
     "output_type": "stream",
     "text": [
      "\r\n",
      " 19%|████████▍                                   | 77/400 [00:10<00:42,  7.65it/s]"
     ]
    },
    {
     "name": "stdout",
     "output_type": "stream",
     "text": [
      "\u001b[1m1/1\u001b[0m \u001b[32m━━━━━━━━━━━━━━━━━━━━\u001b[0m\u001b[37m\u001b[0m \u001b[1m0s\u001b[0m 51ms/step\n"
     ]
    },
    {
     "name": "stderr",
     "output_type": "stream",
     "text": [
      "\r\n",
      " 20%|████████▌                                   | 78/400 [00:10<00:42,  7.60it/s]"
     ]
    },
    {
     "name": "stdout",
     "output_type": "stream",
     "text": [
      "\u001b[1m1/1\u001b[0m \u001b[32m━━━━━━━━━━━━━━━━━━━━\u001b[0m\u001b[37m\u001b[0m \u001b[1m0s\u001b[0m 51ms/step\n"
     ]
    },
    {
     "name": "stderr",
     "output_type": "stream",
     "text": [
      "\r\n",
      " 20%|████████▋                                   | 79/400 [00:10<00:42,  7.62it/s]"
     ]
    },
    {
     "name": "stdout",
     "output_type": "stream",
     "text": [
      "\u001b[1m1/1\u001b[0m \u001b[32m━━━━━━━━━━━━━━━━━━━━\u001b[0m\u001b[37m\u001b[0m \u001b[1m0s\u001b[0m 53ms/step\n"
     ]
    },
    {
     "name": "stderr",
     "output_type": "stream",
     "text": [
      "\r\n",
      " 20%|████████▊                                   | 80/400 [00:10<00:42,  7.51it/s]"
     ]
    },
    {
     "name": "stdout",
     "output_type": "stream",
     "text": [
      "\u001b[1m1/1\u001b[0m \u001b[32m━━━━━━━━━━━━━━━━━━━━\u001b[0m\u001b[37m\u001b[0m \u001b[1m0s\u001b[0m 52ms/step\n"
     ]
    },
    {
     "name": "stderr",
     "output_type": "stream",
     "text": [
      "\r\n",
      " 20%|████████▉                                   | 81/400 [00:10<00:42,  7.53it/s]"
     ]
    },
    {
     "name": "stdout",
     "output_type": "stream",
     "text": [
      "\u001b[1m1/1\u001b[0m \u001b[32m━━━━━━━━━━━━━━━━━━━━\u001b[0m\u001b[37m\u001b[0m \u001b[1m0s\u001b[0m 50ms/step\n"
     ]
    },
    {
     "name": "stderr",
     "output_type": "stream",
     "text": [
      "\r\n",
      " 20%|█████████                                   | 82/400 [00:10<00:41,  7.71it/s]"
     ]
    },
    {
     "name": "stdout",
     "output_type": "stream",
     "text": [
      "\u001b[1m1/1\u001b[0m \u001b[32m━━━━━━━━━━━━━━━━━━━━\u001b[0m\u001b[37m\u001b[0m \u001b[1m0s\u001b[0m 49ms/step\n"
     ]
    },
    {
     "name": "stderr",
     "output_type": "stream",
     "text": [
      "\r\n",
      " 21%|█████████▏                                  | 83/400 [00:10<00:40,  7.82it/s]"
     ]
    },
    {
     "name": "stdout",
     "output_type": "stream",
     "text": [
      "\u001b[1m1/1\u001b[0m \u001b[32m━━━━━━━━━━━━━━━━━━━━\u001b[0m\u001b[37m\u001b[0m \u001b[1m0s\u001b[0m 50ms/step\n"
     ]
    },
    {
     "name": "stderr",
     "output_type": "stream",
     "text": [
      "\r\n",
      " 21%|█████████▏                                  | 84/400 [00:11<00:39,  7.93it/s]"
     ]
    },
    {
     "name": "stdout",
     "output_type": "stream",
     "text": [
      "\u001b[1m1/1\u001b[0m \u001b[32m━━━━━━━━━━━━━━━━━━━━\u001b[0m\u001b[37m\u001b[0m \u001b[1m0s\u001b[0m 49ms/step\n"
     ]
    },
    {
     "name": "stderr",
     "output_type": "stream",
     "text": [
      "\r\n",
      " 21%|█████████▎                                  | 85/400 [00:11<00:39,  8.03it/s]"
     ]
    },
    {
     "name": "stdout",
     "output_type": "stream",
     "text": [
      "\u001b[1m1/1\u001b[0m \u001b[32m━━━━━━━━━━━━━━━━━━━━\u001b[0m\u001b[37m\u001b[0m \u001b[1m0s\u001b[0m 51ms/step\n"
     ]
    },
    {
     "name": "stderr",
     "output_type": "stream",
     "text": [
      "\r\n",
      " 22%|█████████▍                                  | 86/400 [00:11<00:39,  7.91it/s]"
     ]
    },
    {
     "name": "stdout",
     "output_type": "stream",
     "text": [
      "\u001b[1m1/1\u001b[0m \u001b[32m━━━━━━━━━━━━━━━━━━━━\u001b[0m\u001b[37m\u001b[0m \u001b[1m0s\u001b[0m 50ms/step\n"
     ]
    },
    {
     "name": "stderr",
     "output_type": "stream",
     "text": [
      "\r\n",
      " 22%|█████████▌                                  | 87/400 [00:11<00:39,  7.87it/s]"
     ]
    },
    {
     "name": "stdout",
     "output_type": "stream",
     "text": [
      "\u001b[1m1/1\u001b[0m \u001b[32m━━━━━━━━━━━━━━━━━━━━\u001b[0m\u001b[37m\u001b[0m \u001b[1m0s\u001b[0m 50ms/step\n"
     ]
    },
    {
     "name": "stderr",
     "output_type": "stream",
     "text": [
      "\r\n",
      " 22%|█████████▋                                  | 88/400 [00:11<00:39,  7.96it/s]"
     ]
    },
    {
     "name": "stdout",
     "output_type": "stream",
     "text": [
      "\u001b[1m1/1\u001b[0m \u001b[32m━━━━━━━━━━━━━━━━━━━━\u001b[0m\u001b[37m\u001b[0m \u001b[1m0s\u001b[0m 50ms/step\n"
     ]
    },
    {
     "name": "stderr",
     "output_type": "stream",
     "text": [
      "\r\n",
      " 22%|█████████▊                                  | 89/400 [00:11<00:38,  7.99it/s]"
     ]
    },
    {
     "name": "stdout",
     "output_type": "stream",
     "text": [
      "\u001b[1m1/1\u001b[0m \u001b[32m━━━━━━━━━━━━━━━━━━━━\u001b[0m\u001b[37m\u001b[0m \u001b[1m0s\u001b[0m 50ms/step\n"
     ]
    },
    {
     "name": "stderr",
     "output_type": "stream",
     "text": [
      "\r\n",
      " 22%|█████████▉                                  | 90/400 [00:11<00:39,  7.89it/s]"
     ]
    },
    {
     "name": "stdout",
     "output_type": "stream",
     "text": [
      "\u001b[1m1/1\u001b[0m \u001b[32m━━━━━━━━━━━━━━━━━━━━\u001b[0m\u001b[37m\u001b[0m \u001b[1m0s\u001b[0m 50ms/step\n"
     ]
    },
    {
     "name": "stderr",
     "output_type": "stream",
     "text": [
      "\r\n",
      " 23%|██████████                                  | 91/400 [00:11<00:39,  7.89it/s]"
     ]
    },
    {
     "name": "stdout",
     "output_type": "stream",
     "text": [
      "\u001b[1m1/1\u001b[0m \u001b[32m━━━━━━━━━━━━━━━━━━━━\u001b[0m\u001b[37m\u001b[0m \u001b[1m0s\u001b[0m 50ms/step\n"
     ]
    },
    {
     "name": "stderr",
     "output_type": "stream",
     "text": [
      "\r\n",
      " 23%|██████████                                  | 92/400 [00:12<00:40,  7.66it/s]"
     ]
    },
    {
     "name": "stdout",
     "output_type": "stream",
     "text": [
      "\u001b[1m1/1\u001b[0m \u001b[32m━━━━━━━━━━━━━━━━━━━━\u001b[0m\u001b[37m\u001b[0m \u001b[1m0s\u001b[0m 51ms/step\n"
     ]
    },
    {
     "name": "stderr",
     "output_type": "stream",
     "text": [
      "\r\n",
      " 23%|██████████▏                                 | 93/400 [00:12<00:39,  7.69it/s]"
     ]
    },
    {
     "name": "stdout",
     "output_type": "stream",
     "text": [
      "\u001b[1m1/1\u001b[0m \u001b[32m━━━━━━━━━━━━━━━━━━━━\u001b[0m\u001b[37m\u001b[0m \u001b[1m0s\u001b[0m 50ms/step\n"
     ]
    },
    {
     "name": "stderr",
     "output_type": "stream",
     "text": [
      "\r\n",
      " 24%|██████████▎                                 | 94/400 [00:12<00:38,  7.86it/s]"
     ]
    },
    {
     "name": "stdout",
     "output_type": "stream",
     "text": [
      "\u001b[1m1/1\u001b[0m \u001b[32m━━━━━━━━━━━━━━━━━━━━\u001b[0m\u001b[37m\u001b[0m \u001b[1m0s\u001b[0m 50ms/step\n"
     ]
    },
    {
     "name": "stderr",
     "output_type": "stream",
     "text": [
      "\r\n",
      " 24%|██████████▍                                 | 95/400 [00:12<00:38,  7.95it/s]"
     ]
    },
    {
     "name": "stdout",
     "output_type": "stream",
     "text": [
      "\u001b[1m1/1\u001b[0m \u001b[32m━━━━━━━━━━━━━━━━━━━━\u001b[0m\u001b[37m\u001b[0m \u001b[1m0s\u001b[0m 51ms/step\n"
     ]
    },
    {
     "name": "stderr",
     "output_type": "stream",
     "text": [
      "\r\n",
      " 24%|██████████▌                                 | 96/400 [00:12<00:38,  7.97it/s]"
     ]
    },
    {
     "name": "stdout",
     "output_type": "stream",
     "text": [
      "\u001b[1m1/1\u001b[0m \u001b[32m━━━━━━━━━━━━━━━━━━━━\u001b[0m\u001b[37m\u001b[0m \u001b[1m0s\u001b[0m 50ms/step\n"
     ]
    },
    {
     "name": "stderr",
     "output_type": "stream",
     "text": [
      "\r\n",
      " 24%|██████████▋                                 | 97/400 [00:12<00:37,  8.05it/s]"
     ]
    },
    {
     "name": "stdout",
     "output_type": "stream",
     "text": [
      "\u001b[1m1/1\u001b[0m \u001b[32m━━━━━━━━━━━━━━━━━━━━\u001b[0m\u001b[37m\u001b[0m \u001b[1m0s\u001b[0m 51ms/step\n"
     ]
    },
    {
     "name": "stderr",
     "output_type": "stream",
     "text": [
      "\r\n",
      " 24%|██████████▊                                 | 98/400 [00:12<00:37,  8.08it/s]"
     ]
    },
    {
     "name": "stdout",
     "output_type": "stream",
     "text": [
      "\u001b[1m1/1\u001b[0m \u001b[32m━━━━━━━━━━━━━━━━━━━━\u001b[0m\u001b[37m\u001b[0m \u001b[1m0s\u001b[0m 50ms/step\n"
     ]
    },
    {
     "name": "stderr",
     "output_type": "stream",
     "text": [
      "\r\n",
      " 25%|██████████▉                                 | 99/400 [00:12<00:37,  8.00it/s]"
     ]
    },
    {
     "name": "stdout",
     "output_type": "stream",
     "text": [
      "\u001b[1m1/1\u001b[0m \u001b[32m━━━━━━━━━━━━━━━━━━━━\u001b[0m\u001b[37m\u001b[0m \u001b[1m0s\u001b[0m 50ms/step\n"
     ]
    },
    {
     "name": "stderr",
     "output_type": "stream",
     "text": [
      "\r\n",
      " 25%|██████████▊                                | 100/400 [00:13<00:37,  8.06it/s]"
     ]
    },
    {
     "name": "stdout",
     "output_type": "stream",
     "text": [
      "\u001b[1m1/1\u001b[0m \u001b[32m━━━━━━━━━━━━━━━━━━━━\u001b[0m\u001b[37m\u001b[0m \u001b[1m0s\u001b[0m 50ms/step\n"
     ]
    },
    {
     "name": "stderr",
     "output_type": "stream",
     "text": [
      "\r\n",
      " 25%|██████████▊                                | 101/400 [00:13<00:36,  8.09it/s]"
     ]
    },
    {
     "name": "stdout",
     "output_type": "stream",
     "text": [
      "\u001b[1m1/1\u001b[0m \u001b[32m━━━━━━━━━━━━━━━━━━━━\u001b[0m\u001b[37m\u001b[0m \u001b[1m0s\u001b[0m 50ms/step\n"
     ]
    },
    {
     "name": "stderr",
     "output_type": "stream",
     "text": [
      "\r\n",
      " 26%|██████████▉                                | 102/400 [00:13<00:37,  8.01it/s]"
     ]
    },
    {
     "name": "stdout",
     "output_type": "stream",
     "text": [
      "\u001b[1m1/1\u001b[0m \u001b[32m━━━━━━━━━━━━━━━━━━━━\u001b[0m\u001b[37m\u001b[0m \u001b[1m0s\u001b[0m 50ms/step\n"
     ]
    },
    {
     "name": "stderr",
     "output_type": "stream",
     "text": [
      "\r\n",
      " 26%|███████████                                | 103/400 [00:13<00:37,  7.84it/s]"
     ]
    },
    {
     "name": "stdout",
     "output_type": "stream",
     "text": [
      "\u001b[1m1/1\u001b[0m \u001b[32m━━━━━━━━━━━━━━━━━━━━\u001b[0m\u001b[37m\u001b[0m \u001b[1m0s\u001b[0m 51ms/step\n"
     ]
    },
    {
     "name": "stderr",
     "output_type": "stream",
     "text": [
      "\r\n",
      " 26%|███████████▏                               | 104/400 [00:13<00:38,  7.64it/s]"
     ]
    },
    {
     "name": "stdout",
     "output_type": "stream",
     "text": [
      "\u001b[1m1/1\u001b[0m \u001b[32m━━━━━━━━━━━━━━━━━━━━\u001b[0m\u001b[37m\u001b[0m \u001b[1m0s\u001b[0m 52ms/step\n"
     ]
    },
    {
     "name": "stderr",
     "output_type": "stream",
     "text": [
      "\r\n",
      " 26%|███████████▎                               | 105/400 [00:13<00:40,  7.36it/s]"
     ]
    },
    {
     "name": "stdout",
     "output_type": "stream",
     "text": [
      "\u001b[1m1/1\u001b[0m \u001b[32m━━━━━━━━━━━━━━━━━━━━\u001b[0m\u001b[37m\u001b[0m \u001b[1m0s\u001b[0m 53ms/step\n"
     ]
    },
    {
     "name": "stderr",
     "output_type": "stream",
     "text": [
      "\r\n",
      " 26%|███████████▍                               | 106/400 [00:13<00:40,  7.29it/s]"
     ]
    },
    {
     "name": "stdout",
     "output_type": "stream",
     "text": [
      "\u001b[1m1/1\u001b[0m \u001b[32m━━━━━━━━━━━━━━━━━━━━\u001b[0m\u001b[37m\u001b[0m \u001b[1m0s\u001b[0m 51ms/step\n"
     ]
    },
    {
     "name": "stderr",
     "output_type": "stream",
     "text": [
      "\r\n",
      " 27%|███████████▌                               | 107/400 [00:13<00:39,  7.42it/s]"
     ]
    },
    {
     "name": "stdout",
     "output_type": "stream",
     "text": [
      "\u001b[1m1/1\u001b[0m \u001b[32m━━━━━━━━━━━━━━━━━━━━\u001b[0m\u001b[37m\u001b[0m \u001b[1m0s\u001b[0m 51ms/step\n"
     ]
    },
    {
     "name": "stderr",
     "output_type": "stream",
     "text": [
      "\r\n",
      " 27%|███████████▌                               | 108/400 [00:14<00:38,  7.50it/s]"
     ]
    },
    {
     "name": "stdout",
     "output_type": "stream",
     "text": [
      "\u001b[1m1/1\u001b[0m \u001b[32m━━━━━━━━━━━━━━━━━━━━\u001b[0m\u001b[37m\u001b[0m \u001b[1m0s\u001b[0m 50ms/step\n"
     ]
    },
    {
     "name": "stderr",
     "output_type": "stream",
     "text": [
      "\r\n",
      " 27%|███████████▋                               | 109/400 [00:14<00:38,  7.48it/s]"
     ]
    },
    {
     "name": "stdout",
     "output_type": "stream",
     "text": [
      "\u001b[1m1/1\u001b[0m \u001b[32m━━━━━━━━━━━━━━━━━━━━\u001b[0m\u001b[37m\u001b[0m \u001b[1m0s\u001b[0m 50ms/step\n"
     ]
    },
    {
     "name": "stderr",
     "output_type": "stream",
     "text": [
      "\r\n",
      " 28%|███████████▊                               | 110/400 [00:14<00:38,  7.56it/s]"
     ]
    },
    {
     "name": "stdout",
     "output_type": "stream",
     "text": [
      "\u001b[1m1/1\u001b[0m \u001b[32m━━━━━━━━━━━━━━━━━━━━\u001b[0m\u001b[37m\u001b[0m \u001b[1m0s\u001b[0m 52ms/step\n"
     ]
    },
    {
     "name": "stderr",
     "output_type": "stream",
     "text": [
      "\r\n",
      " 28%|███████████▉                               | 111/400 [00:14<00:38,  7.58it/s]"
     ]
    },
    {
     "name": "stdout",
     "output_type": "stream",
     "text": [
      "\u001b[1m1/1\u001b[0m \u001b[32m━━━━━━━━━━━━━━━━━━━━\u001b[0m\u001b[37m\u001b[0m \u001b[1m0s\u001b[0m 50ms/step\n"
     ]
    },
    {
     "name": "stderr",
     "output_type": "stream",
     "text": [
      "\r\n",
      " 28%|████████████                               | 112/400 [00:14<00:37,  7.60it/s]"
     ]
    },
    {
     "name": "stdout",
     "output_type": "stream",
     "text": [
      "\u001b[1m1/1\u001b[0m \u001b[32m━━━━━━━━━━━━━━━━━━━━\u001b[0m\u001b[37m\u001b[0m \u001b[1m0s\u001b[0m 50ms/step\n"
     ]
    },
    {
     "name": "stderr",
     "output_type": "stream",
     "text": [
      "\r\n",
      " 28%|████████████▏                              | 113/400 [00:14<00:37,  7.65it/s]"
     ]
    },
    {
     "name": "stdout",
     "output_type": "stream",
     "text": [
      "\u001b[1m1/1\u001b[0m \u001b[32m━━━━━━━━━━━━━━━━━━━━\u001b[0m\u001b[37m\u001b[0m \u001b[1m0s\u001b[0m 49ms/step\n"
     ]
    },
    {
     "name": "stderr",
     "output_type": "stream",
     "text": [
      "\r\n",
      " 28%|████████████▎                              | 114/400 [00:14<00:36,  7.77it/s]"
     ]
    },
    {
     "name": "stdout",
     "output_type": "stream",
     "text": [
      "\u001b[1m1/1\u001b[0m \u001b[32m━━━━━━━━━━━━━━━━━━━━\u001b[0m\u001b[37m\u001b[0m \u001b[1m0s\u001b[0m 50ms/step\n"
     ]
    },
    {
     "name": "stderr",
     "output_type": "stream",
     "text": [
      "\r\n",
      " 29%|████████████▎                              | 115/400 [00:15<00:36,  7.78it/s]"
     ]
    },
    {
     "name": "stdout",
     "output_type": "stream",
     "text": [
      "\u001b[1m1/1\u001b[0m \u001b[32m━━━━━━━━━━━━━━━━━━━━\u001b[0m\u001b[37m\u001b[0m \u001b[1m0s\u001b[0m 51ms/step\n"
     ]
    },
    {
     "name": "stderr",
     "output_type": "stream",
     "text": [
      "\r\n",
      " 29%|████████████▍                              | 116/400 [00:15<00:37,  7.65it/s]"
     ]
    },
    {
     "name": "stdout",
     "output_type": "stream",
     "text": [
      "\u001b[1m1/1\u001b[0m \u001b[32m━━━━━━━━━━━━━━━━━━━━\u001b[0m\u001b[37m\u001b[0m \u001b[1m0s\u001b[0m 53ms/step\n"
     ]
    },
    {
     "name": "stderr",
     "output_type": "stream",
     "text": [
      "\r\n",
      " 29%|████████████▌                              | 117/400 [00:15<00:37,  7.53it/s]"
     ]
    },
    {
     "name": "stdout",
     "output_type": "stream",
     "text": [
      "\u001b[1m1/1\u001b[0m \u001b[32m━━━━━━━━━━━━━━━━━━━━\u001b[0m\u001b[37m\u001b[0m \u001b[1m0s\u001b[0m 52ms/step\n"
     ]
    },
    {
     "name": "stderr",
     "output_type": "stream",
     "text": [
      "\r\n",
      " 30%|████████████▋                              | 118/400 [00:15<00:37,  7.62it/s]"
     ]
    },
    {
     "name": "stdout",
     "output_type": "stream",
     "text": [
      "\u001b[1m1/1\u001b[0m \u001b[32m━━━━━━━━━━━━━━━━━━━━\u001b[0m\u001b[37m\u001b[0m \u001b[1m0s\u001b[0m 51ms/step\n"
     ]
    },
    {
     "name": "stderr",
     "output_type": "stream",
     "text": [
      "\r\n",
      " 30%|████████████▊                              | 119/400 [00:15<00:36,  7.67it/s]"
     ]
    },
    {
     "name": "stdout",
     "output_type": "stream",
     "text": [
      "\u001b[1m1/1\u001b[0m \u001b[32m━━━━━━━━━━━━━━━━━━━━\u001b[0m\u001b[37m\u001b[0m \u001b[1m0s\u001b[0m 51ms/step\n"
     ]
    },
    {
     "name": "stderr",
     "output_type": "stream",
     "text": [
      "\r\n",
      " 30%|████████████▉                              | 120/400 [00:15<00:36,  7.73it/s]"
     ]
    },
    {
     "name": "stdout",
     "output_type": "stream",
     "text": [
      "\u001b[1m1/1\u001b[0m \u001b[32m━━━━━━━━━━━━━━━━━━━━\u001b[0m\u001b[37m\u001b[0m \u001b[1m0s\u001b[0m 53ms/step\n"
     ]
    },
    {
     "name": "stderr",
     "output_type": "stream",
     "text": [
      "\r\n",
      " 30%|█████████████                              | 121/400 [00:15<00:37,  7.53it/s]"
     ]
    },
    {
     "name": "stdout",
     "output_type": "stream",
     "text": [
      "\u001b[1m1/1\u001b[0m \u001b[32m━━━━━━━━━━━━━━━━━━━━\u001b[0m\u001b[37m\u001b[0m \u001b[1m0s\u001b[0m 50ms/step\n"
     ]
    },
    {
     "name": "stderr",
     "output_type": "stream",
     "text": [
      "\r\n",
      " 30%|█████████████                              | 122/400 [00:15<00:36,  7.67it/s]"
     ]
    },
    {
     "name": "stdout",
     "output_type": "stream",
     "text": [
      "\u001b[1m1/1\u001b[0m \u001b[32m━━━━━━━━━━━━━━━━━━━━\u001b[0m\u001b[37m\u001b[0m \u001b[1m0s\u001b[0m 49ms/step\n"
     ]
    },
    {
     "name": "stderr",
     "output_type": "stream",
     "text": [
      "\r\n",
      " 31%|█████████████▏                             | 123/400 [00:16<00:36,  7.54it/s]"
     ]
    },
    {
     "name": "stdout",
     "output_type": "stream",
     "text": [
      "\u001b[1m1/1\u001b[0m \u001b[32m━━━━━━━━━━━━━━━━━━━━\u001b[0m\u001b[37m\u001b[0m \u001b[1m0s\u001b[0m 50ms/step\n"
     ]
    },
    {
     "name": "stderr",
     "output_type": "stream",
     "text": [
      "\r\n",
      " 31%|█████████████▎                             | 124/400 [00:16<00:37,  7.45it/s]"
     ]
    },
    {
     "name": "stdout",
     "output_type": "stream",
     "text": [
      "\u001b[1m1/1\u001b[0m \u001b[32m━━━━━━━━━━━━━━━━━━━━\u001b[0m\u001b[37m\u001b[0m \u001b[1m0s\u001b[0m 50ms/step\n"
     ]
    },
    {
     "name": "stderr",
     "output_type": "stream",
     "text": [
      "\r\n",
      " 31%|█████████████▍                             | 125/400 [00:16<00:36,  7.61it/s]"
     ]
    },
    {
     "name": "stdout",
     "output_type": "stream",
     "text": [
      "\u001b[1m1/1\u001b[0m \u001b[32m━━━━━━━━━━━━━━━━━━━━\u001b[0m\u001b[37m\u001b[0m \u001b[1m0s\u001b[0m 51ms/step\n"
     ]
    },
    {
     "name": "stderr",
     "output_type": "stream",
     "text": [
      "\r\n",
      " 32%|█████████████▌                             | 126/400 [00:16<00:36,  7.60it/s]"
     ]
    },
    {
     "name": "stdout",
     "output_type": "stream",
     "text": [
      "\u001b[1m1/1\u001b[0m \u001b[32m━━━━━━━━━━━━━━━━━━━━\u001b[0m\u001b[37m\u001b[0m \u001b[1m0s\u001b[0m 51ms/step\n"
     ]
    },
    {
     "name": "stderr",
     "output_type": "stream",
     "text": [
      "\r\n",
      " 32%|█████████████▋                             | 127/400 [00:16<00:34,  7.80it/s]"
     ]
    },
    {
     "name": "stdout",
     "output_type": "stream",
     "text": [
      "\u001b[1m1/1\u001b[0m \u001b[32m━━━━━━━━━━━━━━━━━━━━\u001b[0m\u001b[37m\u001b[0m \u001b[1m0s\u001b[0m 51ms/step\n"
     ]
    },
    {
     "name": "stderr",
     "output_type": "stream",
     "text": [
      "\r\n",
      " 32%|█████████████▊                             | 128/400 [00:16<00:34,  7.86it/s]"
     ]
    },
    {
     "name": "stdout",
     "output_type": "stream",
     "text": [
      "\u001b[1m1/1\u001b[0m \u001b[32m━━━━━━━━━━━━━━━━━━━━\u001b[0m\u001b[37m\u001b[0m \u001b[1m0s\u001b[0m 50ms/step\n"
     ]
    },
    {
     "name": "stderr",
     "output_type": "stream",
     "text": [
      "\r\n",
      " 32%|█████████████▊                             | 129/400 [00:16<00:33,  8.00it/s]"
     ]
    },
    {
     "name": "stdout",
     "output_type": "stream",
     "text": [
      "\u001b[1m1/1\u001b[0m \u001b[32m━━━━━━━━━━━━━━━━━━━━\u001b[0m\u001b[37m\u001b[0m \u001b[1m0s\u001b[0m 50ms/step\n"
     ]
    },
    {
     "name": "stderr",
     "output_type": "stream",
     "text": [
      "\r\n",
      " 32%|█████████████▉                             | 130/400 [00:16<00:33,  8.01it/s]"
     ]
    },
    {
     "name": "stdout",
     "output_type": "stream",
     "text": [
      "\u001b[1m1/1\u001b[0m \u001b[32m━━━━━━━━━━━━━━━━━━━━\u001b[0m\u001b[37m\u001b[0m \u001b[1m0s\u001b[0m 50ms/step\n"
     ]
    },
    {
     "name": "stderr",
     "output_type": "stream",
     "text": [
      "\r\n",
      " 33%|██████████████                             | 131/400 [00:17<00:33,  8.07it/s]"
     ]
    },
    {
     "name": "stdout",
     "output_type": "stream",
     "text": [
      "\u001b[1m1/1\u001b[0m \u001b[32m━━━━━━━━━━━━━━━━━━━━\u001b[0m\u001b[37m\u001b[0m \u001b[1m0s\u001b[0m 49ms/step\n"
     ]
    },
    {
     "name": "stderr",
     "output_type": "stream",
     "text": [
      "\r\n",
      " 33%|██████████████▏                            | 132/400 [00:17<00:33,  8.01it/s]"
     ]
    },
    {
     "name": "stdout",
     "output_type": "stream",
     "text": [
      "\u001b[1m1/1\u001b[0m \u001b[32m━━━━━━━━━━━━━━━━━━━━\u001b[0m\u001b[37m\u001b[0m \u001b[1m0s\u001b[0m 50ms/step\n"
     ]
    },
    {
     "name": "stderr",
     "output_type": "stream",
     "text": [
      "\r\n",
      " 33%|██████████████▎                            | 133/400 [00:17<00:33,  7.99it/s]"
     ]
    },
    {
     "name": "stdout",
     "output_type": "stream",
     "text": [
      "\u001b[1m1/1\u001b[0m \u001b[32m━━━━━━━━━━━━━━━━━━━━\u001b[0m\u001b[37m\u001b[0m \u001b[1m0s\u001b[0m 49ms/step\n"
     ]
    },
    {
     "name": "stderr",
     "output_type": "stream",
     "text": [
      "\r\n",
      " 34%|██████████████▍                            | 134/400 [00:17<00:33,  8.04it/s]"
     ]
    },
    {
     "name": "stdout",
     "output_type": "stream",
     "text": [
      "\u001b[1m1/1\u001b[0m \u001b[32m━━━━━━━━━━━━━━━━━━━━\u001b[0m\u001b[37m\u001b[0m \u001b[1m0s\u001b[0m 49ms/step\n"
     ]
    },
    {
     "name": "stderr",
     "output_type": "stream",
     "text": [
      "\r\n",
      " 34%|██████████████▌                            | 135/400 [00:17<00:32,  8.14it/s]"
     ]
    },
    {
     "name": "stdout",
     "output_type": "stream",
     "text": [
      "\u001b[1m1/1\u001b[0m \u001b[32m━━━━━━━━━━━━━━━━━━━━\u001b[0m\u001b[37m\u001b[0m \u001b[1m0s\u001b[0m 49ms/step\n"
     ]
    },
    {
     "name": "stderr",
     "output_type": "stream",
     "text": [
      "\r\n",
      " 34%|██████████████▌                            | 136/400 [00:17<00:32,  8.22it/s]"
     ]
    },
    {
     "name": "stdout",
     "output_type": "stream",
     "text": [
      "\u001b[1m1/1\u001b[0m \u001b[32m━━━━━━━━━━━━━━━━━━━━\u001b[0m\u001b[37m\u001b[0m \u001b[1m0s\u001b[0m 48ms/step\n"
     ]
    },
    {
     "name": "stderr",
     "output_type": "stream",
     "text": [
      "\r\n",
      " 34%|██████████████▋                            | 137/400 [00:17<00:32,  8.16it/s]"
     ]
    },
    {
     "name": "stdout",
     "output_type": "stream",
     "text": [
      "\u001b[1m1/1\u001b[0m \u001b[32m━━━━━━━━━━━━━━━━━━━━\u001b[0m\u001b[37m\u001b[0m \u001b[1m0s\u001b[0m 49ms/step\n"
     ]
    },
    {
     "name": "stderr",
     "output_type": "stream",
     "text": [
      "\r\n",
      " 34%|██████████████▊                            | 138/400 [00:17<00:32,  8.09it/s]"
     ]
    },
    {
     "name": "stdout",
     "output_type": "stream",
     "text": [
      "\u001b[1m1/1\u001b[0m \u001b[32m━━━━━━━━━━━━━━━━━━━━\u001b[0m\u001b[37m\u001b[0m \u001b[1m0s\u001b[0m 49ms/step\n"
     ]
    },
    {
     "name": "stderr",
     "output_type": "stream",
     "text": [
      "\r\n",
      " 35%|██████████████▉                            | 139/400 [00:18<00:32,  8.08it/s]"
     ]
    },
    {
     "name": "stdout",
     "output_type": "stream",
     "text": [
      "\u001b[1m1/1\u001b[0m \u001b[32m━━━━━━━━━━━━━━━━━━━━\u001b[0m\u001b[37m\u001b[0m \u001b[1m0s\u001b[0m 50ms/step\n"
     ]
    },
    {
     "name": "stderr",
     "output_type": "stream",
     "text": [
      "\r\n",
      " 35%|███████████████                            | 140/400 [00:18<00:32,  7.91it/s]"
     ]
    },
    {
     "name": "stdout",
     "output_type": "stream",
     "text": [
      "\u001b[1m1/1\u001b[0m \u001b[32m━━━━━━━━━━━━━━━━━━━━\u001b[0m\u001b[37m\u001b[0m \u001b[1m0s\u001b[0m 54ms/step\n"
     ]
    },
    {
     "name": "stderr",
     "output_type": "stream",
     "text": [
      "\r\n",
      " 35%|███████████████▏                           | 141/400 [00:18<00:33,  7.74it/s]"
     ]
    },
    {
     "name": "stdout",
     "output_type": "stream",
     "text": [
      "\u001b[1m1/1\u001b[0m \u001b[32m━━━━━━━━━━━━━━━━━━━━\u001b[0m\u001b[37m\u001b[0m \u001b[1m0s\u001b[0m 51ms/step\n"
     ]
    },
    {
     "name": "stderr",
     "output_type": "stream",
     "text": [
      "\r\n",
      " 36%|███████████████▎                           | 142/400 [00:18<00:33,  7.79it/s]"
     ]
    },
    {
     "name": "stdout",
     "output_type": "stream",
     "text": [
      "\u001b[1m1/1\u001b[0m \u001b[32m━━━━━━━━━━━━━━━━━━━━\u001b[0m\u001b[37m\u001b[0m \u001b[1m0s\u001b[0m 52ms/step\n"
     ]
    },
    {
     "name": "stderr",
     "output_type": "stream",
     "text": [
      "\r\n",
      " 36%|███████████████▎                           | 143/400 [00:18<00:33,  7.78it/s]"
     ]
    },
    {
     "name": "stdout",
     "output_type": "stream",
     "text": [
      "\u001b[1m1/1\u001b[0m \u001b[32m━━━━━━━━━━━━━━━━━━━━\u001b[0m\u001b[37m\u001b[0m \u001b[1m0s\u001b[0m 51ms/step\n"
     ]
    },
    {
     "name": "stderr",
     "output_type": "stream",
     "text": [
      "\r\n",
      " 36%|███████████████▍                           | 144/400 [00:18<00:32,  7.80it/s]"
     ]
    },
    {
     "name": "stdout",
     "output_type": "stream",
     "text": [
      "\u001b[1m1/1\u001b[0m \u001b[32m━━━━━━━━━━━━━━━━━━━━\u001b[0m\u001b[37m\u001b[0m \u001b[1m0s\u001b[0m 52ms/step\n"
     ]
    },
    {
     "name": "stderr",
     "output_type": "stream",
     "text": [
      "\r\n",
      " 36%|███████████████▌                           | 145/400 [00:18<00:32,  7.86it/s]"
     ]
    },
    {
     "name": "stdout",
     "output_type": "stream",
     "text": [
      "\u001b[1m1/1\u001b[0m \u001b[32m━━━━━━━━━━━━━━━━━━━━\u001b[0m\u001b[37m\u001b[0m \u001b[1m0s\u001b[0m 51ms/step\n"
     ]
    },
    {
     "name": "stderr",
     "output_type": "stream",
     "text": [
      "\r\n",
      " 36%|███████████████▋                           | 146/400 [00:18<00:32,  7.92it/s]"
     ]
    },
    {
     "name": "stdout",
     "output_type": "stream",
     "text": [
      "\u001b[1m1/1\u001b[0m \u001b[32m━━━━━━━━━━━━━━━━━━━━\u001b[0m\u001b[37m\u001b[0m \u001b[1m0s\u001b[0m 50ms/step\n"
     ]
    },
    {
     "name": "stderr",
     "output_type": "stream",
     "text": [
      "\r\n",
      " 37%|███████████████▊                           | 147/400 [00:19<00:31,  7.97it/s]"
     ]
    },
    {
     "name": "stdout",
     "output_type": "stream",
     "text": [
      "\u001b[1m1/1\u001b[0m \u001b[32m━━━━━━━━━━━━━━━━━━━━\u001b[0m\u001b[37m\u001b[0m \u001b[1m0s\u001b[0m 51ms/step\n"
     ]
    },
    {
     "name": "stderr",
     "output_type": "stream",
     "text": [
      "\r\n",
      " 37%|███████████████▉                           | 148/400 [00:19<00:31,  8.04it/s]"
     ]
    },
    {
     "name": "stdout",
     "output_type": "stream",
     "text": [
      "\u001b[1m1/1\u001b[0m \u001b[32m━━━━━━━━━━━━━━━━━━━━\u001b[0m\u001b[37m\u001b[0m \u001b[1m0s\u001b[0m 50ms/step\n"
     ]
    },
    {
     "name": "stderr",
     "output_type": "stream",
     "text": [
      "\r\n",
      " 37%|████████████████                           | 149/400 [00:19<00:31,  7.99it/s]"
     ]
    },
    {
     "name": "stdout",
     "output_type": "stream",
     "text": [
      "\u001b[1m1/1\u001b[0m \u001b[32m━━━━━━━━━━━━━━━━━━━━\u001b[0m\u001b[37m\u001b[0m \u001b[1m0s\u001b[0m 50ms/step\n"
     ]
    },
    {
     "name": "stderr",
     "output_type": "stream",
     "text": [
      "\r\n",
      " 38%|████████████████▏                          | 150/400 [00:19<00:31,  7.83it/s]"
     ]
    },
    {
     "name": "stdout",
     "output_type": "stream",
     "text": [
      "\u001b[1m1/1\u001b[0m \u001b[32m━━━━━━━━━━━━━━━━━━━━\u001b[0m\u001b[37m\u001b[0m \u001b[1m0s\u001b[0m 52ms/step\n"
     ]
    },
    {
     "name": "stderr",
     "output_type": "stream",
     "text": [
      "\r\n",
      " 38%|████████████████▏                          | 151/400 [00:19<00:32,  7.77it/s]"
     ]
    },
    {
     "name": "stdout",
     "output_type": "stream",
     "text": [
      "\u001b[1m1/1\u001b[0m \u001b[32m━━━━━━━━━━━━━━━━━━━━\u001b[0m\u001b[37m\u001b[0m \u001b[1m0s\u001b[0m 51ms/step\n"
     ]
    },
    {
     "name": "stderr",
     "output_type": "stream",
     "text": [
      "\r\n",
      " 38%|████████████████▎                          | 152/400 [00:19<00:31,  7.77it/s]"
     ]
    },
    {
     "name": "stdout",
     "output_type": "stream",
     "text": [
      "\u001b[1m1/1\u001b[0m \u001b[32m━━━━━━━━━━━━━━━━━━━━\u001b[0m\u001b[37m\u001b[0m \u001b[1m0s\u001b[0m 51ms/step\n"
     ]
    },
    {
     "name": "stderr",
     "output_type": "stream",
     "text": [
      "\r\n",
      " 38%|████████████████▍                          | 153/400 [00:19<00:31,  7.75it/s]"
     ]
    },
    {
     "name": "stdout",
     "output_type": "stream",
     "text": [
      "\u001b[1m1/1\u001b[0m \u001b[32m━━━━━━━━━━━━━━━━━━━━\u001b[0m\u001b[37m\u001b[0m \u001b[1m0s\u001b[0m 49ms/step\n"
     ]
    },
    {
     "name": "stderr",
     "output_type": "stream",
     "text": [
      "\r\n",
      " 38%|████████████████▌                          | 154/400 [00:19<00:31,  7.81it/s]"
     ]
    },
    {
     "name": "stdout",
     "output_type": "stream",
     "text": [
      "\u001b[1m1/1\u001b[0m \u001b[32m━━━━━━━━━━━━━━━━━━━━\u001b[0m\u001b[37m\u001b[0m \u001b[1m0s\u001b[0m 50ms/step\n"
     ]
    },
    {
     "name": "stderr",
     "output_type": "stream",
     "text": [
      "\r\n",
      " 39%|████████████████▋                          | 155/400 [00:20<00:31,  7.90it/s]"
     ]
    },
    {
     "name": "stdout",
     "output_type": "stream",
     "text": [
      "\u001b[1m1/1\u001b[0m \u001b[32m━━━━━━━━━━━━━━━━━━━━\u001b[0m\u001b[37m\u001b[0m \u001b[1m0s\u001b[0m 51ms/step\n"
     ]
    },
    {
     "name": "stderr",
     "output_type": "stream",
     "text": [
      "\r\n",
      " 39%|████████████████▊                          | 156/400 [00:20<00:30,  7.92it/s]"
     ]
    },
    {
     "name": "stdout",
     "output_type": "stream",
     "text": [
      "\u001b[1m1/1\u001b[0m \u001b[32m━━━━━━━━━━━━━━━━━━━━\u001b[0m\u001b[37m\u001b[0m \u001b[1m0s\u001b[0m 48ms/step\n"
     ]
    },
    {
     "name": "stderr",
     "output_type": "stream",
     "text": [
      "\r\n",
      " 39%|████████████████▉                          | 157/400 [00:20<00:30,  8.04it/s]"
     ]
    },
    {
     "name": "stdout",
     "output_type": "stream",
     "text": [
      "\u001b[1m1/1\u001b[0m \u001b[32m━━━━━━━━━━━━━━━━━━━━\u001b[0m\u001b[37m\u001b[0m \u001b[1m0s\u001b[0m 48ms/step\n"
     ]
    },
    {
     "name": "stderr",
     "output_type": "stream",
     "text": [
      "\r\n",
      " 40%|████████████████▉                          | 158/400 [00:20<00:29,  8.08it/s]"
     ]
    },
    {
     "name": "stdout",
     "output_type": "stream",
     "text": [
      "\u001b[1m1/1\u001b[0m \u001b[32m━━━━━━━━━━━━━━━━━━━━\u001b[0m\u001b[37m\u001b[0m \u001b[1m0s\u001b[0m 50ms/step\n"
     ]
    },
    {
     "name": "stderr",
     "output_type": "stream",
     "text": [
      "\r\n",
      " 40%|█████████████████                          | 159/400 [00:20<00:30,  7.98it/s]"
     ]
    },
    {
     "name": "stdout",
     "output_type": "stream",
     "text": [
      "\u001b[1m1/1\u001b[0m \u001b[32m━━━━━━━━━━━━━━━━━━━━\u001b[0m\u001b[37m\u001b[0m \u001b[1m0s\u001b[0m 50ms/step\n"
     ]
    },
    {
     "name": "stderr",
     "output_type": "stream",
     "text": [
      "\r\n",
      " 40%|█████████████████▏                         | 160/400 [00:20<00:29,  8.10it/s]"
     ]
    },
    {
     "name": "stdout",
     "output_type": "stream",
     "text": [
      "\u001b[1m1/1\u001b[0m \u001b[32m━━━━━━━━━━━━━━━━━━━━\u001b[0m\u001b[37m\u001b[0m \u001b[1m0s\u001b[0m 52ms/step\n"
     ]
    },
    {
     "name": "stderr",
     "output_type": "stream",
     "text": [
      "\r\n",
      " 40%|█████████████████▎                         | 161/400 [00:20<00:30,  7.94it/s]"
     ]
    },
    {
     "name": "stdout",
     "output_type": "stream",
     "text": [
      "\u001b[1m1/1\u001b[0m \u001b[32m━━━━━━━━━━━━━━━━━━━━\u001b[0m\u001b[37m\u001b[0m \u001b[1m0s\u001b[0m 50ms/step\n"
     ]
    },
    {
     "name": "stderr",
     "output_type": "stream",
     "text": [
      "\r\n",
      " 40%|█████████████████▍                         | 162/400 [00:20<00:30,  7.83it/s]"
     ]
    },
    {
     "name": "stdout",
     "output_type": "stream",
     "text": [
      "\u001b[1m1/1\u001b[0m \u001b[32m━━━━━━━━━━━━━━━━━━━━\u001b[0m\u001b[37m\u001b[0m \u001b[1m0s\u001b[0m 49ms/step\n"
     ]
    },
    {
     "name": "stderr",
     "output_type": "stream",
     "text": [
      "\r\n",
      " 41%|█████████████████▌                         | 163/400 [00:21<00:30,  7.89it/s]"
     ]
    },
    {
     "name": "stdout",
     "output_type": "stream",
     "text": [
      "\u001b[1m1/1\u001b[0m \u001b[32m━━━━━━━━━━━━━━━━━━━━\u001b[0m\u001b[37m\u001b[0m \u001b[1m0s\u001b[0m 49ms/step\n"
     ]
    },
    {
     "name": "stderr",
     "output_type": "stream",
     "text": [
      "\r\n",
      " 41%|█████████████████▋                         | 164/400 [00:21<00:29,  7.98it/s]"
     ]
    },
    {
     "name": "stdout",
     "output_type": "stream",
     "text": [
      "\u001b[1m1/1\u001b[0m \u001b[32m━━━━━━━━━━━━━━━━━━━━\u001b[0m\u001b[37m\u001b[0m \u001b[1m0s\u001b[0m 50ms/step\n"
     ]
    },
    {
     "name": "stderr",
     "output_type": "stream",
     "text": [
      "\r\n",
      " 41%|█████████████████▋                         | 165/400 [00:21<00:29,  7.96it/s]"
     ]
    },
    {
     "name": "stdout",
     "output_type": "stream",
     "text": [
      "\u001b[1m1/1\u001b[0m \u001b[32m━━━━━━━━━━━━━━━━━━━━\u001b[0m\u001b[37m\u001b[0m \u001b[1m0s\u001b[0m 50ms/step\n"
     ]
    },
    {
     "name": "stderr",
     "output_type": "stream",
     "text": [
      "\r\n",
      " 42%|█████████████████▊                         | 166/400 [00:21<00:30,  7.78it/s]"
     ]
    },
    {
     "name": "stdout",
     "output_type": "stream",
     "text": [
      "\u001b[1m1/1\u001b[0m \u001b[32m━━━━━━━━━━━━━━━━━━━━\u001b[0m\u001b[37m\u001b[0m \u001b[1m0s\u001b[0m 49ms/step\n"
     ]
    },
    {
     "name": "stderr",
     "output_type": "stream",
     "text": [
      "\r\n",
      " 42%|█████████████████▉                         | 167/400 [00:21<00:29,  7.95it/s]"
     ]
    },
    {
     "name": "stdout",
     "output_type": "stream",
     "text": [
      "\u001b[1m1/1\u001b[0m \u001b[32m━━━━━━━━━━━━━━━━━━━━\u001b[0m\u001b[37m\u001b[0m \u001b[1m0s\u001b[0m 49ms/step\n"
     ]
    },
    {
     "name": "stderr",
     "output_type": "stream",
     "text": [
      "\r\n",
      " 42%|██████████████████                         | 168/400 [00:21<00:28,  8.00it/s]"
     ]
    },
    {
     "name": "stdout",
     "output_type": "stream",
     "text": [
      "\u001b[1m1/1\u001b[0m \u001b[32m━━━━━━━━━━━━━━━━━━━━\u001b[0m\u001b[37m\u001b[0m \u001b[1m0s\u001b[0m 48ms/step\n"
     ]
    },
    {
     "name": "stderr",
     "output_type": "stream",
     "text": [
      "\r\n",
      " 42%|██████████████████▏                        | 169/400 [00:21<00:29,  7.95it/s]"
     ]
    },
    {
     "name": "stdout",
     "output_type": "stream",
     "text": [
      "\u001b[1m1/1\u001b[0m \u001b[32m━━━━━━━━━━━━━━━━━━━━\u001b[0m\u001b[37m\u001b[0m \u001b[1m0s\u001b[0m 50ms/step\n"
     ]
    },
    {
     "name": "stderr",
     "output_type": "stream",
     "text": [
      "\r\n",
      " 42%|██████████████████▎                        | 170/400 [00:21<00:28,  7.97it/s]"
     ]
    },
    {
     "name": "stdout",
     "output_type": "stream",
     "text": [
      "\u001b[1m1/1\u001b[0m \u001b[32m━━━━━━━━━━━━━━━━━━━━\u001b[0m\u001b[37m\u001b[0m \u001b[1m0s\u001b[0m 50ms/step\n"
     ]
    },
    {
     "name": "stderr",
     "output_type": "stream",
     "text": [
      "\r\n",
      " 43%|██████████████████▍                        | 171/400 [00:22<00:28,  8.05it/s]"
     ]
    },
    {
     "name": "stdout",
     "output_type": "stream",
     "text": [
      "\u001b[1m1/1\u001b[0m \u001b[32m━━━━━━━━━━━━━━━━━━━━\u001b[0m\u001b[37m\u001b[0m \u001b[1m0s\u001b[0m 48ms/step\n"
     ]
    },
    {
     "name": "stderr",
     "output_type": "stream",
     "text": [
      "\r\n",
      " 43%|██████████████████▍                        | 172/400 [00:22<00:27,  8.16it/s]"
     ]
    },
    {
     "name": "stdout",
     "output_type": "stream",
     "text": [
      "\u001b[1m1/1\u001b[0m \u001b[32m━━━━━━━━━━━━━━━━━━━━\u001b[0m\u001b[37m\u001b[0m \u001b[1m0s\u001b[0m 48ms/step\n"
     ]
    },
    {
     "name": "stderr",
     "output_type": "stream",
     "text": [
      "\r\n",
      " 43%|██████████████████▌                        | 173/400 [00:22<00:27,  8.23it/s]"
     ]
    },
    {
     "name": "stdout",
     "output_type": "stream",
     "text": [
      "\u001b[1m1/1\u001b[0m \u001b[32m━━━━━━━━━━━━━━━━━━━━\u001b[0m\u001b[37m\u001b[0m \u001b[1m0s\u001b[0m 47ms/step\n"
     ]
    },
    {
     "name": "stderr",
     "output_type": "stream",
     "text": [
      "\r\n",
      " 44%|██████████████████▋                        | 174/400 [00:22<00:27,  8.33it/s]"
     ]
    },
    {
     "name": "stdout",
     "output_type": "stream",
     "text": [
      "\u001b[1m1/1\u001b[0m \u001b[32m━━━━━━━━━━━━━━━━━━━━\u001b[0m\u001b[37m\u001b[0m \u001b[1m0s\u001b[0m 48ms/step\n"
     ]
    },
    {
     "name": "stderr",
     "output_type": "stream",
     "text": [
      "\r\n",
      " 44%|██████████████████▊                        | 175/400 [00:22<00:26,  8.42it/s]"
     ]
    },
    {
     "name": "stdout",
     "output_type": "stream",
     "text": [
      "\u001b[1m1/1\u001b[0m \u001b[32m━━━━━━━━━━━━━━━━━━━━\u001b[0m\u001b[37m\u001b[0m \u001b[1m0s\u001b[0m 48ms/step\n"
     ]
    },
    {
     "name": "stderr",
     "output_type": "stream",
     "text": [
      "\r\n",
      " 44%|██████████████████▉                        | 176/400 [00:22<00:27,  8.28it/s]"
     ]
    },
    {
     "name": "stdout",
     "output_type": "stream",
     "text": [
      "\u001b[1m1/1\u001b[0m \u001b[32m━━━━━━━━━━━━━━━━━━━━\u001b[0m\u001b[37m\u001b[0m \u001b[1m0s\u001b[0m 48ms/step\n"
     ]
    },
    {
     "name": "stderr",
     "output_type": "stream",
     "text": [
      "\r\n",
      " 44%|███████████████████                        | 177/400 [00:22<00:26,  8.31it/s]"
     ]
    },
    {
     "name": "stdout",
     "output_type": "stream",
     "text": [
      "\u001b[1m1/1\u001b[0m \u001b[32m━━━━━━━━━━━━━━━━━━━━\u001b[0m\u001b[37m\u001b[0m \u001b[1m0s\u001b[0m 47ms/step\n"
     ]
    },
    {
     "name": "stderr",
     "output_type": "stream",
     "text": [
      "\r\n",
      " 44%|███████████████████▏                       | 178/400 [00:22<00:26,  8.30it/s]"
     ]
    },
    {
     "name": "stdout",
     "output_type": "stream",
     "text": [
      "\u001b[1m1/1\u001b[0m \u001b[32m━━━━━━━━━━━━━━━━━━━━\u001b[0m\u001b[37m\u001b[0m \u001b[1m0s\u001b[0m 48ms/step\n"
     ]
    },
    {
     "name": "stderr",
     "output_type": "stream",
     "text": [
      "\r\n",
      " 45%|███████████████████▏                       | 179/400 [00:23<00:26,  8.43it/s]"
     ]
    },
    {
     "name": "stdout",
     "output_type": "stream",
     "text": [
      "\u001b[1m1/1\u001b[0m \u001b[32m━━━━━━━━━━━━━━━━━━━━\u001b[0m\u001b[37m\u001b[0m \u001b[1m0s\u001b[0m 47ms/step\n"
     ]
    },
    {
     "name": "stderr",
     "output_type": "stream",
     "text": [
      "\r\n",
      " 45%|███████████████████▎                       | 180/400 [00:23<00:26,  8.45it/s]"
     ]
    },
    {
     "name": "stdout",
     "output_type": "stream",
     "text": [
      "\u001b[1m1/1\u001b[0m \u001b[32m━━━━━━━━━━━━━━━━━━━━\u001b[0m\u001b[37m\u001b[0m \u001b[1m0s\u001b[0m 50ms/step\n"
     ]
    },
    {
     "name": "stderr",
     "output_type": "stream",
     "text": [
      "\r\n",
      " 45%|███████████████████▍                       | 181/400 [00:23<00:26,  8.22it/s]"
     ]
    },
    {
     "name": "stdout",
     "output_type": "stream",
     "text": [
      "\u001b[1m1/1\u001b[0m \u001b[32m━━━━━━━━━━━━━━━━━━━━\u001b[0m\u001b[37m\u001b[0m \u001b[1m0s\u001b[0m 50ms/step\n"
     ]
    },
    {
     "name": "stderr",
     "output_type": "stream",
     "text": [
      "\r\n",
      " 46%|███████████████████▌                       | 182/400 [00:23<00:26,  8.19it/s]"
     ]
    },
    {
     "name": "stdout",
     "output_type": "stream",
     "text": [
      "\u001b[1m1/1\u001b[0m \u001b[32m━━━━━━━━━━━━━━━━━━━━\u001b[0m\u001b[37m\u001b[0m \u001b[1m0s\u001b[0m 49ms/step\n"
     ]
    },
    {
     "name": "stderr",
     "output_type": "stream",
     "text": [
      "\r\n",
      " 46%|███████████████████▋                       | 183/400 [00:23<00:27,  7.93it/s]"
     ]
    },
    {
     "name": "stdout",
     "output_type": "stream",
     "text": [
      "\u001b[1m1/1\u001b[0m \u001b[32m━━━━━━━━━━━━━━━━━━━━\u001b[0m\u001b[37m\u001b[0m \u001b[1m0s\u001b[0m 51ms/step\n"
     ]
    },
    {
     "name": "stderr",
     "output_type": "stream",
     "text": [
      "\r\n",
      " 46%|███████████████████▊                       | 184/400 [00:23<00:27,  7.98it/s]"
     ]
    },
    {
     "name": "stdout",
     "output_type": "stream",
     "text": [
      "\u001b[1m1/1\u001b[0m \u001b[32m━━━━━━━━━━━━━━━━━━━━\u001b[0m\u001b[37m\u001b[0m \u001b[1m0s\u001b[0m 51ms/step\n"
     ]
    },
    {
     "name": "stderr",
     "output_type": "stream",
     "text": [
      "\r\n",
      " 46%|███████████████████▉                       | 185/400 [00:23<00:26,  8.05it/s]"
     ]
    },
    {
     "name": "stdout",
     "output_type": "stream",
     "text": [
      "\u001b[1m1/1\u001b[0m \u001b[32m━━━━━━━━━━━━━━━━━━━━\u001b[0m\u001b[37m\u001b[0m \u001b[1m0s\u001b[0m 47ms/step\n"
     ]
    },
    {
     "name": "stderr",
     "output_type": "stream",
     "text": [
      "\r\n",
      " 46%|███████████████████▉                       | 186/400 [00:23<00:26,  8.11it/s]"
     ]
    },
    {
     "name": "stdout",
     "output_type": "stream",
     "text": [
      "\u001b[1m1/1\u001b[0m \u001b[32m━━━━━━━━━━━━━━━━━━━━\u001b[0m\u001b[37m\u001b[0m \u001b[1m0s\u001b[0m 48ms/step\n"
     ]
    },
    {
     "name": "stderr",
     "output_type": "stream",
     "text": [
      "\r\n",
      " 47%|████████████████████                       | 187/400 [00:24<00:26,  8.01it/s]"
     ]
    },
    {
     "name": "stdout",
     "output_type": "stream",
     "text": [
      "\u001b[1m1/1\u001b[0m \u001b[32m━━━━━━━━━━━━━━━━━━━━\u001b[0m\u001b[37m\u001b[0m \u001b[1m0s\u001b[0m 50ms/step\n"
     ]
    },
    {
     "name": "stderr",
     "output_type": "stream",
     "text": [
      "\r\n",
      " 47%|████████████████████▏                      | 188/400 [00:24<00:26,  8.10it/s]"
     ]
    },
    {
     "name": "stdout",
     "output_type": "stream",
     "text": [
      "\u001b[1m1/1\u001b[0m \u001b[32m━━━━━━━━━━━━━━━━━━━━\u001b[0m\u001b[37m\u001b[0m \u001b[1m0s\u001b[0m 49ms/step\n"
     ]
    },
    {
     "name": "stderr",
     "output_type": "stream",
     "text": [
      "\r\n",
      " 47%|████████████████████▎                      | 189/400 [00:24<00:26,  8.06it/s]"
     ]
    },
    {
     "name": "stdout",
     "output_type": "stream",
     "text": [
      "\u001b[1m1/1\u001b[0m \u001b[32m━━━━━━━━━━━━━━━━━━━━\u001b[0m\u001b[37m\u001b[0m \u001b[1m0s\u001b[0m 48ms/step\n"
     ]
    },
    {
     "name": "stderr",
     "output_type": "stream",
     "text": [
      "\r\n",
      " 48%|████████████████████▍                      | 190/400 [00:24<00:25,  8.10it/s]"
     ]
    },
    {
     "name": "stdout",
     "output_type": "stream",
     "text": [
      "\u001b[1m1/1\u001b[0m \u001b[32m━━━━━━━━━━━━━━━━━━━━\u001b[0m\u001b[37m\u001b[0m \u001b[1m0s\u001b[0m 49ms/step\n"
     ]
    },
    {
     "name": "stderr",
     "output_type": "stream",
     "text": [
      "\r\n",
      " 48%|████████████████████▌                      | 191/400 [00:24<00:25,  8.06it/s]"
     ]
    },
    {
     "name": "stdout",
     "output_type": "stream",
     "text": [
      "\u001b[1m1/1\u001b[0m \u001b[32m━━━━━━━━━━━━━━━━━━━━\u001b[0m\u001b[37m\u001b[0m \u001b[1m0s\u001b[0m 50ms/step\n"
     ]
    },
    {
     "name": "stderr",
     "output_type": "stream",
     "text": [
      "\r\n",
      " 48%|████████████████████▋                      | 192/400 [00:24<00:25,  8.08it/s]"
     ]
    },
    {
     "name": "stdout",
     "output_type": "stream",
     "text": [
      "\u001b[1m1/1\u001b[0m \u001b[32m━━━━━━━━━━━━━━━━━━━━\u001b[0m\u001b[37m\u001b[0m \u001b[1m0s\u001b[0m 50ms/step\n"
     ]
    },
    {
     "name": "stderr",
     "output_type": "stream",
     "text": [
      "\r\n",
      " 48%|████████████████████▋                      | 193/400 [00:24<00:25,  8.12it/s]"
     ]
    },
    {
     "name": "stdout",
     "output_type": "stream",
     "text": [
      "\u001b[1m1/1\u001b[0m \u001b[32m━━━━━━━━━━━━━━━━━━━━\u001b[0m\u001b[37m\u001b[0m \u001b[1m0s\u001b[0m 50ms/step\n"
     ]
    },
    {
     "name": "stderr",
     "output_type": "stream",
     "text": [
      "\r\n",
      " 48%|████████████████████▊                      | 194/400 [00:24<00:25,  8.14it/s]"
     ]
    },
    {
     "name": "stdout",
     "output_type": "stream",
     "text": [
      "\u001b[1m1/1\u001b[0m \u001b[32m━━━━━━━━━━━━━━━━━━━━\u001b[0m\u001b[37m\u001b[0m \u001b[1m0s\u001b[0m 50ms/step\n"
     ]
    },
    {
     "name": "stderr",
     "output_type": "stream",
     "text": [
      "\r\n",
      " 49%|████████████████████▉                      | 195/400 [00:25<00:25,  8.07it/s]"
     ]
    },
    {
     "name": "stdout",
     "output_type": "stream",
     "text": [
      "\u001b[1m1/1\u001b[0m \u001b[32m━━━━━━━━━━━━━━━━━━━━\u001b[0m\u001b[37m\u001b[0m \u001b[1m0s\u001b[0m 49ms/step\n"
     ]
    },
    {
     "name": "stderr",
     "output_type": "stream",
     "text": [
      "\r\n",
      " 49%|█████████████████████                      | 196/400 [00:25<00:25,  8.09it/s]"
     ]
    },
    {
     "name": "stdout",
     "output_type": "stream",
     "text": [
      "\u001b[1m1/1\u001b[0m \u001b[32m━━━━━━━━━━━━━━━━━━━━\u001b[0m\u001b[37m\u001b[0m \u001b[1m0s\u001b[0m 49ms/step\n"
     ]
    },
    {
     "name": "stderr",
     "output_type": "stream",
     "text": [
      "\r\n",
      " 49%|█████████████████████▏                     | 197/400 [00:25<00:24,  8.21it/s]"
     ]
    },
    {
     "name": "stdout",
     "output_type": "stream",
     "text": [
      "\u001b[1m1/1\u001b[0m \u001b[32m━━━━━━━━━━━━━━━━━━━━\u001b[0m\u001b[37m\u001b[0m \u001b[1m0s\u001b[0m 49ms/step\n"
     ]
    },
    {
     "name": "stderr",
     "output_type": "stream",
     "text": [
      "\r\n",
      " 50%|█████████████████████▎                     | 198/400 [00:25<00:24,  8.19it/s]"
     ]
    },
    {
     "name": "stdout",
     "output_type": "stream",
     "text": [
      "\u001b[1m1/1\u001b[0m \u001b[32m━━━━━━━━━━━━━━━━━━━━\u001b[0m\u001b[37m\u001b[0m \u001b[1m0s\u001b[0m 49ms/step\n"
     ]
    },
    {
     "name": "stderr",
     "output_type": "stream",
     "text": [
      "\r\n",
      " 50%|█████████████████████▍                     | 199/400 [00:25<00:24,  8.21it/s]"
     ]
    },
    {
     "name": "stdout",
     "output_type": "stream",
     "text": [
      "\u001b[1m1/1\u001b[0m \u001b[32m━━━━━━━━━━━━━━━━━━━━\u001b[0m\u001b[37m\u001b[0m \u001b[1m0s\u001b[0m 50ms/step\n"
     ]
    },
    {
     "name": "stderr",
     "output_type": "stream",
     "text": [
      "\r\n",
      " 50%|█████████████████████▌                     | 200/400 [00:25<00:24,  8.17it/s]"
     ]
    },
    {
     "name": "stdout",
     "output_type": "stream",
     "text": [
      "\u001b[1m1/1\u001b[0m \u001b[32m━━━━━━━━━━━━━━━━━━━━\u001b[0m\u001b[37m\u001b[0m \u001b[1m0s\u001b[0m 51ms/step\n"
     ]
    },
    {
     "name": "stderr",
     "output_type": "stream",
     "text": [
      "\r\n",
      " 50%|█████████████████████▌                     | 201/400 [00:25<00:24,  8.13it/s]"
     ]
    },
    {
     "name": "stdout",
     "output_type": "stream",
     "text": [
      "\u001b[1m1/1\u001b[0m \u001b[32m━━━━━━━━━━━━━━━━━━━━\u001b[0m\u001b[37m\u001b[0m \u001b[1m0s\u001b[0m 50ms/step\n"
     ]
    },
    {
     "name": "stderr",
     "output_type": "stream",
     "text": [
      "\r\n",
      " 50%|█████████████████████▋                     | 202/400 [00:25<00:24,  8.20it/s]"
     ]
    },
    {
     "name": "stdout",
     "output_type": "stream",
     "text": [
      "\u001b[1m1/1\u001b[0m \u001b[32m━━━━━━━━━━━━━━━━━━━━\u001b[0m\u001b[37m\u001b[0m \u001b[1m0s\u001b[0m 51ms/step\n"
     ]
    },
    {
     "name": "stderr",
     "output_type": "stream",
     "text": [
      "\r\n",
      " 51%|█████████████████████▊                     | 203/400 [00:26<00:24,  8.16it/s]"
     ]
    },
    {
     "name": "stdout",
     "output_type": "stream",
     "text": [
      "\u001b[1m1/1\u001b[0m \u001b[32m━━━━━━━━━━━━━━━━━━━━\u001b[0m\u001b[37m\u001b[0m \u001b[1m0s\u001b[0m 51ms/step\n"
     ]
    },
    {
     "name": "stderr",
     "output_type": "stream",
     "text": [
      "\r\n",
      " 51%|█████████████████████▉                     | 204/400 [00:26<00:24,  8.13it/s]"
     ]
    },
    {
     "name": "stdout",
     "output_type": "stream",
     "text": [
      "\u001b[1m1/1\u001b[0m \u001b[32m━━━━━━━━━━━━━━━━━━━━\u001b[0m\u001b[37m\u001b[0m \u001b[1m0s\u001b[0m 50ms/step\n"
     ]
    },
    {
     "name": "stderr",
     "output_type": "stream",
     "text": [
      "\r\n",
      " 51%|██████████████████████                     | 205/400 [00:26<00:24,  8.02it/s]"
     ]
    },
    {
     "name": "stdout",
     "output_type": "stream",
     "text": [
      "\u001b[1m1/1\u001b[0m \u001b[32m━━━━━━━━━━━━━━━━━━━━\u001b[0m\u001b[37m\u001b[0m \u001b[1m0s\u001b[0m 50ms/step\n"
     ]
    },
    {
     "name": "stderr",
     "output_type": "stream",
     "text": [
      "\r\n",
      " 52%|██████████████████████▏                    | 206/400 [00:26<00:24,  8.02it/s]"
     ]
    },
    {
     "name": "stdout",
     "output_type": "stream",
     "text": [
      "\u001b[1m1/1\u001b[0m \u001b[32m━━━━━━━━━━━━━━━━━━━━\u001b[0m\u001b[37m\u001b[0m \u001b[1m0s\u001b[0m 50ms/step\n"
     ]
    },
    {
     "name": "stderr",
     "output_type": "stream",
     "text": [
      "\r\n",
      " 52%|██████████████████████▎                    | 207/400 [00:26<00:24,  7.98it/s]"
     ]
    },
    {
     "name": "stdout",
     "output_type": "stream",
     "text": [
      "\u001b[1m1/1\u001b[0m \u001b[32m━━━━━━━━━━━━━━━━━━━━\u001b[0m\u001b[37m\u001b[0m \u001b[1m0s\u001b[0m 50ms/step\n"
     ]
    },
    {
     "name": "stderr",
     "output_type": "stream",
     "text": [
      "\r\n",
      " 52%|██████████████████████▎                    | 208/400 [00:26<00:23,  8.06it/s]"
     ]
    },
    {
     "name": "stdout",
     "output_type": "stream",
     "text": [
      "\u001b[1m1/1\u001b[0m \u001b[32m━━━━━━━━━━━━━━━━━━━━\u001b[0m\u001b[37m\u001b[0m \u001b[1m0s\u001b[0m 50ms/step\n"
     ]
    },
    {
     "name": "stderr",
     "output_type": "stream",
     "text": [
      "\r\n",
      " 52%|██████████████████████▍                    | 209/400 [00:26<00:23,  8.16it/s]"
     ]
    },
    {
     "name": "stdout",
     "output_type": "stream",
     "text": [
      "\u001b[1m1/1\u001b[0m \u001b[32m━━━━━━━━━━━━━━━━━━━━\u001b[0m\u001b[37m\u001b[0m \u001b[1m0s\u001b[0m 49ms/step\n"
     ]
    },
    {
     "name": "stderr",
     "output_type": "stream",
     "text": [
      "\r\n",
      " 52%|██████████████████████▌                    | 210/400 [00:26<00:23,  8.19it/s]"
     ]
    },
    {
     "name": "stdout",
     "output_type": "stream",
     "text": [
      "\u001b[1m1/1\u001b[0m \u001b[32m━━━━━━━━━━━━━━━━━━━━\u001b[0m\u001b[37m\u001b[0m \u001b[1m0s\u001b[0m 49ms/step\n"
     ]
    },
    {
     "name": "stderr",
     "output_type": "stream",
     "text": [
      "\r\n",
      " 53%|██████████████████████▋                    | 211/400 [00:27<00:22,  8.24it/s]"
     ]
    },
    {
     "name": "stdout",
     "output_type": "stream",
     "text": [
      "\u001b[1m1/1\u001b[0m \u001b[32m━━━━━━━━━━━━━━━━━━━━\u001b[0m\u001b[37m\u001b[0m \u001b[1m0s\u001b[0m 50ms/step\n"
     ]
    },
    {
     "name": "stderr",
     "output_type": "stream",
     "text": [
      "\r\n",
      " 53%|██████████████████████▊                    | 212/400 [00:27<00:23,  8.07it/s]"
     ]
    },
    {
     "name": "stdout",
     "output_type": "stream",
     "text": [
      "\u001b[1m1/1\u001b[0m \u001b[32m━━━━━━━━━━━━━━━━━━━━\u001b[0m\u001b[37m\u001b[0m \u001b[1m0s\u001b[0m 50ms/step\n"
     ]
    },
    {
     "name": "stderr",
     "output_type": "stream",
     "text": [
      "\r\n",
      " 53%|██████████████████████▉                    | 213/400 [00:27<00:22,  8.15it/s]"
     ]
    },
    {
     "name": "stdout",
     "output_type": "stream",
     "text": [
      "\u001b[1m1/1\u001b[0m \u001b[32m━━━━━━━━━━━━━━━━━━━━\u001b[0m\u001b[37m\u001b[0m \u001b[1m0s\u001b[0m 50ms/step\n"
     ]
    },
    {
     "name": "stderr",
     "output_type": "stream",
     "text": [
      "\r\n",
      " 54%|███████████████████████                    | 214/400 [00:27<00:22,  8.16it/s]"
     ]
    },
    {
     "name": "stdout",
     "output_type": "stream",
     "text": [
      "\u001b[1m1/1\u001b[0m \u001b[32m━━━━━━━━━━━━━━━━━━━━\u001b[0m\u001b[37m\u001b[0m \u001b[1m0s\u001b[0m 49ms/step\n"
     ]
    },
    {
     "name": "stderr",
     "output_type": "stream",
     "text": [
      "\r\n",
      " 54%|███████████████████████                    | 215/400 [00:27<00:22,  8.28it/s]"
     ]
    },
    {
     "name": "stdout",
     "output_type": "stream",
     "text": [
      "\u001b[1m1/1\u001b[0m \u001b[32m━━━━━━━━━━━━━━━━━━━━\u001b[0m\u001b[37m\u001b[0m \u001b[1m0s\u001b[0m 50ms/step\n"
     ]
    },
    {
     "name": "stderr",
     "output_type": "stream",
     "text": [
      "\r\n",
      " 54%|███████████████████████▏                   | 216/400 [00:27<00:22,  8.27it/s]"
     ]
    },
    {
     "name": "stdout",
     "output_type": "stream",
     "text": [
      "\u001b[1m1/1\u001b[0m \u001b[32m━━━━━━━━━━━━━━━━━━━━\u001b[0m\u001b[37m\u001b[0m \u001b[1m0s\u001b[0m 51ms/step\n"
     ]
    },
    {
     "name": "stderr",
     "output_type": "stream",
     "text": [
      "\r\n",
      " 54%|███████████████████████▎                   | 217/400 [00:27<00:22,  8.19it/s]"
     ]
    },
    {
     "name": "stdout",
     "output_type": "stream",
     "text": [
      "\u001b[1m1/1\u001b[0m \u001b[32m━━━━━━━━━━━━━━━━━━━━\u001b[0m\u001b[37m\u001b[0m \u001b[1m0s\u001b[0m 48ms/step\n"
     ]
    },
    {
     "name": "stderr",
     "output_type": "stream",
     "text": [
      "\r\n",
      " 55%|███████████████████████▍                   | 218/400 [00:27<00:22,  8.23it/s]"
     ]
    },
    {
     "name": "stdout",
     "output_type": "stream",
     "text": [
      "\u001b[1m1/1\u001b[0m \u001b[32m━━━━━━━━━━━━━━━━━━━━\u001b[0m\u001b[37m\u001b[0m \u001b[1m0s\u001b[0m 47ms/step\n"
     ]
    },
    {
     "name": "stderr",
     "output_type": "stream",
     "text": [
      "\r\n",
      " 55%|███████████████████████▌                   | 219/400 [00:27<00:21,  8.30it/s]"
     ]
    },
    {
     "name": "stdout",
     "output_type": "stream",
     "text": [
      "\u001b[1m1/1\u001b[0m \u001b[32m━━━━━━━━━━━━━━━━━━━━\u001b[0m\u001b[37m\u001b[0m \u001b[1m0s\u001b[0m 48ms/step\n"
     ]
    },
    {
     "name": "stderr",
     "output_type": "stream",
     "text": [
      "\r\n",
      " 55%|███████████████████████▋                   | 220/400 [00:28<00:21,  8.44it/s]"
     ]
    },
    {
     "name": "stdout",
     "output_type": "stream",
     "text": [
      "\u001b[1m1/1\u001b[0m \u001b[32m━━━━━━━━━━━━━━━━━━━━\u001b[0m\u001b[37m\u001b[0m \u001b[1m0s\u001b[0m 51ms/step\n"
     ]
    },
    {
     "name": "stderr",
     "output_type": "stream",
     "text": [
      "\r\n",
      " 55%|███████████████████████▊                   | 221/400 [00:28<00:21,  8.25it/s]"
     ]
    },
    {
     "name": "stdout",
     "output_type": "stream",
     "text": [
      "\u001b[1m1/1\u001b[0m \u001b[32m━━━━━━━━━━━━━━━━━━━━\u001b[0m\u001b[37m\u001b[0m \u001b[1m0s\u001b[0m 50ms/step\n"
     ]
    },
    {
     "name": "stderr",
     "output_type": "stream",
     "text": [
      "\r\n",
      " 56%|███████████████████████▊                   | 222/400 [00:28<00:21,  8.12it/s]"
     ]
    },
    {
     "name": "stdout",
     "output_type": "stream",
     "text": [
      "\u001b[1m1/1\u001b[0m \u001b[32m━━━━━━━━━━━━━━━━━━━━\u001b[0m\u001b[37m\u001b[0m \u001b[1m0s\u001b[0m 50ms/step\n"
     ]
    },
    {
     "name": "stderr",
     "output_type": "stream",
     "text": [
      "\r\n",
      " 56%|███████████████████████▉                   | 223/400 [00:28<00:22,  7.98it/s]"
     ]
    },
    {
     "name": "stdout",
     "output_type": "stream",
     "text": [
      "\u001b[1m1/1\u001b[0m \u001b[32m━━━━━━━━━━━━━━━━━━━━\u001b[0m\u001b[37m\u001b[0m \u001b[1m0s\u001b[0m 52ms/step\n"
     ]
    },
    {
     "name": "stderr",
     "output_type": "stream",
     "text": [
      "\r\n",
      " 56%|████████████████████████                   | 224/400 [00:28<00:22,  7.77it/s]"
     ]
    },
    {
     "name": "stdout",
     "output_type": "stream",
     "text": [
      "\u001b[1m1/1\u001b[0m \u001b[32m━━━━━━━━━━━━━━━━━━━━\u001b[0m\u001b[37m\u001b[0m \u001b[1m0s\u001b[0m 52ms/step\n"
     ]
    },
    {
     "name": "stderr",
     "output_type": "stream",
     "text": [
      "\r\n",
      " 56%|████████████████████████▏                  | 225/400 [00:28<00:22,  7.75it/s]"
     ]
    },
    {
     "name": "stdout",
     "output_type": "stream",
     "text": [
      "\u001b[1m1/1\u001b[0m \u001b[32m━━━━━━━━━━━━━━━━━━━━\u001b[0m\u001b[37m\u001b[0m \u001b[1m0s\u001b[0m 51ms/step\n"
     ]
    },
    {
     "name": "stderr",
     "output_type": "stream",
     "text": [
      "\r\n",
      " 56%|████████████████████████▎                  | 226/400 [00:28<00:22,  7.71it/s]"
     ]
    },
    {
     "name": "stdout",
     "output_type": "stream",
     "text": [
      "\u001b[1m1/1\u001b[0m \u001b[32m━━━━━━━━━━━━━━━━━━━━\u001b[0m\u001b[37m\u001b[0m \u001b[1m0s\u001b[0m 51ms/step\n"
     ]
    },
    {
     "name": "stderr",
     "output_type": "stream",
     "text": [
      "\r\n",
      " 57%|████████████████████████▍                  | 227/400 [00:29<00:22,  7.78it/s]"
     ]
    },
    {
     "name": "stdout",
     "output_type": "stream",
     "text": [
      "\u001b[1m1/1\u001b[0m \u001b[32m━━━━━━━━━━━━━━━━━━━━\u001b[0m\u001b[37m\u001b[0m \u001b[1m0s\u001b[0m 51ms/step\n"
     ]
    },
    {
     "name": "stderr",
     "output_type": "stream",
     "text": [
      "\r\n",
      " 57%|████████████████████████▌                  | 228/400 [00:29<00:21,  7.86it/s]"
     ]
    },
    {
     "name": "stdout",
     "output_type": "stream",
     "text": [
      "\u001b[1m1/1\u001b[0m \u001b[32m━━━━━━━━━━━━━━━━━━━━\u001b[0m\u001b[37m\u001b[0m \u001b[1m0s\u001b[0m 52ms/step\n"
     ]
    },
    {
     "name": "stderr",
     "output_type": "stream",
     "text": [
      "\r\n",
      " 57%|████████████████████████▌                  | 229/400 [00:29<00:21,  7.80it/s]"
     ]
    },
    {
     "name": "stdout",
     "output_type": "stream",
     "text": [
      "\u001b[1m1/1\u001b[0m \u001b[32m━━━━━━━━━━━━━━━━━━━━\u001b[0m\u001b[37m\u001b[0m \u001b[1m0s\u001b[0m 52ms/step\n"
     ]
    },
    {
     "name": "stderr",
     "output_type": "stream",
     "text": [
      "\r\n",
      " 57%|████████████████████████▋                  | 230/400 [00:29<00:22,  7.70it/s]"
     ]
    },
    {
     "name": "stdout",
     "output_type": "stream",
     "text": [
      "\u001b[1m1/1\u001b[0m \u001b[32m━━━━━━━━━━━━━━━━━━━━\u001b[0m\u001b[37m\u001b[0m \u001b[1m0s\u001b[0m 55ms/step\n"
     ]
    },
    {
     "name": "stderr",
     "output_type": "stream",
     "text": [
      "\r\n",
      " 58%|████████████████████████▊                  | 231/400 [00:29<00:22,  7.57it/s]"
     ]
    },
    {
     "name": "stdout",
     "output_type": "stream",
     "text": [
      "\u001b[1m1/1\u001b[0m \u001b[32m━━━━━━━━━━━━━━━━━━━━\u001b[0m\u001b[37m\u001b[0m \u001b[1m0s\u001b[0m 54ms/step\n"
     ]
    },
    {
     "name": "stderr",
     "output_type": "stream",
     "text": [
      "\r\n",
      " 58%|████████████████████████▉                  | 232/400 [00:29<00:22,  7.55it/s]"
     ]
    },
    {
     "name": "stdout",
     "output_type": "stream",
     "text": [
      "\u001b[1m1/1\u001b[0m \u001b[32m━━━━━━━━━━━━━━━━━━━━\u001b[0m\u001b[37m\u001b[0m \u001b[1m0s\u001b[0m 54ms/step\n"
     ]
    },
    {
     "name": "stderr",
     "output_type": "stream",
     "text": [
      "\r\n",
      " 58%|█████████████████████████                  | 233/400 [00:29<00:22,  7.54it/s]"
     ]
    },
    {
     "name": "stdout",
     "output_type": "stream",
     "text": [
      "\u001b[1m1/1\u001b[0m \u001b[32m━━━━━━━━━━━━━━━━━━━━\u001b[0m\u001b[37m\u001b[0m \u001b[1m0s\u001b[0m 53ms/step\n"
     ]
    },
    {
     "name": "stderr",
     "output_type": "stream",
     "text": [
      "\r\n",
      " 58%|█████████████████████████▏                 | 234/400 [00:29<00:22,  7.49it/s]"
     ]
    },
    {
     "name": "stdout",
     "output_type": "stream",
     "text": [
      "\u001b[1m1/1\u001b[0m \u001b[32m━━━━━━━━━━━━━━━━━━━━\u001b[0m\u001b[37m\u001b[0m \u001b[1m0s\u001b[0m 54ms/step\n"
     ]
    },
    {
     "name": "stderr",
     "output_type": "stream",
     "text": [
      "\r\n",
      " 59%|█████████████████████████▎                 | 235/400 [00:30<00:22,  7.44it/s]"
     ]
    },
    {
     "name": "stdout",
     "output_type": "stream",
     "text": [
      "\u001b[1m1/1\u001b[0m \u001b[32m━━━━━━━━━━━━━━━━━━━━\u001b[0m\u001b[37m\u001b[0m \u001b[1m0s\u001b[0m 55ms/step\n"
     ]
    },
    {
     "name": "stderr",
     "output_type": "stream",
     "text": [
      "\r\n",
      " 59%|█████████████████████████▎                 | 236/400 [00:30<00:22,  7.39it/s]"
     ]
    },
    {
     "name": "stdout",
     "output_type": "stream",
     "text": [
      "\u001b[1m1/1\u001b[0m \u001b[32m━━━━━━━━━━━━━━━━━━━━\u001b[0m\u001b[37m\u001b[0m \u001b[1m0s\u001b[0m 55ms/step\n"
     ]
    },
    {
     "name": "stderr",
     "output_type": "stream",
     "text": [
      "\r\n",
      " 59%|█████████████████████████▍                 | 237/400 [00:30<00:22,  7.34it/s]"
     ]
    },
    {
     "name": "stdout",
     "output_type": "stream",
     "text": [
      "\u001b[1m1/1\u001b[0m \u001b[32m━━━━━━━━━━━━━━━━━━━━\u001b[0m\u001b[37m\u001b[0m \u001b[1m0s\u001b[0m 54ms/step\n"
     ]
    },
    {
     "name": "stderr",
     "output_type": "stream",
     "text": [
      "\r\n",
      " 60%|█████████████████████████▌                 | 238/400 [00:30<00:21,  7.39it/s]"
     ]
    },
    {
     "name": "stdout",
     "output_type": "stream",
     "text": [
      "\u001b[1m1/1\u001b[0m \u001b[32m━━━━━━━━━━━━━━━━━━━━\u001b[0m\u001b[37m\u001b[0m \u001b[1m0s\u001b[0m 55ms/step\n"
     ]
    },
    {
     "name": "stderr",
     "output_type": "stream",
     "text": [
      "\r\n",
      " 60%|█████████████████████████▋                 | 239/400 [00:30<00:21,  7.44it/s]"
     ]
    },
    {
     "name": "stdout",
     "output_type": "stream",
     "text": [
      "\u001b[1m1/1\u001b[0m \u001b[32m━━━━━━━━━━━━━━━━━━━━\u001b[0m\u001b[37m\u001b[0m \u001b[1m0s\u001b[0m 55ms/step\n"
     ]
    },
    {
     "name": "stderr",
     "output_type": "stream",
     "text": [
      "\r\n",
      " 60%|█████████████████████████▊                 | 240/400 [00:30<00:21,  7.44it/s]"
     ]
    },
    {
     "name": "stdout",
     "output_type": "stream",
     "text": [
      "\u001b[1m1/1\u001b[0m \u001b[32m━━━━━━━━━━━━━━━━━━━━\u001b[0m\u001b[37m\u001b[0m \u001b[1m0s\u001b[0m 53ms/step\n"
     ]
    },
    {
     "name": "stderr",
     "output_type": "stream",
     "text": [
      "\r\n",
      " 60%|█████████████████████████▉                 | 241/400 [00:30<00:21,  7.47it/s]"
     ]
    },
    {
     "name": "stdout",
     "output_type": "stream",
     "text": [
      "\u001b[1m1/1\u001b[0m \u001b[32m━━━━━━━━━━━━━━━━━━━━\u001b[0m\u001b[37m\u001b[0m \u001b[1m0s\u001b[0m 51ms/step\n"
     ]
    },
    {
     "name": "stderr",
     "output_type": "stream",
     "text": [
      "\r\n",
      " 60%|██████████████████████████                 | 242/400 [00:31<00:21,  7.52it/s]"
     ]
    },
    {
     "name": "stdout",
     "output_type": "stream",
     "text": [
      "\u001b[1m1/1\u001b[0m \u001b[32m━━━━━━━━━━━━━━━━━━━━\u001b[0m\u001b[37m\u001b[0m \u001b[1m0s\u001b[0m 50ms/step\n"
     ]
    },
    {
     "name": "stderr",
     "output_type": "stream",
     "text": [
      "\r\n",
      " 61%|██████████████████████████                 | 243/400 [00:31<00:20,  7.58it/s]"
     ]
    },
    {
     "name": "stdout",
     "output_type": "stream",
     "text": [
      "\u001b[1m1/1\u001b[0m \u001b[32m━━━━━━━━━━━━━━━━━━━━\u001b[0m\u001b[37m\u001b[0m \u001b[1m0s\u001b[0m 51ms/step\n"
     ]
    },
    {
     "name": "stderr",
     "output_type": "stream",
     "text": [
      "\r\n",
      " 61%|██████████████████████████▏                | 244/400 [00:31<00:20,  7.61it/s]"
     ]
    },
    {
     "name": "stdout",
     "output_type": "stream",
     "text": [
      "\u001b[1m1/1\u001b[0m \u001b[32m━━━━━━━━━━━━━━━━━━━━\u001b[0m\u001b[37m\u001b[0m \u001b[1m0s\u001b[0m 59ms/step\n"
     ]
    },
    {
     "name": "stderr",
     "output_type": "stream",
     "text": [
      "\r\n",
      " 61%|██████████████████████████▎                | 245/400 [00:31<00:20,  7.57it/s]"
     ]
    },
    {
     "name": "stdout",
     "output_type": "stream",
     "text": [
      "\u001b[1m1/1\u001b[0m \u001b[32m━━━━━━━━━━━━━━━━━━━━\u001b[0m\u001b[37m\u001b[0m \u001b[1m0s\u001b[0m 56ms/step\n"
     ]
    },
    {
     "name": "stderr",
     "output_type": "stream",
     "text": [
      "\r\n",
      " 62%|██████████████████████████▍                | 246/400 [00:31<00:20,  7.64it/s]"
     ]
    },
    {
     "name": "stdout",
     "output_type": "stream",
     "text": [
      "\u001b[1m1/1\u001b[0m \u001b[32m━━━━━━━━━━━━━━━━━━━━\u001b[0m\u001b[37m\u001b[0m \u001b[1m0s\u001b[0m 50ms/step\n"
     ]
    },
    {
     "name": "stderr",
     "output_type": "stream",
     "text": [
      "\r\n",
      " 62%|██████████████████████████▌                | 247/400 [00:31<00:19,  7.79it/s]"
     ]
    },
    {
     "name": "stdout",
     "output_type": "stream",
     "text": [
      "\u001b[1m1/1\u001b[0m \u001b[32m━━━━━━━━━━━━━━━━━━━━\u001b[0m\u001b[37m\u001b[0m \u001b[1m0s\u001b[0m 51ms/step\n"
     ]
    },
    {
     "name": "stderr",
     "output_type": "stream",
     "text": [
      "\r\n",
      " 62%|██████████████████████████▋                | 248/400 [00:31<00:19,  7.72it/s]"
     ]
    },
    {
     "name": "stdout",
     "output_type": "stream",
     "text": [
      "\u001b[1m1/1\u001b[0m \u001b[32m━━━━━━━━━━━━━━━━━━━━\u001b[0m\u001b[37m\u001b[0m \u001b[1m0s\u001b[0m 48ms/step\n"
     ]
    },
    {
     "name": "stderr",
     "output_type": "stream",
     "text": [
      "\r\n",
      " 62%|██████████████████████████▊                | 249/400 [00:31<00:19,  7.69it/s]"
     ]
    },
    {
     "name": "stdout",
     "output_type": "stream",
     "text": [
      "\u001b[1m1/1\u001b[0m \u001b[32m━━━━━━━━━━━━━━━━━━━━\u001b[0m\u001b[37m\u001b[0m \u001b[1m0s\u001b[0m 50ms/step\n"
     ]
    },
    {
     "name": "stderr",
     "output_type": "stream",
     "text": [
      "\r\n",
      " 62%|██████████████████████████▉                | 250/400 [00:32<00:19,  7.80it/s]"
     ]
    },
    {
     "name": "stdout",
     "output_type": "stream",
     "text": [
      "\u001b[1m1/1\u001b[0m \u001b[32m━━━━━━━━━━━━━━━━━━━━\u001b[0m\u001b[37m\u001b[0m \u001b[1m0s\u001b[0m 51ms/step\n"
     ]
    },
    {
     "name": "stderr",
     "output_type": "stream",
     "text": [
      "\r\n",
      " 63%|██████████████████████████▉                | 251/400 [00:32<00:18,  7.94it/s]"
     ]
    },
    {
     "name": "stdout",
     "output_type": "stream",
     "text": [
      "\u001b[1m1/1\u001b[0m \u001b[32m━━━━━━━━━━━━━━━━━━━━\u001b[0m\u001b[37m\u001b[0m \u001b[1m0s\u001b[0m 50ms/step\n"
     ]
    },
    {
     "name": "stderr",
     "output_type": "stream",
     "text": [
      "\r\n",
      " 63%|███████████████████████████                | 252/400 [00:32<00:18,  7.97it/s]"
     ]
    },
    {
     "name": "stdout",
     "output_type": "stream",
     "text": [
      "\u001b[1m1/1\u001b[0m \u001b[32m━━━━━━━━━━━━━━━━━━━━\u001b[0m\u001b[37m\u001b[0m \u001b[1m0s\u001b[0m 50ms/step\n"
     ]
    },
    {
     "name": "stderr",
     "output_type": "stream",
     "text": [
      "\r\n",
      " 63%|███████████████████████████▏               | 253/400 [00:32<00:18,  7.74it/s]"
     ]
    },
    {
     "name": "stdout",
     "output_type": "stream",
     "text": [
      "\u001b[1m1/1\u001b[0m \u001b[32m━━━━━━━━━━━━━━━━━━━━\u001b[0m\u001b[37m\u001b[0m \u001b[1m0s\u001b[0m 49ms/step\n"
     ]
    },
    {
     "name": "stderr",
     "output_type": "stream",
     "text": [
      "\r\n",
      " 64%|███████████████████████████▎               | 254/400 [00:32<00:18,  7.81it/s]"
     ]
    },
    {
     "name": "stdout",
     "output_type": "stream",
     "text": [
      "\u001b[1m1/1\u001b[0m \u001b[32m━━━━━━━━━━━━━━━━━━━━\u001b[0m\u001b[37m\u001b[0m \u001b[1m0s\u001b[0m 49ms/step\n"
     ]
    },
    {
     "name": "stderr",
     "output_type": "stream",
     "text": [
      "\r\n",
      " 64%|███████████████████████████▍               | 255/400 [00:32<00:18,  7.87it/s]"
     ]
    },
    {
     "name": "stdout",
     "output_type": "stream",
     "text": [
      "\u001b[1m1/1\u001b[0m \u001b[32m━━━━━━━━━━━━━━━━━━━━\u001b[0m\u001b[37m\u001b[0m \u001b[1m0s\u001b[0m 49ms/step\n"
     ]
    },
    {
     "name": "stderr",
     "output_type": "stream",
     "text": [
      "\r\n",
      " 64%|███████████████████████████▌               | 256/400 [00:32<00:18,  7.92it/s]"
     ]
    },
    {
     "name": "stdout",
     "output_type": "stream",
     "text": [
      "\u001b[1m1/1\u001b[0m \u001b[32m━━━━━━━━━━━━━━━━━━━━\u001b[0m\u001b[37m\u001b[0m \u001b[1m0s\u001b[0m 49ms/step\n"
     ]
    },
    {
     "name": "stderr",
     "output_type": "stream",
     "text": [
      "\r\n",
      " 64%|███████████████████████████▋               | 257/400 [00:32<00:17,  7.99it/s]"
     ]
    },
    {
     "name": "stdout",
     "output_type": "stream",
     "text": [
      "\u001b[1m1/1\u001b[0m \u001b[32m━━━━━━━━━━━━━━━━━━━━\u001b[0m\u001b[37m\u001b[0m \u001b[1m0s\u001b[0m 49ms/step\n"
     ]
    },
    {
     "name": "stderr",
     "output_type": "stream",
     "text": [
      "\r\n",
      " 64%|███████████████████████████▋               | 258/400 [00:33<00:17,  8.12it/s]"
     ]
    },
    {
     "name": "stdout",
     "output_type": "stream",
     "text": [
      "\u001b[1m1/1\u001b[0m \u001b[32m━━━━━━━━━━━━━━━━━━━━\u001b[0m\u001b[37m\u001b[0m \u001b[1m0s\u001b[0m 49ms/step\n"
     ]
    },
    {
     "name": "stderr",
     "output_type": "stream",
     "text": [
      "\r\n",
      " 65%|███████████████████████████▊               | 259/400 [00:33<00:17,  8.17it/s]"
     ]
    },
    {
     "name": "stdout",
     "output_type": "stream",
     "text": [
      "\u001b[1m1/1\u001b[0m \u001b[32m━━━━━━━━━━━━━━━━━━━━\u001b[0m\u001b[37m\u001b[0m \u001b[1m0s\u001b[0m 50ms/step\n"
     ]
    },
    {
     "name": "stderr",
     "output_type": "stream",
     "text": [
      "\r\n",
      " 65%|███████████████████████████▉               | 260/400 [00:33<00:17,  8.21it/s]"
     ]
    },
    {
     "name": "stdout",
     "output_type": "stream",
     "text": [
      "\u001b[1m1/1\u001b[0m \u001b[32m━━━━━━━━━━━━━━━━━━━━\u001b[0m\u001b[37m\u001b[0m \u001b[1m0s\u001b[0m 50ms/step\n"
     ]
    },
    {
     "name": "stderr",
     "output_type": "stream",
     "text": [
      "\r\n",
      " 65%|████████████████████████████               | 261/400 [00:33<00:16,  8.18it/s]"
     ]
    },
    {
     "name": "stdout",
     "output_type": "stream",
     "text": [
      "\u001b[1m1/1\u001b[0m \u001b[32m━━━━━━━━━━━━━━━━━━━━\u001b[0m\u001b[37m\u001b[0m \u001b[1m0s\u001b[0m 49ms/step\n"
     ]
    },
    {
     "name": "stderr",
     "output_type": "stream",
     "text": [
      "\r\n",
      " 66%|████████████████████████████▏              | 262/400 [00:33<00:17,  8.09it/s]"
     ]
    },
    {
     "name": "stdout",
     "output_type": "stream",
     "text": [
      "\u001b[1m1/1\u001b[0m \u001b[32m━━━━━━━━━━━━━━━━━━━━\u001b[0m\u001b[37m\u001b[0m \u001b[1m0s\u001b[0m 50ms/step\n"
     ]
    },
    {
     "name": "stderr",
     "output_type": "stream",
     "text": [
      "\r\n",
      " 66%|████████████████████████████▎              | 263/400 [00:33<00:16,  8.17it/s]"
     ]
    },
    {
     "name": "stdout",
     "output_type": "stream",
     "text": [
      "\u001b[1m1/1\u001b[0m \u001b[32m━━━━━━━━━━━━━━━━━━━━\u001b[0m\u001b[37m\u001b[0m \u001b[1m0s\u001b[0m 50ms/step\n"
     ]
    },
    {
     "name": "stderr",
     "output_type": "stream",
     "text": [
      "\r\n",
      " 66%|████████████████████████████▍              | 264/400 [00:33<00:16,  8.25it/s]"
     ]
    },
    {
     "name": "stdout",
     "output_type": "stream",
     "text": [
      "\u001b[1m1/1\u001b[0m \u001b[32m━━━━━━━━━━━━━━━━━━━━\u001b[0m\u001b[37m\u001b[0m \u001b[1m0s\u001b[0m 49ms/step\n"
     ]
    },
    {
     "name": "stderr",
     "output_type": "stream",
     "text": [
      "\r\n",
      " 66%|████████████████████████████▍              | 265/400 [00:33<00:16,  8.24it/s]"
     ]
    },
    {
     "name": "stdout",
     "output_type": "stream",
     "text": [
      "\u001b[1m1/1\u001b[0m \u001b[32m━━━━━━━━━━━━━━━━━━━━\u001b[0m\u001b[37m\u001b[0m \u001b[1m0s\u001b[0m 47ms/step\n"
     ]
    },
    {
     "name": "stderr",
     "output_type": "stream",
     "text": [
      "\r\n",
      " 66%|████████████████████████████▌              | 266/400 [00:34<00:16,  8.36it/s]"
     ]
    },
    {
     "name": "stdout",
     "output_type": "stream",
     "text": [
      "\u001b[1m1/1\u001b[0m \u001b[32m━━━━━━━━━━━━━━━━━━━━\u001b[0m\u001b[37m\u001b[0m \u001b[1m0s\u001b[0m 49ms/step\n"
     ]
    },
    {
     "name": "stderr",
     "output_type": "stream",
     "text": [
      "\r\n",
      " 67%|████████████████████████████▋              | 267/400 [00:34<00:16,  8.25it/s]"
     ]
    },
    {
     "name": "stdout",
     "output_type": "stream",
     "text": [
      "\u001b[1m1/1\u001b[0m \u001b[32m━━━━━━━━━━━━━━━━━━━━\u001b[0m\u001b[37m\u001b[0m \u001b[1m0s\u001b[0m 48ms/step\n"
     ]
    },
    {
     "name": "stderr",
     "output_type": "stream",
     "text": [
      "\r\n",
      " 67%|████████████████████████████▊              | 268/400 [00:34<00:16,  8.10it/s]"
     ]
    },
    {
     "name": "stdout",
     "output_type": "stream",
     "text": [
      "\u001b[1m1/1\u001b[0m \u001b[32m━━━━━━━━━━━━━━━━━━━━\u001b[0m\u001b[37m\u001b[0m \u001b[1m0s\u001b[0m 48ms/step\n"
     ]
    },
    {
     "name": "stderr",
     "output_type": "stream",
     "text": [
      "\r\n",
      " 67%|████████████████████████████▉              | 269/400 [00:34<00:16,  8.03it/s]"
     ]
    },
    {
     "name": "stdout",
     "output_type": "stream",
     "text": [
      "\u001b[1m1/1\u001b[0m \u001b[32m━━━━━━━━━━━━━━━━━━━━\u001b[0m\u001b[37m\u001b[0m \u001b[1m0s\u001b[0m 50ms/step\n"
     ]
    },
    {
     "name": "stderr",
     "output_type": "stream",
     "text": [
      "\r\n",
      " 68%|█████████████████████████████              | 270/400 [00:34<00:16,  7.97it/s]"
     ]
    },
    {
     "name": "stdout",
     "output_type": "stream",
     "text": [
      "\u001b[1m1/1\u001b[0m \u001b[32m━━━━━━━━━━━━━━━━━━━━\u001b[0m\u001b[37m\u001b[0m \u001b[1m0s\u001b[0m 49ms/step\n"
     ]
    },
    {
     "name": "stderr",
     "output_type": "stream",
     "text": [
      "\r\n",
      " 68%|█████████████████████████████▏             | 271/400 [00:34<00:16,  8.02it/s]"
     ]
    },
    {
     "name": "stdout",
     "output_type": "stream",
     "text": [
      "\u001b[1m1/1\u001b[0m \u001b[32m━━━━━━━━━━━━━━━━━━━━\u001b[0m\u001b[37m\u001b[0m \u001b[1m0s\u001b[0m 50ms/step\n"
     ]
    },
    {
     "name": "stderr",
     "output_type": "stream",
     "text": [
      "\r\n",
      " 68%|█████████████████████████████▏             | 272/400 [00:34<00:16,  7.77it/s]"
     ]
    },
    {
     "name": "stdout",
     "output_type": "stream",
     "text": [
      "\u001b[1m1/1\u001b[0m \u001b[32m━━━━━━━━━━━━━━━━━━━━\u001b[0m\u001b[37m\u001b[0m \u001b[1m0s\u001b[0m 49ms/step\n"
     ]
    },
    {
     "name": "stderr",
     "output_type": "stream",
     "text": [
      "\r\n",
      " 68%|█████████████████████████████▎             | 273/400 [00:34<00:16,  7.90it/s]"
     ]
    },
    {
     "name": "stdout",
     "output_type": "stream",
     "text": [
      "\u001b[1m1/1\u001b[0m \u001b[32m━━━━━━━━━━━━━━━━━━━━\u001b[0m\u001b[37m\u001b[0m \u001b[1m0s\u001b[0m 50ms/step\n"
     ]
    },
    {
     "name": "stderr",
     "output_type": "stream",
     "text": [
      "\r\n",
      " 68%|█████████████████████████████▍             | 274/400 [00:35<00:16,  7.80it/s]"
     ]
    },
    {
     "name": "stdout",
     "output_type": "stream",
     "text": [
      "\u001b[1m1/1\u001b[0m \u001b[32m━━━━━━━━━━━━━━━━━━━━\u001b[0m\u001b[37m\u001b[0m \u001b[1m0s\u001b[0m 51ms/step\n"
     ]
    },
    {
     "name": "stderr",
     "output_type": "stream",
     "text": [
      "\r\n",
      " 69%|█████████████████████████████▌             | 275/400 [00:35<00:15,  7.86it/s]"
     ]
    },
    {
     "name": "stdout",
     "output_type": "stream",
     "text": [
      "\u001b[1m1/1\u001b[0m \u001b[32m━━━━━━━━━━━━━━━━━━━━\u001b[0m\u001b[37m\u001b[0m \u001b[1m0s\u001b[0m 50ms/step\n"
     ]
    },
    {
     "name": "stderr",
     "output_type": "stream",
     "text": [
      "\r\n",
      " 69%|█████████████████████████████▋             | 276/400 [00:35<00:15,  7.89it/s]"
     ]
    },
    {
     "name": "stdout",
     "output_type": "stream",
     "text": [
      "\u001b[1m1/1\u001b[0m \u001b[32m━━━━━━━━━━━━━━━━━━━━\u001b[0m\u001b[37m\u001b[0m \u001b[1m0s\u001b[0m 51ms/step\n"
     ]
    },
    {
     "name": "stderr",
     "output_type": "stream",
     "text": [
      "\r\n",
      " 69%|█████████████████████████████▊             | 277/400 [00:35<00:15,  7.85it/s]"
     ]
    },
    {
     "name": "stdout",
     "output_type": "stream",
     "text": [
      "\u001b[1m1/1\u001b[0m \u001b[32m━━━━━━━━━━━━━━━━━━━━\u001b[0m\u001b[37m\u001b[0m \u001b[1m0s\u001b[0m 50ms/step\n"
     ]
    },
    {
     "name": "stderr",
     "output_type": "stream",
     "text": [
      "\r\n",
      " 70%|█████████████████████████████▉             | 278/400 [00:35<00:15,  7.91it/s]"
     ]
    },
    {
     "name": "stdout",
     "output_type": "stream",
     "text": [
      "\u001b[1m1/1\u001b[0m \u001b[32m━━━━━━━━━━━━━━━━━━━━\u001b[0m\u001b[37m\u001b[0m \u001b[1m0s\u001b[0m 51ms/step\n"
     ]
    },
    {
     "name": "stderr",
     "output_type": "stream",
     "text": [
      "\r\n",
      " 70%|█████████████████████████████▉             | 279/400 [00:35<00:15,  7.96it/s]"
     ]
    },
    {
     "name": "stdout",
     "output_type": "stream",
     "text": [
      "\u001b[1m1/1\u001b[0m \u001b[32m━━━━━━━━━━━━━━━━━━━━\u001b[0m\u001b[37m\u001b[0m \u001b[1m0s\u001b[0m 50ms/step\n"
     ]
    },
    {
     "name": "stderr",
     "output_type": "stream",
     "text": [
      "\r\n",
      " 70%|██████████████████████████████             | 280/400 [00:35<00:14,  8.02it/s]"
     ]
    },
    {
     "name": "stdout",
     "output_type": "stream",
     "text": [
      "\u001b[1m1/1\u001b[0m \u001b[32m━━━━━━━━━━━━━━━━━━━━\u001b[0m\u001b[37m\u001b[0m \u001b[1m0s\u001b[0m 49ms/step\n"
     ]
    },
    {
     "name": "stderr",
     "output_type": "stream",
     "text": [
      "\r\n",
      " 70%|██████████████████████████████▏            | 281/400 [00:35<00:15,  7.87it/s]"
     ]
    },
    {
     "name": "stdout",
     "output_type": "stream",
     "text": [
      "\u001b[1m1/1\u001b[0m \u001b[32m━━━━━━━━━━━━━━━━━━━━\u001b[0m\u001b[37m\u001b[0m \u001b[1m0s\u001b[0m 48ms/step\n"
     ]
    },
    {
     "name": "stderr",
     "output_type": "stream",
     "text": [
      "\r\n",
      " 70%|██████████████████████████████▎            | 282/400 [00:36<00:14,  7.90it/s]"
     ]
    },
    {
     "name": "stdout",
     "output_type": "stream",
     "text": [
      "\u001b[1m1/1\u001b[0m \u001b[32m━━━━━━━━━━━━━━━━━━━━\u001b[0m\u001b[37m\u001b[0m \u001b[1m0s\u001b[0m 48ms/step\n"
     ]
    },
    {
     "name": "stderr",
     "output_type": "stream",
     "text": [
      "\r\n",
      " 71%|██████████████████████████████▍            | 283/400 [00:36<00:14,  8.06it/s]"
     ]
    },
    {
     "name": "stdout",
     "output_type": "stream",
     "text": [
      "\u001b[1m1/1\u001b[0m \u001b[32m━━━━━━━━━━━━━━━━━━━━\u001b[0m\u001b[37m\u001b[0m \u001b[1m0s\u001b[0m 48ms/step\n"
     ]
    },
    {
     "name": "stderr",
     "output_type": "stream",
     "text": [
      "\r\n",
      " 71%|██████████████████████████████▌            | 284/400 [00:36<00:14,  8.12it/s]"
     ]
    },
    {
     "name": "stdout",
     "output_type": "stream",
     "text": [
      "\u001b[1m1/1\u001b[0m \u001b[32m━━━━━━━━━━━━━━━━━━━━\u001b[0m\u001b[37m\u001b[0m \u001b[1m0s\u001b[0m 48ms/step\n"
     ]
    },
    {
     "name": "stderr",
     "output_type": "stream",
     "text": [
      "\r\n",
      " 71%|██████████████████████████████▋            | 285/400 [00:36<00:14,  8.21it/s]"
     ]
    },
    {
     "name": "stdout",
     "output_type": "stream",
     "text": [
      "\u001b[1m1/1\u001b[0m \u001b[32m━━━━━━━━━━━━━━━━━━━━\u001b[0m\u001b[37m\u001b[0m \u001b[1m0s\u001b[0m 48ms/step\n"
     ]
    },
    {
     "name": "stderr",
     "output_type": "stream",
     "text": [
      "\r\n",
      " 72%|██████████████████████████████▋            | 286/400 [00:36<00:13,  8.24it/s]"
     ]
    },
    {
     "name": "stdout",
     "output_type": "stream",
     "text": [
      "\u001b[1m1/1\u001b[0m \u001b[32m━━━━━━━━━━━━━━━━━━━━\u001b[0m\u001b[37m\u001b[0m \u001b[1m0s\u001b[0m 49ms/step\n"
     ]
    },
    {
     "name": "stderr",
     "output_type": "stream",
     "text": [
      "\r\n",
      " 72%|██████████████████████████████▊            | 287/400 [00:36<00:13,  8.17it/s]"
     ]
    },
    {
     "name": "stdout",
     "output_type": "stream",
     "text": [
      "\u001b[1m1/1\u001b[0m \u001b[32m━━━━━━━━━━━━━━━━━━━━\u001b[0m\u001b[37m\u001b[0m \u001b[1m0s\u001b[0m 50ms/step\n"
     ]
    },
    {
     "name": "stderr",
     "output_type": "stream",
     "text": [
      "\r\n",
      " 72%|██████████████████████████████▉            | 288/400 [00:36<00:13,  8.16it/s]"
     ]
    },
    {
     "name": "stdout",
     "output_type": "stream",
     "text": [
      "\u001b[1m1/1\u001b[0m \u001b[32m━━━━━━━━━━━━━━━━━━━━\u001b[0m\u001b[37m\u001b[0m \u001b[1m0s\u001b[0m 50ms/step\n"
     ]
    },
    {
     "name": "stderr",
     "output_type": "stream",
     "text": [
      "\r\n",
      " 72%|███████████████████████████████            | 289/400 [00:36<00:13,  8.17it/s]"
     ]
    },
    {
     "name": "stdout",
     "output_type": "stream",
     "text": [
      "\u001b[1m1/1\u001b[0m \u001b[32m━━━━━━━━━━━━━━━━━━━━\u001b[0m\u001b[37m\u001b[0m \u001b[1m0s\u001b[0m 50ms/step\n"
     ]
    },
    {
     "name": "stderr",
     "output_type": "stream",
     "text": [
      "\r\n",
      " 72%|███████████████████████████████▏           | 290/400 [00:37<00:13,  8.21it/s]"
     ]
    },
    {
     "name": "stdout",
     "output_type": "stream",
     "text": [
      "\u001b[1m1/1\u001b[0m \u001b[32m━━━━━━━━━━━━━━━━━━━━\u001b[0m\u001b[37m\u001b[0m \u001b[1m0s\u001b[0m 50ms/step\n"
     ]
    },
    {
     "name": "stderr",
     "output_type": "stream",
     "text": [
      "\r\n",
      " 73%|███████████████████████████████▎           | 291/400 [00:37<00:13,  8.14it/s]"
     ]
    },
    {
     "name": "stdout",
     "output_type": "stream",
     "text": [
      "\u001b[1m1/1\u001b[0m \u001b[32m━━━━━━━━━━━━━━━━━━━━\u001b[0m\u001b[37m\u001b[0m \u001b[1m0s\u001b[0m 49ms/step\n"
     ]
    },
    {
     "name": "stderr",
     "output_type": "stream",
     "text": [
      "\r\n",
      " 73%|███████████████████████████████▍           | 292/400 [00:37<00:13,  8.29it/s]"
     ]
    },
    {
     "name": "stdout",
     "output_type": "stream",
     "text": [
      "\u001b[1m1/1\u001b[0m \u001b[32m━━━━━━━━━━━━━━━━━━━━\u001b[0m\u001b[37m\u001b[0m \u001b[1m0s\u001b[0m 48ms/step\n"
     ]
    },
    {
     "name": "stderr",
     "output_type": "stream",
     "text": [
      "\r\n",
      " 73%|███████████████████████████████▍           | 293/400 [00:37<00:12,  8.31it/s]"
     ]
    },
    {
     "name": "stdout",
     "output_type": "stream",
     "text": [
      "\u001b[1m1/1\u001b[0m \u001b[32m━━━━━━━━━━━━━━━━━━━━\u001b[0m\u001b[37m\u001b[0m \u001b[1m0s\u001b[0m 48ms/step\n"
     ]
    },
    {
     "name": "stderr",
     "output_type": "stream",
     "text": [
      "\r\n",
      " 74%|███████████████████████████████▌           | 294/400 [00:37<00:12,  8.24it/s]"
     ]
    },
    {
     "name": "stdout",
     "output_type": "stream",
     "text": [
      "\u001b[1m1/1\u001b[0m \u001b[32m━━━━━━━━━━━━━━━━━━━━\u001b[0m\u001b[37m\u001b[0m \u001b[1m0s\u001b[0m 49ms/step\n"
     ]
    },
    {
     "name": "stderr",
     "output_type": "stream",
     "text": [
      "\r\n",
      " 74%|███████████████████████████████▋           | 295/400 [00:37<00:12,  8.20it/s]"
     ]
    },
    {
     "name": "stdout",
     "output_type": "stream",
     "text": [
      "\u001b[1m1/1\u001b[0m \u001b[32m━━━━━━━━━━━━━━━━━━━━\u001b[0m\u001b[37m\u001b[0m \u001b[1m0s\u001b[0m 50ms/step\n"
     ]
    },
    {
     "name": "stderr",
     "output_type": "stream",
     "text": [
      "\r\n",
      " 74%|███████████████████████████████▊           | 296/400 [00:37<00:12,  8.08it/s]"
     ]
    },
    {
     "name": "stdout",
     "output_type": "stream",
     "text": [
      "\u001b[1m1/1\u001b[0m \u001b[32m━━━━━━━━━━━━━━━━━━━━\u001b[0m\u001b[37m\u001b[0m \u001b[1m0s\u001b[0m 50ms/step\n"
     ]
    },
    {
     "name": "stderr",
     "output_type": "stream",
     "text": [
      "\r\n",
      " 74%|███████████████████████████████▉           | 297/400 [00:37<00:12,  8.02it/s]"
     ]
    },
    {
     "name": "stdout",
     "output_type": "stream",
     "text": [
      "\u001b[1m1/1\u001b[0m \u001b[32m━━━━━━━━━━━━━━━━━━━━\u001b[0m\u001b[37m\u001b[0m \u001b[1m0s\u001b[0m 50ms/step\n"
     ]
    },
    {
     "name": "stderr",
     "output_type": "stream",
     "text": [
      "\r\n",
      " 74%|████████████████████████████████           | 298/400 [00:37<00:12,  8.10it/s]"
     ]
    },
    {
     "name": "stdout",
     "output_type": "stream",
     "text": [
      "\u001b[1m1/1\u001b[0m \u001b[32m━━━━━━━━━━━━━━━━━━━━\u001b[0m\u001b[37m\u001b[0m \u001b[1m0s\u001b[0m 50ms/step\n"
     ]
    },
    {
     "name": "stderr",
     "output_type": "stream",
     "text": [
      "\r\n",
      " 75%|████████████████████████████████▏          | 299/400 [00:38<00:12,  8.15it/s]"
     ]
    },
    {
     "name": "stdout",
     "output_type": "stream",
     "text": [
      "\u001b[1m1/1\u001b[0m \u001b[32m━━━━━━━━━━━━━━━━━━━━\u001b[0m\u001b[37m\u001b[0m \u001b[1m0s\u001b[0m 49ms/step\n"
     ]
    },
    {
     "name": "stderr",
     "output_type": "stream",
     "text": [
      "\r\n",
      " 75%|████████████████████████████████▎          | 300/400 [00:38<00:12,  8.21it/s]"
     ]
    },
    {
     "name": "stdout",
     "output_type": "stream",
     "text": [
      "\u001b[1m1/1\u001b[0m \u001b[32m━━━━━━━━━━━━━━━━━━━━\u001b[0m\u001b[37m\u001b[0m \u001b[1m0s\u001b[0m 53ms/step\n"
     ]
    },
    {
     "name": "stderr",
     "output_type": "stream",
     "text": [
      "\r\n",
      " 75%|████████████████████████████████▎          | 301/400 [00:38<00:12,  7.97it/s]"
     ]
    },
    {
     "name": "stdout",
     "output_type": "stream",
     "text": [
      "\u001b[1m1/1\u001b[0m \u001b[32m━━━━━━━━━━━━━━━━━━━━\u001b[0m\u001b[37m\u001b[0m \u001b[1m0s\u001b[0m 50ms/step\n"
     ]
    },
    {
     "name": "stderr",
     "output_type": "stream",
     "text": [
      "\r\n",
      " 76%|████████████████████████████████▍          | 302/400 [00:38<00:12,  7.80it/s]"
     ]
    },
    {
     "name": "stdout",
     "output_type": "stream",
     "text": [
      "\u001b[1m1/1\u001b[0m \u001b[32m━━━━━━━━━━━━━━━━━━━━\u001b[0m\u001b[37m\u001b[0m \u001b[1m0s\u001b[0m 52ms/step\n"
     ]
    },
    {
     "name": "stderr",
     "output_type": "stream",
     "text": [
      "\r\n",
      " 76%|████████████████████████████████▌          | 303/400 [00:38<00:12,  7.78it/s]"
     ]
    },
    {
     "name": "stdout",
     "output_type": "stream",
     "text": [
      "\u001b[1m1/1\u001b[0m \u001b[32m━━━━━━━━━━━━━━━━━━━━\u001b[0m\u001b[37m\u001b[0m \u001b[1m0s\u001b[0m 51ms/step\n"
     ]
    },
    {
     "name": "stderr",
     "output_type": "stream",
     "text": [
      "\r\n",
      " 76%|████████████████████████████████▋          | 304/400 [00:38<00:12,  7.79it/s]"
     ]
    },
    {
     "name": "stdout",
     "output_type": "stream",
     "text": [
      "\u001b[1m1/1\u001b[0m \u001b[32m━━━━━━━━━━━━━━━━━━━━\u001b[0m\u001b[37m\u001b[0m \u001b[1m0s\u001b[0m 52ms/step\n"
     ]
    },
    {
     "name": "stderr",
     "output_type": "stream",
     "text": [
      "\r\n",
      " 76%|████████████████████████████████▊          | 305/400 [00:38<00:12,  7.78it/s]"
     ]
    },
    {
     "name": "stdout",
     "output_type": "stream",
     "text": [
      "\u001b[1m1/1\u001b[0m \u001b[32m━━━━━━━━━━━━━━━━━━━━\u001b[0m\u001b[37m\u001b[0m \u001b[1m0s\u001b[0m 51ms/step\n"
     ]
    },
    {
     "name": "stderr",
     "output_type": "stream",
     "text": [
      "\r\n",
      " 76%|████████████████████████████████▉          | 306/400 [00:39<00:12,  7.74it/s]"
     ]
    },
    {
     "name": "stdout",
     "output_type": "stream",
     "text": [
      "\u001b[1m1/1\u001b[0m \u001b[32m━━━━━━━━━━━━━━━━━━━━\u001b[0m\u001b[37m\u001b[0m \u001b[1m0s\u001b[0m 51ms/step\n"
     ]
    },
    {
     "name": "stderr",
     "output_type": "stream",
     "text": [
      "\r\n",
      " 77%|█████████████████████████████████          | 307/400 [00:39<00:12,  7.75it/s]"
     ]
    },
    {
     "name": "stdout",
     "output_type": "stream",
     "text": [
      "\u001b[1m1/1\u001b[0m \u001b[32m━━━━━━━━━━━━━━━━━━━━\u001b[0m\u001b[37m\u001b[0m \u001b[1m0s\u001b[0m 52ms/step\n"
     ]
    },
    {
     "name": "stderr",
     "output_type": "stream",
     "text": [
      "\r\n",
      " 77%|█████████████████████████████████          | 308/400 [00:39<00:11,  7.75it/s]"
     ]
    },
    {
     "name": "stdout",
     "output_type": "stream",
     "text": [
      "\u001b[1m1/1\u001b[0m \u001b[32m━━━━━━━━━━━━━━━━━━━━\u001b[0m\u001b[37m\u001b[0m \u001b[1m0s\u001b[0m 53ms/step\n"
     ]
    },
    {
     "name": "stderr",
     "output_type": "stream",
     "text": [
      "\r\n",
      " 77%|█████████████████████████████████▏         | 309/400 [00:39<00:12,  7.58it/s]"
     ]
    },
    {
     "name": "stdout",
     "output_type": "stream",
     "text": [
      "\u001b[1m1/1\u001b[0m \u001b[32m━━━━━━━━━━━━━━━━━━━━\u001b[0m\u001b[37m\u001b[0m \u001b[1m0s\u001b[0m 52ms/step\n"
     ]
    },
    {
     "name": "stderr",
     "output_type": "stream",
     "text": [
      "\r\n",
      " 78%|█████████████████████████████████▎         | 310/400 [00:39<00:12,  7.46it/s]"
     ]
    },
    {
     "name": "stdout",
     "output_type": "stream",
     "text": [
      "\u001b[1m1/1\u001b[0m \u001b[32m━━━━━━━━━━━━━━━━━━━━\u001b[0m\u001b[37m\u001b[0m \u001b[1m0s\u001b[0m 52ms/step\n"
     ]
    },
    {
     "name": "stderr",
     "output_type": "stream",
     "text": [
      "\r\n",
      " 78%|█████████████████████████████████▍         | 311/400 [00:39<00:12,  7.30it/s]"
     ]
    },
    {
     "name": "stdout",
     "output_type": "stream",
     "text": [
      "\u001b[1m1/1\u001b[0m \u001b[32m━━━━━━━━━━━━━━━━━━━━\u001b[0m\u001b[37m\u001b[0m \u001b[1m0s\u001b[0m 52ms/step\n"
     ]
    },
    {
     "name": "stderr",
     "output_type": "stream",
     "text": [
      "\r\n",
      " 78%|█████████████████████████████████▌         | 312/400 [00:39<00:11,  7.36it/s]"
     ]
    },
    {
     "name": "stdout",
     "output_type": "stream",
     "text": [
      "\u001b[1m1/1\u001b[0m \u001b[32m━━━━━━━━━━━━━━━━━━━━\u001b[0m\u001b[37m\u001b[0m \u001b[1m0s\u001b[0m 51ms/step\n"
     ]
    },
    {
     "name": "stderr",
     "output_type": "stream",
     "text": [
      "\r\n",
      " 78%|█████████████████████████████████▋         | 313/400 [00:39<00:11,  7.54it/s]"
     ]
    },
    {
     "name": "stdout",
     "output_type": "stream",
     "text": [
      "\u001b[1m1/1\u001b[0m \u001b[32m━━━━━━━━━━━━━━━━━━━━\u001b[0m\u001b[37m\u001b[0m \u001b[1m0s\u001b[0m 52ms/step\n"
     ]
    },
    {
     "name": "stderr",
     "output_type": "stream",
     "text": [
      "\r\n",
      " 78%|█████████████████████████████████▊         | 314/400 [00:40<00:11,  7.62it/s]"
     ]
    },
    {
     "name": "stdout",
     "output_type": "stream",
     "text": [
      "\u001b[1m1/1\u001b[0m \u001b[32m━━━━━━━━━━━━━━━━━━━━\u001b[0m\u001b[37m\u001b[0m \u001b[1m0s\u001b[0m 51ms/step\n"
     ]
    },
    {
     "name": "stderr",
     "output_type": "stream",
     "text": [
      "\r\n",
      " 79%|█████████████████████████████████▊         | 315/400 [00:40<00:11,  7.72it/s]"
     ]
    },
    {
     "name": "stdout",
     "output_type": "stream",
     "text": [
      "\u001b[1m1/1\u001b[0m \u001b[32m━━━━━━━━━━━━━━━━━━━━\u001b[0m\u001b[37m\u001b[0m \u001b[1m0s\u001b[0m 51ms/step\n"
     ]
    },
    {
     "name": "stderr",
     "output_type": "stream",
     "text": [
      "\r\n",
      " 79%|█████████████████████████████████▉         | 316/400 [00:40<00:11,  7.61it/s]"
     ]
    },
    {
     "name": "stdout",
     "output_type": "stream",
     "text": [
      "\u001b[1m1/1\u001b[0m \u001b[32m━━━━━━━━━━━━━━━━━━━━\u001b[0m\u001b[37m\u001b[0m \u001b[1m0s\u001b[0m 52ms/step\n"
     ]
    },
    {
     "name": "stderr",
     "output_type": "stream",
     "text": [
      "\r\n",
      " 79%|██████████████████████████████████         | 317/400 [00:40<00:10,  7.58it/s]"
     ]
    },
    {
     "name": "stdout",
     "output_type": "stream",
     "text": [
      "\u001b[1m1/1\u001b[0m \u001b[32m━━━━━━━━━━━━━━━━━━━━\u001b[0m\u001b[37m\u001b[0m \u001b[1m0s\u001b[0m 52ms/step\n"
     ]
    },
    {
     "name": "stderr",
     "output_type": "stream",
     "text": [
      "\r\n",
      " 80%|██████████████████████████████████▏        | 318/400 [00:40<00:10,  7.62it/s]"
     ]
    },
    {
     "name": "stdout",
     "output_type": "stream",
     "text": [
      "\u001b[1m1/1\u001b[0m \u001b[32m━━━━━━━━━━━━━━━━━━━━\u001b[0m\u001b[37m\u001b[0m \u001b[1m0s\u001b[0m 51ms/step\n"
     ]
    },
    {
     "name": "stderr",
     "output_type": "stream",
     "text": [
      "\r\n",
      " 80%|██████████████████████████████████▎        | 319/400 [00:40<00:10,  7.63it/s]"
     ]
    },
    {
     "name": "stdout",
     "output_type": "stream",
     "text": [
      "\u001b[1m1/1\u001b[0m \u001b[32m━━━━━━━━━━━━━━━━━━━━\u001b[0m\u001b[37m\u001b[0m \u001b[1m0s\u001b[0m 53ms/step\n"
     ]
    },
    {
     "name": "stderr",
     "output_type": "stream",
     "text": [
      "\r\n",
      " 80%|██████████████████████████████████▍        | 320/400 [00:40<00:10,  7.61it/s]"
     ]
    },
    {
     "name": "stdout",
     "output_type": "stream",
     "text": [
      "\u001b[1m1/1\u001b[0m \u001b[32m━━━━━━━━━━━━━━━━━━━━\u001b[0m\u001b[37m\u001b[0m \u001b[1m0s\u001b[0m 54ms/step\n"
     ]
    },
    {
     "name": "stderr",
     "output_type": "stream",
     "text": [
      "\r\n",
      " 80%|██████████████████████████████████▌        | 321/400 [00:41<00:10,  7.53it/s]"
     ]
    },
    {
     "name": "stdout",
     "output_type": "stream",
     "text": [
      "\u001b[1m1/1\u001b[0m \u001b[32m━━━━━━━━━━━━━━━━━━━━\u001b[0m\u001b[37m\u001b[0m \u001b[1m0s\u001b[0m 53ms/step\n"
     ]
    },
    {
     "name": "stderr",
     "output_type": "stream",
     "text": [
      "\r\n",
      " 80%|██████████████████████████████████▌        | 322/400 [00:41<00:10,  7.64it/s]"
     ]
    },
    {
     "name": "stdout",
     "output_type": "stream",
     "text": [
      "\u001b[1m1/1\u001b[0m \u001b[32m━━━━━━━━━━━━━━━━━━━━\u001b[0m\u001b[37m\u001b[0m \u001b[1m0s\u001b[0m 53ms/step\n"
     ]
    },
    {
     "name": "stderr",
     "output_type": "stream",
     "text": [
      "\r\n",
      " 81%|██████████████████████████████████▋        | 323/400 [00:41<00:10,  7.57it/s]"
     ]
    },
    {
     "name": "stdout",
     "output_type": "stream",
     "text": [
      "\u001b[1m1/1\u001b[0m \u001b[32m━━━━━━━━━━━━━━━━━━━━\u001b[0m\u001b[37m\u001b[0m \u001b[1m0s\u001b[0m 52ms/step\n"
     ]
    },
    {
     "name": "stderr",
     "output_type": "stream",
     "text": [
      "\r\n",
      " 81%|██████████████████████████████████▊        | 324/400 [00:41<00:10,  7.52it/s]"
     ]
    },
    {
     "name": "stdout",
     "output_type": "stream",
     "text": [
      "\u001b[1m1/1\u001b[0m \u001b[32m━━━━━━━━━━━━━━━━━━━━\u001b[0m\u001b[37m\u001b[0m \u001b[1m0s\u001b[0m 53ms/step\n"
     ]
    },
    {
     "name": "stderr",
     "output_type": "stream",
     "text": [
      "\r\n",
      " 81%|██████████████████████████████████▉        | 325/400 [00:41<00:09,  7.54it/s]"
     ]
    },
    {
     "name": "stdout",
     "output_type": "stream",
     "text": [
      "\u001b[1m1/1\u001b[0m \u001b[32m━━━━━━━━━━━━━━━━━━━━\u001b[0m\u001b[37m\u001b[0m \u001b[1m0s\u001b[0m 52ms/step\n"
     ]
    },
    {
     "name": "stderr",
     "output_type": "stream",
     "text": [
      "\r\n",
      " 82%|███████████████████████████████████        | 326/400 [00:41<00:09,  7.41it/s]"
     ]
    },
    {
     "name": "stdout",
     "output_type": "stream",
     "text": [
      "\u001b[1m1/1\u001b[0m \u001b[32m━━━━━━━━━━━━━━━━━━━━\u001b[0m\u001b[37m\u001b[0m \u001b[1m0s\u001b[0m 53ms/step\n"
     ]
    },
    {
     "name": "stderr",
     "output_type": "stream",
     "text": [
      "\r\n",
      " 82%|███████████████████████████████████▏       | 327/400 [00:41<00:09,  7.45it/s]"
     ]
    },
    {
     "name": "stdout",
     "output_type": "stream",
     "text": [
      "\u001b[1m1/1\u001b[0m \u001b[32m━━━━━━━━━━━━━━━━━━━━\u001b[0m\u001b[37m\u001b[0m \u001b[1m0s\u001b[0m 52ms/step\n"
     ]
    },
    {
     "name": "stderr",
     "output_type": "stream",
     "text": [
      "\r\n",
      " 82%|███████████████████████████████████▎       | 328/400 [00:41<00:09,  7.49it/s]"
     ]
    },
    {
     "name": "stdout",
     "output_type": "stream",
     "text": [
      "\u001b[1m1/1\u001b[0m \u001b[32m━━━━━━━━━━━━━━━━━━━━\u001b[0m\u001b[37m\u001b[0m \u001b[1m0s\u001b[0m 53ms/step\n"
     ]
    },
    {
     "name": "stderr",
     "output_type": "stream",
     "text": [
      "\r\n",
      " 82%|███████████████████████████████████▎       | 329/400 [00:42<00:09,  7.42it/s]"
     ]
    },
    {
     "name": "stdout",
     "output_type": "stream",
     "text": [
      "\u001b[1m1/1\u001b[0m \u001b[32m━━━━━━━━━━━━━━━━━━━━\u001b[0m\u001b[37m\u001b[0m \u001b[1m0s\u001b[0m 51ms/step\n"
     ]
    },
    {
     "name": "stderr",
     "output_type": "stream",
     "text": [
      "\r\n",
      " 82%|███████████████████████████████████▍       | 330/400 [00:42<00:09,  7.46it/s]"
     ]
    },
    {
     "name": "stdout",
     "output_type": "stream",
     "text": [
      "\u001b[1m1/1\u001b[0m \u001b[32m━━━━━━━━━━━━━━━━━━━━\u001b[0m\u001b[37m\u001b[0m \u001b[1m0s\u001b[0m 51ms/step\n"
     ]
    },
    {
     "name": "stderr",
     "output_type": "stream",
     "text": [
      "\r\n",
      " 83%|███████████████████████████████████▌       | 331/400 [00:42<00:09,  7.47it/s]"
     ]
    },
    {
     "name": "stdout",
     "output_type": "stream",
     "text": [
      "\u001b[1m1/1\u001b[0m \u001b[32m━━━━━━━━━━━━━━━━━━━━\u001b[0m\u001b[37m\u001b[0m \u001b[1m0s\u001b[0m 51ms/step\n"
     ]
    },
    {
     "name": "stderr",
     "output_type": "stream",
     "text": [
      "\r\n",
      " 83%|███████████████████████████████████▋       | 332/400 [00:42<00:08,  7.61it/s]"
     ]
    },
    {
     "name": "stdout",
     "output_type": "stream",
     "text": [
      "\u001b[1m1/1\u001b[0m \u001b[32m━━━━━━━━━━━━━━━━━━━━\u001b[0m\u001b[37m\u001b[0m \u001b[1m0s\u001b[0m 52ms/step\n"
     ]
    },
    {
     "name": "stderr",
     "output_type": "stream",
     "text": [
      "\r\n",
      " 83%|███████████████████████████████████▊       | 333/400 [00:42<00:08,  7.68it/s]"
     ]
    },
    {
     "name": "stdout",
     "output_type": "stream",
     "text": [
      "\u001b[1m1/1\u001b[0m \u001b[32m━━━━━━━━━━━━━━━━━━━━\u001b[0m\u001b[37m\u001b[0m \u001b[1m0s\u001b[0m 51ms/step\n"
     ]
    },
    {
     "name": "stderr",
     "output_type": "stream",
     "text": [
      "\r\n",
      " 84%|███████████████████████████████████▉       | 334/400 [00:42<00:08,  7.69it/s]"
     ]
    },
    {
     "name": "stdout",
     "output_type": "stream",
     "text": [
      "\u001b[1m1/1\u001b[0m \u001b[32m━━━━━━━━━━━━━━━━━━━━\u001b[0m\u001b[37m\u001b[0m \u001b[1m0s\u001b[0m 52ms/step\n"
     ]
    },
    {
     "name": "stderr",
     "output_type": "stream",
     "text": [
      "\r\n",
      " 84%|████████████████████████████████████       | 335/400 [00:42<00:08,  7.72it/s]"
     ]
    },
    {
     "name": "stdout",
     "output_type": "stream",
     "text": [
      "\u001b[1m1/1\u001b[0m \u001b[32m━━━━━━━━━━━━━━━━━━━━\u001b[0m\u001b[37m\u001b[0m \u001b[1m0s\u001b[0m 51ms/step\n"
     ]
    },
    {
     "name": "stderr",
     "output_type": "stream",
     "text": [
      "\r\n",
      " 84%|████████████████████████████████████       | 336/400 [00:42<00:08,  7.63it/s]"
     ]
    },
    {
     "name": "stdout",
     "output_type": "stream",
     "text": [
      "\u001b[1m1/1\u001b[0m \u001b[32m━━━━━━━━━━━━━━━━━━━━\u001b[0m\u001b[37m\u001b[0m \u001b[1m0s\u001b[0m 50ms/step\n"
     ]
    },
    {
     "name": "stderr",
     "output_type": "stream",
     "text": [
      "\r\n",
      " 84%|████████████████████████████████████▏      | 337/400 [00:43<00:08,  7.77it/s]"
     ]
    },
    {
     "name": "stdout",
     "output_type": "stream",
     "text": [
      "\u001b[1m1/1\u001b[0m \u001b[32m━━━━━━━━━━━━━━━━━━━━\u001b[0m\u001b[37m\u001b[0m \u001b[1m0s\u001b[0m 51ms/step\n"
     ]
    },
    {
     "name": "stderr",
     "output_type": "stream",
     "text": [
      "\r\n",
      " 84%|████████████████████████████████████▎      | 338/400 [00:43<00:07,  7.80it/s]"
     ]
    },
    {
     "name": "stdout",
     "output_type": "stream",
     "text": [
      "\u001b[1m1/1\u001b[0m \u001b[32m━━━━━━━━━━━━━━━━━━━━\u001b[0m\u001b[37m\u001b[0m \u001b[1m0s\u001b[0m 50ms/step\n"
     ]
    },
    {
     "name": "stderr",
     "output_type": "stream",
     "text": [
      "\r\n",
      " 85%|████████████████████████████████████▍      | 339/400 [00:43<00:07,  7.76it/s]"
     ]
    },
    {
     "name": "stdout",
     "output_type": "stream",
     "text": [
      "\u001b[1m1/1\u001b[0m \u001b[32m━━━━━━━━━━━━━━━━━━━━\u001b[0m\u001b[37m\u001b[0m \u001b[1m0s\u001b[0m 57ms/step\n"
     ]
    },
    {
     "name": "stderr",
     "output_type": "stream",
     "text": [
      "\r\n",
      " 85%|████████████████████████████████████▌      | 340/400 [00:43<00:07,  7.54it/s]"
     ]
    },
    {
     "name": "stdout",
     "output_type": "stream",
     "text": [
      "\u001b[1m1/1\u001b[0m \u001b[32m━━━━━━━━━━━━━━━━━━━━\u001b[0m\u001b[37m\u001b[0m \u001b[1m0s\u001b[0m 50ms/step\n"
     ]
    },
    {
     "name": "stderr",
     "output_type": "stream",
     "text": [
      "\r\n",
      " 85%|████████████████████████████████████▋      | 341/400 [00:43<00:07,  7.67it/s]"
     ]
    },
    {
     "name": "stdout",
     "output_type": "stream",
     "text": [
      "\u001b[1m1/1\u001b[0m \u001b[32m━━━━━━━━━━━━━━━━━━━━\u001b[0m\u001b[37m\u001b[0m \u001b[1m0s\u001b[0m 48ms/step\n"
     ]
    },
    {
     "name": "stderr",
     "output_type": "stream",
     "text": [
      "\r\n",
      " 86%|████████████████████████████████████▊      | 342/400 [00:43<00:07,  7.72it/s]"
     ]
    },
    {
     "name": "stdout",
     "output_type": "stream",
     "text": [
      "\u001b[1m1/1\u001b[0m \u001b[32m━━━━━━━━━━━━━━━━━━━━\u001b[0m\u001b[37m\u001b[0m \u001b[1m0s\u001b[0m 49ms/step\n"
     ]
    },
    {
     "name": "stderr",
     "output_type": "stream",
     "text": [
      "\r\n",
      " 86%|████████████████████████████████████▊      | 343/400 [00:43<00:07,  7.96it/s]"
     ]
    },
    {
     "name": "stdout",
     "output_type": "stream",
     "text": [
      "\u001b[1m1/1\u001b[0m \u001b[32m━━━━━━━━━━━━━━━━━━━━\u001b[0m\u001b[37m\u001b[0m \u001b[1m0s\u001b[0m 48ms/step\n"
     ]
    },
    {
     "name": "stderr",
     "output_type": "stream",
     "text": [
      "\r\n",
      " 86%|████████████████████████████████████▉      | 344/400 [00:43<00:06,  8.03it/s]"
     ]
    },
    {
     "name": "stdout",
     "output_type": "stream",
     "text": [
      "\u001b[1m1/1\u001b[0m \u001b[32m━━━━━━━━━━━━━━━━━━━━\u001b[0m\u001b[37m\u001b[0m \u001b[1m0s\u001b[0m 48ms/step\n"
     ]
    },
    {
     "name": "stderr",
     "output_type": "stream",
     "text": [
      "\r\n",
      " 86%|█████████████████████████████████████      | 345/400 [00:44<00:06,  8.18it/s]"
     ]
    },
    {
     "name": "stdout",
     "output_type": "stream",
     "text": [
      "\u001b[1m1/1\u001b[0m \u001b[32m━━━━━━━━━━━━━━━━━━━━\u001b[0m\u001b[37m\u001b[0m \u001b[1m0s\u001b[0m 49ms/step\n"
     ]
    },
    {
     "name": "stderr",
     "output_type": "stream",
     "text": [
      "\r\n",
      " 86%|█████████████████████████████████████▏     | 346/400 [00:44<00:06,  8.30it/s]"
     ]
    },
    {
     "name": "stdout",
     "output_type": "stream",
     "text": [
      "\u001b[1m1/1\u001b[0m \u001b[32m━━━━━━━━━━━━━━━━━━━━\u001b[0m\u001b[37m\u001b[0m \u001b[1m0s\u001b[0m 48ms/step\n"
     ]
    },
    {
     "name": "stderr",
     "output_type": "stream",
     "text": [
      "\r\n",
      " 87%|█████████████████████████████████████▎     | 347/400 [00:44<00:06,  8.34it/s]"
     ]
    },
    {
     "name": "stdout",
     "output_type": "stream",
     "text": [
      "\u001b[1m1/1\u001b[0m \u001b[32m━━━━━━━━━━━━━━━━━━━━\u001b[0m\u001b[37m\u001b[0m \u001b[1m0s\u001b[0m 48ms/step\n"
     ]
    },
    {
     "name": "stderr",
     "output_type": "stream",
     "text": [
      "\r\n",
      " 87%|█████████████████████████████████████▍     | 348/400 [00:44<00:06,  8.26it/s]"
     ]
    },
    {
     "name": "stdout",
     "output_type": "stream",
     "text": [
      "\u001b[1m1/1\u001b[0m \u001b[32m━━━━━━━━━━━━━━━━━━━━\u001b[0m\u001b[37m\u001b[0m \u001b[1m0s\u001b[0m 49ms/step\n"
     ]
    },
    {
     "name": "stderr",
     "output_type": "stream",
     "text": [
      "\r\n",
      " 87%|█████████████████████████████████████▌     | 349/400 [00:44<00:06,  8.29it/s]"
     ]
    },
    {
     "name": "stdout",
     "output_type": "stream",
     "text": [
      "\u001b[1m1/1\u001b[0m \u001b[32m━━━━━━━━━━━━━━━━━━━━\u001b[0m\u001b[37m\u001b[0m \u001b[1m0s\u001b[0m 49ms/step\n"
     ]
    },
    {
     "name": "stderr",
     "output_type": "stream",
     "text": [
      "\r\n",
      " 88%|█████████████████████████████████████▋     | 350/400 [00:44<00:05,  8.36it/s]"
     ]
    },
    {
     "name": "stdout",
     "output_type": "stream",
     "text": [
      "\u001b[1m1/1\u001b[0m \u001b[32m━━━━━━━━━━━━━━━━━━━━\u001b[0m\u001b[37m\u001b[0m \u001b[1m0s\u001b[0m 51ms/step\n"
     ]
    },
    {
     "name": "stderr",
     "output_type": "stream",
     "text": [
      "\r\n",
      " 88%|█████████████████████████████████████▋     | 351/400 [00:44<00:06,  7.91it/s]"
     ]
    },
    {
     "name": "stdout",
     "output_type": "stream",
     "text": [
      "\u001b[1m1/1\u001b[0m \u001b[32m━━━━━━━━━━━━━━━━━━━━\u001b[0m\u001b[37m\u001b[0m \u001b[1m0s\u001b[0m 51ms/step\n"
     ]
    },
    {
     "name": "stderr",
     "output_type": "stream",
     "text": [
      "\r\n",
      " 88%|█████████████████████████████████████▊     | 352/400 [00:44<00:06,  7.85it/s]"
     ]
    },
    {
     "name": "stdout",
     "output_type": "stream",
     "text": [
      "\u001b[1m1/1\u001b[0m \u001b[32m━━━━━━━━━━━━━━━━━━━━\u001b[0m\u001b[37m\u001b[0m \u001b[1m0s\u001b[0m 50ms/step\n"
     ]
    },
    {
     "name": "stderr",
     "output_type": "stream",
     "text": [
      "\r\n",
      " 88%|█████████████████████████████████████▉     | 353/400 [00:45<00:05,  7.96it/s]"
     ]
    },
    {
     "name": "stdout",
     "output_type": "stream",
     "text": [
      "\u001b[1m1/1\u001b[0m \u001b[32m━━━━━━━━━━━━━━━━━━━━\u001b[0m\u001b[37m\u001b[0m \u001b[1m0s\u001b[0m 51ms/step\n"
     ]
    },
    {
     "name": "stderr",
     "output_type": "stream",
     "text": [
      "\r\n",
      " 88%|██████████████████████████████████████     | 354/400 [00:45<00:05,  7.97it/s]"
     ]
    },
    {
     "name": "stdout",
     "output_type": "stream",
     "text": [
      "\u001b[1m1/1\u001b[0m \u001b[32m━━━━━━━━━━━━━━━━━━━━\u001b[0m\u001b[37m\u001b[0m \u001b[1m0s\u001b[0m 50ms/step\n"
     ]
    },
    {
     "name": "stderr",
     "output_type": "stream",
     "text": [
      "\r\n",
      " 89%|██████████████████████████████████████▏    | 355/400 [00:45<00:05,  7.90it/s]"
     ]
    },
    {
     "name": "stdout",
     "output_type": "stream",
     "text": [
      "\u001b[1m1/1\u001b[0m \u001b[32m━━━━━━━━━━━━━━━━━━━━\u001b[0m\u001b[37m\u001b[0m \u001b[1m0s\u001b[0m 51ms/step\n"
     ]
    },
    {
     "name": "stderr",
     "output_type": "stream",
     "text": [
      "\r\n",
      " 89%|██████████████████████████████████████▎    | 356/400 [00:45<00:05,  7.79it/s]"
     ]
    },
    {
     "name": "stdout",
     "output_type": "stream",
     "text": [
      "\u001b[1m1/1\u001b[0m \u001b[32m━━━━━━━━━━━━━━━━━━━━\u001b[0m\u001b[37m\u001b[0m \u001b[1m0s\u001b[0m 52ms/step\n"
     ]
    },
    {
     "name": "stderr",
     "output_type": "stream",
     "text": [
      "\r\n",
      " 89%|██████████████████████████████████████▍    | 357/400 [00:45<00:05,  7.81it/s]"
     ]
    },
    {
     "name": "stdout",
     "output_type": "stream",
     "text": [
      "\u001b[1m1/1\u001b[0m \u001b[32m━━━━━━━━━━━━━━━━━━━━\u001b[0m\u001b[37m\u001b[0m \u001b[1m0s\u001b[0m 51ms/step\n"
     ]
    },
    {
     "name": "stderr",
     "output_type": "stream",
     "text": [
      "\r\n",
      " 90%|██████████████████████████████████████▍    | 358/400 [00:45<00:05,  7.72it/s]"
     ]
    },
    {
     "name": "stdout",
     "output_type": "stream",
     "text": [
      "\u001b[1m1/1\u001b[0m \u001b[32m━━━━━━━━━━━━━━━━━━━━\u001b[0m\u001b[37m\u001b[0m \u001b[1m0s\u001b[0m 51ms/step\n"
     ]
    },
    {
     "name": "stderr",
     "output_type": "stream",
     "text": [
      "\r\n",
      " 90%|██████████████████████████████████████▌    | 359/400 [00:45<00:05,  7.81it/s]"
     ]
    },
    {
     "name": "stdout",
     "output_type": "stream",
     "text": [
      "\u001b[1m1/1\u001b[0m \u001b[32m━━━━━━━━━━━━━━━━━━━━\u001b[0m\u001b[37m\u001b[0m \u001b[1m0s\u001b[0m 51ms/step\n"
     ]
    },
    {
     "name": "stderr",
     "output_type": "stream",
     "text": [
      "\r\n",
      " 90%|██████████████████████████████████████▋    | 360/400 [00:46<00:05,  7.90it/s]"
     ]
    },
    {
     "name": "stdout",
     "output_type": "stream",
     "text": [
      "\u001b[1m1/1\u001b[0m \u001b[32m━━━━━━━━━━━━━━━━━━━━\u001b[0m\u001b[37m\u001b[0m \u001b[1m0s\u001b[0m 50ms/step\n"
     ]
    },
    {
     "name": "stderr",
     "output_type": "stream",
     "text": [
      "\r\n",
      " 90%|██████████████████████████████████████▊    | 361/400 [00:46<00:04,  8.03it/s]"
     ]
    },
    {
     "name": "stdout",
     "output_type": "stream",
     "text": [
      "\u001b[1m1/1\u001b[0m \u001b[32m━━━━━━━━━━━━━━━━━━━━\u001b[0m\u001b[37m\u001b[0m \u001b[1m0s\u001b[0m 50ms/step\n"
     ]
    },
    {
     "name": "stderr",
     "output_type": "stream",
     "text": [
      "\r\n",
      " 90%|██████████████████████████████████████▉    | 362/400 [00:46<00:04,  8.14it/s]"
     ]
    },
    {
     "name": "stdout",
     "output_type": "stream",
     "text": [
      "\u001b[1m1/1\u001b[0m \u001b[32m━━━━━━━━━━━━━━━━━━━━\u001b[0m\u001b[37m\u001b[0m \u001b[1m0s\u001b[0m 50ms/step\n"
     ]
    },
    {
     "name": "stderr",
     "output_type": "stream",
     "text": [
      "\r\n",
      " 91%|███████████████████████████████████████    | 363/400 [00:46<00:04,  8.02it/s]"
     ]
    },
    {
     "name": "stdout",
     "output_type": "stream",
     "text": [
      "\u001b[1m1/1\u001b[0m \u001b[32m━━━━━━━━━━━━━━━━━━━━\u001b[0m\u001b[37m\u001b[0m \u001b[1m0s\u001b[0m 49ms/step\n"
     ]
    },
    {
     "name": "stderr",
     "output_type": "stream",
     "text": [
      "\r\n",
      " 91%|███████████████████████████████████████▏   | 364/400 [00:46<00:04,  7.97it/s]"
     ]
    },
    {
     "name": "stdout",
     "output_type": "stream",
     "text": [
      "\u001b[1m1/1\u001b[0m \u001b[32m━━━━━━━━━━━━━━━━━━━━\u001b[0m\u001b[37m\u001b[0m \u001b[1m0s\u001b[0m 51ms/step\n"
     ]
    },
    {
     "name": "stderr",
     "output_type": "stream",
     "text": [
      "\r\n",
      " 91%|███████████████████████████████████████▏   | 365/400 [00:46<00:04,  7.92it/s]"
     ]
    },
    {
     "name": "stdout",
     "output_type": "stream",
     "text": [
      "\u001b[1m1/1\u001b[0m \u001b[32m━━━━━━━━━━━━━━━━━━━━\u001b[0m\u001b[37m\u001b[0m \u001b[1m0s\u001b[0m 50ms/step\n"
     ]
    },
    {
     "name": "stderr",
     "output_type": "stream",
     "text": [
      "\r\n",
      " 92%|███████████████████████████████████████▎   | 366/400 [00:46<00:04,  8.01it/s]"
     ]
    },
    {
     "name": "stdout",
     "output_type": "stream",
     "text": [
      "\u001b[1m1/1\u001b[0m \u001b[32m━━━━━━━━━━━━━━━━━━━━\u001b[0m\u001b[37m\u001b[0m \u001b[1m0s\u001b[0m 49ms/step\n"
     ]
    },
    {
     "name": "stderr",
     "output_type": "stream",
     "text": [
      "\r\n",
      " 92%|███████████████████████████████████████▍   | 367/400 [00:46<00:04,  7.96it/s]"
     ]
    },
    {
     "name": "stdout",
     "output_type": "stream",
     "text": [
      "\u001b[1m1/1\u001b[0m \u001b[32m━━━━━━━━━━━━━━━━━━━━\u001b[0m\u001b[37m\u001b[0m \u001b[1m0s\u001b[0m 51ms/step\n"
     ]
    },
    {
     "name": "stderr",
     "output_type": "stream",
     "text": [
      "\r\n",
      " 92%|███████████████████████████████████████▌   | 368/400 [00:47<00:04,  7.86it/s]"
     ]
    },
    {
     "name": "stdout",
     "output_type": "stream",
     "text": [
      "\u001b[1m1/1\u001b[0m \u001b[32m━━━━━━━━━━━━━━━━━━━━\u001b[0m\u001b[37m\u001b[0m \u001b[1m0s\u001b[0m 50ms/step\n"
     ]
    },
    {
     "name": "stderr",
     "output_type": "stream",
     "text": [
      "\r\n",
      " 92%|███████████████████████████████████████▋   | 369/400 [00:47<00:04,  7.73it/s]"
     ]
    },
    {
     "name": "stdout",
     "output_type": "stream",
     "text": [
      "\u001b[1m1/1\u001b[0m \u001b[32m━━━━━━━━━━━━━━━━━━━━\u001b[0m\u001b[37m\u001b[0m \u001b[1m0s\u001b[0m 49ms/step\n"
     ]
    },
    {
     "name": "stderr",
     "output_type": "stream",
     "text": [
      "\r\n",
      " 92%|███████████████████████████████████████▊   | 370/400 [00:47<00:03,  7.76it/s]"
     ]
    },
    {
     "name": "stdout",
     "output_type": "stream",
     "text": [
      "\u001b[1m1/1\u001b[0m \u001b[32m━━━━━━━━━━━━━━━━━━━━\u001b[0m\u001b[37m\u001b[0m \u001b[1m0s\u001b[0m 55ms/step\n"
     ]
    },
    {
     "name": "stderr",
     "output_type": "stream",
     "text": [
      "\r\n",
      " 93%|███████████████████████████████████████▉   | 371/400 [00:47<00:03,  7.50it/s]"
     ]
    },
    {
     "name": "stdout",
     "output_type": "stream",
     "text": [
      "\u001b[1m1/1\u001b[0m \u001b[32m━━━━━━━━━━━━━━━━━━━━\u001b[0m\u001b[37m\u001b[0m \u001b[1m0s\u001b[0m 53ms/step\n"
     ]
    },
    {
     "name": "stderr",
     "output_type": "stream",
     "text": [
      "\r\n",
      " 93%|███████████████████████████████████████▉   | 372/400 [00:47<00:03,  7.61it/s]"
     ]
    },
    {
     "name": "stdout",
     "output_type": "stream",
     "text": [
      "\u001b[1m1/1\u001b[0m \u001b[32m━━━━━━━━━━━━━━━━━━━━\u001b[0m\u001b[37m\u001b[0m \u001b[1m0s\u001b[0m 52ms/step\n"
     ]
    },
    {
     "name": "stderr",
     "output_type": "stream",
     "text": [
      "\r\n",
      " 93%|████████████████████████████████████████   | 373/400 [00:47<00:03,  7.50it/s]"
     ]
    },
    {
     "name": "stdout",
     "output_type": "stream",
     "text": [
      "\u001b[1m1/1\u001b[0m \u001b[32m━━━━━━━━━━━━━━━━━━━━\u001b[0m\u001b[37m\u001b[0m \u001b[1m0s\u001b[0m 52ms/step\n"
     ]
    },
    {
     "name": "stderr",
     "output_type": "stream",
     "text": [
      "\r\n",
      " 94%|████████████████████████████████████████▏  | 374/400 [00:47<00:03,  7.48it/s]"
     ]
    },
    {
     "name": "stdout",
     "output_type": "stream",
     "text": [
      "\u001b[1m1/1\u001b[0m \u001b[32m━━━━━━━━━━━━━━━━━━━━\u001b[0m\u001b[37m\u001b[0m \u001b[1m0s\u001b[0m 52ms/step\n"
     ]
    },
    {
     "name": "stderr",
     "output_type": "stream",
     "text": [
      "\r\n",
      " 94%|████████████████████████████████████████▎  | 375/400 [00:47<00:03,  7.47it/s]"
     ]
    },
    {
     "name": "stdout",
     "output_type": "stream",
     "text": [
      "\u001b[1m1/1\u001b[0m \u001b[32m━━━━━━━━━━━━━━━━━━━━\u001b[0m\u001b[37m\u001b[0m \u001b[1m0s\u001b[0m 50ms/step\n"
     ]
    },
    {
     "name": "stderr",
     "output_type": "stream",
     "text": [
      "\r\n",
      " 94%|████████████████████████████████████████▍  | 376/400 [00:48<00:03,  7.40it/s]"
     ]
    },
    {
     "name": "stdout",
     "output_type": "stream",
     "text": [
      "\u001b[1m1/1\u001b[0m \u001b[32m━━━━━━━━━━━━━━━━━━━━\u001b[0m\u001b[37m\u001b[0m \u001b[1m0s\u001b[0m 52ms/step\n"
     ]
    },
    {
     "name": "stderr",
     "output_type": "stream",
     "text": [
      "\r\n",
      " 94%|████████████████████████████████████████▌  | 377/400 [00:48<00:03,  7.48it/s]"
     ]
    },
    {
     "name": "stdout",
     "output_type": "stream",
     "text": [
      "\u001b[1m1/1\u001b[0m \u001b[32m━━━━━━━━━━━━━━━━━━━━\u001b[0m\u001b[37m\u001b[0m \u001b[1m0s\u001b[0m 52ms/step\n"
     ]
    },
    {
     "name": "stderr",
     "output_type": "stream",
     "text": [
      "\r\n",
      " 94%|████████████████████████████████████████▋  | 378/400 [00:48<00:02,  7.45it/s]"
     ]
    },
    {
     "name": "stdout",
     "output_type": "stream",
     "text": [
      "\u001b[1m1/1\u001b[0m \u001b[32m━━━━━━━━━━━━━━━━━━━━\u001b[0m\u001b[37m\u001b[0m \u001b[1m0s\u001b[0m 52ms/step\n"
     ]
    },
    {
     "name": "stderr",
     "output_type": "stream",
     "text": [
      "\r\n",
      " 95%|████████████████████████████████████████▋  | 379/400 [00:48<00:02,  7.53it/s]"
     ]
    },
    {
     "name": "stdout",
     "output_type": "stream",
     "text": [
      "\u001b[1m1/1\u001b[0m \u001b[32m━━━━━━━━━━━━━━━━━━━━\u001b[0m\u001b[37m\u001b[0m \u001b[1m0s\u001b[0m 54ms/step\n"
     ]
    },
    {
     "name": "stderr",
     "output_type": "stream",
     "text": [
      "\r\n",
      " 95%|████████████████████████████████████████▊  | 380/400 [00:48<00:02,  7.47it/s]"
     ]
    },
    {
     "name": "stdout",
     "output_type": "stream",
     "text": [
      "\u001b[1m1/1\u001b[0m \u001b[32m━━━━━━━━━━━━━━━━━━━━\u001b[0m\u001b[37m\u001b[0m \u001b[1m0s\u001b[0m 51ms/step\n"
     ]
    },
    {
     "name": "stderr",
     "output_type": "stream",
     "text": [
      "\r\n",
      " 95%|████████████████████████████████████████▉  | 381/400 [00:48<00:02,  7.52it/s]"
     ]
    },
    {
     "name": "stdout",
     "output_type": "stream",
     "text": [
      "\u001b[1m1/1\u001b[0m \u001b[32m━━━━━━━━━━━━━━━━━━━━\u001b[0m\u001b[37m\u001b[0m \u001b[1m0s\u001b[0m 50ms/step\n"
     ]
    },
    {
     "name": "stderr",
     "output_type": "stream",
     "text": [
      "\r\n",
      " 96%|█████████████████████████████████████████  | 382/400 [00:48<00:02,  7.61it/s]"
     ]
    },
    {
     "name": "stdout",
     "output_type": "stream",
     "text": [
      "\u001b[1m1/1\u001b[0m \u001b[32m━━━━━━━━━━━━━━━━━━━━\u001b[0m\u001b[37m\u001b[0m \u001b[1m0s\u001b[0m 50ms/step\n"
     ]
    },
    {
     "name": "stderr",
     "output_type": "stream",
     "text": [
      "\r\n",
      " 96%|█████████████████████████████████████████▏ | 383/400 [00:48<00:02,  7.74it/s]"
     ]
    },
    {
     "name": "stdout",
     "output_type": "stream",
     "text": [
      "\u001b[1m1/1\u001b[0m \u001b[32m━━━━━━━━━━━━━━━━━━━━\u001b[0m\u001b[37m\u001b[0m \u001b[1m0s\u001b[0m 48ms/step\n"
     ]
    },
    {
     "name": "stderr",
     "output_type": "stream",
     "text": [
      "\r\n",
      " 96%|█████████████████████████████████████████▎ | 384/400 [00:49<00:02,  7.85it/s]"
     ]
    },
    {
     "name": "stdout",
     "output_type": "stream",
     "text": [
      "\u001b[1m1/1\u001b[0m \u001b[32m━━━━━━━━━━━━━━━━━━━━\u001b[0m\u001b[37m\u001b[0m \u001b[1m0s\u001b[0m 48ms/step\n"
     ]
    },
    {
     "name": "stderr",
     "output_type": "stream",
     "text": [
      "\r\n",
      " 96%|█████████████████████████████████████████▍ | 385/400 [00:49<00:01,  8.08it/s]"
     ]
    },
    {
     "name": "stdout",
     "output_type": "stream",
     "text": [
      "\u001b[1m1/1\u001b[0m \u001b[32m━━━━━━━━━━━━━━━━━━━━\u001b[0m\u001b[37m\u001b[0m \u001b[1m0s\u001b[0m 48ms/step\n"
     ]
    },
    {
     "name": "stderr",
     "output_type": "stream",
     "text": [
      "\r\n",
      " 96%|█████████████████████████████████████████▍ | 386/400 [00:49<00:01,  8.12it/s]"
     ]
    },
    {
     "name": "stdout",
     "output_type": "stream",
     "text": [
      "\u001b[1m1/1\u001b[0m \u001b[32m━━━━━━━━━━━━━━━━━━━━\u001b[0m\u001b[37m\u001b[0m \u001b[1m0s\u001b[0m 48ms/step\n"
     ]
    },
    {
     "name": "stderr",
     "output_type": "stream",
     "text": [
      "\r\n",
      " 97%|█████████████████████████████████████████▌ | 387/400 [00:49<00:01,  8.19it/s]"
     ]
    },
    {
     "name": "stdout",
     "output_type": "stream",
     "text": [
      "\u001b[1m1/1\u001b[0m \u001b[32m━━━━━━━━━━━━━━━━━━━━\u001b[0m\u001b[37m\u001b[0m \u001b[1m0s\u001b[0m 49ms/step\n"
     ]
    },
    {
     "name": "stderr",
     "output_type": "stream",
     "text": [
      "\r\n",
      " 97%|█████████████████████████████████████████▋ | 388/400 [00:49<00:01,  8.25it/s]"
     ]
    },
    {
     "name": "stdout",
     "output_type": "stream",
     "text": [
      "\u001b[1m1/1\u001b[0m \u001b[32m━━━━━━━━━━━━━━━━━━━━\u001b[0m\u001b[37m\u001b[0m \u001b[1m0s\u001b[0m 48ms/step\n"
     ]
    },
    {
     "name": "stderr",
     "output_type": "stream",
     "text": [
      "\r\n",
      " 97%|█████████████████████████████████████████▊ | 389/400 [00:49<00:01,  8.28it/s]"
     ]
    },
    {
     "name": "stdout",
     "output_type": "stream",
     "text": [
      "\u001b[1m1/1\u001b[0m \u001b[32m━━━━━━━━━━━━━━━━━━━━\u001b[0m\u001b[37m\u001b[0m \u001b[1m0s\u001b[0m 49ms/step\n"
     ]
    },
    {
     "name": "stderr",
     "output_type": "stream",
     "text": [
      "\r\n",
      " 98%|█████████████████████████████████████████▉ | 390/400 [00:49<00:01,  8.21it/s]"
     ]
    },
    {
     "name": "stdout",
     "output_type": "stream",
     "text": [
      "\u001b[1m1/1\u001b[0m \u001b[32m━━━━━━━━━━━━━━━━━━━━\u001b[0m\u001b[37m\u001b[0m \u001b[1m0s\u001b[0m 49ms/step\n"
     ]
    },
    {
     "name": "stderr",
     "output_type": "stream",
     "text": [
      "\r\n",
      " 98%|██████████████████████████████████████████ | 391/400 [00:49<00:01,  8.13it/s]"
     ]
    },
    {
     "name": "stdout",
     "output_type": "stream",
     "text": [
      "\u001b[1m1/1\u001b[0m \u001b[32m━━━━━━━━━━━━━━━━━━━━\u001b[0m\u001b[37m\u001b[0m \u001b[1m0s\u001b[0m 51ms/step\n"
     ]
    },
    {
     "name": "stderr",
     "output_type": "stream",
     "text": [
      "\r\n",
      " 98%|██████████████████████████████████████████▏| 392/400 [00:50<00:01,  7.96it/s]"
     ]
    },
    {
     "name": "stdout",
     "output_type": "stream",
     "text": [
      "\u001b[1m1/1\u001b[0m \u001b[32m━━━━━━━━━━━━━━━━━━━━\u001b[0m\u001b[37m\u001b[0m \u001b[1m0s\u001b[0m 51ms/step\n"
     ]
    },
    {
     "name": "stderr",
     "output_type": "stream",
     "text": [
      "\r\n",
      " 98%|██████████████████████████████████████████▏| 393/400 [00:50<00:00,  7.90it/s]"
     ]
    },
    {
     "name": "stdout",
     "output_type": "stream",
     "text": [
      "\u001b[1m1/1\u001b[0m \u001b[32m━━━━━━━━━━━━━━━━━━━━\u001b[0m\u001b[37m\u001b[0m \u001b[1m0s\u001b[0m 49ms/step\n"
     ]
    },
    {
     "name": "stderr",
     "output_type": "stream",
     "text": [
      "\r\n",
      " 98%|██████████████████████████████████████████▎| 394/400 [00:50<00:00,  7.99it/s]"
     ]
    },
    {
     "name": "stdout",
     "output_type": "stream",
     "text": [
      "\u001b[1m1/1\u001b[0m \u001b[32m━━━━━━━━━━━━━━━━━━━━\u001b[0m\u001b[37m\u001b[0m \u001b[1m0s\u001b[0m 49ms/step\n"
     ]
    },
    {
     "name": "stderr",
     "output_type": "stream",
     "text": [
      "\r\n",
      " 99%|██████████████████████████████████████████▍| 395/400 [00:50<00:00,  8.05it/s]"
     ]
    },
    {
     "name": "stdout",
     "output_type": "stream",
     "text": [
      "\u001b[1m1/1\u001b[0m \u001b[32m━━━━━━━━━━━━━━━━━━━━\u001b[0m\u001b[37m\u001b[0m \u001b[1m0s\u001b[0m 50ms/step\n"
     ]
    },
    {
     "name": "stderr",
     "output_type": "stream",
     "text": [
      "\r\n",
      " 99%|██████████████████████████████████████████▌| 396/400 [00:50<00:00,  8.06it/s]"
     ]
    },
    {
     "name": "stdout",
     "output_type": "stream",
     "text": [
      "\u001b[1m1/1\u001b[0m \u001b[32m━━━━━━━━━━━━━━━━━━━━\u001b[0m\u001b[37m\u001b[0m \u001b[1m0s\u001b[0m 50ms/step\n"
     ]
    },
    {
     "name": "stderr",
     "output_type": "stream",
     "text": [
      "\r\n",
      " 99%|██████████████████████████████████████████▋| 397/400 [00:50<00:00,  8.01it/s]"
     ]
    },
    {
     "name": "stdout",
     "output_type": "stream",
     "text": [
      "\u001b[1m1/1\u001b[0m \u001b[32m━━━━━━━━━━━━━━━━━━━━\u001b[0m\u001b[37m\u001b[0m \u001b[1m0s\u001b[0m 50ms/step\n"
     ]
    },
    {
     "name": "stderr",
     "output_type": "stream",
     "text": [
      "\r\n",
      "100%|██████████████████████████████████████████▊| 398/400 [00:50<00:00,  7.72it/s]"
     ]
    },
    {
     "name": "stdout",
     "output_type": "stream",
     "text": [
      "\u001b[1m1/1\u001b[0m \u001b[32m━━━━━━━━━━━━━━━━━━━━\u001b[0m\u001b[37m\u001b[0m \u001b[1m0s\u001b[0m 51ms/step\n"
     ]
    },
    {
     "name": "stderr",
     "output_type": "stream",
     "text": [
      "\r\n",
      "100%|██████████████████████████████████████████▉| 399/400 [00:50<00:00,  7.81it/s]"
     ]
    },
    {
     "name": "stdout",
     "output_type": "stream",
     "text": [
      "\u001b[1m1/1\u001b[0m \u001b[32m━━━━━━━━━━━━━━━━━━━━\u001b[0m\u001b[37m\u001b[0m \u001b[1m0s\u001b[0m 50ms/step\n"
     ]
    },
    {
     "name": "stderr",
     "output_type": "stream",
     "text": [
      "100%|███████████████████████████████████████████| 400/400 [00:51<00:00,  7.82it/s]\n"
     ]
    }
   ],
   "source": [
    "S_te_p = []\n",
    "for i in tqdm(range(len(X_test_spect))):\n",
    "    x_te = X_test_spect[i]\n",
    "    x_te_abs = X_test[i]\n",
    "    m_te_p = np.round(rnn_model.predict(x_te_abs.T.reshape([1,-1,513])).squeeze())\n",
    "    s_te_p = (m_te_p.T)*x_te\n",
    "    S_te_p.append(s_te_p)\n",
    "    s = librosa.istft(s_te_p, hop_length=512)\n",
    "    fname = set_file(i,'tec')\n",
    "    sf.write(f'test_recovered/{fname}.wav', s, sr)"
   ]
  },
  {
   "cell_type": "code",
   "execution_count": 47,
   "id": "6e1ab644",
   "metadata": {},
   "outputs": [],
   "source": [
    "tes, sr = librosa.load('test_recovered/tec0000.wav', sr=None)"
   ]
  },
  {
   "cell_type": "markdown",
   "id": "901b1577",
   "metadata": {},
   "source": [
    "#### Noisy Signal"
   ]
  },
  {
   "cell_type": "code",
   "execution_count": 48,
   "id": "0f4f5237",
   "metadata": {},
   "outputs": [
    {
     "data": {
      "text/html": [
       "\n",
       "                <audio  controls=\"controls\" >\n",
       "                    <source src=\"data:audio/wav;base64,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\" type=\"audio/wav\" />\n",
       "                    Your browser does not support the audio element.\n",
       "                </audio>\n",
       "              "
      ],
      "text/plain": [
       "<IPython.lib.display.Audio object>"
      ]
     },
     "execution_count": 48,
     "metadata": {},
     "output_type": "execute_result"
    }
   ],
   "source": [
    "ipd.Audio(tex, rate = sr)"
   ]
  },
  {
   "cell_type": "markdown",
   "id": "8d6594d5",
   "metadata": {},
   "source": [
    "#### Denoised Signal"
   ]
  },
  {
   "cell_type": "code",
   "execution_count": 49,
   "id": "17ae0f9d",
   "metadata": {},
   "outputs": [
    {
     "data": {
      "text/html": [
       "\n",
       "                <audio  controls=\"controls\" >\n",
       "                    <source src=\"data:audio/wav;base64,UklGRiS0AQBXQVZFZm10IBAAAAABAAEAgD4AAAB9AAACABAAZGF0YQC0AQAAAAAAAAAAAAAAAAAAAAAAAAAAAAAAAAAAAAAAAAAAAAAAAAAAAAAAAAAAAAAAAAAAAAAAAAAAAAAAAAAAAAAAAAAAAAAAAAAAAAAAAAAAAAAAAAAAAAAAAAAAAAAAAAAAAAAAAAAAAAAAAAAAAAAAAAAAAAAAAAAAAAAAAAAAAAAAAAAAAAAAAAAAAAAAAAAAAAAAAAAAAAAAAAAAAAAAAAAAAAAAAAAAAAAAAAAAAAAAAAAAAAAAAAAAAAAAAAAAAAAAAAAAAAAAAAAAAAAAAAAAAAAAAAAAAAAAAAAAAAAAAAAAAAAAAAAAAAAAAAAAAAAAAAAAAAAAAAAAAAAAAAAAAAAAAAAAAAAAAAAAAAAAAAAAAAAAAAAAAAAAAAAAAAAAAAAAAAAAAAAAAAAAAAAAAAAAAAAAAAAAAAAAAAAAAAAAAAAAAAAAAAAAAAAAAAAAAAAAAAAAAAAAAAAAAAAAAAAAAAAAAAAAAAAAAAAAAAAAAAAAAAAAAAAAAAAAAAAAAAAAAAAAAAAAAAAAAAAAAAAAAAAAAAAAAAAAAAAAAAAAAAAAAAAAAAAAAAAAAAAAAAAAAAAAAAAAAAAAAAAAAAAAAAAAAAAAAAAAAAAAAAAAAAAAAAAAAAAAAAAAAAAAAAAAAAAAAAAAAAAAAAAAAAAAAAAAAAAAAAAAAAAAAAAAAAAAAAAAAAAAAAAAAAAAAAAAAAAAAAAAAAAAAAAAAAAAAAAAAAAAAAAAAAAAAAAAAAAAAAAAAAAAAAAAAAAAAAAAAAAAAAAAAAAAAAAAAAAAAAAAAAAAAAAAAAAAAAAAAAAAAAAAAAAAAAAAAAAAAAAAAAAAAAAAAAAAAAAAAAAAAAAAAAAAAAAAAAAAAAAAAAAAAAAAAAAAAAAAAAAAAAAAAAAAAAAAAAAAAAAAAAAAAAAAAAAAAAAAAAAAAAAAAAAAAAAAAAAAAAAAAAAAAAAAAAAAAAAAAAAAAAAAAAAAAAAAAAAAAAAAAAAAAAAAAAAAAAAAAAAAAAAAAAAAAAAAAAAAAAAAAAAAAAAAAAAAAAAAAAAAAAAAAAAAAAAAAAAAAAAAAAAAAAAAAAAAAAAAAAAAAAAAAAAAAAAAAAAAAAAAAAAAAAAAAAAAAAAAAAAAAAAAAAAAAAAAAAAAAAAAAAAAAAAAAAAAAAAAAAAAAAAAAAAAAAAAAAAAAAAAAAAAAAAAAAAAAAAAAAAAAAAAAAAAAAAAAAAAAAAAAAAAAAAAAAAAAAAAAAAAAAAAAAAAAAAAAAAAAAAAAAAAAAAAAAAAAAAAAAAAAAAAAAAAAAAAAAAAAAAAAAAAAAAAAAAAAAAAAAAAAAAAAAAAAAAAAAAAAAAAAAAAAAAAAAAAAAAAAAAAAAAAAAAAAAAAAAAAAAAAAAAAAAAAAAAAAAAAAAAAAAAAAAAAAAAAAAAAAAAAAAAAAAAAAAAAAAAAAAAAAAAAAAAAAAAAAAAAAAAAAAAAAAAAAAAAAAAAAAAAAAAAAAAAAAAAAAAAAAAAAAAAAAAAAAAAAAAAAAAAAAAAAAAAAAAAAAAAAAAAAAAAAAAAAAAAAAAAAAAAAAAAAAAAAAAAAAAAAAAAAAAAAAAAAAAAAAAAAAAAAAAAAAAAAAAAAAAAAAAAAAAAAAAAAAAAAAAAAAAAAAAAAAAAAAAAAAAAAAAAAAAAAAAAAAAAAAAAAAAAAAAAAAAAAAAAAAAAAAAAAAAAAAAAAAAAAAAAAAAAAAAAAAAAAAAAAAAAAAAAAAAAAAAAAAAAAAAAAAAAAAAAAAAAAAAAAAAAAAAAAAAAAAAAAAAAAAAAAAAAAAAAAAAAAAAAAAAAAAAAAAAAAAAAAAAAAAAAAAAAAAAAAAAAAAAAAAAAAAAAAAAAAAAAAAAAAAAAAAAAAAAAAAAAAAAAAAAAAAAAAAAAAAAAAAAAAAAAAAAAAAAAAAAAAAAAAAAAAAAAAAAAAAAAAAAAAAAAAAAAAAAAAAAAAAAAAAAAAAAAAAAAAAAAAAAAAAAAAAAAAAAAAAAAAAAAAAAAAAAAAAAAAAAAAAAAAAAAAAAAAAAAAAAAAAAAAAAAAAAAAAAAAAAAAAAAAAAAAAAAAAAAAAAAAAAAAAAAAAAAAAAAAAAAAAAAAAAAAAAAAAAAAAAAAAAAAAAAAAAAAAAAAAAAAAAAAAAAAAAAAAAAAAAAAAAAAAAAAAAAAAAAAAAAAAAAAAAAAAAAAAAAAAAAAAAAAAAAAAAAAAAAAAAAAAAAAAAAAAAAAAAAAAAAAAAAAAAAAAAAAAAAAAAAAAAAAAAAAAAAAAAAAAAAAAAAAAAAAAAAAAAAAAAAAAAAAAAAAAAAAAAAAAAAAAAAAAAAAAAAAAAAAAAAAAAAAAAAAAAAAAAAAAAAAAAAAAAAAAAAAAAAAAAAAAAAAAAAAAAAAAAAAAAAAAAAAAAAAAAAAAAAAAAAAAAAAAAAAAAAAAAAAAAAAAAAAAAAAAAAAAAAAAAAAAAAAAAAAAAAAAAAAAAAAAAAAAAAAAAAAAAAAAAAAAAAAAAAAAAAAAAAAAAAAAAAAAAAAAAAAAAAAAAAAAAAAAAAAAAAAAAAAAAAAAAAAAAAAAAAAAAAAAAAAAAAAAAAAAAAAAAAAAAAAAAAAAAAAAAAAAAAAAAAAAAAAAAAAAAAAAAAAAAAAAAAAAAAAAAAAAAAAAAAAAAAAAAAAAAAAAAAAAAAAAAAAAAAAAAAAAAAAAAAAAAAAAAAAAAAAAAAAAAAAAAAAAAAAAAAAAAAAAAAAAAAAAAAAAAAAAAAAAAAAAAAAAAAAAAAAAAAAAAAAAAAAAAAAAAAAAAAAAAAAAAAAAAAAAAAAAAAAAAAAAAAAAAAAAAAAAAAAAAAAAAAAAAAAAAAAAAAAAAAAAAAAAAAAAAAAAAAAAAAAAAAAAAAAAAAAAAAAAAAAAAAAAAAAAAAAAAAAAAAAAAAAAAAAAAAAAAAAAAAAAAAAAAAAAAAAAAAAAAAAAAAAAAAAAAAAAAAAAAAAAAAAAAAAAAAAAAAAAAAAAAAAAAAAAAAAAAAAAAAAAAAAAAAAAAAAAAAAAAAAAAAAAAAAAAAAAAAAAAAAAAAAAAAAAAAAAAAAAAAAAAAAAAAAAAAAAAAAAAAAAAAAAAAAAAAAAAAAAAAAAAAAAAAAAAAAAAAAAAAAAAAAAAAAAAAAAAAAAAAAAAAAAAAAAAAAAAAAAAAAAAAAAAAAAAAAAAAAAAAAAAAAAAAAAAAAAAAAAAAAAAAAAAAAAAAAAAAAAAAAAAAAAAAAAAAAAAAAAAAAAAAAAAAAAAAAAAAAAAAAAAAAAAAAAAAAAAAAAAAAAAAAAAAAAAAAAAAAAAAAAAAAAAAAAAAAAAAAAAAAAAAAAAAAAAAAAAAAAAAAAAAAAAAAAAAAAAAAAAAAAAAAAAAAAAAAAAAAAAAAAAAAAAAAAAAAAAAAAAAAAAAAAAAAAAAAAAAAAAAAAAAAAAAAAAAAAAAAAAAAAAAAAAAAAAAAAAAAAAAAAAAAAAAAAAAAAAAAAAAAAAAAAAAAAAAAAAAAAAAAAAAAAAAAAAAAAAAAAAAAAAAAAAAAAAAAAAAAAAAAAAAAAAAAAAAAAAAAAAAAAAAAAAAAAAAAAAAAAAAAAAAAAAAAAAAAAAAAAAAAAAAAAAAAAAAAAAAAAAAAAAAAAAAAAAAAAAAAAAAAAAAAAAAAAAAAAAAAAAAAAAAAAAAAAAAAAAAAAAAAAAAAAAAAAAAAAAAAAAAAAAAAAAAAAAAAAAAAAAAAAAAAAAAAAAAAAAAAAAAAAAAAAAAAAAAAAAAAAAAAAAAAAAAAAAAAAAAAAAAAAAAAAAAAAAAAAAAAAAAAAAAAAAAAAAAAAAAAAAAAAAAAAAAAAAAAAAAAAAAAAAAAAAAAAAAAAAAAAAAAAAAAAAAAAAAAAAAAAAAAAAAAAAAAAAAAAAAAAAAAAAAAAAAAAAAAAAAAAAAAAAAAAAAAAAAAAAAAAAAAAAAAAAAAAAAAAAAAAAAAAAAAAAAAAAAAAAAAAAAAAAAAAAAAAAAAAAAAAAAAAAAAAAAAAAAAAAAAAAAAAAAAAAAAAAAAAAAAAAAAAAAAAAAAAAAAAAAAAAAAAAAAAAAAAAAAAAAAAAAAAAAAAAAAAAAAAAAAAAAAAAAAAAAAAAAAAAAAAAAAAAAAAAAAAAAAAAAAAAAAAAAAAAAAAAAAAAAAAAAAAAAAAAAAAAAAAAAAAAAAAAAAAAAAAAAAAAAAAAAAAAAAAAAAAAAAAAAAAAAAAAAAAAAAAAAAAAAAAAAAAAAAAAAAAAAAAAAAAAAAAAAAAAAAAAAAAAAAAAAAAAAAAAAAAAAAAAAAAAAAAAAAAAAAAAAAAAAAAAAAAAAAAAAAAAAAAAAAAAAAAAAAAAAAAAAAAAAAAAAAAAAAAAAAAAAAAAAAAAAAAAAAAAAAAAAAAAAAAAAAAAAAAAAAAAAAAAAAAAAAAAAAAAAAAAAAAAAAAAAAAAAAAAAAAAAAAAAAAAAAAAAAAAAAAAAAAAAAAAAAAAAAAAAAAAAAAAAAAAAAAAAAAAAAAAAAAAAAAAAAAAAAAAAAAAAAAAAAAAAAAAAAAAAAAAAAAAAAAAAAAAAAAAAAAAAAAAAAAAAAAAAAAAAAAAAAAAAAAAAAAAAAAAAAAAAAAAAAAAAAAAAAAAAAAAAAAAAAAAAAAAAAAAAAAAAAAAAAAAAAAAAAAAAAAAAAAAAAAAAAAAAAAAAAAAAAAAAAAAAAAAAAAAAAAAAAAAAAAAAAAAAAAAAAAAAAAAAAAAAAAAAAAAAAAAAAAAAAAAAAAAAAAAAAAAAAAAAAAAAAAAAAAAAAAAAAAAAAAAAAAAAAAAAAAAAAAAAAAAAAAAAAAAAAAAAAAAAAAAAAAAAAAAAAAAAAAAAAAAAAAAAAAAAAAAAAAAAAAAAAAAAAAAAAAAAAAAAAAAAAAAAAAAAAAAAAAAAAAAAAAAAAAAAAAAAAAAAAAAAAAAAAAAAAAAAAAAAAAAAAAAAAAAAAAAAAAAAAAAAAAAAAAAAAAAAAAAAAAAAAAAAAAAAAAAAAAAAAAAAAAAAAAAAAAAAAAAAAAAAAAAAAAAAAAAAAAAAAAAAAAAAAAAAAAAAAAAAAAAAAAAAAAAAAAAAAAAAAAAAAAAAAAAAAAAAAAAAAAAAAAAAAAAAAAAAAAAAAAAAAAAAAAAAAAAAAAAAAAAAAAAAAAAAAAAAAAAAAAAAAAAAAAAAAAAAAAAAAAAAAAAAAAAAAAAAAAAAAAAAAAAAAAAAAAAAAAAAAAAAAAAAAAAAAAAAAAAAAAAAAAAAAAAAAAAAAAAAAAAAAAAAAAAAAAAAAAAAAAAAAAAAAAAAAAAAAAAAAAAAAAAAAAAAAAAAAAAAAAAAAAAAAAAAAAAAAAAAAAAAAAAAAAAAAAAAAAAAAAAAAAAAAAAAAAAAAAAAAAAAAAAAAAAAAAAAAAAAAAAAAAAAAAAAAAAAAAAAAAAAAAAAAAAAAAAAAAAAAAAAAAAAAAAAAAAAAAAAAAAAAAAAAAAAAAAAAAAAAAAAAAAAAAAAAAAAAAAAAAAAAAAAAAAAAAAAAAAAAAAAAAAAAAAAAAAAAAAAAAAAAAAAAAAAAAAAAAAAAAAAAAAAAAAAAAAAAAAAAAAAAAAAAAAAAAAAAAAAAAAAAAAAAAAAAAAAAAAAAAAAAAAAAAAAAAAAAAAAAAAAAAAAAAAAAAAAAAAAAAAAAAAAAAAAAAAAAAAAAAAAAAAAAAAAAAAAAAAAAAAAAAAAAAAAAAAAAAAAAAAAAAAAAAAAAAAAAAAAAAAAAAAAAAAAAAAAAAAAAAAAAAAAAAAAAAAAAAAAAAAAAAAAAAAAAAAAAAAAAAAAAAAAAAAAAAAAAAAAAAAAAAAAAAAAAAAAAAAAAAAAAAAAAAAAAAAAAAAAAAAAAAAAAAAAAAAAAAAAAAAAAAAAAAAAAAAAAAAAAAAAAAAAAAAAAAAAAAAAAAAAAAAAAAAAAAAAAAAAAAAAAAAAAAAAAAAAAAAAAAAAAAAAAAAAAAAAAAAAAAAAAAAAAAAAAAAAAAAAAAAAAAAAAAAAAAAAAAAAAAAAAAAAAAAAAAAAAAAAAAAAAAAAAAAAAAAAAAAAAAAAAAAAAAAAAAAAAAAAAAAAAAAAAAAAAAAAAAAAAAAAAAAAAAAAAAAAAAAAAAAAAAAAAAAAAAAAAAAAAAAAAAAAAAAAAAAAAAAAAAAAAAAAAAAAAAAAAAAAAAAAAAAAAAAAAAAAAAAAAAAAAAAAAAAAAAAAAAAAAAAAAAAAAAAAAAAAAAAAAAAAAAAAAAAAAAAAAAAAAAAAAAAAAAAAAAAAAAAAAAAAAAAAAAAAAAAAAAAAAAAAAAAAAAAAAAAAAAAAAAAAAAAAAAAAAAAAAAAAAAAAAAAAAAAAAAAAAAAAAAAAAAAAAAAAAAAAAAAAAAAAAAAAAAAAAAAAAAAAAAAAAAAAAAAAAAAAAAAAAAAAAAAAAAAAAAAAAAAAAAAAAAAAAAAAAAAAAAAAAAAAAAAAAAAAAAAAAAAAAAAAAAAAAAAAAAAAAAAAAAAAAAAAAAAAAAAAAAAAAAAAAAAAAAAAAAAAAAAAAAAAAAAAAAAAAAAAAAAAAAAAAAAAAAAAAAAAAAAAAAAAAAAAAAAAAAAAAAAAAAAAAAAAAAAAAAAAAAAAAAAAAAAAAAAAAAAAAAAAAAAAAAAAAAAAAAAAAAAAAAAAAAAAAAAAAAAAAAAAAAAAAAAAAAAAAAAAAAAAAAAAAAAAAAAAAAAAAAAAAAAAAAAAAAAAAAAAAAAAAAAAAAAAAAAAAAAAAAAAAAAAAAAAAAAAAAAAAAAAAAAAAAAAAAAAAAAAAAAAAAAAAAAAAAAAAAAAAAAAAAAAAAAAAAAAAAAAAAAAAAAAAAAAAAAAAAAAAAAAAAAAAAAAAAAAAAAAAAAAAAAAAAAAAAAAAAAAAAAAAAAAAAAAAAAAAAAAAAAAAAAAAAAAAAAAAAAAAAAAAAAAAAAAAAAAAAAAAAAAAAAAAAAAAAAAAAAAAAAAAAAAAAAAAAAAAAAAAAAAAAAAAAAAAAAAAAAAAAAAAAAAAAAAAAAAAAAAAAAAAAAAAAAAAAAAAAAAAAAAAAAAAAAAAAAAAAAAAAAAAAAAAAAAAAAAAAAAAAAAAAAAAAAAAAAAAAAAAAAAAAAAAAAAAAAAAAAAAAAAAAAAAAAAAAAAAAAAAAAAAAAAAAAAAAAAAAAAAAAAAAAAAAAAAAAAAAAAAAAAAAAAAAAAAAAAAAAAAAAAAAAAAAAAAAAAAAAAAAAAAAAAAAAAAAAAAAAAAAAAAAAAAAAAAAAAAAAAAAAAAAAAAAAAAAAAAAAAAAAAAAAAAAAAAAAAAAAAAAAAAAAAAAAAAAAAAAAAAAAAAAAAAAAAAAAAAAAAAAAAAAAAAAAAAAAAAAAAAAAAAAAAAAAAAAAAAAAAAAAAAAAAAAAAAAAAAAAAAAAAAAAAAAAAAAAAAAAAAAAAAAAAAAAAAAAAAAAAAAAAAAAAAAAAAAAAAAAAAAAAAAAAAAAAAAAAAAAAAAAAAAAAAAAAAAAAAAAAAAAAAAAAAAAAAAAAAAAAAAAAAAAAAAAAAAAAAAAAAAAAAAAAAAAAAAAAAAAAAAAAAAAAAAAAAAAAAAAAAAAAAAAAAAAAAAAAAAAAAAAAAAAAAAAAAAAAAAAAAAAAAAAAAAAAAAAAAAAAAAAAAAAAAAAAAAAAAAAAAAAAAAAAAAAAAAAAAAAAAAAAAAAAAAAAAAAAAAAAAAAAAAAAAAAAAAAAAAAAAAAAAAAAAAAAAAAAAAAAAAAAAAAAAAAAAAAAAAAAAAAAAAAAAAAAAAAAAAAAAAAAAAAAAAAAAAAAAAAAAAAAAAAAAAAAAAAAAAAAAAAAAAAAAAAAAAAAAAAAAAAAAAAAAAAAAAAAAAAAAAAAAAAAAAAAAAAAAAAAAAAAAAAAAAAAAAAAAAAAAAAAAAAAAAAAAAAAAAAAAAAAAAAAAAAAAAAAAAAAAAAAAAAAAAAAAAAAAAAAAAAAAAAAAAAAAAAAAAAAAAAAAAAAAAAAAAAAAAAAAAAAAAAAAAAAAAAAAAAAAAAAAAAAAAAAAAAAAAAAAAAAAAAAAAAAAAAAAAAAAAAAAAAAAAAAAAAAAAAAAAAAAAAAAAAAAAAAAAAAAAAAAAAAAAAAAAAAAAAAAAAAAAAAAAAAAAAAAAAAAAAAAAAAAAAAAAAAAAAAAAAAAAAAAAAAAAAAAAAAAAAAAAAAAAAAAAAAAAAAAAAAAAAAAAAAAAAAAAAAAAAAAAAAAAAAAAAAAAAAAAAAAAAAAAAAAAAAAAAAAAAAAAAAAAAAAAAAAAAAAAAAAAAAAAAAAAAAAAAAAAAAAAAAAAAAAAAAAAAAAAAAAAAAAAAAAAAAAAAAAAAAAAAAAAAAAAAAAAAAAAAAAAAAAAAAAAAAAAAAAAAAAAAAAAAAAAAAAAAAAAAAAAAAAAAAAAAAAAAAAAAAAAAAAAAAAAAAAAAAAAAAAAAAAAAAAAAAAAAAAAAAAAAAAAAAAAAAAAAAAAAAAAAAAAAAAAAAAAAAAAAAAAAAAAAAAAAAAAAAAAAAAAAAAAAAAAAAAAAAAAAAAAAAAAAAAAAAAAAAAAAAAAAAAAAAAAAAAAAAAAAAAAAAAAAAAAAAAAAAAAAAAAAAAAAAAAAAAAAAAAAAAAAAAAAAAAAAAAAAAAAAAAAAAAAAAAAAAAAAAAAAAAAAAAAAAAAAAAAAAAAAAAAAAAAAAAAAAAAAAAAAAAAAAAAAAAAAAAAAAAAAAAAAAAAAAAAAAAAAAAAAAAAAAAAAAAAAAAAAAAAAAAAAAAAAAAAAAAAAAAAAAAAAAAAAAAAAAAAAAAAAAAAAAAAAAAAAAAAAAAAAAAAAAAAAAAAAAAAAAAAAAAAAAAAAAAAAAAAAAAAAAAAAAAAAAAAAAAAAAAAAAAAAAAAAAAAAAAAAAAAAAAAAAAAAAAAAAAAAAAAAAAAAAAAAAAAAAAAAAAAAAAAAAAAAAAAAAAAAAAAAAAAAAAAAAAAAAAAAAAAAAAAAAAAAAAAAAAAAAAAAAAAAAAAAAAAAAAAAAAAAAAAAAAAAAAAAAAAAAAAAAAAAAAAAAAAAAAAAAAAAAAAAAAAAAAAAAAAAAAAAAAAAAAAAAAAAAAAAAAAAAAAAAAAAAAAAAAAAAAAAAAAAAAAAAAAAAAAAAAAAAAAAAAAAAAAAAAAAAAAAAAAAAAAAAAAAAAAAAAAAAAAAAAAAAAAAAAAAAAAAAAAAAAAAAAAAAAAAAAAAAAAAAAAAAAAAAAAAAAAAAAAAAAAAAAAAAAAAAAAAAAAAAAAAAAAAAAAAAAAAAAAAAAAAAAAAAAAAAAAAAAAAAAAAAAAAAAAAAAAAAAAAAAAAAAAAAAAAAAAAAAAAAAAAAAAAAAAAAAAAAAAAAAAAAAAAAAAAAAAAAAAAAAAAAAAAAAAAAAAAAAAAAAAAAAAAAAAAAAAAAAAAAAAAAAAAAAAAAAAAAAAAAAAAAAAAAAAAAAAAAAAAAAAAAAAAAAAAAAAAAAAAAAAAAAAAAAAAAAAAAAAAAAAAAAAAAAAAAAAAAAAAAAAAAAAAAAAAAAAAAAAAAAAAAAAAAAAAAAAAAAAAAAAAAAAAAAAAAAAAAAAAAAAAAAAAAAAAAAAAAAAAAAAAAAAAAAAAAAAAAAAAAAAAAAAAAAAAAAAAAAAAAAAAAAAAAAAAAAAAAAAAAAAAAAAAAAAAAAAAAAAAAAAAAAAAAAAAAAAAAAAAAAAAAAAAAAAAAAAAAAAAAAAAAAAAAAAAAAAAAAAAAAAAAAAAAAAAAAAAAAAAAAAAAAAAAAAAAAAAAAAAAAAAAAAAAAAAAAAAAAAAAAAAAAAAAAAAAAAAAAAAAAAAAAAAAAAAAAAAAAAAAAAAAAAAAAAAAAAAAAAAAAAAAAAAAAAAAAAAAAAAAAAAAAAAAAAAAAAAAAAAAAAAAAAAAAAAAAAAAAAAAAAAAAAAAAAAAAAAAAAAAAAAAAAAAAAAAAAAAAAAAAAAAAAAAAAAAAAAAAAAAAAAAAAAAAAAAAAAAAAAAAAAAAAAAAAAAAAAAAAAAAAAAAAAAAAAAAAAAAAAAAAAAAAAAAAAAAAAAAAAAAAAAAAAAAAAAAAAAAAAAAAAAAAAAAAAAAAAAAAAAAAAAAAAAAAAAAAAAAAAAAAAAAAAAAAAAAAAAAAAAAAAAAAAAAAAAAAAAAAAAAAAAAAAAAAAAAAAAAAAAAAAAAAAAAAAAAAAAAAAAAAAAAAAAAAAAAAAAAAAAAAAAAAAAAAAAAAAAAAAAAAAAAAAAAAAAAAAAAAAAAAAAAAAAAAAAAAAAAAAAAAAAAAAAAAAAAAAAAAAAAAAAAAAAAAAAAAAAAAAAAAAAAAAAAAAAAAAAAAAAAAAAAAAAAAAAAAAAAAAAAAAAAAAAAAAAAAAAAAAAAAAAAAAAAAAAAAAAAAAAAAAAAAAAAAAAAAAAAAAAAAAAAAAAAAAAAAAAAAAAAAAAAAAAAAAAAAAAAAAAAAAAAAAAAAAAAAAAAAAAAAAAAAAAAAAAAAAAAAAAAAAAAAAAAAAAAAAAAAAAAAAAAAAAAAAAAAAAAAAAAAAAAAAAAAAAAAAAAAAAAAAAAAAAAAAAAAAAAAAAAAAAAAAAAAAAAAAAAAAAAAAAAAAAAAAAAAAAAAAAAAAAAAAAAAAAAAAAAAAAAAAAAAAAAAAAAAAAAAAAAAAAAAAAAAAAAAAAAAAAAAAAAAAAAAAAAAAAAAAAAAAAAAAAAAAAAAAAAAAAAAAAAAAAAAAAAAAAAAAAAAAAAAAAAAAAAAAAAAAAAAAAAAAAAAAAAAAAAAAAAAAAAAAAAAAAAAAAAAAAAAAAAAAAAAAAAAAAAAAAAAAAAAAAAAAAAAAAAD0/wAAAAD0//T/AAAAAPT/9P8AAAAA9P/0/wAAAAD0//T/AAAAAPT/9P8AAAAA9P8AAAAA9P/0/wAAAAD0//T/AAAAAPT/9P8AAAAA9P/0/wAAAAD0//T/AAAAAPT/9P8AAAAA9P8AAAAA9P/0/wAAAAD0//T/AAAAAPT/9P8AAAAA9P/0/wAAAAD0//T/AAAAAPT/9P8AAAAA9P8AAAAA9P/0/wAAAAD0//T/AAAAAPT/9P8AAAAA9P/0/wAAAAD0//T/AAAAAPT/9P8AAPT/9P8AAAAA9P/0/wAAAAD0//T/AAAAAPT/9P8AAAAA9P/0/wAAAAD0//T/AAAAAPT/AAAAAPT/9P8AAAAA9P/0/wAAAAD0//T/AAAAAPT/9P8AAAAA9P/0/wAAAAD0//T/AAD0//T/AAAAAPT/9P8AAAAA9P/0/wAAAAD0//T/AAAAAPT/9P8AAAAA9P/0/wAA9P/0/wAAAAD0//T/AAAAAPT/9P8AAAAA9P/0/wAAAAD0//T/AAAAAPT/9P8AAAAA9P8AAAAA9P/0//T/9P8AAAAA9P/0/wAAAAD0//T/AAAAAPT/9P8AAPT/9P8AAAAA9P/0/wAAAAD0//T/AAAAAPT/9P8AAAAA9P/0/wAAAAD0//T/AAAAAPT/AAAAAPT/9P8AAAAA9P/0/wAAAAD0//T/AAAAAPT/9P8AAAAA9P/0/wAA9P/0/wAADAD0/+j/AAAMAPT/9P8AAAAA9P/0/wwAAADo//T/DAAAAOj/9P8MAPT/6P8AAAwA9P/o/wAADAD0/+j/DAAMAOj/6P8MAAAA6P/0/wwAAADc//T/GAD0/9z/AAAYAPT/3P8MAAwA6P/o/wwADADo/+j/GAAMANz/9P8YAAAA3P/0/xgA9P/c/wAAGADo/9z/DAAYAOj/3P8YAAwA3P/o/xgADADc//T/GAAAAND/9P8kAPT/0P8AABgA6P/c/wwAGADc/9z/GAAMANz/6P8YAAwA0P/0/yQAAADQ/wAAJAD0/9D/DAAkAOj/3P8MABgA3P/c/xgAGADc/+j/JAAMAND/9P8kAAAA0P8AACQA9P/Q/wwAJADo/9D/GAAYANz/3P8YABgA0P/o/yQADADQ//T/JAAAAND/AAAkAPT/0P8MACQA6P/Q/xgAGADc/9z/GAAMAND/6P8kAAwA0P/0/yQAAADQ/wAAJAD0/9D/DAAkAOj/3P8YABgA3P/c/xgADADQ/+j/JAAMAND/9P8kAAAA0P8AACQA9P/Q/wwAJADo/9z/GAAYANz/3P8YAAwA0P/o/yQADADQ//T/JAAAAND/AAAkAPT/0P8MACQA6P/c/xgAGADc/9z/GAAMANz/6P8kAAwA0P/0/yQAAADQ/wAAJAD0/9D/DAAYAOj/3P8MABgA3P/c/xgADADc/+j/GAAMANz/9P8kAAAA0P8AACQA9P/c/wAAGADo/9z/DAAYAOj/3P8YAAwA3P/o/xgADADc//T/GAAAANz/9P8YAPT/3P8AABgA6P/c/wwAGADo/9z/DAAYANz/6P8YAAwA3P/o/xgAAADc//T/GAAAANz/AAAYAPT/3P8AABgA6P/c/wwAGADo/+j/GAAMANz/6P8YAAwA3P/0/xgAAADc//T/GAD0/9z/AAAYAOj/3P8AABgA6P/o/wwADADc/+j/GAAMANz/6P8YAAwA3P/0/xgA9P/Q//T/JAAAANz/DAAYANz/0P8MACQA9P/o/wwADADQ/9z/GAAMANz/9P8wAAAAxP/o/yQAAADc/wwAJADo/9D/DAAYANz/3P8wACQA0P/E/wwADADo/wAAJAD0/8T/9P8kAPT/3P8YADwA9P+4/9z/AAAAABgAPAAAAKD/xP8kADAA9P/o/wwADADo//T/AADc/9z/GAAwAPT/xP/0/yQAAADE/9D/DAAkADAAMADo/4j/oP8YAFQAJAD0/wwAAADE/7j/6P8AAAwAVABsAAAAZP9w/+j/JAA8AGwAVADE/3D/uP8AAPT/DABsAGAA6P+4/9z/oP9k/wAA2QDAAAwAlP9k/0D/rP+cAOUAPAC4/9z/0P9Y/4j/PACQAGwAYAAYAED/3/64/5wAkAA8AEgAGAB8/0z/uP8AAAwAkADZADAAQP9A/7j/0P8AAJAA2QBgAMT/cP8D/w//GABdAV0BPABA/+v+D/+s/5wA/QCQABgA0P9Y/wP/cP9sAPEAtAAwAJT/NP9k/wwAbABIACQAJAAAAMT/rP/Q//T/DAAYABgADAAkADAA6P98/3D/3P9gAKgAeADc/2T/cP/Q/xgAPABUADwAAADQ/8T/uP/E/wwAPAAYAAAAPAA8AMT/ZP+I/+j/SACQAIQA6P9k/5T/9P/c/8T/PAC0AHgA6P9w/yf/WP9IAAkBqACs/3z/6P8MAMT/rP/Q/xgAqADxABgAx/67/vT/5QDMAEgAxP9k/4j/JABUANz/xP9UAHgAxP9Y/6z/PAB4AGwA6P8b/zT/VAAtAagAlP8n/1j/0P9sAMAASACs/6z/AADc/6D/6P9IADwAJAA8AAwAlP9w/7j/6P8YALQA8QAkAA//0/58/zwA5QAVAVQAJ//r/qz/PABIAFQAVAD0/6z/3P8MANz/uP8MADwADAAMAEgADABw/2T/AABsAGwAPADo/2T/cP8wAMAASAB8/1j/xP9IAKgAnADc/w//J/8AAJwAhABIABgAuP9k/3z/3P8wAIQAwABUAGT/3/5w/2AAzAB4AOj/iP+U/wwAVAD0/3D/uP+QAOUAMAA0/9/+iP+0AEUBqABM/4v+QP+QAC0BtADE/yf/QP/Q/0gAeABgADwADACg/yf/TP8kAPEA8QAkAFj/J/+g/zAAYAAYAOj/GABsADAAfP8P/4j/eAAJAZwAuP8b/2T/MACcADAAcP9Y/yQA8QDZAOj/6/67/oj/wABpAeUA0P8D/wP/cP8MAJAAwACEABgAuP9Y/xv/ZP88AAkBIQFgAFj/u/4P/yQA/QDZAPT/ZP+g/0gAeADo/zT/J/8MACEBUQE8AOv+c/5A/4QAOQHlACQAfP9A/1j/uP88AKgAtABIAJT/G/9M/yQAtAB4APT/xP/o/wAA0P+g/6D/GADlAAkB9P+j/nP+rP8hAbIB/QBw/yr+Z/70/1EBaQGoALj/A//f/oj/YACcAHgAeABUALj/G/8b/5T/MADlAEUBnABA/4v+A//o/5AA/QDMABgAfP9k/2T/WP+4/7QAXQHxAND/x/5//jT/qACNARUB6P8n/w//cP8AAIQAkAA8AAAA3P+s/6D/0P8AAAwASACcAGAAiP/3/lj/MADlAAkBJADr/q/+3P8JAfEAAABY/1j/xP9UAIQAGACs/8T/JAAAAKz/xP9UAIQAJACI/1j/xP9gAKgAPAB8/0D/3P+oAJwAuP8n/6z/hAC0ACQAiP9A/6D/bADZADwAZP98/yQAMADE/9z/VABgABgAxP9w/0z/DAAhAeUAfP+7/nD/YADMAMAAAADT/sf+MABdAf0A3P8b/9P+TP+cAJkB5QBY/8f+QP/c/2wA8QCoAKz/TP/E/wAAxP/c/1QAYAAkADwAAAA0/+v+0P/xADkBnACg/6P+o/7o/zkBRQFUAGT/D/9k/xgAYAAYAAwAhACQAND/D//3/oj/kACZAVEBiP82/q/+AAC0AP0A5QAMAA//G//Q/wAA3P94AP0AeACI/0z/WP9A/+j/LQFpAUgAD/+7/hv/DAAVATkBDAAD/0D/GACEAEgArP9M/9D/zADlAAAAJ/8b/5T/VAAJAcwArP8b/6D/DAD0/zAAhAAMAFj/0P+QADwAcP+U/wAA6P88AAkBnADf/lv+xP/9AAkBqADo/6P+Z/4YAL4BLQGU//f+TP/E/2wA5QBIAEz/ZP88AGwA3P+4/+j/DAAkAEgADACg/6z/AAAYAAAAGAAkAAwAJAAMAHz/J//Q/7QA2QCEAPT/J/+j/lj/tAAtAagASADc/+v+c/5w/+UAaQEJAVQAG/8q/tP+nABdAcAAGADo/5T/NP9w//T/MACEANkAeABk/9/+cP8wAIQAeAAkAMT/uP8AAAwA0P+4/9D/AABIAJwAVACs/0z/cP+s/yQAzAD9ACQAJ/8b/5T/DAB4AMAASACI/5T/JAAkAJT/fP8AAHgAnAB4AOj/J/8D/7j/bAC0AKgAYADQ/yf/6/5w/3gARQEVAej/6/7r/qD/SADAAJwA9P+I/9D/GAC4/4j/GABsABgAAABgACQATP8P/9D/bADAAP0AbADH/gb+iP9pAXUBPABk/yf/QP8MAMAAVACU/9z/nAA8AED/WP8MAFQAPABUACQArP+s//T/rP9w/0gAOQGoAED/6/6s/zAAYABgAAwArP8MAJwA9P+v/gP/qAB1AbQAxP9M/w//QP8kAMwAqABgAEgArP+X/q/+VACZAS0B9P9A/yf/cP/0/2wAbAAwAEgAPACU//f+WP9gAOUAkAAAAKD/iP+4/wAAJAAYAAwAGAAwACQAAACg/0D/ZP88ACEBOQE8ANP+Hv73/tkABgJRAZT/i/67/pT/hAAVAcAA6P9w/6D/xP+s/+j/hACQAOj/oP/0/xgA3P/E/+j/xP/o/6gAIQEwAK/+c/6U/9kAdQE5AQAAc/4q/oj/FQFRAZwA9P98/xv/NP/o/5AAwACQACQAfP/3/kz/SADlAJwA9P+I/4j/xP8MADAAMAAYAAAA6P/Q/9z/9P8MABgADADo/+j/GAAkANz/rP/0/zAADADo/xgASAAAAKD/iP+s/wwAqADxADwAA/+v/pT/nAAJAcAAGABM/+v+WP8wAJwAnAB4ADAAlP8b/zT/3P+QAPEAwAAYAEz/6/5M/xgAtADMAHgADACI/xv/G//Q/8AACQGQANz/WP8n/3z/JAB4AGAASABgABgATP/T/nz/hAAJAeUASABY/7v+NP88AMwAqABsAAwAZP/3/mT/YADZAKgAMACg/yf/TP8YALQAkAAkAND/fP9k/9z/kAC0ACQAlP9Y/5T/JADAAJwAxP8n/3D/MACoAJAA9P9M/0D/9P+0AKgA9P9w/3D/xP9IAJwAVACs/3D/uP8YAEgASAAYALj/lP/o/0gAMADo/9D/0P/o/zAAVAD0/4j/rP8kAFQAJAD0/9D/uP/o/zAAGADQ//T/SAA8AMT/fP+g/wwAeAC0ADwATP8D/6z/eAC0AHgAGACI/zT/lP88AHgAYABUAAAAZP80/9D/eAB4ADwADADQ/4j/rP8AAAAAAABsALQADAAP//f+0P/AABUBnAB8/5f+G/+oAFEBbABM/xv/xP94AMAAPABA//f+AAAJAcAAoP8b/3z/GACEAIQA9P9Y/4j/SACEAAwAuP/c//T/3P/0/zwASAAYAOj/oP9k/7j/nAAVAWAAQP/r/nD/SADZAMwAAABA/0z/AABUABgA3P8AADwAPAAAAKz/ZP+U/0gAzACEAMT/cP+U/9z/GAAwACQADAAYADwADAB8/zT/rP94AOUAwAAYADT/x/5A/0gACQH9AGAAoP8P/wP/oP9sAMwAqAA8AND/WP80/4j/GACEAMAAqAAkAFj/3/40/wAAtAAJAcwAAAAn/9P+NP/0/8AALQHxAAAA9/6j/jT/JADxABUBqADc/zT/9/40/9z/qAAtAf0ADAAD/6/+NP88AOUA2QBgAOj/lP9k/1j/iP8MAMwARQG0AHD/f/7H/tz/5QAtAbQA0P9A/1j/xP/o/+j/MACcAKgAPAC4/yf/0/5M/4QAjQF1AWAA6/76/U7+GAASAkICnACv/vr9r/4kAF0BaQFIAEz/TP/E/9z/0P8MAEgAPAA8AEgAAABk/yf/iP8kALQALQHZAHD/Kv5//jAAgQGNAXgAJ/9//hv/bAD9AGAAxP/o/zAA9P+U/4j/xP8wAJwAnAD0/2T/iP8AABgA3P/0/2AAhAAkAKD/QP9M/+j/wAD9AFQAiP80/3D/0P9IAJwAkAAMAIj/cP+s//T/SAB4AEgA0P+U/8T/AAAYACQAGADo/7j/6P9UAGAA3P9k/3D/DACoAMwAMAAn/8f+oP/lADkBVAA0/+v+fP9sAPEAnAC4/0D/iP8MADAAJABIAFQA9P9k/1j/3P94ALQAbACg/w//fP94ANkAJABM/2T/GACcAJwAAAAn//f+3P/9ABUBMABY/xv/TP/o/8AA/QBIAHD/TP+g/+j/MABgADAA6P8MAFQA6P8n/xv/GAAVAS0BYAAb/1v+D/+oAI0B5QCI//f+cP8wAGwADACU/7j/bADZAEgATP/f/nz/eADxAIQAxP+I/8T/6P/Q/7j/9P9UALQAnADE/+v+9/70/7QAwAB4ACQAlP8n/3D/AAA8AGwAtABsAIj/G/+s/yQAAAAAAGwAeAAYANz/oP8P/yf/eACNAfEAfP/T/hv/xP+oACEBYAAP/wP/MADMAEgA0P+s/3D/lP9gAOUAbADE/6D/ZP8P/7j/LQGlAXgA6/5C/tP+VADWAcoB0P8S/n/+MAA5AfEA9P8b/0D/SADxADwAD/8D/zAAFQHlAOj/6/7f/tz/8QDxAAwAZP+I//T/JAD0/6z/xP9sAPEAeABM/5f+A/88AGkBjQFUALv+Tv5M/5AAIQHMAPT/WP98/wwAJACs/5T/MADAAJAA9P9M/w//oP+oAOUAGAB8/7j/JAAMANz/3P/o/wwAPAAMAHz/oP+oABUBAACj/pf+xP9FAfoBCQHT/oL9i/60ALIBOQE8AGT/6/5Y/xgAPADc/xgAtACQAOj/lP9w/xv/TP9sAEUBCQFIAJT/0/6L/nz/5QA5AbQAVAD0/xv/i/4n/0gACQFdAQkBrP9O/ov+9P/AAJAAeABsAAwAoP+U/1j/NP/o/y0BRQEkAEz/TP9w/6D/PACoAGAADAAkAOj/TP9Y/zAAeAAAAOj/SABgAPT/rP9w/zT/xP8JAVEBJAAP/xv/lP8AAGwAtABIALj/xP/c/3z/iP9UAMwASAC4/6z/rP+g/wAAbABgABgAGADc/yf/J/9IAC0BzADc/zT/G/+U/2wAwAAYAKD/GACcAAAAA//f/qz/zACZATkBiP8S/n/+DAD9AP0AqAAYAHz/WP+U/6D/lP88ABUB8QAAAFj/NP8n/4j/hAD9AJAADAAAALj/G/8n/9D/VACoABUB8QCg/1v+l/7E/5wA8QAJAXgAlP9A/3D/TP80/zwAsgHKAUgAr/4e/q/+MACZAY0BJAAb/3D/9P/E/3D/xP9sAMAAtAAMADT/9/7Q/5wAVACs/7j/bADAADwAWP/T/if/SABFARUBDABA/0z/rP/o/+j/JACEAMAAYAB8/9P+D/8MABUBIQE8ACf/9/6s/4QAtABIAKz/WP+g/0gAtABUAKz/ZP+U//T/VACEADwArP98/+j/MAAYAOj/3P/c//T/VAB4APT/TP9Y/wAAeACEADwAxP9k/6z/YACEAND/QP+g/3gA5QCEAKD/u/7f/jAAXQEtAdz/A/9A/+j/VABIAOj/uP8wALQAVABA/7v+iP/lAF0BnABM/5f+J/+QAF0BtABk/9P+ZP9gAOUAqADo/0z/TP/c/0gAYABIACQA3P+U/5T/0P8kAFQAPAAAAMT/3P8MAAAAuP+g//T/eAC0AFQAiP/3/kD/PAD9ANkADABM/yf/rP9gAJwAPAC4/6D/6P8kADwADADQ/6D/xP8kAGAAVAAYALj/cP98/wAAkACoADwAlP9M/3z/GACQAHgA9P+U/6z/AAAkAAAA0P/c/xgAVAA8AMT/ZP+U/zAAnAB4AOj/ZP9w/+j/eACQABgAiP98/9z/VABsABgAuP+U/9z/PABUAAwArP+s//T/PABUAAwArP+U/+j/SABgAAwArP+g/9z/PABUAAwArP+g//T/YABUAOj/fP+I/wAAkACcAAwAWP80/8T/eADMAGwAuP9A/1j/9P94AJwAVADc/3z/cP/E/zwAhABsAAAAlP9w/8T/PAB4ADAAxP+g/9z/MAA8APT/oP+s/xgAhABsAND/WP98/wwAhABsAPT/lP+s/wwASAAMAMT/xP8YAGAAMADE/3D/rP88AIQASAC4/4j/0P88AEgA6P+U/8T/SACQADAAfP8n/6z/nADxAGAAWP/r/nz/kAAJAXgAcP8D/4j/bADZAGAAoP9A/5T/SACcAFQA0P+I/7j/AAAwADAAGAD0/9z/0P/Q//T/MABUABgAuP+U/8T/MABsADwAxP+I/7j/JABgADAA0P+4/9z/GAAkAPT/3P/o/yQAMAD0/6z/rP8AAEgASAAMAMT/uP/o/wwAAADo/wAASABUAPT/cP9A/7j/nAAVAZwAfP+j/vf+JAA5AUUBPAAP/6P+ZP+QACEBtAC4/w//QP8MALQAqAD0/0z/WP8AAKgAtAAYAEz/D/+g/5wACQGQAJT/6/4n/wwA2QDlADAAcP80/6D/JABsAFQAGADc/8T/uP/E//T/PABsADwAxP9w/5T/GAB4AGwA9P+I/5T/DABgADwA0P+g/9z/SABgAAAAfP9w//T/kACoABgAcP9M/7j/YACcAEgAxP98/7j/GAA8ABgA6P/c//T/JAAkAPT/uP+4//T/PABUADAA6P+U/4j/0P9IAIQAYADo/3z/cP/c/1QAeAAwAND/uP/Q/wAAAADo/+j/JABgAFQA0P9M/1j/9P+0ANkAVABw/wP/ZP88AMAAkAAAAIj/iP/Q/xgAJAAMAAAAGAAkAAAA0P+4/9D/AAAwADwAMAAAAMT/oP+s//T/SAB4AEgA3P+I/6D/9P8wACQAAAAAABgAJAD0/6D/cP/E/2wAwABgAKz/QP9w/wAAeABsAAAArP/Q/zAAMADQ/4j/uP8kAJAAkAAMAGT/NP+4/0gAhABgACQA0P+U/5T/0P8MADwAbABgAOj/ZP9w/+j/VABsAEgA6P+I/6z/GABIAAAAxP/o/xgAJAAkAAAArP+U//T/VABIAAAA6P/c/9D/3P8MABgAAAAMADAAAACg/5T/9P88AFQAVAD0/3D/WP/0/4QAhAAkALj/cP+I/xgAnAB4ANz/iP+s/+j/JABIADAA3P/E/wAAJADc/6z/6P88AGAASAD0/3D/QP/Q/5AAwABIAND/fP9w/6z/JABUAFQAYABUAND/D/8D/8T/wAA5AdkA0P+7/rv+xP/AAMwASADo/9D/3P/c/6D/WP+s/5wAUQHMAJT/u/7T/qD/nAAVAbQA9P+g/6z/iP9Y/5T/VADlAP0AhACU/5f+l/6s/9kARQEJAWAAWP+L/sf+0P/MAC0B/QAwACf/x/5k/zAAbABUAFQASAAYAOj/rP9M/zT/9P/xABUBbACs/0z/J/9w/xgAhACQAJwAnADo/8f+Z/5k/9kApQFdARgAl/42/nD/8QAhAVQAuP+s/9z/DAAMAKD/WP/o/+UA8QAAAED/WP/E/xgAVAA8APT/3P8wADwArP9Y/9D/VABIAAAAAAAMAAwAAADQ/3D/ZP8wAAkB5QDc/yf/J/+U/yQAqACoACQA0P/E/6z/cP+4/2wAtABIAND/uP/E/9z/AAD0/8T/9P+QAMAADAAn/w//uP9sALQAhAD0/3z/lP/0/wwA3P/0/0gAYAAMAMT/uP/Q/+j/AAAMAAwAPABgABgAcP80/7j/hAC0ADwAoP98/+j/YABIAJT/J/+4/8wAOQFsABv/l/40/2wALQHlAPT/WP98/+j/9P+4/9z/bADlAJwAuP/T/rv+oP/lAIEB2QCs/+v+6/58/0gA5QDlAFQAoP9A/0D/lP88AMAAqAAYAKD/iP+U/7j/DABgAHgASAAMAKz/TP9k/wwAtACoACQArP9w/4j/6P9UAEgA9P/o/zAAMADE/3D/fP/c/4QA/QCoAIj/o/4D/zAACQEVAVQATP/T/mT/eADZAEgAuP+s/+j/DAAYAPT/uP/Q/0gAeAAMAJT/oP8AACQADAAAAAAADAAkABgAuP9Y/7j/kADZAEgAfP80/3z/JADAAKgA9P9k/4j/9P8YAAwAMAA8ABgA0P+s/6D/0P9UAJwAMACI/2T/6P9sAGAAAACI/3D/6P+cAMAADAA0/yf/xP9sAMwAnAD0/0D/J/+4/1QAkABsABgArP98/7j/GAAwAAAA9P8YADAAGADo/6z/fP+4/0gAqABsAOj/iP98/6z/DABUAFQAGAAAAAwA6P+U/4j/3P88AIQAhAAkAHz/J/+U/zwAeABUACQA9P/Q/9D/0P+4/6z/GACcALQAGABw/yf/cP8MAKgAwAA8AKD/fP+g/9D/AAA8AFQAMAAAAOj/xP+g/8T/DAA8AEgASAAkAMT/cP+U/wAAYAB4ADwA0P9w/5T/DABUADAA9P/Q/+j/DAAkAAwA0P+s/+j/PABUACQA6P+s/6D/3P8wAGAAMADo/7j/rP/c/yQAVAAkAND/rP/Q/wwAPAAwANz/rP/E/yQAVAAwAND/lP+4/yQAeABUAND/fP+g/xgAeABgAOj/iP+U/wwAbABUAOj/oP+s/wAASABIAPT/rP+4/wAAPAA8AAwAxP+s/9z/GAA8ACQA9P/E/8T/6P8kAEgAGADE/7j/3P8kADwAJADQ/6D/xP8kAGAAMADc/6D/uP8AAFQASAD0/6z/uP/0/yQAMAAYANz/uP/c/xgAMAAYAPT/0P/E/+j/JABIABgA0P+s/8T/DABUAEgA6P+U/6D/DABgAFQAAACU/4j/6P9sAHgAAACI/4j/6P9UAHgAJACg/3D/0P9IAGwAMADE/5T/uP8kAGwASADc/6D/uP8AAEgAVAAMAKz/lP/c/zwAVAAkAND/lP+s/xgAbABIANz/lP+s/wAAVABgAAwAlP+I//T/VABUAAwAuP+U/8T/MABgACQAxP+s/9D/DAA8ADwAAAC4/6z/9P8wADAAGAD0/6z/rP8MAFQASADo/7j/rP/c/zwAeAAwAKD/fP/c/0gAbAAwAND/fP+g/zAAkABIALj/fP+4/wwAYABsAPT/fP+I/wwAbABIAAAAuP+U/8T/PAB4ACQArP+U/9D/DABIAGAAAACI/4j/DABgAEgAAAC4/4j/xP9IAJAAJACU/4j/3P8wAGAASADc/3z/oP8wAGwAMADc/7j/uP/o/zwAYAAAAKz/uP8AABgAJAAwAAAArP+s/wwAPAAwAAwA3P+s/7j/GABsADwAxP+U/8T/DABUAGAAAACI/4j/DAB4AFQA9P+g/5T/3P9UAHgAGACU/4j/6P88AFQAMADc/5T/rP8kAGAAPADo/6z/rP/o/zwAYAAYAKz/lP/c/zAAVAAwANz/iP+s/yQAbABIANz/lP+s/wwAYABUAPT/lP+g/wAAVABIAAAArP+s//T/PAA8AAwA0P/E/+j/GAAkAAwA9P/c/9z/9P8MACQAGAD0/9D/0P/0/yQAPAAMAND/rP/c/yQASAAYANz/rP/E/yQAVAAwAND/rP/Q/xgAPAAwAOj/rP+4/wwAPAAkAPT/0P/E/+j/JAA8ABgA0P/E/+j/DAAkACQAAADE/7j/9P8wADAAAADQ/7j/3P8kAEgAGADE/6z/6P8kADwAGADc/7j/3P8kADwADADQ/9D/9P8MACQADADo/9D/9P8YAAwA9P/o//T/AAD0//T/9P/0/wAADAAAAOj/6P8MABgAAADo/9z/6P8AABgADADo/9D/6P8MABgAAADo/9z/6P8AABgADAD0/+j/9P8AAAwAAAAAAPT/6P/0/wAADAAAAPT/6P/o//T/DAAMAAAA6P/o//T/DAAMAAAA6P/o//T/DAAMAAAA6P/o//T/DAAMAAAA6P/o//T/DAAMAPT/6P/0/wAAAAAAAPT/9P/0/wAAAAD0//T/9P8AAAAAAAD0//T/AAAAAAAAAAD0//T/AAAAAAAA9P/0//T/AAAAAAAA9P/0//T/AAAAAAAA9P/0//T/AAAAAAAA9P/0//T/AAAAAAAAAAAAAPT/9P8AAAAAAAAAAPT/9P/0/wAAAAAAAPT/9P/0/wAAAAAAAPT/9P/0/wAAAAD0//T/9P8AAAAAAAD0//T/9P8AAAAAAAD0//T/AAAAAAAA9P/0//T/AAAAAAAA9P/0//T/AAAAAPT/9P/0/wAAAAAAAPT/9P/0/wAAAAAAAPT/9P/0/wAAAAAAAPT/9P/0/wAAAAAAAPT/9P/0/wAAAAAAAAAA9P/0//T/AAAAAAAAAAD0//T/9P8AAAAA9P/0//T/9P8AAAAAAAD0//T/AAAAAAAA9P/0//T/AAAAAAAA9P/0//T/AAAAAPT/9P/0/wAAAAAAAAAAAAAAAAAAAAAAAAAAAAAAAAAAAAAAAAAAAAAAAAAAAAAAAAAAAAAAAAAAAAAAAAAAAAAAAAAAAAAAAAAAAAAAAAAAAAAAAAAAAAAAAAAAAAAAAAAAAAAAAAAAAAAAAAAAAAAAAAAAAAAAAAAAAAAAAAAAAAAAAAAAAAAAAAAAAAAAAAAAAAAAAAAAAAAAAAAAAAAAAAAAAAAAAAAAAAAAAAAAAAAAAAAAAAAAAAAAAAAAAAAAAAAAAAAAAAAAAAAAAAAAAAAAAAAAAAAAAAAAAAAAAAAAAAAAAAAAAAAAAAAAAAAAAAAAAAAAAAAAAAAAAAAAAAAAAAAAAAAAAAAAAAAAAAAAAAAAAAAAAAAAAAAAAAAAAAAAAAAAAAAAAAAAAAAAAAAAAAAAAAAAAAAAAAAAAAAAAAAAAAAAAAAAAAAAAAAAAAAAAAAAAAAAAAAAAAAAAAAAAAAAAAAAAAAAAAAAAAAAAAAAAAAAAAAAAAAAAAAAAAAAAAAAAAAAAAAAAAAAAAAAAAAAAAAAAAAAAAAAAAAAAAAAAAAAAAAAAAAAAAAAAAAAAAAAAAAAAAAAAAAAAAAAAAAAAAAAAAAAAAAAAAAAAAAAAAAAAAAAAAAAAAAAAAAAAAAAAAAAAAAAAAAAAAAAAAAAAAAAAAAAAAAAAAAAAAAAAAAAAAAAAAAAAAAAAAAAAAAAAAAAAAAAAAAAAAAAAAAAAAAAAAAAAAAAAAAAAAAAAAAAAAAAAAAAAAAAAAAAAAAAAAAAAAAAAAAAAAAAAAAAAAAAAAAAAAAAAAAAAAAAAAAAAAAAAAAAAAAAAAAAAAAAAAAAAAAAAAAAAAAAAAAAAAAAAAAAAAAAAAAAAAAAAAAAAAAAAAAAAAAAAAAAAAAAAAAAAAAAAAAAAAAAAAAAAAAAAAAAAAAAAAAAAAAAAAAAAAAAAAAAAAAAAAAAAAAAAAAAAAAAAAAAAAAAAAAAAAAAAAAAAAAAAAAAAAAAAAAAAAAAAAAAAAAAAAAAAAAAAAAAAAAAAAAAAAAAAAAAAAAAAAAAAAAAAAAAAAAAAAAAAAAAAAAAAAAAAAAAAAAAAAAAAAAAAAAAAAAAAAAAAAAAAAAAAAAAAAAAAAAAAAAAAAAAAAAAAAAAAAAAAAAAAAAAAAAAAAAAAAAAAAAAAAAAAAAAAAAAAAAAAAAAAAAAAAAAAAAAAAAAAAAAAAAAAAAAAAAAAAAAAAAAAAAAAAAAAAAAAAAAAAAAAAAAAAAAAAAAAAAAAAAAAAAAAAAAAAAAAAAAAAAAAAAAAAAAAAAAAAAAAAAAAAAAAAAAAAAAAAAAAAAAAAAAAAAAAAAAAAAAAAAAAAAAAAAAAAAAAAAAAAAAAAAAAAAAAAAAAAAAAAAAAAAAAAAAAAAAAAAAAAAAAAAAAAAAAAAAAAAAAAAAAAAAAAAAAAAAAAAAAAAAAAAAAAAAAAAAAAAAAAAAAAAAAAAAAAAAAAAAAAAAAAAAAAAAAAAAAAAAAAAAAAAAAAAAAAAAAAAAAAAAAAAAAAAAAAAAAAAAAAAAAAAAAAAAAAAAAAAAAAAAAAAAAAAAAAAAAAAAAAAAAAAAAAAAAAAAAAAAAAAAAAAAAAAAAAAAAAAAAAAAAAAAAAAAAAAAAAAAAAAAAAAAAAAAAAAAAAAAAAAAAAAAAAAAAAAAAAAAAAAAAAAAAAAAAAAAAAAAAAAAAAAAAAAAAAAAAAAAAAAAAAAAAAAAAAAAAAAAAAAAAAAAAAAAAAAAAAAAAAAAAAAAAAAAAAAAAAAAAAAAAAAAAAAAAAAAAAAAAAAAAAAAAAAAAAAAAAAAAAAAAAAAAAAAAAAAAAAAAAAAAAAAAAAAAAAAAAAAAAAAAAAAAAAAAAAAAAAAAAAAAAAAAAAAAAAAAAAAAAAAAAAAAAAAAAAAAAAAAAAAAAAAAAAAAAAAAAAAAAAAAAAAAAAAAAAAAAAAAAAAAAAAAAAAAAAAAAAAAAAAAAAAAAAAAAAAAAAAAAAAAAAAAAAAAAAAAAAAAAAAAAAAAAAAAAAAAAAAAAAAAAAAAAAAAAAAAAAAAAAAAAAAAAAAAAAAAAAAAAAAAAAAAAAAAAAAAAAAAAAAAAAAAAAAAAAAAAAAAAAAAAAAAAAAAAAAAAAAAAAAAAAAAAAAAAAAAAAAAAAAAAAAAAAAAAAAAAAAAAAAAAAAAAAAAAAAAAAAAAAAAAAAAAAAAAAAAAAAAAAAAAAAAAAAAAAAAAAAAAAAAAAAAAAAAAAAAAAAAAAAAAAAAAAAAAAAAAAAAAAAAAAAAAAAAAAAAAAAAAAAAAAAAAAAAAAAAAAAAAAAAAAAAAAAAAAAAAAAAAAAAAAAAAAAAAAAAAAAAAAAAAAAAAAAAAAAAAAAAAAAAAAAAAAAAAAAAAAAAAAAAAAAAAAAAAAAAAAAAAAAAAAAAAAAAAAAAAAAAAAAAAAAAAAAAAAAAAAAAAAAAAAAAAAAAAAAAAAAAAAAAAAAAAAAAAAAAAAAAAAAAAAAAAAAAAAAAAAAAAAAAAAAAAAAAAAAAAAAAAAAAAAAAAAAAAAAAAAAAAAAAAAAAAAAAAAAAAAAAAAAAAAAAAAAAAAAAAAAAAAAAAAAAAAAAAAAAAAAAAAAAAAAAAAAAAAAAAAAAAAAAAAAAAAAAAAAAAAAAAAAAAAAAAAAAAAAAAAAAAAAAAAAAAAAAAAAAAAAAAAAAAAAAAAAAAAAAAAAAAAAAAAAAAAAAAAAAAAAAAAAAAAAAAAAAAAAAAAAAAAAAAAAAAAAAAAAAAAAAAAAAAAAAAAAAAAAAAAAAAAAAAAAAAAAAAAAAAAAAAAAAAAAAAAAAAAAAAAAAAAAAAAAAAAAAAAAAAAAAAAAAAAAAAAAAAAAAAAAAAAAAAAAAAAAAAAAAAAAAAAAAAAAAAAAAAAAAAAAAAAAAAAAAAAAAAAAAAAAAAAAAAAAAAAAAAAAAAAAAAAAAAAAAAAAAAAAAAAAAAAAAAAAAAAAAAAAAAAAAAAAAAAAAAAAAAAAAAAAAAAAAAAAAAAAAAAAAAAAAAAAAAAAAAAAAAAAAAAAAAAAAAAAAAAAAAAAAAAAAAAAAAAAAAAAAAAAAAAAAAAAAAAAAAAAAAAAAAAAAAAAAAAAAAAAAAAAAAAAAAAAAAAAAAAAAAAAAAAAAAAAAAAAAAAAAAAAAAAAAAAAAAAAAAAAAAAAAAAAAAAAAAAAAAAAAAAAAAAAAAAAAAAAAAAAAAAAAAAAAAAAAAAAAAAAAAAAAAAAAAAAAAAAAAAAAAAAAAAAAAAAAAAAAAAAAAAAAAAAAAAAAAAAAAAAAAAAAAAAAAAAAAAAAAAAAAAAAAAAAAAAAAAAAAAAAAAAAAAAAAAAAAAAAAAAAAAAAAAAAAAAAAAAAAAAAAAAAAAAAAAAAAAAAAAAAAAAAAAAAAAAAAAAAAAAAAAAAAAAAAAAAAAAAAAAAAAAAAAAAAAAAAAAAAAAAAAAAAAAAAAAAAAAAAAAAAAAAAAAAAAAAAAAAAAAAAAAAAAAAAAAAAAAAAAAAAAAAAAAAAAAAAAAAAAAAAAAAAAAAAAAAAAAAAAAAAAAAAAAAAAAAAAAAAAAAAAAAAAAAAAAAAAAAAAAAAAAAAAAAAAAAAAAAAAAAAAAAAAAAAAAAAAAAAAAAAAAAAAAAAAAAAAAAAAAAAAAAAAAAAAAAAAAAAAAAAAAAAAAAAAAAAAAAAAAAAAAAAAAAAAAAAAAAAAAAAAAAAAAAAAAAAAAAAAAAAAAAAAAAAAAAAAAAAAAAAAAAAAAAAAAAAAAAAAAAAAAAAAAAAAAAAAAAAAAAAAAAAAAAAAAAAAAAAAAAAAAAAAAAAAAAAAAAAAAAAAAAAAAAAAAAAAAAAAAAAAAAAAAAAAAAAAAAAAAAAAAAAAAAAAAAAAAAAAAAAAAAAAAAAAAAAAAAAAAAAAAAAAAAAAAAAAAAAAAAAAAAAAAAAAAAAAAAAAAAAAAAAAAAAAAAAAAAAAAAAAAAAAAAAAAAAAAAAAAAAAAAAAAAAAAAAAAAAAAAAAAAAAAAAAAAAAAAAAAAAAAAAAAAAAAAAAAAAAAAAAAAAAAAAAAAAAAAAAAAAAAAAAAAAAAAAAAAAAAAAAAAAAAAAAAAAAAAAAAAAAAAAAAAAAAAAAAAAAAAAAAAAAAAAAAAAAAAAAAAAAAAAAAAAAAAAAAAAAAAAAAAAAAAAAAAAAAAAAAAAAAAAAAAAAAAAAAAAAAAAAAAAAAAAAAAAAAAAAAAAAAAAAAAAAAAAAAAAAAAAAAAAAAAAAAAAAAAAAAAAAAAAAAAAAAAAAAAAAAAAAAAAAAAAAAAAAAAAAAAAAAAAAAAAAAAAAAAAAAAAAAAAAAAAAAAAAAAAAAAAAAAAAAAAAAAAAAAAAAAAAAAAAAAAAAAAAAAAAAAAAAAAAAAAAAAAAAAAAAAAAAAAAAAAAAAAAAAAAAAAAAAAAAAAAAAAAAAAAAAAAAAAAAAAAAAAAAAAAAAAAAAAAAAAAAAAAAAAAAAAAAAAAAAAAAAAAAAAAAAAAAAAAAAAAAAAAAAAAAAAAAAAAAAAAAAAAAAAAAAAAAAAAAAAAAAAAAAAAAAAAAAAAAAAAAAAAAAAAAAAAAAAAAAAAAAAAAAAAAAAAAAAAAAAAAAAAAAAAAAAAAAAAAAAAAAAAAAAAAAAAAAAAAAAAAAAAAAAAAAAAAAAAAAAAAAAAAAAAAAAAAAAAAAAAAAAAAAAAAAAAAAAAAAAAAAAAAAAAAAAAAAAAAAAAAAAAAAAAAAAAAAAAAAAAAAAAAAAAAAAAAAAAAAAAAAAAAAAAAAAAAAAAAAAAAAAAAAAAAAAAAAAAAAAAAAAAAAAAAAAAAAAAAAAAAAAAAAAAAAAAAAAAAAAAAAAAAAAAAAAAAAAAAAAAAAAAAAAAAAAAAAAAAAAAAAAAAAAAAAAAAAAAAAAAAAAAAAAAAAAAAAAAAAAAAAAAAAAAAAAAAAAAAAAAAAAAAAAAAAAAAAAAAAAAAAAAAAAAAAAAAAAAAAAAAAAAAAAAAAAAAAAAAAAAAAAAAAAAAAAAAAAAAAAAAAAAAAAAAAAAAAAAAAAAAAAAAAAAAAAAAAAAAAAAAAAAAAAAAAAAAAAAAAAAAAAAAAAAAAAAAAAAAAAAAAAAAAAAAAAAAAAAAAAAAAAAAAAAAAAAAAAAAAAAAAAAAAAAAAAAAAAAAAAAAAAAAAAAAAAAAAAAAAAAAAAAAAAAAAAAAAAAAAAAAAAAAAAAAAAAAAAAAAAAAAAAAAAAAAAAAAAAAAAAAAAAAAAAAAAAAAAAAAAAAAAAAAAAAAAAAAAAAAAAAAAAAAAAAAAAAAAAAAAAAAAAAAAAAAAAAAAAAAAAAAAAAAAAAAAAAAAAAAAAAAAAAAAAAAAAAAAAAAAAAAAAAAAAAAAAAAAAAAAAAAAAAAAAAAAAAAAAAAAAAAAAAAAAAAAAAAAAAAAAAAAAAAAAAAAAAAAAAAAAAAAAAAAAAAAAAAAAAAAAAAAAAAAAAAAAAAAAAAAAAAAAAAAAAAAAAAAAAAAAAAAAAAAAAAAAAAAAAAAAAAAAAAAAAAAAAAAAAAAAAAAAAAAAAAAAAAAAAAAAAAAAAAAAAAAAAAAAAAAAAAAAAAAAAAAAAAAAAAAAAAAAAAAAAAAAAAAAAAAAAAAAAAAAAAAAAAAAAAAAAAAAAAAAAAAAAAAAAAAAAAAAAAAAAAAAAAAAAAAAAAAAAAAAAAAAAAAAAAAAAAAAAAAAAAAAAAAAAAAAAAAAAAAAAAAAAAAAAAAAAAAAAAAAAAAAAAAAAAAAAAAAAAAAAAAAAAAAAAAAAAAAAAAAAAAAAAAAAAAAAAAAAAAAAAAAAAAAAAAAAAAAAAAAAAAAAAAAAAAAAAAAAAAAAAAAAAAAAAAAAAAAAAAAAAAAAAAAAAAAAAAAAAAAAAAAAAAAAAAAAAAAAAAAAAAAAAAAAAAAAAAAAAAAAAAAAAAAAAAAAAAAAAAAAAAAAAAAAAAAAAAAAAAAAAAAAAAAAAAAAAAAAAAAAAAAAAAAAAAAAAAAAAAAAAAAAAAAAAAAAAAAAAAAAAAAAAAAAAAAAAAAAAAAAAAAAAAAAAAAAAAAAAAAAAAAAAAAAAAAAAAAAAAAAAAAAAAAAAAAAAAAAAAAAAAAAAAAAAAAAAAAAAAAAAAAAAAAAAAAAAAAAAAAAAAAAAAAAAAAAAAAAAAAAAAAAAAAAAAAAAAAAAAAAAAAAAAAAAAAAAAAAAAAAAAAAAAAAAAAAAAAAAAAAAAAAAAAAAAAAAAAAAAAAAAAAAAAAAAAAAAAAAAAAAAAAAAAAAAAAAAAAAAAAAAAAAAAAAAAAAAAAAAAAAAAAAAAAAAAAAAAAAAAAAAAAAAAAAAAAAAAAAAAAAAAAAAAAAAAAAAAAAAAAAAAAAAAAAAAAAAAAAAAAAAAAAAAAAAAAAAAAAAAAAAAAAAAAAAAAAAAAAAAAAAAAAAAAAAAAAAAAAAAAAAAAAAAAAAAAAAAAAAAAAAAAAAAAAAAAAAAAAAAAAAAAAAAAAAAAAAAAAAAAAAAAAAAAAAAAAAAAAAAAAAAAAAAAAAAAAAAAAAAAAAAAAAAAAAAAAAAAAAAAAAAAAAAAAAAAAAAAAAAAAAAAAAAAAAAAAAAAAAAAAAAAAAAAAAAAAAAAAAAAAAAAAAAAAAAAAAAAAAAAAAAAAAAAAAAAAAAAAAAAAAAAAAAAAAAAAAAAAAAAAAAAAAAAAAAAAAAAAAAAAAAAAAAAAAAAAAAAAAAAAAAAAAAAAAAAAAAAAAAAAAAAAAAAAAAAAAAAAAAAAAAAAAAAAAAAAAAAAAAAAAAAAAAAAAAAAAAAAAAAAAAAAAAAAAAAAAAAAAAAAAAAAAAAAAAAAAAAAAAAAAAAAAAAAAAAAAAAAAAAAAAAAAAAAAAAAAAAAAAAAAAAAAAAAAAAAAAAAAAAAAAAAAAAAAAAAAAAAAAAAAAAAAAAAAAAAAAAAAAAAAAAAAAAAAAAAAAAAAAAAAAAAAAAAAAAAAAAAAAAAAAAAAAAAAAAAAAAAAAAAAAAAAAAAAAAAAAAAAAAAAAAAAAAAAAAAAAAAAAAAAAAAAAAAAAAAAAAAAAAAAAAAAAAAAAAAAAAAAAAAAAAAAAAAAAAAAAAAAAAAAAAAAAAAAAAAAAAAAAAAAAAAAAAAAAAAAAAAAAAAAAAAAAAAAAAAAAAAAAAAAAAAAAAAAAAAAAAAAAAAAAAAAAAAAAAAAAAAAAAAAAAAAAAAAAAAAAAAAAAAAAAAAAAAAAAAAAAAAAAAAAAAAAAAAAAAAAAAAAAAAAAAAAAAAAAAAAAAAAAAAAAAAAAAAAAAAAAAAAAAAAAAAAAAAAAAAAAAAAAAAAAAAAAAAAAAAAAAAAAAAAAAAAAAAAAAAAAAAAAAAAAAAAAAAAAAAAAAAAAAAAAAAAAAAAAAAAAAAAAAAAAAAAAAAAAAAAAAAAAAAAAAAAAAAAAAAAAAAAAAAAAAAAAAAAAAAAAAAAAAAAAAAAAAAAAAAAAAAAAAAAAAAAAAAAAAAAAAAAAAAAAAAAAAAAAAAAAAAAAAAAAAAAAAAAAAAAAAAAAAAAAAAAAAAAAAAAAAAAAAAAAAAAAAAAAAAAAAAAAAAAAAAAAAAAAAAAAAAAAAAAAAAAAAAAAAAAAAAAAAAAAAAAAAAAAAAAAAAAAAAAAAAAAAAAAAAAAAAAAAAAAAAAAAAAAAAAAAAAAAAAAAAAAAAAAAAAAAAAAAAAAAAAAAAAAAAAAAAAAAAAAAAAAAAAAAAAAAAAAAAAAAAAAAAAAAAAAAAAAAAAAAAAAAAAAAAAAAAAAAAAAAAAAAAAAAAAAAAAAAAAAAAAAAAAAAAAAAAAAAAAAAAAAAAAAAAAAAAAAAAAAAAAAAAAAAAAAAAAAAAAAAAAAAAAAAAAAAAAAAAAAAAAAAAAAAAAAAAAAAAAAAAAAAAAAAAAAAAAAAAAAAAAAAAAAAAAAAAAAAAAAAAAAAAAAAAAAAAAAAAAAAAAAAAAAAAAAAAAAAAAAAAAAAAAAAAAAAAAAAAAAAAAAAAAAAAAAAAAAAAAAAAAAAAAAAAAAAAAAAAAAAAAAAAAAAAAAAAAAAAAAAAAAAAAAAAAAAAAAAAAAAAAAAAAAAAAAAAAAAAAAAAAAAAAAAAAAAAAAAAAAAAAAAAAAAAAAAAAAAAAAAAAAAAAAAAAAAAAAAAAAAAAAAAAAAAAAAAAAAAAAAAAAAAAAAAAAAAAAAAAAAAAAAAAAAAAAAAAAAAAAAAAAAAAAAAAAAAAAAAAAAAAAAAAAAAAAAAAAAAAAAAAAAAAAAAAAAAAAAAAAAAAAAAAAAAAAAAAAAAAAAAAAAAAAAAAAAAAAAAAAAAAAAAAAAAAAAAAAAAAAAAAAAAAAAAAAAAAAAAAAAAAAAAAAAAAAAAAAAAAAAAAAAAAAAAAAAAAAAAAAAAAAAAAAAAAAAAAAAAAAAAAAAAAAAAAAAAAAAAAAAAAAAAAAAAAAAAAAAAAAAAAAAAAAAAAAAAAAAAAAAAAAAAAAAAAAAAAAAAAAAAAAAAAAAAAAAAAAAAAAAAAAAAAAAAAAAAAAAAAAAAAAAAAAAAAAAAAAAAAAAAAAAAAAAAAAAAAAAAAAAAAAAAAAAAAAAAAAAAAAAAAAAAAAAAAAAAAAAAAAAAAAAAAAAAAAAAAAAAAAAAAAAAAAAAAAAAAAAAAAAAAAAAAAAAAAAAAAAAAAAAAAAAAAAAAAAAAAAAAAAAAAAAAAAAAAAAAAAAAAAAAAAAAAAAAAAAAAAAAAAAAAAAAAAAAAAAAAAAAAAAAAAAAAAAAAAAAAAAAAAAAAAAAAAAAAAAAAAAAAAAAAAAAAAAAAAAAAAAAAAAAAAAAAAAAAAAAAAAAAAAAAAAAAAAAAAAAAAAAAAAAAAAAAAAAAAAAAAAAAAAAAAAAAAAAAAAAAAAAAAAAAAAAAAAAAAAAAAAAAAAAAAAAAAAAAAAAAAAAAAAAAAAAAAAAAAAAAAAAAAAAAAAAAAAAAAAAAAAAAAAAAAAAAAAAAAAAAAAAAAAAAAAAAAAAAAAAAAAAAAAAAAAAAAAAAAAAAAAAAAAAAAAAAAAAAAAAAAAAAAAAAAAAAAAAAAAAAAAAAAAAAAAAAAAAAAAAAAAAAAAAAAAAAAAAAAAAAAAAAAAAAAAAAAAAAAAAAAAAAAAAAAAAAAAAAAAAAAAAAAAAAAAAAAAAAAAAAAAAAAAAAAAAAAAAAAAAAAAAAAAAAAAAAAAAAAAAAAAAAAAAAAAAAAAAAAAAAAAAAAAAAAAAAAAAAAAAAAAAAAAAAAAAAAAAAAAAAAAAAAAAAAAAAAAAAAAAAAAAAAAAAAAAAAAAAAAAAAAAAAAAAAAAAAAAAAAAAAAAAAAAAAAAAAAAAAAAAAAAAAAAAAAAAAAAAAAAAAAAAAAAAAAAAAAAAAAAAAAAAAAAAAAAAAAAAAAAAAAAAAAAAAAAAAAAAAAAAAAAAAAAAAAAAAAAAAAAAAAAAAAAAAAAAAAAAAAAAAAAAAAAAAAAAAAAAAAAAAAAAAAAAAAAAAAAAAAAAAAAAAAAAAAAAAAAAAAAAAAAAAAAAAAAAAAAAAAAAAAAAAAAAAAAAAAAAAAAAAAAAAAAAAAAAAAAAAAAAAAAAAAAAAAAAAAAAAAAAAAAAAAAAAAAAAAAAAAAAAAAAAAAAAAAAAAAAAAAAAAAAAAAAAAAAAAAAAAAAAAAAAAAAAAAAAAAAAAAAAAAAAAAAAAAAAAAAAAAAAAAAAAAAAAAAAAAAAAAAAAAAAAAAAAAAAAAAAAAAAAAAAAAAAAAAAAAAAAAAAAAAAAAAAAAAAAAAAAAAAAAAAAAAAAAAAAAAAAAAAAAAAAAAAAAAAAAAAAAAAAAAAAAAAAAAAAAAAAAAAAAAAAAAAAAAAAAAAAAAAAAAAAAAAAAAAAAAAAAAAAAAAAAAAAAAAAAAAAAAAAAAAAAAAAAAAAAAAAAAAAAAAAAAAAAAAAAAAAAAAAAAAAAAAAAAAAAAAAAAAAAAAAAAAAAAAAAAAAAAAAAAAAAAAAAAAAAAAAAAAAAAAAAAAAAAAAAAAAAAAAAAAAAAAAAAAAAAAAAAAAAAAAAAAAAAAAAAAAAAAAAAAAAAAAAAAAAAAAAAAAAAAAAAAAAAAAAAAAAAAAAAAAAAAAAAAAAAAAAAAAAAAAAAAAAAAAAAAAAAAAAAAAAAAAAAAAAAAAAAAAAAAAAAAAAAAAAAAAAAAAAAAAAAAAAAAAAAAAAAAAAAAAAAAAAAAAAAAAAAAAAAAAAAAAAAAAAAAAAAAAAAAAAAAAAAAAAAAAAAAAAAAAAAAAAAAAAAAAAAAAAAAAAAAAAAAAAAAAAAAAAAAAAAAAAAAAAAAAAAAAAAAAAAAAAAAAAAAAAAAAAAAAAAAAAAAAAAAAAAAAAAAAAAAAAAAAAAAAAAAAAAAAAAAAAAAAAAAAAAAAAAAAAAAAAAAAAAAAAAAAAAAAAAAAAAAAAAAAAAAAAAAAAAAAAAAAAAAAAAAAAAAAAAAAAAAAAAAAAAAAAAAAAAAAAAAAAAAAAAAAAAAAAAAAAAAAAAAAAAAAAAAAAAAAAAAAAAAAAAAAAAAAAAAAAAAAAAAAAAAAAAAAAAAAAAAAAAAAAAAAAAAAAAAAAAAAAAAAAAAAAAAAAAAAAAAAAAAAAAAAAAAAAAAAAAAAAAAAAAAAAAAAAAAAAAAAAAAAAAAAAAAAAAAAAAAAAAAAAAAAAAAAAAAAAAAAAAAAAAAAAAAAAAAAAAAAAAAAAAAAAAAAAAAAAAAAAAAAAAAAAAAAAAAAAAAAAAAAAAAAAAAAAAAAAAAAAAAAAAAAAAAAAAAAAAAAAAAAAAAAAAAAAAAAAAAAAAAAAAAAAAAAAAAAAAAAAAAAAAAAAAAAAAAAAAAAAAAAAAAAAAAAAAAAAAAAAAAAAAAAAAAAAAAAAAAAAAAAAAAAAAAAAAAAAAAAAAAAAAAAAAAAAAAAAAAAAAAAAAAAAAAAAAAAAAAAAAAAAAAAAAAAAAAAAAAAAAAAAAAAAAAAAAAAAAAAAAAAAAAAAAAAAAAAAAAAAAAAAAAAAAAAAAAAAAAAAAAAAAAAAAAAAAAAAAAAAAAAAAAAAAAAAAAAAAAAAAAAAAAAAAAAAAAAAAAAAAAAAAAAAAAAAAAAAAAAAAAAAAAAAAAAAAAAAAAAAAAAAAAAAAAAAAAAAAAAAAAAAAAAAAAAAAAAAAAAAAAAAAAAAAAAAAAAAAAAAAAAAAAAAAAAAAAAAAAAAAAAAAAAAAAAAAAAAAAAAAAAAAAAAAAAAAAAAAAAAAAAAAAAAAAAAAAAAAAAAAAAAAAAAAAAAAAAAAAAAAAAAAAAAAAAAAAAAAAAAAAAAAAAAAAAAAAAAAAAAAAAAAAAAAAAAAAAAAAAAAAAAAAAAAAAAAAAAAAAAAAAAAAAAAAAAAAAAAAAAAAAAAAAAAAAAAAAAAAAAAAAAAAAAAAAAAAAAAAAAAAAAAAAAAAAAAAAAAAAAAAAAAAAAAAAAAAAAAAAAAAAAAAAAAAAAAAAAAAAAAAAAAAAAAAAAAAAAAAAAAAAAAAAAAAAAAAAAAAAAAAAAAAAAAAAAAAAAAAAAAAAAAAAAAAAAAAAAAAAAAAAAAAAAAAAAAAAAAAAAAAAAAAAAAAAAAAAAAAAAAAAAAAAAAAAAAAAAAAAAAAAAAAAAAAAAAAAAAAAAAAAAAAAAAAAAAAAAAAAAAAAAAAAAAAAAAAAAAAAAAAAAAAAAAAAAAAAAAAAAAAAAAAAAAAAAAAAAAAAAAAAAAAAAAAAAAAAAAAAAAAAAAAAAAAAAAAAAAAAAAAAAAAAAAAAAAAAAAAAAAAAAAAAAAAAAAAAAAAAAAAAAAAAAAAAAAAAAAAAAAAAAAAAAAAAAAAAAAAAAAAAAAAAAAAAAAAAAAAAAAAAAAAAAAAAAAAAAAAAAAAAAAAAAAAAAAAAAAAAAAAAAAAAAAAAAAAAAAAAAAAAAAAAAAAAAAAAAAAAAAAAAAAAAAAAAAAAAAAAAAAAAAAAAAAAAAAAAAAAAAAAAAAAAAAAAAAAAAAAAAAAAAAAAAAAAAAAAAAAAAAAAAAAAAAAAAAAAAAAAAAAAAAAAAAAAAAAAAAAAAAAAAAAAAAAAAAAAAAAAAAAAAAAAAAAAAAAAAAAAAAAAAAAAAAAAAAAAAAAAAAAAAAAAAAAAAAAAAAAAAAAAAAAAAAAAAAAAAAAAAAAAAAAAAAAAAAAAAAAAAAAAAAAAAAAAAAAAAAAAAAAAAAAAAAAAAAAAAAAAAAAAAAAAAAAAAAAAAAAAAAAAAAAAAAAAAAAAAAAAAAAAAAAAAAAAAAAAAAAAAAAAAAAAAAAAAAAAAAAAAAAAAAAAAAAAAAAAAAAAAAAAAAAAAAAAAAAAAAAAAAAAAAAAAAAAAAAAAAAAAAAAAAAAAAAAAAAAAAAAAAAAAAAAAAAAAAAAAAAAAAAAAAAAAAAAAAAAAAAAAAAAAAAAAAAAAAAAAAAAAAAAAAAAAAAAAAAAAAAAAAAAAAAAAAAAAAAAAAAAAAAAAAAAAAAAAAAAAAAAAAAAAAAAAAAAAAAAAAAAAAAAAAAAAAAAAAAAAAAAAAAAAAAAAAAAAAAAAAAAAAAAAAAAAAAAAAAAAAAAAAAAAAAAAAAAAAAAAAAAAAAAAAAAAAAAAAAAAAAAAAAAAAAAAAAAAAAAAAAAAAAAAAAAAAAAAAAAAAAAAAAAAAAAAAAAAAAAAAAAAAAAAAAAAAAAAAAAAAAAAAAAAAAAAAAAAAAAAAAAAAAAAAAAAAAAAAAAAAAAAAAAAAAAAAAAAAAAAAAAAAAAAAAAAAAAAAAAAAAAAAAAAAAAAAAAAAAAAAAAAAAAAAAAAAAAAAAAAAAAAAAAAAAAAAAAAAAAAAAAAAAAAAAAAAAAAAAAAAAAAAAAAAAAAAAAAAAAAAAAAAAAAAAAAAAAAAAAAAAAAAAAAAAAAAAAAAAAAAAAAAAAAAAAAAAAAAAAAAAAAAAAAAAAAAAAAAAAAAAAAAAAAAAAAAAAAAAAAAAAAAAAAAAAAAAAAAAAAAAAAAAAAAAAAAAAAAAAAAAAAAAAAAAAAAAAAAAAAAAAAAAAAAAAAAAAAAAAAAAAAAAAAAAAAAAAAAAAAAAAAAAAAAAAAAAAAAAAAAAAAAAAAAAAAAAAAAAAAAAAAAAAAAAAAAAAAAAAAAAAAAAAAAAAAAAAAAAAAAAAAAAAAAAAAAAAAAAAAAAAAAAAAAAAAAAAAAAAAAAAAAAAAAAAAAAAAAAAAAAAAAAAAAAAAAAAAAAAAAAAAAAAAAAAAAAAAAAAAAAAAAAAAAAAAAAAAAAAAAAAAAAAAAAAAAAAAAAAAAAAAAAAAAAAAAAAAAAAAAAAAAAAAAAAAAAAAAAAAAAAAAAAAAAAAAAAAAAAAAAAAAAAAAAAAAAAAAAAAAAAAAAAAAAAAAAAAAAAAAAAAAAAAAAAAAAAAAAAAAAAAAAAAAAAAAAAAAAAAAAAAAAAAAAAAAAAAAAAAAAAAAAAAAAAAAAAAAAAAAAAAAAAAAAAAAAAAAAAAAAAAAAAAAAAAAAAAAAAAAAAAAAAAAAAAAAAAAAAAAAAAAAAAAAAAAAAAAAAAAAAAAAAAAAAAAAAAAAAAAAAAAAAAAAAAAAAAAAAAAAAAAAAAAAAAAAAAAAAAAAAAAAAAAAAAAAAAAAAAAAAAAAAAAAAAAAAAAAAAAAAAAAAAAAAAAAAAAAAAAAAAAAAAAAAAAAAAAAAAAAAAAAAAAAAAAAAAAAAAAAAAAAAAAAAAAAAAAAAAAAAAAAAAAAAAAAAAAAAAAAAAAAAAAAAAAAAAAAAAAAAAAAAAAAAAAAAAAAAAAAAAAAAAAAAAAAAAAAAAAAAAAAAAAAAAAAAAAAAAAAAAAAAAAAAAAAAAAAAAAAAAAAAAAAAAAAAAAAAAAAAAAAAAAAAAAAAAAAAAAAAAAAAAAAAAAAAAAAAAAAAAAAAAAAAAAAAAAAAAAAAAAAAAAAAAAAAAAAAAAAAAAAAAAAAAAAAAAAAAAAAAAAAAAAAAAAAAAAAAAAAAAAAAAAAAAAAAAAAAAAAAAAAAAAAAAAAAAAAAAAAAAAAAAAAAAAAAAAAAAAAAAAAAAAAAAAAAAAAAAAAAAAAAAAAAAAAAAAAAAAAAAAAAAAAAAAAAAAAAAAAAAAAAAAAAAAAAAAAAAAAAAAAAAAAAAAAAAAAAAAAAAAAAAAAAAAAAAAAAAAAAAAAAAAAAAAAAAAAAAAAAAAAAAAAAAAAAAAAAAAAAAAAAAAAAAAAAAAAAAAAAAAAAAAAAAAAAAAAAAAAAAAAAAAAAAAAAAAAAAAAAAAAAAAAAAAAAAAAAAAAAAAAAAAAAAAAAAAAAAAAAAAAAAAAAAAAAAAAAAAAAAAAAAAAAAAAAAAAAAAAAAAAAAAAAAAAAAAAAAAAAAAAAAAAAAAAAAAAAAAAAAAAAAAAAAAAAAAAAAAAAAAAAAAAAAAAAAAAAAAAAAAAAAAAAAAAAAAAAAAAAAAAAAAAAAAAAAAAAAAAAAAAAAAAAAAAAAAAAAAAAAAAAAAAAAAAAAAAAAAAAAAAAAAAAAAAAAAAAAAAAAAAAAAAAAAAAAAAAAAAAAAAAAAAAAAAAAAAAAAAAAAAAAAAAAAAAAAAAAAAAAAAAAAAAAAAAAAAAAAAAAAAAAAAAAAAAAAAAAAAAAAAAAAAAAAAAAAAAAAAAAAAAAAAAAAAAAAAAAAAAAAAAAAAAAAAAAAAAAAAAAAAAAAAAAAAAAAAAAAAAAAAAAAAAAAAAAAAAAAAAAAAAAAAAAAAAAAAAAAAAAAAAAAAAAAAAAAAAAAAAAAAAAAAAAAAAAAAAAAAAAAAAAAAAAAAAAAAAAAAAAAAAAAAAAAAAAAAAAAAAAAAAAAAAAAAAAAAAAAAAAAAAAAAAAAAAAAAAAAAAAAAAAAAAAAAAAAAAAAAAAAAAAAAAAAAAAAAAAAAAAAAAAAAAAAAAAAAAAAAAAAAAAAAAAAAAAAAAAAAAAAAAAAAAAAAAAAAAAAAAAAAAAAAAAAAAAAAAAAAAAAAAAAAAAAAAAAAAAAAAAAAAAAAAAAAAAAAAAAAAAAAAAAAAAAAAAAAAAAAAAAAAAAAAAAAAAAAAAAAAAAAAAAAAAAAAAAAAAAAAAAAAAAAAAAAAAAAAAAAAAAAAAAAAAAAAAAAAAAAAAAAAAAAAAAAAAAAAAAAAAAAAAAAAAAAAAAAAAAAAAAAAAAAAAAAAAAAAAAAAAAAAAAAAAAAAAAAAAAAAAAAAAAAAAAAAAAAAAAAAAAAAAAAAAAAAAAAAAAAAAAAAAAAAAAAAAAAAAAAAAAAAAAAAAAAAAAAAAAAAAAAAAAAAAAAAAAAAAAAAAAAAAAAAAAAAAAAAAAAAAAAAAAAAAAAAAAAAAAAAAAAAAAAAAAAAAAAAAAAAAAAAAAAAAAAAAAAAAAAAAAAAAAAAAAAAAAAAAAAAAAAAAAAAAAAAAAAAAAAAAAAAAAAAAAAAAAAAAAAAAAAAAAAAAAAAAAAAAAAAAAAAAAAAAAAAAAAAAAAAAAAAAAAAAAAAAAAAAAAAAAAAAAAAAAAAAAAAAAAAAAAAAAAAAAAAAAAAAAAAAAAAAAAAAAAAAAAAAAAAAAAAAAAAAAAAAAAAAAAAAAAAAAAAAAAAAAAAAAAAAAAAAAAAAAAAAAAAAAAAAAAAAAAAAAAAAAAAAAAAAAAAAAAAAAAAAAAAAAAAAAAAAAAAAAAAAAAAAAAAAAAAAAAAAAAAAAAAAAAAAAAAAAAAAAAAAAAAAAAAAAAAAAAAAAAAAAAAAAAAAAAAAAAAAAAAAAAAAAAAAAAAAAAAAAAAAAAAAAAAAAAAAAAAAAAAAAAAAAAAAAAAAAAAAAAAAAAAAAAAAAAAAAAAAAAAAAAAAAAAAAAAAAAAAAAAAAAAAAAAAAAAAAAAAAAAAAAAAAAAAAAAAAAAAAAAAAAAAAAAAAAAAAAAAAAAAAAAAAAAAAAAAAAAAAAAAAAAAAAAAAAAAAAAAAAAAAAAAAAAAAAAAAAAAAAAAAAAAAAAAAAAAAAAAAAAAAAAAAAAAAAAAAAAAAAAAAAAAAAAAAAAAAAAAAAAAAAAAAAAAAAAAAAAAAAAAAAAAAAAAAAAAAAAAAAAAAAAAAAAAAAAAAAAAAAAAAAAAAAAAAAAAAAAAAAAAAAAAAAAAAAAAAAAAAAAAAAAAAAAAAAAAAAAAAAAAAAAAAAAAAAAAAAAAAAAAAAAAAAAAAAAAAAAAAAAAAAAAAAAAAAAAAAAAAAAAAAAAAAAAAAAAAAAAAAAAAAAAAAAAAAAAAAAAAAAAAAAAAAAAAAAAAAAAAAAAAAAAAAAAAAAAAAAAAAAAAAAAAAAAAAAAAAAAAAAAAAAAAAAAAAAAAAAAAAAAAAAAAAAAAAAAAAAAAAAAAAAAAAAAAAAAAAAAAAAAAAAAAAAAAAAAAAAAAAAAAAAAAAAAAAAAAAAAAAAAAAAAAAAAAAAAAAAAAAAAAAAAAAAAAAAAAAAAAAAAAAAAAAAAAAAAAAAAAAAAAAAAAAAAAAAAAAAAAAAAAAAAAAAAAAAAAAAAAAAAAAAAAAAAAAAAAAAAAAAAAAAAAAAAAAAAAAAAAAAAAAAAAAAAAAAAAAAAAAAAAAAAAAAAAAAAAAAAAAAAAAAAAAAAAAAAAAAAAAAAAAAAAAAAAAAAAAAAAAAAAAAAAAAAAAAAAAAAAAAAAAAAAAAAAAAAAAAAAAAAAAAAAAAAAAAAAAAAAAAAAAAAAAAAAAAAAAAAAAAAAAAAAAAAAAAAAAAAAAAAAAAAAAAAAAAAAAAAAAAAAAAAAAAAAAAAAAAAAAAAAAAAAAAAAAAAAAAAAAAAAAAAAAAAAAAAAAAAAAAAAAAAAAAAAAAAAAAAAAAAAAAAAAAAAAAAAAAAAAAAAAAAAAAAAAAAAAAAAAAAAAAAAAAAAAAAAAAAAAAAAAAAAAAAAAAAAAAAAAAAAAAAAAAAAAAAAAAAAAAAAAAAAAAAAAAAAAAAAAAAAAAAAAAAAAAAAAAAAAAAAAAAAAAAAAAAAAAAAAAAAAAAAAAAAAAAAAAAAAAAAAAAAAAAAAAAAAAAAAAAAAAAAAAAAAAAAAAAAAAAAAAAAAAAAAAAAAAAAAAAAAAAAAAAAAAAAAAAAAAAAAAAAAAAAAAAAAAAAAAAAAAAAAAAAAAAAAAAAAAAAAAAAAAAAAAAAAAAAAAAAAAAAAAAAAAAAAAAAAAAAAAAAAAAAAAAAAAAAAAAAAAAAAAAAAAAAAAAAAAAAAAAAAAAAAAAAAAAAAAAAAAAAAAAAAAAAAAAAAAAAAAAAAAAAAAAAAAAAAAAAAAAAAAAAAAAAAAAAAAAAAAAAAAAAAAAAAAAAAAAAAAAAAAAAAAAAAAAAAAAAAAAAAAAAAAAAAAAAAAAAAAAAAAAAAAAAAAAAAAAAAAAAAAAAAAAAAAAAAAAAAAAAAAAAAAAAAAAAAAAAAAAAAAAAAAAAAAAAAAAAAAAAAAAAAAAAAAAAAAAAAAAAAAAAAAAAAAAAAAAAAAAAAAAAAAAAAAAAAAAAAAAAAAAAAAAAAAAAAAAAAAAAAAAAAAAAAAAAAAAAAAAAAAAAAAAAAAAAAAAAAAAAAAAAAAAAAAAAAAAAAAAAAAAAAAAAAAAAAAAAAAAAAAAAAAAAAAAAAAAAAAAAAAAAAAAAAAAAAAAAAAAAAAAAAAAAAAAAAAAAAAAAAAAAAAAAAAAAAAAAAAAAAAAAAAAAAAAAAAAAAAAAAAAAAAAAAAAAAAAAAAAAAAAAAAAAAAAAAAAAAAAAAAAAAAAAAAAAAAAAAAAAAAAAAAAAAAAAAAAAAAAAAAAAAAAAAAAAAAAAAAAAAAAAAAAAAAAAAAAAAAAAAAAAAAAAAAAAAAAAAAAAAAAAAAAAAAAAAAAAAAAAAAAAAAAAAAAAAAAAAAAAAAAAAAAAAAAAAAAAAAAAAAAAAAAAAAAAAAAAAAAAAAAAAAAAAAAAAAAAAAAAAAAAAAAAAAAAAAAAAAAAAAAAAAAAAAAAAAAAAAAAAAAAAAAAAAAAAAAAAAAAAAAAAAAAAAAAAAAAAAAAAAAAAAAAAAAAAAAAAAAAAAAAAAAAAAAAAAAAAAAAAAAAAAAAAAAAAAAAAAAAAAAAAAAAAAAAAAAAAAAAAAAAAAAAAAAAAAAAAAAAAAAAAAAAAAAAAAAAAAAAAAAAAAAAAAAAAAAAAAAAAAAAAAAAAAAAAAAAAAAAAAAAAAAAAAAAAAAAAAAAAAAAAAAAAAAAAAAAAAAAAAAAAAAAAAAAAAAAAAAAAAAAAAAAAAAAAAAAAAAAAAAAAAAAAAAAAAAAAAAAAAAAAAAAAAAAAAAAAAAAAAAAAAAAAAAAAAAAAAAAAAAAAAAAAAAAAAAAAAAAAAAAAAAAAAAAAAAAAAAAAAAAAAAAAAAAAAAAAAAAAAAAAAAAAAAAAAAAAAAAAAAAAAAAAAAAAAAAAAAAAAAAAAAAAAAAAAAAAAAAAAAAAAAAAAAAAAAAAAAAAAAAAAAAAAAAAAAAAAAAAAAAAAAAAAAAAAAAAAAAAAAAAAAAAAAAAAAAAAAAAAAAAAAAAAAAAAAAAAAAAAAAAAAAAAAAAAAAAAAAAAAAAAAAAAAAAAAAAAAAAAAAAAAAAAAAAAAAAAAAAAAAAAAAAAAAAAAAAAAAAAAAAAAAAAAAAAAAAAAAAAAAAAAAAAAAAAAAAAAAAAAAAAAAAAAAAAAAAAAAAAAAAAAAAAAAAAAAAAAAAAAAAAAAAAAAAAAAAAAAAAAAAAAAAAAAAAAAAAAAAAAAAAAAAAAAAAAAAAAAAAAAAAAAAAAAAAAAAAAAAAAAAAAAAAAAAAAAAAAAAAAAAAAAAAAAAAAAAAAAAAAAAAAAAAAAAAAAAAAAAAAAAAAAAAAAAAAAAAAAAAAAAAAAAAAAAAAAAAAAAAAAAAAAAAAAAAAAAAAAAAAAAAAAAAAAAAAAAAAAAAAAAAAAAAAAAAAAAAAAAAAAAAAAAAAAAAAAAAAAAAAAAAAAAAAAAAAAAAAAAAAAAAAAAAAAAAAAAAAAAAAAAAAAAAAAAAAAAAAAAAAAAAAAAAAAAAAAAAAAAAAAAAAAAAAAAAAAAAAAAAAAAAAAAAAAAAAAAAAAAAAAAAAAAAAAAAAAAAAAAAAAAAAAAAAAAAAAAAAAAAAAAAAAAAAAAAAAAAAAAAAAAAAAAAAAAAAAAAAAAAAAAAAAAAAAAAAAAAAAAAAAAAAAAAAAAAAAAAAAAAAAAAAAAAAAAAAAAAAAAAAAAAAAAAAAAAAAAAAAAAAAAAAAAAAAAAAAAAAAAAAAAAAAAAAAAAAAAAAAAAAAAAAAAAAAAAAAAAAAAAAAAAAAAAAAAAAAAAAAAAAAAAAAAAAAAAAAAAAAAAAAAAAAAAAAAAAAAAAAAAAAAAAAAAAAAAAAAAAAAAAAAAAAAAAAAAAAAAAAAAAAAAAAAAAAAAAAAAAAAAAAAAAAAAAAAAAAAAAAAAAAAAAAAAAAAAAAAAAAAAAAAAAAAAAAAAAAAAAAAAAAAAAAAAAAAAAAAAAAAAAAAAAAAAAAAAAAAAAAAAAAAAAAAAAAAAAAAAAAAAAAAAAAAAAAAAAAAAAAAAAAAAAAAAAAAAAAAAAAAAAAAAAAAAAAAAAAAAAAAAAAAAAAAAAAAAAAAAAAAAAAAAAAAAAAAAAAAAAAAAAAAAAAAAAAAAAAAAAAAAAAAAAAAAAAAAAAAAAAAAAAAAAAAAAAAAAAAAAAAAAAAAAAAAAAAAAAAAAAAAAAAAAAAAAAAAAAAAAAAAAAAAAAAAAAAAAAAAAAAAAAAAAAAAAAAAAAAAAAAAAAAAAAAAAAAAAAAAAAAAAAAAAAAAAAAAAAAAAAAAAAAAAAAAAAAAAAAAAAAAAAAAAAAAAAAAAAAAAAAAAAAAAAAAAAAAAAAAAAAAAAAAAAAAAAAAAAAAAAAAAAAAAAAAAAAAAAAAAAAAAAAAAAAAAAAAAAAAAAAAAAAAAAAAAAAAAAAAAAAAAAAAAAAAAAAAAAAAAAAAAAAAAAAAAAAAAAAAAAAAAAAAAAAAAAAAAAAAAAAAAAAAAAAAAAAAAAAAAAAAAAAAAAAAAAAAAAAAAAAAAAAAAAAAAAAAAAAAAAAAAAAAAAAAAAAAAAAAAAAAAAAAAAAAAAAAAAAAAAAAAAAAAAAAAAAAAAAAAAAAAAAAAAAAAAAAAAAAAAAAAAAAAAAAAAAAAAAAAAAAAAAAAAAAAAAAAAAAAAAAAAAAAAAAAAAAAAAAAAAAAAAAAAAAAAAAAAAAAAAAAAAAAAAAAAAAAAAAAAAAAAAAAAAAAAAAAAAAAAAAAAAAAAAAAAAAAAAAAAAAAAAAAAAAAAAAAAAAAAAAAAAAAAAAAAAAAAAAAAAAAAAAAAAAAAAAAAAAAAAAAAAAAAAAAAAAAAAAAAAAAAAAAAAAAAAAAAAAAAAAAAAAAAAAAAAAAAAAAAAAAAAAAAAAAAAAAAAAAAAAAAAAAAAAAAAAAAAAAAAAAAAAAAAAAAAAAAAAAAAAAAAAAAAAAAAAAAAAAAAAAAAAAAAAAAAAAAAAAAAAAAAAAAAAAAAAAAAAAAAAAAAAAAAAAAAAAAAAAAAAAAAAAAAAAAAAAAAAAAAAAAAAAAAAAAAAAAAAAAAAAAAAAAAAAAAAAAAAAAAAAAAAAAAAAAAAAAAAAAAAAAAAAAAAAAAAAAAAAAAAAAAAAAAAAAAAAAAAAAAAAAAAAAAAAAAAAAAAAAAAAAAAAAAAAAAAAAAAAAAAAAAAAAAAAAAAAAAAAAAAAAAAAAAAAAAAAAAAAAAAAAAAAAAAAAAAAAAAAAAAAAAAAAAAAAAAAAAAAAAAAAAAAAAAAAAAAAAAAAAAAAAAAAAAAAAAAAAAAAAAAAAAAAAAAAAAAAAAAAAAAAAAAAAAAAAAAAAAAAAAAAAAAAAAAAAAAAAAAAAAAAAAAAAAAAAAAAAAAAAAAAAAAAAAAAAAAAAAAAAAAAAAAAAAAAAAAAAAAAAAAAAAAAAAAAAAAAAAAAAAAAAAAAAAAAAAAAAAAAAAAAAAAAAAAAAAAAAAAAAAAAAAAAAAAAAAAAAAAAAAAAAAAAAAAAAAAAAAAAAAAAAAAAAAAAAAAAAAAAAAAAAAAAAAAAAAAAAAAAAAAAAAAAAAAAAAAAAAAAAAAAAAAAAAAAAAAAAAAAAAAAAAAAAAAAAAAAAAAAAAAAAAAAAAAAAAAAAAAAAAAAAAAAAAAAAAAAAAAAAAAAAAAAAAAAAAAAAAAAAAAAAAAAAAAAAAAAAAAAAAAAAAAAAAAAAAAAAAAAAAAAAAAAAAAAAAAAAAAAAAAAAAAAAAAAAAAAAAAAAAAAAAAAAAAAAAAAAAAAAAAAAAAAAAAAAAAAAAAAAAAAAAAAAAAAAAAAAAAAAAAAAAAAAAAAAAAAAAAAAAAAAAAAAAAAAAAAAAAAAAAAAAAAAAAAAAAAAAAAAAAAAAAAAAAAAAAAAAAAAAAAAAAAAAAAAAAAAAAAAAAAAAAAAAAAAAAAAAAAAAAAAAAAAAAAAAAAAAAAAAAAAAAAAAAAAAAAAAAAAAAAAAAAAAAAAAAAAAAAAAAAAAAAAAAAAAAAAAAAAAAAAAAAAAAAAAAAAAAAAAAAAAAAAAAAAAAAAAAAAAAAAAAAAAAAAAAAAAAAAAAAAAAAAAAAAAAAAAAAAAAAAAAAAAAAAAAAAAAAAAAAAAAAAAAAAAAAAAAAAAAAAAAAAAAAAAAAAAAAAAAAAAAAAAAAAAAAAAAAAAAAAAAAAAAAAAAAAAAAAAAAAAAAAAAAAAAAAAAAAAAAAAAAAAAAAAAAAAAAAAAAAAAAAAAAAAAAAAAAAAAAAAAAAAAAAAAAAAAAAAAAAAAAAAAAAAAAAAAAAAAAAAAAAAAAAAAAAAAAAAAAAAAAAAAAAAAAAAAAAAAAAAAAAAAAAAAAAAAAAAAAAAAAAAAAAAAAAAAAAAAAAAAAAAAAAAAAAAAAAAAAAAAAAAAAAAAAAAAAAAAAAAAAAAAAAAAAAAAAAAAAAAAAAAAAAAAAAAAAAAAAAAAAAAAAAAAAAAAAAAAAAAAAAAAAAAAAAAAAAAAAAAAAAAAAAAAAAAAAAAAAAAAAAAAAAAAAAAAAAAAAAAAAAAAAAAAAAAAAAAAAAAAAAAAAAAAAAAAAAAAAAAAAAAAAAAAAAAAAAAAAAAAAAAAAAAAAAAAAAAAAAAAAAAAAAAAAAAAAAAAAAAAAAAAAAAAAAAAAAAAAAAAAAAAAAAAAAAAAAAAAAAAAAAAAAAAAAAAAAAAAAAAAAAAAAAAAAAAAAAAAAAAAAAAAAAAAAAAAAAAAAAAAAAAAAAAAAAAAAAAAAAAAAAAAAAAAAAAAAAAAAAAAAAAAAAAAAAAAAAAAAAAAAAAAAAAAAAAAAAAAAAAAAAAAAAAAAAAAAAAAAAAAAAAAAAAAAAAAAAAAAAAAAAAAAAAAAAAAAAAAAAAAAAAAAAAAAAAAAAAAAAAAAAAAAAAAAAAAAAAAAAAAAAAAAAAAAAAAAAAAAAAAAAAAAAAAAAAAAAAAAAAAAAAAAAAAAAAAAAAAAAAAAAAAAAAAAAAAAAAAAAAAAAAAAAAAAAAAAAAAAAAAAAAAAAAAAAAAAAAAAAAAAAAAAAAAAAAAAAAAAAAAAAAAAAAAAAAAAAAAAAAAAAAAAAAAAAAAAAAAAAAAAAAAAAAAAAAAAAAAAAAAAAAAAAAAAAAAAAAAAAAAAAAAAAAAAAAAAAAAAAAAAAAAAAAAAAAAAAAAAAAAAAAAAAAAAAAAAAAAAAAAAAAAAAAAAAAAAAAAAAAAAAAAAAAAAAAAAAAAAAAAAAAAAAAAAAAAAAAAAAAAAAAAAAAAAAAAAAAAAAAAAAAAAAAAAAAAAAAAAAAAAAAAAAAAAAAAAAAAAAAAAAAAAAAAAAAAAAAAAAAAAAAAAAAAAAAAAAAAAAAAAAAAAAAAAAAAAAAAAAAAAAAAAAAAAAAAAAAAAAAAAAAAAAAAAAAAAAAAAAAAAAAAAAAAAAAAAAAAAAAAAAAAAAAAAAAAAAAAAAAAAAAAAAAAAAAAAAAAAAAAAAAAAAAAAAAAAAAAAAAAAAAAAAAAAAAAAAAAAAAAAAAAAAAAAAAAAAAAAAAAAAAAAAAAAAAAAAAAAAAAAAAAAAAAAAAAAAAAAAAAAAAAAAAAAAAAAAAAAAAAAAAAAAAAAAAAAAAAAAAAAAAAAAAAAAAAAAAAAAAAAAAAAAAAAAAAAAAAAAAAAAAAAAAAAAAAAAAAAAAAAAAAAAAAAAAAAAAAAAAAAAAAAAAAAAAAAAAAAAAAAAAAAAAAAAAAAAAAAAAAAAAAAAAAAAAAAAAAAAAAAAAAAAAAAAAAAAAAAAAAAAAAAAAAAAAAAAAAAAAAAAAAAAAAAAAAAAAAAAAAAAAAAAAAAAAAAAAAAAAAAAAAAAAAAAAAAAAAAAAAAAAAAAAAAAAAAAAAAAAAAAAAAAAAAAAAAAAAAAAAAAAAAAAAAAAAAAAAAAAAAAAAAAAAAAAAAAAAAAAAAAAAAAAAAAAAAAAAAAAAAAAAAAAAAAAAAAAAAAAAAAAAAAAAAAAAAAAAAAAAAAAAAAAAAAAAAAAAAAAAAAAAAAAAAAAAAAAAAAAAAAAAAAAAAAAAAAAAAAAAAAAAAAAAAAAAAAAAAAAAAAAAAAAAAAAAAAAAAAAAAAAAAAAAAAAAAAAAAAAAAAAAAAAAAAAAAAAAAAAAAAAAAAAAAAAAAAAAAAAAAAAAAAAAAAAAAAAAAAAAAAAAAAAAAAAAAAAAAAAAAAAAAAAAAAAAAAAAAAAAAAAAAAAAAAAAAAAAAAAAAAAAAAAAAAAAAAAAAAAAAAAAAAAAAAAAAAAAAAAAAAAAAAAAAAAAAAAAAAAAAAAAAAAAAAAAAAAAAAAAAAAAAAAAAAAAAAAAAAAAAAAAAAAAAAAAAAAAAAAAAAAAAAAAAAAAAAAAAAAAAAAAAAAAAAAAAAAAAAAAAAAAAAAAAAAAAAAAAAAAAAAAAAAAAAAAAAAAAAAAAAAAAAAAAAAAAAAAAAAAAAAAAAAAAAAAAAAAAAAAAAAAAAAAAAAAAAAAAAAAAAAAAAAAAAAAAAAAAAAAAAAAAAAAAAAAAAAAAAAAAAAAAAAAAAAAAAAAAAAAAAAAAAAAAAAAAAAAAAAAAAAAAAAAAAAAAAAAAAAAAAAAAAAAAAAAAAAAAAAAAAAAAAAAAAAAAAAAAAAAAAAAAAAAAAAAAAAAAAAAAAAAAAAAAAAAAAAAAAAAAAAAAAAAAAAAAAAAAAAAAAAAAAAAAAAAAAAAAAAAAAAAAAAAAAAAAAAAAAAAAAAAAAAAAAAAAAAAAAAAAAAAAAAAAAAAAAAAAAAAAAAAAAAAAAAAAAAAAAAAAAAAAAAAAAAAAAAAAAAAAAAAAAAAAAAAAAAAAAAAAAAAAAAAAAAAAAAAAAAAAAAAAAAAAAAAAAAAAAAAAAAAAAAAAAAAAAAAAAAAAAAAAAAAAAAAAAAAAAAAAAAAAAAAAAAAAAAAAAAAAAAAAAAAAAAAAAAAAAAAAAAAAAAAAAAAAAAAAAAAAAAAAAAAAAAAAAAAAAAAAAAAAAAAAAAAAAAAAAAAAAAAAAAAAAAAAAAAAAAAAAAAAAAAAAAAAAAAAAAAAAAAAAAAAAAAAAAAAAAAAAAAAAAAAAAAAAAAAAAAAAAAAAAAAAAAAAAAAAAAAAAAAAAAAAAAAAAAAAAAAAAAAAAAAAAAAAAAAAAAAAAAAAAAAAAAAAAAAAAAAAAAAAAAAAAAAAAAAAAAAAAAAAAAAAAAAAAAAAAAAAAAAAAAAAAAAAAAAAAAAAAAAAAAAAAAAAAAAAAAAAAAAAAAAAAAAAAAAAAAAAAAAAAAAAAAAAAAAAAAAAAAAAAAAAAAAAAAAAAAAAAAAAAAAAAAAAAAAAAAAAAAAAAAAAAAAAAAAAAAAAAAAAAAAAAAAAAAAAAAAAAAAAAAAAAAAAAAAAAAAAAAAAAAAAAAAAAAAAAAAAAAAAAAAAAAAAAAAAAAAAAAAAAAAAAAAAAAAAAAAAAAAAAAAAAAAAAAAAAAAAAAAAAAAAAAAAAAAAAAAAAAAAAAAAAAAAAAAAAAAAAAAAAAAAAAAAAAAAAAAAAAAAAAAAAAAAAAAAAAAAAAAAAAAAAAAAAAAAAAAAAAAAAAAAAAAAAAAAAAAAAAAAAAAAAAAAAAAAAAAAAAAAAAAAAAAAAAAAAAAAAAAAAAAAAAAAAAAAAAAAAAAAAAAAAAAAAAAAAAAAAAAAAAAAAAAAAAAAAAAAAAAAAAAAAAAAAAAAAAAAAAAAAAAAAAAAAAAAAAAAAAAAAAAAAAAAAAAAAAAAAAAAAAAAAAAAAAAAAAAAAAAAAAAAAAAAAAAAAAAAAAAAAAAAAAAAAAAAAAAAAAAAAAAAAAAAAAAAAAAAAAAAAAAAAAAAAAAAAAAAAAAAAAAAAAAAAAAAAAAAAAAAAAAAAAAAAAAAAAAAAAAAAAAAAAAAAAAAAAAAAAAAAAAAAAAAAAAAAAAAAAAAAAAAAAAAAAAAAAAAAAAAAAAAAAAAAAAAAAAAAAAAAAAAAAAAAAAAAAAAAAAAAAAAAAAAAAAAAAAAAAAAAAAAAAAAAAAAAAAAAAAAAAAAAAAAAAAAAAAAAAAAAAAAAAAAAAAAAAAAAAAAAAAAAAAAAAAAAAAAAAAAAAAAAAAAAAAAAAAAAAAAAAAAAAAAAAAAAAAAAAAAAAAAAAAAAAAAAAAAAAAAAAAAAAAAAAAAAAAAAAAAAAAAAAAAAAAAAAAAAAAAAAAAAAAAAAAAAAAAAAAAAAAAAAAAAAAAAAAAAAAAAAAAAAAAAAAAAAAAAAAAAAAAAAAAAAAAAAAAAAAAAAAAAAAAAAAAAAAAAAAAAAAAAAAAAAAAAAAAAAAAAAAAAAAAAAAAAAAAAAAAAAAAAAAAAAAAAAAAAAAAAAAAAAAAAAAAAAAAAAAAAAAAAAAAAAAAAAAAAAAAAAAAAAAAAAAAAAAAAAAAAAAAAAAAAAAAAAAAAAAAAAAAAAAAAAAAAAAAAAAAAAAAAAAAAAAAAAAAAAAAAAAAAAAAAAAAAAAAAAAAAAAAAAAAAAAAAAAAAAAAAAAAAAAAAAAAAAAAAAAAAAAAAAAAAAAAAAAAAAAAAAAAAAAAAAAAAAAAAAAAAAAAAAAAAAAAAAAAAAAAAAAAAAAAAAAAAAAAAAAAAAAAAAAAAAAAAAAAAAAAAAAAAAAAAAAAAAAAAAAAAAAAAAAAAAAAAAAAAAAAAAAAAAAAAAAAAAAAAAAAAAAAAAAAAAAAAAAAAAAAAAAAAAAAAAAAAAAAAAAAAAAAAAAAAAAAAAAAAAAAAAAAAAAAAAAAAAAAAAAAAAAAAAAAAAAAAAAAAAAAAAAAAAAAAAAAAAAAAAAAAAAAAAAAAAAAAAAAAAAAAAAAAAAAAAAAAAAAAAAAAAAAAAAAAAAAAAAAAAAAAAAAAAAAAAAAAAAAAAAAAAAAAAAAAAAAAAAAAAAAAAAAAAAAAAAAAAAAAAAAAAAAAAAAAAAAAAAAAAAAAAAAAAAAAAAAAAAAAAAAAAAAAAAAAAAAAAAAAAAAAAAAAAAAAAAAAAAAAAAAAAAAAAAAAAAAAAAAAAAAAAAAAAAAAAAAAAAAAAAAAAAAAAAAAAAAAAAAAAAAAAAAAAAAAAAAAAAAAAAAAAAAAAAAAAAAAAAAAAAAAAAAAAAAAAAAAAAAAAAAAAAAAAAAAAAAAAAAAAAAAAAAAAAAAAAAAAAAAAAAAAAAAAAAAAAAAAAAAAAAAAAAAAAAAAAAAAAAAAAAAAAAAAAAAAAAAAAAAAAAAAAAAAAAAAAAAAAAAAAAAAAAAAAAAAAAAAAAAAAAAAAAAAAAAAAAAAAAAAAAAAAAAAAAAAAAAAAAAAAAAAAAAAAAAAAAAAAAAAAAAAAAAAAAAAAAAAAAAAAAAAAAAAAAAAAAAAAAAAAAAAAAAAAAAAAAAAAAAAAAAAAAAAAAAAAAAAAAAAAAAAAAAAAAAAAAAAAAAAAAAAAAAAAAAAAAAAAAAAAAAAAAAAAAAAAAAAAAAAAAAAAAAAAAAAAAAAAAAAAAAAAAAAAAAAAAAAAAAAAAAAAAAAAAAAAAAAAAAAAAAAAAAAAAAAAAAAAAAAAAAAAAAAAAAAAAAAAAAAAAAAAAAAAAAAAAAAAAAAAAAAAAAAAAAAAAAAAAAAAAAAAAAAAAAAAAAAAAAAAAAAAAAAAAAAAAAAAAAAAAAAAAAAAAAAAAAAAAAAAAAAAAAAAAAAAAAAAAAAAAAAAAAAAAAAAAAAAAAAAAAAAAAAAAAAAAAAAAAAAAAAAAAAAAAAAAAAAAAAAAAAAAAAAAAAAAAAAAAAAAAAAAAAAAAAAAAAAAAAAAAAAAAAAAAAAAAAAAAAAAAAAAAAAAAAAAAAAAAAAAAAAAAAAAAAAAAAAAAAAAAAAAAAAAAAAAAAAAAAAAAAAAAAAAAAAAAAAAAAAAAAAAAAAAAAAAAAAAAAAAAAAAAAAAAAAAAAAAAAAAAAAAAAAAAAAAAAAAAAAAAAAAAAAAAAAAAAAAAAAAAAAAAAAAAAAAAAAAAAAAAAAAAAAAAAAAAAAAAAAAAAAAAAAAAAAAAAAAAAAAAAAAAAAAAAAAAAAAAAAAAAAAAAAAAAAAAAAAAAAAAAAAAAAAAAAAAAAAAAAAAAAAAAAAAAAAAAAAAAAAAAAAAAAAAAAAAAAAAAAAAAAAAAAAAAAAAAAAAAAAAAAAAAAAAAAAAAAAAAAAAAAAAAAAAAAAAAAAAAAAAAAAAAAAAAAAAAAAAAAAAAAAAAAAAAAAAAAAAAAAAAAAAAAAAAAAAAAAAAAAAAAAAAAAAAAAAAAAAAAAAAAAAAAAAAAAAAAAAAAAAAAAAAAAAAAAAAAAAAAAAAAAAAAAAAAAAAAAAAAAAAAAAAAAAAAAAAAAAAAAAAAAAAAAAAAAAAAAAAAAAAAAAAAAAAAAAAAAAAAAAAAAAAAAAAAAAAAAAAAAAAAAAAAAAAAAAAAAAAAAAAAAAAAAAAAAAAAAAAAAAAAAAAAAAAAAAAAAAAAAAAAAAAAAAAAAAAAAAAAAAAAAAAAAAAAAAAAAAAAAAAAAAAAAAAAAAAAAAAAAAAAAAAAAAAAAAAAAAAAAAAAAAAAAAAAAAAAAAAAAAAAAAAAAAAAAAAAAAAAAAAAAAAAAAAAAAAAAAAAAAAAAAAAAAAAAAAAAAAAAAAAAAAAAAAAAAAAAAAAAAAAAAAAAAAAAAAAAAAAAAAAAAAAAAAAAAAAAAAAAAAAAAAAAAAAAAAAAAAAAAAAAAAAAAAAAAAAAAAAAAAAAAAAAAAAAAAAAAAAAAAAAAAAAAAAAAAAAAAAAAAAAAAAAAAAAAAAAAAAAAAAAAAAAAAAAAAAAAAAAAAAAAAAAAAAAAAAAAAAAAAAAAAAAAAAAAAAAAAAAAAAAAAAAAAAAAAAAAAAAAAAAAAAAAAAAAAAAAAAAAAAAAAAAAAAAAAAAAAAAAAAAAAAAAAAAAAAAAAAAAAAAAAAAAAAAAAAAAAAAAAAAAAAAAAAAAAAAAAAAAAAAAAAAAAAAAAAAAAAAAAAAAAAAAAAAAAAAAAAAAAAAAAAAAAAAAAAAAAAAAAAAAAAAAAAAAAAAAAAAAAAAAAAAAAAAAAAAAAAAAAAAAAAAAAAAAAAAAAAAAAAAAAAAAAAAAAAAAAAAAAAAAAAAAAAAAAAAAAAAAAAAAAAAAAAAAAAAAAAAAAAAAAAAAAAAAAAAAAAAAAAAAAAAAAAAAAAAAAAAAAAAAAAAAAAAAAAAAAAAAAAAAAAAAAAAAAAAAAAAAAAAAAAAAAAAAAAAAAAAAAAAAAAAAAAAAAAAAAAAAAAAAAAAAAAAAAAAAAAAAAAAAAAAAAAAAAAAAAAAAAAAAAAAAAAAAAAAAAAAAAAAAAAAAAAAAAAAAAAAAAAAAAAAAAAAAAAAAAAAAAAAAAAAAAAAAAAAAAAAAAAAAAAAAAAAAAAAAAAAAAAAAAAAAAAAAAAAAAAAAAAAAAAAAAAAAAAAAAAAAAAAAAAAAAAAAAAAAAAAAAAAAAAAAAAAAAAAAAAAAAAAAAAAAAAAAAAAAAAAAAAAAAAAAAAAAAAAAAAAAAAAAAAAAAAAAAAAAAAAAAAAAAAAAAAAAAAAAAAAAAAAAAAAAAAAAAAAAAAAAAAAAAAAAAAAAAAAAAAAAAAAAAAAAAAAAAAAAAAAAAAAAAAAAAAAAAAAAAAAAAAAAAAAAAAAAAAAAAAAAAAAAAAAAAAAAAAAAAAAAAAAAAAAAAAAAAAAAAAAAAAAAAAAAAAAAAAAAAAAAAAAAAAAAAAAAAAAAAAAAAAAAAAAAAAAAAAAAAAAAAAAAAAAAAAAAAAAAAAAAAAAAAAAAAAAAAAAAAAAAAAAAAAAAAAAAAAAAAAAAAAAAAAAAAAAAAAAAAAAAAAAAAAAAAAAAAAAAAAAAAAAAAAAAAAAAAAAAAAAAAAAAAAAAAAAAAAAAAAAAAAAAAAAAAAAAAAAAAAAAAAAAAAAAAAAAAAAAAAAAAAAAAAAAAAAAAAAAAAAAAAAAAAAAAAAAAAAAAAAAAAAAAAAAAAAAAAAAAAAAAAAAAAAAAAAAAAAAAAAAAAAAAAAAAAAAAAAAAAAAAAAAAAAAAAAAAAAAAAAAAAAAAAAAAAAAAAAAAAAAAAAAAAAAAAAAAAAAAAAAAAAAAAAAAAAAAAAAAAAAAAAAAAAAAAAAAAAAAAAAAAAAAAAAAAAAAAAAAAAAAAAAAAAAAAAAAAAAAAAAAAAAAAAAAAAAAAAAAAAAAAAAAAAAAAAAAAAAAAAAAAAAAAAAAAAAAAAAAAAAAAAAAAAAAAAAAAAAAAAAAAAAAAAAAAAAAAAAAAAAAAAAAAAAAAAAAAAAAAAAAAAAAAAAAAAAAAAAAAAAAAAAAAAAAAAAAAAAAAAAAAAAAAAAAAAAAAAAAAAAAAAAAAAAAAAAAAAAAAAAAAAAAAAAAAAAAAAAAAAAAAAAAAAAAAAAAAAAAAAAAAAAAAAAAAAAAAAAAAAAAAAAAAAAAAAAAAAAAAAAAAAAAAAAAAAAAAAAAAAAAAAAAAAAAAAAAAAAAAAAAAAAAAAAAAAAAAAAAAAAAAAAAAAAAAAAAAAAAAAAAAAAAAAAAAAAAAAAAAAAAAAAAAAAAAAAAAAAAAAAAAAAAAAAAAAAAAAAAAAAAAAAAAAAAAAAAAAAAAAAAAAAAAAAAAAAAAAAAAAAAAAAAAAAAAAAAAAAAAAAAAAAAAAAAAAAAAAAAAAAAAAAAAAAAAAAAAAAAAAAAAAAAAAAAAAAAAAAAAAAAAAAAAAAAAAAAAAAAAAAAAAAAAAAAAAAAAAAAAAAAAAAAAAAAAAAAAAAAAAAAAAAAAAAAAAAAAAAAAAAAAAAAAAAAAAAAAAAAAAAAAAAAAAAAAAAAAAAAAAAAAAAAAAAAAAAAAAAAAAAAAAAAAAAAAAAAAAAAAAAAAAAAAAAAAAAAAAAAAAAAAAAAAAAAAAAAAAAAAAAAAAAAAAAAAAAAAAAAAAAAAAAAAAAAAAAAAAAAAAAAAAAAAAAAAAAAAAAAAAAAAAAAAAAAAAAAAAAAAAAAAAAAAAAAAAAAAAAAAAAAAAAAAAAAAAAAAAAAAAAAAAAAAAAAAAAAAAAAAAAAAAAAAAAAAAAAAAAAAAAAAAAAAAAAAAAAAAAAAAAAAAAAAAAAAAAAAAAAAAAAAAAAAAAAAAAAAAAAAAAAAAAAAAAAAAAAAAAAAAAAAAAAAAAAAAAAAAAAAAAAAAAAAAAAAAAAAAAAAAAAAAAAAAAAAAAAAAAAAAAAAAAAAAAAAAAAAAAAAAAAAAAAAAAAAAAAAAAAAAAAAAAAAAAAAAAAAAAAAAAAAAAAAAAAAAAAAAAAAAAAAAAAAAAAAAAAAAAAAAAAAAAAAAAAAAAAAAAAAAAAAAAAAAAAAAAAAAAAAAAAAAAAAAAAAAAAAAAAAAAAAAAAAAAAAAAAAAAAAAAAAAAAAAAAAAAAAAAAAAAAAAAAAAAAAAAAAAAAAAAAAAAAAAAAAAAAAAAAAAAAAAAAAAAAAAAAAAAAAAAAAAAAAAAAAAAAAAAAAAAAAAAAAAAAAAAAAAAAAAAAAAAAAAAAAAAAAAAAAAAAAAAAAAAAAAAAAAAAAAAAAAAAAAAAAAAAAAAAAAAAAAAAAAAAAAAAAAAAAAAAAAAAAAAAAAAAAAAAAAAAAAAAAAAAAAAAAAAAAAAAAAAAAAAAAAAAAAAAAAAAAAAAAAAAAAAAAAAAAAAAAAAAAAAAAAAAAAAAAAAAAAAAAAAAAAAAAAAAAAAAD0//T/9P/0//T/9P/0//T/9P/0//T/9P/0//T/9P/0//T/9P/0//T/9P/0//T/9P/0//T/9P/0//T/9P/0//T/9P/0//T/AAAAAAAAAAAAAPT/9P/0//T/AAAAAAAAAAAAAAAAAAAAAAAAAAAAAAAAAAAAAAAAAAAAAAAAAAAAAAAAAAAAAAAAAAAAAAAAAAAAAAAAAAAAAAAAAAAAAAAAAAAAAAAAAAAAAAAAAAAAAAAAAAD0//T/9P/0//T/9P/0//T/9P/0//T/9P/0//T/9P/0//T/9P/o/+j/6P/0//T/9P/0//T/9P/o/+j/3P/c/9z/3P/c/9z/6P/o/+j/6P/0//T/9P8AAAAAAAD0//T/9P/0//T/9P8AAAAADAAMAAwAAAAAAPT/AAAAAAAADAAMAAwADAAAAAAA9P/o/9z/3P/o//T/AAAMACQAPABUAGAAYABgAEgAMAAYAAwAAAAAABgAMABUAGwAhACEAHgAYABIADAAGAAMAPT/6P/Q/8T/uP+s/6D/oP+g/6z/uP/Q/9z/6P/0/wAAAAAAAAAA6P/Q/8T/rP+s/6z/uP/E/9z/9P8AAAAA6P/Q/6z/iP9w/2T/ZP9Y/1j/ZP9k/3z/lP+s/8T/6P8MABgADAD0/8T/lP9w/1j/ZP+I/7j/9P8wAGwAkACcAJAAeABUADAADADo/7j/iP9w/0z/QP80/xv/D//3/gP/G/9M/6D/GACcADkB1gFaAq8C0wLHAqMCcgJCAh4CEgISAh4CNgJaAn4ClwKXAosCcgJCAuIBaQG0AOj/D/82/nX92fxg/Az86Pv0+yT8bPzN/C39mv0S/pf+A/9k/6z/0P/o//T/6P/E/5T/TP8D/6/+Z/4q/vr9+v0S/k7+o/73/jT/ZP9w/3D/ZP9k/2T/ZP9w/3z/lP+s/8T/3P8AAEgAtAA5AeIBiwInA8QDPQSdBOUECQX9BNkEkQQ9BNwDcAMPA6MCWgISAuIBsgFpAf0AhADo/zT/c/6a/bX8t/vG+uH5FPl4+P/3z/fn91P4CPnh+dL6w/up/I79Z/5M/0gAUQGLAvQDggUoB8IIOAp9C1YMzwyqDPYLmAqeCDcGiAPMACr+w/vJ+Tv4JveV9ln2Zfah9g73k/c7+Pz4vfmK+mP7PPwV/fr90/6s/2AACQGZAQYCZgK7Ag8DZAPoA4UERgUHBrsGNAdwB0wHyAbiBZ0EDwNRAZT/4v1s/DP7TvrJ+bH5+fmK+kv7GPzN/HX9+v1n/rv+A/9M/5T/9P9UALQAFQFdAY0BygEGAkICiwLTAicDcAPEAxgEYQSdBLUEtQSdBFUE9ANwA7sCBgI5AXgArP/r/h7+Uf14/Kv76vo2+rH5UfkU+RT5OPmN+e35Zvre+mP76Pts/OX8Of11/Y79pv3K/fr9Tv7r/tD/CQGLAlUEQwYxCB8K6gt3DaUOZg+KDxEP/A0yDOMJEAfQA2wA/fzJ+d72g/St8ovxE/FD8RzyYvMI9cb2kPgq+p/7zfy+/XP+9/5w/9D/MACQAP0AaQHuAYsCVwM9BDoFNwYQB9EHSQiGCG0IGQhwB5cGpgWFBFcDEgK0AFj/+v2p/If7lvrt+YH5gfnV+Zb6q/v9/HP+6P9RAX4CVwPQA9wDoAMbA4sC+gGBASEB5QDMAMwA5QD9AAkB8QDAAGwA6P80/0L+Lf0M/Or6+fk4+bT4ePhs+Kj4/Php+e35Zvre+mP79PuQ/Dn97v2j/mT/JAD9AOIB0wLEA7UEsgW7BtEH8ggTCikLJgwLDagN2A2QDcMMcQunCXAH/QRaAqD/8fxm+hf4HfaD9G7z0fLR8mLza/TI9WL3FPnG+lT8sv3f/tD/kAAJAV0BjQGlAb4BygHuAR4CcgLTAksDrAMABDAESQRJBBgE0ANXA7sC+gEhATAANP82/kX9ePzQ+2P7J/sP+zP7e/v0+6n8gv1//pT/qACyAZcCVwPQAwwEGAT0A7gDVwPrAmYCygEVAWwA0P9M/9P+f/5O/jb+Nv5O/lv+Z/5n/lv+Nv4G/sr9af3x/Hj8APyf+2P7S/tj+5/7APx4/BX9sv1n/jT/DAAVATYCcAO1BAcGQAd6CI8JgApBC8UL9gvqC30LvAqbCSUIWwZhBCoC6P+a/Vf7OPli9+H11/RH9C/0m/Ro9ZX28/dd+cb6DPwh/Qb+r/4n/3z/oP+s/6z/oP+U/6D/xP8AAFQAzABRAdYBWgLTAj8DiAO4A7gDlANLA9MCNgKBAcwAGABk/9P+W/4G/tb9yv3i/R7+Z/7T/lj/6P+EAC0BygFaAusCZAPQAyQEYQSFBHkESQTcA0sDfgKZAZwAlP+j/r79/fx4/Bj8APwY/GD82fxp/RL+u/5k//T/YACoAMAAtAB4ABgAoP8P/3P+1v1F/bX8SPz0+7f7k/uH+5P7t/vo+zD8kPwJ/Zr9W/5A/zwAaQG7AhgEjgX4BlUIgwmMCk0LrQu5C00LgApTCcUH4gXcA6UBcP9F/Uv7jfkj+A73ZfYR9h32cfYa9+f32Pjh+d760Pu1/Gn9Ev6L/vf+TP+U/9z/MACQAAkBjQEqAtMCfAMwBM0EXgXWBR8GNwYrBuIFagXNBAAEDwMGAv0A6P/T/uL9/fw8/Kv7P/sD+/f6D/tX+8P7SPzx/Kb9Z/40//T/nAA5Ab4BKgJmAn4CcgJCAvoBjQEVAZAADACU/xv/x/6L/nP+f/6v/vf+WP/E/zwAtAAhAXUBsgHWAdYBvgGNATkB5QCEADAA3P+g/3z/cP98/6D/0P8MADwAbACEAIQAYAAkALj/NP+L/uL9Lf2E/PT7e/s/+zP7Y/vQ+3j8Xf1z/qD/5QA2AnwDqQS+BaMGTAfFB/UH6QehBxwHWwZqBVUEJwPWAYQAJ//W/ZD8Y/ta+nX5zPhT+Bf4C/hH+LT4RfkR+ur63PvZ/Nb90/6s/3gALQHKAUICrwIPA1cDoAPoAyQEYQSRBMEE5QTlBM0EhQQYBHwDrwK+AagAfP9O/i39MPxX+8b6cvp++tL6e/ts/I790/4kAHUBlwKUAz0EnQSpBGEE0AMDAwYC8QDQ/8f+4v0t/bX8hPyQ/Nn8Uf3u/aP+ZP8MAKgAIQFpAY0BgQFRAQkBtABIAOj/lP9M/yf/G/8n/0z/iP/Q/yQAbAC0AOUACQEVAQkB5QCoAGAAGADE/3D/G//T/qP+c/5b/kL+Qv5O/mf+f/6X/q/+0/7r/gP/G/80/0z/ZP98/6D/0P8MAFQAtAAVAY0BEgKXAicDuAM9BKkECQVSBXYFagUuBc0EPQR8A4sCgQFgACf/7v3B/Kv7uvrt+V35/PjY+Pz4UfnV+Yr6b/tg/Gn9Z/5k/1QAIQHWAWYC0wIbAz8DSwMzAw8D0wKLAkIC+gGlAV0BFQHMAIQASAAAAMT/iP9M/xv/6/7H/qP+l/6X/q/+x/73/jT/fP/Q/xgAbAC0APEAFQEtATkBLQEJAdkAnABUAAwA0P+U/2T/QP80/zT/TP9k/4j/uP/o/wwAMABIAGAAYABgAEgAPAAkAAwA9P/o/9z/3P/o//T/AAAYADAAPABIAFQASABIADAAGAAAANz/xP+g/5T/iP98/4j/lP+g/7j/0P/o/wAADAAYACQAJAAYAAwAAAD0/9z/0P/E/8T/uP/E/8T/0P/c/+j/9P8AAAwADAAYABgADAAMAAAAAAD0//T/9P/0//T/AAAMAAwAGAAkADAAPAA8ADwAPAA8ADwAMAAwACQAGAAMAAAA9P/o/+j/3P/c/9D/0P/Q/9z/3P/c/9z/6P/o/+j/9P/0//T/9P/0//T/9P/0//T/9P/0//T/9P/0//T/9P/0//T/9P/0/wAAAAAAAAAAAAAAAAAAAAAAAAAAAAD0//T/9P/0//T/AAAAAAAAAAAAAAAAAAAAAAAAAAAAAAAAAAAAAAAAAAAAAAAAAAAAAAAAAAAAAAAAAAAAAAAAAAAAAAAA9P/0//T/9P/0//T/9P/0//T/9P8AAAAAAAAAAAAAAAAAAPT/9P/0//T/9P/0//T/9P/0//T/9P/0//T/9P8AAAAAAAAAAAAAAAD0//T/9P/0//T/9P/0//T/9P/0//T/AAD0//T/9P/0/wAAAAAAAAAAAAAAAAAAAAD0//T/9P/0//T/9P/0//T/9P8AAAAAAAAAAAAAAAAAAAAA9P/0//T/9P/0//T/9P/0/wAAAAAAAAAAAAAAAAAA9P/0//T/9P8AAAAAAAAAAAAAAAAAAAAAAAD0//T/9P/0//T/9P/0//T/9P8AAAAAAAAAAAAAAAAAAAAAAAAAAPT/9P/0//T/9P/o/+j/6P/0//T/AAAMAAwAGAAYABgAGAAMAAAA9P/o/9z/3P/Q/9z/3P/o//T/AAAAAAwADAAMAAwADAAMAAAAAAAAAAAAAAAAAAAAAAAAAAAAAAAAAAwAAAD0//T/6P/c/9z/3P/c/+j/9P8AAAwAGAAMAAwAAADo/9z/0P/Q/9D/6P8AACQAPABUAGAAVABIADAAGAD0/9z/xP+s/6D/oP+g/6D/oP+g/6z/0P/0/xgASABsAJAAtADMALQAhABIAAAAuP9w/0D/J/8b/zT/cP/E/wwASAB4AJwAnACcAJAAVAAMAND/rP+U/3z/fP98/3z/iP+4/+j/DAAkAFQAeACQALQAwAC0AIQAVAAwAPT/uP+I/2T/QP9A/1j/fP+U/6D/uP+4/6z/uP/E/9D/3P8YAGwAwAAJAVEBaQFRARUBwABUAMT/NP+7/lv+Nv5b/q/+G/+U/yQAtAA5AY0BsgGNASEBkAAMAHz/3/5b/gb+7v0q/q/+WP/0/4QACQGBAcoB1gGlAUUB2QB4ADwAGADc/5T/ZP9A/zT/NP8n/xv/G/9M/5T/9P8wAFQAPAAYAPT/xP+I/0z/J/80/3z/6P94AOUALQFdAXUBdQFRARUBwABUAAAAxP+U/1j/G//r/sf+u/7f/hv/ZP+g/+j/JAA8ADwAGADQ/3D/NP8n/2T/xP9IANkAaQHWAR4CKgLiATkBeAC4/w//o/5z/nP+i/7T/lj/6P9gAKgAwACoAGwAJADc/2T/0/5n/jb+Tv6v/kD/9P+cAF0BKgLHAvcCrwIGAi0BMABM/5f++v2O/Y79+v2v/mT/DACQANkA/QAhASEB5QCEADAA9P/E/5T/fP9M/wP/0/7f/gP/NP9w/9D/PACoAC0BpQHiAcoBpQFdAeUAVADE/zT/l/4e/vr9Ev5O/q/+NP/E/zwAwAAtAVEBIQHlAKgAYAAkABgAGAAYAAwAJAAwAAAAoP80/7v+Tv4e/lv+x/5M/wwACQHuAaMCDwMPA4sCmQGoAKz/o/6y/RX9zfzZ/FH9Kv4P/8T/bAAVAZkB4gEGAvoBygGBAV0BXQEVAZwAGACI/8f+Bv5p/dn8bPxg/P38Ev5k/9kAWgKIA0kEqQSFBKwDQgLAAFj/Ev4t/c382fwJ/YL9Tv4P/4j/9P9IAIQAqADxAFEBmQGZAZkBdQEJAWwA3P9M/6/+Nv42/n/+0/5M/9D/MABUAJAAzADxAP0AIQFpAZkBsgGyAWkBkACI/3/+jv21/DD8MPyQ/FH9f/7o/yEB+gGXAvcCAwPfAqMCTgKyARUBqAAkAHD/r/76/V39Cf0t/db9r/6U/5wAmQFCAnICNgKNAWwAWP+X/jb+Bv4q/q/+TP/Q/0gAkABgAPT/oP+U/7j/GADZALIBWgLfAjMDAwMqAv0ArP9O/hX9SPwY/DD8qfyO/bv+0P/AAJkBKgI2AgYCvgFFAYQAuP8b/3/+Ev4G/lv+0/5M/wAAwABRAbIB+gHuAY0BIQHlALQAeAA8ACQA6P+I/yf/x/4q/mn95fy1/Nn8Rf0S/g//AAD9AAYC3wIzAzMDAwOvAjYC7gGyAVEB2QCEAFQADAC4/2T/G//f/tP+NP+s/wwAeADlACEBIQHxAJAA3P/3/ir+mv0t/fH8Ff2C/RL+3/4AACEBHgLfAnADrAN8AwMDTgItAej/x/76/Wn9Ff0h/V39sv02/rv+J/9M/0z/TP9A/zT/J/8n/yf/QP9k/6D/3P8MAFQAkAC0AKgAkABgABgA3P+s/6D/0P9gAC0B7gF+AscCrwIqAlEBJAC7/mn9nPxs/M38jv1//oj/hABdAcoBygFpAfEAtAC0AP0AgQEeAq8CGwMzA9MC4gF4APf+jv2Q/CT8ePx1/QP/8QDrApEEggWmBdkEJwPZAEL+q/tp+bf30vb29gv4Bfq1/PT/VwPIBu8JegwIDmkOtA3RC/4IagWBAbL9NvqG98j11/S/9Fz1rfZT+BH63PuC/ff+DADAAOUAVABA//r9qfxX+0L64fk2+if7tfyL/jwApQHTAugDtQQ6BcoFowahB4YIIgkiCSUINwasA5wALf3t+Z/3ffZ99p/3sfkY/H/+tACXAqAD3AO4A4gDJwO7An4CWgIeAuIBygGZASEBtACoANkACQFdAe4BWgJ+An4CTgKBATwAA//i/bX8k/vq+q76xvpL+2z8vv33/lQA7gE/AwAESQQ9BJQDQgLMAED/gv3c+976cvpO+nL69/qT++j7GPw8/Ej8MPxs/HX9A//xAFcDNwbaCOwKhgxrDUcNPgzICv4IyAZVBBIC0P91/Sf7Rfmf9zX2dPWM9UH2Yvfw+K76GPzl/FH9Of14/Ev7QvqZ+VH5mfmu+lT8Tv6oAD8DygXRB4MJ1AqVC6ELHQsfCpIIowbBBN8C/QA0/8r92fwY/Kv7h/vD+zz8Ff1C/oj/nACBAU4CuwKjAh4CaQG0ADAAGABsAAkB7gEbA1UEOgWOBV4FnQRwA9YB9P/u/ej7Hvrk+Dv4//dH+CD5cvro+y39Bv5O/uL9/fzQ+4r6Xfm0+OT41fk/+8H8Kv4b/0z/x/7K/Wz8G/t++if7/fz0/wwE/ggsDh4TZxePGvkbvBv+GbIW2RH2C74FiP+x+df0f/GF79zuqe+X8drz+fXD9/z4FPkj+H32a/TU8WHvu+3u7PrsWO5n8cj1D/stAekHXA7HEygYExv5G9cacBgYFdsQVgx6CGoF3wIJARgAoP/3/kL+mv2Q/NL6CPmT9xH2p/Ty8zv0IPW69mn52fxIAJQD4AaPCdQK7Ao4Cp4IBwZLA/EA0/7x/AD8DPxI/Hj85fxp/Wn9zfz0+7r6wPiJ9pv00fIH8cHvwe+a8OzxCvTS9nX5Y/vl/O79yv3B/AD8PPyO/XgAygX/DAwVtx1tJmUtTjEbMggwSSreIHkVpwkG/pLzqOvD5oDkmOQj50jrke8987z1ofaA9enyke/B6+TnQeWY5Lnlmei77Sz1yv2XBloPcxduHdIgSCLPIRQfpxrBFRgR8wwsCi4JXwkfChELWQvLCSsG8QAF+mfxaei84OXaINeo1jzavOCZ6Jfxe/tVBKQKvQ70ELcQ2A13Cc0EeAB1/VT8nPzK/TwAcAPiBfgGQAc3BvcCyv3n99Tx/etf57zkROQC5n7p9+0B81/4wfwP/6D/3/7l/Db68/fS9sz4mQGQEf0iWjFlPlhL1VIXUWdKP0PZNx4kdw30+3nvLOSv3IjdU+NT54rpWu2+8Drwvuz85yvg89X9zZnK+srd0KzdHu0D+78JjxqmJ0Et/y7zLnApFx6BEvgKiAfdB0ELexC+Fg4dKSCcHiAbUhaVC6X5/+Yb2b7OscaSxJnKJtW+36vqz/ciBbQNPxB+D4YM+wWC/bf33vYs+UX93wLyCPwNJBH0EMMMTwZz/vLzgegE4aneJd7l3jvj9umF73rz6vbk+Jz4ZfbU8UjrbuZZ5ZXlceXV6ID1nA3ILM1IdlrSZDprzWbtUrY7xi14Iu0OfvpM8t3yNPJA8tj4DACy/bDxquJZ1IrHmr0AuJ+3Ur0zyJLVpOQa9w4Meh0YJjonAyUFIEMXNQ/tDiIWSh3qIFglHS1sM/Qy7SwbJSIa3Qd28JTdDtV30nzQ5tHb2f7iF+cF6Q/u8vNQ9enyf/EZ89L29PtkA8wNDRnVH4EfjBvUF8oS4wmg/+f3ifLH7TPqG+pY7rP0zPgX+CL0he+W6Vjhq9mE1u3XUdvv38/mqe+G93j8xP9pAff+tfxtCCUmVEQeU09bEmjLa0JXoTp6LtcrNRz3ArP01PHP6lLfA9105Jzndt/O0c/EBrqes1+03LtjyALZq+rz94QAyApVGQMlXidCJOUi2SKZH4wbgR9BLWc5czmWMbMrJyXEFPT/CPUo8uHoz9lZ1Kjaat+13mTh7ej96wvnieHC4sPqy/RR/QcGPBGPGikcbhmeGV8aGBXqC/0EuP8R+kr3Rfn0+1T8A/v29gzvkuY04THe7tua25TdH+CS4onlTukz7g3zIvSO8HPt7uwM61Hs7gGxMJVgpnjsff9/V3bPUFogRgnVDjkS3Qd8A94LcQsX+CDkG91+2AnK+bUapi6fwqJfsCPF2d4R+swNLRKACl0BTv5aAjULQxe+J/I710ltSCY/8juGOywwKRxcDsUHtfwq7Z/ml+019vv0Fexo5JrfONeNylPFyM+w4OjqN/Hi/fANbRXHE8oSPRVyE1AKjQH9ABAH2wyKD0gR/RHnDJT/ee8g5PHel9we3GrfieU/6jDrxumQ55jkBOGs3V3b2dqs3RTkMOsW8Lz1TwZnKCBSU2+OeOV3yXDKVtoqXArsClkcTCU3KJwvDi4AEYPjIsHUsdyqbKemrOK5jcY9zd3Q8Naj4Nzq6fKc+ND7af2vAksQgSOUNkZJdlogX7xOADNuHdkRswmjBloPIx5UIsQUl/706v3ai8sBwGHA6MxU2srfkuLB67f3k/vn99v3Z/7rAtYBPwOcDTgbGCLJH2EZaRIWCWz8EPLj8KH2Nvov+Mv0yPGQ64biD92I3V7fst9D4Pjgmt+g3ZHeleGA5Djoaexw7lP02wwTOQhjOXh9fll+gGyfP8ANF/iXAkYWfCU5NKE+AzJbBl7OOKRWkXGQfJ0Ot9LUEen67IzkFNffyx7L1dc86139EQ85I2wz8jcPNtQ53kIkRDo4oSnNIoEfExfMDTUPhhl0GxELufJn4PnTscZevQLEe9ni7ATyrO737WHvpuyW6ePwMwNLFIAbcRxKHeocixc1D+MJLgltCKADzfyc+Ib3Zfbm80PxfO4/6u3kT+D33FHbZtzv37PjNeUH5FXiMeIN4gTh7eiqCOY7dmfTeUN9GXvSZNIxu/4K8AwE5x02MZxEL1F6PxYJxsdImm+ItYkumze+C+ff/j/7PubZzWm5OrDHuqXXrvqbGnU0D0PMQAAzdiffJBgmkSZAKXUwcDZUM6Yn7BvQFNsM8fyl6M3ad9YR1BDQX9L73zPuSe/q5b7ffOF05C/n1PF8B1YdPSZLIewXhxBGCS0BKv52BfQQ3BQsDtADG/vF8vbpROTg5HLpgezc6onlpt/l2mnXktW01v3a499i4p/m/PgUH3NKYGYgcKJxzWYPQ5wRg/Rv+9wU0i1RRShYulMKK7XrsLHXjsyFZpTnt8jk7wXeCyD5ANqQuPuf/p5+unHlEQ+9MPdG40l5N54dEQ+0EfYcTyiONMZCakksPX8k5REfCqgAmvB95RrmOOiG4mnblN1K5k7peuJ120zdv+NH52nsFf1YFMMhaR+yFjUPZAe7/lf7KgIpDwQYnRVcCpr9HPLD5kbfieHc6n/xH/FR7LDkeNoZ0UnNyM8a1WzaSeIU9SIWpDk+UDpasF9GWrw9GBWm/X4CGxTEJcU6elCBUmYxOPkvxQWlaZchmzi1T+CdBP8M9PsQ4c/EhatxoXGyb9nlBLInOD26Qm03JCJXEHoMahYlJio1sUF5SANDETGtHMkO8QRp+ZTuh+pU65bpmOSb4+HoRezz5m3ec9w04T7mOewF+lAOuRzSHJcTLArHAuj7nPhC/hELGBW4FN4L8QA19pPq1OBq39vmGe+O8CHs0uXE3ezToMzHy3zQ09wL+EIg0ENXVCpXn1QtRegh/fxM8lUEJh2EL/BAMlAKSSAffeXrunWoFKQurD/IIvAfCnAHyPEp2Fi/eastqAm9MeLRB74jhDMzNjgs+RufEJ8Q6Ri+I5wv9TrDP085pyucHrsT+AZf+EDuOexn7Qnsk+ro7mj1wvO96Bbf6N3s4FDkc+1sAAAVdx53GmARjwnKAb35F/j6ATMQXhbNEb8JpQFN9hHpVeJi5iXvO/Tm8y7wKukx3o/STsvry73XJfMHGyNAJ1TTV11SzEC0HqL6f+0w/GQUfyhJOyhLW0afIdbsQcPdrpmoHK60xWPqBwb1B032H+DWyjO3TK7Huj/ZV/u+Figp7TCwLOogghbiEp0VTRysJagvrzXNM0crJyFzFwULS/uU7tLpQumE52vn3+1N9pX2Z+3X42fgf+C54fnoHvpQDqoZ6RiNEq0LAwPw+F/06vr1ByQR2RFfDZcGMPzE7u3ksOSE6yjy1/S284ju7eSf2XDQlMyw0y3sThOkOf9QGVlPV0lIjifuAc3vCPnwDa4g2TNAR/JIkirJ+SXRmblerKyqvr284I79/QTQ+47se9nRw062wbzF1E/xgApCILQvhzJVKkshPh1oG9oZQRwGJDsrRCxPKOIjzB4nFLsCf/HY52jkieEo4brp8/ev/sD4AO9C6e3k19+V4Y7wNwaRFaoZKxe0EekHivqX8YP0eABNC4oPZg9uDEsDtvPe5ZXhZeWH6qPt9O5O7c/mHtzR0ELLZdRD8fIZBT4DVFZdtVmKQr8aJvfx63r3sAp1H9k3yEowRPweVe+ByhqzZqXKqGXDkOff/q8CP/se7WnXg8GBuYbEzdrm8y8NviOBMBQw1CjKIwAi2B44G/YcUSPoJc8hzx2SHb8afg8YAObzkOtf44vc0N326fD40P/K/Yr6C/jj8OfmPuby8x8GCRIcGFwboRgLDR7+IPWY9Qz8cAObCbQNwwwYBLr2zet65rzkueUn6qDur+1H59neI9a50CfZNfZfHkdAbFW6YFNewURhGY/0NulY8loCyBf6NFhLbETYHrLwcssZr6Ocy5+pvDHiV/vEA74BdPU/3TXDPLhGwZLV9+0fCqwluzV8Nl0wgyttJoQeoRj+GWseFx4ZGVIWTxcYFdQKUf2S8/HrZOGx1+rYAuaG82n5JPyQAC0BF/gt7D/qO/TxAPgK0BQLHlAf6BQfBnj8Rfkg+av7iwJECgIMpgXo+w3zeOtl5b/jI+fP6mPq5+aG4lrcadfl3ir6+R+fPw9UGmEmYW1IQRzS9j/qee/e+tIP+TBkS+tGQiTk+MLREK75k3STea+G1a3yoAN0CqMCP+rBzeC+H8JY0BrmeQQ2JG03fTpVN1E0KS32IPUYUxqSHcsatRUkFV4WtBG7Bkj8jPWL7eDga9Z110ni7uwv9CH9QAeDCcwATfat8qf0L/iX/vsJOhakG8gX+Q6LBqz/sfmV9lH5uP9kA2kBnPx691vxV+p95VDkvOSY5AfkkuJJ3j/Z09xP8S0SMzIcS2hfMWpiXYU3UA5Z9rvt5esa944WyDl1Rf0z9BSw8YrHAZ5GimyWLLUy1dTxmwn6EgcGSOtN1HjJn8j+0brpiQsQKUM55z8qQkQ9Ry9+IM4ZoRisFGkOzwzqD8YP2ggtAUX9F/jN63DdCNef2THeFuMD7rv+HQuGDKEHJwM0/0L65/eE/E8Gcg+sFGoWMRXeD/gGc/4q+rH5vflp+bH5yfky9+Dx+uxj6o3oueXO4pXhl+Ba3PnXYd759ZoWITSDTZNlGnLJY2U+BBhb/h7tLuMh7JULDi7XPK81YCIYBL3XQqkTjw6RtKOpvAbcdf2QEZkOIf1U6yfdttFPz8Td/PivE/4mDzYqQtlEqjsvL44nxiAzFEMGGAAwAMr9tPjA+Pr9f/5c9X7p9eH33FDXntWp3jrwqADICmwRFhagFE0LzACp/B7+YAA/A48JPBFLFDwRAgxAB4EBBfqq83bwuO6O7BjrtesS7U7t4uyO7OjqMuY63xvZftiG4iz5vBdtN7dUy2vzcqhiaUF3Hu4Bweuj4KLp6AOQHvsrOCx7IYgHOt9jtyugXpsCosWyH8+g7t8ClAfNBAwAAvcM6xrm6+30+zEIWBSLJF00FjzvPOE9lT5hN4Um9xNqBfP3luko4QXl/u+T96X5xvq9+YLwHOHY1tXXIt/k57P0iwYiFlkc+xqXF40SswkMAGP7JPy+/Yv+1gFVCM8MTQvIBgMDyv3C83XoMeK84Mrfst/748/qWO5n7fTqF+dM4Zrfz+pyAm4d3DYmUFdluGnrV906+R+2CBnzhOcx74sC9BB5FcEV9g/o+2TdMsTPt32yaLEGukvMDN6l6Drw5Pjr/jT/TP/xBG4M1Q7kDZMQ7xYHG6sdSSa+NFk+mzxpNN0pDRlUANXoWtwY2u7bHOHl66j4NP/Z/A733fIx74fq7ej07lH5jQF8B1oP4BdcGz0Z8RVpEq0LEgKu+rf3GveT95b6PADxBDoFdQFs/E32i+3L4xje6N3+3v7eEOFi5orpjeiE6x76xg+NI5c110kiWv5ZVUiWMRceBQvD90DuCPV8A+cMAhC3ECkLsfnd4WfPL8WLvqy75sBLzP/Vsts94sHrg/TS+loC5wxhFcoW0xMJEiQRaQ60Dc0V3yR+MYU3KDp2OBQskRUb/3nvFOQJ27rYat8q6WHvxfIC90v7GPy9+S/4CPnJ+aj4O/h7+1EB+AY+DBUS7xb4F7gUdQ43BoL9Avfa84ny4PG58mj1t/fn9972Bfb79DTyc+0U6I/j+98e3GbYxtjR4W7zIgnVH0k3Fk3mWQNYZ0pSOKMk7Q5X+3PxQPKJ9oH5Cf3uAT8D1v3h9bXvfulb4JDWKNBwzNvIBccqy/PVFOSq8+UE8RX0IbglLSO3HXYWjQ4TCjIMjRIlGYEfVSaSKqMoACL7Gq8Tpwn6/S/01ux95YXevtud3pjkSOsZ8wz8xAN8B4gHHwY9BMoBiP8b/6gAZgK4A7IFtggpC4kLgAr+CE8GXQHG+hb0QO7G6ajnXejc6q/tOvBw8p7zxfLy70XsiumK6a/tEfa+AdIPXR/SLWE3WDpeOEgz/iqZH68TLArHAqv71/TZ7+7sGOs/6njrlO7I8c7zFvQo8qPttOc94p3eiN2m30HlWu019rv+uwb8DScUJRliHdIg2SLNIoogxRwoGAYTFA5oClUI4AYiBQ8DwACy/Zn5UPWw8azuOey36lfqt+qQ68ftHPLP93X9rwLRB54Mrg8bEI0OJgxfCbIFIQFs/Nj4xvbh9eH1JvfJ+c38i/6j/tb9JPzk+Dv0te9F7H7pw+bg5H3luulP8Vf7NAe4FIQiiS1gM/Ez7TAiK7QirRg1D3AHqAAq+mv0OvDH7SrtiO7U8U32fvr9/PH8ZvpB9h/xtetH5zXlieVH5+rp0+0x8135DAChB/YP1BfPHWMhkCJvIVMewhlkFDUPBQu5B3kE8QAG/iT89/rJ+Zz4hvdZ9u/0PfMT8cTuo+307ljylfYn+2AA+wW8CoMNIA4jDR0LDQjEA5f+Bfpi95X23vZT+G/7G/9dAZkBtABk/1H9Kvq69i/0ZPJ28NPtMOsz6vHr/u+k9Tn97AZIEdoZpR9pI2Ql3yToIZ4d9RhCE8ULGwMb+xT1+/BM7h7tcO4o8hH28/cj+JD4pfke+kX5I/iG99L24/QE8p3v0O7Z733y3vb9/AwEgApyD04TExc6GrAbXBtHGogYGBVaD2EIygFI/M/3O/S88WrwCvAK8Grwl/Ev9PP3GPwkAKwD+wVDBqkEEgJY/+X8J/uW+if7VPyy/TT/qAC+AU4CTgLuAS0BxP/K/cP7cvoR+h76Qvp++sb6Tvqc+EH2s/Sz9BH2hPhs/PoBngjtDusTyBdEG0ce4R9dH94cJRlYFCAO1AaI/2n5FPVY8qbw5e9G8KTxevMg9X32//e9+Q/7Y/uW+lH5F/je9lD1wvMB85LzOPVi9x767v3fAlUIRw0wEd8TSRVVFesTMBF3DQoJGATT/l35tvNA7gPqOOhm6e7sEPI7+Pf+FgUiCSwKngjWBesCDABR/Sf7Tvre+kj8yv0n/5AAHgJkAxgEDARLAyoC5QCs/6/+Qv4q/gb+mv3l/Az86vqB+Tv4z/eQ+HL6Rf2oAJEEFgnkDXUSXhZ6GYwbHRz7GmQYcBRCDy4JJwPW/V35gPVA8grwYe8i8IvxJfPv9D73pfk/+6v7P/uK+r352PgX+JP3VveG9y/4dfkn+zn90P/3ApcGRApTDX4P2xBgEZ8QOA6ACgcGLQHQ+2X2HPLN75HvB/Hm8yP4If2+AakEdgXBBFcDXQHf/lT8xvqi+m/7hPya/cf+9P/ZAEUBRQH9AIQA6P9A/6/+f/5z/ir+mv3x/CT8G/u9+Uf4SvcO98P3Ufmr+8f+rwIoB60L9g+7E8oW3RieGfUY4xaXE3IPpAqOBWwAw/vP97P0ZPIT8ePwyPFW80T1Vvd1+W/78fy+/e79yv2C/SH9tfxs/IT8/fzW/ev+YAASAvQDygWUB0YJsAqJC4kLjAqqCOIFTgJC/k766vaP9HrzwvNQ9bf3ivpF/WT/tAAhAZwAfP8G/pz8e/vG+q76G/sA/An9Kv4P/8T/GAAwACQA9P+4/3D/NP/H/jb+Xf1U/Cf7Bfog+cD4FPk2+jz8D/+LAosG1AoRD+4SIhZ8GLYZnhkoGGEVeBGqDGQH+gHZ/F/41/RM8uPwavDX8OzxhvNc9Vb3Rfkb+8H8Hv4n/8T/DAAMAMT/ZP8D/9P+9/58/2wAygFwAzoFBAeGCJsJEwrXCcII7AZtBIEBTv4/+5D4lfZ09UT17fVK9xT5A/vB/B7+3/4D/5f+1v3Z/PT7S/sD+yf7q/ts/FH9Nv4D/4j/0P/E/4j/A/9n/pr9wfzc+wP7WvoF+ir66vps/Lv+ygF2BYMJnA1sEaAU7xYoGDQYBxfQFJwRtA1GCZEE0P9L+zL32vNn8f7vte+C8DTym/Ri9yr6qfyj/vT/qADMAJAAJACs/1j/NP9Y/7j/VAAtATYCZAOpBPsFNAcZCJIIYQhwB7IFPwNUAC39Kvqf9+H1FPVE9Vn2C/ge+iT84v0P/4j/TP9z/jn90PuK+pn5LPlF+eH5A/tg/Nb9NP9IAPEAFQGoAMT/f/4V/bf7ovoR+kL6P/s5/QAAiAN8B6ELlg8SE80VfxccGJcX8RVCE8YPoQsQB04Csv1p+bz13fLv8ArwLvBD8QHzOPWr9xH6MPzi/Rv/xP8YAAwA3P+U/3z/iP/c/4QAdQGvAhgEpgUcB20IawnvCdcJFgmhB44F3wLc/6n8jfnS9sv0kvNi8xb0sPXb90L6kPxn/mT/iP+7/kX9Y/t1+dv36vbe9p/3FPkP+yH9D/94AEUBUQHMANz/x/7K/Tn9Rf0e/sT/NgJGBcIIbgwCEDYTtRVPF+AXTxedFdYSEQ+YCpoFeABv+972AfMu8HzuA+6s7l7wxfKk9Zz4S/uO/Sf/GABsADwAxP9A/+v+9/5w/2wA4gG4A7IFrQdrCbwKiQutCx0L+wlJCCsGxAMhAWf+t/s4+QL3OPX+85Lz5vMU9d72FPl7+6b9NP/c/4j/Qv5U/BH6w/fh9b/0m/RE9Yn2L/gF+rf7If0S/q/+G/+4/5AAvgFkA6YFbQiVC8kO2RGUFMoWQBiVGLwXtRWyErEO7wm1BHz/ovpl9vXydvAZ78TuVe+a8GTyg/TG9uT4uvo8/Gn9Nv67/hv/lP9UAFEBiwIYBPsF9QezCREL6gtWDDIMZQv7CSUIKwYkBOIBlP9d/ZP7EfrM+Lf3Gvf29jL3k/fn91/45PhR+Wn5OPnw+Kj4U/jn94b3bver9wv4ePj8+I35HvqK+sb6D/uf+5D8+v0MAPcCuwYdC5YP3xO8F8salRzFHGgbuRgAFUsQ1AoWBZT/xvqt9knz7/Dy70bwc/EZ8/v0DvcI+XL69/q6+k76+fmx+aX5Hvqf+yr+RQGFBNEHHQtEDpMQqBGQEbcQBQ9KDJIIYQR4AAn9Efqf9wX2pPVN9lb3R/hF+Vr6S/uH++r67fnk+Nv3Zfaz9GLz6fIl87bzs/RZ9rT4J/vx/OL9Kv4G/kX99Puu+lr6h/sS/soBowaGDAYTGRnnHTMh8SLxIt4guRz7FlcQIgmlAU768vMx7y3s3Ook6wbtLvDC8wL3mflX+xj8w/t++tj4k/f29jL3X/je+qP+PwMxCP8MeBEkFX8XEBiyFq8TZg/7CdwDyv2o+O/0ufIQ8unyIPUj+Bv7gv0D/3z/x/61/Jn5BfZ98mHv4ux465DrQu068Bb0bPjl/NkAoAOpBAwEBgIP/5P7X/hx9pX2LPkS/vEERw1qFiwfSSbyKrwsjyteJ1ogHxfbDH4C5Pia8D/qeuaJ5QvnY+rc7s7zqPh4/HP+W/6Q/LH5Tfbd8kbwee8r8VD1V/uXApgKshLCGageriDtH9IccxcbEHAH0/5i98jxD+5d7B7tavBQ9Yr6J//fAlIF4gXoA6D/Efov9Ijufune5YzkDub26Xnv+fX9/KwD2ghZC+wKDQgzA8384fUK8L7sBu3v8Gz4DwPqD0odQCknMj035TfZMzsrOB94EbgDDvdp7ODkcOH14ZXlGOu88bT4r/5aAusCnAAw/EH2ke826cjkp+NK5mnsdPXMAIMN8hk2JPIqxi10LP4mtx3xEUYFXflt73XoQeUO5mPqT/Fp+UUBrQd9Cw4MRgmgAzD8/vMt7NLlGeJw4Y/jFOh87hH2vv1JBPIIWQspC0kIAwMA/F/0Tu1R6G7mUehY7rT4ZwapFVokyTBzORQ99TqQM/sn5hkFCy391PH26Urmz+bD6svwhvey/foBVwNFAQz8s/Q57OPjD91L2W/Z0N1u5rnyaQG3EMweGSodMcMyOy9qJ3Ecrg8bA5z4E/G+7OXrrO5H9DP77gFkB7wKKQtVCLsCV/uq8/rsIOhx5SnlzOfW7OnykPhd/YEBMAQwBI0Byv3V+XT1B/Hf7frsx+2p77nyevcG/isG0g8KGkUjYip6Lnou9SmQIo8ashLsCgwEG//o+2n5evfq9ob3U/iE+Kv3+/QK8PbpaORn4DHetd624qLpl/GN+eIB1Ap/E9cauiCLJD8lSCKhHJ0VFA5AB3IC0P8S/qn8t/sb+x76CPnY+HX5gfmc+JP3ZfZ39MXyDfMg9TL3bPhF+YH5I/jU9Xf0m/Q49aT1ZfaT9zv4C/gL+OT44fnh+cD4k/cX+PT79ANCD9Qb1yc2MXM1ADOPK2Ai3Ri9DgkFyv0s+df0CvDi7B7tqe+t8jj1rfaY9SvxY+pT4wzeZtxe30rmqe8e+p0EUA77FvweACaeKgorFifJHxYWNQtRAff65PhR+XL6w/vZ/GD8BfqT9w73n/dW9wX27/Qv9BnzTPJJ8032yfkA/Oj7afkR9lbzi/FS8I7wPfP29jj57fnS+vT7Y/v8+Cb3bPgV/XkEpQ4sGwco9jFkNtY0Yi7HJHoZ5A2gA9D7lfZu86Tx+/Bb8bnyFvSP9LbzH/EV7EHl8d6a2+Lb+99R6Ef0IQFiDMEVzx3WI/EmOicnJbog8hmcEeYIjQEJ/ZP7q/sw/LX8qfyK+k32KPIu8C7wQ/H18kT12/cR+m/73PsM/CT8J/vn95LzIvBM7nPtM+5/8ZX2V/uL/lQAeABO/gX6s/SO8Nfwt/e1BAwV3CVpNGg9NT4lN84qHRyDDZkBvflc9RnzTPLp8nf07fWt9tL2EfYl89bs4+Oa2yDXXddO3Cbmj/TlBFoTeh0VI2QlTCUVI5weuRjuEoMNoQfiAdP+TP/9AHUBhABb/sn5rfKc69jndeim7DHzrvppAdYFEAfNBAAAcvoI9dnvbOsR6ULpJOt87sLzZvoMAMcC0wIVASH9NfYP7hHpVOu89VsGsxrMLwhBOknKRVI4JyXbEDT/GfMn7v7vsPVv+wP/bAAAAC39k/eC8E7pfOH22P7R7M991C7flO60AI0SxiDUKHoqLicbIf4Z7hJTDSwKCgltCLkHTAfgBkYF7gEt/TL3OvB+6RHlyORC6aTx0PtSBeoLFA7gCvcChPhA7jLm6eFu4oTnPe9K91v+oANDBnYFdQGr+3T1Pe8R6Zjk0uUu8A8DaxrSMWlFblBQTmU+fCUpC9T1KunD5uvt6vrRB2YPZg+eCBX9be9V4inY/tHsz/LRmdc34GDrCPn1B8EVNiBJJl4nUSOAG+4SYgwKCc4I7AosDs8QtxCGDNkEV/t/8bHo8uIx4ibm+uyA9TT/PQioDVAOTQsWBVf7he9Z5RPgQ+BB5Rvu2PhCArkHnghGBU7+gPW77dXobube5e3orfIbA8oWhipTPOZI7ErPP/4q7hLZ/LLskuZd7Or6QQsHF4Ma9xMYBPTu2drczOHGh8gB0WHe1uy0+LIBRglOD10SlxN5FdQXBBjlFXAUlBQnFIESwBEhEgIQ/gh8/5X2G+7S5Sjhy+Mh7ET1Cf09BL8JRAq+BdD/Zvov9ELt1eiB6DPqyuzs8aX5DAAqAnUBrP9j+87zvuwn6p/q3Oru7In2JQiYG+8rsDlsRFtGiTpMJboPl/4o8gbtMfNaAgARoxcWFvwNf/756N7U8cnnyArONthH5972kADcA2oFiAeSCAoJwwzrE84ZmBuAGyAblRj6EpANXArsBi0BP/sO963y+ux+6QnslfIL+JP7ZP/HAh4CRf2Q+HH2j/RP8QDvte9n8ezx3fId9r350vrJ+eT4w/en9KbwAO8u8LzxO/Qw/KEL/x19LU85vUEqQpc1jR8sCjP74PEA73H2rwaFFToa9BRTCdv36eETz07HyspB1NTgLvBO/joFqQRaAmYCxAMHBiYMshYdII0jSCJQH8IZPxA3BgwAIf2Z+Sz1rfJA8lvxne8K8Ar0zPjD+479NP9w/838LPka92X2+/T18hzyofIB8yXzj/Q+91H5Bfrt+fD4TfbR8prw5e+p76TxivqtC+0f+TD7PMNDFEFaMVUZlAP59c3vK/E8/IMNdxpQG5ARsgGv7ULY28jkxXbO39zi7FT8WAdECgcGJADN/M38CQERC+kYQiSLKM0mVyHgF/gKfP9p+Rr3+/Ri80f0Bfa89SL0p/Sf9xH6ovoD+1T8Ff23+435hPg7+In2evNz8UPxW/FD8dHycfaB+R76vfm9+cD4jPXs8f7vze8c8nL61Ap1H7oxHT6HQwI/Ai5JFVj/6fJh757z8QCvE7ogvR/KEtD/1ejR0ObACsGyzvjgPfP0A2kOXw1XAxT5R/S/9Lr6VQgsG8IqjTCVLcQlhhkWCQX6xfKt8mv0cfau+jT/A/8q+h32UPXL9BnzVvNi99z7/fww/GD8qfyN+W7zrO6j7d/tu+3Z7+31PPxb/nX98fzc+1b3H/Gj7Wft3O4I9ZEE1xoXL0c8M0NCQhU0ChpgAMjxA+4f8ZD8zxAtI2EmehlqBbjuYtV6wCS8CcpG39HyJAQwEXUSHwbU9S3st+o974f7bxCpJvEzrzUUMOsk4hIe/nbwTO4o8pX2wfwWBS4JVQQD++bzAO8n6o3oA+6f9/f+fgLZBLIFmQGo+P7vkOsz6gPqgeyq87X8sgFFAcf+t/tB9mHvzeuy7PftDO9B9uAGIBvvK444IEEvQL0w7BctAXrzuO4N8zYC1BcfKJUpuRzUBmDrN8/lvOW8rMwK4wX6IA4oGIQRNv4/6gze2doN4jX2NhNBLSU71zx/NQMlLw0C9znsEu3F8kL6tQT5DgARbQgY/Ezy3Or55LDksuyo+H4CzghKDAUL3wLe9prsw+bt5Jznne8e+voBzQRJBC0BHvqa8DPq3uld7NPtke/79EL+swlDF+UmjjRkOvc14ChSFt8C+/SJ8kj8Uw3AHtEpBClVGYL9qd6ix8i+58RE1zfxgAoxGYsXDQih8iLfgNOt1PnkqABHHnU0fT6qO1ktcxctAVjylO4i9HP+LgkMEX8TBQ/0A0T1tOeO383eBeUu8EX9VQgsDmsNowbD+8HvhuYi4z7mM+6E+E4CbQhVCAYChPjy78Pqful17FbzS/tw/3X9LPnM+ED/NQs6GvUp3zXNN5gsWBi4AzX2bvN7+9ELLx65KUYn8RUz+47fKssmxNDMAeIP+9gNAxQLDZz8XejJ17/SM90K9MkOAyXSMZAz2iosG2gK3/6r+6D/WAdaD8QUGBURD1UEqPgA713oWeVH50zu5/d4AAcG9Qe+BUz/EfZO7RToCOi+7F/0VPxCAiQE2QA4+Xbwh+qi6RLtGfNC+mwAlwJC/iz1Nu3i7A73ywkFIMEzGj9oPa0t6BTx/GHvOvCO/c0RoCV1MFMrtRUC91Taq8g4xrPScukGAqYScBT4Bgfxc9wB0QrSdt8p9loPqCKqKponPh17EB8GEgLxBAIMchOhGP4ZphbhDmEEBfpk8qDuG+6d7/XyO/gS/r4BjQHu/VP4EPLK7Nzqo+079Bj8EgIMBBUBNvr48YTrfunu7Hf0tfwqAjMD9P8s+f7vF+cK41HoI/j5Dj0mMTcUPQ824iNKDAv4Ge+z9PsFvBuJLbUzxSlgEaHyTtiZynzMEty287AKcxdwFCcDSOt31kvMKND44EX5zxDtHwkjBRzSDwAEOf1//qEHcBREH+4jDyFDFyIJA/tb8XDuE/GJ9nj8RQFkA7IBzfwa993ysvAu8LDxEfZs/L4BoAMSAjb+qPh98nDuJe/+89X5+v3Q/3D/MPwF9lXv8esG7bXv+/AE8g73ygFmD/kbfCUNKsEmdxq/CRX93vqUAwYTISPSLX0tOB+yBfbp2Nbv0gDeifJVCAoWoBT0A0jrJtUJygrOT+Ba+v0RXx5NHAUP+v1D8azuq/dTCTIdUysOLt8k9xPWAWv05e+z9A//2giQDaELAASx+Y7w2euB7GfxX/ij/qUB2QCa/VH5LPWV8qHy7/QX+A/7Xf1n/rL9n/sU+aH2OPWA9QL3hPiN+RH6tPjy8zbt9ulJ70L+gRKjJG4ucS14IocQKv7X9Or6Iw0zIUou5C+BIywKvuy62C/WFuPb93oM3RhSFiQEY+oy1dnNU9bS6TwAkBHgFwwRqADl72noJ+76/UgRbyFMKSUmkhmnCe79xvqI//UHZg91Eh0PvgWl+dnvweuv7W7z7fk2/ov+J/s19jTypvCw8cv0Xfni/RgAD/8M/OT4QfY79NrzNfaK+uv+pQHKAev+1fmD9O/w/u/v8LzxvPEK9FH9zwzXGtIgRB9VGQUPdQEU+XD/aRLTJIAsQCm3HZsJjvCO39Hh2vOhB6MTLhYIDhH6KOFu0ZjTp+Nu97kHexBpDkUBze+85Ofms/TgBu8WuiCfIQEZQQu0AA//OgU4DiIWvxraGZwRPQQv+D3zRPWl+YL9RQF8A+j/QfYe7W/q1uym8Cn2pv2XAjwA/Pjp8iLwPe/j8DL3MAD7BdkEQP/h+X32R/Ta82731v0tAZr9TfY68JDrzOef6t76lxMbJdwlUBtyDyQEXfmG990H8SLNM5wv5B7nDN76J+qJ5VP0cQvsF1oTggWA9Snl0tjS2MDn9PsBCBAHi/5c9R7tt+YL5xDyQgL/DO0O8A0IDj4MowaXAvsFUA5LFCIWlxcNGdAUFgmy/QP7G/+7AkkEowYoB7j/NPLJ6H7pgvAj+Bv/kQRtBGD8E/EA6yfuAvd8/50EHwbrAn76i/Gd71n2NP/QA8QDtACu+uny3+3E7qrz//c7+KrzWO6m8ED/ixMdIJAePxTmCGT/0vqjAhwYQS1dMAUgsApv+9HysPHZ/IcQ+Rt/E1v+OezX4/7iUegK9P0AggWm/dnv5+YX53XsQPJ4+AAA2QSjAv38VPziAdQGiAdtCC8NzRGEEckOgQ6WD2sN8gg9CM8MexAgDukHNgIt/Yb3IvT29pr92QAt/Vn2i/Eu8H/xmPVU/FoCAwPi/S/40vZd+an8iP9CAhsDGADS+ob3F/jG+v38df0k/Mn59vbC8+PwCvBP8TfxoO6a8A//fBRpH2cXxQfc/2AAuwLLCdQbzy6VLWEV5fwO9x7+eQSkCsEVoRycEbH5WulL6pXyAvfA+OX8lP84+VHsyOSZ6CLwrfJW85n5+gFdASb3CvAK9Ej88QCmBcYPrRgxFUAHaf08AL8J9BAkFcUYHBhpDvEA6vpk/3MGzggcB/QDQv689ZHvB/EX+I79sv0/+735qPj59c7zuvbu/ccCjQFC/nX9df0b+135/fzQA38GTgLc+xf46vYR9gX2tPhg/AD8yPUx73Dui/GL8fLvU/jMDXUfyxq+BSP4PPxDBhcNixeOJyAsPRkb/0r3GwMdD5wRLRJkFFoPQP8u8D3v/Pis/zb+9PvW/RX99fJ65tTkxO4L+BH6lvpR/W/7B/F16HPtGPyXBg0IowYfBvcC2fyf+wwE+Q5dEtUOYgwjDU0LmgUzAxkIqA0mDMoF7gHxAB7+1fnt+Rv/HgIq/m73v/QF9vb2MvdC+nz/FQGp/Kv32/ef+x7+3/60AN8CaQFU/BT59/qj/sT/Z/7Z/Cf7X/j59RH2L/i9+SD5ofZH9J7z6fKp7+juA/uEEfYc+Q4L+P7zJAQtEgwV6RiWIIkcwggD+6wDfBQ3F3UOrQuHEFwOCQH29pb6oAM6BfEAJADKAW/7Ku1u5svwDADTAnL64/Qs9Yny7uy17838WwbrAsb6jfmO/XP+kPyg/54IvQ6tC5EE7gEkBDcGAQi3DCQRRA7NBNb9Z/5aAp0E5QSRBLsCKv7A+HH2FPlp/aP+qfwb+wP7Kvrk+Gb6l/5dAWAAmv1v++r63Pua/bj/EgKvAlj/QvoI+Qz81v1I/KL6Kvps+Gj1L/RQ9er2I/hT+Or2XPWP9EPxKu0W9FAKsBucEd72c+1w/9MTUhbAEYUVGRmBDrj/mQEMEe8Wgw1wB/ANJBFVBFz1MvdeBdsMMQjKAVj/ovpn8SfuhPhSBegD3vbl7y/00vZM8kzynPxhBEz/lfZN9vf60Puf+2kB1wk1C4UEr/6g/wAEyAa2CFYM1Q6VC/0EiwLvBZsJBwpTCZIIdgUAAHj8sv0hAa8CzAAJ/dX5U/hT+Mn5hPy7/h7+Y/u9+aL6qfw2/nz/GAAn/yH9e/sb+9D7Uf3f/oj/9/6O/Xv7sfmx+ff6J/uN+Tv45/fG9lD1HfYj+Hr37/SD9C/0jvDg8YsCChaoEdL2oumm/WcXlxenCXQKXhY/FDoFKgJOD44WKQ+zCR0PtxA9BF/4Qv4gDsoSuQd4/MP7Bv4e+mX2qfzKBWYC4/QZ70T1kPiS80nzLf1yAuH5dvAl8xv7Rf0h/V0B/QQJAUL6Bfro/8EEvgWmBQcGOgXTAtYBtQSPCQIMsAoZCBMGbQSgA/EEKAdAB0kEtABb/mn91v1A/zwAWP/x/H76CPlp+av7Z/5Y/779J/uN+b35P/st/d/+iP9z/kj8xvob+9n8u/7Q/9D/l/7Z/Ff7uvr3+p/7n/ta+pD4hvdu96v3n/cC94n2bveT9/7zQPJp/c8QcBSv/mzrw/czFFAbJgyjBoESFhaeCEICmQ4cGMMQUwntDoESyAY/+04CkBG+ElIFn/sV/XD/6Psq+gwAqQTi/dHyf/HD90f43fL+8+j7SPxA8u7szvN7+zP74fl1/ev+UfmA9Uv7lAM9BDAAeACgA/oBpv1k/68GOAqtB74FcwZeBVcDlwZTDSwOfAcGAtMCIgVtBDMD9AP0A3gAePw8/K/+fP8e/qb9Nv6Q/CD5zPhs/Bv/Nv79/BX9MPwR+lr6mv1k/4L9J/sD+9z7YPwh/X/+NP+L/hX90Psz+2P7DPxg/Oj7cvpT+NL2SvfA+IT4Svcv+HX54fUQ8g/7sQ6IFHgAvuwa9yESwhneC9YFWg+oEYsG9AMMERAY+Q6qCGYPtBFSBan8NwbiEqIP3wJp/XD/u/63+0L+VQTTAgv4avD+8x76hPhf9Er3JPzD9wzvze+Q+PT7FPk2+q/+ePyk9cb2DADlBGkBr/6EAMAA1v2L/tkERgmtBzoF4gU3BgwEGASPCQUPwA1wBzMDSQT1B4wKyArmCP0EeADf/qUBtQQ/Aw//Lf0t/av7BfqT+07++v2H+0L6yfkg+U76Ff3u/fT7Nvrh+aX5Efo8/B7+af2r+0v7SPxF/R7+6/7H/kX9S/t++gP70vpF+cD4yflR+ZX2yPXD9y/4lfaJ9tL2gPUR+lUI9g++AQzvp/QvDfUYPxDmCFYMkgwTBvUHZBSVGBQOKwYdC2YPkghmAj0IAhAmDEIC9/4hATAA4v3xAM0EfP8W9DrwAvfl/H76cfah9uH1gvCI7lz13Pul+Zj1//cD+5/3v/Ry+voBmQFp/e79zAAAALv+6wLaCM4IAAQGArUEZAclCMsJbgyVC8gGVQTdB24MYgwWCXMGkQSXArsCygV8Bz0ENP/W/ZT/xP/W/YL9G//T/jD8A/tI/M38APxU/C390PvJ+Wb6kPxF/VH9Bv6m/av7J/st/a/+c/42/jb+Uf1s/CH9Hv51/bf7NvoI+Tv4F/jz93r3YvfP94b3TfbI9Q73O/gC9+31w/sNCMwNPwN39Pn1oQdtFW0VYxDzDMUHxAO8CqEYTRyEEXAHAQhlCzgKUwluDJ4M1gWI/6D/hABR/Z/79P/HAoT8DfOy8Cz1qPjY+Gz40vak8Y7sM+4R9p/7+fmk9Wv0aPU19sz4Qv6yAaD/Cf2X/vEAFQGLAhAHCgmyBesCPQTKBb4FrQdlC30LTAcwBOUEfAekCjsN6gsrBqUBxwK7BtoIVQjvBWkBwfz0+xv/7gF1Abv+9PtC+pb6/fyI/xgAc/48/D/7GPyy/bv+QP+s/+v+hPyu+of7df3u/V395fzc+4r6G/tp/aP+sv2Q/Bj8G/vJ+cn5M/sM/NL6//eM9eP0pPXS9lP4IPmr9+/0/vOk9dX50wLADWkOJADa85P7ig9oG8sazRXMDXADcgIAEQUgdx4MEfgG3AOIA2cGzwyWD84IKv6B+T/7zfzQ+9D78fxm+trzne8f8Uf07fWG9y/45vOO7GPqRvDb9z/7A/sI+bD1SfMR9jb+LgUWBXgAQv4wACcDZwZlC7EOiQuaBYUE9QcTCuAKkA0FDx0L1gUuBYgH5gizCQcKlwYVAeUAowZTCeUEMABgAFEBcP9C/tD/QP/e+lH5mv1IAAD8AvdH+FT8jv1d/db9VPyo+Kj4Ev6XAoEB4v0A/Bj8If3r/iQAG/94/AP7VPzr/gAA3/45/ST8S/vG+hv7G/ux+V/4zPh1+ZD4JvcF9sv0X/Qp9vP3xvbO80DyFvSr++YIwBFQChT52vPTAkYWIx4TGzYTGQgAABMGNBg5I/saBwpsADAA6ANQCvQQ4Q6BAQj1g/S6+gn9e/s/+x76FvTf7RvuKPJJ83DyR/Te9r/0ne/c7trzFPmT+yH9jv2i+rf3k/upBB8KqgimBSQETgLiAUAHQg/PEB0LWwYoB8sJZQsvDYEOMgwoByQEFgXsBsgGUgU9BMQD9wJRAVj/l/4wAEsDggV5BDwAw/uu+nX95QCBAQP/k/vV+W/70P9LA4sCo/63+9z7+v3ZAIgD6AMtAU7+c/6EAFEBMACL/hX9t/sb+zP7M/vS+kL6sfkg+RT5/PgX+Er35/fA+Lf3QfaJ9jL3Bfab9Fz1cfZo9VP04fXD9972KfYA/HoICRIRD5kBR/iv/jMQFx5mIJ4ZFA7rArIBHQ8UHx0g8RFwA8r9l/64A0oMMxAEB1b3OvCP9B763voq+oH5mPWF7x7tSe++8BbwT/HX9KT11PGI7iLwFPVa+pT/VwNmAlH9rvoP/ygHzwzMDZUL6QcuBcgGtwzxEagR/wx6CEMG+wXdBykLkgx3CUkEjQFpAcwAfP8AAL4BgQHT/kj8cvqQ+Nj4pv1kA3wDpv0X+Ib3k/uyAeAGcAdyAs38YPwtAU8GAQhDBosC3/7i/cAAqQR2BdMCYAAMAFQAZP8S/nX9/fwY/G/7A/u9+bf3rfbP9+359/ql+WX2qvPa82X2kPjw+M/3pPUx893yyPXh+dz70voj+NT1aPU+96L6nACACh4TnxAPAwX61gFyE2kfVyE+HX8TcwZmAtUO2B7tH2kSCQVn/pP7Uf2CBVkLtQQm947wifLm80zyDfOA9bbzlO7i7LjulO6+7BnvpPVF+cb26fKt8rD1ivpFAa0HtgisA/f+nAAEB1MNtBFCE+oPIgkTBpgK5xDZEZkO3guPCe8F9ANPBkYJoQfrAgAA0/4Y/Dv4DvfM+OH5aflC+mz8DPyc+Ib3Y/vE/10BxwI6BeUEIQFIAAkFgwkKCaMGXgWgA1EBEgK+BUAH2QQeAjkBhAA0/9/+TP9b/rf7sfmB+bH5tPhi90r3q/eV9nf05vPL9CD1gPXz9wP7S/uB+YT4R/if99v3vfly+pD46vY+98P3q/f/9zv42/fM+Bj8AABSBSAOiBQ1D98CtAAIDrkcJyEsH0QbIRL4BtQGuxPFHBYWCgl+AgwAn/vV+Yv+2QD8+IXvne8i9Cjyaeyy7H/xlfLv8HDyp/Rz8Srt4/D3+uUAWP+p/LX8Rf1b/iQERw0wET4MQwbUBhEL8wzMDYcQtBHADSIJawl9C7MJjgW4A6wDZgJsAOv+MPwj+In2FPno+976Gvcv9Hrzd/Ri9zz8zADuAQAAW/7r/qgAGwNYByYMwA19CwoJbQieCFMJBQutC84ISQSyAVEBRQGlAXIC4gEP/0j8J/u6+u35UflF+VH55Pjn92X2RPU49fn1MvfY+Mn5zPgy92L3IPmW+qv7/fx1/Wz8e/vD+xj86Puf+676kPgO91b36vbm81vxDfPD9wz8PACIBzwR2RVmDwAEjQGtCwcXvxo6GjQYog8DAxUB/wzBFWMQTAdhBOUA//cl86v3xvos9c3vWPKA9Qfx0umN6F3ske/48UH2afkp9qnv2e8U+ccCZwb4BpQHvgU2AmEEkA18FFoTSxAMES0SAhCoDSwOmQ5uDFwKBQuVCz0IZgKj/nP+NP/H/oL90vpc9ZHv3O5680r3Vvd99qH2Hfak9Qv4DPyj/jkBsgUWCVMJEQsMEc0VDBUGE+sTAxQ/EG4MTQsKCScDQv7W/Wf+n/tW9yD1s/QW9Bb0EfbP94n2zvOq8zX25/fb90f4dfkU+W73VvcU+b35bPjn9735GPwJ/f38Of11/Qn9hPxd/Sf/W/4s+W7z7PHm80T1UPU19hr3sPW28x326/6hCx8XExugFIwKDQhOD0AYkh2WIL0f7xYRC0AHuQu0DVMJBwZDBj8Dq/tZ9lP0Me/w5xTo7/CT9+P03+3t6G7mPuaE68j11v02/lr6afkJ/XUB2QTyCMANJxAOEFQRcBQzFPkOyAqSDBgRBhNdEp8QMgzZBKD/YABXA68CEv4s+XT1TPJG8ILwpPGL8QfxZPKw9Tv4F/hN9rD18/cA/ED/1gEHBuwK6gvaCOYI6g+8F6oZNBijF1UVgQ4ZCK8GfwajAgb+VPzS+mX2pPGF7yfuXew27fjxifZi90H2QfZK9+f38PgY/HgAowJRAWT/cP/Q/0L+nPxp/Sf/QP/H/if/f/7Q+zb6n/tF/c38h/sq+m73FvSV8q3yofKh8iXzGfPF8kf02/f6/fsJOhq0IuAbhxBCDxgVcxe5GMkffySMG1MNEwogDtcJc/5y+tP+D/91+ZP3nPiX8fvjOt+c5y7wmvCp733yffKO7J/qevPK/Rv/tfyZAdELwxBCD6UOJxCZDlkLgQ7IFx0cahaNDt4LEQuhB6kEIgWRBBv/afm0+LH5ffZS8L7s1uzT7W3vxfLt9Vz1vPHy763yk/cD+8H86/7KAUkEiwabCT4MSgzsCiYMeBGIGC8eBSBZHCcU0QvUBhgEXQED/2n9xvqJ9g3zsvDK7Bfny+NK5hLts/Si+pr9pv14/Az8If00/4EBAwPcA/EEEwaOBesCQP9X+zv4//cP+1v+3/6a/Qn9tfz3+i/4+fWD9GLzJfN39Cn2Hfba8yvx2e+m8MLzCPnAAOoL/hm7JPck9hxDF5cXlxfZFWEZqyEtIzgbPRUxFboPMAAl81vxrfKp77juL/QR9oHssOAW3zjkKeXm4p/mUvDG9jv43Pt+AvQDi/4k/KMCWQuWD10SrxcTG68XXRIhEgMUwxBECmEIQQu5Cz0IdgUnA5D8SfN87jHvwe9A7rvtVe+y8O/wQ/Fw8rbz2vOq80H2bPweAiQEagW2COAK+wkTCi8NpQ6DDZYPwRW5GJ0VFRJgEd4PxQttCNQGuAO+/Qv4sPUs9bnyD+4k6wns6+0A77DxNfao+JD4uvowANwDxAOsA/EE8QSgA9ADzQQzA3D/Ff05/V39w/s4+Yb3Gvfe9mX20vbz95/3jPXL9JX25/eJ9oP08vP+86rzFvQ19uT4ovoM/JAAlQtfGu4jmiPVH+0foiBxHMgX9RiDGj8UegzkDQYT8A1IAJ/3jPXy7yPn9uXZ6yHsQeXv4+XrQ/Gv7RvqKu3Z75ftDO+K+lsGuQfBBOYIMBEqE7oPlg9dEs8QbgxrDVoTGBXGD6QKvwmSCJQDx/5d/ZP77fWy8Gfx+/Sz9L7wuO6p70bwIvB/8SL0XPV09Yb3/fxLA9QGZAf1Bx8KuQvRC9sMBQ+BDokLuQt+D5MQ/A1EDtYSxBR4EfwNxQuLBgb+n/cs9X3yi+0n6qjrhe838TfxYvP29sP3ofYU+cf+UQFsAFoCcAeDCYgHNwayBVoCUf0b+2P7TvqG9zX2n/el+e35Ufm9+X76wPik9VD1MveV9ubzCvS69kr3QfaG9xH6fvo2+lT8aQGbCT8UWRwvHvMdciDPIcMdoRimFloTrQtPBp4IJgxGCQ8DVACI/+r6zvPl7xvuROgr4Kne+eT26dLpSOuX8cb28/d++rj/gQGj/r791gFDBkkI4AqKDxITlxOjE20VahZCE0cNdwmqCAQHZAOBAcoBxP8/+1H5Zvqc+K3yWO4b7ifu1uxC7V7wSfPL9D73w/uEAPcCJwMnA4UEWwb4BhwHYQjjCcsJFgmACpANHQ9pDrQNgQ7SDwIQmQ7RC1UIwQSNAYv+V/vD9zv0l/Fq8C7wUvAf8bnyj/Sh9uH54v2cAHUBKgJkA9wDDwM2AqUBqACs/6D/6P9Y/9b9VPw/+676WvoR+sn5pfmZ+bH5cvpj+/f6vfnJ+Yr6jfn29vv02vN98uzxJfMU9Sb33vqoAKEHfg/7FlwbxRyQHn4gtB7aGYIWuxPYDa0HWwbsBrgDcP8n//T/Rf04+WL3RPU68PTqyeg46Avnn+b56Dbt1/Dm8zv4pv0JAZkBiwKCBYgHrwbiBVgHCglrCWgKFw1CD04PyQ4dD0IP5A1ZC8IINwYbA0z/JPxm+vz4Gvf59a32z/cj+Bf4bPhH+G730vbq9ur2ofbS9jv4lvot/az/QgL9BFgHFgmMCokLiQvgCqQKaAp3CcII1wn2C0cNqA0gDlwORw2wCigHxwKa/Qv4ufJM7jDrWun56Ifq0+0Q8sb2MPxdARYFTAeeCKoIyAbEA/EATv6r+8n5afke+lf78fzr/rQAygESAuIBOQE8APf+sv1s/D/7Tvqx+UX5CPkg+XX5vfkF+lr6fvoR+l35qPj/97f3qPgb+5f+DwOqCJkOuxMEGIAbSh25HIMaTxcGE8wNtgidBAkB4v2r+676Wvpy+gP7k/uf++r6yfkX+OH1VvP78Azvo+0q7evt5e/R8on2xvr3/q8C7wWSCCwKsAqACrMJSQivBnYFqQT0A6wDAASFBP0EmgVDBn8G+wX9BJQDdQHf/mD8Hvrb9wX2CPXX9Dj1KfbP96X5Y/sJ/cf+PABFARICowLHAnICEgLWAZkBgQH6AfcCPQTWBfUHOAoaDJwNsQ75DjgOngxoCmQHoAOU/5/7w/dT9NTxgvAi8LLwZPLX9Hr3HvrZ/Bv/nACBAe4BygEJASQATP9b/l39nPxU/Dz8ePxF/X/+xP8JAVoCfAMYBD0EDARXAwYCeAAD/5r9MPw/+8b6ivqK+gP76Pvl/Nb96/7Q/zAAJADo/0z/Qv4J/QD8M/u6+hv7hPyv/oEB8QTaCJ4M6g/KEsQUhRUAFX8TGBHMDQcKNwZyAsf+n/tR+av3xvat9mL3ePix+Rv7ePxR/Y79Rf14/Bv7gfkX+Pb2NfYF9on2n/cI+er6If1w/5kBuAO+BVgHeggiCUYJtgh8B+8FGAQGAgAAW/4V/TD8w/vc+1T88fy+/Zf+TP+g/8T/oP8n/3P+vv0h/Zz8SPww/FT8ePyp/PH8Uf2m/Tb+D/88AKUBSwP9BIsGuQdtCLYIhgjpBwQH+wXZBJQDWgIhAdz/f/4t/ej7uvrV+VH5LPlp+QX6A/tI/L79WP/lAEICGwN8A0sDiwJFAbj/Nv7N/ND7e/v0+wn9i/5UAB4CoAOdBCIFFgVVBAMDaQGs/+79bPxv++r63vo/+zD8Xf2X/tD/8QCyAQYCHgIGAr4BUQHxAJAAMADQ/6D/oP+I/3z/iP+I/1j/D//T/nP+7v11/UX9Xf3K/dP+bABOAlUEcwZ6CPsJ+Ap9C3ELvAqbCWEIBAd2BegDcgLlADT/jv0k/NL6vfkg+fz4OPm9+a76t/uQ/C39jv2a/S39ePzD+wP7QvrJ+aX5yfkq+vf6DPxF/Yv+9P9RAWYCPwMABIUEnQR5BCQElAOvAsoB8QAMACf/Z/7W/Wn9If0h/V39pv3i/UL+o/7r/jT/lP/c/wwASACcAAkBdQEGAqMCGwNXA4gDoAOUA1cDGwPHAk4CvgFRAdkAVAC4/xv/c/7K/V39Lf1F/XX94v1b/t/+ZP/c/0gAkACoAKgAqACcAJwAtADMAMwA2QDxAAkBIQFFAWkBdQFpAVEBIQHZAHgADAB8/+v+W/7i/Zr9af1d/XX9pv3u/UL+o/4P/3D/xP8YAGAAqADZAAkBIQEtAS0BLQEtAS0BOQFRAWkBgQF1AV0BLQHxAJwAPADc/3z/J//f/q/+f/5n/k7+Qv5C/lv+c/6j/t/+J/9w/7j/AABUAJwA8QA5AXUBpQG+AdYB1gG+AaUBdQEtAeUAnABIAAAAuP9w/zT/6/6v/ov+Z/5O/kL+Nv42/kL+W/5//q/+3/4b/2T/rP/0/zwAhADMAAkBOQFdAYEBmQGlAaUBmQF1AVEBLQH9AMAAhAA8AAAAuP98/0D/D//r/sf+r/6j/qP+o/67/t/+A/80/2T/oP/c/xgASACEALQA2QD9ABUBLQE5ATkBLQEVAf0A2QCoAHgASAAMAND/lP9k/yf/9/7T/q/+l/6L/ov+i/6j/rv+3/4D/zT/cP+g/9z/JABUAJAAwADxABUBOQFRAV0BXQFRAUUBLQEJAeUAtACEAFQAGADo/7j/iP9Y/zT/G/8D//f+6/73/gP/D/8n/0z/cP+g/9D/AAAwAFQAhACoAMwA5QD9AAkBCQEJAfEA5QDAAJwAeABIABgA6P+4/4j/WP80/w//6/7T/sf+u/67/sf+0/7r/gP/J/9Y/4j/uP/o/xgASABsAJwAwADZAPEACQEJAQkBCQH9AOUAzACoAIQAYAAwAAwA6P+4/6D/fP9k/0z/QP80/zT/NP9A/1j/cP+I/6z/0P/0/xgAPABgAIQAnAC0AMwA2QDlAOUA5QDZAMAAqACQAGwAPAAYAOj/xP+U/3D/TP8n/w//A//3/uv+6/73/gP/D/8n/0z/ZP+I/6z/0P/0/xgAPABgAIQAnACoALQAwADAAMAAtACoAJAAeABgAEgAJAAMAPT/0P+4/6D/iP9w/2T/WP9Y/1j/ZP9w/4j/rP/E/+j/DAAwAFQAbACEAJwAqAC0ALQAqACoAJwAnACQAIQAeABgAFQAPAAwABgA9P/c/7j/oP+U/3z/ZP9Y/0z/QP9A/0D/TP9M/0z/WP9k/3z/lP+s/8T/3P8AADAAVABsAHgAhACEAIQAhAB4AFQAMAAYAAAA6P/c/9z/0P/Q/9D/3P/c/9z/3P/Q/7j/rP+g/6D/lP+I/5T/oP+s/8T/6P8AACQAPABgAHgAkACcAKgAtADMANkA2QDMAMAAqACcAHgAVAAYANz/rP+I/3D/ZP9Y/2T/cP+U/8T/AAAkADwASABIADwAMAAYAOj/rP98/2T/WP9Y/2T/cP98/5T/xP/0/xgAJAAwADAAMAAwADwAMAAkAAwA9P/o/9D/xP+s/4j/ZP9M/0D/QP9M/3D/lP+4//T/PABsAJwAwADMAMwAqACEAFQADADc/7j/lP98/3z/lP/E//T/MABgAIQAnACoALQAqACQAHgASAAYAAAA9P/0/+j/6P/0//T/AAAYADwASABUAFQAbAB4AIQAnACQAGwASAAkAOj/rP9k/w//r/5n/jb+Nv5C/lv+o/73/lj/0P9UAMAACQFFAV0BUQEhAfEAqABIANz/iP9A/w//6/7r/vf+A/8n/3D/uP/0/zwAhADAAOUAFQE5ATkBIQEJAdkAhAAkAMT/WP/r/ov+Tv4q/hL+Nv6L/uv+cP8YALQARQG+AUICowLTAtMCrwJmAgYCmQE5AbQAJACg/yf/u/5z/jb+Bv6+/Zr9jv2y/db9Ev5b/pf+6/5Y/9z/SACcAOUAIQE5AVEBdQF1AVEBIQH9ANkAwACcAIQAVAAYANz/uP98/zT/9/6v/nP+Tv5C/k7+Z/6L/tP+NP+U/wwAbADAAAkBRQGBAY0BjQF1AV0BLQEVAfEAzACEAFQAMAAMAOj/0P+s/3z/ZP9k/4j/lP+s/7j/3P/0/yQAVABgADwAGAD0/9z/uP+g/3z/TP8n/zT/ZP+g/9D/AAAkAEgAeACcAKgAkABgADAAAADQ/6D/cP8n/+v+0/7H/rv+u/7H/tP+9/40/4j/3P8wAJAA/QB1AeIBNgJyAnICZgJCAvoBgQHxAEgAlP/r/lv+7v2C/S39Cf0V/VH9sv0q/q/+J/+4/3gALQHWAWYC0wIbA1cDlAOsA3wDDwN+AtYBIQFgAKD/x/7u/S39tfx4/GD8bPyQ/M38Of3K/XP+D/+I/wAAYADAABUBXQGBAYEBdQF1AXUBXQFFAQkBwACEAFQAMAAAAMT/oP+I/3z/lP+s/6z/lP+g/6z/rP+g/4j/ZP80/xv/J/80/0D/TP9w/7j/GACEANkACQEtAVEBdQGNAYEBaQEhAdkAqACoAJAAbAA8ABgA6P/c/+j/3P+g/2T/QP80/zT/QP9A/yf/D/8n/1j/fP+I/4j/cP9k/1j/cP98/3D/ZP+I/7j/AAA8AGAAYABIAEgAVABIABgAxP98/0z/TP9w/6D/uP/c/zwAwAA5AY0BsgGlAaUBvgHWAbIBOQGQAPT/ZP/r/nP++v11/RX95fzl/P38Lf11/db9c/5M/3gAsgHrAgAE8QS+BWcG1AbIBgcGwQQzA40B9P9//i39GPxX+wP7A/sn+z/7V/uT+/T7hPwt/e79l/4n/6z/GABgAKgA5QAJAQkB/QD9APEA8QD9AC0BUQGNAeIBKgJOAk4CTgI2AgYCygGBAQkBbAC4/wP/Qv6m/UX9If0t/YL9Hv7f/oj/MADMAEUBjQGlAXUB5QAkAJT/QP8P/w//TP/E/4QAaQFCAq8CuwKjAnIC1gHZAJT/Hv7N/PT7q/vD+yT8Cf1b/rj/2QDKAXICowJyAh4CgQGoANz/TP/T/mf+i/5w/7QA+gH3AmQDJwOLAtYB2QBY/8r9zfyE/LX8Lf2m/db9Bv6v/sT/nAAJAS0BFQGoAAwAZP9n/vH8e/tm+qX5LPk4+aX5Qvon+838QP/uAakETAe/CdELwA1yD1cQAhDJDv8MmAqUBz0EwAA5/R768/eh9rD1OPVc9fn1uva39/D4Qvpv+5z8sv1n/rv+D/9Y/0D/6/6j/pf+r/4D/4j/JADZANYBGwNJBNkE/QTZBHkEuAO7AoEBPAAn/4v+Hv6C/c38PPwk/Gz85fyO/UL+NP94APoBMwPoAyQEVQSFBJ0EeQToAxsDKgJpAdkASACI/9P+Tv4S/u79yv2y/Y79gv3W/Zf+WP8AAJAA/QAVAeUAqABgAOj/iP+I/7j/3P8YAIQAwACoAIQAhABsADAAJAAwAPT/oP98/2T/D/+X/nP+Z/4q/ir+c/6L/jb+4v2+/V39/fwJ/YL97v1b/gP/lP9k/6P+vv14/N76mfks+V35HvoY/ED/3wLUBk0L6g/3EwcXGRl6Ga8XMxS6Dx8KcAOQ/H32W/GL7YTrGOuc6x7tOvBf9Jz4YPy4/yoCiAMkBCQEDwPZAH/+tfw/+yr6Bfq6+vT71v2oANADcwaGCBMKmArvCZIIyAZJBDkBNv6H+xT5PveJ9tL2n/dF+fT7A/++AQwEygV/Bk8GvgUJBegDlwKlAQkBYAD0/wAAMABIAHgA/QBRAV0BXQE5AXgAZP+L/u79Rf2p/IT8tfwt/Sr+rP8hAUICiAPBBF4FLgV5BD8DjQHc/5f+gv2Q/DD8tfyO/Wf+QP8MADwA9P+I/9/+pv1U/Ev7Zvpp+eT4LPnJ+Wb6P/uQ/O79WP+oAC0BVAC7/jn9APyW+nX5FPn5+an8dQF8BzsNgRLgFyYdDyG0IrchFx40GBgRUwm0AD73TO5T57biT+Dj3zThLOTV6PTugPVX+zAA6AMrBuAGfwYiBdMCPABC/gn9YPyQ/B7+nABwA3MGjwk+DMwN/A3DDCwKrwavAnP+KvpN9hnzpvA97zHvRvBY8rz1ovoYAAkFRgn/DK4PqxD2D/wNZQuqCB8G0AO+ATwATP+7/mf+f/5//h7+vv2y/Wn9kPyH+wP7A/tv+5D8Bv5M/3gABgKgA3kEkQRVBMQD3wLuAdkAZP/6/VH9Uf1R/YL9Nv7H/qP+c/6j/nP+Xf0A/NL6sfm0+CP42/eG95P3R/hR+Zb6SPy+/RL+yv3i/ab9DPwe+nX5Kvps/NYBmAp/E2sa6iCwKFMvQjFiLtQoGyH9FekH/Phg617fudTozDnK0Mxf0ofZIuP07gX6iwLXCasQSxQGE3IPegxfCXkEiP+O/Yv+kAAnAxAHxQtCD5MQnxDSD+cMowYq/gX29O5R6LbiB+DU4GvjU+fH7br2uP/sBgsNphI6FpoW6BT6EnsQegwNCDoFVQToA5QDMAR2BTcGQwavBuAG2QSQADz88Piw9Rzy2e8i8BzyIPVF+X/+xANJCIkL/wySDOwKVQjBBLQAsv0M/KL62Pi392z4Zvok/CH9+v3f/sf+5fyW+mn52Pir97r2evf8+F35Ufm6+sH8af0h/Zr9Nv6C/dz7cvrk+Fn2nvPR8pX2zACiD5Idjid1MNE6ukLSQgo89jGmI+0Obvez433URMaNucOzq7dEwmfPMd4A7wAA2A0fF0od9iBmIMsaNhOQDRMK+AaFBKkETAcsCjIMLA6iDxQOuQdn/mj1Tu1E5Dzap9JM0CLSa9Z53jDrgfnKBecQ3hyCJ4wsvyv7J+ghrRiDDZQDt/uz9BnvNu3N74/0OPmC/e4B1gXRB6EHcwbNBKUB/fxd+fz4xvok/Dn9SAB2BUQKzwzADcwN9gtwBxICf/6Q/B76ofbL9In2HvoV/XD/BgLEA98CPAD6/ej7bPhT9CjyNPK58m7zKfa6+mf+DACNAbgDYQTiASr+A/sy99Tx4uxL6k7p7egP6kDuevdtCLEfmjR6PyREW0pNT/JIVTdzJI0SZvrf3DXHfL8YvLG157Ohv9TT6uXX9FIFJBWtHFwbSRnXGhMb3BSSDB8KtA1vEAIQbBF2FnwYXRJJCFQAePjo6lfZ98t1xi/F2MXfy+jZ2esA/LAKOBtrK3U0ITR4L0kqJCLoFHMGGPxQ9dzuuunq6Qzv2vNc9U32vfnu/QP/2fwb+9z71v1IAJ0EiQtREjoW1BcxGYYZFhYgDjAEJ/t685rs2OeQ53jrgvD79N76cAOVC0IPvQ7MDUcNpArxBN/+fvrG9vXyN/EB8wX2bve398z4Hvr5+RT5dfne+hv7HvoF+hv7J/sg+Sb3ofY19ubzavBA7kDuhe/y87IBExu4NmRHPUzGT5NUiU+5Olog1wkT8RDQcbLMp2qs+7DDs9rAhNqq88QDtxC9H4kpSSb5G08XthluGeISpQ4SE84ZXxqaFjMUMxBXAzHvG91h0aLHUr2rt+W8l8tw3QrwBwYIHzwzzjsKPBk7IjikLMIZtgge/uH1o+3G6b7sT/HU8eXvdvAB8/jxkOut5W7mOew08pn5fAePGtoqsjSSO0dAszxBLWcXTgLQ7l3b+spBw0fFtc2r2RHpw/vwDeYZqB5yICchiRwYEYIFlP8Y/In21PE08hT1CPU08prwf/Eo8rLwYe+X8WX2ivo2/gwE4wm8ChMGSAA/+9f0muzG5fLi2uJ346vmJe/S+nAHjxr7OFtXaWPFXKJT2kxuOzoaePgx4srOa7S/n4OjsrmyyhnRxN359aoI9gtfDXAYbCJfHgAVQBiOJ34xLy+bKwUtWyhJFe79x+2O30XK57P3qQ2vP7uoyWbc7/TMDdUf5ir9Mw07lzkmLmYgZxfZEa0LLgVRAej/wfxo9QbthOfC4mzaudAxzQfT9N3e6Xj4YgwwIoQzqz83Sp9Qc0roNlAfywnC86Pc1srswpjCacbWzjPdhe94ADIMPxTgG6shGCKEHuMajhbJDi4Fsv3b90bwC+f737jdRt+24uTnLvAz+2oFegy0EeUVtRVcDjMDmfng8WbpfOHN3j3iFOjr7fv05fyZAcAAmv0b+0f45Ph3CaEtnFHjXkZal1d4VVNAlxeh8kXb5sBbnMyFdJP5tY7OstuV8nITJyUPIeQeqirMLzgfRw05Ej8l0i1wKTongifCGdL6rN2+zrzC0a4Kn4GkV7s11L7sKQtuKqc8cT7IOXA2BTFzJHAU8gh8AwwAjv1C/hgAhPzv8NHhAtXozITJKsuz0ivgofIxCAse+TCtPtNG8kjQQ0Y4QCngF3wDQO4/3b/Sbc3fywrOmNMS3Gvny/R+AloPUxpgIoIn3SkrKG8hshbLCUv7juyw4Aza+ddX2cHeyehQ9fEARApsERgVxxNQDigHlP/n92fx+uxX6gXpQulU6wzvhvMm92n5S/u3+zv4ofJG8Fjyn/dYB5Iqu1dddDtzMmEjTTwz4AoM3m3AqrMwp36YfJ3mwHvqc/6vAq0L2RXPECcDkQQcGHMoASrCKl44iEcMREouyhYYAG3eZrbjn9ijXLH0u07LHeXE//ERtx1GJxQsCidrGgwRyhKbGpkfwyH9It4cxQuf9+fmhNZcxtm8xLvmwMrO8+ZyAtoZPSqKMXUwjCyXKPEiqB75HzMhaBsJEi4JYPwb6t7Y98u8wjrBEsuj3BzyLAogH+YqeC94L+8nthkdC3P+ffI/6oHoJ+ri7Pvw2vNJ89HyRPU7+AP7AAAHBvsJPgycDQ4MTwbi/V/0kOtx5XriYuLe5absFvTe+hUBggVDBmYCKvo68Pbpouk97/oBYiqSXX1+Xnx4YhtDciAI9f3J6rJlssy0H7HKuYHb8QBQDogH7gHxABH6yPEz+zoaHDpYR4tGW0a1RPQyexBA7obVBL+jqVCkJLjJ17Lwo/74BqELyArKBWQDzgjiEr8ariCtKeUzhTdEMF8e6AOG5p3N4r3WuSzCB9Pg5IbzPABuDMEVrRi1FYQRBQ8pDwMUnB5HK2k0TjUlKvcTafmO32DJtbzlvBTGStUM68cC0BQgHzwieh0zFAIMKwY/AwkFJQjsBioCkPwv9E7poeFe31vgueUr8UD/xQttFZIZ6BTvCTb+qvP06kfnQumv7UnzafmE/AD8V/vt+Tj1K/H78O/wCvBk8gX2ofbq9jb66wLOGXVBzWaoc5Fm1ErgKI4FNeWyzg7I+srDyBHDmcor4H/xm/T78F7wX/Ra+rIFzB6EQJ1VD1TrRp03BiR9C0zyfN3R0P3JbsQsxufVdehV73PtVOt76ljuuvpuDNUfqzI4PVY7RTQ4LJweBQu89UDhp9KCzobRNtj7483vGfNG8MHvFvTB/D0IQhPbHUAphC99Lb8r+SzBJgoWYQRx9k7plN2o1nfWNtz+4lPn6+1a+nMGqgyHECQV1BcfF6wUtBH8DVgHYPzX8LrpC+fP5vbp/u/59Q/7MAC1BKEH5ghJCCIFPAD3+g73RPWD9LbzGfOh8mfxOvCm8OnyxvYD+3X9W/7r/vH83vbX8Bvu8eu36nPxEwZYKYdUsXQDdnlZ3jEODJPqd9LKyknRVNoe3EvZlN0b6m3vDuav3PjgWO6s/+YZLzwoWDhf4U5vMtEYpgXF8t3hFdvi29bbHtzg4Cbmt+YN4gzahtUx3trzaw1kJRM50kKfP7cyDyFvEP0E3vrf7YDkceVv6iTrgeiJ5dHhJ90k2rXeLvC2CCwbDyVlLScyRCy9H1IWwBFmDywOkgwWCZcCZfYd5djWqtHs013bmegI+UkIlBQpHH0cfxeoEeoL7wX6AUUBjQGI/yr6VvPT7YfqXejJ6Ezubves/4IFHwpKDGsJBgKZ+VbzsvBz8cLzmPUa92z4I/jI9arznvNo9ZD4MPw2/l39ivo19vvw0+1h7zX27AZYKXBYoHpFeBVWBS2hC0DurdROy9vVJeIK30rVEdiA5Brmothzz0vZCvBrCQwmo0aDXp5dOUWmJ10SJwMI9W/queUH5ObixeG13pPZQdSmzl3KQ88u48oB0iCgNq0+RD0xN2IqvBeACigHVwMg+ePwsvAE8hXszd6b0r7OttFC2M/mxP9YGKAl3SnyKrAoJCLyGTYTMxA5EnMXgBvdGHELLPXQ3XzMU8USyzbcRvBk/1MJ2xAkFa8TnA1JCBAH0QeeCOwKnA1cCjb+3O6/417fyODn5prwV/ugA2QHWAciBXgA2Phb8ZTuH/ER9if74v2f+6T1+/Dl7xPxCvSE+Lf70Pt++oH5IPl4+OH1NPKw8ZP3wghBLSxfSn8vc5RHdx4wBPftY9nU01Lf/+YP3drRh9ml6GLmJtVSzsTdafmaFso021ABXbpP5TOtHEIPUgXN/H328u/q6XXo1ej+4sPVe8iYwr3GidSO7J4MHClpNJkwjyuVKWkjNBjeD/8MHwpJBIv+3vqb9KvmxdTDyHLHT8953nDy2QSrEBAYnB4MIr0f7BsTGyIavhYQGP0igCwnJVYMbe972QDNtMlV0Uni9fKH+9D/QwYCDJUL0QcTBpQHhgx8FKcarRiqDHL6fukH4NDdH+CE5yjymfm1/BUBHwZ5BAD8R/Tg8f7ztPhd/ZT/Z/54+BnvEemH6pTuW/Ed9sH80/63+7T4UPUA797pe+qa8C0B0CXQWDR+Lnw2Vzgs7Q7M+KHh3tTK28bl7OB119naa+Nk3Y3K2sD9zcHrXA5aMWVPvFvzULY7JSqYGwIMMABL+8/3ifJh76Du8OfD1dG/ULVtvEbOBeXlAGUcFCxKLlwsnir0JS8eshacEfYPVBFgEXELdf2N6FzTBcf/xFTJDtVd6O350APPDHwY2B41HJcXRhbgF6QbESBdI6kmQyj2ILEO5/dJ4nrRNsvR0I3bz+a58sH8FQHWAdMCzQQNCOcMXRJYGF8ewB7QFM0EgPUR6fjgjt/L45/qZPJF+VH9D//3/gD8w/fI9Q730voAAK8CoP8q+n32bvM68HnvmvCa8FLwc/Hd8o/06vZZ9jfxc+1W87YIIDBrXoJ46W3aTEEtSRWv/jPqDN6T2RfWFtIp1JTdMeKN18nGvMI90YTrMgwyLltGtkxMRwhBcDrULEwYmgX5+Z7zK/EB80nzpejU0wrBErp8v9nNZOGM9aEHQBiaJ4cyBjW3LiokRBs6FpQU/RWLF3gRhACa7EneldQPzN7Hi8uJ1H/gN/FeBSQVaxooGD0VeRUEGEQbmR/3JNQo+CidJq4gnxAg9QDaA8w2y2HR+tvV6N3ywPi+/ccC+wWIBzoJbgymEnQbJCKHIUwY9Qf79BfnreFP4Kbf5uIk63rzIPlp/XD/hPyV9knzsPX0++4BVQR+Air+Ufk49XDyRvDT7eLsze+M9X76wfw8/OT4tvOC8OH1fQvPMpVcC2+uYEhECy//Hc0EvegF2HfSc88B0bvcTunz5l/Ww8icyUrVz+YYALQeozUFPlpCyEpxS503DRlLA/f6//d99vb2XPX966Pci89gyYfIBsvC0azdrO7xBHod2C9CNfAvdifeILkcqhmyFr4S/wwfBjwAWvrB7yvgg9Jay/HJ7M/X3wHz0P/4BtUOfxfFHA4d8hnIF2gbfyRNLfkwRCySHfIIUPWY5DvW9Mzuyo7Osddi5lz1oP9GBeAGjgWUBz8Q0RhQG7MaPRmgFFYMaQEZ8yDknNo22I3bjOSd73H2IPno++L9Ff0k/Ej8b/tm+pP7gv0q/kX9OPnU8RXsGOvi7F7wpPXk+P/32/fN/EwHjxouOH5TplqDTTg9JDPNJjMQxvZB5cHajNNl1GHedOS73BnR4M+x117fa+d99tQKjBvlJnU0GERtSEA6ZCXvFncNSQRF/VP4pvD/5mThE+A/3WvWjs4qy0DQo9yO7B7+7Q5fGoogeSazK6oqyiMRHFgUFw1oCq0LIgkYAFD1tesW40zdLdsY2rfZoN1T58v0DwPYDcoSqRVZHM0mjTDHNXgz4CiPGkQOAATA+JDrDN500wHRvdd84UToBu3d8lr6xAPhDrwXmxrpGHYWlBRREoMNbQSc+Ijumeh65vDnGOtF7KjrD+7L9GP7l/4D/0L+vv1//kD/Z/63+yb3Z/EM7w3zbPiN+Uf4t/dl9tf0xvZ++rL9ywmmJ3ZJ4lZoTtBDQT4sMNAUn/uL7TfgvM98zAPdGOvt5A/ZhNrU4EzdD9n+4i/0TP+/CfAeqTf3QtI+AzbgLHUflg+dBH/+ofZ/7Z/qcO5q8ITrkuKr2TjTd9Ja2BzhlukW9BsDoxN+IB8o8irjJ0QfahaNEiQRtwzIBlUEVwN//qv3YvOU7izk9tgL1r7ba+Nv6hb0SwPWFkwpRTTWNBEtPyF5FdsMrwYn/4D1AO/Z7/7zp/Sa8GzrkOcm5irpN/F++v0ABwb/DNAUcBiFFbQNoANF+RPxHu0G7TPuxO7N7w3z8/d7+yT80vrk+Hr3//fe+r79gv2W+pz4afmu+nX56vYp9sb2gPX18obzhvcP+1QA5xD2LetGuUtyQuM85js4MNQXGwOG967pDNr02e3orO6q4m/ZFt9o5HneG9lt3mLmY+qq84MJDyGbKyIrRCzJMPMuBiTpGJwRnghR/cP34flj+/b2FvBX6q3lJeLj39zdc9wM3uPjr+0b+4MJZhO+FjQYyBucHhEcSRU1D5ULqgi7BgEIHwoEBzb+3vZr9CvxuumA5CDoT/Eg+Sf/NwaqDKUOFw2tCzgK1gVM/0v7GPz3/jwArP9k/zwAFQGQAMf+PPw4+Vn2OPU+9z/7f/4AAP0ANgIGAhv/A/ur98v0pPG1777wqvOJ9l35ePwD/0gAhADQ/x7+DPz5+SP4z/el+Xv7t/sY/Jr9Bv5s/Cf7ovq9+RX9ngzHJCo1izWiMWc14zjPLuwbtA1OAmrwjt9S38Pq3+2J5Ynhgeht7wPuBemS5nHl4+Ma5r7wzACDDVoTTBi3IVMr+SxhJucdmhbMDVcDzfxF/Yv+1fkl893yevfb9+Dxdex76pzn2uIN4o3oW/He9hv7iAPVDs0VghYKFuUVgRKqDDgKZQuMCtQGkQSpBP0ETwZrCSkLqghwAxL++fnz97r2nvNV76Ptte9W81b33PtY/3gAtAClAQ8DGARJBD8DsgFFATYC0wJyAl0BA/+T+/z48/f29nT1j/R39Bb0IvTI9Xj4lvon+xH6hPg7+Gn57fkI+S/4bPhd+Uv7+v00/yr+2fxU/Kv73vr3+mz8HgIOEOghsyvyKkcrGzJFNEApzhkzELkHFPmf6pLmG+r06oTnq+Yk6/7vdvCj7ZzrOewS7bXr3Oqd71H5BgKUB/ANghahHNsdYh3SHDEZPBHaCKADCQEP/zn9w/ve+tL69Puy/db9fvoI9dfwlO4J7NLpSOvB7yXz1PVg/I4FWQu3DIEOnBH9EdUOxQtoCgoJHAdDBtEHfQuuD2kSgRKHEP8MlAd4ABT5ofJC7eHoGube5cnoQO6n9HL6TP9wA7sGkgjmCCUIowY9BCEB0/5//vf+l/7W/cr9sv2p/Nz70Pui+s/3pPX79F/02vNo9VP4BfqK+hj8l/4YAKD/1v3Q+7r6Nvog+SP4FPlL+2D8kPy7/p0EaQ46Gqgi7iOEIiclcygGJBkZbxBlC7gDwPiO8BvuG+6X7dbsBu3o7rDxJfNY8k/xpPG88dnvNu3i7KbwJvdd/ZkBXgWkCs8QnRUQGIgYNxczFAIQoQsxCNYFJwNw/8H82fwS/kL+gv2p/D/7XfnP9yn2zvP48cjxKPJM8iXzFPWr91f7bADxBK0HjwngCrAK4wmwClYMngwyDJ4MLw0jDWsNnA25C+kHrAPf/lH5y/QE8j3vmux17NzupPHX9HX5Hv5RAdwDTwZwB7sGRgVwAzkBWP/u/VT8D/v3+kv7P/vo+wb+GABRAVoC9wL6ASQAu/4V/cb6IPmQ+JP3BfbI9TL3X/jk+Mn5S/uc/C39tfzc+1f7k/uy/XwDDgxREicUOhYdHCch+R8TG68XDBVyD0wH3P9a+vn1WPKd7/ft9+1h70/xAfO/9Mb2tPjh+Zn52/c19k322/fM+IT4tPgz+3D/ZANzBoMJwww1D0sQnxA/EL0ObgwsCpQHDATlAHD/x/6C/TD8PPx1/aP+0/5O/r79af2Q/NL68Pif96H2HfbG9jv4Rflm+iH92QAMBOwGXAp3DeEOEQ/JDiwOCw0FC4gHGwOI/wn9ZvpW9xT1L/QK9Nf0cfbn9/D4fvp4/Nb9r/6I/6z/c/4t/Qn9If21/Kn8Rf3i/X/+fP9sAJwAhADMAAkB/QDlAJwAGADE/xgAVAC4/5f+4v2m/Tn9DPy6+kL6Qvoe+vn5rvro+4T8qfw5/U7+3P9yAgcGOgn4CoYMKQ8VEqMTQhPZEUsQpQ4yDM4IOgUeArj/pv2r+7H5I/h690r39vbG9nr3kPgU+Qj5FPkg+RT5OPld+Sz58Php+Wb6Y/uE/Pr9TP9UANYB0AP9BDoFjgVDBosGHwaOBRYFqQTcA7sCmQHZAFQAlP/H/mf+c/5z/mf+o/4n/4j/6P94ACEBjQHWAUICuwLfAscCuwLrAusCowJOAkICNgLKATkB5QCQAOj/QP/T/lv+vv1F/RX95fyQ/Gz8hPyQ/Jz8wfz9/C39Xf2+/Sr+i/73/nz/9P9UAKgACQFFAV0BaQFdASEB2QCcAEgA3P9k/+v+W/6+/S39zfxs/Az83Pv0+wD8GPxs/PH8jv0q/uv+3P/AALIBrwLEA6kEagUrBvgGfAe5B+kHAQjRB3AHEAd/BrIF2QQMBBsDBgLxAAAAA//u/f38MPxj+5b6Bfql+Tj55PjY+PD4CPk4+aX5Kvqi+j/7DPzZ/I79Tv4n/9z/eAAVAaUBBgJOApcC0wLTArsCrwKXAloCEgLiAbIBaQEtARUB8QDMAMAAzADZANkA8QAhATkBRQF1AZkBsgGyAcoB1gHKAaUBpQGNAVEBIQH9AMwAeAAwAAAAxP9k/yf/9/67/mf+Qv4q/gb+4v3i/fr9+v0G/jb+c/6j/tP+J/9w/6D/3P8kAFQAYAB4AIQAeABIACQA9P+s/0z/9/6v/kL+4v2m/Wn9Lf39/An9Ff0h/VH9sv0S/n/+A/+g/zwAzACBATYC0wJXA/QDhQTlBDoFjgXKBcoFygW+BY4FOgXZBG0E6AMzA4sC1gEVATAAcP+v/uL9Ff1s/Nz7S/vG+n76Tvoe+hH6Qvp++rr6G/uf+zD8qfxF/e79i/4P/6D/MACcAPEARQGZAb4B1gH6AQYC7gHiAdYBvgGNAWkBXQE5AQkB8QDlANkAtACoAKgAnACQAJAAqACoAKgAwADMANkA5QD9AAkBCQEVASEBIQEJAf0A8QDMAJwAbABIAAwA0P+g/3D/NP8D/9/+0/6v/qP+r/67/sf+6/4n/1j/fP+s/+j/DAAwAFQAbABsAGAAVAAwAAAAuP98/yf/x/5z/ir+4v2a/V39Lf0J/fH88fwJ/SH9Of11/cr9Kv6L/gP/fP/0/3gAFQGyAU4C6wKgA0kE2QRqBeIFNwZbBmcGZwYrBtYFXgXZBCQEVwNyAo0BnACg/8f+7v0h/WD8w/sz+7r6Wvoq+hH6Hvpa+rr6J/uf+yT8qfwt/ab9Kv6j/hv/lP8MAIQA5QA5AXUBsgHWAfoBEgISAgYC7gHiAb4BmQFpAUUBFQHMAJAAVAAMAMT/fP9M/zT/NP9Y/5T/xP/0/zAAeADAAP0AOQFpAXUBgQGNAY0BXQEVAdkAkABgAFQASAAwAAAA6P/c/8T/rP+U/4j/fP+I/8T/AAAkADAAVABsAGwAbABsAEgAJAAYACQAJAAAAOj/6P/Q/6z/fP8n/6/+Tv4G/r79Xf3l/IT8PPwY/Az8JPwk/Bj8PPyE/LX8wfyp/IT8ePzN/Kb93/5UAAYC9AP7BcUHLgkfCmgKLAqzCRYJVQhkB2cGagVJBDMDHgIJAej/3/4S/nX9/fy1/Jz8hPx4/IT8hPx4/GD8VPxU/Ej8SPxU/GD8bPyQ/Nn8Lf1p/bL9Ev5n/sf+NP+I/6z/lP+I/3D/cP+I/8T/DABsAP0AsgFOArsCuwJyAtYBLQGoAFQADADo/wAAbAAVAdYBcgKvAn4CKgLKAVEB2QBUANz/fP9Y/3z/xP/o/+j/0P/E/7j/0P8YAGwAtAAhAZkBBgI2Ak4CHgKlAf0AYADc/0z/3/6j/nP+Tv5b/q/+D/9w/9z/PAB4AJwAwAC0AGAAxP8P/0L+af2p/Bj8k/sb+9L6xvre+tL6xvqK+h76pfl1+bH5Wvqr+779eACgA/gGHwqeDCwOvQ5pDiMNQQsWCeAG2QQbA8oB8QBUAOj/xP+4/8T/6P8YADAAAACU/9/+1v1U/Ir6wPga9+31jPX59er2X/hO+mD8W/4AAC0BvgGyAXUBOQH9ALQAVAAAAKz/lP+4/yQAhADlAIEBWgJLAxgEnQSFBOgDAwMeAlEBhADc/3D/WP+4/5AApQGXAjMDcANkA98C7gF4AJf+hPzG+sn5sfla+rf7df1M/wkBfgJkA4gD6wL6AQkBVADo/9D/xP/E/9z/GABsAJAAnACQAHgAYABIAAwAfP/H/jb+7v0S/ov+G/+U/+j/GAAwAPT/TP9//rL9If3l/PH85fx4/Lf73voR+mn5CPks+eH5Y/u+/dkAMARwB1wKzwyNDpYP3g81D5wNTQuSCKYF0wJ4AN/+Bv4G/tP+MACZAaMCAwNmApwAyv1m+t72evO+8AzvcO4A777wbvOV9rH5hPz3/rQA1gFyApcCNgJ1AcwAbABIAJAAaQGXAgAEpgVwB/4I7wkfCoMJDQjWBXADIQED/3X9zfwV/R7+6P8qAlUE7wXgBhwHfwYWBScD2QBb/tz77fm0+CP4R/gs+a76hPyL/ngA7gGLAloCgQEMADb+nPyf+2P7APya/cT/4gGIA6kECQVVBKMCeABb/oT8Y/sn+5/7YPwh/fr90/5Y/1j/6/4e/i39ePww/Dz8YPyE/LX88fwt/VH9Ff1s/JP76vq6+mP7af3AAG0E0QcdC4EOPBFpEhUSzxCNDnELegiXBsoFggVeBWoFmgXKBYIFMASNAQb+4fmw9Rzy8u/o7ljuQO5t79Txm/Qa9yD5cvqW+vn5dflp+Y354fnG+oT8u/5dAakEVQhZC54MegzRC+wKawlwB6YFPQQPA8cCxANeBU8GKwaCBXkE3wIJAbj/TP9M/0z/ZP8AAC0BKgIeAi0BPACU/9/+7v0J/VT8t/uf+5z8Z/4YADkB7gF+AscCowLiAWwAu/45/ST8q/sk/HX9o/73/q/+Ev4J/Yf74flf+D73uvY+93j4vfnq+jD8Rf3W/db9af3B/Az8Y/ve+or6ovo/+9D73Puf+zP7QvoF+rL9HwbJDtYSrxPNFfUY3RhtFe4SzREgDjEI4gU6CYYMQQvRB6YFAATlAFH9fvpi97ny6+2o6xLtFvDg8Yvx4/AT8UPxN/FA8i/0m/R683f0OPnT/q8CpgVJCAoJAQj1B+MJ7AqnCT0I5giYCtELwwycDc8MRgnNBAYC5QCg/5r9APxX+8b60vot/SEBZAOLAmAAu/5p/Rj83Pvl/E7+9P+LAr4F9QcBCEMG0APiAfEAwADlAF0B4gHuAcoBHgLKAUD/S/tf+GL3eveE+N76/fzB/Ir6zPic+Kj4evek9Qj1cfbA+Mb65fxM/wwAEv57+zb6zPjI9Z7zX/Rl9hf4Zvrx/Gn9Nv6OBfERGRm+Fh4TrBReFkITkxByE2oW7hKoDZkO4hIAEQEIuP+3+/P3AfNn8Zv0lfYB8xvux+1e8C7wvuzD6hXsu+3E7onyNvowAIj/MPxF/R4CtQSRBOwG0QvYDc8M1Q4bFCQVxg/UCmgKRArRB68GAQgEB74Bgv2+/aP+3PtW9yD1yPWT9yr6Kv6lAXUBaf2Z+bH5qfwn/1QAmQFLA5EEdgUfBi4FvgH6/Qn9WP8DAzcGlAdnBjMDxP9p/cP77fmf9+31Qfac+AP7n/s2+pP3m/Tp8mLzXPUy92z4afke+rr6k/vQ+076L/i39+T4Qvrc+8r9Hv48/Pf6P/s8/MoBGBEtIxMobh3HEwAVixceE9sQoRj5HyAbwBHnEPcT2wyp/Ozx4PHC88XyzvP/91n2z+rX3xPgI+fq6Qjo0ulq8IP0FvRc9UL6q/uh9sLzD/uIB7EOHQ81D1cQFA6/CYwKqxAqE70O7Ar/DFoPegzpB3YFQgKQ/I35SPxM/9n8hven9Pv0GvcP+3D/bAAt/aX5pfmc/KD/OQGBAWkBEgIYBIsGZAeaBYsCFQGLAl4F1AYHBsQDzADi/an8jv1//sH8zPiw9aT1k/e0+Er3L/S88XPx6fIg9Rr32/ca9632C/ha+vT7ePyT+1355/d1+bf76vqc+CD5P/u3+9z/rg/KI8goIhoRC94LPRVuGVwbaSMEKagezwzdB+0Ogw3f/iD1Xfkq/oH5FvSP9FvxFOSH2Xbf6O5x9jTypuz964HsLexG8Gb67gGQADn9jQFECsMMnghAB00LLA4sDiESIhpcG/QQygXlBDgK9gs4CiwKFgmZARf4+fWu+qn82Pih9rr60P9w/yf7F/hK95/3lvotAaMGygXAAL79u/4VAWQDsgWLBuUEowJCAicDiwKI/1T8e/vx/K/+x/6p/Kj4L/TU8dHy4/RE9drz1PEi8BbwZPLX9ET1p/S/9CD1gPV99rr2a/RY8vLzlfah9jL3J/tC/if/6QdKHVYu4yddEm0IzRGGHUsh0CXgLJEm7Q76/fEERRJ1DswAUf3lAFf7ne/67Cvxaexq37vcY+oC94bzIOjI5Jbpsux577r6tghfCeX8ZfZ8/60LvQ5TDRsQixPnELcM3g++Fj0VlQvRB7EOxxOZDkwHhQTc/7r2d/Qe/vsF/QCf9+31FPkU+SP4DPzxACf/UfkI+d/+FQFI/IH50/52BcgGWwbFB7sGaQG7/vcCDQjFB7gD0P/l/N76ivo/+wP7zPiw9drzFvQK9EPxu+2j7e/w5vPX9I/0SfM38Y7w3fJB9qv3ofYU9V/0s/R99rH5tfzo/xYJRBsBKu4jIA4DA2kO5B4bJbAoYi4iJ18NEfr3An8XIhqtC+IBYADY+DDraehw8pj1rukQ4R3pGfMe7dffwd7t6IXvZ/Hw+HwD+gHy83PtivqcDTMUSxDJDroP1Aq1BFAKKBj5G7QRXwnqC9UOpwlhBBMGTAelATn9ygF/Buj/a/S58nL6J/9F/fT7hPzw+NHywvOc/H4CxP/Q+5r9+gGUAwwEWwYNCEMGDASCBTEI4AbiAU7+Tv64/zwAG/8w/Av4+/QI9cP3vfnD9yXzgvBz8Q3zbvNf9Mj17/SV8gHzZfZT+Fb34fWz9NrzRPW0+J/7FQEbEC0jOiciFj0E+AaVGKMktSZbKCIn+xZ8/976aQ7zHQwVuwKr+7H5LvBR6DHvvfks9WLmieFa6ULtleUi3zXlLvA983/xUPUD+9720+0E8hYFEhOTEPIIDQi/CRkI1wnEFMwemxrbDE8GTQvGD+cMHwpWDBoMRgUkAE4CbQQYAGP7Cf3MAND/3vre9gj1d/Qp9gP7rP9Y/6765/cP+9kAYQSCBe8FLgXrAioCkQQoB+AGeQRmAmkBzABk/7X8+fmo+Mz4OPnw+AL3JfOR7wzvc/EK9O/08vOk8anv5e+J8u31//c+9yL0TPIv9N72afn3Au8WeSb8HtEHpv0aDDYgNyhkKS4raSPbDGD8iwaGHTkjrxNVBLv+ePiI7n/thPij/i/09uVx5Yvt1uwK47Dgw+rF8iLwf+0l84b31PFC7Qv44AqoERYJ8QBaApoFpgXUCrwXwx3iEtkE2QTMDbcQnA2cDYEOwgjZALQAKwaLBkgAYPz3/pkBc/6o+AX2sPWD9Mv0mfkq/qv7FPUx88P3af39ACcDSwMhAUD/kABJBHwHuQciBe4BYADo/xv/+v2Q/Jb6afmW+vT7Bfrt9YbztvPj9GX2bvcR9rnyXvCC8EDyv/SV9pj1ufJM8gj1//ce/iwOnyHTJOUR6/6XAjoW+iOmJ/IqGSoBGaUBr/6XE6MkXx5TDawDu/6M9UnvifZCAtD/RvBH547sQ/GT6i7jwOcf8cjx7uzc7qT1X/Q867fqHvosCrAK4gGI/1cDJwNmAnoM1xpTGk0LHgIcB2sNIw2DDcARPBH+CDMDBwbjCcgGFQHAAIgDdQG6+ur2k/fq9kf0vPVL+8H8Svdw8trzqPiQ/JT/KgKLAjAA1v2v/jYCwQQABMoBwABUAPf+mv1p/RX9e/tO+qL6ivpH+O/0ufK58rP09var94n2O/RD8XnvQ/Fo9Sb34/S58iXz8vMs9bL92xBUInIg5wxw/2QHZBhjIVglmyscKQMU3/4DA9EYOSNTGskOCgnlACz1QPIw/FUEmv2R76vqte/j8CrpUOTG6QrwcO6a7Enz7fkv9L3oxul1+bsGNAd8A6kEIgVY/6b9UAoKGi4atA34BjgK3gtTCeoLBhOZEuYIAwPUBgcKCQWI/5kB4gXQA3/+Rf3W/Zn5YvPO8+35qfzw+Pv07/Rl9kr3jfk2/gYCjQFz/o79YADrAhICtACyAXIC3P/B/OX8pv1j+7T44fkJ/an8U/hr9DHzAfPp8jv0GvcX+O/0svAW8NHyg/Ta8/LzHfbq9r/0TfZkA9YWdR/0FP0E4gF9CxgVvBu7JLYq3iB9CyEB6gtEG+occBSlDtQKIQE19sb2wABXA+T4Ye/48Tv4dPW+7LrpBu277Tzr3O7t+cf+UPUD6tbsdfnAAI0BBwYmDDEI/fyr+54I3xONEsMMSgxHDRYJ5QTaCGMQYxBfCVgH/ww1D0kImQE2AksD3/5v+7v+LQEb+4nyH/H79JX27fV690L6CPl39HrzqPgG/ir+hPzH/osC7gE2/rL9GACI/9z7Y/tY/4EBf/6u+gX63vpm+oH5Hvq6+tj4jPUW9CD17fUU9Uf0FPXh9eP0SfNW8+/0Hfb59Z/3AAD5DiAbIhqxDqMGwgiNDjYTpBtqJ2QpIBvUCmEIug/KEuoP4Q6uD5gKAACx+dz7Bv4X+G3v0O7I9aX5Qfa58onyte+x6AvnvvDZ/HD/jflE9X32X/hf+D/7ZAN3CXMGJABRAXoIQQt6CD0I6gueDLMJOApaDzARuQsiBQAEuwbpB68GuwYNCKYFu/7h+T/7jv1v+y/4bPj5+RT5SvfD90X5IPm398/3cvri/XD/3/4q/tb9hPzq+sP7c/5A/5r9nPzl/CT8Bfrw+KX5ivpa+o35RfmN+Sz5k/cp9on2n/dW98b22/fJ+R768PhT+Mz4Xfks+eT4uvotATULlxOFFQkS5A0CDK0LFw05EjoaCB8dHAwVDBHDEPkO7wmmBWEE9wLE/0L+2QA/A6D/Jve+8M3vE/GX8d3yHfbn9wj1jvDy7z3z1PXt9R32bPgP+5z83/58A3AHrwa7AgkBPwM3BukH+wm3DF8NEQv+CI8J7AoHCjQHdgXKBWcGEwYfBkwHTAcYBKz/Uf3l/Bj83voD+wz8t/vh+Qj5Hvr3+rH5k/du96X5DPxR/Zf+hACZAZAA3/5z/g//A/8S/i39tfwM/Ev7G/uH+1f7KvpF+cn5A/t7+z/7A/ui+o35U/hH+Gn5ivrq+g/7e/vc+6v7V/t7+6v73vrh+ZP7RQExCJ4MCA4gDpANxQubCWsJrQvwDQgOwwx6DMwNyQ7YDX0LzgiCBQkBCf3o+3X99/5//gn99PsD+7H5wPjM+JD4xvaD9CL0KfbM+KL63Pv9/HX9nPx7+xj80/6BASoCgQGZAesCbQTvBekHpwlrCQQHkQTEAyQEYQQ9BFUEtQTNBKkE8QTWBWcGXgUPA8wAfP9n/v389Pvc+wD8M/s2+q76qfwe/uL9qfzo+/T7VPzZ/OL9WP9IACQAcP8n/zT/3/4G/lH98fxI/Ev79/p7+8P7J/uK+gP7SPw5/Y794v2L/t/+i/4S/gb+Tv5b/hL+7v3K/Wn9Ff1F/ab9gv3N/Ej8DPx7+/f6GPxY//cCIgUrBkwHnggWCdoIUwmYCuAK8ghzBrIF7AY9CLYIIgmPCZ4IygUPAx4C+gG0AHP+5fwM/AP7+fla+uj7wfy3+9X5qPhT+Ef4zPha+nj81v0q/q/+PACyAdYBOQFFAeIBygE5AeIBAATKBSsGygVqBXkEuwJdAWkB+gGlAUgATP+I/5AAaQGyAbIBmQEVAQwAD/9//hL+df3Z/LX88fwJ/RX9Uf1d/RX9Cf2O/Vv+6/5w//T/9P80/07+1v2y/VH9Cf1R/e79Nv4q/jb+u/5M/yf/W/6+/fr9f/6L/lv+r/6I/+j/iP9w/wwAwACQAJT/i/7W/UX9zfzB/F39Qv6v/n/+W/6v/rv+jv3D+3v7jv2QAOsCkQRzBnoIvwnvCe8JUApECtoIfwblBPEEBwY0Bz0IFgnmCBwHeQROAqgAu/6E/Mb6sfl4+Or2KfYy93X5S/sY/FT8nPzB/Kn8tfwt/Y79gv2C/Sr+TP94AJkB3wKUAwMDvgEJAS0BIQG0AJwARQGBAWAA3/6v/tz/5QD9AKgAhAAAANP+Ev7T/lQA5QA8ANz/VAB4ALj/9/7r/q/+df08/M38u/4kAEgAJABsAJAADACg/wwAnAAYAMf+Hv7H/qz/9P8kAP0AygF1AVQA3P9sANkAhAAwAGAAYACI/4v+Tv67/uv+o/6L/gP/iP98/wP/r/5//gb+Uf0J/Wn94v3K/UX9/fwV/dn8APwP+8b6n/vu/Y0BpgUKCRELxQu5C1kLsArXCc4IZAeyBfQD9wIzA1UEdgXKBUYFGASjAv0AfP8S/jz8yfka9+/08vNH9Lz1C/iW+mz88fxg/GP7cvqx+XX5Bfoz+5D8+v24/x4C5QQcBz0IPQhAB5oFrAPuAZAAiP+X/gb+Ev73/mwAEgKIA5EEtQTcA1oCzACU/9/+0/5Y/xgAnADZAP0AFQH9AIQArP+j/sr9df2+/Yv+oP/AAHUBjQEJASQAQP+v/ov+x/4D/9P+Z/4S/hL+c/4P/5T/uP98/0z/iP8wAP0AaQEtAVQAWP+X/k7+Tv5n/lv+1v3l/PT7V/sz+5P7YPxd/fr97v1p/dn8hPx4/Ej8n/tm+kX5LPne+n/+MwPRB1kLgw2NDu0O4Q6BDqgNGgyzCeAGSQSXAgYCiwKsA5EEhQRLAy0Bu/5s/Jb6/Pg+9zj1PfPg8ezxzvMa99L6sv0n/yf/W/6C/V394v3H/oj/MADZAMoBZAOOBd0Hpwl0Cu8JDQhGBWYCGADH/n/+3/5k/6z/6P+EAKUBDwMYBAwEiwIYALL9SPw8/BX9Qv4n/4j/rP8MANkAvgFmAloCRQE0/8386voq+sb6kPzT/pwAXQEVARgA3/7K/SH9tfxg/Bj8SPz9/Cr+oP/lAHUBIQFIAIj/A//H/rv+l/4S/kX9kPwk/Az8VPwV/fr9f/6j/nP+Ev6y/ab91v2+/Qn9APz3+h76jflR+Wn5BfrD+1j/tQS8Cj8QGxS1FRgVThMYEb0OJgyPCSgH/QRkA5cCxwJwAzAEnQToA5kByv1d+Tj1BPIi8JHvwe9S8IvxqvOh9gX6jv2oAH4C0wL6AZwAZP8P/zAAcgIJBWQHXwngCuoLkgzDDN4LpwlzBvcCxP9R/QD80PsY/GD8nPy1/IT8SPyE/An9Uf0h/ZD8w/v3+qL6M/ts/Pr9uP9RATYCZgJaAloCHgKZAeUAAADT/rL9Of2m/X/+cP8wAJAAVACs/6P+Lf2T+2b6BfoF+mb6b/v9/Jf+AABFAQYCvgFUAH/+Ff2E/M38af2+/Zr9Rf0J/f38Rf36/aP+f/6C/TD86vrV+SD5FPlp+VH5kPgv+KX57v21BLcMZBSPGiMeLx7jGuUVMBGcDdQKVQgHBtwDBgIVAcoBGASXBuAGlANp/Yn2mvAh7JbpoukJ7FXvKPKD9Pb21fkJ/WAAVwNqBbIF0ANsAMr97v3lABYFRgkjDd4PYxDhDtsMHQtTCdQGxANUANn84fn/97f3afl4/Ov+3/7Z/Lr6RfnP96329vZ4+O35A/uQ/DT/lwIfBi4J+ApZC3QKSQgiBVoCdQHWAZkBkADc/4j/o/5d/cH82fxg/AP7/Pi69r/05vNr9OH1L/hX+0L+rP8YAMAAjQE5Adz/o/6y/Wz8J/vq+tD7Of3H/vT/JABY//r9JPz5+V/4O/i0+JD4F/hs+Aj5nPhi94b3xvotAY8JORKqGfweYyEpILwbXhYVEhEPbgzvCSUIfwYkBHUBDACcAOIBgQH6/bf3mvAb6u3k9eGS4s/m4uyJ8ib3D/tO/pAAQgLcA3YFBwbZBIsCIQFCAlIF5gieDIcQrxP3E8MQoQtzBvoBW/7Q+8b63vrS+r355/f29rf3/Pg4+YT4n/cd9nrzK/HI8Sn2hPzTAkkI5wyHEPoSDxRkFHAU9xOEEaoMKAfrAvT/Uf2T+5/7nPyQ/N76nPje9sj1UPWk9cb2L/h1+RH6ovok/Jf+YABsALj/G/+y/a76w/d69+35zfx//kD/uP/o/0D/1v2p/Kn8Uf0V/Xv7sflH+GX25vOV8s7z+fVx9nT1QfY/+wAERA5YGHshTyh6KoUmLx5tFQUP+AqGCAEI/giPCYgHGwNz/t768/d39CLwkOsv58LiLt+d3p7iJ+qh8mb6/QCCBaMGYQTxABv/6P+XAvsFmwlfDZMQ/RH9EVESixPrE5wRCw2hB+4BGPwm98v0sPW0+ND7Rf2c/EL6ofYc8vftUeyj7S7wufLU9e354v3AAKwDPQhcDogUJRlQG/sarRj0FLoPvwmdBMwA/fyQ+LP0WPKC8JTuD+4i8MLz9vYI+Sr6D/tU/BL+oP+0ACoC0APoA8oBTP8S/o79zfyQ/Mr9fP8YAJT/0/5//rv+J//r/vr9Xf1F/QD85PgR9jj1XPW/9P7zd/Sw9fn1CPWD9Lr2df1tCFUVbyE7KxExjTDsKGIdjRJoCi4FSwPlBCUILAouCS4FJ/+o+PXyM+726avmpOQ74z3i8uLP5irta/TD+6MCTAcNCGoFjQGX/hL+qADKBSYMjRKvF/4ZlRgzFGkOGQgGAjn9Wvqo+Cb3vPX79Mv01/RE9TX2Avfe9iz1BPKg7srsc+128Fz19PtXA48J/wyQDXoMNQtBC9gNKhPOGYEfJCJaIOYZ3g8YBPD4mvAJ7JPqn+ps6x7tze8l88b20voD/3ICPQQkBJcCYABO/iH9jv18//oBoAN8A74B0/4n+5/34fXe9qX5kPx//qz/GACs/1v+nPwD+3X5k/dc9bbzMfNu8yL0pPUX+Fr60vo2+j/7PADCCBIT5x1zKNUwhDNuLoEjWxdHDY4FVABM/xsDbQgfChMGW/759d/t3uVe3+vcLt9T427m+egq7bnyJvf5+Zr90wL4BlgHRgXoA1UEjgVAB7AKkxA3FxMbUxoiFm8QRgmEAHj4R/RT9DX2X/iK+rf7Zvqt9onyke/37dPtSe8c8tT1vfkJ/WT/4gEiBVUIXAqhC88MXw3bDP8Mug/EFDoaax5OIJAe+Be3DA//HPKx6Pvjj+Pz5k7tX/QU+Wb6Efq9+Wn5OPly+vr9TgIuBe8FggUJBZEEoAM2AqgA0/70+0f4RPUv9OP03vZC+pf+EgI/A+4B6/4b++r20fKd73zuRvD+82L3LPkR+h76X/jv9Fjy2vMP+xwHbRUhIz4uBjW+NJsr3hylDmEEyv0/+3/+NwbnDOQNRglpAZP3Xeyh4VTa0tj33FPj7egD7ubz/Pje+g/7Of1dAT0EzQReBTQHFgmMCs8M5xAKFrMa3hxoG8oWAhAcB/38XPUx8wj1w/f3+mT/iwLlAK76kvMn7sPqoul46xbwWfa1/HUBJASyBa8GfwZqBZoFxQcHCjULqA0GE1UZeh3wHpweUBtOE/gGXfnH7QLmVeLO4rTnRvAs+Vv+x/7N/Ir6F/gF9on2A/uNARwHBwqkCkYJygVsAK763vYF9sb2Gvf29qv3jfmr+0X9o/70/5wAoP/Z/Dj5yPW58l7w8u8Q8mj1z/eo+CD5LPkO96HySe9/8br62gjRGGcorzXjPIs5dytwGKEH9Pt09aT1+v1BC8EV7BfNESsGAvc+5o3X7M/y0TnbVuYu8Pz4VADfAoj/lvpF+Vf7af0P/68CngjwDZ8QwBGXE74WSRkxGY4WshJ3DY4FMPzh9Sz1//dL+yf/0ANzBrgDAPy58qvqQeV341bm6+3M+IgDpArnDKEL3QcSAmD8Kvqp/L4B3QeKD3AYmR+cIm8hSh0iFsULcP+282zrnOeo55/qLvBi9y39c/6H+z73SfPl71juE/Fs+F0BSQjFCxoMswnBBO79Svdi8wHz+/T/97f79P/fAgMD/QDr/rL9bPxm+iP4ffZo9Tv0DfP18mv0QfYm92L3//ds+Lr2SfOk8aT1oP8LDYwb0SmXNWQ6sjToJbsTiAN69x/xDfP6/WsNehkyHUwYbgxL+2vnL9ZtzWfPP9k+5rbzYABTCfgKXgVF/Yb3+/S/9Er34v00B34PJxSdFSIWshYuFq8TkxCNDsMMnghCAhX9Y/sw/F390/4hAQ8D7gGp/OP0Z+0I6E3l9uVI6yz1YADaCDsN5A0FC4UEnPwy98b2xvrKAR0L2RV1H9MkcyREHwcXngzAAID1u+2T6sPq1uya8Jj14fk/+5n5lfa287Dxc/EK9NX5IQFAB+AKJgxNC4gHtAA4+Uf09fL+8wX2CPkV/agAvgFgAGf+Rf0w/BH6z/cy98/3bvcg9fXyufJ684bzDfOe8wj1aPUi9MLz//d1AWsNJRlaJG4uCTQRMdAlyhaeCIL93vaV9nX92gijE90YXhbnDIv+0+0x3inUp9Le2F/jbe8P+6wDiwZkAwn96vYl85XyXPVv++gDbgx1EhgVhRXQFNYSig96DOwK4wmUB/QDnAC7/u79yv3f/i0BMwPfAkz/vfny88Tuq+oF6WDrvPHV+QkBcwbjCbAKAQi7Aqb9P/sA/JT/ygW9Dt0YGyEDJRIk2B7NFZsJVPz78Cfqjej06uXvQfZI/Kz/D/9v+1b3O/St8nrzt/ff/nMGGgylDvAN+wlwA9D7dPUc8uzxtvNN9tX5Bv4hAYEB3P9z/u79Of3D+0L6/Phu9yz16fKk8eDxJfOP9KT1ofZK9xr33vYg+ej/RArNFQIhziqlMLQvUicWGvYLMADw+Kv3hPyCBZkOThOEEdcJsv3Q7jfgU9b504rYfOGO7Lf3hACdBFcDo/6B+fn1v/T59U76dQEuCckOtBEGE0ITIRL2D+QNVgy8Cm0IUgXWAdP+wfyr+8P7Rf2I/7QArP+c/Av4+PF465DnUeha7cv0Cf3NBFAKbgwRCxwHKgJO/sH84v0SAr8JixNBHIch8SJaIDEZ/A2+AUr38u8h7PHr9O7O8+T4VPzZ/K76q/cs9WLzJfP59QD83wJ6CD4M8A2eDD0IEgIA/Ib3aPVc9X32R/jq+sr9iP8AADAAnABgABv/af2r+135Nfbp8kbw6O4x7wfxnvMR9ob35/cX+Cr6xP+GCPoSCx5DKMMubi7NJpsagw2LAof7vfk5/ZEEbgz0ECcQHwro/5XysOR42gjXSNr14c3ryPWm/XUBwAD9/OT4ffY19pP33vqcAK0Hgw30EL4SxxPrE+4SVBF+D/MMUwmpBKz/h/td+Qj5pfne+i39iP+4/5z8Pvdb8WnsxunD6mHvWfYe/v0EOgkTClUIIgX9AHX9nPxY/2EERAqrEAcXKRzYHqgeaBs9FecMJwOc+NzudejD5vnoc+0l88D4bPw5/Qz8NvqE+M/3LPnx/DYC0QcmDJwNcQvUBoEBSPy39+/04/Qm93L6vv0YAAkB2QAwAED/Bv7Z/AD80vpf+CD1ifIr8YLwavCX8SL00vY7+F/4FPm1/BgEzA1AGGAi2irnLuMrYCLNFb8JSACu+gX6W/5qBbkLwA37CfEAv/TY59PchNac1jbcvOTr7Vn2qfyg/3D/Bv5F/Qb+SADcAwEIZQvzDF8NRA5XEO4SDBVeFo4WZBQdD60HDACZ+e/0JfOz9Kj4kPyv/jb+A/vh9Wrw/euK6SfqrO419h7+eQQWCa0LlQv+CMoF6APcAwkFyAaeCDgK9gtpDpARMRW5GKca9Rh1EukHV/sA73HlyODd4djnsvCl+ZT//QDr/nv7I/hl9jv4Ev52BYkLKQ/SD2IMUgXK/dj4rfYF9n32R/gR+lr6IPnb9xf4HvrZ/Pf+JAB4AA//0vqn9CXvFezB6xvu0fLb9zP7GPwD+4H5uvoeAh0Ptx16KhU02TdXMkIkrxMfBrL9lvqQ/KUBrwY6CRwHi/4r8YzkM92o2sHaiN1r49Lpx+1V73PxNfbl/IgDCgmcDZ8QbxCSDA0IZwbmCHUOhRX5Gywfwx3gFyAO7gEa90PxRvBb8THzvPWG96H2nvPX8M3vvvDp8iD1lfbz9xH6MPzi/dkAyAYUDrsTphY3F2EVJBHFCygHtQTxBCgHRglcCkELPgxNC4gH9wJw/+j7Gvdk8oXvfO7o7h/x+/Rd+S396P85Af0AMAAMAMAA+gGsA7IFiAfFB14FIQEt/aL6kPhN9gj1yPUC9w73lfY+98D4EfpX+6n8Rf2Q/NL6X/hc9fXyrfIK9Gj1EfbG9p/3t/et9mX23vrUBhAYTyjcMv43pjiHMgYkLRI6BQAAl/61/KL6NvpO+sP3sPE86yzo5Ocm5gThKtwG3OPfsORI69L2HwaNEq8X1BfKFtAUwxCSDIkLIA7AEQMUPxR1EmYPbgyDCSIFr/6r91vxDOuA5E/g0eFd6NnvIPXw+LX86/6C/Tb6pflp/YsCWwazCWkOQhOpFakVbRUiFiIW7hJWDNkE6/66+ob3NfZH+M38/QAPA0sDNgLE/yT8//ez9MLzyPXw+JP7Hv6yAfEEygWdBHADxwL6ASEBtACEAJAAOQHKATkBPACI/wb+Zvpl9l/0evMc8pfx8vML+Pf6DPz9/Fv+NP9//sH8V/vG+k76XfnM+BT5/Pgj+J/3bvf59drzzvOY9av3yv13DVQigTCyNKM1HjUULC4agAowBAkBWvoB84LwpPFA8ovxB/H78F7wEu2t5RvdY9kb3VDkIez29tYF1hLsF9QXYRmtHPkbOhZgEVcQsQ6PCeIFbQhfDSAO4ApAB04CIPlA7mvnfeUd5a3lveiX7QTyHfZL+9kAwQRzBrsGTwa+BaYFcwbyCJANjRIkFcQUKhPDEEoMBwZ4ADz8z/fp8tnvCvBk8vn16vqoAPEE+wVhBHICjQE5AcAAhABpAd8CSwNaApkB+gGjAk4C2QDr/v38S/uK+pP7Tv4hASoCOQGU/7L9G/sX+NT1v/Ty8xnzDfNH9Fn2/Pi3+779o/7T/mf+5fwz+676A/uW+l35tPh4+Fb3pPWn9CL0bvP18vXyCvQq+l8J2x0pLWAzDzZ5N+0wZiBjEHcJBwbZ/Cvxsuyp7+zxpvBq8AHzPfPi7IbiqNpj2azd++Po6rP0mQGqDOURABWwG9kibCKnGg8UnBFfDaYFBgLUBtsMDgz4BgAEEgJU/KrzNu0n6kfnB+RT4/Pm0+1l9vf+7wWAChcNtA0CDO8JLApiDMANwA2NDsMQURI5ErQRABEgDhkIbAA4+c7zsvC17wrwvPG89QP7QP9mAlsGdApxC6oIggU9BA8D2QB8/1QAmQFdAej/o/6O/TD8ivog+YT48Pj5+QP7SPxC/ngAUQGQAOv+2fwF+sb2X/Se89rzL/S/9K32+fkV/dP+3P/AANkATP/x/A/7afli94z1p/Q79KrzGfPF8sXyVvNH9Iz1fvrpB2gbwipRMK4xwTPVMLIjPxTPDLMJYAAo8m/qOewx75TurO5w8oP0Se9x5YXeqd7+4vPmh+rg8b79nghQDu4SjBsSJAYkERx5FaMTSxBtCBsDjgWPCewGeAAq/pT/Xf0R9s3vQu2H6rnl/uLe5V3sAfMg+Uz/UgVQClMNFA7kDY0OZg/wDewK7wnqC8wNIA6NDloPkA0BCF0B9PtK97nyMe9n7Vrtee9r9Hv79wI6CSMNdQ5EDswNtwxECkAH2QSLAnz/kPxX+4f76PsM/DD89Psn+4r60vr0+7L9iP+oAOUAwABIAJf+w/sU+d72IvQr8bXvgvB98vv0bPgw/Pf+nACyAcoBbAA2/tz78PiY9SXzEPLI8fjxZPJ98ljyMfMU9T73Cf1BCzsehiqkLFktNjGQLy0jghbuEhsQrwJD8avqfO6C8H/tf+2V8pv03O475x3lIOgM6/Hr9+2P9Ab+jgW8CnUSCx5JJvcknB5QG3caSRUODK8GKAfKBYv+//cL+Pn56vYT8XDux+326UTkLuPM51rtW/Hh9fT7BgIcB6ELTg+QEZkS5REFDw4MiQuSDD4M1Ao4CncJTwbiAff+Cf3h+dT1ZPKd76PtWO408lb3Cf0wBIkLig/eD4oPig+0DVMJYQQ8AGz8Xfkv+FH5b/st/RL+l/5Y/9D/A/+C/eX8Of3B/JP7w/tR/b79VPw/+z/7Efre9v7zbvMv9Pv0NfaQ+J/7c/5UAPEAhACI/2n9yfnI9SXzsPFq8M3vy/CJ8s7zRPWT98n5yv0xCHwY6CV6KpsrUy+BMLwoeh3sF1gUtgir99Ptx+0P7lfqEelO7S7w1uwg6GnojuyF77XvFvCq8xH6kABDBvAN3RirIXgiFx4dHMUcSRnbELwKgwlnBjb+O/j5+YL9b/uV9iD14/SO8J/qounW7PftFeym7BzyLPlw/7IFSgxIEU4TEhPNEW8QZg/YDeAKQAedBA8DUQFk/5f+i/4h/b35Nfb+8wHz0fLm83H2sfnZ/GAAzQQ6CUoMkA1HDUELoQe4A5AA1v0P+/D4L/ic+NX5APwP/+4BoAP0A98CCQFA/7L9t/uZ+VP4w/cm9wL3O/iZ+YH5hPiE+CD5/PiQ+I356PvK/R7+df05/eL9Tv6C/VT80Pve+i/4OPUi9Ef0L/Sb9GX2zPji/bMJ2hlYJUApaCxOMV0whSa5HNEYshIzA4nyhOuo6wPq8+bh6Kzu1/DT7cHrG+5D8Zrw+uzc6vrsKPIX+Ov+YQhaE7Ma4Bs4G0odIB/vGo0S2wybCa8CCPl09Y35SPzk+Pn1F/iN+bz11PHp8o/0f/Ee7XPtyPGA9Wz4If2sAyIJbgy9DjARNhNOEyQRqA0HCq8GfAPMAFj/D/9M/wP/yv14/FT85fyp/Ff7ovpj+1T85fw2/swADwNXA5cCiwLHArIBfP/W/ab9mv3Z/LX8Z/6QACEBwACNAT8DuAO7AtYB8QDT/qv7IPnD9/b2lfbS9nr3R/ix+dD7yv0n/zwALQGNAagAf/4w/Bv70vrh+VP4n/fP9273rfYC9/P35/du97f3hPg/++gDtBGJHH4gviO2KpIuiSn0IWseDRl0Cl35B/HZ713sMuaY5ETon+q66QDrE/E+90f4OPWV8onyqvOD9H32k/uvAj0IiQsnEBAYdR8bIdsdLhqaFmYPOgU2/nj8QvoK9Oju/u/C8+/0OPWc+CT8ivq89fLz1PXG9lD1v/Te9sn5SPwMAKMGzA3xEbISBhNLFFgUSBHbDC4JOgV8/8n5Gvcm9//3OPkb+xX9l/5IACoCDwOXAqUBPADW/TP7KvrG+mP7A/ta+n76S/ts/Nb90P++AXIC4gFpAdYB+gE5AWwA9P+L/vT7Zvq6+vf6vfmE+LT4LPnk+Aj5ovqp/Nb9i/6I/1QAMABY/5f+Ev5p/ZD8JPy3+076hPgX+PD4CPkL+Lf3zPjS+rj/awknFHcaIx5zJCIrIiuUJXsh/x3HE1UEaflc9abw4ejU5C/nrumx6DbpMe8R9v/3KfZQ9XH20vak9Wj1C/gA/Jf+eAD9BNsMSxTgFwEZsxrIG+kYyhLYDcgKagWQ/KT1FvQi9Lzxwe808h32Qfa/9A73t/ts/Aj5JvdT+Gz4lfbS9n76Qv48AJcCHAdWDCcQ/RFFEpwRMxCoDfsJWwbrAsf+Qvrn91P4Ufn5+VT8/QAWBTcGsgW+BaYFJwN//h76VvfX9BzyQ/GS8w734fk5/U4CNAebCXQKNQsFC0kI0AN8//T7nPgs9aHyKPJW87P0+fWc+Dz8W/5n/q/+JACcAPf+Of2c/Kv7sflT+MD4vfkF+tX51fnt+e35Tvoz+/T7t/uW+ur6WP9AB7EOlxPFGDYgbSaCJyUmhSZYJbkcTg86BZT/F/iv7Z/mNeWA5PXhJeJE6PLv2vPL9Cb3D/v9/AD8M/tI/JD8TvrA+Ev7hADNBMUH3gtsEW0VUhYuFisX4xbxEfsJDARIAN76IvSC8EbwDO+B7GftxfKr91H5TvrN/A//A/8G/jb+D/8q/nv7Qvo8/AP/YADWAQkFYQi/CcgKdw0bEPYPIw0sClUIyAYMBJwAi/4e/i39S/tv+07+bACU/3/+6/67/mD8NvoR+vn5X/gy95z4w/tz/pAAZAOLBp4IRgm/CRMKqgg6BWkBc/6r+6j4Hfbv9BT11PXS9pD4Y/tz/mAARQEqAtMCKgKoACf/8fzt+av39vY19gj1IPWh9p/3t/e0+GP7+v3r/lj/NgJJCPwNnxCvE1MaWiCKIKge+R/tH2QYFA5tCEkEe/uw8X/tRex16JjkueUz6h7tTO7X8HT1dfkP+4f7Lf1w/zT/qfyH+zn90/73/jAAxANYB18JZQu9DgkSThMVEsYPwA19C3AHQgIG/or61PXX8Nzuee+F7+jugvAv9Pb2nPhL+w//LQE5ASEB1gEeAkUBeACEAKgAVAA8AIEB6AMrBukHpwmJC9sMUw2DDTsNlQt6CF4FMwMtAcf+wfxL+7H5z/fG9gL3Svfq9rr2bvcI+QP7Xf0AAJcChQSCBTcGTAclCGQHjgU9BFcDdQH3/pr9Cf23+9X5CPmZ+Tb6lvqf+479TP/Q/9z/hABpAf0AWP/i/fH8q/tC+u35Qvrh+Qj5LPnt+cn5LPnJ+Yf7YPzc+9n8jQGhBykLFw2oEcgXdxoKGmgbhh0iGi0SCw34CoIFwfz29o/0UvDo6qLpIexn7dbs6+2L8Sz1PvfA+AP7df1O/pr9pv1A/+j/0/6X/mwAvgGZAX4COgWtBwoJUApxC9EL6gveC+AK2ghPBusCG/+E/Cf7hPjj9A3zPfP18qHya/Ri9/z44flU/Ij/gQF+AksDlAP3AgYCaQFFAUUBIQH9AAYCGASyBcgGCgliDPwNaw1HDWkOFA41C/UHXgW+AXj8t/eP9NTxuO6m7MrsWO5S8DHzhveQ/C0B/QRtCHELRw13DT4MUAq5Bz0EYAAV/X76C/hl9k32GvfP9yz53PuX/jAApQHcA3YFjgVSBVIFhQROAsT/4v1I/B76eveA9SD1mPWM9bz1n/da+iT8jv0MADMDygVtCFkLUw3VDjwRfxO7E/oSEhNpEjUPfQvyCAcGjQGO/QP7I/ib9InylfLF8jTyBPLp8l/0mPV99p/3OPl++vf6e/vB/Pr9Kv4e/pf+D/9A/6z/wAAeAqADIgVzBpQH2gi/CZsJzgjFB0MGeQT3AtYBSABn/vH8APwD++35/Phf+Av45/fb91P4vfkz+wz85fxz/vT/5QC+Aa8CcAMwBEYFHwZ/BkwHngh3CY8JywksCu8JRgmeCFgHLgUbA4EBcP+1/B76F/hZ9iz1s/SD9Kf0yPXP9zb6wfxY/3UBDwOdBNYF4gX9BOgDrwI5Aej/3/6C/Tz8GPy1/An9If2+/dP+rP9sAF0B+gH6AcoBpQE5AVQAJ/8S/vH8w/uu+sn58Pgj+J/3n/fP9xf4zPgq+gD8Kv79AD0EcAeMCvwNJBFCE3wUVRVVFesTkBHtDpULcAdXA+j/ePzw+B32L/Td8vjx7PFY8t3yqvMs9er2ePjh+Vf7wfzu/ff+xP8MAAwAJAAwAAAArP+I/6D/3P9sAFEBKgIDAyQEXgUrBosG1AbUBk8GagVhBPcCUQHQ/4v+If2T+1r6mfn8+Gz4O/hH+Hj4CPke+lf7kPwe/hgAEgLcA44FEAdhCIMJXAqwCoAKEwqDCaoIWAeyBdAD1gEAAEL+YPxm+vD4F/ir93r3t/cv+OT4HvrD+0X9Tv5Y/5wAsgFOAq8C6wKvAioC7gG+AfEAAACI/3D/D//T/gP/TP9M/5T/SACQAEgAMAB4AGAAoP8P/6/+Bv4h/an8MPwb+/n5pfmZ+Sz5zPg4+Sr6V/tF/QAAuwJSBXoIMgx+D8ARZhOIFKwU0xNdEgIQegxVCG0EtADN/PD4yPU980PxCvC1783vIvAH8YnyX/Q19iP4Hvr0+4L99/4wABUBdQGBAVEBCQGoAEgADADo/+j/PAAJAR4CMwMwBEYFZwZYB/UHVQhJCMUH4AbiBZEE0wLZAPf+If1L+7H5kPi39yb3DveT91/4afn3+v38A//9AD8DsgX1B+MJfQuSDNsMkgz2C5gKPQhGBWYCoP8J/br62PhK91n2WfYO99v3ePhR+XL6n/vZ/Ab+6/6I/1QAXQEqAmYCTgIGAoEB2QAkAFj/Qv51/S39Of1d/b79c/4n/7j/YAAVAWkBgQGlAZkBFQFsAPT/NP/K/Tz83vqB+Tv4bvdK9273R/hm+pr9/QCRBHoIegzqD+ISVRWOFl4WYRUbFP0RpQ68CrsGZgIG/ir6rfY981LwoO4b7gPuiO7y7/jxFvRx9iz5n/tp/d/+VABdAcoB1gGlAQkBMAB8/8f++v0t/dn8Ff2y/Zf+3P91AScD8QR/BsUHngjyCMIIGQgcB6YF3APuAQAA7v3Q+/n5ePgm9yn27fVZ9kr32Pg/+0L+UQFJBFgHEwoODEcN2A2DDSYMUApVCBMGSwOEADb+MPxO+sz4//eG90r3evdf+KX5D/vB/Lv+YACyAesCJAS1BGEExAMDA+IBVAAD/yr+Rf08/Hv7h/sM/M38mv1O/sf+iP/AAL4BsgEJAZwAeADo/6/+If2T+zb6FPkL+A73QfYR9rr2I/g2+tn8DACsA90HYgy3EEsU7xaIGFUZMRmjF4gUPxB9C4sGLQGf+7r20fKd7xLtqOuQ647sZO6+8D3zpPVf+GP7+v2I/2wAOQG+AbIBLQGoAAwAJ/9C/sr9pv2y/Sr+TP+0AB4CxAPKBd0HdwmACgULyAq/CVUIyAa1BOIB3/5U/Cr6F/hx9nT17/Sz9CD1lfbA+Bv71v3xAAwEyAZfCbkLIw1fDecMAgw4Cq0HFgXHAjwAdf0n+7352PhT+F/42Php+XL6MPwq/qz/zAD6AScDuAOIA+sCBgLZAKD/Z/4V/ej7V/tv+9D7PPzN/I79W/4P/7j/SACQAHgAJACs/3D/TP+X/gn9M/u9+bT4n/dx9qT1sPX29oH55fzAAC4FRApyD8cTHxe2GVwbUBuSGbIW+hJpDjoJ3AN//kX5j/TL8Ovt8esY60jrIeyj7f7vJfNZ9vz4S/uy/dz/OQGlAaUBjQFFAZwAlP+X/gb+Ev6X/lj/PAClAegDiwbCCIAKAgwXDSMNJgykCpIIjgXiAUL+0vq39yz1evNk8rDxBPLO82X2LPkw/Lj/PwNzBncJGgyDDWsNqgytC+8JWAdtBKUBA//l/J/76vpa+jb69/ok/CH94v3H/rj/YADAAMwAkAAMAJT/D/9C/jn9YPz0+9z76PsY/Hj8Of1b/nD/MACcABUBdQGBASEBYABk/3P+sv39/ND7Wvo4+aj4O/jb9+f3hPjJ+QD8ZP9wA6EHJgwMEakVMRmkGw4d9hzjGkMXgRLnDKMGPADh+c7ziO7P6o3oR+fb5rTn9ukG7V7wzvNK95b6Uf1A/0gAqACQACQAcP+j/gb+7v2X/tz/mQHEAzcGhgh0CiYMwA29DnUOFw1NCy4JfwYnA3z/q/vz97/0ffIH8V7w4/CV8jj1bPhg/MwA5QQxCOAK/wwsDiwOUw0mDIAKPQiyBVcDdQEMAOv+7v0h/an8wfxR/eL9Hv4S/h7+Qv4G/nX92fxg/If7cvrV+eH5Kvpa+rr6h/ts/F39i/64/zAAJAA8AGAA6P8D/x7+Rf08/Ev7xvoq+iD5R/g7+Jz4kPhs+Aj5xvq+/coBZwbICloP0BSPGuQePyEYInsh5B5rGtAUOA5nBgb+TfbB7yfq9uXv49fjpORW5pbpM+4N8wL3Efqc/KP+3P8YAKD/0/4G/mn9If1p/Zf+qABXAzcGIgkCDHUOPxAYEfQQZg9iDG0IJAR8/4r6mPVP8evt2euE6/rsYe9Y8in23vq4//QDoQfsCi8NqA3bDKELRAqeCNQGUgUABK8C+gFCAhsDlAOgA9wDSQQwBCcDvgEwAEL+APxO+oH52Pjb9zL3hvd4+I35A/v9/K/+lP8kAOUAUQEhAcwAhADc/7v+vv05/YT8Y/ta+rH5IPmQ+FP4R/gj+M/3YveG98n5D//WBcULABGjFwgf+iPEJZEmMSZjIQQYsQ7FBwwAaPWE6+rlnuLl3uvcst+k5HjnWukP7uP0pfmT+6b9SADAAAP/Tv6g/2AAZP9k/04CowawCvkOxxNnF0AY7xaUFCQRGgz7BTT/L/i88Srt3Oon6pPqUex57/LzXfnf/nADyAYKCSwKEwqPCUYJhghPBtwDSwOdBOIFEwY3BgQH3QcBCFgHKwZhBNYBo/4z+1/4rfbh9Vz1mPVW90L6Ff1M/yEBcgKLAl0BxP9z/lH9DPzS+h76Zvpv+2z8Cf2m/Yv+WP+I/zT/i/51/Xv7tPi89THzZ/Fe8I7w5vMM/LkHvhLjGtsh+CgCLkouIiuRJvweRRJLA5P32e+l6EzhP93Q3X/gs+Ox6G3vj/Qp9in2lfZ99u/0hvPC85v0UPXP9x7+1Ab5DpEVXBsFIHgiVCK9H3cajRJGCUgAF/gT8RXscukI6NjnY+pG8DL3ePzc/1oCZANOAlQAZP9Y/w//G/9RAb4FdAppDuURiBTQFF0SmQ6YCsoFuP+l+Qj1KPLL8EPxCvQv+Bj8fP+7AlIF+wVtBLIBi/7G+gL3m/Qv9Jv0OPXS9ir6Ev7ZAKMC6AMABB4CQP/x/Mb6hvfy833yhvPX9Iz1Gvcq+nj8tfzK/fQDUA6XFxodYyHBJnoqWCknJW8hoRyBEm0EXfn+87Xv+eg742LiLOTU5OrlY+rl70Px3O677S7wwvO69kL6J/8kBMIIaQ6dFR0cOB//HaoZDxSlDlMJMwNg/BH27/AS7QDrkOsD7iLw+/Dg8arzpPU+96j4Bfre+gz8ZP86BX0LSxDTE44WHBjgFxYW1hKcDXMGD/9F+Zj1tvNW81P0cfaZ+XX9mQH9BKMGNwYYBEUBx/79/Oj7k/vQ+wD8PPwJ/Zf+3P+4/4v+Xf3B/FT8DPwA/Bj86Puf+6v7MPx4/MP7pfl99mLzZ/HL8Mjx3va7AscTXSNoLI0whDO1M/ksTiBaE2QHFPnG6RDhueER5SnlEeUF6XPtBu0b6q7pV+pT55LiLuMY64z1TP/jCc0VsR8bJSInaieLJOocwBFnBl39k/fL9F/0OPUp9pX2WfbI9eP03fJh72DrEekP6qzuHfZM/+YI8RGqGVAf6CGuIE0c5RU4DvsFo/4e+rT4CPm9+Zb60Pv9/EX9YPy6+tj4t/dT+D/7lP/0A0wHOgmbCRkI/QS0ANz7xvZ98mrwH/HC89L2mfkY/Db+NP+j/i39q/vV+Sb3R/TR8gHz5vNc9SP4Y/ua/VQAYQjvFqAlBS28LD0qjidUIgoaCRI1C74By/Sr6uHoteuQ65znaOT+4k/gG91J3pjkw+r37WTyDPx6CDYTXBtvIUUjgR/CGZoWnRW+EqoMpgUMAJD8A/t++qj4wvPK7KvmU+MK45Xle+pG8ID1ovotAUYJwxAkFfEVxBROEyESzxBCD18NvArIBh4CW/7c+4H5Zfb18iLwPe9n8XH2PPzAAJQDmgU0BxkIJQjgBqADTP9U/ND7VPyc/I79iP9sABL+EfqG9w739vaV9j73dfm3+9n8Of1d/Tz8IPm89af01PWt9gv4ZP8/EPckYDPQNgwzByxXIfoSKwZM/7f7+fVJ74vtc/Hm853v/+ap3lDXbtEl0cPZ/Ocs9TT/eggtEv4Znh0CHQEZHhMUDrcMcg/TE5oWVRX5DvEEBfqO8NXo8uLK3yvg4+OH6mLzAPzxAFEBAAD0/8oBFgV0CkgR1hbRGEwYExeIFOEOcwbi/Ur3tvN680H2+fkA/JP7QvrV+XL6h/v9/ED/WgKCBT0IaApNC7MJOgUn/8n50vah9nj4ovp7+976pfmE+Kv3GvfG9mX2EfYd9ur2bPge+jP79/oF+lH5wPiQ+PH8cQtgIhs2IjzHNTsr1R9FEkYF9/6v/qn87fXL8H/xcPIt7EPgbtX7zujMwtHX37nypQHmCKELXw1pDk4PzRF5Fa8XQBguGgse1R/IG9kR0AMv9Dvn0eEs5K7pQO5P8SXzMfPU8RPx4PGG82X28fz1B5QUCx6HIeQe1BfhDigHxwIGAvcCcANaAgwAIf2N+Sz1y/An7tDuSfOi+usCswnbDMULuQdkA7QA0P+g/1j/J/9A/0D/Z/6E/NX53vYi9N3yU/RH+Hj8i/4e/mD81fnq9tf0j/RQ9Sn2C/hX+/r9NP9tBH8ToygMN6A2BywpIPEVbgxDBq8GUwlqBUL68u9I62vnRt/P1THRj9IR2MXhSe+r+2kBqABz/kz/8QS9DjEZ4R/PIVchyR9oG/cT3gsMBOr6pPG77WfxDvdi99TxMOuS5mjk9uWm7Fn2x/7ZBBEL2REWFs0VphIpD5IMxQsvDUIPmQ7jCa8Cb/uM9QTy7PG/9Ef40vqp/H/+3P/E/9P+u/4kAGYCFgXFB4YIRgX3/nX5bvdH+BH66PvN/JP7kPjI9fv0+fVu91P4wPgU+Qj5L/j29in2Efah9pz4APxA/3wDdQ6cIic23TrnLjseyhJiDF8J3guoEVQRdgV39AjoWOH62+TW3tSZ14XemegZ8735cvrz93H2zPghARsQciAcKcEmOB9VGegUNQ8fClUI7Aa+AYf7vfmW+pX2muz74zHixuXx6wr0SPzxAKUB+gFtBKEHBwomDCwOTg9yDxEPUw3CCE4C8fxy+jb6D/vo+4f78Ph09ebzpPUs+Xj89/4hAX4CWgIJAdD/Z/70+zj5tPh7+w//DAC+/b35mPW58vXyifaK+iT8h/ta+sD4rfaw9XH2Gvcm98z4MPzW/QP/zghQH1g2dzx4L2IdLRLwDagN2REQGOMWOgmV9nLpO+M63xLcstsx3trib+rd8kH23fIM7zfxOPn9BLsTVyF8JS8eJxSHEDkSThO+Eu4S/RG5C9YBA/uo+Aj1i+2Q513of+288f7zIPXL9Hf0O/g5AcgKPxBUEaIPegwTCpgKbgzqC1UIkQSLAv0AHv5a+nr3Nfbh9dL27fnW/d/+VPxO+sP7x/6QACEB5QDT/jP7nPgj+FP4U/hf+P/3ofaY9U32z/dT+M/3Pvfq9mX2jPXL9L/0FPVo9cb2Tvq+/Rv/SQTxFZAvET7TNZYgSxCVC3UOoBRTGsUYuQvz91PnLt+I3VXeat/g4IzkMOv48c7z8u/i7Mjxo/4sDlkcGCa1Jq0ckxB3DXIT0RjgF0ITXw2pBOH5i/HH7TnsqOvf7d3yuvZZ9gHz/u8K8Nf0TP/bDH8XyxqjF4ESXA4CDK0Lzwz/DDgKzQRO/tv3cPKd7+XvofLq9kv7af0k/Jn55PgD+xv/uAPUBpcGSwMn/wD8KvqZ+fn5xvp7+0v75PhT9LXvf+0P7h/xTfYn+wD8X/gv9NHynvP79Br3fvpC/gwAHv5X+5wAiBQvL1A9UTRrHggOvArGD44WvxpzF+8JVvdC6b/j5uIl4mTh/uLY54juevP18gPuCezO85QDuxP8HoEj4R/BFbQNog8oGJUc3RjAEXQKOQG69knvzevt6Kvmoum88c/3lfaO8NnrKu0R9rgD1Q5FEm8QZg8YEdYSshIAEWkOWQsKCdEHdgVw/7r2CvA973rzR/jh+fP3OPX79Kj40/4MBCsG4gXZBBgEJAS1BCQEaQES/kj80PsP+3X5uvaJ8sTulO6w8Tv0g/Rr9Mv0m/QK9Hf0UPVQ9fv0+/TI9V35xP8PAzT/+v1EDrAs8ECkOZYgCw0fCjkSBRyTIZ4dkA2399jnj+Oh5avmKeUs5ErmeOud7+vtzOfb5rzxlAPiEqQbzx18GOEO+AqBEv8dACJxHBITswm0ADj5g/Rz8YjuUezl683r0uli5inlZukB85f+9QduDAIM4wkHCiAOfBQiGn0c8hnWEnQKeQR1AZT/1v0w/OH57fUT8VrtFezT7XDy2PjH/kICxwJ1AZAAEgKOBbYIjwndB20EJAAk/HX5U/jz97f3z/cL+N72VvM97yfuZ/FB9hT5tPhZ9trzZPLF8rD1Efrx/JD8h/tF/TT/qfwb+0kIrCVNPiI8ISM+DD0IphK0HoskxiD9EbX89OpH44PjreXD5lPnNun67Bnv3Or+4s7iH/F/BtkV1xqtGKgRLglYBxgR/B5aJAseHhO/CRICD/u89Q3zcPKt8kzyee+66WvjsOCA5GTuA/uaBYAK8gi1BLgDawlCE4AbLx68G1sXMxSBEq4Pywm7Ajb+/fwY/Nj4MfNO7Uvq8euL8fP33Psw/A/7DPy0AKMGaAodCx8KYQgfBsQDdQHH/jD86vr3+mb6C/hf9MvwMe+y8JLzX/T48T3vuO6a8JLzWfaf91b3JveE+Bv7vv0n/+L9M/tv+zT/2QA8AKcJjSNrPEk7GyEiCRwHZBRaII0jzx01D0v7POtx5SPnQuml6Dvn2OcD6t7pQeWL4CDkxfL9BPQQfxMOELwKiAdlC2cXgSPTJKcavQ71B5QDKv42+u35vfnh9V7wLewI6CLj6eGN6PLzwfzH/tD7hPgI+bv+0Qc8Ea8XxRgYFf0RoBTsG4chiiD1GCwOhQQD/wn96vre9mTyiO4A67HoTumO7BPx9vZz/sEEEAdbBpoFcwYWCc8MZg/wDZIIQgKm/W/7P/vc+5P71flu9+P0TPLX8JfxFvTS9mz45/cU9WTy0fIp9o35S/uf+8b6vfnh+WP7/fwS/sf+i/7K/Zr9YPzk+A/7gQ7ILAE7fClcCtz7EwbaGWon7yeeGVEBRey55QzrW/FY8pHvyuy164fqSuZP4B/gqOuL/kcNGBHeC7gDG//0A+IS2SJ2JwsePxDRB3YF2QQ9BKADdQHN/D73sPGr6pvjhuLq6fLzCPnD9/LzT/HR8n76fwbnEKAUIRKoDQULcQu0Da4PnxA8EUgR1Q46CXICUf1v+zn9OQEnA/f+yPWv7SHsQ/EI+ff+VAC+/br6xvoq/pcCKwaSCL8JswlhCO8FAwMhAY0BfAM9BEICKv7h+Vb3z/fG+oL9df0P+/D4ePic+Kj4IPke+or6pfls+J/3Gvcy9zj5wfz3/jb+9Pt++k76q/vH/tYB4gFO/nX5ZfaT9zz8l/4Y/Jf+YBHpKaEt8RV1/db9JBGfIQAmWiCrEEL63OpR7GX2Nvp09dnvNu3P6iPnUOSJ5absbPh8A60HAARR/RH6l/5lC7Ma6CGYG70OEAehBxMKsApZCykLygUw/O/0+PEZ713s6O7h9Tj5dPVG8EnvlfII+dYBRgnICigH6APZBOYIUw0/EMMQmQ6ACh8GAwO+AZkBpQHZANP+nPxU/HX9Ff2W+pn5PPzE/1EBmQGBAQAANv4n/xICMwMSAoEBmQEwAGf+J/9RAZkBJABw/8T/QP++/fH8pv3T/nD/ZP/T/sr9nPwk/Kn8af11/Tn9/fwM/E76XflC+mP7b/tL+7f7APzo+1T88fzZ/GD8MPwD+1P4ofZf+DD8x/7H/iH9M/tC+m/70/5aAosC0/5z/tQKJyG3LiclCA4hAZ4I3RjbIbQe+hL0A5/3qvOG9yf7I/gf8Tbtx+2L7TbpZeWx6NHy/fylAbQAUf33+pr9ZAdkFGgbyBexDgoJRgk1C0ELjwlnBmkBe/ut9pLzT/Eu8BPxGfNi8zrwnOuu6R7td/TQ+0gApQEhAWwAEgIcB0cNtxACEAsNgAouCUkIBAe+BToFGAR4ACf70vZT9Bnz/vOf96L6Efos+YT87gGpBBMGXAo1D5kOIgkWBfEEKwbgBsgGnQT0/4f7TvrD+5r9Z/6y/dz7xvrQ++L9rP+NAZQDSQQbA8oBLQEwACf/0P+yAZkB6/7x/IL9Z/6a/bX8vv1M/7v+zfxI/LL96/67/gb+Uf1s/PT7bPxs/K765PhF+XL6vfn/98/3CPnh+br6JPwM/O350vrcA7IS/B5UIhEcABGbCcMMNBi6IGIdJxAqAr35Pve39xf4Qfb48dbs4eif5sbln+Zv6nPxwPgw/A/7OPlj+04CNQt1ElUVEhM4DmULFw3PEP0R1Q4KCccC8fyo+KH2KfaA9Qr0NPL+7zbtSOuB7Pvw4fW0+FH5IPmZ+ST8UQHRB+cMyQ5EDi8NMgyhC+oLhgzFC84ILgWLAiQACf2K+lr6J/tm+tv3XPUK9I/0xvbM+Pz41fl8/60H4AoEB4gDBAf5DrgUVRXNEd4LowZSBRAHyAayAbr6QfaA9Yn2Yvdi9273U/j5+Xv7qfy+/bv+GAB+AgkFLgXTAl0B3wI6BaYFeQTfApwA7v3N/Jr9+v1g/Gb6Efqu+q76cvrq+gD8nPww/AP71flR+Y35Nvq6+pb6UfnD9y/40PtIAGkBu/5I/Jr9hAA8AIT8Y/t1AU0LbBE5EpkSGBXlFYEScg9gEXwUFRKMCvQDnACm/Sr6hPhs+B32jvD96+XrcO7+77LwufKY9fb2PveN+dP+6AOvBsIIZQvzDA4M+ArRCxcNJgxTCZcGGAQhAWf+8fzc+6X5ffYi9HrzFvRo9Ur3FPnt+bH5XfnJ+ff62fyg/68CFgV/Bq0H/gjjCVAKpAp0CvIIfwZ5BA8DgQHo/9P+vv1I/N761fnY+Ef45Pj5+RH61fn3+mD8JPxU/DkBawlrDS4JBgJsAIsG1Q4VEoMNtQQq/uL9+gH9BCcDBv6x+VP45Ph1+Tj5hPhf+FH5xvoD+7H5LPm3+2AA3AMMBL4B3P/ZAHkElAdAB7gDAABz/kz//QCZATAA+v3N/C39+v1C/sr9wfzQ+3v7V/vS+hv7Of3c/5wAlP+7/rv+A/9M/wP/Rf0n+xv7Lf0e/mz8Zvo2+m/71v02AvgGJQg6BZQDzghaE8saxRgCEJsJ4ApLENYSrg/CCBUBb/u9+Rv7h/tT+HrzsvCa8BPxjvDB70bwifJo9Z/3FPmi+jn9RQEfBtcJXAoxCE8G1AYiCSkLWQtTCRMGSwPWAZwAo/48/Cr6X/jS9vn1vPWY9eH1Vvel+TP7h/vo+0X9fP/WAbgDCQW+Be8FsgWaBQcGNwY6BVcDEgKZAQkBGABk/6/+df08/J/73vql+VH5NvpO+iz5ivowAI4FLgWoAOv+JwMTCpkOXA6ACkMGOgVAB7YIrwbrAuUAIQF1ARgAXf1++tj4jfkY/Jr9GPxR+fz4APxA/9z/W/5d/U7+bAAeAhICeADH/nP+iP+EAHgAoP/3/if/AAAwAIv+DPwn+wn96P8JAfT/Nv6O/a/+hAA5AXz/5fw8/Fv+zADlANP+tfww/P38pv21/HL6CPm9+T/7JPy+/Y0BggUTBtwDDwP7BUELDBFhFVUVog/+CFUItA3xEZYPeghFATz81fnh+UL6//f18qDuc+187p3vpvBA8i/0Efbn93X5lvqE/PEArwbvCeYITwbWBbkHywmwCjgKGQi1BNYB/QA5AZAAf/70+9X5qPi0+CD5tPjn92z4Nvpv+3v73Puy/QwApQGjAogDSQTlBLIF4AbFB/UHiAfUBk8G7wUJBTMD/QAP/4L9bPw8/Kn8VPw/+976J/sF+oT4Y/twA+YIqQRj+4T4rP+DCcwNjArfAtD73vpdASIJ+wkbA4f7Rfno+3z/IQEwALL9n/tX+/T70Pv3+tL6DPx1/bL92fxI/CH9fP9CAmQDgQF//n/+rwLIBpcGPwP9AOUALQFRAbIBRQE0/4L9Z/4MAMT/Tv5C/lj/3P+4/9z/DAAkAMwA4gFpAdP+DPzq+g/7w/u1/PH8S/uE+JP3Wvon/3IClwKBAQYCnQTFB8gK/A3SDxQOmwmXBq0HgAqJC7MJ+wVpAUX9A/sD+8P7P/vM+HT19fKt8l/0ofbb96v39vYO93j43vp1/QAAKgKIA/QDSQReBewGAQgNCEwHHwbNBMQDJwMDA6MC8QAG/p/7D/sz+1r65Pg7+F/4X/h4+Mn5w/vx/Dn9sv3H/tD/5QDTAlIFHAeUBzQHKAeIB8UHiAfsBgcGwQQ/AwYCaQEhAZwAQP8h/av7DPzx/Ej8V/uC/R4CrANA/735dfmj/p0EiAcHBv0AMPwM/P0AZwYBCCIFuP/S+uH51v1+AosCjv1f+Or2wPhj+0X97v1p/Xj8MPwh/d/+zABCAscCEgKcAMT/tADrArUEwQT3AlQAf/4P/6UBiANOAtP+MPxI/Mf+pQGvAl0BQP9//oj/zABpAZkBmQHlAHz/Qv4e/kD/nADAADT/If3o+2P73voD+9n8fP/AAKz/pv3l/Jf+ygFJBPEE8QTvBbkHzgi2CFUIPQgZCHwHEwa4A+UAr/6+/S39w/t1+TL3Efat9l/4afnA+G73evdF+Z/7sv1Y/2wA5QB1AccCSQQWBRYF5QTZBNkE8QQiBS4F2QRhBPQDGwPKAZAAGAAkAAwAWP/K/QD83vrq+rf7YPxI/Kv7M/uT+8H8+v2v/jT/AAD9ALIBHgKLAq8CZgL6AdYBygFpAbQADACU/xv/Z/6a/Wn97v1O/lH9w/ur+8r9YABFATwAQP88AGQDWwZbBksDJAD0/9MC4gUrBj8DQP9F/X/+LQFOApwAyv1g/EX9WP+QAPT/x/67/iQAjQHiAWkBLQGNATYCiwL6AcwAPAD9ACoCQgIJAVj/W/5z/if/G/+a/W/7ovow/Lv+GAAD/6n8J/vo+zb+JACEAFj/1v1d/aP+qAAVAa/+b/ty+gD8Xf1U/O358Piu+sr9JADZACQAD/8n/zYCYQhcDt4P6gvUBvsFmApvEEUSXA5wB+4BbAAeAsQDQgJR/Z/3X/Rr9Cn2Yvca9+31IPVo9br2bPgR+tD7vv2g/+UAgQEGAg8DnQS+BYIFJAQPA1cDeQQiBakEDwPlABv/3/4kADkBkABO/jD8k/tg/Gn9mv0V/Zz8kPyp/P387v0P/0z/0/4b/4QAygEqAqMC9AP9BGEEfgIVAVEBxwKsA9MCzABA/+v+TP+s/7j/NP82/oL9mv2a/RX9pv2oAAwE0AOI/2/7JPxpAXMG1AZmAnX9ePwAAJEEfwaRBGwARf2C/bQAcAPrAtD//fxI/CH9Tv7T/mf+gv39/Dn91v02/jb+W/5A/9kA4gGNAZAAtAA2AhsDvgED/2n9Tv5gAIEBhABb/qn8bPxp/bv+cP/f/r794v0MADYCHgLo/0L+G/+BAYsCwACy/Zz8f/7lAGwA5fyx+QX6+v2jAm0ETgLT/gb+UQFzBh8KaAq5B3kE3AMEB5ULdw34Cu8FmQH0//0AiwLiAaP+6vrw+MD42Phf+Fb3NfZo9Tj1sPW69nj4Tvpj+5P79Pvl/O796/6cAPcCVQTcAw8D0APvBXwHTAfWBVUEiANLAz8D9wJCAgkBTP+y/RX9df36/fr9jv0V/dn8Cf3K/dP+xP94AC0BBgLTAksDfAOgA6wDVwOjAgYCvgGyAZkBRQGQAJT/o/4S/sr9pv2O/XX9Lf3Z/PH8jv36/Y79/fyC/Sf/nACcAGT/l/6s/34CCQVqBawDjQHMANYB0AMiBW0E7gGI/wP/GAAtAeUAcP/i/SH9Xf3u/e79df0V/fH8tfxs/IT8Uf0q/qP+r/5//mf+l/4b/+j/hADMANkAFQG+AccCiAOIA98CKgLuAR4CTgISAlEBVACs/3D/WP+v/o79kPxI/Hj8tfzB/LX8zfwV/cr93/4MAMAAFQF1AU4ClAPZBKYF+wUTBlsGlwZPBoIFqQQMBIgDuwKZATAAu/6O/cH8PPyT+676pfnY+Jz4CPml+QX6Hvpm+hv7PPyC/bv+uP9sAPEApQGjAogDJARtBG0ESQQYBPQDuANXA7sC+gE5AZwAGACI//f+c/4S/uL9yv2y/bL9vv3u/Tb+r/4n/4j/3P88ALQAOQGlAfoBNgJOAnICiwKvAqMCcgIqAuIBmQFFAcAAPAC4/0D/x/5n/u79df0J/cH8wfzN/M38tfyp/M38Of3K/U7+r/7r/if/oP9UACEBpQHKAcoB4gEqAosC0wLTAosCKgLiAcoBvgGZATkBtAA8AOj/uP+g/3z/WP8n/wP/A/8P/xv/QP9k/5T/uP/Q/9z/6P8YAEgAbABsAEgAGAAAAAAAGAAYAOj/oP9k/1j/ZP+I/4j/ZP9A/0D/ZP+U/8T/xP+s/6D/uP/o/wwAAADQ/5T/iP+g/7j/uP98/yf/A/8b/1j/lP+s/5T/iP+4/xgAkAAJAUUBaQGBAb4BBgJaApcClwJ+Ak4CEgLWAZkBUQH9AJAADAB8/+v+c/4q/gb+4v2a/VH9Ff0V/V391v1C/n/+l/7H/jT/0P9sANkACQEJARUBOQF1AZkBgQEtAcwAeABIABgA3P98/w//x/6j/qP+o/6L/n/+l/7T/jT/lP/o/yQAYADAAC0BmQHuARICHgIqAjYCQgI2AhICygGBATkB5QCQADwA6P+g/2T/J//f/pf+Z/5n/nP+i/6L/nP+W/5z/q/+9/40/0D/J/8b/zT/fP/E/9z/uP+U/4j/rP/o/xgAGAD0/9z/6P8kAGAAhAB4AGAAbACQAMwA/QD9ANkAzADZAPEACQH9ANkAtACcAJwAnACQAGwASAAwACQAGAAMAPT/3P/Q/9D/xP+4/5T/iP98/4j/iP9w/0z/NP8n/0D/TP9M/zT/G/8P/zT/ZP98/3D/WP9Y/3z/xP/0/wAA6P/Q/9z/GABgAHgAYAAwABgAPACEAMAAwACQAGAAVACEAMwA/QDxAMAAkACEAKgAzADZAMAAhABIACQAGAAYAAAA3P+g/2T/NP8P/wP/D/8P/w//9/7r/t/+A/9A/4j/uP/Q/8T/3P8MAGAAnAC0AJwAeABsAIQAnACoAHgAMADo/9D/0P/c/8T/lP9Y/0D/WP+U/7j/xP+s/6z/0P8kAHgAqACoAJAAkACoANkA8QDlALQAeABIADAAJAAMAOj/rP9w/0D/J/8n/zT/QP9A/0D/QP9M/3D/rP/o/xgAJAAwADAASAB4AJwAtACcAHgAVABIAEgAVAA8AAwA3P+4/6z/uP/E/7j/oP+I/5T/rP/c//T/9P/0//T/DAAwAEgAVAA8ADAAJAAwADwAPAAkAAAA6P/Q/9D/0P/Q/8T/uP+s/6z/uP/E/9z/6P/o/+j/9P8AABgAJAA8ADwAMAAwADAAMAAwADAAJAAYAAAA9P/o/+j/6P/c/9D/xP/E/8T/0P/c/9z/3P/c/+j/9P8AAAAADAAMAAwAGAAkACQAGAAMAAwADAAYAAwADAAAAPT/9P/0//T/9P/0/+j/3P/o/+j/9P/0//T/9P/0//T/9P8AAAAAAAAAAAAAAAAAAAAAAAAAAAAA9P/0//T/9P/0//T/9P/0//T/9P/0//T/9P/0//T/9P/0/wAAAAAAAAAAAAAAAAAAAAAAAAAAAAAAAAAAAAAAAAAAAAD0//T/9P/0//T/9P/0//T/9P/0//T/9P8AAPT/9P/0/wAAAAAAAAAAAAAAAAAAAAAAAAAAAAAAAPT/9P/0//T/9P/0//T/9P/0//T/9P/0//T/9P/0//T/9P8AAAAAAAAAAAAAAAAAAAAAAAAAAAAAAAAAAAAAAAAAAAAAAAD0//T/9P/0//T/9P/0//T/9P/0//T/9P8AAAAA9P8AAAAAAAAAAAAAAAAAAAAAAAAAAAAAAAAAAAAAAAAAAAAAAAAAAAAAAAAAAAAAAAAAAAAAAAAAAAAAAAAAAAAAAAAAAAAAAAAAAAAAAAAAAAAAAAAAAAAAAAAAAAAAAAAAAAAAAAAAAAAAAAAAAAAAAAAAAAAAAAAAAAAAAAAAAAAAAAAAAAAAAAAAAAAAAAAAAAAAAAAAAAAAAAAAAAAAAAAAAAAAAAAAAAAAAAAAAAAAAAAAAAAAAAAAAAAAAAAAAAAAAAAAAAAAAAAAAAAAAAAAAAAAAAAAAAAAAAAAAAAAAAAAAAAAAAAAAAAAAAAAAAAAAAAAAAAAAAAAAAAAAAAAAAAAAAAAAAAAAAAAAAAAAAAAAAAAAAAAAAAAAAAAAAAAAAAAAAAAAAAAAAAAAAAAAAAAAAAAAAAAAAAAAAAAAAAAAAAAAAAAAAAAAAAAAAAAAAAAAAAAAAAAAAAAAAAAAAAAAAAAAAAAAAAAAAAAAAAAAAAAAAAAAAAAAAAAAAAAAAAAAAAAAAAAAAAAAAAAAAAAAAAAAAAAAAAAAAAAAAAAAAAAAAAAAAAAAAAAAAAAAAAAAAAAAAAAAAAAAAAAAAAAAAAAAAAAAAAAAAAAAAAAAAAAAAAAAAAAAAAAAAAAAAAAAAAAAAAAAAAAAAAAAAAAAAAAAAAAAAAAAAAAAAAAAAAAAAAAAAAAAAAAAAAAAAAAAAAAAAAAAAAAAAAAAAAAAAAAAAAAAAAAAAAAAAAAAAAAAAAAAAAAAAAAAAAAAAAAAAAAAAAAAAAAAAAAAAAAAAAAAAAAAAAAAAAAAAAAAAAAAAAAAAAAAAAAAAAAAAAAAAAAAAAAAAAAAAAAAAAAAAAAAAAAAAAAAAAAAAAAAAAAAAAAAAAAAAAAAAAAAAAAAAAAAAAAAAAAAAAAAAAAAAAAAAAAAAAAAAAAAAAAAAAAAAAAAAAAAAAAAAAAAAAAAAAAAAAAAAAAAAAAAAAAAAAAAAAAAAAAAAAAAAAAAAAAAAAAAAAAAAAAAAAAAAAAAAAAAAAAAAAAAAAAAAAAAAAAAAAAAAAAAAAAAAAAAAAAAAAAAAAAAAAAAAAAAAAAAAAAAAAAAAAAAAAAAAAAAAAAAAAAAAAAAAAAAAAAAAAAAAAAAAAAAAAAAAAAAAAAAAAAAAAAAAAAAAAAAAAAAAAAAAAAAAAAAAAAAAAAAAAAAAAAAAAAAAAAAAAAAAAAAAAAAAAAAAAAAAAAAAAAAAAAAAAAAAAAAAAAAAAAAAAAAAAAAAAAAAAAAAAAAAAAAAAAAAAAAAAAAAAAAAAAAAAAAAAAAAAAAAAAAAAAAAAAAAAAAAAAAAAAAAAAAAAAAAAAAAAAAAAAAAAAAAAAAAD0//T/9P8AAAAAAAAAAPT/9P/0//T/AAAAAAAAAAD0//T/9P/0/wAAAAAAAAAA9P/0//T/9P8AAAAAAAD0//T/9P/0/wAAAAAAAAAA9P/0//T/9P8AAAAAAAAAAPT/9P/0//T/AAAAAAAAAAD0//T/9P/0/wAAAAAAAAAA9P/0//T/9P8AAAAAAAAAAPT/9P/0/wAAAAAAAAAA9P/0//T/9P8AAAAAAAAAAPT/9P/0//T/AAAAAAAAAAD0//T/9P/0/wAAAAAAAAAA9P/0//T/9P8AAAAAAAAAAPT/9P/0//T/AAAAAAAAAAD0//T/9P8AAAAAAAAAAPT/9P/0//T/AAAAAAAAAAD0//T/9P/0/wAAAAAAAAAA9P/0//T/9P8AAAAAAAAAAPT/9P/0//T/AAAAAAAAAAD0//T/9P/0/wAAAAAAAPT/9P/0//T/AAAAAAAAAAD0//T/9P/0/wAAAAAAAAAA9P/0//T/9P8AAAAAAAAAAPT/9P/0//T/AAAAAAAAAAD0//T/9P8AAAAAAAAAAPT/9P/0//T/AAAAAAAAAAD0//T/9P/0/wAAAAAAAAAA9P/0//T/9P8AAAAAAAAAAPT/9P/0//T/AAAAAAAA9P/0//T/9P8AAAAAAAAAAPT/9P/0//T/AAAAAAAAAAD0//T/9P/0/wAAAAAAAAAA9P/0//T/9P8AAAAAAAD0//T/9P/0/wAAAAAAAAAA9P/0//T/9P8AAAAAAAAAAPT/9P/0//T/AAAAAAAAAAD0//T/9P/0/wAAAAAAAPT/9P/0//T/AAAAAAAAAAD0//T/9P/0/wAAAAAAAAAA9P/0//T/9P8AAAAAAAAAAPT/9P/0//T/AAAAAAAA9P/0//T/9P8AAAAAAAAAAPT/9P/0//T/AAAAAAAAAAD0//T/9P/0/wAADAAAAAAA9P/o//T/9P8AAAwAAAD0//T/6P/0/wAAAAAMAAAA9P/0//T/9P8AAAAAAAAAAPT/6P/0//T/AAAMAAAAAAD0/+j/9P/0/wAADAAAAPT/9P/o//T/AAAAAAwAAAD0//T/9P/0/wAADAAAAAAA9P/o//T/9P8AAAwAAAAAAPT/6P/0/wAAAAAMAAAA9P/0/+j/9P8AAAAADAAAAPT/9P/0//T/AAAMAAAAAAD0/+j/9P/0/wAADAAAAAAA9P/o//T/AAAAAAwAAAD0//T/6P/0/wAAAAAMAAAA9P/o//T/9P8AAAwAAAAAAPT/6P/0//T/AAAMAAAAAAD0/+j/9P8AAAAADAAAAPT/9P/o//T/AAAAAAwAAAD0/+j/9P/0/wAADAAAAAAA9P/o//T/9P8AAAwAAAD0//T/6P/0/wAAAAAMAAAA9P/0/+j/9P8AAAwADAAAAPT/6P/0//T/AAAMAAAAAAD0/+j/9P/0/wAADAAAAPT/9P/o//T/AAAAAAwAAAD0/+j/6P/0/wAADAAMAAAA9P/o//T/9P8AAAwAAAAAAPT/6P/0/wAAAAAMAAAA9P/0/+j/9P8AAAwADAAAAPT/6P/o//T/AAAMAAwAAAD0/+j/6P/0/wAADAAAAAAA9P/o//T/AAAAAAwAAAD0/+j/6P/0/wAADAAMAAAA9P/o/+j/9P8AAAwADAAAAPT/6P/o//T/AAAMAAAA9P/0/+j/9P8AAAwADAAAAPT/6P/o//T/AAAMAAwAAAD0/+j/6P/0/wAADAAMAAAA9P/o/+j/9P8AAAwAAAD0/+j/6P/0/wAADAAMAAAA9P/o/+j/9P8AAAwADAAAAPT/6P/o//T/AAAMAAwAAAD0/+j/6P/0/wAADAAAAPT/6P/o//T/AAAMAAwAAAD0/+j/6P/0/wAADAAMAAAA9P/o/+j/9P8AAAwADAAAAPT/6P/0/wAAAAAMAAAA9P/o/+j/9P8AAAwADAAAAPT/6P/o//T/AAAMAAwAAAD0/+j/6P/0/wAADAAAAAAA9P/o//T/AAAAAAwAAAD0//T/6P/0/wAADAAMAAAA9P/o/+j/9P8AAAwAAAAAAPT/6P/0//T/AAAMAAAAAAD0//T/9P8AAAAAAAAAAPT/9P/0//T/AAAAAAAAAAD0//T/9P/0/wAAAAAAAAAA9P/0//T/9P8AAAAAAAD0//T/9P/0/wAAAAAAAAAA9P/0//T/9P8AAAAAAAAAAPT/9P/0//T/AAAAAAAAAAD0//T/9P/0/wAAAAAAAPT/9P/0//T/AAAAAAAAAAD0//T/9P/0/wAAAAAAAAAA9P/0//T/9P8AAAAAAAAAAPT/9P/0//T/AAAAAAAA9P/0//T/9P8AAAAAAAAAAPT/9P/0//T/AAAAAAAAAAD0//T/9P/0/wAAAAAAAAAA9P/0//T/AAAAAAAAAAD0//T/9P/0/wAAAAAAAAAA9P/0//T/9P8AAAAAAAAAAPT/9P/0//T/AAAAAAAAAAD0//T/9P8AAAAAAAAAAPT/9P/0//T/AAAAAAAAAAD0//T/9P/0/wAAAAAAAAAA9P/0//T/9P8AAAAAAAAAAPT/9P/0/wAAAAAAAAAA9P/0//T/9P8AAAAAAAAAAPT/9P/0//T/AAAAAAAAAAD0//T/9P/0/wAAAAAAAAAA9P/0//T/9P8AAAAAAAD0//T/9P/0/wAAAAAAAAAA9P/0//T/9P8AAAAAAAAAAPT/9P/0//T/AAAAAAAAAAD0//T/9P/0/wAAAAAAAAAA9P/0//T/AAAAAAAAAAAAAAAAAAAAAAAAAAAAAAAAAAAAAAAAAAAAAAAAAAAAAAAAAAAAAAAAAAAAAAAAAAAAAAAAAAAAAAAAAAAAAAAAAAAAAAAAAAAAAAAAAAAAAAAAAAAAAAAAAAAAAAAAAAAAAAAAAAAAAAAAAAAAAAAAAAAAAAAAAAAAAAAAAAAAAAAAAAAAAAAAAAAAAAAAAAAAAAAAAAAAAAAAAAAAAAAAAAAAAAAAAAAAAAAAAAAAAAAAAAAAAAAAAAAAAAAAAAAAAAAAAAAAAAAAAAAAAAAAAAAAAAAAAAAAAAAAAAAAAAAAAAAAAAAAAAAAAAAAAAAAAAAAAAAAAAAAAAAAAAAAAAAAAAAAAAAAAAAAAAAAAAAAAAAAAAAAAAAAAAAAAAAAAAAAAAAAAAAAAAAAAAAAAAAAAAAAAAAAAAAAAAAAAAAAAAAAAAAAAAAAAAAAAAAAAAAAAAAAAAAAAAAAAAAAAAAAAAAAAAAAAAAAAAAAAAAAAAAAAAAAAAAAAAAAAAAAAAAAAAAAAAAAAAAAAAAAAAAAAAAAAAAAAAAAAAAAAAAAAAAAAAAAAAAAAAAAAAAAAAAAAAAAAAAAAAAAAAAAAAAAAAAAAAAAAAAAAAAAAAAAAAAAAAAAAAAAAAAAAAAAAAAAAAAAAAAAAAAAAAAAAAAAAAAAAAAAAAAAAAAAAAAAAAAAAAAAAAAAAAAAAAAAAAAAAAAAAAAAAAAAAAAAAAAAAAAAAAAAAAAAAAAAAAAAAAAAAAAAAAAAAAAAAAAAAAAAAAAAAAAAAAAAAAAAAAAAAAAAAAAAAAAAAAAAAAAAAAAAAAAAAAAAAAAAAAAAAAAAAAAAAAAAAAAAAAAAAAAAAAAAAAAAAAAAAAAAAAAAAAAAAAAAAAAAAAAAAAAAAAAAAAAAAAAAAAAAAAAAAAAAAAAAAAAAAAAAAAAAAAAAAAAAAAAAAAAAAAAAAAAAAAAAAAAAAAAAAAAAAAAAAAAAAAAAAAAAAAAAAAAAAAAAAAAAAAAAAAAAAAAAAAAAAAAAAAAAAAAAAAAAAAAAAAAAAAAAAAAAAAAAAAAAAAAAAAAAAAAAAAAAAAAAAAAAAAAAAAAAAAAAAAAAAAAAAAAAAAAAAAAAAAAAAAAAAAAAAAAAAAAAAAAAAAAAAAAAAAAAAAAAAAAAAAAAAAAAAAAAAAAAAAAAAAAAAAAAAAAAAAAAAAAAAAAAAAAAAAAAAAAAAAAAAAAAAAAAAAAAAAAAAAAAAAAAAAAAAAAAAAAAAAAAAAAAAAAAAAAAAAAAAAAAAAAAAAAAAAAAAAAAAAAAAAAAAAAAAAAAAAAAAAAAAAAAAAAAAAAAAAAAAAAAAAAAAAAAAAAAAAAAAAAAAAAAAAAAAAAAAAAAAAAAAAAAAAAAAAAAAAAAAAAAAAAAAAAAAAAAAAAAAAAAAAAAAAAAAAAAAAAAAAAAAAAAAAAAAAAAAAAAAAAAAAAAAAAAAAAAAAAAAAAAAAAAAAAAAAAAAAAAAAAAAAAAAAAAAAAAAAAAAAAAAAAAAAAAAAAAAAAAAAAAAAAAAAAAAAAAAAAAAAAAAAAAAAAAAAAAAAAAAAAAAAAAAAAAAAAAAAAAAAAAAAAAAAAAAAAAAAAAAAAAAAAAAAAAAAAAAAAAAAAAAAAAAAAAAAAAAAAAAAAAAAAAAAAAAAAAAAAAAAAAAAAAAAAAAAAAAAAAAAAAAAAAAAAAAAAAAAAAAAAAAAAAAAAAAAAAAAAAAAAAAAAAAAAAAAAAAAAAAAAAAAAAAAAAAAAAAAAAAAAAAAAAAAAAAAAAAAAAAAAAAAAAAAAAAAAAAAAAAAAAAAAAAAAAAAAAAAAAAAAAAAAAAAAAAAAAAAAAAAAAAAAAAAAAAAAAAAAAAAAAAAAAAAAAAAAAAAAAAAAAAAAAAAAAAAAAAAAAAAAAAAAAAAAAAAAAAAAAAAAAAAAAAAAAAAAAAAAAAAAAAAAAAAAAAAAAAAAAAAAAAAAAAAAAAAAAAAAAAAAAAAAAAAAAAAAAAAAAAAAAAAAAAAAAAAAAAAAAAAAAAAAAAAAAAAAAAAAAAAAAAAAAAAAAAAAAAAAAAAAAAAAAAAAAAAAAAAAAAAAAAAAAAAAAAAAAAAAAAAAAAAAAAAAAAAAAAAAAAAAAAAAAAAAAAAAAAAAAAAAAAAAAAAAAAAAAAAAAAAAAAAAAAAAAAAAAAAAAAAAAAAAAAAAAAAAAAAAAAAAAAAAAAAAAAAAAAAAAAAAAAAAAAAAAAAAAAAAAAAAAAAAAAAAAAAAAAAAAAAAAAAAAAAAAAAAAAAAAAAAAAAAAAAAAAAAAAAAAAAAAAAAAAAAAAAAAAAAAAAAAAAAAAAAAAAAAAAAAAAAAAAAAAAAAAAAAAAAAAAAAAAAAAAAAAAAAAAAAAAAAAAAAAAAAAAAAAAAAAAAAAAAAAAAAAAAAAAAAAAAAAAAAAAAAAAAAAAAAAAAAAAAAAAAAAAAAAAAAAAAAAAAAAAAAAAAAAAAAAAAAAAAAAAAAAAAAAAAAAAAAAAAAAAAAAAAAAAAAAAAAAAAAAAAAAAAAAAAAAAAAAAAAAAAAAAAAAAAAAAAAAAAAAAAAAAAAAAAAAAAAAAAAAAAAAAAAAAAAAAAAAAAAAAAAAAAAAAAAAAAAAAAAAAAAAAAAAAAAAAAAAAAAAAAAAAAAAAAAAAAAAAAAAAAAAAAAAAAAAAAAAAAAAAAAAAAAAAAAAAAAAAAAAAAAAAAAAAAAAAAAAAAAAAAAAAAAAAAAAAAAAAAAAAAAAAAAAAAAAAAAAAAAAAAAAAAAAAAAAAAAAAAAAAAAAAAAAAAAAAAAAAAAAAAAAAAAAAAAAAAAAAAAAAAAAAAAAAAAAAAAAAAAAAAAAAAAAAAAAAAAAAAAAAAAAAAAAAAAAAAAAAAAAAAAAAAAAAAAAAAAAAAAAAAAAAAAAAAAAAAAAAAAAAAAAAAAAAAAAAAAAAAAAAAAAAAAAAAAAAAAAAAAAAAAAAAAAAAAAAAAAAAAAAAAAAAAAAAAAAAAAAAAAAAAAAAAAAAAAAAAAAAAAAAAAAAAAAAAAAAAAAAAAAAAAAAAAAAAAAAAAAAAAAAAAAAAAAAAAAAAAAAAAAAAAAAAAAAAAAAAAAAAAAAAAAAAAAAAAAAAAAAAAAAAAAAAAAAAAAAAAAAAAAAAAAAAAAAAAAAAAAAAAAAAAAAAAAAAAAAAAAAAAAAAAAAAAAAAAAAAAAAAAAAAAAAAAAAAAAAAAAAAAAAAAAAAAAAAAAAAAAAAAAAAAAAAAAAAAAAAAAAAAAAAAAAAAAAAAAAAAAAAAAAAAAAAAAAAAAAAAAAAAAAAAAAAAAAAAAAAAAAAAAAAAAAAAAAAAAAAAAAAAAAAAAAAAAAAAAAAAAAAAAAAAAAAAAAAAAAAAAAAAAAAAAAAAAAAAAAAAAAAAAAAAAAAAAAAAAAAAAAAAAAAAAAAAAAAAAAAAAAAAAAAAAAAAAAAAAAAAAAAAAAAAAAAAAAAAAAAAAAAAAAAAAAAAAAAAAAAAAAAAAAAAAAAAAAAAAAAAAAAAAAAAAAAAAAAAAAAAAAAAAAAAAAAAAAAAAAAAAAAAAAAAAAAAAAAAAAAAAAAAAAAAAAAAAAAAAAAAAAAAAAAAAAAAAAAAAAAAAAAAAAAAAAAAAAAAAAAAAAAAAAAAAAAAAAAAAAAAAAAAAAAAAAAAAAAAAAAAAAAAAAAAAAAAAAAAAAAAAAAAAAAAAAAAAAAAAAAAAAAAAAAAAAAAAAAAAAAAAAAAAAAAAAAAAAAAAAAAAAAAAAAAAAAAAAAAAAAAAAAAAAAAAAAAAAAAAAAAAAAAAAAAAAAAAAAAAAAAAAAAAAAAAAAAAAAAAAAAAAAAAAAAAAAAAAAAAAAAAAAAAAAAAAAAAAAAAAAAAAAAAAAAAAAAAAAAAAAAAAAAAAAAAAAAAAAAAAAAAAAAAAAAAAAAAAAAAAAAAAAAAAAAAAAAAAAAAAAAAAAAAAAAAAAAAAAAAAAAAAAAAAAAAAAAAAAAAAAAAAAAAAAAAAAAAAAAAAAAAAAAAAAAAAAAAAAAAAAAAAAAAAAAAAAAAAAAAAAAAAAAAAAAAAAAAAAAAAAAAAAAAAAAAAAAAAAAAAAAAAAAAAAAAAAAAAAAAAAAAAAAAAAAAAAAAAAAAAAAAAAAAAAAAAAAAAAAAAAAAAAAAAAAAAAAAAAAAAAAAAAAAAAAAAAAAAAAAAAAAAAAAAAAAAAAAAAAAAAAAAAAAAAAAAAAAAAAAAAAAAAAAAAAAAAAAAAAAAAAAAAAAAAAAAAAAAAAAAAAAAAAAAAAAAAAAAAAAAAAAAAAAAAAAAAAAAAAAAAAAAAAAAAAAAAAAAAAAAAAAAAAAAAAAAAAAAAAAAAAAAAAAAAAAAAAAAAAAAAAAAAAAAAAAAAAAAAAAAAAAAAAAAAAAAAAAAAAAAAAAAAAAAAAAAAAAAAAAAAAAAAAAAAAAAAAAAAAAAAAAAAAAAAAAAAAAAAAAAAAAAAAAAAAAAAAAAAAAAAAAAAAAAAAAAAAAAAAAAAAAAAAAAAAAAAAAAAAAAAAAAAAAAAAAAAAAAAAAAAAAAAAAAAAAAAAAAAAAAAAAAAAAAAAAAAAAAAAAAAAAAAAAAAAAAAAAAAAAAAAAAAAAAAAAAAAAAAAAAAAAAAAAAAAAAAAAAAAAAAAAAAAAAAAAAAAAAAAAAAAAAAAAAAAAAAAAAAAAAAAAAAAAAAAAAAAAAAAAAAAAAAAAAAAAAAAAAAAAAAAAAAAAAAAAAAAAAAAAAAAAAAAAAAAAAAAAAAAAAAAAAAAAAAAAAAAAAAAAAAAAAAAAAAAAAAAAAAAAAAAAAAAAAAAAAAAAAAAAAAAAAAAAAAAAAAAAAAAAAAAAAAAAAAAAAAAAAAAAAAAAAAAAAAAAAAAAAAAAAAAAAAAAAAAAAAAAAAAAAAAAAAAAAAAAAAAAAAAAAAAAAAAAAAAAAAAAAAAAAAAAAAAAAAAAAAAAAAAAAAAAAAAAAAAAAAAAAAAAAAAAAAAAAAAAAAAAAAAAAAAAAAAAAAAAAAAAAAAAAAAAAAAAAAAAAAAAAAAAAAAAAAAAAAAAAAAAAAAAAAAAAAAAAAAAAAAAAAAAAAAAAAAAAAAAAAAAAAAAAAAAAAAAAAAAAAAAAAAAAAAAAAAAAAAAAAAAAAAAAAAAAAAAAAAAAAAAAAAAAAAAAAAAAAAAAAAAAAAAAAAAAAAAAAAAAAAAAAAAAAAAAAAAAAAAAAAAAAAAAAAAAAAAAAAAAAAAAAAAAAAAAAAAAAAAAAAAAAAAAAAAAAAAAAAAAAAAAAAAAAAAAAAAAAAAAAAAAAAAAAAAAAAAAAAAAAAAAAAAAAAAAAAAAAAAAAAAAAAAAAAAAAAAAAAAAAAAAAAAAAAAAAAAAAAAAAAAAAAAAAAAAAAAAAAAAAAAAAAAAAAAAAAAAAAAAAAAAAAAAAAAAAAAAAAAAAAAAAAAAAAAAAAAAAAAAAAAAAAAAAAAAAAAAAAAAAAAAAAAAAAAAAAAAAAAAAAAAAAAAAAAAAAAAAAAAAAAAAAAAAAAAAAAAAAAAAAAAAAAAAAAAAAAAAAAAAAAAAAAAAAAAAAAAAAAAAAAAAAAAAAAAAAAAAAAAAAAAAAAAAAAAAAAAAAAAAAAAAAAAAAAAAAAAAAAAAAAAAAAAAAAAAAAAAAAAAAAAAAAAAAAAAAAAAAAAAAAAAAAAAAAAAAAAAAAAAAAAAAAAAAAAAAAAAAAAAAAAAAAAAAAAAAAAAAAAAAAAAAAAAAAAAAAAAAAAAAAAAAAAAAAAAAAAAAAAAAAAAAAAAAAAAAAAAAAAAAAAAAAAAAAAAAAAAAAAAAAAAAAAAAAAAAAAAAAAAAAAAAAAAAAAAAAAAAAAAAAAAAAAAAAAAAAAAAAAAAAAAAAAAAAAAAAAAAAAAAAAAAAAAAAAAAAAAAAAAAAAAAAAAAAAAAAAAAAAAAAAAAAAAAAAAAAAAAAAAAAAAAAAAAAAAAAAAAAAAAAAAAAAAAAAAAAAAAAAAAAAAAAAAAAAAAAAAAAAAAAAAAAAAAAAAAAAAAAAAAAAAAAAAAAAAAAAAAAAAAAAAAAAAAAAAAAAAAAAAAAAAAAAAAAAAAAAAAAAAAAAAAAAAAAAAAAAAAAAAAAAAAAAAAAAAAAAAAAAAAAAAAAAAAAAAAAAAAAAAAAAAAAAAAAAAAAAAAAAAAAAAAAAAAAAAAAAAAAAAAAAAAAAAAAAAAAAAAAAAAAAAAAAAAAAAAAAAAAAAAAAAAAAAAAAAAAAAAAAAAAAAAAAAAAAAAAAAAAAAAAAAAAAAAAAAAAAAAAAAAAAAAAAAAAAAAAAAAAAAAAAAAAAAAAAAAAAAAAAAAAAAAAAAAAAAAAAAAAAAAAAAAAAAAAAAAAAAAAAAAAAAAAAAAAAAAAAAAAAAAAAAAAAAAAAAAAAAAAAAAAAAAAAAAAAAAAAAAAAAAAAAAAAAAAAAAAAAAAAAAAAAAAAAAAAAAAAAAAAAAAAAAAAAAAAAAAAAAAAAAAAAAAAAAAAAAAAAAAAAAAAAAAAAAAAAAAAAAAAAAAAAAAAAAAAAAAAAAAAAAAAAAAAAAAAAAAAAAAAAAAAAAAAAAAAAAAAAAAAAAAAAAAAAAAAAAAAAAAAAAAAAAAAAAAAAAAAAAAAAAAAAAAAAAAAAAAAAAAAAAAAAAAAAAAAAAAAAAAAAAAAAAAAAAAAAAAAAAAAAAAAAAAAAAAAAAAAAAAAAAAAAAAAAAAAAAAAAAAAAAAAAAAAAAAAAAAAAAAAAAAAAAAAAAAAAAAAAAAAAAAAAAAAAAAAAAAAAAAAAAAAAAAAAAAAAAAAAAAAAAAAAAAAAAAAAAAAAAAAAAAAAAAAAAAAAAAAAAAAAAAAAAAAAAAAAAAAAAAAAAAAAAAAAAAAAAAAAAAAAAAAAAAAAAAAAAAAAAAAAAAAAAAAAAAAAAAAAAAAAAAAAAAAAAAAAAAAAAAAAAAAAAAAAAAAAAAAAAAAAAAAAAAAAAAAAAAAAAAAAAAAAAAAAAAAAAAAAAAAAAAAAAAAAAAAAAAAAAAAAAAAAAAAAAAAAAAAAAAAAAAAAAAAAAAAAAAAAAAAAAAAAAAAAAAAAAAAAAAAAAAAAAAAAAAAAAAAAAAAAAAAAAAAAAAAAAAAAAAAAAAAAAAAAAAAAAAAAAAAAAAAAAAAAAAAAAAAAAAAAAAAAAAAAAAAAAAAAAAAAAAAAAAAAAAAAAAAAAAAAAAAAAAAAAAAAAAAAAAAAAAAAAAAAAAAAAAAAAAAAAAAAAAAAAAAAAAAAAAAAAAAAAAAAAAAAAAAAAAAAAAAAAAAAAAAAAAAAAAAAAAAAAAAAAAAAAAAAAAAAAAAAAAAAAAAAAAAAAAAAAAAAAAAAAAAAAAAAAAAAAAAAAAAAAAAAAAAAAAAAAAAAAAAAAAAAAAAAAAAAAAAAAAAAAAAAAAAAAAAAAAAAAAAAAAAAAAAAAAAAAAAAAAAAAAAAAAAAAAAAAAAAAAAAAAAAAAAAAAAAAAAAAAAAAAAAAAAAAAAAAAAAAAAAAAAAAAAAAAAAAAAAAAAAAAAAAAAAAAAAAAAAAAAAAAAAAAAAAAAAAAAAAAAAAAAAAAAAAAAAAAAAAAAAAAAAAAAAAAAAAAAAAAAAAAAAAAAAAAAAAAAAAAAAAAAAAAAAAAAAAAAAAAAAAAAAAAAAAAAAAAAAAAAAAAAAAAAAAAAAAAAAAAAAAAAAAAAAAAAAAAAAAAAAAAAAAAAAAAAAAAAAAAAAAAAAAAAAAAAAAAAAAAAAAAAAAAAAAAAAAAAAAAAAAAAAAAAAAAAAAAAAAAAAAAAAAAAAAAAAAAAAAAAAAAAAAAAAAAAAAAAAAAAAAAAAAAAAAAAAAAAAAAAAAAAAAAAAAAAAAAAAAAAAAAAAAAAAAAAAAAAAAAAAAAAAAAAAAAAAAAAAAAAAAAAAAAAAAAAAAAAAAAAAAAAAAAAAAAAAAAAAAAAAAAAAAAAAAAAAAAAAAAAAAAAAAAAAAAAAAAAAAAAAAAAAAAAAAAAAAAAAAAAAAAAAAAAAAAAAAAAAAAAAAAAAAAAAAAAAAAAAAAAAAAAAAAAAAAAAAAAAAAAAAAAAAAAAAAAAAAAAAAAAAAAAAAAAAAAAAAAAAAAAAAAAAAAAAAAAAAAAAAAAAAAAAAAAAAAAAAAAAAAAAAAAAAAAAAAAAAAAAAAAAAAAAAAAAAAAAAAAAAAAAAAAAAAAAAAAAAAAAAAAAAAAAAAAAAAAAAAAAAAAAAAAAAAAAAAAAAAAAAAAAAAAAAAAAAAAAAAAAAAAAAAAAAAAAAAAAAAAAAAAAAAAAAAAAAAAAAAAAAAAAAAAAAAAAAAAAAAAAAAAAAAAAAAAAAAAAAAAAAAAAAAAAAAAAAAAAAAAAAAAAAAAAAAAAAAAAAAAAAAAAAAAAAAAAAAAAAAAAAAAAAAAAAAAAAAAAAAAAAAAAAAAAAAAAAAAAAAAAAAAAAAAAAAAAAAAAAAAAAAAAAAAAAAAAAAAAAAAAAAAAAAAAAAAAAAAAAAAAAAAAAAAAAAAAAAAAAAAAAAAAAAAAAAAAAAAAAAAAAAAAAAAAAAAAAAAAAAAAAAAAAAAAAAAAAAAAAAAAAAAAAAAAAAAAAAAAAAAAAAAAAAAAAAAAAAAAAAAAAAAAAAAAAAAAAAAAAAAAAAAAAAAAAAAAAAAAAAAAAAAAAAAAAAAAAAAAAAAAAAAAAAAAAAAAAAAAAAAAAAAAAAAAAAAAAAAAAAAAAAAAAAAAAAAAAAAAAAAAAAAAAAAAAAAAAAAAAAAAAAAAAAAAAAAAAAAAAAAAAAAAAAAAAAAAAAAAAAAAAAAAAAAAAAAAAAAAAAAAAAAAAAAAAAAAAAAAAAAAAAAAAAAAAAAAAAAAAAAAAAAAAAAAAAAAAAAAAAAAAAAAAAAAAAAAAAAAAAAAAAAAAAAAAAAAAAAAAAAAAAAAAAAAAAAAAAAAAAAAAAAAAAAAAAAAAAAAAAAAAAAAAAAAAAAAAAAAAAAAAAAAAAAAAAAAAAAAAAAAAAAAAAAAAAAAAAAAAAAAAAAAAAAAAAAAAAAAAAAAAAAAAAAAAAAAAAAAAAAAAAAAAAAAAAAAAAAAAAAAAAAAAAAAAAAAAAAAAAAAAAAAAAAAAAAAAAAAAAAAAAAAAAAAAAAAAAAAAAAAAAAAAAAAAAAAAAAAAAAAAAAAAAAAAAAAAAAAAAAAAAAAAAAAAAAAAAAAAAAAAAAAAAAAAAAAAAAAAAAAAAAAAAAAAAAAAAAAAAAAAAAAAAAAAAAAAAAAAAAAAAAAAAAAAAAAAAAAAAAAAAAAAAAAAAAAAAAAAAAAAAAAAAAAAAAAAAAAAAAAAAAAAAAAAAAAAAAAAAAAAAAAAAAAAAAAAAAAAAAAAAAAAAAAAAAAAAAAAAAAAAAAAAAAAAAAAAAAAAAAAAAAAAAAAAAAAAAAAAAAAAAAAAAAAAAAAAAAAAAAAAAAAAAAAAAAAAAAAAAAAAAAAAAAAAAAAAAAAAAAAAAAAAAAAAAAAAAAAAAAAAAAAAAAAAAAAAAAAAAAAAAAAAAAAAAAAAAAAAAAAAAAAAAAAAAAAAAAAAAAAAAAAAAAAAAAAAAAAAAAAAAAAAAAAAAAAAAAAAAAAAAAAAAAAAAAAAAAAAAAAAAAAAAAAAAAAAAAAAAAAAAAAAAAAAAAAAAAAAAAAAAAAAAAAAAAAAAAAAAAAAAAAAAAAAAAAAAAAAAAAAAAAAAAAAAAAAAAAAAAAAAAAAAAAAAAAAAAAAAAAAAAAAAAAAAAAAAAAAAAAAAAAAAAAAAAAAAAAAAAAAAAAAAAAAAAAAAAAAAAAAAAAAAAAAAAAAAAAAAAAAAAAAAAAAAAAAAAAAAAAAAAAAAAAAAAAAAAAAAAAAAAAAAAAAAAAAAAAAAAAAAAAAAAAAAAAAAAAAAAAAAAAAAAAAAAAAAAAAAAAAAAAAAAAAAAAAAAAAAAAAAAAAAAAAAAAAAAAAAAAAAAAAAAAAAAAAAAAAAAAAAAAAAAAAAAAAAAAAAAAAAAAAAAAAAAAAAAAAAAAAAAAAAAAAAAAAAAAAAAAAAAAAAAAAAAAAAAAAAAAAAAAAAAAAAAAAAAAAAAAAAAAAAAAAAAAAAAAAAAAAAAAAAAAAAAAAAAAAAAAAAAAAAAAAAAAAAAAAAAAAAAAAAAAAAAAAAAAAAAAAAAAAAAAAAAAAAAAAAAAAAAAAAAAAAAAAAAAAAAAAAAAAAAAAAAAAAAAAAAAAAAAAAAAAAAAAAAAAAAAAAAAAAAAAAAAAAAAAAAAAAAAAAAAAAAAAAAAAAAAAAAAAAAAAAAAAAAAAAAAAAAAAAAAAAAAAAAAAAAAAAAAAAAAAAAAAAAAAAAAAAAAAAAAAAAAAAAAAAAAAAAAAAAAAAAAAAAAAAAAAAAAAAAAAAAAAAAAAAAAAAAAAAAAAAAAAAAAAAAAAAAAAAAAAAAAAAAAAAAAAAAAAAAAAAAAAAAAAAAAAAAAAAAAAAAAAAAAAAAAAAAAAAAAAAAAAAAAAAAAAAAAAAAAAAAAAAAAAAAAAAAAAAAAAAAAAAAAAAAAAAAAAAAAAAAAAAAAAAAAAAAAAAAAAAAAAAAAAAAAAAAAAAAAAAAAAAAAAAAAAAAAAAAAAAAAAAAAAAAAAAAAAAAAAAAAAAAAAAAAAAAAAAAAAAAAAAAAAAAAAAAAAAAAAAAAAAAAAAAAAAAAAAAAAAAAAAAAAAAAAAAAAAAAAAAAAAAAAAAAAAAAAAAAAAAAAAAAAAAAAAAAAAAAAAAAAAAAAAAAAAAAAAAAAAAAAAAAAAAAAAAAAAAAAAAAAAAAAAAAAAAAAAAAAAAAAAAAAAAAAAAAAAAAAAAAAAAAAAAAAAAAAAAAAAAAAAAAAAAAAAAAAAAAAAAAAAAAAAAAAAAAAAAAAAAAAAAAAAAAAAAAAAAAAAAAAAAAAAAAAAAAAAAAAAAAAAAAAAAAAAAAAAAAAAAAAAAAAAAAAAAAAAAAAAAAAAAAAAAAAAAAAAAAAAAAAAAAAAAAAAAAAAAAAAAAAAAAAAAAAAAAAAAAAAAAAAAAAAAAAAAAAAAAAAAAAAAAAAAAAAAAAAAAAAAAAAAAAAAAAAAAAAAAAAAAAAAAAAAAAAAAAAAAAAAAAAAAAAAAAAAAAAAAAAAAAAAAAAAAAAAAAAAAAAAAAAAAAAAAAAAAAAAAAAAAAAAAAAAAAAAAAAAAAAAAAAAAAAAAAAAAAAAAAAAAAAAAAAAAAAAAAAAAAAAAAAAAAAAAAAAAAAAAAAAAAAAAAAAAAAAAAAAAAAAAAAAAAAAAAAAAAAAAAAAAAAAAAAAAAAAAAAAAAAAAAAAAAAAAAAAAAAAAAAAAAAAAAAAAAAAAAAAAAAAAAAAAAAAAAAAAAAAAAAAAAAAAAAAAAAAAAAAAAAAAAAAAAAAAAAAAAAAAAAAAAAAAAAAAAAAAAAAAAAAAAAAAAAAAAAAAAAAAAAAAAAAAAAAAAAAAAAAAAAAAAAAAAAAAAAAAAAAAAAAAAAAAAAAAAAAAAAAAAAAAAAAAAAAAAAAAAAAAAAAAAAAAAAAAAAAAAAAAAAAAAAAAAAAAAAAAAAAAAAAAAAAAAAAAAAAAAAAAAAAAAAAAAAAAAAAAAAAAAAAAAAAAAAAAAAAAAAAAAAAAAAAAAAAAAAAAAAAAAAAAAAAAAAAAAAAAAAAAAAAAAAAAAAAAAAAAAAAAAAAAAAAAAAAAAAAAAAAAAAAAAAAAAAAAAAAAAAAAAAAAAAAAAAAAAAAAAAAAAAAAAAAAAAAAAAAAAAAAAAAAAAAAAAAAAAAAAAAAAAAAAAAAAAAAAAAAAAAAAAAAAAAAAAAAAAAAAAAAAAAAAAAAAAAAAAAAAAAAAAAAAAAAAAAAAAAAAAAAAAAAAAAAAAAAAAAAAAAAAAAAAAAAAAAAAAAAAAAAAAAAAAAAAAAAAAAAAAAAAAAAAAAAAAAAAAAAAAAAAAAAAAAAAAAAAAAAAAAAAAAAAAAAAAAAAAAAAAAAAAAAAAAAAAAAAAAAAAAAAAAAAAAAAAAAAAAAAAAAAAAAAAAAAAAAAAAAAAAAAAAAAAAAAAAAAAAAAAAAAAAAAAAAAAAAAAAAAAAAAAAAAAAAAAAAAAAAAAAAAAAAAAAAAAAAAAAAAAAAAAAAAAAAAAAAAAAAAAAAAAAAAAAAAAAAAAAAAAAAAAAAAAAAAAAAAAAAAAAAAAAAAAAAAAAAAAAAAAAAAAAAAAAAAAAAAAAAAAAAAAAAAAAAAAAAAAAAAAAAAAAAAAAAAAAAAAAAAAAAAAAAAAAAAAAAAAAAAAAAAAAAAAAAAAAAAAAAAAAAAAAAAAAAAAAAAAAAAAAAAAAAAAAAAAAAAAAAAAAAAAAAAAAAAAAAAAAAAAAAAAAAAAAAAAAAAAAAAAAAAAAAAAAAAAAAAAAAAAAAAAAAAAAAAAAAAAAAAAAAAAAAAAAAAAAAAAAAAAAAAAAAAAAAAAAAAAAAAAAAAAAAAAAAAAAAAAAAAAAAAAAAAAAAAAAAAAAAAAAAAAAAAAAAAAAAAAAAAAAAAAAAAAAAAAAAAAAAAAAAAAAAAAAAAAAAAAAAAAAAAAAAAAAAAAAAAAAAAAAAAAAAAAAAAAAAAAAAAAAAAAAAAAAAAAAAAAAAAAAAAAAAAAAAAAAAAAAAAAAAAAAAAAAAAAAAAAAAAAAAAAAAAAAAAAAAAAAAAAAAAAAAAAAAAAAAAAAAAAAAAAAAAAAAAAAAAAAAAAAAAAAAAAAAAAAAAAAAAAAAAAAAAAAAAAAAAAAAAAAAAAAAAAAAAAAAAAAAAAAAAAAAAAAAAAAAAAAAAAAAAAAAAAAAAAAAAAAAAAAAAAAAAAAAAAAAAAAAAAAAAAAAAAAAAAAAAAAAAAAAAAAAAAAAAAAAAAAAAAAAAAAAAAAAAAAAAAAAAAAAAAAAAAAAAAAAAAAAAAAAAAAAAAAAAAAAAAAAAAAAAAAAAAAAAAAAAAAAAAAAAAAAAAAAAAAAAAAAAAAAAAAAAAAAAAAAAAAAAAAAAAAAAAAAAAAAAAAAAAAAAAAAAAAAAAAAAAAAAAAAAAAAAAAAAAAAAAAAAAAAAAAAAAAAAAAAAAAAAAAAAAAAAAAAAAAAAAAAAAAAAAAAAAAAAAAAAAAAAAAAAAAAAAAAAAAAAAAAAAAAAAAAAAAAAAAAAAAAAAAAAAAAAAAAAAAAAAAAAAAAAAAAAAAAAAAAAAAAAAAAAAAAAAAAAAAAAAAAAAAAAAAAAAAAAAAAAAAAAAAAAAAAAAAAAAAAAAAAAAAAAAAAAAAAAAAAAAAAAAAAAAAAAAAAAAAAAAAAAAAAAAAAAAAAAAAAAAAAAAAAAAAAAAAAAAAAAAAAAAAAAAAAAAAAAAAAAAAAAAAAAAAAAAAAAAAAAAAAAAAAAAAAAAAAAAAAAAAAAAAAAAAAAAAAAAAAAAAAAAAAAAAAAAAAAAAAAAAAAAAAAAAAAAAAAAAAAAAAAAAAAAAAAAAAAAAAAAAAAAAAAAAAAAAAAAAAAAAAAAAAAAAAAAAAAAAAAAAAAAAAAAAAAAAAAAAAAAAAAAAAAAAAAAAAAAAAAAAAAAAAAAAAAAAAAAAAAA\" type=\"audio/wav\" />\n",
       "                    Your browser does not support the audio element.\n",
       "                </audio>\n",
       "              "
      ],
      "text/plain": [
       "<IPython.lib.display.Audio object>"
      ]
     },
     "execution_count": 49,
     "metadata": {},
     "output_type": "execute_result"
    }
   ],
   "source": [
    "ipd.Audio(tes, rate = sr)"
   ]
  }
 ],
 "metadata": {
  "kernelspec": {
   "display_name": "Python 3 (ipykernel)",
   "language": "python",
   "name": "python3"
  },
  "language_info": {
   "codemirror_mode": {
    "name": "ipython",
    "version": 3
   },
   "file_extension": ".py",
   "mimetype": "text/x-python",
   "name": "python",
   "nbconvert_exporter": "python",
   "pygments_lexer": "ipython3",
   "version": "3.10.12"
  }
 },
 "nbformat": 4,
 "nbformat_minor": 5
}
